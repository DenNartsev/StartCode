{
 "cells": [
  {
   "cell_type": "code",
   "execution_count": 1,
   "metadata": {},
   "outputs": [
    {
     "name": "stderr",
     "output_type": "stream",
     "text": [
      "Using TensorFlow backend.\n"
     ]
    }
   ],
   "source": [
    "import pickle\n",
    "import keras\n",
    "import numpy as np\n",
    "import matplotlib.pyplot as plt\n",
    "import tensorflow as tf\n",
    "from mpl_toolkits.mplot3d import Axes3D\n",
    "from skimage import transform\n",
    "from sklearn.metrics import accuracy_score\n",
    "from keras import backend as K\n",
    "\n",
    "plt.rcParams['image.cmap'] = 'viridis'\n",
    "plt.rcParams['axes.grid'] = False\n",
    "plt.rcParams['figure.figsize'] = (7, 4)\n",
    "plt.rcParams['font.family'] = 'serif'\n",
    "plt.rcParams['font.serif'] = 'FreeSerif'\n",
    "plt.rcParams['lines.linewidth'] = 1.4\n",
    "plt.rcParams['lines.markersize'] = 8\n",
    "plt.rcParams['xtick.labelsize'] = 16\n",
    "plt.rcParams['ytick.labelsize'] = 16\n",
    "plt.rcParams['legend.fontsize'] = 16\n",
    "plt.rcParams['axes.titlesize'] = 22\n",
    "plt.rcParams['axes.labelsize'] = 16"
   ]
  },
  {
   "cell_type": "code",
   "execution_count": 2,
   "metadata": {},
   "outputs": [],
   "source": [
    "from keras.datasets import fashion_mnist\n",
    "\n",
    "(x_train, y_train), (x_test, y_test) = fashion_mnist.load_data()\n",
    "x_train = x_train.astype('float32') / 255\n",
    "x_test = x_test.astype('float32') / 255\n",
    "\n",
    "# Split train / validation\n",
    "n = x_train.shape[0]\n",
    "ind = np.random.permutation(n)\n",
    "c = 0.9\n",
    "n_train = int(c*n)\n",
    "train_ind = ind[:n_train]\n",
    "valid_ind = ind[n_train:]\n",
    "\n",
    "x_valid = x_train[valid_ind]\n",
    "y_valid = y_train[valid_ind]\n",
    "x_train = x_train[train_ind]\n",
    "y_train = y_train[train_ind]"
   ]
  },
  {
   "cell_type": "code",
   "execution_count": 3,
   "metadata": {},
   "outputs": [
    {
     "name": "stdout",
     "output_type": "stream",
     "text": [
      "_________________________________________________________________\n",
      "Layer (type)                 Output Shape              Param #   \n",
      "=================================================================\n",
      "conv2d_1 (Conv2D)            (None, 28, 28, 64)        320       \n",
      "_________________________________________________________________\n",
      "max_pooling2d_1 (MaxPooling2 (None, 14, 14, 64)        0         \n",
      "_________________________________________________________________\n",
      "dropout_1 (Dropout)          (None, 14, 14, 64)        0         \n",
      "_________________________________________________________________\n",
      "conv2d_2 (Conv2D)            (None, 14, 14, 32)        8224      \n",
      "_________________________________________________________________\n",
      "max_pooling2d_2 (MaxPooling2 (None, 7, 7, 32)          0         \n",
      "_________________________________________________________________\n",
      "dropout_2 (Dropout)          (None, 7, 7, 32)          0         \n",
      "_________________________________________________________________\n",
      "flatten_1 (Flatten)          (None, 1568)              0         \n",
      "_________________________________________________________________\n",
      "dense_1 (Dense)              (None, 256)               401664    \n",
      "_________________________________________________________________\n",
      "dropout_3 (Dropout)          (None, 256)               0         \n",
      "_________________________________________________________________\n",
      "dense_2 (Dense)              (None, 10)                2570      \n",
      "=================================================================\n",
      "Total params: 412,778\n",
      "Trainable params: 412,778\n",
      "Non-trainable params: 0\n",
      "_________________________________________________________________\n"
     ]
    }
   ],
   "source": [
    "model = keras.Sequential()\n",
    "\n",
    "model.add(keras.layers.Conv2D(filters=64, kernel_size=2, padding='same', activation='relu', input_shape=(28,28,1))) \n",
    "model.add(keras.layers.MaxPooling2D(pool_size=2))\n",
    "model.add(keras.layers.Dropout(0.3))\n",
    "\n",
    "model.add(keras.layers.Conv2D(filters=32, kernel_size=2, padding='same', activation='relu'))\n",
    "model.add(keras.layers.MaxPooling2D(pool_size=2))\n",
    "model.add(keras.layers.Dropout(0.3))\n",
    "\n",
    "model.add(keras.layers.Flatten())\n",
    "model.add(keras.layers.Dense(256, activation='relu'))\n",
    "model.add(keras.layers.Dropout(0.5))\n",
    "model.add(keras.layers.Dense(10, activation='softmax'))\n",
    "\n",
    "model.compile(loss='categorical_crossentropy',\n",
    "             optimizer='adam',\n",
    "             metrics=['accuracy'])\n",
    "\n",
    "model.summary()"
   ]
  },
  {
   "cell_type": "code",
   "execution_count": 4,
   "metadata": {},
   "outputs": [
    {
     "name": "stdout",
     "output_type": "stream",
     "text": [
      "Train on 54000 samples, validate on 6000 samples\n",
      "Epoch 1/10\n",
      "54000/54000 [==============================] - 151s 3ms/step - loss: 0.5937 - acc: 0.7804 - val_loss: 0.3889 - val_acc: 0.8545\n",
      "Epoch 2/10\n",
      "54000/54000 [==============================] - 16s 300us/step - loss: 0.4053 - acc: 0.8536 - val_loss: 0.3262 - val_acc: 0.8813\n",
      "Epoch 3/10\n",
      "54000/54000 [==============================] - 16s 301us/step - loss: 0.3615 - acc: 0.8668 - val_loss: 0.2992 - val_acc: 0.8898\n",
      "Epoch 4/10\n",
      "54000/54000 [==============================] - 16s 301us/step - loss: 0.3369 - acc: 0.8760 - val_loss: 0.2776 - val_acc: 0.8962\n",
      "Epoch 5/10\n",
      "54000/54000 [==============================] - 16s 301us/step - loss: 0.3220 - acc: 0.8809 - val_loss: 0.2622 - val_acc: 0.9013\n",
      "Epoch 6/10\n",
      "54000/54000 [==============================] - 16s 301us/step - loss: 0.3054 - acc: 0.8872 - val_loss: 0.2485 - val_acc: 0.9062\n",
      "Epoch 7/10\n",
      "54000/54000 [==============================] - 16s 302us/step - loss: 0.2949 - acc: 0.8919 - val_loss: 0.2454 - val_acc: 0.9092\n",
      "Epoch 8/10\n",
      "54000/54000 [==============================] - 16s 301us/step - loss: 0.2817 - acc: 0.8947 - val_loss: 0.2352 - val_acc: 0.9103\n",
      "Epoch 9/10\n",
      "54000/54000 [==============================] - 16s 303us/step - loss: 0.2747 - acc: 0.8991 - val_loss: 0.2363 - val_acc: 0.9102\n",
      "Epoch 10/10\n",
      "54000/54000 [==============================] - 16s 302us/step - loss: 0.2670 - acc: 0.9019 - val_loss: 0.2327 - val_acc: 0.9125\n"
     ]
    }
   ],
   "source": [
    "history = model.fit(np.expand_dims(x_train, 3), \n",
    "                    keras.utils.to_categorical(y_train), \n",
    "                    batch_size=64, epochs=10,\n",
    "                    validation_data=(np.expand_dims(x_valid, 3), \n",
    "                                     keras.utils.to_categorical(y_valid)))"
   ]
  },
  {
   "cell_type": "code",
   "execution_count": 16,
   "metadata": {},
   "outputs": [
    {
     "data": {
      "text/plain": [
       "[<matplotlib.lines.Line2D at 0x7fbdfdbbbdd8>]"
      ]
     },
     "execution_count": 16,
     "metadata": {},
     "output_type": "execute_result"
    },
    {
     "data": {
      "image/png": "[encoded data removed]",
      "text/plain": [
       "<Figure size 432x288 with 1 Axes>"
      ]
     },
     "metadata": {
      "needs_background": "light"
     },
     "output_type": "display_data"
    }
   ],
   "source": [
    "plt.plot(history.history['loss'])"
   ]
  },
  {
   "cell_type": "code",
   "execution_count": 17,
   "metadata": {},
   "outputs": [],
   "source": [
    "from keras.datasets import fashion_mnist\n",
    "\n",
    "(x_train, y_train), (x_test, y_test) = fashion_mnist.load_data()\n",
    "x_train = x_train.astype('float32') / 255\n",
    "x_test = x_test.astype('float32') / 255\n",
    "\n",
    "# Split train / validation\n",
    "n = x_train.shape[0]\n",
    "ind = np.random.permutation(n)\n",
    "c = 0.6\n",
    "n_train = int(c*n)\n",
    "train_ind = ind[:n_train]\n",
    "valid_ind = ind[n_train:]\n",
    "\n",
    "x_valid = x_train[valid_ind]\n",
    "y_valid = y_train[valid_ind]\n",
    "x_train = x_train[train_ind]\n",
    "y_train = y_train[train_ind]"
   ]
  },
  {
   "cell_type": "code",
   "execution_count": 19,
   "metadata": {},
   "outputs": [],
   "source": [
    "model = keras.Sequential()\n",
    "\n",
    "model.add(keras.layers.Conv2D(filters=64, kernel_size=2, padding='same', activation='relu', input_shape=(28,28,1))) \n",
    "model.add(keras.layers.MaxPooling2D(pool_size=2))\n",
    "model.add(keras.layers.Dropout(0.3))\n",
    "\n",
    "model.add(keras.layers.Conv2D(filters=32, kernel_size=2, padding='same', activation='relu'))\n",
    "model.add(keras.layers.MaxPooling2D(pool_size=2))\n",
    "model.add(keras.layers.Dropout(0.3))\n",
    "\n",
    "model.add(keras.layers.Flatten())\n",
    "model.add(keras.layers.Dense(256, activation='relu'))\n",
    "model.add(keras.layers.Dropout(0.5))\n",
    "model.add(keras.layers.Dense(10, activation='softmax'))\n",
    "\n",
    "model.compile(loss='categorical_crossentropy',\n",
    "             optimizer='adam',\n",
    "             metrics=['accuracy'])"
   ]
  },
  {
   "cell_type": "code",
   "execution_count": 20,
   "metadata": {},
   "outputs": [
    {
     "name": "stdout",
     "output_type": "stream",
     "text": [
      "Train on 36000 samples, validate on 24000 samples\n",
      "Epoch 1/10\n",
      "36000/36000 [==============================] - 13s 366us/step - loss: 0.6907 - acc: 0.7431 - val_loss: 0.4338 - val_acc: 0.8423\n",
      "Epoch 2/10\n",
      "36000/36000 [==============================] - 13s 357us/step - loss: 0.4564 - acc: 0.8354 - val_loss: 0.3575 - val_acc: 0.8744\n",
      "Epoch 3/10\n",
      "36000/36000 [==============================] - 13s 355us/step - loss: 0.4053 - acc: 0.8535 - val_loss: 0.3326 - val_acc: 0.8806\n",
      "Epoch 4/10\n",
      "36000/36000 [==============================] - 13s 354us/step - loss: 0.3717 - acc: 0.8636 - val_loss: 0.3116 - val_acc: 0.8882\n",
      "Epoch 5/10\n",
      "36000/36000 [==============================] - 13s 357us/step - loss: 0.3483 - acc: 0.8728 - val_loss: 0.2959 - val_acc: 0.8918\n",
      "Epoch 6/10\n",
      "36000/36000 [==============================] - 13s 354us/step - loss: 0.3290 - acc: 0.8786 - val_loss: 0.2796 - val_acc: 0.8981\n",
      "Epoch 7/10\n",
      "36000/36000 [==============================] - 13s 356us/step - loss: 0.3146 - acc: 0.8846 - val_loss: 0.2799 - val_acc: 0.8959\n",
      "Epoch 8/10\n",
      "36000/36000 [==============================] - 13s 357us/step - loss: 0.3040 - acc: 0.8881 - val_loss: 0.2697 - val_acc: 0.9002\n",
      "Epoch 9/10\n",
      "36000/36000 [==============================] - 13s 359us/step - loss: 0.2926 - acc: 0.8927 - val_loss: 0.2569 - val_acc: 0.9066\n",
      "Epoch 10/10\n",
      "36000/36000 [==============================] - 13s 356us/step - loss: 0.2826 - acc: 0.8951 - val_loss: 0.2567 - val_acc: 0.9053\n"
     ]
    }
   ],
   "source": [
    "history = model.fit(np.expand_dims(x_train, 3), \n",
    "                    keras.utils.to_categorical(y_train), \n",
    "                    batch_size=64, epochs=10,\n",
    "                    validation_data=(np.expand_dims(x_valid, 3), \n",
    "                                     keras.utils.to_categorical(y_valid)))"
   ]
  },
  {
   "cell_type": "code",
   "execution_count": 25,
   "metadata": {},
   "outputs": [
    {
     "data": {
      "text/plain": [
       "[<matplotlib.lines.Line2D at 0x7fbe0b606be0>]"
      ]
     },
     "execution_count": 25,
     "metadata": {},
     "output_type": "execute_result"
    },
    {
     "data": {
      "image/png": "[encoded data removed]",
      "text/plain": [
       "<Figure size 432x288 with 1 Axes>"
      ]
     },
     "metadata": {
      "needs_background": "light"
     },
     "output_type": "display_data"
    }
   ],
   "source": [
    "plt.plot(history.history['loss'])"
   ]
  },
  {
   "cell_type": "code",
   "execution_count": 26,
   "metadata": {},
   "outputs": [],
   "source": [
    "from keras.datasets import fashion_mnist\n",
    "\n",
    "(x_train, y_train), (x_test, y_test) = fashion_mnist.load_data()\n",
    "x_train = x_train.astype('float32') / 255\n",
    "x_test = x_test.astype('float32') / 255\n",
    "\n",
    "# Split train / validation\n",
    "n = x_train.shape[0]\n",
    "ind = np.random.permutation(n)\n",
    "c = 0.9\n",
    "n_train = int(c*n)\n",
    "train_ind = ind[:n_train]\n",
    "valid_ind = ind[n_train:]\n",
    "\n",
    "x_valid = x_train[valid_ind]\n",
    "y_valid = y_train[valid_ind]\n",
    "x_train = x_train[train_ind]\n",
    "y_train = y_train[train_ind]"
   ]
  },
  {
   "cell_type": "code",
   "execution_count": 28,
   "metadata": {},
   "outputs": [],
   "source": [
    "noise = np.random.normal(loc=0, scale=0.1, size=x_train.shape)\n",
    "x_train += noise"
   ]
  },
  {
   "cell_type": "code",
   "execution_count": 29,
   "metadata": {},
   "outputs": [],
   "source": [
    "model = keras.Sequential()\n",
    "\n",
    "model.add(keras.layers.Conv2D(filters=64, kernel_size=2, padding='same', activation='relu', input_shape=(28,28,1))) \n",
    "model.add(keras.layers.MaxPooling2D(pool_size=2))\n",
    "model.add(keras.layers.Dropout(0.3))\n",
    "\n",
    "model.add(keras.layers.Conv2D(filters=32, kernel_size=2, padding='same', activation='relu'))\n",
    "model.add(keras.layers.MaxPooling2D(pool_size=2))\n",
    "model.add(keras.layers.Dropout(0.3))\n",
    "\n",
    "model.add(keras.layers.Flatten())\n",
    "model.add(keras.layers.Dense(256, activation='relu'))\n",
    "model.add(keras.layers.Dropout(0.5))\n",
    "model.add(keras.layers.Dense(10, activation='softmax'))\n",
    "\n",
    "model.compile(loss='categorical_crossentropy',\n",
    "             optimizer='adam',\n",
    "             metrics=['accuracy'])"
   ]
  },
  {
   "cell_type": "code",
   "execution_count": 30,
   "metadata": {},
   "outputs": [
    {
     "name": "stdout",
     "output_type": "stream",
     "text": [
      "Train on 54000 samples, validate on 6000 samples\n",
      "Epoch 1/10\n",
      "54000/54000 [==============================] - 17s 311us/step - loss: 0.6315 - acc: 0.7661 - val_loss: 0.4191 - val_acc: 0.8543\n",
      "Epoch 2/10\n",
      "54000/54000 [==============================] - 16s 303us/step - loss: 0.4489 - acc: 0.8344 - val_loss: 0.3702 - val_acc: 0.8722\n",
      "Epoch 3/10\n",
      "54000/54000 [==============================] - 16s 303us/step - loss: 0.4062 - acc: 0.8528 - val_loss: 0.3358 - val_acc: 0.8765\n",
      "Epoch 4/10\n",
      "54000/54000 [==============================] - 16s 303us/step - loss: 0.3798 - acc: 0.8596 - val_loss: 0.3111 - val_acc: 0.8833\n",
      "Epoch 5/10\n",
      "54000/54000 [==============================] - 16s 304us/step - loss: 0.3651 - acc: 0.8656 - val_loss: 0.3125 - val_acc: 0.8900\n",
      "Epoch 6/10\n",
      "54000/54000 [==============================] - 16s 303us/step - loss: 0.3470 - acc: 0.8701 - val_loss: 0.3030 - val_acc: 0.8928\n",
      "Epoch 7/10\n",
      "54000/54000 [==============================] - 16s 304us/step - loss: 0.3376 - acc: 0.8735 - val_loss: 0.2978 - val_acc: 0.8910\n",
      "Epoch 8/10\n",
      "54000/54000 [==============================] - 16s 305us/step - loss: 0.3297 - acc: 0.8766 - val_loss: 0.2831 - val_acc: 0.8923\n",
      "Epoch 9/10\n",
      "54000/54000 [==============================] - 16s 304us/step - loss: 0.3189 - acc: 0.8814 - val_loss: 0.2896 - val_acc: 0.8898\n",
      "Epoch 10/10\n",
      "54000/54000 [==============================] - 16s 305us/step - loss: 0.3118 - acc: 0.8849 - val_loss: 0.2750 - val_acc: 0.8983\n"
     ]
    }
   ],
   "source": [
    "history = model.fit(np.expand_dims(x_train, 3), \n",
    "                    keras.utils.to_categorical(y_train), \n",
    "                    batch_size=64, epochs=10,\n",
    "                    validation_data=(np.expand_dims(x_valid, 3), \n",
    "                                     keras.utils.to_categorical(y_valid)))"
   ]
  },
  {
   "cell_type": "code",
   "execution_count": 31,
   "metadata": {},
   "outputs": [
    {
     "data": {
      "text/plain": [
       "[<matplotlib.lines.Line2D at 0x7fbe0afcfef0>]"
      ]
     },
     "execution_count": 31,
     "metadata": {},
     "output_type": "execute_result"
    },
    {
     "data": {
      "image/png": "[encoded data removed]",
      "text/plain": [
       "<Figure size 432x288 with 1 Axes>"
      ]
     },
     "metadata": {
      "needs_background": "light"
     },
     "output_type": "display_data"
    }
   ],
   "source": [
    "plt.plot(history.history['loss'])"
   ]
  },
  {
   "cell_type": "code",
   "execution_count": 32,
   "metadata": {},
   "outputs": [],
   "source": [
    "from keras.datasets import fashion_mnist\n",
    "\n",
    "(x_train, y_train), (x_test, y_test) = fashion_mnist.load_data()\n",
    "x_train = x_train.astype('float32') / 255\n",
    "x_test = x_test.astype('float32') / 255\n",
    "\n",
    "# Split train / validation\n",
    "n = x_train.shape[0]\n",
    "ind = np.random.permutation(n)\n",
    "c = 0.9\n",
    "n_train = int(c*n)\n",
    "train_ind = ind[:n_train]\n",
    "valid_ind = ind[n_train:]\n",
    "\n",
    "x_valid = x_train[valid_ind]\n",
    "y_valid = y_train[valid_ind]\n",
    "x_train = x_train[train_ind]\n",
    "y_train = y_train[train_ind]"
   ]
  },
  {
   "cell_type": "code",
   "execution_count": 33,
   "metadata": {},
   "outputs": [],
   "source": [
    "noise = np.random.normal(loc=0, scale=0.5, size=x_train.shape)\n",
    "x_train += noise"
   ]
  },
  {
   "cell_type": "code",
   "execution_count": 34,
   "metadata": {},
   "outputs": [],
   "source": [
    "model = keras.Sequential()\n",
    "\n",
    "model.add(keras.layers.Conv2D(filters=64, kernel_size=2, padding='same', activation='relu', input_shape=(28,28,1))) \n",
    "model.add(keras.layers.MaxPooling2D(pool_size=2))\n",
    "model.add(keras.layers.Dropout(0.3))\n",
    "\n",
    "model.add(keras.layers.Conv2D(filters=32, kernel_size=2, padding='same', activation='relu'))\n",
    "model.add(keras.layers.MaxPooling2D(pool_size=2))\n",
    "model.add(keras.layers.Dropout(0.3))\n",
    "\n",
    "model.add(keras.layers.Flatten())\n",
    "model.add(keras.layers.Dense(256, activation='relu'))\n",
    "model.add(keras.layers.Dropout(0.5))\n",
    "model.add(keras.layers.Dense(10, activation='softmax'))\n",
    "\n",
    "model.compile(loss='categorical_crossentropy',\n",
    "             optimizer='adam',\n",
    "             metrics=['accuracy'])"
   ]
  },
  {
   "cell_type": "code",
   "execution_count": 35,
   "metadata": {},
   "outputs": [
    {
     "name": "stdout",
     "output_type": "stream",
     "text": [
      "Train on 54000 samples, validate on 6000 samples\n",
      "Epoch 1/10\n",
      "54000/54000 [==============================] - 17s 313us/step - loss: 0.8410 - acc: 0.6830 - val_loss: 0.6860 - val_acc: 0.7767\n",
      "Epoch 2/10\n",
      "54000/54000 [==============================] - 16s 303us/step - loss: 0.6644 - acc: 0.7473 - val_loss: 0.5990 - val_acc: 0.7898\n",
      "Epoch 3/10\n",
      "54000/54000 [==============================] - 16s 303us/step - loss: 0.6225 - acc: 0.7625 - val_loss: 0.6052 - val_acc: 0.8115\n",
      "Epoch 4/10\n",
      "54000/54000 [==============================] - 16s 303us/step - loss: 0.6005 - acc: 0.7724 - val_loss: 0.5853 - val_acc: 0.8150\n",
      "Epoch 5/10\n",
      "54000/54000 [==============================] - 16s 303us/step - loss: 0.5839 - acc: 0.7762 - val_loss: 0.5750 - val_acc: 0.8257\n",
      "Epoch 6/10\n",
      "54000/54000 [==============================] - 16s 303us/step - loss: 0.5689 - acc: 0.7842 - val_loss: 0.5486 - val_acc: 0.8242\n",
      "Epoch 7/10\n",
      "54000/54000 [==============================] - 16s 303us/step - loss: 0.5595 - acc: 0.7867 - val_loss: 0.5846 - val_acc: 0.8182\n",
      "Epoch 8/10\n",
      "54000/54000 [==============================] - 16s 303us/step - loss: 0.5520 - acc: 0.7887 - val_loss: 0.5834 - val_acc: 0.8148\n",
      "Epoch 9/10\n",
      "54000/54000 [==============================] - 16s 304us/step - loss: 0.5399 - acc: 0.7922 - val_loss: 0.5390 - val_acc: 0.8210\n",
      "Epoch 10/10\n",
      "54000/54000 [==============================] - 16s 303us/step - loss: 0.5342 - acc: 0.7946 - val_loss: 0.5271 - val_acc: 0.8390\n"
     ]
    }
   ],
   "source": [
    "history = model.fit(np.expand_dims(x_train, 3), \n",
    "                    keras.utils.to_categorical(y_train), \n",
    "                    batch_size=64, epochs=10,\n",
    "                    validation_data=(np.expand_dims(x_valid, 3), \n",
    "                                     keras.utils.to_categorical(y_valid)))"
   ]
  },
  {
   "cell_type": "code",
   "execution_count": 36,
   "metadata": {},
   "outputs": [
    {
     "data": {
      "text/plain": [
       "[<matplotlib.lines.Line2D at 0x7fbe0b03dd30>]"
      ]
     },
     "execution_count": 36,
     "metadata": {},
     "output_type": "execute_result"
    },
    {
     "data": {
      "image/png": "[encoded data removed]",
      "text/plain": [
       "<Figure size 432x288 with 1 Axes>"
      ]
     },
     "metadata": {
      "needs_background": "light"
     },
     "output_type": "display_data"
    }
   ],
   "source": [
    "plt.plot(history.history['loss'])"
   ]
  }
 ],
 "metadata": {
  "kernelspec": {
   "display_name": "Python 3",
   "language": "python",
   "name": "python3"
  },
  "language_info": {
   "codemirror_mode": {
    "name": "ipython",
    "version": 3
   },
   "file_extension": ".py",
   "mimetype": "text/x-python",
   "name": "python",
   "nbconvert_exporter": "python",
   "pygments_lexer": "ipython3",
   "version": "3.7.0"
  },
  "toc": {
   "nav_menu": {},
   "number_sections": true,
   "sideBar": true,
   "skip_h1_title": false,
   "title_cell": "Table of Contents",
   "title_sidebar": "Contents",
   "toc_cell": false,
   "toc_position": {},
   "toc_section_display": true,
   "toc_window_display": false
  }
 },
 "nbformat": 4,
 "nbformat_minor": 2
}
