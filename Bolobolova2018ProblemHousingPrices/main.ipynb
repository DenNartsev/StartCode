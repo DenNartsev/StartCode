{
 "cells": [
  {
   "cell_type": "code",
   "execution_count": 1,
   "metadata": {
    "collapsed": true
   },
   "outputs": [],
   "source": [
    "import numpy as np\n",
    "import matplotlib.pyplot as plt\n",
    "from skimage import transform\n",
    "import pandas as pd\n",
    "import statistics as stat\n",
    "%matplotlib inline"
   ]
  },
  {
   "cell_type": "code",
   "execution_count": 2,
   "metadata": {},
   "outputs": [
    {
     "name": "stderr",
     "output_type": "stream",
     "text": [
      "Using TensorFlow backend.\n"
     ]
    }
   ],
   "source": [
    "from keras.datasets import boston_housing\n",
    "(X_train, y_train), (X_test, y_test) = boston_housing.load_data()"
   ]
  },
  {
   "cell_type": "markdown",
   "metadata": {},
   "source": [
    "### Данные:\n",
    "Будем работать с датасетом [Boston Housing Prices](https://medium.com/@haydar_ai/learning-data-science-day-9-linear-regression-on-boston-housing-dataset-cd62a80775ef)."
   ]
  },
  {
   "cell_type": "code",
   "execution_count": 3,
   "metadata": {},
   "outputs": [
    {
     "data": {
      "text/plain": [
       "Text(0.5,0,'Price')"
      ]
     },
     "execution_count": 3,
     "metadata": {},
     "output_type": "execute_result"
    },
    {
     "data": {
      "image/png": "[encoded data removed]",
      "text/plain": [
       "<matplotlib.figure.Figure at 0x7f081b945748>"
      ]
     },
     "metadata": {},
     "output_type": "display_data"
    }
   ],
   "source": [
    "plt.hist(y_train, bins=25)\n",
    "plt.ylabel('Number of objects within borders')\n",
    "plt.xlabel('Price')"
   ]
  },
  {
   "cell_type": "markdown",
   "metadata": {},
   "source": [
    "### Задание.\n",
    "Будем решать задачу регрессии. Целевая переменная -- цена дома, признаки - различная информация о домохозяйстве. Для решения будем использовать линейную регрессию. Ваша задача - оценить качество решения в зависимости от количества объектов в обучающей выборке. Качество решения будем оценивать с помощью среднеквадратичной и среднеабсолютной ошибки, а так же [коэффициента детерминации $r^2$](http://scikit-learn.org/stable/modules/model_evaluation.html#r2-score-the-coefficient-of-determination). Также требуется оценить дисперсию данных функционалов в зависимости от числа объектов в обучающей выборке. "
   ]
  },
  {
   "cell_type": "markdown",
   "metadata": {},
   "source": [
    "### Разберемся с данными:"
   ]
  },
  {
   "cell_type": "markdown",
   "metadata": {},
   "source": [
    "Структурируем данные, так как это может облегчить их обработку."
   ]
  },
  {
   "cell_type": "code",
   "execution_count": 4,
   "metadata": {
    "collapsed": true
   },
   "outputs": [],
   "source": [
    "from sklearn.datasets import load_boston"
   ]
  },
  {
   "cell_type": "code",
   "execution_count": 5,
   "metadata": {
    "collapsed": true
   },
   "outputs": [],
   "source": [
    "boston = load_boston()"
   ]
  },
  {
   "cell_type": "code",
   "execution_count": 6,
   "metadata": {
    "collapsed": true
   },
   "outputs": [],
   "source": [
    "lables = boston.feature_names"
   ]
  },
  {
   "cell_type": "code",
   "execution_count": 7,
   "metadata": {
    "collapsed": true,
    "scrolled": true
   },
   "outputs": [],
   "source": [
    "data_train = pd.DataFrame(data = X_train, index = range(1, len(X_train)+1), columns = lables)\n",
    "data_test = pd.DataFrame(data = X_test, index = range(1, len(X_test)+1), columns = lables)"
   ]
  },
  {
   "cell_type": "code",
   "execution_count": 8,
   "metadata": {
    "collapsed": true
   },
   "outputs": [],
   "source": [
    "data_train.insert(value = y_train, column = 'PRICE', loc = 13)\n",
    "data_test.insert(value = y_test, column = 'PRICE', loc = 13)"
   ]
  },
  {
   "cell_type": "code",
   "execution_count": 9,
   "metadata": {},
   "outputs": [
    {
     "data": {
      "text/html": [
       "<div>\n",
       "<style>\n",
       "    .dataframe thead tr:only-child th {\n",
       "        text-align: right;\n",
       "    }\n",
       "\n",
       "    .dataframe thead th {\n",
       "        text-align: left;\n",
       "    }\n",
       "\n",
       "    .dataframe tbody tr th {\n",
       "        vertical-align: top;\n",
       "    }\n",
       "</style>\n",
       "<table border=\"1\" class=\"dataframe\">\n",
       "  <thead>\n",
       "    <tr style=\"text-align: right;\">\n",
       "      <th></th>\n",
       "      <th>CRIM</th>\n",
       "      <th>ZN</th>\n",
       "      <th>INDUS</th>\n",
       "      <th>CHAS</th>\n",
       "      <th>NOX</th>\n",
       "      <th>RM</th>\n",
       "      <th>AGE</th>\n",
       "      <th>DIS</th>\n",
       "      <th>RAD</th>\n",
       "      <th>TAX</th>\n",
       "      <th>PTRATIO</th>\n",
       "      <th>B</th>\n",
       "      <th>LSTAT</th>\n",
       "      <th>PRICE</th>\n",
       "    </tr>\n",
       "  </thead>\n",
       "  <tbody>\n",
       "    <tr>\n",
       "      <th>1</th>\n",
       "      <td>1.23247</td>\n",
       "      <td>0.0</td>\n",
       "      <td>8.14</td>\n",
       "      <td>0.0</td>\n",
       "      <td>0.538</td>\n",
       "      <td>6.142</td>\n",
       "      <td>91.7</td>\n",
       "      <td>3.9769</td>\n",
       "      <td>4.0</td>\n",
       "      <td>307.0</td>\n",
       "      <td>21.0</td>\n",
       "      <td>396.90</td>\n",
       "      <td>18.72</td>\n",
       "      <td>15.2</td>\n",
       "    </tr>\n",
       "    <tr>\n",
       "      <th>2</th>\n",
       "      <td>0.02177</td>\n",
       "      <td>82.5</td>\n",
       "      <td>2.03</td>\n",
       "      <td>0.0</td>\n",
       "      <td>0.415</td>\n",
       "      <td>7.610</td>\n",
       "      <td>15.7</td>\n",
       "      <td>6.2700</td>\n",
       "      <td>2.0</td>\n",
       "      <td>348.0</td>\n",
       "      <td>14.7</td>\n",
       "      <td>395.38</td>\n",
       "      <td>3.11</td>\n",
       "      <td>42.3</td>\n",
       "    </tr>\n",
       "    <tr>\n",
       "      <th>3</th>\n",
       "      <td>4.89822</td>\n",
       "      <td>0.0</td>\n",
       "      <td>18.10</td>\n",
       "      <td>0.0</td>\n",
       "      <td>0.631</td>\n",
       "      <td>4.970</td>\n",
       "      <td>100.0</td>\n",
       "      <td>1.3325</td>\n",
       "      <td>24.0</td>\n",
       "      <td>666.0</td>\n",
       "      <td>20.2</td>\n",
       "      <td>375.52</td>\n",
       "      <td>3.26</td>\n",
       "      <td>50.0</td>\n",
       "    </tr>\n",
       "    <tr>\n",
       "      <th>4</th>\n",
       "      <td>0.03961</td>\n",
       "      <td>0.0</td>\n",
       "      <td>5.19</td>\n",
       "      <td>0.0</td>\n",
       "      <td>0.515</td>\n",
       "      <td>6.037</td>\n",
       "      <td>34.5</td>\n",
       "      <td>5.9853</td>\n",
       "      <td>5.0</td>\n",
       "      <td>224.0</td>\n",
       "      <td>20.2</td>\n",
       "      <td>396.90</td>\n",
       "      <td>8.01</td>\n",
       "      <td>21.1</td>\n",
       "    </tr>\n",
       "    <tr>\n",
       "      <th>5</th>\n",
       "      <td>3.69311</td>\n",
       "      <td>0.0</td>\n",
       "      <td>18.10</td>\n",
       "      <td>0.0</td>\n",
       "      <td>0.713</td>\n",
       "      <td>6.376</td>\n",
       "      <td>88.4</td>\n",
       "      <td>2.5671</td>\n",
       "      <td>24.0</td>\n",
       "      <td>666.0</td>\n",
       "      <td>20.2</td>\n",
       "      <td>391.43</td>\n",
       "      <td>14.65</td>\n",
       "      <td>17.7</td>\n",
       "    </tr>\n",
       "  </tbody>\n",
       "</table>\n",
       "</div>"
      ],
      "text/plain": [
       "      CRIM    ZN  INDUS  CHAS    NOX     RM    AGE     DIS   RAD    TAX  \\\n",
       "1  1.23247   0.0   8.14   0.0  0.538  6.142   91.7  3.9769   4.0  307.0   \n",
       "2  0.02177  82.5   2.03   0.0  0.415  7.610   15.7  6.2700   2.0  348.0   \n",
       "3  4.89822   0.0  18.10   0.0  0.631  4.970  100.0  1.3325  24.0  666.0   \n",
       "4  0.03961   0.0   5.19   0.0  0.515  6.037   34.5  5.9853   5.0  224.0   \n",
       "5  3.69311   0.0  18.10   0.0  0.713  6.376   88.4  2.5671  24.0  666.0   \n",
       "\n",
       "   PTRATIO       B  LSTAT  PRICE  \n",
       "1     21.0  396.90  18.72   15.2  \n",
       "2     14.7  395.38   3.11   42.3  \n",
       "3     20.2  375.52   3.26   50.0  \n",
       "4     20.2  396.90   8.01   21.1  \n",
       "5     20.2  391.43  14.65   17.7  "
      ]
     },
     "execution_count": 9,
     "metadata": {},
     "output_type": "execute_result"
    }
   ],
   "source": [
    "data_train.head()"
   ]
  },
  {
   "cell_type": "code",
   "execution_count": 10,
   "metadata": {
    "scrolled": true
   },
   "outputs": [
    {
     "data": {
      "text/html": [
       "<div>\n",
       "<style>\n",
       "    .dataframe thead tr:only-child th {\n",
       "        text-align: right;\n",
       "    }\n",
       "\n",
       "    .dataframe thead th {\n",
       "        text-align: left;\n",
       "    }\n",
       "\n",
       "    .dataframe tbody tr th {\n",
       "        vertical-align: top;\n",
       "    }\n",
       "</style>\n",
       "<table border=\"1\" class=\"dataframe\">\n",
       "  <thead>\n",
       "    <tr style=\"text-align: right;\">\n",
       "      <th></th>\n",
       "      <th>CRIM</th>\n",
       "      <th>ZN</th>\n",
       "      <th>INDUS</th>\n",
       "      <th>CHAS</th>\n",
       "      <th>NOX</th>\n",
       "      <th>RM</th>\n",
       "      <th>AGE</th>\n",
       "      <th>DIS</th>\n",
       "      <th>RAD</th>\n",
       "      <th>TAX</th>\n",
       "      <th>PTRATIO</th>\n",
       "      <th>B</th>\n",
       "      <th>LSTAT</th>\n",
       "      <th>PRICE</th>\n",
       "    </tr>\n",
       "  </thead>\n",
       "  <tbody>\n",
       "    <tr>\n",
       "      <th>1</th>\n",
       "      <td>18.08460</td>\n",
       "      <td>0.0</td>\n",
       "      <td>18.10</td>\n",
       "      <td>0.0</td>\n",
       "      <td>0.679</td>\n",
       "      <td>6.434</td>\n",
       "      <td>100.0</td>\n",
       "      <td>1.8347</td>\n",
       "      <td>24.0</td>\n",
       "      <td>666.0</td>\n",
       "      <td>20.2</td>\n",
       "      <td>27.25</td>\n",
       "      <td>29.05</td>\n",
       "      <td>7.2</td>\n",
       "    </tr>\n",
       "    <tr>\n",
       "      <th>2</th>\n",
       "      <td>0.12329</td>\n",
       "      <td>0.0</td>\n",
       "      <td>10.01</td>\n",
       "      <td>0.0</td>\n",
       "      <td>0.547</td>\n",
       "      <td>5.913</td>\n",
       "      <td>92.9</td>\n",
       "      <td>2.3534</td>\n",
       "      <td>6.0</td>\n",
       "      <td>432.0</td>\n",
       "      <td>17.8</td>\n",
       "      <td>394.95</td>\n",
       "      <td>16.21</td>\n",
       "      <td>18.8</td>\n",
       "    </tr>\n",
       "    <tr>\n",
       "      <th>3</th>\n",
       "      <td>0.05497</td>\n",
       "      <td>0.0</td>\n",
       "      <td>5.19</td>\n",
       "      <td>0.0</td>\n",
       "      <td>0.515</td>\n",
       "      <td>5.985</td>\n",
       "      <td>45.4</td>\n",
       "      <td>4.8122</td>\n",
       "      <td>5.0</td>\n",
       "      <td>224.0</td>\n",
       "      <td>20.2</td>\n",
       "      <td>396.90</td>\n",
       "      <td>9.74</td>\n",
       "      <td>19.0</td>\n",
       "    </tr>\n",
       "    <tr>\n",
       "      <th>4</th>\n",
       "      <td>1.27346</td>\n",
       "      <td>0.0</td>\n",
       "      <td>19.58</td>\n",
       "      <td>1.0</td>\n",
       "      <td>0.605</td>\n",
       "      <td>6.250</td>\n",
       "      <td>92.6</td>\n",
       "      <td>1.7984</td>\n",
       "      <td>5.0</td>\n",
       "      <td>403.0</td>\n",
       "      <td>14.7</td>\n",
       "      <td>338.92</td>\n",
       "      <td>5.50</td>\n",
       "      <td>27.0</td>\n",
       "    </tr>\n",
       "    <tr>\n",
       "      <th>5</th>\n",
       "      <td>0.07151</td>\n",
       "      <td>0.0</td>\n",
       "      <td>4.49</td>\n",
       "      <td>0.0</td>\n",
       "      <td>0.449</td>\n",
       "      <td>6.121</td>\n",
       "      <td>56.8</td>\n",
       "      <td>3.7476</td>\n",
       "      <td>3.0</td>\n",
       "      <td>247.0</td>\n",
       "      <td>18.5</td>\n",
       "      <td>395.15</td>\n",
       "      <td>8.44</td>\n",
       "      <td>22.2</td>\n",
       "    </tr>\n",
       "  </tbody>\n",
       "</table>\n",
       "</div>"
      ],
      "text/plain": [
       "       CRIM   ZN  INDUS  CHAS    NOX     RM    AGE     DIS   RAD    TAX  \\\n",
       "1  18.08460  0.0  18.10   0.0  0.679  6.434  100.0  1.8347  24.0  666.0   \n",
       "2   0.12329  0.0  10.01   0.0  0.547  5.913   92.9  2.3534   6.0  432.0   \n",
       "3   0.05497  0.0   5.19   0.0  0.515  5.985   45.4  4.8122   5.0  224.0   \n",
       "4   1.27346  0.0  19.58   1.0  0.605  6.250   92.6  1.7984   5.0  403.0   \n",
       "5   0.07151  0.0   4.49   0.0  0.449  6.121   56.8  3.7476   3.0  247.0   \n",
       "\n",
       "   PTRATIO       B  LSTAT  PRICE  \n",
       "1     20.2   27.25  29.05    7.2  \n",
       "2     17.8  394.95  16.21   18.8  \n",
       "3     20.2  396.90   9.74   19.0  \n",
       "4     14.7  338.92   5.50   27.0  \n",
       "5     18.5  395.15   8.44   22.2  "
      ]
     },
     "execution_count": 10,
     "metadata": {},
     "output_type": "execute_result"
    }
   ],
   "source": [
    "data_test.head()"
   ]
  },
  {
   "cell_type": "code",
   "execution_count": 11,
   "metadata": {},
   "outputs": [
    {
     "name": "stdout",
     "output_type": "stream",
     "text": [
      "Размер предлагаемой обучающей выборки: 404 объекта\n",
      "Размер предлагаемой тестовой выборки: 102 объекта\n"
     ]
    }
   ],
   "source": [
    "print(\"Размер предлагаемой обучающей выборки: {} объекта\".format(data_train.shape[0]))\n",
    "print(\"Размер предлагаемой тестовой выборки: {} объекта\".format(data_test.shape[0]))"
   ]
  },
  {
   "cell_type": "markdown",
   "metadata": {},
   "source": [
    "### Используем линейную модель регрессии (cначала рассмотрим ее работу на предлагаемой выборке):"
   ]
  },
  {
   "cell_type": "code",
   "execution_count": 12,
   "metadata": {
    "collapsed": true
   },
   "outputs": [],
   "source": [
    "from sklearn.linear_model import LinearRegression\n",
    "from sklearn.metrics import mean_absolute_error, mean_squared_error, r2_score"
   ]
  },
  {
   "cell_type": "code",
   "execution_count": 13,
   "metadata": {},
   "outputs": [
    {
     "data": {
      "text/plain": [
       "Text(0.5,1,'Prices vs Predicted prices: $Y_i$ vs $\\\\hat{Y}_i$')"
      ]
     },
     "execution_count": 13,
     "metadata": {},
     "output_type": "execute_result"
    },
    {
     "data": {
      "image/png": "[encoded data removed]",
      "text/plain": [
       "<matplotlib.figure.Figure at 0x7f08111da5c0>"
      ]
     },
     "metadata": {},
     "output_type": "display_data"
    }
   ],
   "source": [
    "lm = LinearRegression()\n",
    "lm.fit(X_train, y_train)\n",
    "\n",
    "y_pred = lm.predict(X_test)\n",
    "\n",
    "plt.scatter(y_test, y_pred)\n",
    "plt.xlabel(\"Prices: $Y_i$\")\n",
    "plt.ylabel(\"Predicted prices: $\\hat{Y}_i$\")\n",
    "plt.title(\"Prices vs Predicted prices: $Y_i$ vs $\\hat{Y}_i$\")"
   ]
  },
  {
   "cell_type": "code",
   "execution_count": 14,
   "metadata": {
    "scrolled": true
   },
   "outputs": [
    {
     "name": "stdout",
     "output_type": "stream",
     "text": [
      "mae = 3.4641858124068388\n",
      "mse = 23.195599256424643\n",
      "r2 score = 0.7213535934621352\n",
      "prediction variance = 45.780486850341056\n"
     ]
    }
   ],
   "source": [
    "print('mae = {}'.format(mean_absolute_error(y_test, y_pred)))\n",
    "print('mse = {}'.format(mean_squared_error(y_test, y_pred)))\n",
    "print('r2 score = {}'.format(r2_score(y_test, y_pred)))\n",
    "print('prediction variance = {}'.format(np.std((y_test - y_pred)**2)))"
   ]
  },
  {
   "cell_type": "markdown",
   "metadata": {},
   "source": [
    "### Теперь будем оценивать качество модели, получая значения ошибок и r2-score:"
   ]
  },
  {
   "cell_type": "code",
   "execution_count": 15,
   "metadata": {
    "collapsed": true
   },
   "outputs": [],
   "source": [
    "# Будем варьировать длину выборки с помощью параметра l_train: от 50% до 390% относительно длины тестовой выборки\n",
    "# Число повторений для l_train случайных объектов равно k\n",
    "parameters = {\"k\": range(20), \"l_train\": np.arange(0.5, 3.9, 0.1)}\n",
    "# Запишем результаты сюда\n",
    "error_results_test = {\"mae\": [], \"mse\": [], \"r2\": [], \"var\": {'mae_mean': [], 'mae_var': [], 'mse_mean': [], 'mse_var': [], 'r2_mean': [], 'r2_var': []}}\n",
    "error_results_train = {\"mae\": [], \"mse\": [], \"r2\": [], \"var\": {'mae_mean': [], 'mae_var': [], 'mse_mean': [], 'mse_var': [], 'r2_mean': [], 'r2_var': []}}"
   ]
  },
  {
   "cell_type": "code",
   "execution_count": 16,
   "metadata": {
    "collapsed": true
   },
   "outputs": [],
   "source": [
    "test_data_size = data_test.shape[0] # test data will be always the same\n",
    "\n",
    "for l_train in parameters['l_train']:\n",
    "    intermediate_error_results_test = {\"mae\": [], \"mse\": [], \"r2\": []}\n",
    "    intermediate_error_results_train = {\"mae\": [], \"mse\": [], \"r2\": []}\n",
    "    for k in parameters['k']:\n",
    "        train_data_size = int(np.around(test_data_size * l_train, decimals = 0))\n",
    "        indices = np.random.permutation(range(train_data_size))\n",
    "        train = data_train.iloc[indices[:train_data_size]]\n",
    "        test = data_test\n",
    "        \n",
    "        lm = LinearRegression()\n",
    "        lm.fit(train[lables[:len(lables)-1]], train['PRICE'])\n",
    "        \n",
    "        y_pred_test = lm.predict(test[lables[:len(lables)-1]])\n",
    "        mae = mean_absolute_error(y_test, y_pred_test)\n",
    "        intermediate_error_results_test['mae'].append(mae)\n",
    "        mse = mean_squared_error(y_test, y_pred_test)\n",
    "        intermediate_error_results_test['mse'].append(mse)\n",
    "        r2 = r2_score(y_test, y_pred_test)\n",
    "        intermediate_error_results_test['r2'].append(r2)\n",
    "        \n",
    "        y_pred_train = lm.predict(train[lables[:len(lables)-1]])\n",
    "        mae = mean_absolute_error(train['PRICE'], y_pred_train)\n",
    "        intermediate_error_results_train['mae'].append(mae)\n",
    "        mse = mean_squared_error(train['PRICE'], y_pred_train)\n",
    "        intermediate_error_results_train['mse'].append(mse)\n",
    "        r2 = r2_score(train['PRICE'], y_pred_train)\n",
    "        intermediate_error_results_train['r2'].append(r2)\n",
    "        \n",
    "    mae_test = np.mean(intermediate_error_results_test['mae'])\n",
    "    error_results_test['mae'].append(mae_test)\n",
    "    mse_test = np.mean(intermediate_error_results_test['mse'])\n",
    "    error_results_test['mse'].append(mse_test)\n",
    "    r2_test = np.mean(intermediate_error_results_test['r2'])\n",
    "    error_results_test['r2'].append(r2_test)\n",
    "    \n",
    "    error_results_test['var']['mae_mean'].append(np.mean(intermediate_error_results_test['mae']))\n",
    "    error_results_test['var']['mae_var'].append(stat.variance(intermediate_error_results_test['mae']))\n",
    "    error_results_test['var']['mse_mean'].append(np.mean(intermediate_error_results_test['mse']))\n",
    "    error_results_test['var']['mse_var'].append(stat.variance(intermediate_error_results_test['mse']))\n",
    "    error_results_test['var']['r2_mean'].append(np.mean(intermediate_error_results_test['r2']))\n",
    "    error_results_test['var']['r2_var'].append(stat.variance(intermediate_error_results_test['r2']))\n",
    "    \n",
    "    mae_train = np.mean(intermediate_error_results_train['mae'])\n",
    "    error_results_train['mae'].append(mae_train)\n",
    "    mse_train = np.mean(intermediate_error_results_train['mse'])\n",
    "    error_results_train['mse'].append(mse_train)\n",
    "    r2_train = np.mean(intermediate_error_results_train['r2'])\n",
    "    error_results_train['r2'].append(r2_train)\n",
    "    \n",
    "    error_results_train['var']['mae_mean'].append(np.mean(intermediate_error_results_train['mae']))\n",
    "    error_results_train['var']['mae_var'].append(stat.variance(intermediate_error_results_train['mae']))\n",
    "    error_results_train['var']['mse_mean'].append(np.mean(intermediate_error_results_train['mse']))\n",
    "    error_results_train['var']['mse_var'].append(stat.variance(intermediate_error_results_train['mse']))\n",
    "    error_results_train['var']['r2_mean'].append(np.mean(intermediate_error_results_train['r2']))\n",
    "    error_results_train['var']['r2_var'].append(stat.variance(intermediate_error_results_train['r2']))"
   ]
  },
  {
   "cell_type": "code",
   "execution_count": 18,
   "metadata": {
    "scrolled": true
   },
   "outputs": [
    {
     "name": "stdout",
     "output_type": "stream",
     "text": [
      "[2.8059825047023065e-23, 9.7184256972725938e-24, 1.2561979026211612e-23, 1.4226388778135971e-23, 1.5314426128295137e-23, 7.2627875606012687e-24, 9.181467343902336e-24, 5.1844008775188473e-24, 4.6326954421332028e-24, 2.7615051185416352e-24, 2.932834845786544e-24, 3.1829270365940071e-24, 2.9387275869257507e-24, 2.082041782896873e-24, 6.306920384123899e-24, 6.7534497020549014e-24, 2.6627550121981288e-24, 3.9283204105446971e-24, 2.7293753951379135e-24, 4.5853727891380605e-24, 3.818237445398795e-24, 6.2538298459113486e-25, 3.0497558897652733e-24, 2.506790534981537e-24, 5.1408206803036621e-24, 2.7677211431836006e-24, 9.3692109581287728e-25, 2.1152173863925355e-24, 2.867703035071112e-24, 7.4621775850804259e-24, 6.2252152534860962e-24, 5.4067500426443422e-24, 5.939973280792961e-24, 7.770498306340728e-24]\n"
     ]
    }
   ],
   "source": [
    "print(error_results_test.get('var').get('mse_var'))"
   ]
  },
  {
   "cell_type": "markdown",
   "metadata": {},
   "source": [
    "#### Возьмем модель, которая получилась наилучшей (по r2-score), и опробуем ее на тестовой выборке:"
   ]
  },
  {
   "cell_type": "code",
   "execution_count": 19,
   "metadata": {},
   "outputs": [
    {
     "name": "stdout",
     "output_type": "stream",
     "text": [
      "r2 в лучшем случае: 0.74\n"
     ]
    }
   ],
   "source": [
    "index = np.asarray(error_results_test['r2']).argmax()\n",
    "print(f\"r2 в лучшем случае: {error_results_test['r2'][index]:.2f}\")"
   ]
  },
  {
   "cell_type": "code",
   "execution_count": 20,
   "metadata": {
    "collapsed": true
   },
   "outputs": [],
   "source": [
    "lm.fit(train[lables[:len(lables)-1]], train['PRICE'])\n",
    "y_pred = lm.predict(test[lables[:len(lables)-1]])   # it must be the best predicted value"
   ]
  },
  {
   "cell_type": "markdown",
   "metadata": {},
   "source": [
    "### Отобразим результаты на графиках:"
   ]
  },
  {
   "cell_type": "markdown",
   "metadata": {},
   "source": [
    "#### Для начала сравним предсказанное распределение по ценам с реальным:"
   ]
  },
  {
   "cell_type": "code",
   "execution_count": 21,
   "metadata": {
    "scrolled": false
   },
   "outputs": [
    {
     "data": {
      "text/plain": [
       "Text(0.5,0,'Price')"
      ]
     },
     "execution_count": 21,
     "metadata": {},
     "output_type": "execute_result"
    },
    {
     "data": {
      "text/plain": [
       "<matplotlib.figure.Figure at 0x7f0810d06ef0>"
      ]
     },
     "metadata": {},
     "output_type": "display_data"
    },
    {
     "data": {
      "image/png": "[encoded data removed]",
      "text/plain": [
       "<matplotlib.figure.Figure at 0x7f0810d06470>"
      ]
     },
     "metadata": {},
     "output_type": "display_data"
    }
   ],
   "source": [
    "plt.figure(figsize=(10, 8))\n",
    "fig, axs = plt.subplots(figsize=(18, 5), ncols=2)\n",
    "\n",
    "axs[0].hist(y_pred, bins=25)\n",
    "axs[0].set_title('Predicted values')\n",
    "axs[0].set_ylabel('Number of objects within borders')\n",
    "axs[0].set_xlabel('Price')\n",
    "\n",
    "axs[1].hist(y_test, bins=25)\n",
    "axs[1].set_title('Real values')\n",
    "axs[1].set_ylabel('Number of objects within borders')\n",
    "axs[1].set_xlabel('Price')"
   ]
  },
  {
   "cell_type": "markdown",
   "metadata": {},
   "source": [
    "#### Расхождение результатов с реальными значениями:"
   ]
  },
  {
   "cell_type": "code",
   "execution_count": 22,
   "metadata": {},
   "outputs": [
    {
     "data": {
      "text/plain": [
       "Text(0.5,1,'Prices vs Predicted prices: $Y_i$ vs $\\\\hat{Y}_i$')"
      ]
     },
     "execution_count": 22,
     "metadata": {},
     "output_type": "execute_result"
    },
    {
     "data": {
      "image/png": "[encoded data removed]",
      "text/plain": [
       "<matplotlib.figure.Figure at 0x7f0810d0cb00>"
      ]
     },
     "metadata": {},
     "output_type": "display_data"
    }
   ],
   "source": [
    "plt.scatter(y_test, y_pred)\n",
    "plt.xlabel(\"Prices: $Y_i$\")\n",
    "plt.ylabel(\"Predicted prices: $\\hat{Y}_i$\")\n",
    "plt.title(\"Prices vs Predicted prices: $Y_i$ vs $\\hat{Y}_i$\")"
   ]
  },
  {
   "cell_type": "markdown",
   "metadata": {},
   "source": [
    "#### Построим графики зависимости ошибок от количества  элементов в тестовой выборке:"
   ]
  },
  {
   "cell_type": "code",
   "execution_count": 23,
   "metadata": {
    "scrolled": true
   },
   "outputs": [
    {
     "data": {
      "text/plain": [
       "<matplotlib.figure.Figure at 0x7f0810b18be0>"
      ]
     },
     "metadata": {},
     "output_type": "display_data"
    },
    {
     "data": {
      "image/png": "[encoded data removed]",
      "text/plain": [
       "<matplotlib.figure.Figure at 0x7f0810b18828>"
      ]
     },
     "metadata": {},
     "output_type": "display_data"
    }
   ],
   "source": [
    "# varianse is negligible\n",
    "\n",
    "plt.figure(figsize=(10, 8))\n",
    "fig, axs = plt.subplots(figsize=(18, 5), ncols=3)\n",
    "\n",
    "error = error_results_test.get('var').get('mae_var')\n",
    "X, Y = parameters['l_train'], error_results_test['mae']\n",
    "axs[0].plot(X, Y)\n",
    "axs[0].set_title('mean absolute error')\n",
    "axs[0].set_ylabel('value')\n",
    "axs[0].set_xlabel('relative train data size')\n",
    "axs[0].fill_between(X, np.array(Y)-np.array(error), np.array(Y)+np.array(error), color = 'YELLOW')\n",
    "axs[0].grid()\n",
    "\n",
    "error = error_results_test.get('var').get('mse_var')\n",
    "Y = error_results_test['mse']\n",
    "axs[1].plot(X, Y)\n",
    "axs[1].set_title('mean square error')\n",
    "axs[1].set_ylabel('value')\n",
    "axs[1].set_xlabel('relative train data size')\n",
    "axs[1].fill_between(X, np.array(Y)-np.array(error), np.array(Y)+np.array(error), color = 'YELLOW')\n",
    "axs[1].grid()\n",
    "\n",
    "error = error_results_test.get('var').get('r2_var')\n",
    "Y = error_results_test['r2']\n",
    "axs[2].plot(X, Y)\n",
    "axs[2].set_title('coefficient of determination')\n",
    "axs[2].set_ylabel('value')\n",
    "axs[2].set_xlabel('relative train data size')\n",
    "axs[2].fill_between(X, np.array(Y)-np.array(error), np.array(Y)+np.array(error), color = 'YELLOW')\n",
    "axs[2].grid()"
   ]
  },
  {
   "cell_type": "markdown",
   "metadata": {},
   "source": [
    "#### Аналогично для обучающей выборки:"
   ]
  },
  {
   "cell_type": "code",
   "execution_count": 24,
   "metadata": {},
   "outputs": [
    {
     "data": {
      "text/plain": [
       "<matplotlib.figure.Figure at 0x7f08111da588>"
      ]
     },
     "metadata": {},
     "output_type": "display_data"
    },
    {
     "data": {
      "image/png": "[encoded data removed]",
      "text/plain": [
       "<matplotlib.figure.Figure at 0x7f08111da550>"
      ]
     },
     "metadata": {},
     "output_type": "display_data"
    }
   ],
   "source": [
    "plt.figure(figsize=(10, 8))\n",
    "fig, axs = plt.subplots(figsize=(18, 5), ncols=3)\n",
    "\n",
    "error = error_results_train.get('var').get('mae_var')\n",
    "X, Y = parameters['l_train'], error_results_train['mae']\n",
    "axs[0].plot(X, Y)\n",
    "axs[0].set_title('mean absolute error')\n",
    "axs[0].set_ylabel('value')\n",
    "axs[0].set_xlabel('relative train data size')\n",
    "axs[0].fill_between(X, np.array(Y)-np.array(error), np.array(Y)+np.array(error), color = 'YELLOW')\n",
    "axs[0].grid()\n",
    "\n",
    "error = error_results_train.get('var').get('mse_var')\n",
    "Y = error_results_train['mse']\n",
    "axs[1].plot(X, Y)\n",
    "axs[1].set_title('mean square error')\n",
    "axs[1].set_ylabel('value')\n",
    "axs[1].set_xlabel('relative train data size')\n",
    "axs[1].fill_between(X, np.array(Y)-np.array(error), np.array(Y)+np.array(error), color = 'YELLOW')\n",
    "axs[1].grid()\n",
    "\n",
    "error = error_results_train.get('var').get('r2_var')\n",
    "Y = error_results_train['r2']\n",
    "axs[2].plot(X, Y)\n",
    "axs[2].set_title('coefficient of determination')\n",
    "axs[2].set_ylabel('value')\n",
    "axs[2].set_xlabel('relative train data size')\n",
    "axs[2].fill_between(X, np.array(Y)-np.array(error), np.array(Y)+np.array(error), color = 'YELLOW')\n",
    "axs[2].grid()"
   ]
  },
  {
   "cell_type": "markdown",
   "metadata": {},
   "source": [
    "### Выводы:"
   ]
  },
  {
   "cell_type": "markdown",
   "metadata": {},
   "source": [
    "При доле обучающей выборки примерно 200-300% относительно тестовой выборки (то есть порядка 200-300 объектов) получаем параметры линейной модели, дающие наименьшие ошибки на тестовой выборке (абсолютную, квадратичную) и наивысшее значение r2-score (порядка 0,74).\n",
    "Для обучающей выборки ошибка зависит от длины непонятным образом."
   ]
  }
 ],
 "metadata": {
  "kernelspec": {
   "display_name": "Python 3",
   "language": "python",
   "name": "python3"
  },
  "language_info": {
   "codemirror_mode": {
    "name": "ipython",
    "version": 3
   },
   "file_extension": ".py",
   "mimetype": "text/x-python",
   "name": "python",
   "nbconvert_exporter": "python",
   "pygments_lexer": "ipython3",
   "version": "3.6.3"
  }
 },
 "nbformat": 4,
 "nbformat_minor": 2
}
