{
 "cells": [
  {
   "cell_type": "markdown",
   "metadata": {},
   "source": [
    "# Breast-cancer problem"
   ]
  },
  {
   "cell_type": "code",
   "execution_count": 80,
   "metadata": {},
   "outputs": [],
   "source": [
    "from keras.models import Sequential\n",
    "from keras.layers import Dense\n",
    "import numpy as np\n",
    "import matplotlib.pyplot as plt\n",
    "import re\n",
    "import pandas as pd"
   ]
  },
  {
   "cell_type": "code",
   "execution_count": 2,
   "metadata": {},
   "outputs": [],
   "source": [
    "from sklearn.model_selection import StratifiedKFold, train_test_split\n",
    "from sklearn.metrics import accuracy_score\n",
    "import itertools\n",
    "from sklearn.metrics import confusion_matrix"
   ]
  },
  {
   "cell_type": "code",
   "execution_count": 3,
   "metadata": {},
   "outputs": [],
   "source": [
    "DATA_N_PATH = \"./data/Breast_data/breast-cancer.data.txt\""
   ]
  },
  {
   "cell_type": "code",
   "execution_count": 4,
   "metadata": {},
   "outputs": [
    {
     "name": "stdout",
     "output_type": "stream",
     "text": [
      "dropped no-recurrence-events,40-49,premeno,25-29,0-2,?,2,left,right_low,yes\n",
      "\n",
      "dropped no-recurrence-events,60-69,ge40,25-29,3-5,?,1,right,left_up,yes\n",
      "\n",
      "dropped no-recurrence-events,60-69,ge40,25-29,3-5,?,1,right,left_low,yes\n",
      "\n",
      "dropped no-recurrence-events,50-59,ge40,30-34,9-11,?,3,left,left_up,yes\n",
      "\n",
      "dropped no-recurrence-events,50-59,ge40,30-34,9-11,?,3,left,left_low,yes\n",
      "\n",
      "dropped recurrence-events,50-59,ge40,30-34,0-2,no,3,left,?,no\n",
      "\n",
      "dropped recurrence-events,70-79,ge40,15-19,9-11,?,1,left,left_low,yes\n",
      "\n",
      "dropped recurrence-events,50-59,lt40,20-24,0-2,?,1,left,left_up,no\n",
      "\n",
      "dropped recurrence-events,50-59,lt40,20-24,0-2,?,1,left,left_low,no\n",
      "\n"
     ]
    }
   ],
   "source": [
    "dictionary = {'recurrence_events':[], 'age':[], 'lt40':[], 'ge40':[],'premeno':[],\n",
    "              'tumor_size':[], 'inv_nodes':[], 'node_caps':[], 'deg_malig':[], 'breast':[],\n",
    "              'bq_left_up':[], 'bq_left_low':[], 'bq_right_up':[], 'bq_right_low':[], 'bq_central':[],  'irradiat' :[] }\n",
    "\n",
    "def parse_line( line):\n",
    "    recurrence_events = age = lt40 = ge40 = premeno = tumor_size = None\n",
    "    inv_nodes = node_caps = deg_malig = breast = bq_left_up = bq_left_low = None\n",
    "    bq_right_up = bq_right_low = bq_central = irradiat = None\n",
    "    try:\n",
    "        string = line.strip('\\n').split(',')\n",
    "        \n",
    "        if ( string[0] == \"recurrence-events\"):\n",
    "            recurrence_events = int(1)\n",
    "        elif(string[0] == \"no-recurrence-events\"):\n",
    "            recurrence_events = int(0)\n",
    "        else: \n",
    "            raise Exception('wrong data')\n",
    "        \n",
    "      \n",
    "        if ( string[1] == \"10-19\"):\n",
    "            age = int(15)\n",
    "        elif( string[1] == \"20-29\"):\n",
    "            age = int(25)\n",
    "        elif( string[1] == \"30-39\"):\n",
    "            age = int(35)\n",
    "        elif( string[1] == \"40-49\"):\n",
    "            age = int(45)\n",
    "        elif( string[1] == \"50-59\"):\n",
    "            age = int(55)\n",
    "        elif( string[1] == \"60-69\"):\n",
    "            age = int(65)\n",
    "        elif( string[1] == \"70-79\"):\n",
    "            age = int(75)\n",
    "        elif( string[1] == \"80-89\"):\n",
    "            age = int(85)\n",
    "        elif( string[1] == \"90-99\"):\n",
    "            age = int(95)\n",
    "        else:\n",
    "            raise Exception('wrong data')\n",
    "            \n",
    "        if (string[2] == \"lt40\"):\n",
    "            lt40 = int(1)\n",
    "            ge40 = int(0)\n",
    "            premeno = int(0)\n",
    "        elif (string[2] == \"ge40\"):\n",
    "            lt40 = int(0)\n",
    "            ge40 = int(1)\n",
    "            premeno = int(0)\n",
    "        elif (string[2] == \"premeno\"):\n",
    "            lt40 = int(0)\n",
    "            ge40 = int(0)\n",
    "            premeno = int(1)\n",
    "        else:\n",
    "            raise Exception('wrong data')\n",
    "    \n",
    "        m = re.match(r\"(\\d+)-(\\d+)\", string[3])\n",
    "        if m:\n",
    "            tumor_size =( int(m.group(1)) + int(m.group(2)))/2\n",
    "        else:\n",
    "            raise Exception('wrong data')\n",
    "        \n",
    "        m = re.match(r\"(\\d+)-(\\d+)\", string[4])\n",
    "        if m:\n",
    "            inv_nodes = ( int(m.group(1)) + int(m.group(2)))/2\n",
    "        else:\n",
    "            raise Exception('wrong data')\n",
    "        \n",
    "        if (string[5] == \"no\"):\n",
    "            node_caps = int(0)\n",
    "        elif (string[5] == \"yes\"):\n",
    "            node_caps = int(1)\n",
    "        else:\n",
    "            raise Exception('wrong data')    \n",
    "        \n",
    "        deg_malig = int( string[6])\n",
    "        \n",
    "        if (string[7] == \"left\"):\n",
    "            breast = int(0)\n",
    "        elif (string[7] == \"right\"):\n",
    "            breast = int(1)\n",
    "        else:\n",
    "            raise Exception('wrong data')\n",
    "        \n",
    "            \n",
    "        if (string[8] == \"left_up\"):\n",
    "            bq_left_up = int(1)\n",
    "            bq_left_low = int(0)\n",
    "            bq_right_up = int(0)\n",
    "            bq_right_low = int(0)\n",
    "            bq_central = int(0)\n",
    "        elif (string[8] == \"left_low\"):\n",
    "            bq_left_up = int(0)\n",
    "            bq_left_low = int(1)\n",
    "            bq_right_up = int(0)\n",
    "            bq_right_low = int(0)\n",
    "            bq_central = int(0)\n",
    "        elif (string[8] == \"right_up\"):\n",
    "            bq_left_up = int(0)\n",
    "            bq_left_low = int(0)\n",
    "            bq_right_up = int(1)\n",
    "            bq_right_low = int(0)\n",
    "            bq_central = int(0)   \n",
    "        elif (string[8] == \"right_low\"):\n",
    "            bq_left_up = int(0)\n",
    "            bq_left_low = int(0)\n",
    "            bq_right_up = int(0)\n",
    "            bq_right_low = int(1)\n",
    "            bq_central = int(0)\n",
    "        elif (string[8] == \"central\"):\n",
    "            bq_left_up = int(0)\n",
    "            bq_left_low = int(0)\n",
    "            bq_right_up = int(0)\n",
    "            bq_right_low = int(0)\n",
    "            bq_central = int(1)\n",
    "        else:\n",
    "            raise Exception('wrong data')\n",
    "        \n",
    "        if (string[9] == \"no\"):\n",
    "            irradiat = int(0)\n",
    "        elif (string[9] == \"yes\"):\n",
    "            irradiat = int(1)\n",
    "        else:\n",
    "            raise Exception('wrong data')    \n",
    "    except Exception as error:\n",
    "        print( 'dropped', line)\n",
    "    else:\n",
    "        dictionary['recurrence_events'].append(recurrence_events)\n",
    "        dictionary['age'].append( age)\n",
    "        dictionary['lt40'].append( lt40)\n",
    "        dictionary['ge40'].append( ge40)\n",
    "        dictionary['premeno'].append( premeno)\n",
    "        dictionary['deg_malig'].append( deg_malig)\n",
    "        dictionary['tumor_size'].append( tumor_size)\n",
    "        dictionary['inv_nodes'].append( inv_nodes)\n",
    "        dictionary['node_caps'].append( node_caps)\n",
    "        dictionary['breast'].append( breast)\n",
    "        dictionary['bq_left_up'].append( bq_left_up)\n",
    "        dictionary['bq_left_low'].append( bq_left_low)\n",
    "        dictionary['bq_right_up'].append( bq_right_up)\n",
    "        dictionary['bq_right_low'].append( bq_right_low)        \n",
    "        dictionary['bq_central'].append( bq_central)\n",
    "        dictionary['irradiat'].append( irradiat)\n",
    "\n",
    "        \n",
    "\n",
    "\n",
    "with open (DATA_N_PATH, \"r\") as file:\n",
    "    for line in file.readlines():\n",
    "        for sline in line.split(';'):\n",
    "            if sline.strip():\n",
    "                parse_line( sline)\n",
    "\n"
   ]
  },
  {
   "cell_type": "code",
   "execution_count": 5,
   "metadata": {},
   "outputs": [
    {
     "data": {
      "text/html": [
       "<div>\n",
       "<style scoped>\n",
       "    .dataframe tbody tr th:only-of-type {\n",
       "        vertical-align: middle;\n",
       "    }\n",
       "\n",
       "    .dataframe tbody tr th {\n",
       "        vertical-align: top;\n",
       "    }\n",
       "\n",
       "    .dataframe thead th {\n",
       "        text-align: right;\n",
       "    }\n",
       "</style>\n",
       "<table border=\"1\" class=\"dataframe\">\n",
       "  <thead>\n",
       "    <tr style=\"text-align: right;\">\n",
       "      <th></th>\n",
       "      <th>recurrence_events</th>\n",
       "      <th>age</th>\n",
       "      <th>lt40</th>\n",
       "      <th>ge40</th>\n",
       "      <th>premeno</th>\n",
       "      <th>tumor_size</th>\n",
       "      <th>inv_nodes</th>\n",
       "      <th>node_caps</th>\n",
       "      <th>deg_malig</th>\n",
       "      <th>breast</th>\n",
       "      <th>bq_left_up</th>\n",
       "      <th>bq_left_low</th>\n",
       "      <th>bq_right_up</th>\n",
       "      <th>bq_right_low</th>\n",
       "      <th>bq_central</th>\n",
       "      <th>irradiat</th>\n",
       "    </tr>\n",
       "  </thead>\n",
       "  <tbody>\n",
       "    <tr>\n",
       "      <th>0</th>\n",
       "      <td>0</td>\n",
       "      <td>35</td>\n",
       "      <td>0</td>\n",
       "      <td>0</td>\n",
       "      <td>1</td>\n",
       "      <td>32.0</td>\n",
       "      <td>1.0</td>\n",
       "      <td>0</td>\n",
       "      <td>3</td>\n",
       "      <td>0</td>\n",
       "      <td>0</td>\n",
       "      <td>1</td>\n",
       "      <td>0</td>\n",
       "      <td>0</td>\n",
       "      <td>0</td>\n",
       "      <td>0</td>\n",
       "    </tr>\n",
       "    <tr>\n",
       "      <th>1</th>\n",
       "      <td>0</td>\n",
       "      <td>45</td>\n",
       "      <td>0</td>\n",
       "      <td>0</td>\n",
       "      <td>1</td>\n",
       "      <td>22.0</td>\n",
       "      <td>1.0</td>\n",
       "      <td>0</td>\n",
       "      <td>2</td>\n",
       "      <td>1</td>\n",
       "      <td>0</td>\n",
       "      <td>0</td>\n",
       "      <td>1</td>\n",
       "      <td>0</td>\n",
       "      <td>0</td>\n",
       "      <td>0</td>\n",
       "    </tr>\n",
       "    <tr>\n",
       "      <th>2</th>\n",
       "      <td>0</td>\n",
       "      <td>45</td>\n",
       "      <td>0</td>\n",
       "      <td>0</td>\n",
       "      <td>1</td>\n",
       "      <td>22.0</td>\n",
       "      <td>1.0</td>\n",
       "      <td>0</td>\n",
       "      <td>2</td>\n",
       "      <td>0</td>\n",
       "      <td>0</td>\n",
       "      <td>1</td>\n",
       "      <td>0</td>\n",
       "      <td>0</td>\n",
       "      <td>0</td>\n",
       "      <td>0</td>\n",
       "    </tr>\n",
       "    <tr>\n",
       "      <th>3</th>\n",
       "      <td>0</td>\n",
       "      <td>65</td>\n",
       "      <td>0</td>\n",
       "      <td>1</td>\n",
       "      <td>0</td>\n",
       "      <td>17.0</td>\n",
       "      <td>1.0</td>\n",
       "      <td>0</td>\n",
       "      <td>2</td>\n",
       "      <td>1</td>\n",
       "      <td>1</td>\n",
       "      <td>0</td>\n",
       "      <td>0</td>\n",
       "      <td>0</td>\n",
       "      <td>0</td>\n",
       "      <td>0</td>\n",
       "    </tr>\n",
       "    <tr>\n",
       "      <th>4</th>\n",
       "      <td>0</td>\n",
       "      <td>45</td>\n",
       "      <td>0</td>\n",
       "      <td>0</td>\n",
       "      <td>1</td>\n",
       "      <td>2.0</td>\n",
       "      <td>1.0</td>\n",
       "      <td>0</td>\n",
       "      <td>2</td>\n",
       "      <td>1</td>\n",
       "      <td>0</td>\n",
       "      <td>0</td>\n",
       "      <td>0</td>\n",
       "      <td>1</td>\n",
       "      <td>0</td>\n",
       "      <td>0</td>\n",
       "    </tr>\n",
       "  </tbody>\n",
       "</table>\n",
       "</div>"
      ],
      "text/plain": [
       "   recurrence_events  age  lt40  ge40  premeno  tumor_size  inv_nodes  \\\n",
       "0                  0   35     0     0        1        32.0        1.0   \n",
       "1                  0   45     0     0        1        22.0        1.0   \n",
       "2                  0   45     0     0        1        22.0        1.0   \n",
       "3                  0   65     0     1        0        17.0        1.0   \n",
       "4                  0   45     0     0        1         2.0        1.0   \n",
       "\n",
       "   node_caps  deg_malig  breast  bq_left_up  bq_left_low  bq_right_up  \\\n",
       "0          0          3       0           0            1            0   \n",
       "1          0          2       1           0            0            1   \n",
       "2          0          2       0           0            1            0   \n",
       "3          0          2       1           1            0            0   \n",
       "4          0          2       1           0            0            0   \n",
       "\n",
       "   bq_right_low  bq_central  irradiat  \n",
       "0             0           0         0  \n",
       "1             0           0         0  \n",
       "2             0           0         0  \n",
       "3             0           0         0  \n",
       "4             1           0         0  "
      ]
     },
     "execution_count": 5,
     "metadata": {},
     "output_type": "execute_result"
    }
   ],
   "source": [
    "row_data = pd.DataFrame(data = dictionary).values\n",
    "##row_data = row_data.sort_values(by = ['user', 'time'])\n",
    "pd.DataFrame(data = dictionary).head()"
   ]
  },
  {
   "cell_type": "code",
   "execution_count": 45,
   "metadata": {},
   "outputs": [
    {
     "name": "stdout",
     "output_type": "stream",
     "text": [
      "Epoch 1/100\n",
      "70/70 [==============================] - 0s 7ms/step - loss: 0.7234 - acc: 0.2714\n",
      "Epoch 2/100\n",
      "70/70 [==============================] - 0s 162us/step - loss: 0.6922 - acc: 0.5714\n",
      "Epoch 3/100\n",
      "70/70 [==============================] - 0s 271us/step - loss: 0.6697 - acc: 0.7143\n",
      "Epoch 4/100\n",
      "70/70 [==============================] - 0s 353us/step - loss: 0.6516 - acc: 0.7143\n",
      "Epoch 5/100\n",
      "70/70 [==============================] - 0s 222us/step - loss: 0.6358 - acc: 0.7143\n",
      "Epoch 6/100\n",
      "70/70 [==============================] - 0s 241us/step - loss: 0.6203 - acc: 0.7143\n",
      "Epoch 7/100\n",
      "70/70 [==============================] - 0s 229us/step - loss: 0.6126 - acc: 0.7143\n",
      "Epoch 8/100\n",
      "70/70 [==============================] - 0s 214us/step - loss: 0.6027 - acc: 0.7143\n",
      "Epoch 9/100\n",
      "70/70 [==============================] - 0s 281us/step - loss: 0.5989 - acc: 0.7143\n",
      "Epoch 10/100\n",
      "70/70 [==============================] - 0s 316us/step - loss: 0.5948 - acc: 0.7143\n",
      "Epoch 11/100\n",
      "70/70 [==============================] - 0s 267us/step - loss: 0.5919 - acc: 0.7143\n",
      "Epoch 12/100\n",
      "70/70 [==============================] - 0s 261us/step - loss: 0.5880 - acc: 0.7143\n",
      "Epoch 13/100\n",
      "70/70 [==============================] - 0s 191us/step - loss: 0.5855 - acc: 0.7143\n",
      "Epoch 14/100\n",
      "70/70 [==============================] - 0s 177us/step - loss: 0.5842 - acc: 0.7143\n",
      "Epoch 15/100\n",
      "70/70 [==============================] - 0s 180us/step - loss: 0.5818 - acc: 0.7143\n",
      "Epoch 16/100\n",
      "70/70 [==============================] - 0s 193us/step - loss: 0.5810 - acc: 0.7143\n",
      "Epoch 17/100\n",
      "70/70 [==============================] - 0s 215us/step - loss: 0.5807 - acc: 0.7143\n",
      "Epoch 18/100\n",
      "70/70 [==============================] - 0s 176us/step - loss: 0.5779 - acc: 0.7143\n",
      "Epoch 19/100\n",
      "70/70 [==============================] - 0s 181us/step - loss: 0.5768 - acc: 0.7143\n",
      "Epoch 20/100\n",
      "70/70 [==============================] - 0s 196us/step - loss: 0.5755 - acc: 0.7143\n",
      "Epoch 21/100\n",
      "70/70 [==============================] - 0s 189us/step - loss: 0.5746 - acc: 0.7143\n",
      "Epoch 22/100\n",
      "70/70 [==============================] - 0s 195us/step - loss: 0.5739 - acc: 0.7143\n",
      "Epoch 23/100\n",
      "70/70 [==============================] - 0s 194us/step - loss: 0.5731 - acc: 0.7143\n",
      "Epoch 24/100\n",
      "70/70 [==============================] - 0s 186us/step - loss: 0.5709 - acc: 0.7143\n",
      "Epoch 25/100\n",
      "70/70 [==============================] - 0s 198us/step - loss: 0.5710 - acc: 0.7143\n",
      "Epoch 26/100\n",
      "70/70 [==============================] - 0s 171us/step - loss: 0.5681 - acc: 0.7143\n",
      "Epoch 27/100\n",
      "70/70 [==============================] - 0s 171us/step - loss: 0.5674 - acc: 0.7143\n",
      "Epoch 28/100\n",
      "70/70 [==============================] - 0s 161us/step - loss: 0.5660 - acc: 0.7143\n",
      "Epoch 29/100\n",
      "70/70 [==============================] - 0s 158us/step - loss: 0.5646 - acc: 0.7143\n",
      "Epoch 30/100\n",
      "70/70 [==============================] - 0s 189us/step - loss: 0.5627 - acc: 0.7143\n",
      "Epoch 31/100\n",
      "70/70 [==============================] - 0s 185us/step - loss: 0.5615 - acc: 0.7143\n",
      "Epoch 32/100\n",
      "70/70 [==============================] - 0s 189us/step - loss: 0.5610 - acc: 0.7143\n",
      "Epoch 33/100\n",
      "70/70 [==============================] - 0s 203us/step - loss: 0.5601 - acc: 0.7143\n",
      "Epoch 34/100\n",
      "70/70 [==============================] - 0s 195us/step - loss: 0.5575 - acc: 0.7143\n",
      "Epoch 35/100\n",
      "70/70 [==============================] - 0s 172us/step - loss: 0.5564 - acc: 0.7143\n",
      "Epoch 36/100\n",
      "70/70 [==============================] - 0s 171us/step - loss: 0.5551 - acc: 0.7143\n",
      "Epoch 37/100\n",
      "70/70 [==============================] - 0s 187us/step - loss: 0.5553 - acc: 0.7143\n",
      "Epoch 38/100\n",
      "70/70 [==============================] - 0s 181us/step - loss: 0.5529 - acc: 0.7143\n",
      "Epoch 39/100\n",
      "70/70 [==============================] - 0s 173us/step - loss: 0.5539 - acc: 0.7143\n",
      "Epoch 40/100\n",
      "70/70 [==============================] - 0s 180us/step - loss: 0.5496 - acc: 0.7143\n",
      "Epoch 41/100\n",
      "70/70 [==============================] - 0s 185us/step - loss: 0.5484 - acc: 0.7143\n",
      "Epoch 42/100\n",
      "70/70 [==============================] - 0s 148us/step - loss: 0.5465 - acc: 0.7143\n",
      "Epoch 43/100\n",
      "70/70 [==============================] - 0s 176us/step - loss: 0.5454 - acc: 0.7143\n",
      "Epoch 44/100\n",
      "70/70 [==============================] - 0s 160us/step - loss: 0.5442 - acc: 0.7143\n",
      "Epoch 45/100\n",
      "70/70 [==============================] - 0s 188us/step - loss: 0.5431 - acc: 0.7143\n",
      "Epoch 46/100\n",
      "70/70 [==============================] - 0s 188us/step - loss: 0.5417 - acc: 0.7143\n",
      "Epoch 47/100\n",
      "70/70 [==============================] - 0s 167us/step - loss: 0.5398 - acc: 0.7143\n",
      "Epoch 48/100\n",
      "70/70 [==============================] - 0s 184us/step - loss: 0.5405 - acc: 0.7143\n",
      "Epoch 49/100\n",
      "70/70 [==============================] - 0s 395us/step - loss: 0.5380 - acc: 0.7143\n",
      "Epoch 50/100\n",
      "70/70 [==============================] - 0s 222us/step - loss: 0.5361 - acc: 0.7143\n",
      "Epoch 51/100\n",
      "70/70 [==============================] - 0s 274us/step - loss: 0.5371 - acc: 0.7143\n",
      "Epoch 52/100\n",
      "70/70 [==============================] - 0s 275us/step - loss: 0.5378 - acc: 0.7143\n",
      "Epoch 53/100\n",
      "70/70 [==============================] - 0s 281us/step - loss: 0.5337 - acc: 0.7143\n",
      "Epoch 54/100\n",
      "70/70 [==============================] - 0s 389us/step - loss: 0.5319 - acc: 0.7143\n",
      "Epoch 55/100\n",
      "70/70 [==============================] - 0s 264us/step - loss: 0.5302 - acc: 0.7143\n",
      "Epoch 56/100\n",
      "70/70 [==============================] - 0s 196us/step - loss: 0.5285 - acc: 0.7143\n",
      "Epoch 57/100\n",
      "70/70 [==============================] - 0s 182us/step - loss: 0.5274 - acc: 0.7143\n",
      "Epoch 58/100\n",
      "70/70 [==============================] - 0s 281us/step - loss: 0.5258 - acc: 0.7143\n",
      "Epoch 59/100\n",
      "70/70 [==============================] - 0s 305us/step - loss: 0.5264 - acc: 0.7143\n",
      "Epoch 60/100\n",
      "70/70 [==============================] - 0s 324us/step - loss: 0.5235 - acc: 0.7143\n",
      "Epoch 61/100\n",
      "70/70 [==============================] - 0s 271us/step - loss: 0.5224 - acc: 0.7286\n",
      "Epoch 62/100\n",
      "70/70 [==============================] - 0s 270us/step - loss: 0.5207 - acc: 0.7429\n",
      "Epoch 63/100\n",
      "70/70 [==============================] - 0s 151us/step - loss: 0.5195 - acc: 0.7429\n",
      "Epoch 64/100\n",
      "70/70 [==============================] - 0s 327us/step - loss: 0.5207 - acc: 0.7429\n",
      "Epoch 65/100\n",
      "70/70 [==============================] - 0s 234us/step - loss: 0.5165 - acc: 0.7429\n",
      "Epoch 66/100\n",
      "70/70 [==============================] - 0s 204us/step - loss: 0.5160 - acc: 0.7429\n",
      "Epoch 67/100\n",
      "70/70 [==============================] - 0s 251us/step - loss: 0.5147 - acc: 0.7429\n",
      "Epoch 68/100\n",
      "70/70 [==============================] - 0s 198us/step - loss: 0.5149 - acc: 0.7429\n",
      "Epoch 69/100\n",
      "70/70 [==============================] - 0s 307us/step - loss: 0.5124 - acc: 0.7571\n",
      "Epoch 70/100\n",
      "70/70 [==============================] - 0s 297us/step - loss: 0.5114 - acc: 0.7429\n",
      "Epoch 71/100\n",
      "70/70 [==============================] - 0s 258us/step - loss: 0.5127 - acc: 0.7429\n",
      "Epoch 72/100\n",
      "70/70 [==============================] - 0s 218us/step - loss: 0.5090 - acc: 0.7429\n",
      "Epoch 73/100\n",
      "70/70 [==============================] - 0s 299us/step - loss: 0.5091 - acc: 0.7429\n",
      "Epoch 74/100\n",
      "70/70 [==============================] - 0s 259us/step - loss: 0.5075 - acc: 0.7429\n",
      "Epoch 75/100\n",
      "70/70 [==============================] - 0s 196us/step - loss: 0.5053 - acc: 0.7571\n",
      "Epoch 76/100\n",
      "70/70 [==============================] - 0s 285us/step - loss: 0.5044 - acc: 0.7571\n",
      "Epoch 77/100\n",
      "70/70 [==============================] - 0s 311us/step - loss: 0.5036 - acc: 0.7429\n",
      "Epoch 78/100\n",
      "70/70 [==============================] - 0s 204us/step - loss: 0.5041 - acc: 0.7571\n",
      "Epoch 79/100\n",
      "70/70 [==============================] - 0s 290us/step - loss: 0.5020 - acc: 0.7571\n",
      "Epoch 80/100\n",
      "70/70 [==============================] - 0s 234us/step - loss: 0.4998 - acc: 0.7571\n",
      "Epoch 81/100\n",
      "70/70 [==============================] - 0s 276us/step - loss: 0.4986 - acc: 0.7571\n",
      "Epoch 82/100\n",
      "70/70 [==============================] - 0s 331us/step - loss: 0.4979 - acc: 0.7571\n",
      "Epoch 83/100\n",
      "70/70 [==============================] - 0s 356us/step - loss: 0.4965 - acc: 0.7571\n",
      "Epoch 84/100\n",
      "70/70 [==============================] - 0s 278us/step - loss: 0.4971 - acc: 0.7714\n",
      "Epoch 85/100\n"
     ]
    },
    {
     "name": "stdout",
     "output_type": "stream",
     "text": [
      "70/70 [==============================] - 0s 307us/step - loss: 0.4948 - acc: 0.7571\n",
      "Epoch 86/100\n",
      "70/70 [==============================] - 0s 281us/step - loss: 0.4941 - acc: 0.7571\n",
      "Epoch 87/100\n",
      "70/70 [==============================] - 0s 298us/step - loss: 0.4936 - acc: 0.7571\n",
      "Epoch 88/100\n",
      "70/70 [==============================] - 0s 247us/step - loss: 0.4924 - acc: 0.7571\n",
      "Epoch 89/100\n",
      "70/70 [==============================] - 0s 189us/step - loss: 0.4913 - acc: 0.7571\n",
      "Epoch 90/100\n",
      "70/70 [==============================] - 0s 194us/step - loss: 0.4917 - acc: 0.7714\n",
      "Epoch 91/100\n",
      "70/70 [==============================] - 0s 204us/step - loss: 0.4880 - acc: 0.7714\n",
      "Epoch 92/100\n",
      "70/70 [==============================] - 0s 248us/step - loss: 0.4872 - acc: 0.7714\n",
      "Epoch 93/100\n",
      "70/70 [==============================] - 0s 210us/step - loss: 0.4858 - acc: 0.7714\n",
      "Epoch 94/100\n",
      "70/70 [==============================] - 0s 203us/step - loss: 0.4862 - acc: 0.7857\n",
      "Epoch 95/100\n",
      "70/70 [==============================] - 0s 314us/step - loss: 0.4840 - acc: 0.7714\n",
      "Epoch 96/100\n",
      "70/70 [==============================] - 0s 197us/step - loss: 0.4845 - acc: 0.7714\n",
      "Epoch 97/100\n",
      "70/70 [==============================] - 0s 143us/step - loss: 0.4825 - acc: 0.7571\n",
      "Epoch 98/100\n",
      "70/70 [==============================] - 0s 239us/step - loss: 0.4821 - acc: 0.7714\n",
      "Epoch 99/100\n",
      "70/70 [==============================] - 0s 224us/step - loss: 0.4801 - acc: 0.7857\n",
      "Epoch 100/100\n",
      "70/70 [==============================] - 0s 249us/step - loss: 0.4847 - acc: 0.7714\n",
      "207/207 [==============================] - 0s 746us/step\n",
      "\n",
      "acc: 70.53%\n"
     ]
    }
   ],
   "source": [
    "\n",
    "dataset = row_data\n",
    "\n",
    "X_train, X_test, y_train, y_test = train_test_split(dataset[:,1:15], dataset[:,0:1], test_size=0.25, stratify=dataset[:,0:1])\n",
    "X_train = (X_train - X_train.mean()) / (X_train.std())\n",
    "X_test = (X_test - X_test.mean()) / (X_test.std())\n",
    "\n",
    "model = Sequential()\n",
    "model.add(Dense(15, input_dim=14, activation='relu')) \n",
    "#model.add(Dense(15, activation='relu'))\n",
    "model.add(Dense(8, activation='relu'))\n",
    "model.add(Dense(10, activation='relu'))\n",
    "model.add(Dense(1, activation='sigmoid')) # сигмоида вместо relu для определения вероятности\n",
    " \n",
    "\n",
    "model.compile(loss=\"binary_crossentropy\", optimizer=\"adam\", metrics=['accuracy'])\n",
    " \n",
    "# обучаем нейронную сеть\n",
    "history = model.fit(X_test, y_test, epochs = 100, batch_size=10)\n",
    "\n",
    "# оцениваем результат\n",
    "scores = model.evaluate(X_train, y_train)\n",
    "print(\"\\n%s: %.2f%%\" % (model.metrics_names[1], scores[1]*100))"
   ]
  },
  {
   "cell_type": "code",
   "execution_count": 67,
   "metadata": {},
   "outputs": [],
   "source": [
    "def seq_fit(x_train):\n",
    "    N =  8\n",
    "    acc = [0.0] *N\n",
    "    epochs = [10, 20,50, 100,200,500,1000,2000]#,5000,10000]\n",
    "\n",
    "    for i in range(N):\n",
    "        model.fit(x_train, y_train, epochs = epochs[i],verbose = 0, batch_size=10)\n",
    "        scores = model.evaluate(X_test, y_test)\n",
    "        acc[i]= scores[1]*100\n",
    "    return np.log(epochs), acc"
   ]
  },
  {
   "cell_type": "code",
   "execution_count": 76,
   "metadata": {},
   "outputs": [
    {
     "name": "stdout",
     "output_type": "stream",
     "text": [
      "70/70 [==============================] - 0s 34us/step\n",
      "70/70 [==============================] - 0s 32us/step\n",
      "70/70 [==============================] - 0s 27us/step\n",
      "70/70 [==============================] - 0s 34us/step\n",
      "70/70 [==============================] - 0s 31us/step\n",
      "70/70 [==============================] - 0s 36us/step\n",
      "70/70 [==============================] - 0s 76us/step\n",
      "70/70 [==============================] - 0s 85us/step\n"
     ]
    }
   ],
   "source": [
    "x,y = seq_fit(X_train)"
   ]
  },
  {
   "cell_type": "code",
   "execution_count": 77,
   "metadata": {},
   "outputs": [
    {
     "data": {
      "image/png": "[encoded data removed]",
      "text/plain": [
       "<Figure size 432x288 with 1 Axes>"
      ]
     },
     "metadata": {},
     "output_type": "display_data"
    }
   ],
   "source": [
    "plt.plot(x, y, color= 'b')\n",
    "plt.xlabel('epochs in log scale ')\n",
    "plt.ylabel(\"acc\")\n",
    "plt.show()"
   ]
  },
  {
   "cell_type": "markdown",
   "metadata": {},
   "source": [
    "## наложим шум"
   ]
  },
  {
   "cell_type": "code",
   "execution_count": 68,
   "metadata": {},
   "outputs": [
    {
     "name": "stdout",
     "output_type": "stream",
     "text": [
      "70/70 [==============================] - 0s 58us/step\n",
      "70/70 [==============================] - 0s 29us/step\n",
      "70/70 [==============================] - 0s 30us/step\n",
      "70/70 [==============================] - 0s 30us/step\n",
      "70/70 [==============================] - 0s 32us/step\n",
      "70/70 [==============================] - 0s 26us/step\n",
      "70/70 [==============================] - 0s 64us/step\n",
      "70/70 [==============================] - 0s 29us/step\n"
     ]
    }
   ],
   "source": [
    "sigma = [0.1, 0.3, 0.5, 0.7]\n",
    "noise = np.random.normal(0, sigma[0], X_train.shape)\n",
    "x,y = seq_fit(X_train+ noise)\n"
   ]
  },
  {
   "cell_type": "markdown",
   "metadata": {},
   "source": [
    "## sigma 0.1"
   ]
  },
  {
   "cell_type": "code",
   "execution_count": 69,
   "metadata": {},
   "outputs": [
    {
     "data": {
      "image/png": "[encoded data removed]",
      "text/plain": [
       "<Figure size 432x288 with 1 Axes>"
      ]
     },
     "metadata": {},
     "output_type": "display_data"
    }
   ],
   "source": [
    "plt.plot(x, y, color= 'b')\n",
    "plt.xlabel('epochs in log scale ')\n",
    "plt.ylabel(\"acc\")\n",
    "plt.show()"
   ]
  },
  {
   "cell_type": "code",
   "execution_count": 70,
   "metadata": {},
   "outputs": [
    {
     "name": "stdout",
     "output_type": "stream",
     "text": [
      "70/70 [==============================] - 0s 28us/step\n",
      "70/70 [==============================] - 0s 28us/step\n",
      "70/70 [==============================] - 0s 30us/step\n",
      "70/70 [==============================] - 0s 55us/step\n",
      "70/70 [==============================] - 0s 31us/step\n",
      "70/70 [==============================] - 0s 27us/step\n",
      "70/70 [==============================] - 0s 52us/step\n",
      "70/70 [==============================] - 0s 30us/step\n"
     ]
    }
   ],
   "source": [
    "noise = np.random.normal(0, sigma[1], X_train.shape)\n",
    "x,y = seq_fit(X_train+ noise)"
   ]
  },
  {
   "cell_type": "markdown",
   "metadata": {},
   "source": [
    "## sigma 0.3"
   ]
  },
  {
   "cell_type": "code",
   "execution_count": 71,
   "metadata": {},
   "outputs": [
    {
     "data": {
      "image/png": "[encoded data removed]",
      "text/plain": [
       "<Figure size 432x288 with 1 Axes>"
      ]
     },
     "metadata": {},
     "output_type": "display_data"
    }
   ],
   "source": [
    "plt.plot(x, y, color= 'b')\n",
    "plt.xlabel('epochs in log scale ')\n",
    "plt.ylabel(\"acc\")\n",
    "plt.show()"
   ]
  },
  {
   "cell_type": "code",
   "execution_count": 72,
   "metadata": {},
   "outputs": [
    {
     "name": "stdout",
     "output_type": "stream",
     "text": [
      "70/70 [==============================] - 0s 35us/step\n",
      "70/70 [==============================] - 0s 36us/step\n",
      "70/70 [==============================] - 0s 35us/step\n",
      "70/70 [==============================] - 0s 29us/step\n",
      "70/70 [==============================] - 0s 31us/step\n",
      "70/70 [==============================] - 0s 30us/step\n",
      "70/70 [==============================] - 0s 36us/step\n",
      "70/70 [==============================] - 0s 52us/step\n"
     ]
    }
   ],
   "source": [
    "noise = np.random.normal(0, sigma[2], X_train.shape)\n",
    "x,y = seq_fit(X_train+ noise)"
   ]
  },
  {
   "cell_type": "markdown",
   "metadata": {},
   "source": [
    "## sigma 0.5"
   ]
  },
  {
   "cell_type": "code",
   "execution_count": 73,
   "metadata": {},
   "outputs": [
    {
     "data": {
      "image/png": "[encoded data removed]",
      "text/plain": [
       "<Figure size 432x288 with 1 Axes>"
      ]
     },
     "metadata": {},
     "output_type": "display_data"
    }
   ],
   "source": [
    "plt.plot(x, y, color= 'b')\n",
    "plt.xlabel('epochs in log scale ')\n",
    "plt.ylabel(\"acc\")\n",
    "plt.show()"
   ]
  },
  {
   "cell_type": "code",
   "execution_count": 74,
   "metadata": {},
   "outputs": [
    {
     "name": "stdout",
     "output_type": "stream",
     "text": [
      "70/70 [==============================] - 0s 44us/step\n",
      "70/70 [==============================] - 0s 28us/step\n",
      "70/70 [==============================] - 0s 26us/step\n",
      "70/70 [==============================] - 0s 34us/step\n",
      "70/70 [==============================] - 0s 32us/step\n",
      "70/70 [==============================] - 0s 34us/step\n",
      "70/70 [==============================] - 0s 27us/step\n",
      "70/70 [==============================] - 0s 29us/step\n"
     ]
    }
   ],
   "source": [
    "noise = np.random.normal(0, sigma[3], X_train.shape)\n",
    "x,y = seq_fit(X_train+ noise)"
   ]
  },
  {
   "cell_type": "markdown",
   "metadata": {},
   "source": [
    "## sigma 0.7"
   ]
  },
  {
   "cell_type": "code",
   "execution_count": 75,
   "metadata": {},
   "outputs": [
    {
     "data": {
      "image/png": "[encoded data removed]",
      "text/plain": [
       "<Figure size 432x288 with 1 Axes>"
      ]
     },
     "metadata": {},
     "output_type": "display_data"
    }
   ],
   "source": [
    "plt.plot(x, y, color= 'b')\n",
    "plt.xlabel('epochs in log scale ')\n",
    "plt.ylabel(\"acc\")\n",
    "plt.show()"
   ]
  },
  {
   "cell_type": "code",
   "execution_count": null,
   "metadata": {},
   "outputs": [],
   "source": []
  }
 ],
 "metadata": {
  "kernelspec": {
   "display_name": "Python 3",
   "language": "python",
   "name": "python3"
  },
  "language_info": {
   "codemirror_mode": {
    "name": "ipython",
    "version": 3
   },
   "file_extension": ".py",
   "mimetype": "text/x-python",
   "name": "python",
   "nbconvert_exporter": "python",
   "pygments_lexer": "ipython3",
   "version": "3.6.5"
  }
 },
 "nbformat": 4,
 "nbformat_minor": 2
}
