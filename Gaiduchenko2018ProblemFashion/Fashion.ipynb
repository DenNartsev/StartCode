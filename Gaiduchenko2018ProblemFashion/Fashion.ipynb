{
  "nbformat": 4,
  "nbformat_minor": 0,
  "metadata": {
    "colab": {
      "name": "Fashion.ipynb",
      "version": "0.3.2",
      "provenance": [],
      "collapsed_sections": []
    },
    "kernelspec": {
      "name": "python3",
      "display_name": "Python 3"
    },
    "accelerator": "GPU"
  },
  "cells": [
    {
      "metadata": {
        "id": "pa04Kx-cRrpd",
        "colab_type": "code",
        "colab": {}
      },
      "cell_type": "code",
      "source": [
        "import keras\n",
        "import numpy as np\n",
        "import matplotlib.pyplot as plt\n",
        "from skimage import transform\n",
        "from sklearn.metrics import accuracy_score\n",
        "from keras import backend as K\n",
        "\n",
        "from collections import namedtuple # named tuples for better readability"
      ],
      "execution_count": 0,
      "outputs": []
    },
    {
      "metadata": {
        "id": "EfMki3nIRrpp",
        "colab_type": "text"
      },
      "cell_type": "markdown",
      "source": [
        "### Данные:\n",
        "Будем работать с датасетом [FashionMNIST](https://github.com/zalandoresearch/fashion-mnist). "
      ]
    },
    {
      "metadata": {
        "id": "qLENMke8Rrpr",
        "colab_type": "code",
        "colab": {}
      },
      "cell_type": "code",
      "source": [
        "from keras.datasets import fashion_mnist\n",
        "\n",
        "(X_train, y_train), (X_test, y_test) = fashion_mnist.load_data()\n",
        "del y_train, y_test"
      ],
      "execution_count": 0,
      "outputs": []
    },
    {
      "metadata": {
        "id": "_uDgpXTmRrpx",
        "colab_type": "code",
        "colab": {
          "base_uri": "https://localhost:8080/",
          "height": 287
        },
        "outputId": "3be91ef8-0115-4631-fed6-cbb06f9b5707"
      },
      "cell_type": "code",
      "source": [
        "plt.imshow(X_train[9].reshape([28,28]))"
      ],
      "execution_count": 28,
      "outputs": [
        {
          "output_type": "execute_result",
          "data": {
            "text/plain": [
              "<matplotlib.image.AxesImage at 0x7f4766e207f0>"
            ]
          },
          "metadata": {
            "tags": []
          },
          "execution_count": 28
        },
        {
          "output_type": "display_data",
          "data": {
            "image/png": "[encoded data removed]",
            "text/plain": [
              "<matplotlib.figure.Figure at 0x7f4766e0d780>"
            ]
          },
          "metadata": {
            "tags": []
          }
        }
      ]
    },
    {
      "metadata": {
        "id": "15RqGcBORrp8",
        "colab_type": "code",
        "colab": {
          "base_uri": "https://localhost:8080/",
          "height": 287
        },
        "outputId": "faa83910-6c1f-4bb9-9807-ef48fb115f5e"
      },
      "cell_type": "code",
      "source": [
        "plt.imshow(transform.rotate(X_train[9].reshape([28,28]), 45))"
      ],
      "execution_count": 29,
      "outputs": [
        {
          "output_type": "execute_result",
          "data": {
            "text/plain": [
              "<matplotlib.image.AxesImage at 0x7f47641180f0>"
            ]
          },
          "metadata": {
            "tags": []
          },
          "execution_count": 29
        },
        {
          "output_type": "display_data",
          "data": {
            "image/png": "[encoded data removed]",
            "text/plain": [
              "<matplotlib.figure.Figure at 0x7f4766e02240>"
            ]
          },
          "metadata": {
            "tags": []
          }
        }
      ]
    },
    {
      "metadata": {
        "id": "u9L-8fmSRrqH",
        "colab_type": "text"
      },
      "cell_type": "markdown",
      "source": [
        "### Задание.\n",
        "Ваша задача - определить, при каком минимальном угле поворота нейронная сеть фиксированной архитектуры перестает различать обычное и повертнутое изображение. Говоря формально, решаем задачу классификации, исходные изображения принадлежат классу `0`, повернутые - классу `1`. Оцените точность классификации по метрике `accuracy` и ее дисперсию в зависимости от угла поворота изображения и отобразите данную зависимость на графике.\n",
        "\n",
        "Функция `rotate_dataset` поворачивает поданный датасет на заданный угол. Функция `reset_weights` сбрасывает параметры модели.\n",
        "\n",
        "*Обращаем ваше внимание, что для качественной оценки данных зависимостей эксперименты для каждого размера выборки стоит повторять многократно на различных случайных подвыборках.*"
      ]
    },
    {
      "metadata": {
        "id": "Zn5_XTyIg07L",
        "colab_type": "text"
      },
      "cell_type": "markdown",
      "source": [
        "# Выполнение задания\n",
        "\n",
        "Для начала определим необходимые функции по вращению датасета, получению новых пар объект-ответ, сброса параметров модели."
      ]
    },
    {
      "metadata": {
        "id": "WPKheZqGRrqW",
        "colab_type": "code",
        "colab": {}
      },
      "cell_type": "code",
      "source": [
        "def rotate_dataset(dataset, angle):\n",
        "    return np.array(list(map(lambda x: transform.rotate(x, angle), dataset)))"
      ],
      "execution_count": 0,
      "outputs": []
    },
    {
      "metadata": {
        "id": "YLEaBawTRrqc",
        "colab_type": "code",
        "colab": {}
      },
      "cell_type": "code",
      "source": [
        "def get_X_and_y(base_dataset, angle):\n",
        "    rotated_datased = rotate_dataset(base_dataset, angle)\n",
        "    whole_dataset = np.vstack((base_dataset, rotated_datased)).reshape(-1, 784)\n",
        "    shuffled_indices = np.arange(len(whole_dataset))\n",
        "    \n",
        "    _labels = np.zeros(2*base_dataset.shape[0], dtype=bool)\n",
        "    _labels[base_dataset.shape[0]:] = True\n",
        "    _labels = _labels[:, None]\n",
        "    \n",
        "    whole_labels = np.array(np.hstack((_labels, ~_labels)), dtype=int)\n",
        "    \n",
        "    np.random.shuffle(shuffled_indices)    \n",
        "    whole_dataset = whole_dataset[shuffled_indices]\n",
        "    whole_labels = whole_labels[shuffled_indices]\n",
        "    \n",
        "    return whole_dataset, whole_labels\n"
      ],
      "execution_count": 0,
      "outputs": []
    },
    {
      "metadata": {
        "id": "rhhN_AKZRrqj",
        "colab_type": "code",
        "colab": {}
      },
      "cell_type": "code",
      "source": [
        "def reset_weights(model):\n",
        "    session = K.get_session()\n",
        "    for layer in model.layers: \n",
        "        if hasattr(layer, 'kernel_initializer'):\n",
        "            layer.kernel.initializer.run(session=session)\n",
        "    return"
      ],
      "execution_count": 0,
      "outputs": []
    },
    {
      "metadata": {
        "id": "30LeFxmKltWQ",
        "colab_type": "text"
      },
      "cell_type": "markdown",
      "source": [
        "## Строим архитектуру модели \n",
        "с помощью фреймворка Keras и бэк-энда Tensorflow. Поскольку функция `reset_weights` показала себя несколько неправильным образом, пришлось сделать такой костыль."
      ]
    },
    {
      "metadata": {
        "id": "dW58M_vVRrqr",
        "colab_type": "code",
        "colab": {}
      },
      "cell_type": "code",
      "source": [
        "def reinit_model():\n",
        "    model = keras.models.Sequential()\n",
        "    model.add(keras.layers.InputLayer([784]))\n",
        "    model.add(keras.layers.Dense(64))\n",
        "    model.add(keras.layers.Activation('relu'))\n",
        "    model.add(keras.layers.Dropout(0.5))\n",
        "    model.add(keras.layers.Dense(2))\n",
        "    model.add(keras.layers.Activation('softmax'))\n",
        "    model.compile('adam', 'categorical_crossentropy', metrics=['accuracy'])\n",
        "    return model"
      ],
      "execution_count": 0,
      "outputs": []
    },
    {
      "metadata": {
        "id": "hcUP-cLxqRhb",
        "colab_type": "text"
      },
      "cell_type": "markdown",
      "source": [
        "## Начинаем собирать данные для оценки точности модели\n",
        "\n",
        "Для каждого угла `angle` делаем `n_runs` подвыборок из датасета размером `set_size`, на которых обучим модель и протестируем качество на тестах, аккумулируем данные и усредняем качество.\n"
      ]
    },
    {
      "metadata": {
        "id": "6R7a4alnO8-Q",
        "colab_type": "code",
        "colab": {
          "base_uri": "https://localhost:8080/",
          "height": 8942
        },
        "outputId": "bad76019-04b9-4e37-f8cd-79dc41840acc"
      },
      "cell_type": "code",
      "source": [
        "# Для сохранения результатов\n",
        "import pickle\n",
        "\n",
        "# Создадим кортежи для сохранения результатов\n",
        "AngleTuple = namedtuple('AngleTuple', ['angle', 'mean', 'std'])\n",
        "\n",
        "# Инициализируем гиперпараметры\n",
        "n_runs = 7\n",
        "n_epochs = 40\n",
        "batch_size = 128\n",
        "angle_step = 15\n",
        "set_sizes = [500, 2000, 10000]\n",
        "\n",
        "# Инициализируем хранилище результатов\n",
        "total_scores = list()\n",
        "\n",
        "for subset_size in set_sizes:\n",
        "    subset_scores = list()\n",
        "\n",
        "    for angle in range(0, 361, angle_step):\n",
        "\n",
        "        # Получим тестовый датасет для конкретного угла\n",
        "        X_test_whole, y_test_whole = get_X_and_y(X_test, angle)\n",
        "  \n",
        "        # Локальные результаты для конкретного угла\n",
        "        angle_scores = list()\n",
        "        \n",
        "        for n_run in range(n_runs):\n",
        "                    \n",
        "\n",
        "            print('Subset size: {:>5} | angle: {:>3} | run {}/{}'.format(\n",
        "                subset_size, angle, n_run + 1, n_runs), end='')\n",
        "                   \n",
        "            # Получим случайную подвыборку из обучающей для конкретного угла.\n",
        "            # Делаем каждый раз новую случайную выборку, ибо рекомендация в \n",
        "            # задании (для качественной оценки модели)\n",
        "            base_indices = np.random.choice(\n",
        "                np.arange(X_train.shape[0]), size=subset_size, replace=False)\n",
        "            base_dataset = X_train[base_indices]\n",
        "            X, y = get_X_and_y(base_dataset, angle)\n",
        "\n",
        "            # Реинициализируем модель и заново обучим её\n",
        "            model = reinit_model()\n",
        "            model.fit(X, y, batch_size=batch_size, epochs=n_epochs, verbose=0)\n",
        "\n",
        "            # С помощью обученной модели сделаем предсказания на всей тестовой\n",
        "            # выборке для данного угла\n",
        "            y_test_predicted_whole = model.predict_classes(X_test_whole)\n",
        "            run_acc = accuracy_score(y_test_whole[:, 1], y_test_predicted_whole)\n",
        "            angle_scores.append(run_acc)\n",
        "\n",
        "            print(' | acc: {}'.format(run_acc))\n",
        "            \n",
        "        # Результаты сохраняем\n",
        "        subset_scores.append([angle, np.mean(angle_scores), np.std(angle_scores)])\n",
        "        \n",
        "    \n",
        "    # Для надёжности, сохраним результаты для каждого размера\n",
        "    # подвыборки в файлы\n",
        "    \n",
        "    with open('subset_{}_scores'.format(subset_size), 'wb') as f:\n",
        "        pickle.dump(subset_scores, f)\n",
        "    \n",
        "    total_scores.append([subset_size, subset_scores])\n",
        "    \n"
      ],
      "execution_count": 37,
      "outputs": [
        {
          "output_type": "stream",
          "text": [
            "Subset size:   500 | angle:   0 | run 1/7 | acc: 0.98815\n",
            "Subset size:   500 | angle:   0 | run 2/7 | acc: 0.5\n",
            "Subset size:   500 | angle:   0 | run 3/7 | acc: 0.5\n",
            "Subset size:   500 | angle:   0 | run 4/7 | acc: 0.9989\n",
            "Subset size:   500 | angle:   0 | run 5/7 | acc: 0.99285\n",
            "Subset size:   500 | angle:   0 | run 6/7 | acc: 0.99925\n",
            "Subset size:   500 | angle:   0 | run 7/7 | acc: 0.5\n",
            "Subset size:   500 | angle:  15 | run 1/7 | acc: 0.9779\n",
            "Subset size:   500 | angle:  15 | run 2/7 | acc: 0.997\n",
            "Subset size:   500 | angle:  15 | run 3/7 | acc: 0.97215\n",
            "Subset size:   500 | angle:  15 | run 4/7 | acc: 0.9986\n",
            "Subset size:   500 | angle:  15 | run 5/7 | acc: 0.74335\n",
            "Subset size:   500 | angle:  15 | run 6/7 | acc: 0.99855\n",
            "Subset size:   500 | angle:  15 | run 7/7 | acc: 0.5\n",
            "Subset size:   500 | angle:  30 | run 1/7 | acc: 0.58615\n",
            "Subset size:   500 | angle:  30 | run 2/7 | acc: 0.9714\n",
            "Subset size:   500 | angle:  30 | run 3/7 | acc: 0.94965\n",
            "Subset size:   500 | angle:  30 | run 4/7 | acc: 0.9643\n",
            "Subset size:   500 | angle:  30 | run 5/7 | acc: 0.9159\n",
            "Subset size:   500 | angle:  30 | run 6/7 | acc: 0.999\n",
            "Subset size:   500 | angle:  30 | run 7/7 | acc: 0.82745\n",
            "Subset size:   500 | angle:  45 | run 1/7 | acc: 0.9266\n",
            "Subset size:   500 | angle:  45 | run 2/7 | acc: 0.9812\n",
            "Subset size:   500 | angle:  45 | run 3/7 | acc: 0.94615\n",
            "Subset size:   500 | angle:  45 | run 4/7 | acc: 0.5\n",
            "Subset size:   500 | angle:  45 | run 5/7 | acc: 0.94915\n",
            "Subset size:   500 | angle:  45 | run 6/7 | acc: 0.7702\n",
            "Subset size:   500 | angle:  45 | run 7/7 | acc: 0.8098\n",
            "Subset size:   500 | angle:  60 | run 1/7 | acc: 0.9565\n",
            "Subset size:   500 | angle:  60 | run 2/7 | acc: 0.97425\n",
            "Subset size:   500 | angle:  60 | run 3/7 | acc: 0.9561\n",
            "Subset size:   500 | angle:  60 | run 4/7 | acc: 0.5\n",
            "Subset size:   500 | angle:  60 | run 5/7 | acc: 0.9662\n",
            "Subset size:   500 | angle:  60 | run 6/7 | acc: 0.9423\n",
            "Subset size:   500 | angle:  60 | run 7/7 | acc: 0.9567\n",
            "Subset size:   500 | angle:  75 | run 1/7 | acc: 0.9475\n",
            "Subset size:   500 | angle:  75 | run 2/7 | acc: 0.9544\n",
            "Subset size:   500 | angle:  75 | run 3/7 | acc: 0.94065\n",
            "Subset size:   500 | angle:  75 | run 4/7 | acc: 0.94365\n",
            "Subset size:   500 | angle:  75 | run 5/7 | acc: 0.9591\n",
            "Subset size:   500 | angle:  75 | run 6/7 | acc: 0.9475\n",
            "Subset size:   500 | angle:  75 | run 7/7 | acc: 0.8191\n",
            "Subset size:   500 | angle:  90 | run 1/7 | acc: 0.9546\n",
            "Subset size:   500 | angle:  90 | run 2/7 | acc: 0.9391\n",
            "Subset size:   500 | angle:  90 | run 3/7 | acc: 0.90275\n",
            "Subset size:   500 | angle:  90 | run 4/7 | acc: 0.95535\n",
            "Subset size:   500 | angle:  90 | run 5/7 | acc: 0.94225\n",
            "Subset size:   500 | angle:  90 | run 6/7 | acc: 0.94285\n",
            "Subset size:   500 | angle:  90 | run 7/7 | acc: 0.5\n",
            "Subset size:   500 | angle: 105 | run 1/7 | acc: 0.9343\n",
            "Subset size:   500 | angle: 105 | run 2/7 | acc: 0.9634\n",
            "Subset size:   500 | angle: 105 | run 3/7 | acc: 0.9603\n",
            "Subset size:   500 | angle: 105 | run 4/7 | acc: 0.88435\n",
            "Subset size:   500 | angle: 105 | run 5/7 | acc: 0.9177\n",
            "Subset size:   500 | angle: 105 | run 6/7 | acc: 0.9467\n",
            "Subset size:   500 | angle: 105 | run 7/7 | acc: 0.951\n",
            "Subset size:   500 | angle: 120 | run 1/7 | acc: 0.5\n",
            "Subset size:   500 | angle: 120 | run 2/7 | acc: 0.93495\n",
            "Subset size:   500 | angle: 120 | run 3/7 | acc: 0.5\n",
            "Subset size:   500 | angle: 120 | run 4/7 | acc: 0.9672\n",
            "Subset size:   500 | angle: 120 | run 5/7 | acc: 0.97255\n",
            "Subset size:   500 | angle: 120 | run 6/7 | acc: 0.9736\n",
            "Subset size:   500 | angle: 120 | run 7/7 | acc: 0.9624\n",
            "Subset size:   500 | angle: 135 | run 1/7 | acc: 0.86585\n",
            "Subset size:   500 | angle: 135 | run 2/7 | acc: 0.9701\n",
            "Subset size:   500 | angle: 135 | run 3/7 | acc: 0.8244\n",
            "Subset size:   500 | angle: 135 | run 4/7 | acc: 0.97125\n",
            "Subset size:   500 | angle: 135 | run 5/7 | acc: 0.96295\n",
            "Subset size:   500 | angle: 135 | run 6/7 | acc: 0.9874\n",
            "Subset size:   500 | angle: 135 | run 7/7 | acc: 0.9877\n",
            "Subset size:   500 | angle: 150 | run 1/7 | acc: 0.9793\n",
            "Subset size:   500 | angle: 150 | run 2/7 | acc: 0.9845\n",
            "Subset size:   500 | angle: 150 | run 3/7 | acc: 0.5\n",
            "Subset size:   500 | angle: 150 | run 4/7 | acc: 0.96855\n",
            "Subset size:   500 | angle: 150 | run 5/7 | acc: 0.70465\n",
            "Subset size:   500 | angle: 150 | run 6/7 | acc: 0.9847\n",
            "Subset size:   500 | angle: 150 | run 7/7 | acc: 0.9724\n",
            "Subset size:   500 | angle: 165 | run 1/7 | acc: 0.98935\n",
            "Subset size:   500 | angle: 165 | run 2/7 | acc: 0.95005\n",
            "Subset size:   500 | angle: 165 | run 3/7 | acc: 0.9324\n",
            "Subset size:   500 | angle: 165 | run 4/7 | acc: 0.9645\n",
            "Subset size:   500 | angle: 165 | run 5/7 | acc: 0.95665\n",
            "Subset size:   500 | angle: 165 | run 6/7 | acc: 0.957\n",
            "Subset size:   500 | angle: 165 | run 7/7 | acc: 0.9777\n",
            "Subset size:   500 | angle: 180 | run 1/7 | acc: 0.95245\n",
            "Subset size:   500 | angle: 180 | run 2/7 | acc: 0.98495\n",
            "Subset size:   500 | angle: 180 | run 3/7 | acc: 0.9003\n",
            "Subset size:   500 | angle: 180 | run 4/7 | acc: 0.9162\n",
            "Subset size:   500 | angle: 180 | run 5/7 | acc: 0.9124\n",
            "Subset size:   500 | angle: 180 | run 6/7 | acc: 0.8998\n",
            "Subset size:   500 | angle: 180 | run 7/7 | acc: 0.96915\n",
            "Subset size:   500 | angle: 195 | run 1/7 | acc: 0.9541\n",
            "Subset size:   500 | angle: 195 | run 2/7 | acc: 0.97645\n",
            "Subset size:   500 | angle: 195 | run 3/7 | acc: 0.5\n",
            "Subset size:   500 | angle: 195 | run 4/7 | acc: 0.9659\n",
            "Subset size:   500 | angle: 195 | run 5/7 | acc: 0.91725\n",
            "Subset size:   500 | angle: 195 | run 6/7 | acc: 0.95725\n",
            "Subset size:   500 | angle: 195 | run 7/7 | acc: 0.9748\n",
            "Subset size:   500 | angle: 210 | run 1/7 | acc: 0.5\n",
            "Subset size:   500 | angle: 210 | run 2/7 | acc: 0.96485\n",
            "Subset size:   500 | angle: 210 | run 3/7 | acc: 0.9765\n",
            "Subset size:   500 | angle: 210 | run 4/7 | acc: 0.98435\n",
            "Subset size:   500 | angle: 210 | run 5/7 | acc: 0.94235\n",
            "Subset size:   500 | angle: 210 | run 6/7 | acc: 0.9821\n",
            "Subset size:   500 | angle: 210 | run 7/7 | acc: 0.9775\n",
            "Subset size:   500 | angle: 225 | run 1/7 | acc: 0.96135\n",
            "Subset size:   500 | angle: 225 | run 2/7 | acc: 0.9849\n",
            "Subset size:   500 | angle: 225 | run 3/7 | acc: 0.9801\n",
            "Subset size:   500 | angle: 225 | run 4/7 | acc: 0.9917\n",
            "Subset size:   500 | angle: 225 | run 5/7 | acc: 0.59995\n",
            "Subset size:   500 | angle: 225 | run 6/7 | acc: 0.5\n",
            "Subset size:   500 | angle: 225 | run 7/7 | acc: 0.84575\n",
            "Subset size:   500 | angle: 240 | run 1/7 | acc: 0.5\n",
            "Subset size:   500 | angle: 240 | run 2/7 | acc: 0.95795\n",
            "Subset size:   500 | angle: 240 | run 3/7 | acc: 0.5\n",
            "Subset size:   500 | angle: 240 | run 4/7 | acc: 0.98255\n",
            "Subset size:   500 | angle: 240 | run 5/7 | acc: 0.97245\n",
            "Subset size:   500 | angle: 240 | run 6/7 | acc: 0.95005\n",
            "Subset size:   500 | angle: 240 | run 7/7 | acc: 0.97495\n",
            "Subset size:   500 | angle: 255 | run 1/7 | acc: 0.9221\n",
            "Subset size:   500 | angle: 255 | run 2/7 | acc: 0.93055\n",
            "Subset size:   500 | angle: 255 | run 3/7 | acc: 0.9666\n",
            "Subset size:   500 | angle: 255 | run 4/7 | acc: 0.8675\n",
            "Subset size:   500 | angle: 255 | run 5/7 | acc: 0.95\n",
            "Subset size:   500 | angle: 255 | run 6/7 | acc: 0.9217\n",
            "Subset size:   500 | angle: 255 | run 7/7 | acc: 0.5\n",
            "Subset size:   500 | angle: 270 | run 1/7 | acc: 0.96025\n",
            "Subset size:   500 | angle: 270 | run 2/7 | acc: 0.5\n",
            "Subset size:   500 | angle: 270 | run 3/7 | acc: 0.95895\n",
            "Subset size:   500 | angle: 270 | run 4/7 | acc: 0.96435\n",
            "Subset size:   500 | angle: 270 | run 5/7 | acc: 0.95165\n",
            "Subset size:   500 | angle: 270 | run 6/7 | acc: 0.5\n",
            "Subset size:   500 | angle: 270 | run 7/7 | acc: 0.96985\n",
            "Subset size:   500 | angle: 285 | run 1/7 | acc: 0.96955\n",
            "Subset size:   500 | angle: 285 | run 2/7 | acc: 0.9647\n",
            "Subset size:   500 | angle: 285 | run 3/7 | acc: 0.9589\n",
            "Subset size:   500 | angle: 285 | run 4/7 | acc: 0.94805\n",
            "Subset size:   500 | angle: 285 | run 5/7 | acc: 0.95415\n",
            "Subset size:   500 | angle: 285 | run 6/7 | acc: 0.9715\n",
            "Subset size:   500 | angle: 285 | run 7/7 | acc: 0.5\n",
            "Subset size:   500 | angle: 300 | run 1/7 | acc: 0.95805\n",
            "Subset size:   500 | angle: 300 | run 2/7 | acc: 0.96395\n",
            "Subset size:   500 | angle: 300 | run 3/7 | acc: 0.5\n",
            "Subset size:   500 | angle: 300 | run 4/7 | acc: 0.98245\n",
            "Subset size:   500 | angle: 300 | run 5/7 | acc: 0.5\n",
            "Subset size:   500 | angle: 300 | run 6/7 | acc: 0.98875\n",
            "Subset size:   500 | angle: 300 | run 7/7 | acc: 0.93635\n",
            "Subset size:   500 | angle: 315 | run 1/7 | acc: 0.9753\n",
            "Subset size:   500 | angle: 315 | run 2/7 | acc: 0.9764\n",
            "Subset size:   500 | angle: 315 | run 3/7 | acc: 0.9405\n",
            "Subset size:   500 | angle: 315 | run 4/7 | acc: 0.5\n",
            "Subset size:   500 | angle: 315 | run 5/7 | acc: 0.75545\n",
            "Subset size:   500 | angle: 315 | run 6/7 | acc: 0.9362\n",
            "Subset size:   500 | angle: 315 | run 7/7 | acc: 0.5\n",
            "Subset size:   500 | angle: 330 | run 1/7 | acc: 0.9969\n",
            "Subset size:   500 | angle: 330 | run 2/7 | acc: 0.99835\n",
            "Subset size:   500 | angle: 330 | run 3/7 | acc: 0.97655\n",
            "Subset size:   500 | angle: 330 | run 4/7 | acc: 0.9866\n",
            "Subset size:   500 | angle: 330 | run 5/7 | acc: 0.9863\n",
            "Subset size:   500 | angle: 330 | run 6/7 | acc: 0.9911\n",
            "Subset size:   500 | angle: 330 | run 7/7 | acc: 0.93005\n",
            "Subset size:   500 | angle: 345 | run 1/7 | acc: 0.99955\n",
            "Subset size:   500 | angle: 345 | run 2/7 | acc: 0.9975\n",
            "Subset size:   500 | angle: 345 | run 3/7 | acc: 0.5\n",
            "Subset size:   500 | angle: 345 | run 4/7 | acc: 0.9961\n",
            "Subset size:   500 | angle: 345 | run 5/7 | acc: 0.99735\n",
            "Subset size:   500 | angle: 345 | run 6/7 | acc: 0.99495\n",
            "Subset size:   500 | angle: 345 | run 7/7 | acc: 0.59685\n",
            "Subset size:   500 | angle: 360 | run 1/7 | acc: 0.98215\n",
            "Subset size:   500 | angle: 360 | run 2/7 | acc: 0.9985\n",
            "Subset size:   500 | angle: 360 | run 3/7 | acc: 0.9971\n",
            "Subset size:   500 | angle: 360 | run 4/7 | acc: 0.9978\n",
            "Subset size:   500 | angle: 360 | run 5/7 | acc: 0.9227\n",
            "Subset size:   500 | angle: 360 | run 6/7 | acc: 0.972\n",
            "Subset size:   500 | angle: 360 | run 7/7 | acc: 0.99675\n",
            "Subset size:  2000 | angle:   0 | run 1/7 | acc: 0.99985\n",
            "Subset size:  2000 | angle:   0 | run 2/7 | acc: 0.9996\n",
            "Subset size:  2000 | angle:   0 | run 3/7 | acc: 0.99965\n",
            "Subset size:  2000 | angle:   0 | run 4/7 | acc: 0.9998\n",
            "Subset size:  2000 | angle:   0 | run 5/7 | acc: 0.9999\n",
            "Subset size:  2000 | angle:   0 | run 6/7 | acc: 0.9997\n",
            "Subset size:  2000 | angle:   0 | run 7/7 | acc: 0.99955\n",
            "Subset size:  2000 | angle:  15 | run 1/7 | acc: 0.5\n",
            "Subset size:  2000 | angle:  15 | run 2/7 | acc: 0.5\n",
            "Subset size:  2000 | angle:  15 | run 3/7 | acc: 0.99995\n",
            "Subset size:  2000 | angle:  15 | run 4/7 | acc: 0.98825\n",
            "Subset size:  2000 | angle:  15 | run 5/7 | acc: 1.0\n",
            "Subset size:  2000 | angle:  15 | run 6/7 | acc: 0.9991\n",
            "Subset size:  2000 | angle:  15 | run 7/7 | acc: 0.99965\n",
            "Subset size:  2000 | angle:  30 | run 1/7 | acc: 0.9998\n",
            "Subset size:  2000 | angle:  30 | run 2/7 | acc: 0.9985\n",
            "Subset size:  2000 | angle:  30 | run 3/7 | acc: 0.5\n",
            "Subset size:  2000 | angle:  30 | run 4/7 | acc: 0.9996\n",
            "Subset size:  2000 | angle:  30 | run 5/7 | acc: 0.99885\n",
            "Subset size:  2000 | angle:  30 | run 6/7 | acc: 0.99875\n",
            "Subset size:  2000 | angle:  30 | run 7/7 | acc: 0.99775\n",
            "Subset size:  2000 | angle:  45 | run 1/7 | acc: 0.9974\n",
            "Subset size:  2000 | angle:  45 | run 2/7 | acc: 0.99805\n",
            "Subset size:  2000 | angle:  45 | run 3/7 | acc: 0.99865\n",
            "Subset size:  2000 | angle:  45 | run 4/7 | acc: 0.9978\n",
            "Subset size:  2000 | angle:  45 | run 5/7 | acc: 0.998\n",
            "Subset size:  2000 | angle:  45 | run 6/7 | acc: 0.9998\n",
            "Subset size:  2000 | angle:  45 | run 7/7 | acc: 0.5\n",
            "Subset size:  2000 | angle:  60 | run 1/7 | acc: 0.99835\n",
            "Subset size:  2000 | angle:  60 | run 2/7 | acc: 0.99595\n",
            "Subset size:  2000 | angle:  60 | run 3/7 | acc: 0.5\n",
            "Subset size:  2000 | angle:  60 | run 4/7 | acc: 0.9963\n",
            "Subset size:  2000 | angle:  60 | run 5/7 | acc: 0.9969\n",
            "Subset size:  2000 | angle:  60 | run 6/7 | acc: 0.98685\n",
            "Subset size:  2000 | angle:  60 | run 7/7 | acc: 0.9989\n",
            "Subset size:  2000 | angle:  75 | run 1/7 | acc: 0.99625\n",
            "Subset size:  2000 | angle:  75 | run 2/7 | acc: 0.9962\n",
            "Subset size:  2000 | angle:  75 | run 3/7 | acc: 0.98825\n",
            "Subset size:  2000 | angle:  75 | run 4/7 | acc: 0.98795\n",
            "Subset size:  2000 | angle:  75 | run 5/7 | acc: 0.9833\n",
            "Subset size:  2000 | angle:  75 | run 6/7 | acc: 0.99415\n",
            "Subset size:  2000 | angle:  75 | run 7/7 | acc: 0.91145\n",
            "Subset size:  2000 | angle:  90 | run 1/7 | acc: 0.99855\n",
            "Subset size:  2000 | angle:  90 | run 2/7 | acc: 0.9218\n",
            "Subset size:  2000 | angle:  90 | run 3/7 | acc: 0.99385\n",
            "Subset size:  2000 | angle:  90 | run 4/7 | acc: 0.99105\n",
            "Subset size:  2000 | angle:  90 | run 5/7 | acc: 0.9841\n",
            "Subset size:  2000 | angle:  90 | run 6/7 | acc: 0.98755\n",
            "Subset size:  2000 | angle:  90 | run 7/7 | acc: 0.97835\n",
            "Subset size:  2000 | angle: 105 | run 1/7 | acc: 0.99365\n",
            "Subset size:  2000 | angle: 105 | run 2/7 | acc: 0.98935\n",
            "Subset size:  2000 | angle: 105 | run 3/7 | acc: 0.9695\n",
            "Subset size:  2000 | angle: 105 | run 4/7 | acc: 0.99445\n",
            "Subset size:  2000 | angle: 105 | run 5/7 | acc: 0.96985\n",
            "Subset size:  2000 | angle: 105 | run 6/7 | acc: 0.997\n",
            "Subset size:  2000 | angle: 105 | run 7/7 | acc: 0.9818\n",
            "Subset size:  2000 | angle: 120 | run 1/7 | acc: 0.9917\n",
            "Subset size:  2000 | angle: 120 | run 2/7 | acc: 0.9798\n",
            "Subset size:  2000 | angle: 120 | run 3/7 | acc: 0.99485\n",
            "Subset size:  2000 | angle: 120 | run 4/7 | acc: 0.99895\n",
            "Subset size:  2000 | angle: 120 | run 5/7 | acc: 0.5\n",
            "Subset size:  2000 | angle: 120 | run 6/7 | acc: 0.99855\n",
            "Subset size:  2000 | angle: 120 | run 7/7 | acc: 0.99725\n",
            "Subset size:  2000 | angle: 135 | run 1/7 | acc: 0.9993\n",
            "Subset size:  2000 | angle: 135 | run 2/7 | acc: 0.99575\n",
            "Subset size:  2000 | angle: 135 | run 3/7 | acc: 0.9967\n",
            "Subset size:  2000 | angle: 135 | run 4/7 | acc: 0.99855\n",
            "Subset size:  2000 | angle: 135 | run 5/7 | acc: 0.9713\n",
            "Subset size:  2000 | angle: 135 | run 6/7 | acc: 0.9974\n",
            "Subset size:  2000 | angle: 135 | run 7/7 | acc: 0.5\n",
            "Subset size:  2000 | angle: 150 | run 1/7 | acc: 0.9954\n",
            "Subset size:  2000 | angle: 150 | run 2/7 | acc: 0.9983\n",
            "Subset size:  2000 | angle: 150 | run 3/7 | acc: 0.9962\n",
            "Subset size:  2000 | angle: 150 | run 4/7 | acc: 0.99735\n",
            "Subset size:  2000 | angle: 150 | run 5/7 | acc: 0.9895\n",
            "Subset size:  2000 | angle: 150 | run 6/7 | acc: 0.96895\n",
            "Subset size:  2000 | angle: 150 | run 7/7 | acc: 0.99815\n",
            "Subset size:  2000 | angle: 165 | run 1/7 | acc: 0.9976\n",
            "Subset size:  2000 | angle: 165 | run 2/7 | acc: 0.5\n",
            "Subset size:  2000 | angle: 165 | run 3/7 | acc: 0.6753\n",
            "Subset size:  2000 | angle: 165 | run 4/7 | acc: 0.99955\n",
            "Subset size:  2000 | angle: 165 | run 5/7 | acc: 0.99805\n",
            "Subset size:  2000 | angle: 165 | run 6/7 | acc: 0.9971\n",
            "Subset size:  2000 | angle: 165 | run 7/7 | acc: 0.99575\n",
            "Subset size:  2000 | angle: 180 | run 1/7 | acc: 0.99405\n",
            "Subset size:  2000 | angle: 180 | run 2/7 | acc: 0.99755\n",
            "Subset size:  2000 | angle: 180 | run 3/7 | acc: 0.9898\n",
            "Subset size:  2000 | angle: 180 | run 4/7 | acc: 0.9887\n",
            "Subset size:  2000 | angle: 180 | run 5/7 | acc: 0.9944\n",
            "Subset size:  2000 | angle: 180 | run 6/7 | acc: 0.9797\n",
            "Subset size:  2000 | angle: 180 | run 7/7 | acc: 0.99535\n",
            "Subset size:  2000 | angle: 195 | run 1/7 | acc: 0.9759\n",
            "Subset size:  2000 | angle: 195 | run 2/7 | acc: 0.99335\n",
            "Subset size:  2000 | angle: 195 | run 3/7 | acc: 0.99155\n",
            "Subset size:  2000 | angle: 195 | run 4/7 | acc: 0.9977\n",
            "Subset size:  2000 | angle: 195 | run 5/7 | acc: 0.99445\n",
            "Subset size:  2000 | angle: 195 | run 6/7 | acc: 0.9549\n",
            "Subset size:  2000 | angle: 195 | run 7/7 | acc: 0.9925\n",
            "Subset size:  2000 | angle: 210 | run 1/7 | acc: 0.98465\n",
            "Subset size:  2000 | angle: 210 | run 2/7 | acc: 0.9912\n",
            "Subset size:  2000 | angle: 210 | run 3/7 | acc: 0.9777\n",
            "Subset size:  2000 | angle: 210 | run 4/7 | acc: 0.9966\n",
            "Subset size:  2000 | angle: 210 | run 5/7 | acc: 0.9957\n",
            "Subset size:  2000 | angle: 210 | run 6/7 | acc: 0.95845\n",
            "Subset size:  2000 | angle: 210 | run 7/7 | acc: 0.98715\n",
            "Subset size:  2000 | angle: 225 | run 1/7 | acc: 0.9926\n",
            "Subset size:  2000 | angle: 225 | run 2/7 | acc: 0.99725\n",
            "Subset size:  2000 | angle: 225 | run 3/7 | acc: 0.99065\n",
            "Subset size:  2000 | angle: 225 | run 4/7 | acc: 0.5\n",
            "Subset size:  2000 | angle: 225 | run 5/7 | acc: 0.99635\n",
            "Subset size:  2000 | angle: 225 | run 6/7 | acc: 0.9984\n",
            "Subset size:  2000 | angle: 225 | run 7/7 | acc: 0.99555\n",
            "Subset size:  2000 | angle: 240 | run 1/7 | acc: 0.5\n",
            "Subset size:  2000 | angle: 240 | run 2/7 | acc: 0.98615\n",
            "Subset size:  2000 | angle: 240 | run 3/7 | acc: 0.99495\n",
            "Subset size:  2000 | angle: 240 | run 4/7 | acc: 0.9989\n",
            "Subset size:  2000 | angle: 240 | run 5/7 | acc: 0.9971\n",
            "Subset size:  2000 | angle: 240 | run 6/7 | acc: 0.9885\n",
            "Subset size:  2000 | angle: 240 | run 7/7 | acc: 0.99915\n",
            "Subset size:  2000 | angle: 255 | run 1/7 | acc: 0.98855\n",
            "Subset size:  2000 | angle: 255 | run 2/7 | acc: 0.9668\n",
            "Subset size:  2000 | angle: 255 | run 3/7 | acc: 0.9972\n",
            "Subset size:  2000 | angle: 255 | run 4/7 | acc: 0.99105\n",
            "Subset size:  2000 | angle: 255 | run 5/7 | acc: 0.9846\n",
            "Subset size:  2000 | angle: 255 | run 6/7 | acc: 0.9947\n",
            "Subset size:  2000 | angle: 255 | run 7/7 | acc: 0.5\n",
            "Subset size:  2000 | angle: 270 | run 1/7 | acc: 0.9925\n",
            "Subset size:  2000 | angle: 270 | run 2/7 | acc: 0.5\n",
            "Subset size:  2000 | angle: 270 | run 3/7 | acc: 0.9954\n",
            "Subset size:  2000 | angle: 270 | run 4/7 | acc: 0.9949\n",
            "Subset size:  2000 | angle: 270 | run 5/7 | acc: 0.99265\n",
            "Subset size:  2000 | angle: 270 | run 6/7 | acc: 0.99735\n",
            "Subset size:  2000 | angle: 270 | run 7/7 | acc: 0.9926\n",
            "Subset size:  2000 | angle: 285 | run 1/7 | acc: 0.9952\n",
            "Subset size:  2000 | angle: 285 | run 2/7 | acc: 0.9985\n",
            "Subset size:  2000 | angle: 285 | run 3/7 | acc: 0.99675\n",
            "Subset size:  2000 | angle: 285 | run 4/7 | acc: 0.5\n",
            "Subset size:  2000 | angle: 285 | run 5/7 | acc: 0.9994\n",
            "Subset size:  2000 | angle: 285 | run 6/7 | acc: 0.5\n",
            "Subset size:  2000 | angle: 285 | run 7/7 | acc: 0.98855\n",
            "Subset size:  2000 | angle: 300 | run 1/7 | acc: 0.5\n",
            "Subset size:  2000 | angle: 300 | run 2/7 | acc: 0.98935\n",
            "Subset size:  2000 | angle: 300 | run 3/7 | acc: 0.9946\n",
            "Subset size:  2000 | angle: 300 | run 4/7 | acc: 0.99145\n",
            "Subset size:  2000 | angle: 300 | run 5/7 | acc: 0.9951\n",
            "Subset size:  2000 | angle: 300 | run 6/7 | acc: 0.5\n",
            "Subset size:  2000 | angle: 300 | run 7/7 | acc: 0.99795\n",
            "Subset size:  2000 | angle: 315 | run 1/7 | acc: 0.9461\n",
            "Subset size:  2000 | angle: 315 | run 2/7 | acc: 0.5\n",
            "Subset size:  2000 | angle: 315 | run 3/7 | acc: 0.99945\n",
            "Subset size:  2000 | angle: 315 | run 4/7 | acc: 0.5\n",
            "Subset size:  2000 | angle: 315 | run 5/7 | acc: 0.99515\n",
            "Subset size:  2000 | angle: 315 | run 6/7 | acc: 0.6406\n",
            "Subset size:  2000 | angle: 315 | run 7/7 | acc: 0.5\n",
            "Subset size:  2000 | angle: 330 | run 1/7 | acc: 0.9983\n",
            "Subset size:  2000 | angle: 330 | run 2/7 | acc: 0.99615\n",
            "Subset size:  2000 | angle: 330 | run 3/7 | acc: 0.5\n",
            "Subset size:  2000 | angle: 330 | run 4/7 | acc: 0.9993\n",
            "Subset size:  2000 | angle: 330 | run 5/7 | acc: 0.98585\n",
            "Subset size:  2000 | angle: 330 | run 6/7 | acc: 0.99845\n",
            "Subset size:  2000 | angle: 330 | run 7/7 | acc: 0.99955\n",
            "Subset size:  2000 | angle: 345 | run 1/7 | acc: 0.9998\n",
            "Subset size:  2000 | angle: 345 | run 2/7 | acc: 0.9999\n",
            "Subset size:  2000 | angle: 345 | run 3/7 | acc: 0.745\n",
            "Subset size:  2000 | angle: 345 | run 4/7 | acc: 0.99985\n",
            "Subset size:  2000 | angle: 345 | run 5/7 | acc: 0.9998\n",
            "Subset size:  2000 | angle: 345 | run 6/7 | acc: 0.99985\n",
            "Subset size:  2000 | angle: 345 | run 7/7 | acc: 0.5\n",
            "Subset size:  2000 | angle: 360 | run 1/7 | acc: 0.9997\n",
            "Subset size:  2000 | angle: 360 | run 2/7 | acc: 0.9999\n",
            "Subset size:  2000 | angle: 360 | run 3/7 | acc: 0.99975\n",
            "Subset size:  2000 | angle: 360 | run 4/7 | acc: 0.99975\n",
            "Subset size:  2000 | angle: 360 | run 5/7 | acc: 0.5\n",
            "Subset size:  2000 | angle: 360 | run 6/7 | acc: 0.9998\n",
            "Subset size:  2000 | angle: 360 | run 7/7 | acc: 0.816\n",
            "Subset size: 10000 | angle:   0 | run 1/7 | acc: 0.99995\n",
            "Subset size: 10000 | angle:   0 | run 2/7 | acc: 0.99995\n",
            "Subset size: 10000 | angle:   0 | run 3/7 | acc: 0.99995\n",
            "Subset size: 10000 | angle:   0 | run 4/7 | acc: 1.0\n",
            "Subset size: 10000 | angle:   0 | run 5/7 | acc: 1.0\n",
            "Subset size: 10000 | angle:   0 | run 6/7 | acc: 1.0\n",
            "Subset size: 10000 | angle:   0 | run 7/7 | acc: 1.0\n",
            "Subset size: 10000 | angle:  15 | run 1/7 | acc: 1.0\n",
            "Subset size: 10000 | angle:  15 | run 2/7 | acc: 0.5\n",
            "Subset size: 10000 | angle:  15 | run 3/7 | acc: 1.0\n",
            "Subset size: 10000 | angle:  15 | run 4/7 | acc: 0.5\n",
            "Subset size: 10000 | angle:  15 | run 5/7 | acc: 0.5\n",
            "Subset size: 10000 | angle:  15 | run 6/7 | acc: 0.99995\n",
            "Subset size: 10000 | angle:  15 | run 7/7 | acc: 0.99995\n",
            "Subset size: 10000 | angle:  30 | run 1/7 | acc: 1.0\n",
            "Subset size: 10000 | angle:  30 | run 2/7 | acc: 0.5\n",
            "Subset size: 10000 | angle:  30 | run 3/7 | acc: 1.0\n",
            "Subset size: 10000 | angle:  30 | run 4/7 | acc: 1.0\n",
            "Subset size: 10000 | angle:  30 | run 5/7 | acc: 0.99995\n",
            "Subset size: 10000 | angle:  30 | run 6/7 | acc: 1.0\n",
            "Subset size: 10000 | angle:  30 | run 7/7 | acc: 1.0\n",
            "Subset size: 10000 | angle:  45 | run 1/7 | acc: 0.9999\n",
            "Subset size: 10000 | angle:  45 | run 2/7 | acc: 1.0\n",
            "Subset size: 10000 | angle:  45 | run 3/7 | acc: 1.0\n",
            "Subset size: 10000 | angle:  45 | run 4/7 | acc: 1.0\n",
            "Subset size: 10000 | angle:  45 | run 5/7 | acc: 0.99995\n",
            "Subset size: 10000 | angle:  45 | run 6/7 | acc: 1.0\n",
            "Subset size: 10000 | angle:  45 | run 7/7 | acc: 1.0\n",
            "Subset size: 10000 | angle:  60 | run 1/7 | acc: 0.5\n",
            "Subset size: 10000 | angle:  60 | run 2/7 | acc: 1.0\n",
            "Subset size: 10000 | angle:  60 | run 3/7 | acc: 0.99995\n",
            "Subset size: 10000 | angle:  60 | run 4/7 | acc: 1.0\n",
            "Subset size: 10000 | angle:  60 | run 5/7 | acc: 1.0\n",
            "Subset size: 10000 | angle:  60 | run 6/7 | acc: 0.9975\n",
            "Subset size: 10000 | angle:  60 | run 7/7 | acc: 0.99995\n",
            "Subset size: 10000 | angle:  75 | run 1/7 | acc: 1.0\n",
            "Subset size: 10000 | angle:  75 | run 2/7 | acc: 0.5\n",
            "Subset size: 10000 | angle:  75 | run 3/7 | acc: 0.9998\n",
            "Subset size: 10000 | angle:  75 | run 4/7 | acc: 0.99985\n",
            "Subset size: 10000 | angle:  75 | run 5/7 | acc: 0.5\n",
            "Subset size: 10000 | angle:  75 | run 6/7 | acc: 0.9999\n",
            "Subset size: 10000 | angle:  75 | run 7/7 | acc: 0.99825\n",
            "Subset size: 10000 | angle:  90 | run 1/7 | acc: 0.5\n",
            "Subset size: 10000 | angle:  90 | run 2/7 | acc: 0.99995\n",
            "Subset size: 10000 | angle:  90 | run 3/7 | acc: 0.5\n",
            "Subset size: 10000 | angle:  90 | run 4/7 | acc: 0.9998\n",
            "Subset size: 10000 | angle:  90 | run 5/7 | acc: 0.99995\n",
            "Subset size: 10000 | angle:  90 | run 6/7 | acc: 0.99985\n",
            "Subset size: 10000 | angle:  90 | run 7/7 | acc: 0.9999\n",
            "Subset size: 10000 | angle: 105 | run 1/7 | acc: 0.99995\n",
            "Subset size: 10000 | angle: 105 | run 2/7 | acc: 1.0\n",
            "Subset size: 10000 | angle: 105 | run 3/7 | acc: 1.0\n",
            "Subset size: 10000 | angle: 105 | run 4/7 | acc: 0.9999\n",
            "Subset size: 10000 | angle: 105 | run 5/7 | acc: 0.9999\n",
            "Subset size: 10000 | angle: 105 | run 6/7 | acc: 0.5\n",
            "Subset size: 10000 | angle: 105 | run 7/7 | acc: 0.9999\n",
            "Subset size: 10000 | angle: 120 | run 1/7 | acc: 1.0\n",
            "Subset size: 10000 | angle: 120 | run 2/7 | acc: 1.0\n",
            "Subset size: 10000 | angle: 120 | run 3/7 | acc: 0.99995\n",
            "Subset size: 10000 | angle: 120 | run 4/7 | acc: 0.99995\n",
            "Subset size: 10000 | angle: 120 | run 5/7 | acc: 1.0\n",
            "Subset size: 10000 | angle: 120 | run 6/7 | acc: 1.0\n",
            "Subset size: 10000 | angle: 120 | run 7/7 | acc: 1.0\n",
            "Subset size: 10000 | angle: 135 | run 1/7 | acc: 0.9999\n",
            "Subset size: 10000 | angle: 135 | run 2/7 | acc: 0.99985\n",
            "Subset size: 10000 | angle: 135 | run 3/7 | acc: 0.99995\n",
            "Subset size: 10000 | angle: 135 | run 4/7 | acc: 0.9995\n",
            "Subset size: 10000 | angle: 135 | run 5/7 | acc: 0.9999\n",
            "Subset size: 10000 | angle: 135 | run 6/7 | acc: 1.0\n",
            "Subset size: 10000 | angle: 135 | run 7/7 | acc: 0.99995\n",
            "Subset size: 10000 | angle: 150 | run 1/7 | acc: 0.9999\n",
            "Subset size: 10000 | angle: 150 | run 2/7 | acc: 0.99985\n",
            "Subset size: 10000 | angle: 150 | run 3/7 | acc: 1.0\n",
            "Subset size: 10000 | angle: 150 | run 4/7 | acc: 0.99985\n",
            "Subset size: 10000 | angle: 150 | run 5/7 | acc: 0.5\n",
            "Subset size: 10000 | angle: 150 | run 6/7 | acc: 0.99995\n",
            "Subset size: 10000 | angle: 150 | run 7/7 | acc: 0.99985\n",
            "Subset size: 10000 | angle: 165 | run 1/7 | acc: 0.99995\n",
            "Subset size: 10000 | angle: 165 | run 2/7 | acc: 0.9999\n",
            "Subset size: 10000 | angle: 165 | run 3/7 | acc: 0.5\n",
            "Subset size: 10000 | angle: 165 | run 4/7 | acc: 1.0\n",
            "Subset size: 10000 | angle: 165 | run 5/7 | acc: 0.9999\n",
            "Subset size: 10000 | angle: 165 | run 6/7 | acc: 0.9999\n",
            "Subset size: 10000 | angle: 165 | run 7/7 | acc: 0.99995\n",
            "Subset size: 10000 | angle: 180 | run 1/7 | acc: 0.99985\n",
            "Subset size: 10000 | angle: 180 | run 2/7 | acc: 0.9999\n",
            "Subset size: 10000 | angle: 180 | run 3/7 | acc: 0.99995\n",
            "Subset size: 10000 | angle: 180 | run 4/7 | acc: 1.0\n",
            "Subset size: 10000 | angle: 180 | run 5/7 | acc: 0.9999\n",
            "Subset size: 10000 | angle: 180 | run 6/7 | acc: 0.9999\n",
            "Subset size: 10000 | angle: 180 | run 7/7 | acc: 0.99995\n",
            "Subset size: 10000 | angle: 195 | run 1/7 | acc: 0.99995\n",
            "Subset size: 10000 | angle: 195 | run 2/7 | acc: 0.9999\n",
            "Subset size: 10000 | angle: 195 | run 3/7 | acc: 0.5\n",
            "Subset size: 10000 | angle: 195 | run 4/7 | acc: 1.0\n",
            "Subset size: 10000 | angle: 195 | run 5/7 | acc: 0.9999\n",
            "Subset size: 10000 | angle: 195 | run 6/7 | acc: 0.99975\n",
            "Subset size: 10000 | angle: 195 | run 7/7 | acc: 0.9999\n",
            "Subset size: 10000 | angle: 210 | run 1/7 | acc: 0.9999\n",
            "Subset size: 10000 | angle: 210 | run 2/7 | acc: 0.99925\n",
            "Subset size: 10000 | angle: 210 | run 3/7 | acc: 1.0\n",
            "Subset size: 10000 | angle: 210 | run 4/7 | acc: 0.5\n",
            "Subset size: 10000 | angle: 210 | run 5/7 | acc: 0.5\n",
            "Subset size: 10000 | angle: 210 | run 6/7 | acc: 0.5\n",
            "Subset size: 10000 | angle: 210 | run 7/7 | acc: 0.99995\n",
            "Subset size: 10000 | angle: 225 | run 1/7 | acc: 0.9999\n",
            "Subset size: 10000 | angle: 225 | run 2/7 | acc: 1.0\n",
            "Subset size: 10000 | angle: 225 | run 3/7 | acc: 0.99995\n",
            "Subset size: 10000 | angle: 225 | run 4/7 | acc: 1.0\n",
            "Subset size: 10000 | angle: 225 | run 5/7 | acc: 0.99985\n",
            "Subset size: 10000 | angle: 225 | run 6/7 | acc: 0.5\n",
            "Subset size: 10000 | angle: 225 | run 7/7 | acc: 0.5\n",
            "Subset size: 10000 | angle: 240 | run 1/7 | acc: 0.99995\n",
            "Subset size: 10000 | angle: 240 | run 2/7 | acc: 0.99995\n",
            "Subset size: 10000 | angle: 240 | run 3/7 | acc: 0.99995\n",
            "Subset size: 10000 | angle: 240 | run 4/7 | acc: 1.0\n",
            "Subset size: 10000 | angle: 240 | run 5/7 | acc: 0.5\n",
            "Subset size: 10000 | angle: 240 | run 6/7 | acc: 0.9998\n",
            "Subset size: 10000 | angle: 240 | run 7/7 | acc: 0.99985\n",
            "Subset size: 10000 | angle: 255 | run 1/7 | acc: 0.99985\n",
            "Subset size: 10000 | angle: 255 | run 2/7 | acc: 0.5\n",
            "Subset size: 10000 | angle: 255 | run 3/7 | acc: 0.99995\n",
            "Subset size: 10000 | angle: 255 | run 4/7 | acc: 0.99995\n",
            "Subset size: 10000 | angle: 255 | run 5/7 | acc: 0.9999\n",
            "Subset size: 10000 | angle: 255 | run 6/7 | acc: 0.5\n",
            "Subset size: 10000 | angle: 255 | run 7/7 | acc: 0.99995\n",
            "Subset size: 10000 | angle: 270 | run 1/7 | acc: 0.9998\n",
            "Subset size: 10000 | angle: 270 | run 2/7 | acc: 0.99995\n",
            "Subset size: 10000 | angle: 270 | run 3/7 | acc: 0.5\n",
            "Subset size: 10000 | angle: 270 | run 4/7 | acc: 0.9999\n",
            "Subset size: 10000 | angle: 270 | run 5/7 | acc: 0.99985\n",
            "Subset size: 10000 | angle: 270 | run 6/7 | acc: 0.99995\n",
            "Subset size: 10000 | angle: 270 | run 7/7 | acc: 0.99995\n",
            "Subset size: 10000 | angle: 285 | run 1/7 | acc: 0.99995\n",
            "Subset size: 10000 | angle: 285 | run 2/7 | acc: 0.5\n",
            "Subset size: 10000 | angle: 285 | run 3/7 | acc: 1.0\n",
            "Subset size: 10000 | angle: 285 | run 4/7 | acc: 0.9999\n",
            "Subset size: 10000 | angle: 285 | run 5/7 | acc: 0.9999\n",
            "Subset size: 10000 | angle: 285 | run 6/7 | acc: 0.99995\n",
            "Subset size: 10000 | angle: 285 | run 7/7 | acc: 0.99985\n",
            "Subset size: 10000 | angle: 300 | run 1/7 | acc: 0.99995\n",
            "Subset size: 10000 | angle: 300 | run 2/7 | acc: 0.99985\n",
            "Subset size: 10000 | angle: 300 | run 3/7 | acc: 0.5\n",
            "Subset size: 10000 | angle: 300 | run 4/7 | acc: 1.0\n",
            "Subset size: 10000 | angle: 300 | run 5/7 | acc: 0.99995\n",
            "Subset size: 10000 | angle: 300 | run 6/7 | acc: 1.0\n",
            "Subset size: 10000 | angle: 300 | run 7/7 | acc: 0.99995\n",
            "Subset size: 10000 | angle: 315 | run 1/7 | acc: 1.0\n",
            "Subset size: 10000 | angle: 315 | run 2/7 | acc: 1.0\n",
            "Subset size: 10000 | angle: 315 | run 3/7 | acc: 0.99985\n",
            "Subset size: 10000 | angle: 315 | run 4/7 | acc: 0.99995\n",
            "Subset size: 10000 | angle: 315 | run 5/7 | acc: 1.0\n",
            "Subset size: 10000 | angle: 315 | run 6/7 | acc: 0.99995\n",
            "Subset size: 10000 | angle: 315 | run 7/7 | acc: 1.0\n",
            "Subset size: 10000 | angle: 330 | run 1/7 | acc: 1.0\n",
            "Subset size: 10000 | angle: 330 | run 2/7 | acc: 0.99995\n",
            "Subset size: 10000 | angle: 330 | run 3/7 | acc: 0.99995\n",
            "Subset size: 10000 | angle: 330 | run 4/7 | acc: 1.0\n",
            "Subset size: 10000 | angle: 330 | run 5/7 | acc: 1.0\n",
            "Subset size: 10000 | angle: 330 | run 6/7 | acc: 1.0\n",
            "Subset size: 10000 | angle: 330 | run 7/7 | acc: 0.99995\n",
            "Subset size: 10000 | angle: 345 | run 1/7 | acc: 0.99995\n",
            "Subset size: 10000 | angle: 345 | run 2/7 | acc: 1.0\n",
            "Subset size: 10000 | angle: 345 | run 3/7 | acc: 1.0\n",
            "Subset size: 10000 | angle: 345 | run 4/7 | acc: 1.0\n",
            "Subset size: 10000 | angle: 345 | run 5/7 | acc: 0.99995\n",
            "Subset size: 10000 | angle: 345 | run 6/7 | acc: 0.5\n",
            "Subset size: 10000 | angle: 345 | run 7/7 | acc: 0.99995\n",
            "Subset size: 10000 | angle: 360 | run 1/7 | acc: 0.99995\n",
            "Subset size: 10000 | angle: 360 | run 2/7 | acc: 0.5\n",
            "Subset size: 10000 | angle: 360 | run 3/7 | acc: 1.0\n",
            "Subset size: 10000 | angle: 360 | run 4/7 | acc: 0.5\n",
            "Subset size: 10000 | angle: 360 | run 5/7 | acc: 1.0\n",
            "Subset size: 10000 | angle: 360 | run 6/7 | acc: 1.0\n",
            "Subset size: 10000 | angle: 360 | run 7/7 | acc: 0.9999\n"
          ],
          "name": "stdout"
        }
      ]
    },
    {
      "metadata": {
        "id": "jZu0JuXf3Zhi",
        "colab_type": "code",
        "colab": {}
      },
      "cell_type": "code",
      "source": [
        "# На случай проблем с соединением с Collaboratory, сохраним результаты на диск\n",
        "with open('total_scores.pickle', 'wb') as f:\n",
        "    pickle.dump(total_scores, f)\n"
      ],
      "execution_count": 0,
      "outputs": []
    },
    {
      "metadata": {
        "id": "1amkx9JG9xDx",
        "colab_type": "code",
        "colab": {}
      },
      "cell_type": "code",
      "source": [
        "from google.colab import files\n",
        "files.download('total_scores.pickle')\n",
        "\n",
        "for subset_size in set_sizes:\n",
        "    files.download('subset_{}_scores'.format(subset_size))"
      ],
      "execution_count": 0,
      "outputs": []
    },
    {
      "metadata": {
        "id": "V9jM9FzqtTmg",
        "colab_type": "text"
      },
      "cell_type": "markdown",
      "source": [
        "## Анализ результатов\n",
        "\n",
        "Во время обучения заметил, что на некоторых подвыборках модель показала себя слишком плохо - вероятность правильного предсказания падала до 0.5. Но для большей наглядности, стоит построить графики и увидеть поведение оценочной функции вживую."
      ]
    },
    {
      "metadata": {
        "id": "_4hy7j6NszsC",
        "colab_type": "code",
        "colab": {
          "base_uri": "https://localhost:8080/",
          "height": 328
        },
        "outputId": "67603468-1eb8-44b0-dbea-21f6f8ad7362"
      },
      "cell_type": "code",
      "source": [
        "# Загружаем результаты из сохраненного файла\n",
        "# with open('total_scores.pickle', 'rb') as f:\n",
        "#   total_scores = pickle.load(f)\n",
        "\n",
        "\n",
        "# Настраиваем параметры дизайна графика\n",
        "plt.rcParams['image.cmap'] = 'viridis'\n",
        "plt.rcParams['axes.grid'] = False\n",
        "plt.rcParams['figure.figsize'] = (7, 4)\n",
        "plt.rcParams['lines.linewidth'] = 1.4\n",
        "plt.rcParams['lines.markersize'] = 8\n",
        "plt.rcParams['xtick.labelsize'] = 16\n",
        "plt.rcParams['ytick.labelsize'] = 16\n",
        "plt.rcParams['legend.fontsize'] = 16\n",
        "plt.rcParams['axes.titlesize'] = 22\n",
        "plt.rcParams['axes.labelsize'] = 16\n",
        "plt.rcParams['mathtext.fontset'] = 'stix'\n",
        "plt.rcParams['font.family'] = 'STIXGeneral'\n",
        "\n",
        "\n",
        "# Строим сам график\n",
        "fig, ax = plt.subplots(1, 1)\n",
        "ax.set_title('Зависимость точности от угла поворота')\n",
        "ax.set_xlabel(r'Угол поворота, $\\theta$')\n",
        "ax.set_ylabel(r'Точность классификации, $\\frac{correct}{total}$')\n",
        "\n",
        "for N, scores in total_scores:\n",
        "    scores = np.array(scores)\n",
        "    ax.scatter(scores[:, 0], scores[:, 1], label=f'N = {N}')\n",
        "    ax.errorbar(scores[:, 0], scores[:, 1], yerr=scores[:, 2], \n",
        "                capsize=5, barsabove=True)\n",
        "ax.set_xticks(np.arange(0, 361, 30))\n",
        "ax.set_ylim(0, 1)\n",
        "ax.grid()\n",
        "ax.legend()\n",
        "plt.show()\n",
        "\n",
        "# Сохранение изображения\n",
        "plt.savefig('accuracy.png')"
      ],
      "execution_count": 111,
      "outputs": [
        {
          "output_type": "display_data",
          "data": {
            "image/png": "[encoded data removed]",
            "text/plain": [
              "<matplotlib.figure.Figure at 0x7f46272c9908>"
            ]
          },
          "metadata": {
            "tags": []
          }
        },
        {
          "output_type": "display_data",
          "data": {
            "text/plain": [
              "<matplotlib.figure.Figure at 0x7f4627200128>"
            ]
          },
          "metadata": {
            "tags": []
          }
        }
      ]
    },
    {
      "metadata": {
        "id": "sIVr5007ANmQ",
        "colab_type": "text"
      },
      "cell_type": "markdown",
      "source": [
        "По этому графику может быть понятно, что в целом поворот мало на что влияет. Посмотрим, на каких углах были наибольшие ошибки для всех выборок в среднем."
      ]
    },
    {
      "metadata": {
        "id": "b3yVOziKANHP",
        "colab_type": "code",
        "colab": {
          "base_uri": "https://localhost:8080/",
          "height": 363
        },
        "outputId": "80cf196e-24b0-45bc-a450-fb421da98e3f"
      },
      "cell_type": "code",
      "source": [
        "fig, ax = plt.subplots(1, 1)\n",
        "ax.set_title('Зависимость точности от угла поворота (все выборки)')\n",
        "ax.set_xlabel(r'Угол поворота, $\\theta$')\n",
        "ax.set_ylabel(r'Точность классификации, $\\frac{correct}{total}$')\n",
        "\n",
        "just_scores = list()\n",
        "\n",
        "for N in total_scores: \n",
        "    just_scores.append(N[1][:])\n",
        "    \n",
        "means = np.mean(just_scores, axis=0)\n",
        "\n",
        "angles = means[:, 0]\n",
        "accuracies = means[:, 1]\n",
        "errors = means[:, 2]\n",
        "\n",
        "ax.scatter(angles, accuracies, label='mean accuracies')\n",
        "ax.errorbar(angles, accuracies, yerr=errors, \n",
        "            capsize=5, barsabove=True)\n",
        "ax.set_xticks(np.arange(0, 361, 30))\n",
        "ax.set_ylim(0, 1)\n",
        "ax.grid()\n",
        "ax.legend()\n",
        "plt.show()\n",
        "\n",
        "# Сохранение изображения\n",
        "plt.savefig('mean_accuracy.png')\n",
        "\n",
        "print(f'Min accuracy:  {np.min(accuracies)} on angle {angles[np.argmin(accuracies)]}')\n",
        "print(f'Max std error: {np.max(errors)} on angle {angles[np.argmax(errors)]}')"
      ],
      "execution_count": 114,
      "outputs": [
        {
          "output_type": "display_data",
          "data": {
            "image/png": "[encoded data removed]",
            "text/plain": [
              "<matplotlib.figure.Figure at 0x7f462717cc50>"
            ]
          },
          "metadata": {
            "tags": []
          }
        },
        {
          "output_type": "stream",
          "text": [
            "Min accuracy:  0.8411857142857143 on angle 315.0\n",
            "Max std error: 0.21686010744018314 on angle 15.0\n"
          ],
          "name": "stdout"
        },
        {
          "output_type": "display_data",
          "data": {
            "text/plain": [
              "<matplotlib.figure.Figure at 0x7f46270f6048>"
            ]
          },
          "metadata": {
            "tags": []
          }
        }
      ]
    },
    {
      "metadata": {
        "id": "VB3_mBrtGHXg",
        "colab_type": "text"
      },
      "cell_type": "markdown",
      "source": [
        "Видим, что минимальная точность была в среднем достигнута на повороте на угол в 315º. Минимальное среднеквадратичное отклонение было достигнуто при повороте на угол 15º. \n",
        "\n",
        "Построим график зависимости среднеквадратичной ошибки в зависимости от размера выборки."
      ]
    },
    {
      "metadata": {
        "id": "WGjDBdNVGe7q",
        "colab_type": "code",
        "colab": {
          "base_uri": "https://localhost:8080/",
          "height": 359
        },
        "outputId": "5078317a-bfde-4472-93c7-c2058ea67bdb"
      },
      "cell_type": "code",
      "source": [
        "fig, ax = plt.subplots(1, 1)\n",
        "ax.set_title('Зависимость средневкадратичной ошибки от размера выборки')\n",
        "ax.set_xlabel(r'Размер выборки для обучения и контроля')\n",
        "ax.set_ylabel(r'Среднеквадратичное отклонение')\n",
        "\n",
        "Ns = list()\n",
        "STDs = list()\n",
        "STDerrs = list()\n",
        "\n",
        "for N, scores in total_scores:\n",
        "    Ns.append(N)\n",
        "    \n",
        "    std_arr = list()\n",
        "    for angle in scores:\n",
        "        std_arr.append(angle[2])\n",
        "    \n",
        "    STDs.append(np.mean(std_arr))\n",
        "    STDerrs.append(np.std(std_arr))\n",
        "\n",
        "ax.scatter(Ns, STDs, label='mean STDs')\n",
        "ax.errorbar(Ns, STDs, yerr=STDerrs, \n",
        "            capsize=5, barsabove=True)\n",
        "ax.set_xticks(Ns)\n",
        "# ax.set_ylim(0, 1)\n",
        "ax.grid()\n",
        "ax.legend()\n",
        "plt.show()\n",
        "\n",
        "# Сохранение изображения\n",
        "plt.savefig('std_from_set_size.png')\n",
        "\n",
        "print(f'Min STD:       {np.min(STDs)} on subset_size {set_sizes[np.argmin(STDs)]}')\n",
        "print(f'Max STD error: {np.max(STDerrs)} on subset_size {set_sizes[np.argmax(STDerrs)]}')"
      ],
      "execution_count": 115,
      "outputs": [
        {
          "output_type": "display_data",
          "data": {
            "image/png": "[encoded data removed]",
            "text/plain": [
              "<matplotlib.figure.Figure at 0x7f46270aa518>"
            ]
          },
          "metadata": {
            "tags": []
          }
        },
        {
          "output_type": "stream",
          "text": [
            "Min STD:       0.13134553290672166 on subset_size 2000\n",
            "Max STD error: 0.09171753187903268 on subset_size 10000\n"
          ],
          "name": "stdout"
        },
        {
          "output_type": "display_data",
          "data": {
            "text/plain": [
              "<matplotlib.figure.Figure at 0x7f4627027780>"
            ]
          },
          "metadata": {
            "tags": []
          }
        }
      ]
    },
    {
      "metadata": {
        "id": "UDS9cnarLVY5",
        "colab_type": "text"
      },
      "cell_type": "markdown",
      "source": [
        "Видим, что минимальное среднеквадратичное отклоненение достигнуто на размере выборки 2000. Наибольшая ошибка при определении среднеквадратичного отклонения достигнута на наибольшем размере выборки."
      ]
    },
    {
      "metadata": {
        "id": "bud3w5On_8ti",
        "colab_type": "text"
      },
      "cell_type": "markdown",
      "source": [
        "## Выводы\n",
        "\n",
        "По результатам исследования установлено, что поворот изображения незначительно влияет на ухудшение предсказаний. Для обучения сети рекомендуется использовать средние размеры выборок (2000), поскольку на таких размерах сеть показывает наилучшие результаты с наименьшим среднеквадратичным отклонением. Было также выявлено, что поворот изображения незначительно влияет на качество предсказаний, наихудший результат в среднем достигается при повороте на угол в 315º."
      ]
    },
    {
      "metadata": {
        "id": "wbGgM3K5391K",
        "colab_type": "code",
        "colab": {
          "base_uri": "https://localhost:8080/",
          "height": 68
        },
        "outputId": "98063097-cd60-4b62-a8b9-87fa90f25692"
      },
      "cell_type": "code",
      "source": [
        "# Скачиваем результаты на компьютер\n",
        "from google.colab import files\n",
        "!ls"
      ],
      "execution_count": 116,
      "outputs": [
        {
          "output_type": "stream",
          "text": [
            "accuracy.png\t   std_from_set_size.png  subset_500_scores\n",
            "mean_accuracy.png  subset_10000_scores\t  total_scores.pickle\n",
            "sample_data\t   subset_2000_scores\n"
          ],
          "name": "stdout"
        }
      ]
    },
    {
      "metadata": {
        "id": "LoCcp1FS4nt9",
        "colab_type": "code",
        "colab": {}
      },
      "cell_type": "code",
      "source": [
        "files.download('total_scores.pickle')\n",
        "files.download('accuracy.png')\n",
        "files.download('mean_accuracy.png')\n",
        "files.download('std_from_set_size.png')"
      ],
      "execution_count": 0,
      "outputs": []
    },
    {
      "metadata": {
        "id": "RyDDN6Iw4saX",
        "colab_type": "code",
        "colab": {}
      },
      "cell_type": "code",
      "source": [
        ""
      ],
      "execution_count": 0,
      "outputs": []
    }
  ]
}