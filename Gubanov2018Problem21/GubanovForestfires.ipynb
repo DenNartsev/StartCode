{
 "cells": [
  {
   "cell_type": "raw",
   "metadata": {},
   "source": [
    "Задача 21 (лесные пожары)\n",
    "\n",
    "Датасет заменен на YearPredictionMSD\n",
    "\n",
    "Предсказание года выпуска аудиотрека. Features extracted from the 'timbre' features from The Echo Nest API. Выборка состоит из 90 признаков и 515345 объектов."
   ]
  },
  {
   "cell_type": "code",
   "execution_count": 2,
   "metadata": {},
   "outputs": [],
   "source": [
    "import numpy as np\n",
    "import pandas as pd"
   ]
  },
  {
   "cell_type": "code",
   "execution_count": 5,
   "metadata": {},
   "outputs": [],
   "source": [
    "column_names = ['year', *('average' + str(i) for i in range(12)), *('covariance' + str(i) for i in range(78))]\n",
    "data = pd.read_csv(\"YearPredictionMSD.txt\", sep = \",\", header=None, names = column_names)"
   ]
  },
  {
   "cell_type": "code",
   "execution_count": 6,
   "metadata": {},
   "outputs": [
    {
     "data": {
      "text/html": [
       "<div>\n",
       "<style scoped>\n",
       "    .dataframe tbody tr th:only-of-type {\n",
       "        vertical-align: middle;\n",
       "    }\n",
       "\n",
       "    .dataframe tbody tr th {\n",
       "        vertical-align: top;\n",
       "    }\n",
       "\n",
       "    .dataframe thead th {\n",
       "        text-align: right;\n",
       "    }\n",
       "</style>\n",
       "<table border=\"1\" class=\"dataframe\">\n",
       "  <thead>\n",
       "    <tr style=\"text-align: right;\">\n",
       "      <th></th>\n",
       "      <th>year</th>\n",
       "      <th>average0</th>\n",
       "      <th>average1</th>\n",
       "      <th>average2</th>\n",
       "      <th>average3</th>\n",
       "      <th>average4</th>\n",
       "      <th>average5</th>\n",
       "      <th>average6</th>\n",
       "      <th>average7</th>\n",
       "      <th>average8</th>\n",
       "      <th>...</th>\n",
       "      <th>covariance68</th>\n",
       "      <th>covariance69</th>\n",
       "      <th>covariance70</th>\n",
       "      <th>covariance71</th>\n",
       "      <th>covariance72</th>\n",
       "      <th>covariance73</th>\n",
       "      <th>covariance74</th>\n",
       "      <th>covariance75</th>\n",
       "      <th>covariance76</th>\n",
       "      <th>covariance77</th>\n",
       "    </tr>\n",
       "  </thead>\n",
       "  <tbody>\n",
       "    <tr>\n",
       "      <th>0</th>\n",
       "      <td>2001</td>\n",
       "      <td>49.94357</td>\n",
       "      <td>21.47114</td>\n",
       "      <td>73.07750</td>\n",
       "      <td>8.74861</td>\n",
       "      <td>-17.40628</td>\n",
       "      <td>-13.09905</td>\n",
       "      <td>-25.01202</td>\n",
       "      <td>-12.23257</td>\n",
       "      <td>7.83089</td>\n",
       "      <td>...</td>\n",
       "      <td>13.01620</td>\n",
       "      <td>-54.40548</td>\n",
       "      <td>58.99367</td>\n",
       "      <td>15.37344</td>\n",
       "      <td>1.11144</td>\n",
       "      <td>-23.08793</td>\n",
       "      <td>68.40795</td>\n",
       "      <td>-1.82223</td>\n",
       "      <td>-27.46348</td>\n",
       "      <td>2.26327</td>\n",
       "    </tr>\n",
       "    <tr>\n",
       "      <th>1</th>\n",
       "      <td>2001</td>\n",
       "      <td>48.73215</td>\n",
       "      <td>18.42930</td>\n",
       "      <td>70.32679</td>\n",
       "      <td>12.94636</td>\n",
       "      <td>-10.32437</td>\n",
       "      <td>-24.83777</td>\n",
       "      <td>8.76630</td>\n",
       "      <td>-0.92019</td>\n",
       "      <td>18.76548</td>\n",
       "      <td>...</td>\n",
       "      <td>5.66812</td>\n",
       "      <td>-19.68073</td>\n",
       "      <td>33.04964</td>\n",
       "      <td>42.87836</td>\n",
       "      <td>-9.90378</td>\n",
       "      <td>-32.22788</td>\n",
       "      <td>70.49388</td>\n",
       "      <td>12.04941</td>\n",
       "      <td>58.43453</td>\n",
       "      <td>26.92061</td>\n",
       "    </tr>\n",
       "    <tr>\n",
       "      <th>2</th>\n",
       "      <td>2001</td>\n",
       "      <td>50.95714</td>\n",
       "      <td>31.85602</td>\n",
       "      <td>55.81851</td>\n",
       "      <td>13.41693</td>\n",
       "      <td>-6.57898</td>\n",
       "      <td>-18.54940</td>\n",
       "      <td>-3.27872</td>\n",
       "      <td>-2.35035</td>\n",
       "      <td>16.07017</td>\n",
       "      <td>...</td>\n",
       "      <td>3.03800</td>\n",
       "      <td>26.05866</td>\n",
       "      <td>-50.92779</td>\n",
       "      <td>10.93792</td>\n",
       "      <td>-0.07568</td>\n",
       "      <td>43.20130</td>\n",
       "      <td>-115.00698</td>\n",
       "      <td>-0.05859</td>\n",
       "      <td>39.67068</td>\n",
       "      <td>-0.66345</td>\n",
       "    </tr>\n",
       "    <tr>\n",
       "      <th>3</th>\n",
       "      <td>2001</td>\n",
       "      <td>48.24750</td>\n",
       "      <td>-1.89837</td>\n",
       "      <td>36.29772</td>\n",
       "      <td>2.58776</td>\n",
       "      <td>0.97170</td>\n",
       "      <td>-26.21683</td>\n",
       "      <td>5.05097</td>\n",
       "      <td>-10.34124</td>\n",
       "      <td>3.55005</td>\n",
       "      <td>...</td>\n",
       "      <td>34.57337</td>\n",
       "      <td>-171.70734</td>\n",
       "      <td>-16.96705</td>\n",
       "      <td>-46.67617</td>\n",
       "      <td>-12.51516</td>\n",
       "      <td>82.58061</td>\n",
       "      <td>-72.08993</td>\n",
       "      <td>9.90558</td>\n",
       "      <td>199.62971</td>\n",
       "      <td>18.85382</td>\n",
       "    </tr>\n",
       "    <tr>\n",
       "      <th>4</th>\n",
       "      <td>2001</td>\n",
       "      <td>50.97020</td>\n",
       "      <td>42.20998</td>\n",
       "      <td>67.09964</td>\n",
       "      <td>8.46791</td>\n",
       "      <td>-15.85279</td>\n",
       "      <td>-16.81409</td>\n",
       "      <td>-12.48207</td>\n",
       "      <td>-9.37636</td>\n",
       "      <td>12.63699</td>\n",
       "      <td>...</td>\n",
       "      <td>9.92661</td>\n",
       "      <td>-55.95724</td>\n",
       "      <td>64.92712</td>\n",
       "      <td>-17.72522</td>\n",
       "      <td>-1.49237</td>\n",
       "      <td>-7.50035</td>\n",
       "      <td>51.76631</td>\n",
       "      <td>7.88713</td>\n",
       "      <td>55.66926</td>\n",
       "      <td>28.74903</td>\n",
       "    </tr>\n",
       "  </tbody>\n",
       "</table>\n",
       "<p>5 rows × 91 columns</p>\n",
       "</div>"
      ],
      "text/plain": [
       "   year  average0  average1  average2  average3  average4  average5  average6  \\\n",
       "0  2001  49.94357  21.47114  73.07750   8.74861 -17.40628 -13.09905 -25.01202   \n",
       "1  2001  48.73215  18.42930  70.32679  12.94636 -10.32437 -24.83777   8.76630   \n",
       "2  2001  50.95714  31.85602  55.81851  13.41693  -6.57898 -18.54940  -3.27872   \n",
       "3  2001  48.24750  -1.89837  36.29772   2.58776   0.97170 -26.21683   5.05097   \n",
       "4  2001  50.97020  42.20998  67.09964   8.46791 -15.85279 -16.81409 -12.48207   \n",
       "\n",
       "   average7  average8      ...       covariance68  covariance69  covariance70  \\\n",
       "0 -12.23257   7.83089      ...           13.01620     -54.40548      58.99367   \n",
       "1  -0.92019  18.76548      ...            5.66812     -19.68073      33.04964   \n",
       "2  -2.35035  16.07017      ...            3.03800      26.05866     -50.92779   \n",
       "3 -10.34124   3.55005      ...           34.57337    -171.70734     -16.96705   \n",
       "4  -9.37636  12.63699      ...            9.92661     -55.95724      64.92712   \n",
       "\n",
       "   covariance71  covariance72  covariance73  covariance74  covariance75  \\\n",
       "0      15.37344       1.11144     -23.08793      68.40795      -1.82223   \n",
       "1      42.87836      -9.90378     -32.22788      70.49388      12.04941   \n",
       "2      10.93792      -0.07568      43.20130    -115.00698      -0.05859   \n",
       "3     -46.67617     -12.51516      82.58061     -72.08993       9.90558   \n",
       "4     -17.72522      -1.49237      -7.50035      51.76631       7.88713   \n",
       "\n",
       "   covariance76  covariance77  \n",
       "0     -27.46348       2.26327  \n",
       "1      58.43453      26.92061  \n",
       "2      39.67068      -0.66345  \n",
       "3     199.62971      18.85382  \n",
       "4      55.66926      28.74903  \n",
       "\n",
       "[5 rows x 91 columns]"
      ]
     },
     "execution_count": 6,
     "metadata": {},
     "output_type": "execute_result"
    }
   ],
   "source": [
    "data.head()"
   ]
  },
  {
   "cell_type": "raw",
   "metadata": {},
   "source": [
    "You should respect the following train / test split:\n",
    "train: first 463,715 examples\n",
    "test: last 51,630 examples\n",
    "It avoids the 'producer effect' by making sure no song\n",
    "from a given artist ends up in both the train and test set."
   ]
  },
  {
   "cell_type": "code",
   "execution_count": 8,
   "metadata": {},
   "outputs": [
    {
     "data": {
      "text/plain": [
       "(463715, 51630)"
      ]
     },
     "execution_count": 8,
     "metadata": {},
     "output_type": "execute_result"
    }
   ],
   "source": [
    "train = data.iloc[:463715, :]\n",
    "test = data.iloc[463715:, :]\n",
    "len(train), len(test)"
   ]
  },
  {
   "cell_type": "code",
   "execution_count": 7,
   "metadata": {},
   "outputs": [],
   "source": [
    "Для решения задачи предлагается использовать метод наименьших квадратов с регуляризацией"
   ]
  },
  {
   "cell_type": "code",
   "execution_count": 32,
   "metadata": {},
   "outputs": [],
   "source": [
    "def get_ans(dataset):\n",
    "    return dataset.iloc[:, [0]]\n",
    "\n",
    "def get_x(dataset):\n",
    "    return dataset.iloc[:, 1:]\n",
    "\n",
    "from sklearn.utils import shuffle\n",
    "train, test = shuffle(train), shuffle(test)\n",
    "\n",
    "from sklearn import linear_model\n",
    "from sklearn.metrics import mean_squared_error, make_scorer, r2_score\n",
    "from sklearn import cross_validation\n",
    "from matplotlib import pyplot as plt"
   ]
  },
  {
   "cell_type": "raw",
   "metadata": {},
   "source": [
    "Подберем параметр регуляризации"
   ]
  },
  {
   "cell_type": "code",
   "execution_count": 23,
   "metadata": {},
   "outputs": [
    {
     "data": {
      "text/plain": [
       "[91.44714723040313,\n",
       " 91.44714738530332,\n",
       " 91.4471475402068,\n",
       " 91.44714769511359,\n",
       " 91.44714785002348,\n",
       " 91.44714800493679,\n",
       " 91.44714815985333,\n",
       " 91.44714831477303,\n",
       " 91.44714846969607,\n",
       " 91.44714862462236,\n",
       " 91.44714877955192,\n",
       " 91.44714893448469,\n",
       " 91.44714908942073,\n",
       " 91.44714924436006,\n",
       " 91.4471493993026]"
      ]
     },
     "execution_count": 23,
     "metadata": {},
     "output_type": "execute_result"
    }
   ],
   "source": [
    "regularization_params = [i/10 for i in range(15)]\n",
    "scores = []\n",
    "for param in regularization_params:\n",
    "    model = linear_model.Ridge(param)\n",
    "    train_size, test_size = 20000, 5000\n",
    "    model.fit(get_x(train[:train_size]), get_ans(train[:train_size]))\n",
    "    md_ans = model.predict(get_x(test[:test_size]))\n",
    "    scores.append(sqrt(mean_squared_error(get_ans(test[:test_size]), md_ans)))\n",
    "best_score = 10000\n",
    "best_param = -1\n",
    "for ind, param in enumerate(regularization_params):\n",
    "    if best_score > scores[ind]:\n",
    "        best_score = scores[ind]\n",
    "        best_param = param\n",
    "assert(best_score < 10000)\n",
    "scores"
   ]
  },
  {
   "cell_type": "code",
   "execution_count": 33,
   "metadata": {},
   "outputs": [
    {
     "data": {
      "text/plain": [
       "[0.21055280965974632,\n",
       " 0.23094712536602469,\n",
       " 0.23591108708301778,\n",
       " 0.23863616852739278,\n",
       " 0.23649985107224847,\n",
       " 0.2347417736549744,\n",
       " 0.2339521853233253,\n",
       " 0.23213138094415853,\n",
       " 0.23059526427004318,\n",
       " 0.23199621638960566]"
      ]
     },
     "execution_count": 33,
     "metadata": {},
     "output_type": "execute_result"
    }
   ],
   "source": [
    "scaling_params = [i/10 for i in range(1,11)]\n",
    "best_param = 0 #in order not to require previous cells to be run\n",
    "model = linear_model.Ridge(best_param)\n",
    "\n",
    "scores = []\n",
    "for scale in scaling_params:\n",
    "    train_size = int(len(train) * scale)\n",
    "    test_size = int(len(test) * scale)\n",
    "    model.fit(get_x(train[:train_size]), get_ans(train[:train_size]))\n",
    "    md_ans = model.predict(get_x(test[:test_size]))\n",
    "    scores.append(r2_score(get_ans(test[:test_size]), md_ans))\n",
    "scores"
   ]
  },
  {
   "cell_type": "code",
   "execution_count": 40,
   "metadata": {},
   "outputs": [
    {
     "data": {
      "image/png": "[encoded data removed]",
      "text/plain": [
       "<Figure size 648x648 with 1 Axes>"
      ]
     },
     "metadata": {
      "needs_background": "light"
     },
     "output_type": "display_data"
    }
   ],
   "source": [
    "#from recommendations\n",
    "from matplotlib import pyplot as plt\n",
    "plt.rcParams['font.family'] = 'serif'\n",
    "plt.rcParams['font.serif'] = 'FreeSerif'\n",
    "plt.rcParams['lines.linewidth'] = 2\n",
    "plt.rcParams['lines.markersize'] = 12\n",
    "plt.rcParams['xtick.labelsize'] = 24\n",
    "plt.rcParams['ytick.labelsize'] = 24\n",
    "plt.rcParams['legend.fontsize'] = 16\n",
    "plt.rcParams['axes.titlesize'] = 36\n",
    "plt.rcParams['axes.labelsize'] = 24\n",
    "\n",
    "plt.figure(figsize=(9, 9))\n",
    "plt.plot(scaling_params, scores)\n",
    "plt.xlabel('fraction of dataset used')\n",
    "plt.ylabel('r2 score')\n",
    "plt.show()"
   ]
  }
 ],
 "metadata": {
  "kernelspec": {
   "display_name": "Python 3",
   "language": "python",
   "name": "python3"
  },
  "language_info": {
   "codemirror_mode": {
    "name": "ipython",
    "version": 3
   },
   "file_extension": ".py",
   "mimetype": "text/x-python",
   "name": "python",
   "nbconvert_exporter": "python",
   "pygments_lexer": "ipython3",
   "version": "3.6.5"
  }
 },
 "nbformat": 4,
 "nbformat_minor": 2
}
