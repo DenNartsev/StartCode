{
 "cells": [
  {
   "cell_type": "code",
   "execution_count": 1,
   "metadata": {},
   "outputs": [
    {
     "name": "stderr",
     "output_type": "stream",
     "text": [
      "Using TensorFlow backend.\n"
     ]
    }
   ],
   "source": [
    "import numpy as np\n",
    "import scipy.io\n",
    "from sklearn.linear_model import LinearRegression\n",
    "from sklearn.decomposition import PCA\n",
    "from sklearn.pipeline import Pipeline\n",
    "from sklearn.preprocessing import StandardScaler\n",
    "from sklearn.metrics import mean_squared_error, explained_variance_score\n",
    "from sklearn.model_selection import train_test_split\n",
    "from keras.wrappers.scikit_learn import KerasRegressor\n",
    "from keras.models import Sequential\n",
    "from keras.layers import Dense, Dropout\n",
    "import keras\n",
    "import matplotlib.pyplot as plt"
   ]
  },
  {
   "cell_type": "markdown",
   "metadata": {},
   "source": [
    "## Цель вычислительного эксперимента:\n",
    "Необходимо решить задачу регрессии с использованием моделей: линейная регрессия, PCA + линейная регрессия, простая нейросеть и критериями качества: квадратичная ошибка, число обусловленности.\n",
    "## Описание выборок:\n",
    "Используется датасет ECoG, уже разбитый на выборки обучение/контроль.\n",
    "## Блок загрузки и предобработки выборок:"
   ]
  },
  {
   "cell_type": "code",
   "execution_count": 60,
   "metadata": {},
   "outputs": [],
   "source": [
    "X_train = scipy.io.loadmat('ECoG_X_train.mat')['X_train']\n",
    "y_train = scipy.io.loadmat('ECoG_Y_train.mat')['Y_train']\n",
    "X_test = scipy.io.loadmat('ECoG_X_test.mat')['X_hold_out']\n",
    "y_test = scipy.io.loadmat('ECoG_Y_test.mat')['Y_hold_out']"
   ]
  },
  {
   "cell_type": "code",
   "execution_count": 61,
   "metadata": {},
   "outputs": [
    {
     "data": {
      "text/plain": [
       "(12801, 32, 27)"
      ]
     },
     "execution_count": 61,
     "metadata": {},
     "output_type": "execute_result"
    }
   ],
   "source": [
    "X_train.shape"
   ]
  },
  {
   "cell_type": "code",
   "execution_count": 62,
   "metadata": {},
   "outputs": [
    {
     "data": {
      "text/plain": [
       "(12801, 3)"
      ]
     },
     "execution_count": 62,
     "metadata": {},
     "output_type": "execute_result"
    }
   ],
   "source": [
    "y_train.shape"
   ]
  },
  {
   "cell_type": "code",
   "execution_count": 63,
   "metadata": {},
   "outputs": [
    {
     "data": {
      "text/plain": [
       "(6087, 32, 27)"
      ]
     },
     "execution_count": 63,
     "metadata": {},
     "output_type": "execute_result"
    }
   ],
   "source": [
    "X_test.shape"
   ]
  },
  {
   "cell_type": "code",
   "execution_count": 64,
   "metadata": {},
   "outputs": [
    {
     "data": {
      "text/plain": [
       "(6087, 3)"
      ]
     },
     "execution_count": 64,
     "metadata": {},
     "output_type": "execute_result"
    }
   ],
   "source": [
    "y_test.shape"
   ]
  },
  {
   "cell_type": "code",
   "execution_count": 65,
   "metadata": {},
   "outputs": [],
   "source": [
    "X_train = np.array([i.flatten() for i in X_train])\n",
    "X_test = np.array([i.flatten() for i in X_test])"
   ]
  },
  {
   "cell_type": "markdown",
   "metadata": {},
   "source": [
    "## Анализ пропусков"
   ]
  },
  {
   "cell_type": "code",
   "execution_count": 66,
   "metadata": {},
   "outputs": [
    {
     "data": {
      "text/plain": [
       "False"
      ]
     },
     "execution_count": 66,
     "metadata": {},
     "output_type": "execute_result"
    }
   ],
   "source": [
    "np.isnan(X_train).any()"
   ]
  },
  {
   "cell_type": "code",
   "execution_count": 67,
   "metadata": {},
   "outputs": [
    {
     "data": {
      "text/plain": [
       "False"
      ]
     },
     "execution_count": 67,
     "metadata": {},
     "output_type": "execute_result"
    }
   ],
   "source": [
    "np.isnan(y_train).any()"
   ]
  },
  {
   "cell_type": "markdown",
   "metadata": {},
   "source": [
    "Пропусков нет, стандартизуем признаки"
   ]
  },
  {
   "cell_type": "code",
   "execution_count": 68,
   "metadata": {},
   "outputs": [
    {
     "data": {
      "text/plain": [
       "array([[-10.53325227,  18.93917097,  18.55297218, ...,  17.41499459,\n",
       "         16.60704448,  16.44891843],\n",
       "       [ -4.77331163,  19.21923275,  18.77207285, ...,  16.69949724,\n",
       "         15.89956714,  14.98486893],\n",
       "       [ -5.9887654 ,  19.46942629,  19.07727324, ...,  15.68502365,\n",
       "         15.84936956,  15.5314882 ],\n",
       "       [-26.15385144,  19.68994391,  19.39824895, ...,  14.31815054,\n",
       "         15.05489211,  13.0243632 ],\n",
       "       [-35.92105998,  19.87891709,  19.6599213 , ...,  15.28387576,\n",
       "         12.1479463 ,  15.12609582]])"
      ]
     },
     "execution_count": 68,
     "metadata": {},
     "output_type": "execute_result"
    }
   ],
   "source": [
    "X_train[:5]"
   ]
  },
  {
   "cell_type": "markdown",
   "metadata": {},
   "source": [
    "## Список моделей\n",
    "Для решения поставленной задачи используются следующие модели:\n",
    "* линейная регрессия\n",
    "* PCA + линейная регрессия\n",
    "* простая нейросеть \n",
    "\n",
    "## Список критериев качетсва:\n",
    "* mean squared error\n",
    "* variance score"
   ]
  },
  {
   "cell_type": "markdown",
   "metadata": {},
   "source": [
    "## Линейная регрессия:"
   ]
  },
  {
   "cell_type": "code",
   "execution_count": 74,
   "metadata": {},
   "outputs": [
    {
     "data": {
      "text/plain": [
       "LinearRegression(copy_X=True, fit_intercept=True, n_jobs=1, normalize=True)"
      ]
     },
     "execution_count": 74,
     "metadata": {},
     "output_type": "execute_result"
    }
   ],
   "source": [
    "linreg = LinearRegression(normalize=True)\n",
    "linreg.fit(X_train, y_train)"
   ]
  },
  {
   "cell_type": "code",
   "execution_count": 75,
   "metadata": {},
   "outputs": [],
   "source": [
    "res = linreg.predict(X_test)"
   ]
  },
  {
   "cell_type": "code",
   "execution_count": 76,
   "metadata": {},
   "outputs": [
    {
     "data": {
      "text/plain": [
       "1786.7787691924377"
      ]
     },
     "execution_count": 76,
     "metadata": {},
     "output_type": "execute_result"
    }
   ],
   "source": [
    "mean_squared_error(y_test, res)"
   ]
  },
  {
   "cell_type": "code",
   "execution_count": 77,
   "metadata": {},
   "outputs": [
    {
     "data": {
      "text/plain": [
       "0.0703714702511365"
      ]
     },
     "execution_count": 77,
     "metadata": {},
     "output_type": "execute_result"
    }
   ],
   "source": [
    "explained_variance_score(y_test,res)"
   ]
  },
  {
   "cell_type": "code",
   "execution_count": 78,
   "metadata": {},
   "outputs": [
    {
     "name": "stdout",
     "output_type": "stream",
     "text": [
      "127    "
     ]
    }
   ],
   "source": [
    "err = np.zeros((y_train.shape[0] // 100, 7))\n",
    "k = y_test.shape[0] // 7 + (y_test.shape[0] % 7 > 0)\n",
    "for i in range(y_train.shape[0] // 100):\n",
    "    print(\"\\r       \\r\" + str(i), end=\"\")\n",
    "    linreg.fit(X_train[:100 * (i + 1)], y_train[:100 * (i + 1)])\n",
    "    y_predicted = linreg.predict(X_test)\n",
    "    for j in range(7):\n",
    "        err[i][j] = mean_squared_error(y_test[k * j: k * (j + 1)], y_predicted[k * j: k * (j + 1)])"
   ]
  },
  {
   "cell_type": "code",
   "execution_count": 79,
   "metadata": {},
   "outputs": [
    {
     "data": {
      "image/png": "[encoded data removed]",
      "text/plain": [
       "<matplotlib.figure.Figure at 0x2591746b9b0>"
      ]
     },
     "metadata": {},
     "output_type": "display_data"
    }
   ],
   "source": [
    "err_mean = np.mean(err, axis=1)\n",
    "err_std = np.std(err, axis=1)\n",
    "#plt.title(\"Зависимость ошибки от размера обучающей выборки\")\n",
    "plt.plot(range(100, y_train.shape[0], 100), err_mean, 'k-')\n",
    "plt.plot(range(100, y_train.shape[0], 100), err_mean - err_std, 'b-')\n",
    "plt.plot(range(100, y_train.shape[0], 100), err_mean + err_std, 'b-')\n",
    "plt.fill_between(range(100, y_train.shape[0], 100), err_mean - err_std, err_mean + err_std)\n",
    "plt.grid()\n",
    "plt.xlabel(\"Размер обучающей выборки\")\n",
    "plt.ylabel(\"mean_squared_error\")\n",
    "plt.show()"
   ]
  },
  {
   "cell_type": "code",
   "execution_count": 80,
   "metadata": {},
   "outputs": [
    {
     "data": {
      "image/png": "[encoded data removed]",
      "text/plain": [
       "<matplotlib.figure.Figure at 0x259179fb588>"
      ]
     },
     "metadata": {},
     "output_type": "display_data"
    }
   ],
   "source": [
    "err_mean = np.mean(err, axis=1)\n",
    "err_std = np.std(err, axis=1)\n",
    "#plt.title(\"Зависимость ошибки от размера обучающей выборки\")\n",
    "plt.plot(range(2000, y_train.shape[0], 100), err_mean[19:], 'k-')\n",
    "plt.plot(range(2000, y_train.shape[0], 100), err_mean[19:] - err_std[19:], 'b-')\n",
    "plt.plot(range(2000, y_train.shape[0], 100), err_mean[19:] + err_std[19:], 'b-')\n",
    "plt.fill_between(range(2000, y_train.shape[0], 100), err_mean[19:] - err_std[19:], err_mean[19:] + err_std[19:])\n",
    "plt.grid()\n",
    "plt.xlabel(\"Размер обучающей выборки\")\n",
    "plt.ylabel(\"mean_squared_error\")\n",
    "plt.show()"
   ]
  },
  {
   "cell_type": "markdown",
   "metadata": {},
   "source": [
    "## Линейная регрессия c PCA до 80 компонент"
   ]
  },
  {
   "cell_type": "code",
   "execution_count": 81,
   "metadata": {},
   "outputs": [],
   "source": [
    "pca = PCA(n_components=80)\n",
    "pipe = Pipeline(steps=[('pca', pca), ('model', linreg)])"
   ]
  },
  {
   "cell_type": "code",
   "execution_count": 82,
   "metadata": {},
   "outputs": [
    {
     "data": {
      "text/plain": [
       "Pipeline(memory=None,\n",
       "     steps=[('pca', PCA(copy=True, iterated_power='auto', n_components=80, random_state=None,\n",
       "  svd_solver='auto', tol=0.0, whiten=False)), ('model', LinearRegression(copy_X=True, fit_intercept=True, n_jobs=1, normalize=True))])"
      ]
     },
     "execution_count": 82,
     "metadata": {},
     "output_type": "execute_result"
    }
   ],
   "source": [
    "pipe.fit(X_train, y_train)"
   ]
  },
  {
   "cell_type": "code",
   "execution_count": 83,
   "metadata": {},
   "outputs": [],
   "source": [
    "res = pipe.predict(X_test)"
   ]
  },
  {
   "cell_type": "code",
   "execution_count": 84,
   "metadata": {},
   "outputs": [
    {
     "data": {
      "text/plain": [
       "1635.0175970447362"
      ]
     },
     "execution_count": 84,
     "metadata": {},
     "output_type": "execute_result"
    }
   ],
   "source": [
    "mean_squared_error(y_test, res) "
   ]
  },
  {
   "cell_type": "code",
   "execution_count": 85,
   "metadata": {},
   "outputs": [
    {
     "data": {
      "text/plain": [
       "0.147059894007987"
      ]
     },
     "execution_count": 85,
     "metadata": {},
     "output_type": "execute_result"
    }
   ],
   "source": [
    "explained_variance_score(y_test,res)"
   ]
  },
  {
   "cell_type": "code",
   "execution_count": 86,
   "metadata": {},
   "outputs": [
    {
     "name": "stdout",
     "output_type": "stream",
     "text": [
      "127    "
     ]
    }
   ],
   "source": [
    "err = np.zeros((y_train.shape[0] // 100, 7))\n",
    "k = y_test.shape[0] // 7 + (y_test.shape[0] % 7 > 0)\n",
    "for i in range(y_train.shape[0] // 100):\n",
    "    print(\"\\r       \\r\" + str(i), end=\"\")\n",
    "    pipe.fit(X_train[:100 * (i + 1)], y_train[:100 * (i + 1)])\n",
    "    y_predicted = pipe.predict(X_test)\n",
    "    for j in range(7):\n",
    "        err[i][j] = mean_squared_error(y_test[k * j: k * (j + 1)], y_predicted[k * j: k * (j + 1)])"
   ]
  },
  {
   "cell_type": "code",
   "execution_count": 87,
   "metadata": {},
   "outputs": [
    {
     "data": {
      "image/png": "[encoded data removed]",
      "text/plain": [
       "<matplotlib.figure.Figure at 0x259179584a8>"
      ]
     },
     "metadata": {},
     "output_type": "display_data"
    }
   ],
   "source": [
    "err_mean = np.mean(err, axis=1)\n",
    "err_std = np.std(err, axis=1)\n",
    "#plt.title(\"Зависимость ошибки от размера обучающей выборки\")\n",
    "plt.plot(range(100, y_train.shape[0], 100), err_mean, 'k-')\n",
    "plt.plot(range(100, y_train.shape[0], 100), err_mean - err_std, 'b-')\n",
    "plt.plot(range(100, y_train.shape[0], 100), err_mean + err_std, 'b-')\n",
    "plt.fill_between(range(100, y_train.shape[0], 100), err_mean - err_std, err_mean + err_std)\n",
    "plt.grid()\n",
    "plt.xlabel(\"Размер обучающей выборки\")\n",
    "plt.ylabel(\"mean_squared_error\")\n",
    "plt.show()"
   ]
  },
  {
   "cell_type": "markdown",
   "metadata": {},
   "source": [
    "## Нейронная сеть"
   ]
  },
  {
   "cell_type": "code",
   "execution_count": 101,
   "metadata": {},
   "outputs": [],
   "source": [
    "def big_model():\n",
    "    model = Sequential()\n",
    "    model.add(Dense(512, input_dim=864, kernel_initializer='normal', \n",
    "                    activation='relu',kernel_regularizer=keras.regularizers.l2(0.01)))\n",
    "    model.add(Dense(256, kernel_initializer='normal', activation='relu',\n",
    "                   kernel_regularizer=keras.regularizers.l2(0.01)))\n",
    "    model.add(Dense(3, kernel_initializer='normal'))\n",
    "    # Compile model\n",
    "    model.compile(loss='mean_squared_error', optimizer='rmsprop')\n",
    "    return model"
   ]
  },
  {
   "cell_type": "code",
   "execution_count": 102,
   "metadata": {},
   "outputs": [],
   "source": [
    "neural_net = KerasRegressor(big_model,epochs=100, batch_size=200,verbose=1)\n",
    "model = neural_net\n",
    "pipe = Pipeline(steps=[('scaler',scaler),('model', model)])"
   ]
  },
  {
   "cell_type": "code",
   "execution_count": 103,
   "metadata": {},
   "outputs": [
    {
     "name": "stdout",
     "output_type": "stream",
     "text": [
      "Epoch 1/100\n",
      "12801/12801 [==============================] - 1s 91us/step - loss: 13342.5266\n",
      "Epoch 2/100\n",
      "12801/12801 [==============================] - 1s 63us/step - loss: 4060.4288\n",
      "Epoch 3/100\n",
      "12801/12801 [==============================] - 1s 60us/step - loss: 3352.4759\n",
      "Epoch 4/100\n",
      "12801/12801 [==============================] - 1s 67us/step - loss: 2947.7736\n",
      "Epoch 5/100\n",
      "12801/12801 [==============================] - 1s 63us/step - loss: 2702.1991\n",
      "Epoch 6/100\n",
      "12801/12801 [==============================] - 1s 63us/step - loss: 2526.6500\n",
      "Epoch 7/100\n",
      "12801/12801 [==============================] - 1s 64us/step - loss: 2373.4829\n",
      "Epoch 8/100\n",
      "12801/12801 [==============================] - 1s 67us/step - loss: 2264.5534\n",
      "Epoch 9/100\n",
      "12801/12801 [==============================] - 1s 68us/step - loss: 2133.3137\n",
      "Epoch 10/100\n",
      "12801/12801 [==============================] - 1s 64us/step - loss: 1993.6595\n",
      "Epoch 11/100\n",
      "12801/12801 [==============================] - 1s 64us/step - loss: 1978.2901\n",
      "Epoch 12/100\n",
      "12801/12801 [==============================] - 1s 67us/step - loss: 1857.1874\n",
      "Epoch 13/100\n",
      "12801/12801 [==============================] - 1s 66us/step - loss: 1738.2929\n",
      "Epoch 14/100\n",
      "12801/12801 [==============================] - 1s 68us/step - loss: 1729.2293\n",
      "Epoch 15/100\n",
      "12801/12801 [==============================] - 1s 64us/step - loss: 1632.8203\n",
      "Epoch 16/100\n",
      "12801/12801 [==============================] - 1s 64us/step - loss: 1613.0273\n",
      "Epoch 17/100\n",
      "12801/12801 [==============================] - 1s 64us/step - loss: 1536.8794\n",
      "Epoch 18/100\n",
      "12801/12801 [==============================] - 1s 64us/step - loss: 1467.4242\n",
      "Epoch 19/100\n",
      "12801/12801 [==============================] - 1s 62us/step - loss: 1392.6636\n",
      "Epoch 20/100\n",
      "12801/12801 [==============================] - 1s 65us/step - loss: 1381.4106\n",
      "Epoch 21/100\n",
      "12801/12801 [==============================] - 1s 63us/step - loss: 1334.6175\n",
      "Epoch 22/100\n",
      "12801/12801 [==============================] - 1s 60us/step - loss: 1305.5376\n",
      "Epoch 23/100\n",
      "12801/12801 [==============================] - 1s 67us/step - loss: 1254.4127\n",
      "Epoch 24/100\n",
      "12801/12801 [==============================] - 1s 67us/step - loss: 1196.2843\n",
      "Epoch 25/100\n",
      "12801/12801 [==============================] - 1s 62us/step - loss: 1135.0378\n",
      "Epoch 26/100\n",
      "12801/12801 [==============================] - 1s 61us/step - loss: 1167.1913\n",
      "Epoch 27/100\n",
      "12801/12801 [==============================] - 1s 63us/step - loss: 1084.2802\n",
      "Epoch 28/100\n",
      "12801/12801 [==============================] - 1s 66us/step - loss: 1054.1742\n",
      "Epoch 29/100\n",
      "12801/12801 [==============================] - 1s 66us/step - loss: 1048.7617\n",
      "Epoch 30/100\n",
      "12801/12801 [==============================] - 1s 60us/step - loss: 1000.5254\n",
      "Epoch 31/100\n",
      "12801/12801 [==============================] - 1s 62us/step - loss: 978.2177\n",
      "Epoch 32/100\n",
      "12801/12801 [==============================] - 1s 64us/step - loss: 959.9374\n",
      "Epoch 33/100\n",
      "12801/12801 [==============================] - 1s 75us/step - loss: 915.2848\n",
      "Epoch 34/100\n",
      "12801/12801 [==============================] - 1s 67us/step - loss: 918.8613\n",
      "Epoch 35/100\n",
      "12801/12801 [==============================] - 1s 65us/step - loss: 889.1283\n",
      "Epoch 36/100\n",
      "12801/12801 [==============================] - 1s 61us/step - loss: 852.8032\n",
      "Epoch 37/100\n",
      "12801/12801 [==============================] - 1s 68us/step - loss: 853.8993\n",
      "Epoch 38/100\n",
      "12801/12801 [==============================] - 1s 72us/step - loss: 812.5316\n",
      "Epoch 39/100\n",
      "12801/12801 [==============================] - 1s 67us/step - loss: 815.7186\n",
      "Epoch 40/100\n",
      "12801/12801 [==============================] - 1s 66us/step - loss: 799.1260\n",
      "Epoch 41/100\n",
      "12801/12801 [==============================] - 1s 61us/step - loss: 764.1241\n",
      "Epoch 42/100\n",
      "12801/12801 [==============================] - 1s 59us/step - loss: 758.1427\n",
      "Epoch 43/100\n",
      "12801/12801 [==============================] - 1s 59us/step - loss: 753.1330\n",
      "Epoch 44/100\n",
      "12801/12801 [==============================] - 1s 69us/step - loss: 727.3174\n",
      "Epoch 45/100\n",
      "12801/12801 [==============================] - 1s 59us/step - loss: 703.9505\n",
      "Epoch 46/100\n",
      "12801/12801 [==============================] - 1s 60us/step - loss: 719.3223\n",
      "Epoch 47/100\n",
      "12801/12801 [==============================] - 1s 60us/step - loss: 689.5955\n",
      "Epoch 48/100\n",
      "12801/12801 [==============================] - 1s 58us/step - loss: 668.4225\n",
      "Epoch 49/100\n",
      "12801/12801 [==============================] - 1s 59us/step - loss: 625.6227\n",
      "Epoch 50/100\n",
      "12801/12801 [==============================] - 1s 58us/step - loss: 636.7155\n",
      "Epoch 51/100\n",
      "12801/12801 [==============================] - 1s 62us/step - loss: 643.1019\n",
      "Epoch 52/100\n",
      "12801/12801 [==============================] - 1s 63us/step - loss: 625.7362\n",
      "Epoch 53/100\n",
      "12801/12801 [==============================] - 1s 63us/step - loss: 630.0557\n",
      "Epoch 54/100\n",
      "12801/12801 [==============================] - 1s 60us/step - loss: 610.5111\n",
      "Epoch 55/100\n",
      "12801/12801 [==============================] - 1s 56us/step - loss: 583.1131\n",
      "Epoch 56/100\n",
      "12801/12801 [==============================] - 1s 55us/step - loss: 569.8633\n",
      "Epoch 57/100\n",
      "12801/12801 [==============================] - 1s 57us/step - loss: 574.3712\n",
      "Epoch 58/100\n",
      "12801/12801 [==============================] - 1s 58us/step - loss: 583.1982\n",
      "Epoch 59/100\n",
      "12801/12801 [==============================] - 1s 59us/step - loss: 568.9563\n",
      "Epoch 60/100\n",
      "12801/12801 [==============================] - 1s 59us/step - loss: 564.5077\n",
      "Epoch 61/100\n",
      "12801/12801 [==============================] - 1s 57us/step - loss: 559.5882\n",
      "Epoch 62/100\n",
      "12801/12801 [==============================] - 1s 56us/step - loss: 552.4742\n",
      "Epoch 63/100\n",
      "12801/12801 [==============================] - 1s 56us/step - loss: 556.8879\n",
      "Epoch 64/100\n",
      "12801/12801 [==============================] - 1s 57us/step - loss: 517.9343\n",
      "Epoch 65/100\n",
      "12801/12801 [==============================] - 1s 64us/step - loss: 533.1981\n",
      "Epoch 66/100\n",
      "12801/12801 [==============================] - 1s 60us/step - loss: 510.2743\n",
      "Epoch 67/100\n",
      "12801/12801 [==============================] - 1s 56us/step - loss: 535.5665\n",
      "Epoch 68/100\n",
      "12801/12801 [==============================] - 1s 60us/step - loss: 519.7149\n",
      "Epoch 69/100\n",
      "12801/12801 [==============================] - 1s 63us/step - loss: 520.5743\n",
      "Epoch 70/100\n",
      "12801/12801 [==============================] - 1s 59us/step - loss: 495.6577\n",
      "Epoch 71/100\n",
      "12801/12801 [==============================] - 1s 58us/step - loss: 489.2504\n",
      "Epoch 72/100\n",
      "12801/12801 [==============================] - 1s 60us/step - loss: 473.6140\n",
      "Epoch 73/100\n",
      "12801/12801 [==============================] - 1s 60us/step - loss: 490.1980\n",
      "Epoch 74/100\n",
      "12801/12801 [==============================] - 1s 71us/step - loss: 471.3902\n",
      "Epoch 75/100\n",
      "12801/12801 [==============================] - 1s 62us/step - loss: 466.8220\n",
      "Epoch 76/100\n",
      "12801/12801 [==============================] - 1s 64us/step - loss: 483.9240\n",
      "Epoch 77/100\n",
      "12801/12801 [==============================] - 1s 58us/step - loss: 470.2011\n",
      "Epoch 78/100\n",
      "12801/12801 [==============================] - 1s 61us/step - loss: 420.0028\n",
      "Epoch 79/100\n",
      "12801/12801 [==============================] - 1s 59us/step - loss: 446.0760\n",
      "Epoch 80/100\n",
      "12801/12801 [==============================] - 1s 59us/step - loss: 451.0598\n",
      "Epoch 81/100\n",
      "12801/12801 [==============================] - 1s 59us/step - loss: 442.7201\n",
      "Epoch 82/100\n",
      "12801/12801 [==============================] - 1s 58us/step - loss: 441.8898\n",
      "Epoch 83/100\n",
      "12801/12801 [==============================] - 1s 59us/step - loss: 428.5580\n",
      "Epoch 84/100\n",
      "12801/12801 [==============================] - 1s 61us/step - loss: 422.6152\n",
      "Epoch 85/100\n",
      "12801/12801 [==============================] - 1s 60us/step - loss: 427.9841\n",
      "Epoch 86/100\n",
      "12801/12801 [==============================] - 1s 62us/step - loss: 407.9050\n",
      "Epoch 87/100\n",
      "12801/12801 [==============================] - 1s 73us/step - loss: 412.6625\n",
      "Epoch 88/100\n",
      "12801/12801 [==============================] - 1s 71us/step - loss: 399.5915\n",
      "Epoch 89/100\n",
      "12801/12801 [==============================] - 1s 74us/step - loss: 411.3948\n",
      "Epoch 90/100\n",
      "12801/12801 [==============================] - 1s 68us/step - loss: 407.2589\n",
      "Epoch 91/100\n",
      "12801/12801 [==============================] - 1s 62us/step - loss: 406.8191\n",
      "Epoch 92/100\n",
      "12801/12801 [==============================] - 1s 62us/step - loss: 405.7064\n",
      "Epoch 93/100\n",
      "12801/12801 [==============================] - 1s 63us/step - loss: 397.9886\n",
      "Epoch 94/100\n",
      "12801/12801 [==============================] - 1s 61us/step - loss: 385.2695\n",
      "Epoch 95/100\n",
      "12801/12801 [==============================] - 1s 62us/step - loss: 394.0413\n",
      "Epoch 96/100\n",
      "12801/12801 [==============================] - 1s 66us/step - loss: 387.0325\n",
      "Epoch 97/100\n",
      "12801/12801 [==============================] - 1s 63us/step - loss: 389.4630\n",
      "Epoch 98/100\n",
      "12801/12801 [==============================] - 1s 65us/step - loss: 370.7593\n",
      "Epoch 99/100\n",
      "12801/12801 [==============================] - 1s 65us/step - loss: 354.1535\n",
      "Epoch 100/100\n",
      "12801/12801 [==============================] - 1s 60us/step - loss: 374.2849\n"
     ]
    },
    {
     "data": {
      "text/plain": [
       "Pipeline(memory=None,\n",
       "     steps=[('scaler', StandardScaler(copy=True, with_mean=True, with_std=True)), ('model', <keras.wrappers.scikit_learn.KerasRegressor object at 0x0000025918BFB978>)])"
      ]
     },
     "execution_count": 103,
     "metadata": {},
     "output_type": "execute_result"
    }
   ],
   "source": [
    "pipe.fit(X_train,y_train)"
   ]
  },
  {
   "cell_type": "code",
   "execution_count": 104,
   "metadata": {},
   "outputs": [
    {
     "name": "stdout",
     "output_type": "stream",
     "text": [
      "6087/6087 [==============================] - 0s 27us/step\n"
     ]
    }
   ],
   "source": [
    "res = pipe.predict(X_test)"
   ]
  },
  {
   "cell_type": "code",
   "execution_count": 105,
   "metadata": {},
   "outputs": [
    {
     "data": {
      "text/plain": [
       "2281.023837411724"
      ]
     },
     "execution_count": 105,
     "metadata": {},
     "output_type": "execute_result"
    }
   ],
   "source": [
    "mean_squared_error(y_test, res) "
   ]
  },
  {
   "cell_type": "code",
   "execution_count": 106,
   "metadata": {},
   "outputs": [
    {
     "data": {
      "text/plain": [
       "-0.16258658114131663"
      ]
     },
     "execution_count": 106,
     "metadata": {},
     "output_type": "execute_result"
    }
   ],
   "source": [
    "explained_variance_score(y_test, res)"
   ]
  },
  {
   "cell_type": "code",
   "execution_count": 110,
   "metadata": {},
   "outputs": [],
   "source": [
    "err = np.zeros((5, 7))\n",
    "k = y_test.shape[0] // 7 + (y_test.shape[0] % 7 > 0)\n",
    "for i, n_epoch in enumerate([1, 5, 10, 20, 50]):\n",
    "    model = KerasRegressor(big_model, epochs=n_epoch, batch_size=100, verbose=0)\n",
    "    pipe = Pipeline(steps=[('scaler', scaler), ('model', model)])\n",
    "    pipe.fit(X_train, y_train)\n",
    "    res = pipe.predict(X_test)\n",
    "    for j in range(7):\n",
    "        err[i][j] = mean_squared_error(y_test[k * j: k * (j + 1)], res[k * j: k * (j + 1)])"
   ]
  },
  {
   "cell_type": "code",
   "execution_count": 112,
   "metadata": {},
   "outputs": [
    {
     "data": {
      "image/png": "[encoded data removed]",
      "text/plain": [
       "<matplotlib.figure.Figure at 0x25918d2a710>"
      ]
     },
     "metadata": {},
     "output_type": "display_data"
    }
   ],
   "source": [
    "err_mean = np.mean(err, axis=1)\n",
    "err_std = np.std(err, axis=1)\n",
    "#plt.title(\"Зависимость ошибки от размера обучающей выборки\")\n",
    "plt.plot([1, 5, 10, 20, 50], err_mean, 'k-')\n",
    "plt.plot([1, 5, 10, 20, 50], err_mean - err_std, 'b-')\n",
    "plt.plot([1, 5, 10, 20, 50], err_mean + err_std, 'b-')\n",
    "plt.fill_between([1, 5, 10, 20, 50], err_mean - err_std, err_mean + err_std)\n",
    "plt.grid()\n",
    "plt.xlabel(\"Число эпох\")\n",
    "plt.ylabel(\"mean_squared_error\")\n",
    "plt.show()"
   ]
  },
  {
   "cell_type": "code",
   "execution_count": 115,
   "metadata": {},
   "outputs": [],
   "source": [
    "def variable_model():\n",
    "    model = Sequential()\n",
    "    model.add(Dense(64, input_dim=864, kernel_initializer='normal', activation='relu'))\n",
    "    for i in range(n_l-1):\n",
    "        model.add(Dense(64, kernel_initializer='normal', activation='relu'))\n",
    "    model.add(Dense(3, kernel_initializer='normal'))\n",
    "    # Compile model\n",
    "    model.compile(loss='mean_squared_error', optimizer='rmsprop')\n",
    "    return model\n",
    "results1 = []\n",
    "n_layers = [1, 2, 3]\n",
    "err = np.zeros((3, 7))\n",
    "for i, n_l in enumerate(n_layers):\n",
    "    model = KerasRegressor(variable_model,epochs=10, batch_size=100,verbose=0)\n",
    "    pipe = Pipeline(steps=[('scaler',scaler),('model', model)])\n",
    "    pipe.fit(X_train, y_train)\n",
    "    res = pipe.predict(X_test)\n",
    "    for j in range(7):\n",
    "        err[i][j] = mean_squared_error(y_test[k * j: k * (j + 1)], res[k * j: k * (j + 1)]) "
   ]
  },
  {
   "cell_type": "code",
   "execution_count": 116,
   "metadata": {},
   "outputs": [
    {
     "data": {
      "image/png": "[encoded data removed]",
      "text/plain": [
       "<matplotlib.figure.Figure at 0x2593d56ebe0>"
      ]
     },
     "metadata": {},
     "output_type": "display_data"
    }
   ],
   "source": [
    "err_mean = np.mean(err, axis=1)\n",
    "err_std = np.std(err, axis=1)\n",
    "#plt.title(\"Зависимость ошибки от размера обучающей выборки\")\n",
    "plt.plot([1, 2, 3], err_mean, 'k-')\n",
    "plt.plot([1, 2, 3], err_mean - err_std, 'b-')\n",
    "plt.plot([1, 2, 3], err_mean + err_std, 'b-')\n",
    "plt.fill_between([1, 2, 3], err_mean - err_std, err_mean + err_std)\n",
    "plt.grid()\n",
    "plt.xlabel(\"Количество скрытых слоев\")\n",
    "plt.ylabel(\"mean_squared_error\")\n",
    "plt.show()"
   ]
  },
  {
   "cell_type": "code",
   "execution_count": 121,
   "metadata": {},
   "outputs": [
    {
     "name": "stdout",
     "output_type": "stream",
     "text": [
      "1.00000000000000047"
     ]
    }
   ],
   "source": [
    "percents_of_data = np.arange(0.1, 1.001, 0.05)\n",
    "err = np.zeros((19, 7))\n",
    "for i, pod in enumerate(percents_of_data):\n",
    "    print(\"\\r     \\r\" + str(pod), end=\"\")\n",
    "    model = KerasRegressor(big_model,epochs=10, batch_size=100,verbose=0)\n",
    "    pipe = Pipeline(steps=[('scaler',scaler),('model', model)])\n",
    "    pipe.fit(X_train[:int(len(X_train)*pod)],y_train[:int(len(X_train)*pod)])\n",
    "    res = pipe.predict(X_test)\n",
    "    for j in range(7):\n",
    "        err[i][j] = mean_squared_error(y_test[k * j: k * (j + 1)], res[k * j: k * (j + 1)])    "
   ]
  },
  {
   "cell_type": "code",
   "execution_count": 122,
   "metadata": {},
   "outputs": [
    {
     "data": {
      "image/png": "[encoded data removed]",
      "text/plain": [
       "<matplotlib.figure.Figure at 0x25947b07ef0>"
      ]
     },
     "metadata": {},
     "output_type": "display_data"
    }
   ],
   "source": [
    "err_mean = np.mean(err, axis=1)\n",
    "err_std = np.std(err, axis=1)\n",
    "#plt.title(\"Зависимость ошибки от размера обучающей выборки\")\n",
    "plt.plot(percents_of_data, err_mean, 'k-')\n",
    "plt.plot(percents_of_data, err_mean - err_std, 'b-')\n",
    "plt.plot(percents_of_data, err_mean + err_std, 'b-')\n",
    "plt.fill_between(percents_of_data, err_mean - err_std, err_mean + err_std)\n",
    "plt.grid()\n",
    "plt.xlabel(\"Размер обучающей выборки\")\n",
    "plt.ylabel(\"mean_squared_error\")\n",
    "plt.show()"
   ]
  }
 ],
 "metadata": {
  "kernelspec": {
   "display_name": "Python 3",
   "language": "python",
   "name": "python3"
  },
  "language_info": {
   "codemirror_mode": {
    "name": "ipython",
    "version": 3
   },
   "file_extension": ".py",
   "mimetype": "text/x-python",
   "name": "python",
   "nbconvert_exporter": "python",
   "pygments_lexer": "ipython3",
   "version": "3.6.4"
  }
 },
 "nbformat": 4,
 "nbformat_minor": 2
}
