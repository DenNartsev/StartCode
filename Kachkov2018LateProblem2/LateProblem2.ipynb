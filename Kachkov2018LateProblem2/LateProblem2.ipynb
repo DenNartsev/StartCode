{
 "cells": [
  {
   "cell_type": "code",
   "execution_count": 18,
   "metadata": {},
   "outputs": [],
   "source": [
    "import numpy as np\n",
    "from scipy.io import loadmat\n",
    "from sklearn.linear_model import LinearRegression\n",
    "from sklearn.decomposition import PCA\n",
    "from sklearn.pipeline import Pipeline\n",
    "from sklearn.preprocessing import StandardScaler\n",
    "from sklearn.metrics import mean_squared_error,explained_variance_score\n",
    "from lightgbm import LGBMRegressor\n",
    "from sklearn.ensemble import RandomForestRegressor\n",
    "from sklearn.model_selection import train_test_split\n",
    "from sklearn.neural_network import MLPRegressor\n",
    "from sklearn.datasets import load_boston\n",
    "from keras.wrappers.scikit_learn import KerasRegressor\n",
    "from keras.models import Sequential\n",
    "from keras.layers import Dense,Dropout\n",
    "import keras\n",
    "from mpl_toolkits.mplot3d import Axes3D\n",
    "import matplotlib.pyplot as plt"
   ]
  },
  {
   "cell_type": "code",
   "execution_count": 19,
   "metadata": {},
   "outputs": [],
   "source": [
    "scaler = StandardScaler()\n",
    "forest = RandomForestRegressor(n_estimators=100,n_jobs=-1)\n",
    "linreg = LinearRegression(normalize=True)\n",
    "boosting = LGBMRegressor()\n",
    "pca = PCA(3)"
   ]
  },
  {
   "cell_type": "markdown",
   "metadata": {},
   "source": [
    "## Цель вычислительного эксперимента:\n",
    "Необходимо решить задачу регрессии с использованием моделей: линейная регрессия, линейная регрессия + метод главных компонент, простая нейросеть и критериями качества: квадратичная ошибка, число обусловленности.\n",
    "## Описание выборок:\n",
    "Используется датасет ECoG (electrocorticographic data), уже разбитый на выборки обучение/контроль.\n",
    "## Блок загрузки и предобработки выборок:"
   ]
  },
  {
   "cell_type": "code",
   "execution_count": 20,
   "metadata": {},
   "outputs": [],
   "source": [
    "X_train = loadmat('ECoG_X_train.mat')['X_train']\n",
    "y_train = loadmat('ECoG_Y_train.mat')['Y_train']\n",
    "X_test = loadmat('ECoG_X_test.mat')['X_hold_out']\n",
    "y_test = loadmat('ECoG_Y_test.mat')['Y_hold_out']"
   ]
  },
  {
   "cell_type": "code",
   "execution_count": 21,
   "metadata": {},
   "outputs": [
    {
     "data": {
      "text/plain": [
       "(12801, 32, 27)"
      ]
     },
     "execution_count": 21,
     "metadata": {},
     "output_type": "execute_result"
    }
   ],
   "source": [
    "X_train.shape"
   ]
  },
  {
   "cell_type": "code",
   "execution_count": 22,
   "metadata": {},
   "outputs": [
    {
     "data": {
      "text/plain": [
       "(12801, 3)"
      ]
     },
     "execution_count": 22,
     "metadata": {},
     "output_type": "execute_result"
    }
   ],
   "source": [
    "y_train.shape"
   ]
  },
  {
   "cell_type": "code",
   "execution_count": 23,
   "metadata": {},
   "outputs": [
    {
     "data": {
      "text/plain": [
       "(6087, 32, 27)"
      ]
     },
     "execution_count": 23,
     "metadata": {},
     "output_type": "execute_result"
    }
   ],
   "source": [
    "X_test.shape"
   ]
  },
  {
   "cell_type": "code",
   "execution_count": 24,
   "metadata": {},
   "outputs": [
    {
     "data": {
      "text/plain": [
       "(6087, 3)"
      ]
     },
     "execution_count": 24,
     "metadata": {},
     "output_type": "execute_result"
    }
   ],
   "source": [
    "y_test.shape"
   ]
  },
  {
   "cell_type": "markdown",
   "metadata": {},
   "source": [
    "Объектами X_train, X_test являются матрицы 32x27. Преобразуем их в одномерные векторы:"
   ]
  },
  {
   "cell_type": "code",
   "execution_count": 25,
   "metadata": {},
   "outputs": [],
   "source": [
    "X_train = np.array([i.flatten() for i in X_train])\n",
    "X_test = np.array([i.flatten() for i in X_test])"
   ]
  },
  {
   "cell_type": "markdown",
   "metadata": {},
   "source": [
    "## Анализ пропусков"
   ]
  },
  {
   "cell_type": "code",
   "execution_count": 26,
   "metadata": {},
   "outputs": [
    {
     "data": {
      "text/plain": [
       "False"
      ]
     },
     "execution_count": 26,
     "metadata": {},
     "output_type": "execute_result"
    }
   ],
   "source": [
    "np.isnan(X_train).any()"
   ]
  },
  {
   "cell_type": "code",
   "execution_count": 27,
   "metadata": {},
   "outputs": [
    {
     "data": {
      "text/plain": [
       "False"
      ]
     },
     "execution_count": 27,
     "metadata": {},
     "output_type": "execute_result"
    }
   ],
   "source": [
    "np.isnan(y_train).any()"
   ]
  },
  {
   "cell_type": "markdown",
   "metadata": {},
   "source": [
    "Данная выборка не имеет пропусков."
   ]
  },
  {
   "cell_type": "markdown",
   "metadata": {},
   "source": [
    "## Список моделей\n",
    "Для решения поставленной задачи используются следующие модели:\n",
    "* линейная регрессия\n",
    "* PCA + линейная регрессия\n",
    "* простая нейросеть \n",
    "\n",
    "## Список критериев качетсва:\n",
    "* mean squared error\n",
    "* variance score\n",
    "\n",
    "## Структурные параметры нейронной сети:\n",
    "* число и состав признаков\n",
    "* размерность скрытого пространства\n",
    "* структура сети\n",
    "\n",
    "## Способ разбиения выборки на обучение-контроль:\n",
    "Данные уже разбиты на 2 выборки."
   ]
  },
  {
   "cell_type": "markdown",
   "metadata": {},
   "source": [
    "## Линейная регрессия:"
   ]
  },
  {
   "cell_type": "code",
   "execution_count": 28,
   "metadata": {},
   "outputs": [],
   "source": [
    "model = linreg\n",
    "pipe = Pipeline(steps=[('model', model)])"
   ]
  },
  {
   "cell_type": "code",
   "execution_count": 29,
   "metadata": {},
   "outputs": [
    {
     "data": {
      "text/plain": [
       "Pipeline(memory=None,\n",
       "     steps=[('model', LinearRegression(copy_X=True, fit_intercept=True, n_jobs=1, normalize=True))])"
      ]
     },
     "execution_count": 29,
     "metadata": {},
     "output_type": "execute_result"
    }
   ],
   "source": [
    "pipe.fit(X_train,y_train)"
   ]
  },
  {
   "cell_type": "code",
   "execution_count": 30,
   "metadata": {},
   "outputs": [
    {
     "name": "stdout",
     "output_type": "stream",
     "text": [
      "1786.7787691924393 0.0703714702511374\n"
     ]
    }
   ],
   "source": [
    "res = pipe.predict(X_test)\n",
    "mse = mean_squared_error(res,y_test) \n",
    "varience = explained_variance_score(y_test,res)\n",
    "print(mse,varience)"
   ]
  },
  {
   "cell_type": "markdown",
   "metadata": {},
   "source": [
    "## Линейная регрессия c PCA до 80 компонент"
   ]
  },
  {
   "cell_type": "code",
   "execution_count": 31,
   "metadata": {},
   "outputs": [],
   "source": [
    "model = linreg\n",
    "pca = PCA(n_components=80)\n",
    "pipe = Pipeline(steps=[('pca',pca),('model', model)])"
   ]
  },
  {
   "cell_type": "code",
   "execution_count": 32,
   "metadata": {},
   "outputs": [
    {
     "data": {
      "text/plain": [
       "Pipeline(memory=None,\n",
       "     steps=[('pca', PCA(copy=True, iterated_power='auto', n_components=80, random_state=None,\n",
       "  svd_solver='auto', tol=0.0, whiten=False)), ('model', LinearRegression(copy_X=True, fit_intercept=True, n_jobs=1, normalize=True))])"
      ]
     },
     "execution_count": 32,
     "metadata": {},
     "output_type": "execute_result"
    }
   ],
   "source": [
    "pipe.fit(X_train,y_train)"
   ]
  },
  {
   "cell_type": "code",
   "execution_count": 33,
   "metadata": {},
   "outputs": [
    {
     "name": "stdout",
     "output_type": "stream",
     "text": [
      "1634.9602130184223 0.1467494360544288\n"
     ]
    }
   ],
   "source": [
    "res = pipe.predict(X_test)\n",
    "mse = mean_squared_error(res,y_test) \n",
    "varience = explained_variance_score(y_test,res)\n",
    "print(mse,varience)"
   ]
  },
  {
   "cell_type": "markdown",
   "metadata": {},
   "source": [
    "## Нейронная сеть"
   ]
  },
  {
   "cell_type": "code",
   "execution_count": 34,
   "metadata": {},
   "outputs": [],
   "source": [
    "def big_model():\n",
    "    model = Sequential()\n",
    "    model.add(Dense(512, input_dim=864, kernel_initializer='normal', \n",
    "                    activation='relu',kernel_regularizer=keras.regularizers.l2(0.01)))\n",
    "    model.add(Dense(256, kernel_initializer='normal', activation='relu',\n",
    "                   kernel_regularizer=keras.regularizers.l2(0.01)))\n",
    "    model.add(Dense(3, kernel_initializer='normal'))\n",
    "    # Compile model\n",
    "    model.compile(loss='mean_squared_error', optimizer='rmsprop')\n",
    "    return model"
   ]
  },
  {
   "cell_type": "code",
   "execution_count": 35,
   "metadata": {},
   "outputs": [],
   "source": [
    "neural_net = KerasRegressor(big_model,epochs=100, batch_size=200,verbose=1)\n",
    "model = neural_net\n",
    "pipe = Pipeline(steps=[('scaler',scaler),('model', model)])"
   ]
  },
  {
   "cell_type": "code",
   "execution_count": 36,
   "metadata": {},
   "outputs": [
    {
     "name": "stdout",
     "output_type": "stream",
     "text": [
      "Epoch 1/100\n",
      "12801/12801 [==============================] - 2s 178us/step - loss: 13826.9416\n",
      "Epoch 2/100\n",
      "12801/12801 [==============================] - 2s 145us/step - loss: 4106.8769\n",
      "Epoch 3/100\n",
      "12801/12801 [==============================] - 2s 143us/step - loss: 3307.4679\n",
      "Epoch 4/100\n",
      "12801/12801 [==============================] - 2s 145us/step - loss: 3014.8762\n",
      "Epoch 5/100\n",
      "12801/12801 [==============================] - 2s 142us/step - loss: 2704.6778\n",
      "Epoch 6/100\n",
      "12801/12801 [==============================] - 2s 147us/step - loss: 2511.1328\n",
      "Epoch 7/100\n",
      "12801/12801 [==============================] - 2s 146us/step - loss: 2389.2103\n",
      "Epoch 8/100\n",
      "12801/12801 [==============================] - 2s 146us/step - loss: 2233.0734\n",
      "Epoch 9/100\n",
      "12801/12801 [==============================] - 2s 149us/step - loss: 2113.7736\n",
      "Epoch 10/100\n",
      "12801/12801 [==============================] - 2s 158us/step - loss: 2028.6532\n",
      "Epoch 11/100\n",
      "12801/12801 [==============================] - 2s 147us/step - loss: 1898.8530\n",
      "Epoch 12/100\n",
      "12801/12801 [==============================] - 2s 148us/step - loss: 1864.5661\n",
      "Epoch 13/100\n",
      "12801/12801 [==============================] - 2s 162us/step - loss: 1776.9549\n",
      "Epoch 14/100\n",
      "12801/12801 [==============================] - 2s 156us/step - loss: 1701.9742\n",
      "Epoch 15/100\n",
      "12801/12801 [==============================] - 2s 170us/step - loss: 1652.2706\n",
      "Epoch 16/100\n",
      "12801/12801 [==============================] - 2s 140us/step - loss: 1591.3517\n",
      "Epoch 17/100\n",
      "12801/12801 [==============================] - 2s 139us/step - loss: 1516.2855\n",
      "Epoch 18/100\n",
      "12801/12801 [==============================] - 2s 169us/step - loss: 1479.7010\n",
      "Epoch 19/100\n",
      "12801/12801 [==============================] - 2s 133us/step - loss: 1395.4281\n",
      "Epoch 20/100\n",
      "12801/12801 [==============================] - 2s 180us/step - loss: 1366.5875\n",
      "Epoch 21/100\n",
      "12801/12801 [==============================] - 1s 112us/step - loss: 1285.3563\n",
      "Epoch 22/100\n",
      "12801/12801 [==============================] - 1s 110us/step - loss: 1267.7612\n",
      "Epoch 23/100\n",
      "12801/12801 [==============================] - 2s 160us/step - loss: 1239.2720\n",
      "Epoch 24/100\n",
      "12801/12801 [==============================] - 2s 156us/step - loss: 1162.5306\n",
      "Epoch 25/100\n",
      "12801/12801 [==============================] - 2s 193us/step - loss: 1151.1756\n",
      "Epoch 26/100\n",
      "12801/12801 [==============================] - 3s 224us/step - loss: 1139.7617\n",
      "Epoch 27/100\n",
      "12801/12801 [==============================] - 3s 211us/step - loss: 1074.3790\n",
      "Epoch 28/100\n",
      "12801/12801 [==============================] - 3s 213us/step - loss: 1066.1592\n",
      "Epoch 29/100\n",
      "12801/12801 [==============================] - 3s 213us/step - loss: 1013.9194\n",
      "Epoch 30/100\n",
      "12801/12801 [==============================] - 3s 214us/step - loss: 997.5742\n",
      "Epoch 31/100\n",
      "12801/12801 [==============================] - 2s 178us/step - loss: 990.0401\n",
      "Epoch 32/100\n",
      "12801/12801 [==============================] - 2s 180us/step - loss: 955.1419\n",
      "Epoch 33/100\n",
      "12801/12801 [==============================] - 2s 158us/step - loss: 930.7601\n",
      "Epoch 34/100\n",
      "12801/12801 [==============================] - 2s 169us/step - loss: 917.5061\n",
      "Epoch 35/100\n",
      "12801/12801 [==============================] - 2s 173us/step - loss: 876.6819\n",
      "Epoch 36/100\n",
      "12801/12801 [==============================] - 3s 272us/step - loss: 858.1280\n",
      "Epoch 37/100\n",
      "12801/12801 [==============================] - 3s 232us/step - loss: 825.9380\n",
      "Epoch 38/100\n",
      "12801/12801 [==============================] - 2s 183us/step - loss: 802.3470\n",
      "Epoch 39/100\n",
      "12801/12801 [==============================] - 3s 212us/step - loss: 800.9426\n",
      "Epoch 40/100\n",
      "12801/12801 [==============================] - 4s 278us/step - loss: 797.6517\n",
      "Epoch 41/100\n",
      "12801/12801 [==============================] - 2s 193us/step - loss: 775.5609\n",
      "Epoch 42/100\n",
      "12801/12801 [==============================] - 2s 189us/step - loss: 784.9142\n",
      "Epoch 43/100\n",
      "12801/12801 [==============================] - 3s 198us/step - loss: 730.1974\n",
      "Epoch 44/100\n",
      "12801/12801 [==============================] - 3s 214us/step - loss: 731.5533\n",
      "Epoch 45/100\n",
      "12801/12801 [==============================] - 3s 242us/step - loss: 724.2402\n",
      "Epoch 46/100\n",
      "12801/12801 [==============================] - 3s 243us/step - loss: 668.4577\n",
      "Epoch 47/100\n",
      "12801/12801 [==============================] - 3s 226us/step - loss: 682.9458\n",
      "Epoch 48/100\n",
      "12801/12801 [==============================] - 3s 199us/step - loss: 686.0351\n",
      "Epoch 49/100\n",
      "12801/12801 [==============================] - 2s 175us/step - loss: 669.5158\n",
      "Epoch 50/100\n",
      "12801/12801 [==============================] - 3s 213us/step - loss: 678.2515\n",
      "Epoch 51/100\n",
      "12801/12801 [==============================] - 3s 200us/step - loss: 648.4325\n",
      "Epoch 52/100\n",
      "12801/12801 [==============================] - 2s 190us/step - loss: 642.8736\n",
      "Epoch 53/100\n",
      "12801/12801 [==============================] - 2s 162us/step - loss: 637.3700\n",
      "Epoch 54/100\n",
      "12801/12801 [==============================] - 2s 159us/step - loss: 602.8367\n",
      "Epoch 55/100\n",
      "12801/12801 [==============================] - 2s 157us/step - loss: 619.3521\n",
      "Epoch 56/100\n",
      "12801/12801 [==============================] - 2s 161us/step - loss: 620.9534\n",
      "Epoch 57/100\n",
      "12801/12801 [==============================] - 3s 197us/step - loss: 586.6562\n",
      "Epoch 58/100\n",
      "12801/12801 [==============================] - 3s 219us/step - loss: 592.0330\n",
      "Epoch 59/100\n",
      "12801/12801 [==============================] - 3s 245us/step - loss: 591.1542\n",
      "Epoch 60/100\n",
      "12801/12801 [==============================] - 3s 234us/step - loss: 550.9516\n",
      "Epoch 61/100\n",
      "12801/12801 [==============================] - 3s 202us/step - loss: 579.5324\n",
      "Epoch 62/100\n",
      "12801/12801 [==============================] - 3s 202us/step - loss: 554.7284\n",
      "Epoch 63/100\n",
      "12801/12801 [==============================] - 2s 194us/step - loss: 535.0105\n",
      "Epoch 64/100\n",
      "12801/12801 [==============================] - 2s 195us/step - loss: 550.6192\n",
      "Epoch 65/100\n",
      "12801/12801 [==============================] - 3s 204us/step - loss: 555.5725\n",
      "Epoch 66/100\n",
      "12801/12801 [==============================] - 2s 182us/step - loss: 534.6731\n",
      "Epoch 67/100\n",
      "12801/12801 [==============================] - 2s 174us/step - loss: 533.0545\n",
      "Epoch 68/100\n",
      "12801/12801 [==============================] - 3s 203us/step - loss: 499.6661\n",
      "Epoch 69/100\n",
      "12801/12801 [==============================] - 3s 203us/step - loss: 528.4265\n",
      "Epoch 70/100\n",
      "12801/12801 [==============================] - 2s 172us/step - loss: 490.1835\n",
      "Epoch 71/100\n",
      "12801/12801 [==============================] - 2s 192us/step - loss: 515.8431\n",
      "Epoch 72/100\n",
      "12801/12801 [==============================] - 2s 157us/step - loss: 499.0169\n",
      "Epoch 73/100\n",
      "12801/12801 [==============================] - 2s 172us/step - loss: 487.5167\n",
      "Epoch 74/100\n",
      "12801/12801 [==============================] - 2s 165us/step - loss: 491.7562\n",
      "Epoch 75/100\n",
      "12801/12801 [==============================] - 2s 161us/step - loss: 478.5188\n",
      "Epoch 76/100\n",
      "12801/12801 [==============================] - 2s 174us/step - loss: 482.2381\n",
      "Epoch 77/100\n",
      "12801/12801 [==============================] - 2s 155us/step - loss: 487.5325\n",
      "Epoch 78/100\n",
      "12801/12801 [==============================] - 2s 173us/step - loss: 460.3936\n",
      "Epoch 79/100\n",
      "12801/12801 [==============================] - 2s 153us/step - loss: 442.9127\n",
      "Epoch 80/100\n",
      "12801/12801 [==============================] - 2s 184us/step - loss: 462.0990\n",
      "Epoch 81/100\n",
      "12801/12801 [==============================] - 2s 185us/step - loss: 457.4444\n",
      "Epoch 82/100\n",
      "12801/12801 [==============================] - 2s 155us/step - loss: 453.2949\n",
      "Epoch 83/100\n",
      "12801/12801 [==============================] - 3s 197us/step - loss: 440.8044\n",
      "Epoch 84/100\n",
      "12801/12801 [==============================] - 2s 171us/step - loss: 422.6709\n",
      "Epoch 85/100\n",
      "12801/12801 [==============================] - 2s 171us/step - loss: 445.0583\n",
      "Epoch 86/100\n",
      "12801/12801 [==============================] - 2s 166us/step - loss: 441.1010\n",
      "Epoch 87/100\n",
      "12801/12801 [==============================] - 2s 170us/step - loss: 416.9275\n",
      "Epoch 88/100\n",
      "12801/12801 [==============================] - 2s 177us/step - loss: 424.7273\n",
      "Epoch 89/100\n",
      "12801/12801 [==============================] - 2s 173us/step - loss: 442.3417\n",
      "Epoch 90/100\n"
     ]
    },
    {
     "name": "stdout",
     "output_type": "stream",
     "text": [
      "12801/12801 [==============================] - 2s 152us/step - loss: 407.8288\n",
      "Epoch 91/100\n",
      "12801/12801 [==============================] - 2s 154us/step - loss: 411.6233\n",
      "Epoch 92/100\n",
      "12801/12801 [==============================] - 2s 179us/step - loss: 398.3094\n",
      "Epoch 93/100\n",
      "12801/12801 [==============================] - 2s 168us/step - loss: 415.3668\n",
      "Epoch 94/100\n",
      "12801/12801 [==============================] - 2s 172us/step - loss: 392.7755\n",
      "Epoch 95/100\n",
      "12801/12801 [==============================] - 2s 142us/step - loss: 385.8142\n",
      "Epoch 96/100\n",
      "12801/12801 [==============================] - 2s 144us/step - loss: 402.8084\n",
      "Epoch 97/100\n",
      "12801/12801 [==============================] - 2s 153us/step - loss: 390.5092\n",
      "Epoch 98/100\n",
      "12801/12801 [==============================] - 2s 159us/step - loss: 389.1342\n",
      "Epoch 99/100\n",
      "12801/12801 [==============================] - 2s 189us/step - loss: 397.8578\n",
      "Epoch 100/100\n",
      "12801/12801 [==============================] - 2s 188us/step - loss: 394.2945\n"
     ]
    },
    {
     "data": {
      "text/plain": [
       "Pipeline(memory=None,\n",
       "     steps=[('scaler', StandardScaler(copy=True, with_mean=True, with_std=True)), ('model', <keras.wrappers.scikit_learn.KerasRegressor object at 0x7fd6ec452fd0>)])"
      ]
     },
     "execution_count": 36,
     "metadata": {},
     "output_type": "execute_result"
    }
   ],
   "source": [
    "pipe.fit(X_train,y_train)"
   ]
  },
  {
   "cell_type": "code",
   "execution_count": 37,
   "metadata": {},
   "outputs": [
    {
     "name": "stdout",
     "output_type": "stream",
     "text": [
      "6087/6087 [==============================] - 1s 91us/step\n",
      "2332.629741946544 -0.17965804136300276\n"
     ]
    }
   ],
   "source": [
    "res = pipe.predict(X_test)\n",
    "mse = mean_squared_error(res,y_test) \n",
    "varience = explained_variance_score(y_test,res)\n",
    "print(mse,varience)"
   ]
  },
  {
   "cell_type": "markdown",
   "metadata": {},
   "source": [
    "## Графики"
   ]
  },
  {
   "cell_type": "markdown",
   "metadata": {},
   "source": [
    "##### Зависимость функции ошибки от количества эпох"
   ]
  },
  {
   "cell_type": "code",
   "execution_count": 47,
   "metadata": {},
   "outputs": [],
   "source": [
    "results = np.zeros((5, 5))\n",
    "N = 1218\n",
    "for i, n_epoch in enumerate([1,5,10,20,50]):\n",
    "    model = KerasRegressor(big_model,epochs=n_epoch, batch_size=100,verbose=0)\n",
    "    pipe = Pipeline(steps=[('scaler',scaler),('model', model)])\n",
    "    pipe.fit(X_train,y_train)\n",
    "    res = pipe.predict(X_test)\n",
    "    for j in range(5):\n",
    "        results[i][j] = mean_squared_error(y_test[N * j: N * (j + 1)],\n",
    "                                           res[N * j: N * (j + 1)])"
   ]
  },
  {
   "cell_type": "code",
   "execution_count": 48,
   "metadata": {},
   "outputs": [
    {
     "data": {
      "text/plain": [
       "array([[4569.91055308, 5012.51786228, 4277.85763436, 4546.70370505,\n",
       "        4328.95583161],\n",
       "       [2505.65580119, 2789.00047169, 2285.42403887, 3047.51039107,\n",
       "        2784.95535496],\n",
       "       [3187.45148495, 3263.25880654, 3078.71302404, 3242.64821162,\n",
       "        2757.90914865],\n",
       "       [2396.02436322, 3292.38280118, 2041.26333932, 2713.75580987,\n",
       "        2890.06975869],\n",
       "       [2601.56828163, 3753.07692081, 2202.77204714, 2998.7842833 ,\n",
       "        3507.00173318]])"
      ]
     },
     "execution_count": 48,
     "metadata": {},
     "output_type": "execute_result"
    }
   ],
   "source": [
    "results"
   ]
  },
  {
   "cell_type": "code",
   "execution_count": 50,
   "metadata": {},
   "outputs": [
    {
     "data": {
      "image/png": "[encoded data removed]",
      "text/plain": [
       "<Figure size 432x288 with 1 Axes>"
      ]
     },
     "metadata": {},
     "output_type": "display_data"
    }
   ],
   "source": [
    "x_ticks = [1,5,10,20,50]\n",
    "results_mean = np.mean(results, axis=1)\n",
    "results_std = np.std(results, axis=1)\n",
    "plt.plot(x_ticks, results_mean, 'k-')\n",
    "plt.plot(x_ticks, results_mean - results_std, 'b-')\n",
    "plt.plot(x_ticks, results_mean + results_std, 'b-')\n",
    "plt.fill_between(x_ticks, results_mean - results_std, results_mean + results_std)\n",
    "plt.grid()\n",
    "plt.title('Зависимость функции ошибки от количества эпох')\n",
    "plt.xlabel(\"Количество эпох обучения\")\n",
    "plt.ylabel(\"Среднеквадратичное отклонение\")\n",
    "plt.show()"
   ]
  },
  {
   "cell_type": "markdown",
   "metadata": {},
   "source": [
    "##### Зависимость функции ошибки от размера скрытого слоя"
   ]
  },
  {
   "cell_type": "code",
   "execution_count": 52,
   "metadata": {},
   "outputs": [],
   "source": [
    "def variable_model():\n",
    "    model = Sequential()\n",
    "    model.add(Dense(64, input_dim=864, kernel_initializer='normal', activation='relu'))\n",
    "    for i in range(n_l-1):\n",
    "        model.add(Dense(64, kernel_initializer='normal', activation='relu'))\n",
    "    model.add(Dense(3, kernel_initializer='normal'))\n",
    "    # Compile model\n",
    "    model.compile(loss='mean_squared_error', optimizer='rmsprop')\n",
    "    return model\n",
    "results1 = np.zeros((3,5))\n",
    "n_layers = [1,2,3]\n",
    "for i, n_l in enumerate(n_layers):\n",
    "    model = KerasRegressor(variable_model,epochs=10, batch_size=100,verbose=0)\n",
    "    pipe = Pipeline(steps=[('scaler',scaler),('model', model)])\n",
    "    pipe.fit(X_train,y_train)\n",
    "    res = pipe.predict(X_test)\n",
    "    for j in range(5):\n",
    "        results1[i][j] = mean_squared_error(y_test[N * j: N * (j + 1)], res[N * j: N * (j + 1)])"
   ]
  },
  {
   "cell_type": "code",
   "execution_count": 55,
   "metadata": {},
   "outputs": [
    {
     "data": {
      "text/plain": [
       "array([[4459.67106945, 4890.31655815, 3941.06789619, 4523.3945766 ,\n",
       "        4297.1579745 ],\n",
       "       [2392.58870991, 2882.90961967, 2121.09892981, 2700.03479441,\n",
       "        2798.22901469],\n",
       "       [2541.41769657, 2911.49202871, 2271.01093711, 2984.73926444,\n",
       "        2667.73825071]])"
      ]
     },
     "execution_count": 55,
     "metadata": {},
     "output_type": "execute_result"
    }
   ],
   "source": [
    "results1"
   ]
  },
  {
   "cell_type": "code",
   "execution_count": 54,
   "metadata": {},
   "outputs": [
    {
     "data": {
      "image/png": "[encoded data removed]",
      "text/plain": [
       "<Figure size 432x288 with 1 Axes>"
      ]
     },
     "metadata": {},
     "output_type": "display_data"
    }
   ],
   "source": [
    "results1_mean = np.mean(results1, axis=1)\n",
    "results1_std = np.std(results1, axis=1)\n",
    "fig, ax = plt.subplots()\n",
    "ax.set_xlabel(\"Количество скрытых слоев\")\n",
    "ax.set_ylabel(\"Среднеквадратичное отклонение\")\n",
    "ax.set_title('Зависимость функции ошибки от размера скрытого слоя')\n",
    "ax.set_xticks(n_layers)\n",
    "plt.plot(n_layers, results1_mean, 'k-')\n",
    "plt.plot(n_layers, results1_mean - results1_std, 'b-')\n",
    "plt.plot(n_layers, results1_mean + results1_std, 'b-')\n",
    "plt.fill_between(n_layers, results1_mean - results1_std, results1_mean + results1_std)\n",
    "plt.grid()\n",
    "plt.show()"
   ]
  },
  {
   "cell_type": "markdown",
   "metadata": {},
   "source": [
    "##### Зависимость функции ошибки от размера обучающей выборки"
   ]
  },
  {
   "cell_type": "code",
   "execution_count": 58,
   "metadata": {},
   "outputs": [],
   "source": [
    "percents_of_data = [0.1,0.2,0.3,0.5,0.8,1.0]\n",
    "results3 = np.zeros((6, 5))\n",
    "for i, pod in enumerate(percents_of_data):\n",
    "    model = KerasRegressor(big_model,epochs=10, batch_size=100,verbose=0)\n",
    "    pipe = Pipeline(steps=[('scaler',scaler),('model', model)])\n",
    "    pipe.fit(X_train[:int(len(X_train)*pod)],y_train[:int(len(X_train)*pod)])\n",
    "    res = pipe.predict(X_test)\n",
    "    for j in range(5):\n",
    "        results3[i][j] = mean_squared_error(y_test[N * j: N * (j + 1)], res[N * j: N * (j + 1)])"
   ]
  },
  {
   "cell_type": "code",
   "execution_count": 59,
   "metadata": {},
   "outputs": [
    {
     "data": {
      "text/plain": [
       "array([[5446.2258489 , 4709.43085895, 5602.62709673, 5386.65219092,\n",
       "        4655.4724349 ],\n",
       "       [3791.06176671, 3598.5409162 , 3744.0984689 , 4104.49428603,\n",
       "        3550.56700095],\n",
       "       [3920.09423252, 3558.16307074, 3891.96906894, 3781.08513912,\n",
       "        3504.17818583],\n",
       "       [3670.57506937, 3750.95994031, 3456.65627776, 3560.79451291,\n",
       "        3628.13201099],\n",
       "       [2103.65891252, 2666.37717049, 1830.25414167, 2544.09178049,\n",
       "        2648.33948823],\n",
       "       [2667.3451799 , 2918.71788949, 2444.8128165 , 2768.48396353,\n",
       "        2550.68465311]])"
      ]
     },
     "execution_count": 59,
     "metadata": {},
     "output_type": "execute_result"
    }
   ],
   "source": [
    "results3"
   ]
  },
  {
   "cell_type": "code",
   "execution_count": 60,
   "metadata": {},
   "outputs": [
    {
     "data": {
      "image/png": "[encoded data removed]",
      "text/plain": [
       "<Figure size 432x288 with 1 Axes>"
      ]
     },
     "metadata": {},
     "output_type": "display_data"
    }
   ],
   "source": [
    "results3_mean = np.mean(results3, axis=1)\n",
    "results3_std = np.std(results3, axis=1)\n",
    "fig, ax = plt.subplots()\n",
    "#ax.set_ylim(0,60)\n",
    "ax.set_xlabel(\"Процент от полной train выборки\")\n",
    "ax.set_ylabel(\"Среднеквадратичное отклонение\")\n",
    "ax.set_title('Зависимость функции ошибки от размера скрытого слоя')\n",
    "ax.set_xticks(percents_of_data)\n",
    "plt.plot(percents_of_data, results3_mean, 'k-')\n",
    "plt.plot(percents_of_data, results3_mean - results3_std, 'b-')\n",
    "plt.plot(percents_of_data, results3_mean + results3_std, 'b-')\n",
    "plt.fill_between(percents_of_data, results3_mean - results3_std, results3_mean + results3_std)\n",
    "plt.grid()\n",
    "plt.show()"
   ]
  },
  {
   "cell_type": "markdown",
   "metadata": {},
   "source": [
    "## Анализ результатов\n",
    "\n",
    "|                    | linreg  | linreg + PCA | neural_net |\n",
    "|--------------------|---------|--------------|------------|\n",
    "| mean squared error | 1786.77 | 1634.90      | 2201.43    | \n",
    "| variance score     | 0.070   | 0.147        | -0.240     |\n",
    "\n",
    "## Вывод\n",
    "Можно сделать вывод, что наилучшие результаты показывает linear regression + 80-component PCA."
   ]
  },
  {
   "cell_type": "markdown",
   "metadata": {},
   "source": [
    "# Синтетическая выборка\n",
    "В качестве синтетической выборки для задачи регрессии возьмём Boston dataset."
   ]
  },
  {
   "cell_type": "code",
   "execution_count": 61,
   "metadata": {},
   "outputs": [],
   "source": [
    "dataset = load_boston()"
   ]
  },
  {
   "cell_type": "code",
   "execution_count": 62,
   "metadata": {},
   "outputs": [
    {
     "data": {
      "text/plain": [
       "(506, 13)"
      ]
     },
     "execution_count": 62,
     "metadata": {},
     "output_type": "execute_result"
    }
   ],
   "source": [
    "dataset.data.shape"
   ]
  },
  {
   "cell_type": "code",
   "execution_count": 78,
   "metadata": {},
   "outputs": [],
   "source": [
    "y = dataset.target\n",
    "X = dataset.data\n",
    "X_train, X_test, y_train, y_test = train_test_split(X, y, test_size=0.25, random_state=228)"
   ]
  },
  {
   "cell_type": "markdown",
   "metadata": {},
   "source": [
    "## Линейная регрессия"
   ]
  },
  {
   "cell_type": "code",
   "execution_count": 64,
   "metadata": {},
   "outputs": [],
   "source": [
    "model = linreg\n",
    "pipe = Pipeline(steps=[('model', model)])"
   ]
  },
  {
   "cell_type": "code",
   "execution_count": 65,
   "metadata": {},
   "outputs": [
    {
     "data": {
      "text/plain": [
       "Pipeline(memory=None,\n",
       "     steps=[('model', LinearRegression(copy_X=True, fit_intercept=True, n_jobs=1, normalize=True))])"
      ]
     },
     "execution_count": 65,
     "metadata": {},
     "output_type": "execute_result"
    }
   ],
   "source": [
    "pipe.fit(X_train,y_train)"
   ]
  },
  {
   "cell_type": "code",
   "execution_count": 66,
   "metadata": {},
   "outputs": [
    {
     "name": "stdout",
     "output_type": "stream",
     "text": [
      "31.84400099655244 0.7013949934877279\n"
     ]
    }
   ],
   "source": [
    "res = pipe.predict(X_test)\n",
    "mse = mean_squared_error(res,y_test) \n",
    "varience = explained_variance_score(y_test,res)\n",
    "print(mse,varience)"
   ]
  },
  {
   "cell_type": "markdown",
   "metadata": {},
   "source": [
    "## Линейная регрессия c PCA до 8 компонент"
   ]
  },
  {
   "cell_type": "code",
   "execution_count": 67,
   "metadata": {},
   "outputs": [],
   "source": [
    "model = linreg\n",
    "pca = PCA(n_components=8)\n",
    "pipe = Pipeline(steps=[('pca',pca),('model', model)])"
   ]
  },
  {
   "cell_type": "code",
   "execution_count": 68,
   "metadata": {},
   "outputs": [
    {
     "data": {
      "text/plain": [
       "Pipeline(memory=None,\n",
       "     steps=[('pca', PCA(copy=True, iterated_power='auto', n_components=8, random_state=None,\n",
       "  svd_solver='auto', tol=0.0, whiten=False)), ('model', LinearRegression(copy_X=True, fit_intercept=True, n_jobs=1, normalize=True))])"
      ]
     },
     "execution_count": 68,
     "metadata": {},
     "output_type": "execute_result"
    }
   ],
   "source": [
    "pipe.fit(X_train,y_train)"
   ]
  },
  {
   "cell_type": "code",
   "execution_count": 69,
   "metadata": {},
   "outputs": [
    {
     "name": "stdout",
     "output_type": "stream",
     "text": [
      "49.06022977053876 0.5449917208136847\n"
     ]
    }
   ],
   "source": [
    "res = pipe.predict(X_test)\n",
    "mse = mean_squared_error(res,y_test) \n",
    "varience = explained_variance_score(y_test,res)\n",
    "print(mse,varience)"
   ]
  },
  {
   "cell_type": "markdown",
   "metadata": {},
   "source": [
    "## Нейронная сеть"
   ]
  },
  {
   "cell_type": "code",
   "execution_count": 70,
   "metadata": {},
   "outputs": [],
   "source": [
    "def small_model():\n",
    "    model = Sequential()\n",
    "    model.add(Dense(128, input_dim=13, kernel_initializer='normal', activation='relu'))\n",
    "    model.add(Dense(64, kernel_initializer='normal', activation='relu'))\n",
    "    model.add(Dense(1, kernel_initializer='normal'))\n",
    "    # Compile model\n",
    "    model.compile(loss='mean_squared_error', optimizer='rmsprop')\n",
    "    return model"
   ]
  },
  {
   "cell_type": "code",
   "execution_count": 71,
   "metadata": {},
   "outputs": [],
   "source": [
    "neural_net = KerasRegressor(small_model,epochs=200, batch_size=100,verbose=0)\n",
    "model = neural_net\n",
    "pipe = Pipeline(steps=[('scaler',scaler),('model', model)])"
   ]
  },
  {
   "cell_type": "code",
   "execution_count": 72,
   "metadata": {},
   "outputs": [
    {
     "data": {
      "text/plain": [
       "Pipeline(memory=None,\n",
       "     steps=[('scaler', StandardScaler(copy=True, with_mean=True, with_std=True)), ('model', <keras.wrappers.scikit_learn.KerasRegressor object at 0x7fd6d360ba90>)])"
      ]
     },
     "execution_count": 72,
     "metadata": {},
     "output_type": "execute_result"
    }
   ],
   "source": [
    "pipe.fit(X_train,y_train)"
   ]
  },
  {
   "cell_type": "code",
   "execution_count": 73,
   "metadata": {},
   "outputs": [
    {
     "name": "stdout",
     "output_type": "stream",
     "text": [
      "11.015076732376858 0.8960202502977511\n"
     ]
    }
   ],
   "source": [
    "res = pipe.predict(X_test)\n",
    "mse = mean_squared_error(res,y_test) \n",
    "varience = explained_variance_score(y_test,res)\n",
    "print(mse,varience)"
   ]
  },
  {
   "cell_type": "markdown",
   "metadata": {},
   "source": [
    "## Графики"
   ]
  },
  {
   "cell_type": "markdown",
   "metadata": {},
   "source": [
    "##### Зависимость функции ошибки от количества эпох"
   ]
  },
  {
   "cell_type": "code",
   "execution_count": 81,
   "metadata": {},
   "outputs": [],
   "source": [
    "results = np.zeros((8, 5))\n",
    "N = 26\n",
    "for i, n_epoch in enumerate([1,5,10,20,50,100,200,500]):\n",
    "    model = KerasRegressor(small_model,epochs=n_epoch, batch_size=100,verbose=0)\n",
    "    pipe = Pipeline(steps=[('scaler',scaler),('model', model)])\n",
    "    pipe.fit(X_train,y_train)\n",
    "    res = pipe.predict(X_test)\n",
    "    for j in range(5):\n",
    "        results[i][j] = mean_squared_error(y_test[N * j: N * (j + 1)],\n",
    "                                           res[N * j: N * (j + 1)])"
   ]
  },
  {
   "cell_type": "code",
   "execution_count": 82,
   "metadata": {},
   "outputs": [
    {
     "data": {
      "text/plain": [
       "array([[588.55591617, 800.37676391, 541.50012345, 749.66211925,\n",
       "        570.88272409],\n",
       "       [508.42827134, 707.10844634, 472.86396325, 656.67109527,\n",
       "        501.77996136],\n",
       "       [296.32989856, 470.48872587, 307.76984998, 403.79549346,\n",
       "        319.74831032],\n",
       "       [ 74.0696805 , 155.49292005,  83.49085238, 109.01707561,\n",
       "         75.9354363 ],\n",
       "       [ 18.35862169,  64.41567193,  17.09276508,  11.94226864,\n",
       "          7.48491999],\n",
       "       [ 10.64446066,  31.28309395,  10.34166804,   6.75535306,\n",
       "          5.13119643],\n",
       "       [  9.05678462,  20.23943936,   9.93137782,   6.50863175,\n",
       "          5.56096751],\n",
       "       [ 10.67959145,  10.31300342,   9.33933722,   6.88691065,\n",
       "          7.28555315]])"
      ]
     },
     "execution_count": 82,
     "metadata": {},
     "output_type": "execute_result"
    }
   ],
   "source": [
    "results"
   ]
  },
  {
   "cell_type": "code",
   "execution_count": 83,
   "metadata": {},
   "outputs": [
    {
     "data": {
      "image/png": "[encoded data removed]",
      "text/plain": [
       "<Figure size 432x288 with 1 Axes>"
      ]
     },
     "metadata": {},
     "output_type": "display_data"
    }
   ],
   "source": [
    "results_mean = np.mean(results, axis=1)\n",
    "results_std = np.std(results, axis=1)\n",
    "x_ticks = [1,5,10,20,50,100,200,500]\n",
    "fig, ax = plt.subplots()\n",
    "plt.plot(x_ticks, results_mean, 'k-')\n",
    "plt.plot(x_ticks, results_mean - results_std, 'b-')\n",
    "plt.plot(x_ticks, results_mean + results_std, 'b-')\n",
    "plt.fill_between(x_ticks, results_mean - results_std, results_mean + results_std)\n",
    "plt.grid()\n",
    "ax.set_yscale('log')\n",
    "ax.set_xscale('log')\n",
    "ax.set_xticks(x_ticks)\n",
    "ax.set_xticklabels(x_ticks)\n",
    "ax.set_title('Зависимость функции ошибки от количества эпох')\n",
    "ax.set_xlabel(\"Количество эпох обучения\")\n",
    "ax.set_ylabel(\"Среднеквадратичное отклонение\")\n",
    "plt.show()"
   ]
  },
  {
   "cell_type": "markdown",
   "metadata": {},
   "source": [
    "##### Зависимость функции ошибки от размера скрытого слоя"
   ]
  },
  {
   "cell_type": "code",
   "execution_count": 85,
   "metadata": {},
   "outputs": [],
   "source": [
    "def variable_model():\n",
    "    model = Sequential()\n",
    "    model.add(Dense(64, input_dim=13, kernel_initializer='normal', activation='relu'))\n",
    "    for i in range(n_l-1):\n",
    "        model.add(Dense(64, kernel_initializer='normal', activation='relu'))\n",
    "    model.add(Dense(1, kernel_initializer='normal'))\n",
    "    # Compile model\n",
    "    model.compile(loss='mean_squared_error', optimizer='rmsprop')\n",
    "    return model\n",
    "results1 = np.zeros((5, 5))\n",
    "n_layers = [1,2,3,5,10]\n",
    "for i, n_l in enumerate(n_layers):\n",
    "    model = KerasRegressor(variable_model,epochs=200, batch_size=100,verbose=0)\n",
    "    pipe = Pipeline(steps=[('scaler',scaler),('model', model)])\n",
    "    pipe.fit(X_train,y_train)\n",
    "    res = pipe.predict(X_test)\n",
    "    for j in range(5):\n",
    "        results1[i][j] = mean_squared_error(y_test[N * j: N * (j + 1)], res[N * j: N * (j + 1)])"
   ]
  },
  {
   "cell_type": "code",
   "execution_count": 88,
   "metadata": {},
   "outputs": [
    {
     "data": {
      "text/plain": [
       "array([[17.59480924, 54.01601583, 12.71965805, 11.19683585,  6.58949272],\n",
       "       [11.86632501, 22.77298046, 10.72590175,  7.41086292,  5.56763962],\n",
       "       [10.70956175, 24.50284219,  9.90847772,  7.76224494,  5.09098941],\n",
       "       [ 9.26822945, 17.22824635, 12.05889931,  9.02318618,  9.70527924],\n",
       "       [ 8.88800241, 22.4141463 , 13.29210806, 12.69009511, 14.59686595]])"
      ]
     },
     "execution_count": 88,
     "metadata": {},
     "output_type": "execute_result"
    }
   ],
   "source": [
    "results1"
   ]
  },
  {
   "cell_type": "code",
   "execution_count": 87,
   "metadata": {},
   "outputs": [
    {
     "data": {
      "image/png": "[encoded data removed]",
      "text/plain": [
       "<Figure size 432x288 with 1 Axes>"
      ]
     },
     "metadata": {},
     "output_type": "display_data"
    }
   ],
   "source": [
    "results1_mean = np.mean(results1, axis=1)\n",
    "results1_std = np.std(results1, axis=1)\n",
    "fig, ax = plt.subplots()\n",
    "ax.set_ylim(0,30)\n",
    "ax.set_xlabel(\"Количество скрытых слоев\")\n",
    "ax.set_ylabel(\"Среднеквадратичное отклонение\")\n",
    "ax.set_title('Зависимость функции ошибки от размера скрытого слоя')\n",
    "ax.set_xticks(n_layers)\n",
    "plt.plot(n_layers, results1_mean, 'k-')\n",
    "plt.plot(n_layers, results1_mean - results1_std, 'b-')\n",
    "plt.plot(n_layers, results1_mean + results1_std, 'b-')\n",
    "plt.fill_between(n_layers, results1_mean - results1_std, results1_mean + results1_std)\n",
    "plt.grid()\n",
    "plt.show()"
   ]
  },
  {
   "cell_type": "markdown",
   "metadata": {},
   "source": [
    "##### Зависимость функции ошибки от размера обучающей выборки"
   ]
  },
  {
   "cell_type": "code",
   "execution_count": 89,
   "metadata": {},
   "outputs": [],
   "source": [
    "percents_of_data = [0.1,0.2,0.3,0.5,0.8,1.0]\n",
    "results3 = np.zeros((6, 5))\n",
    "for i, pod in enumerate(percents_of_data):\n",
    "    model = KerasRegressor(small_model,epochs=100, batch_size=100,verbose=0)\n",
    "    pipe = Pipeline(steps=[('scaler',scaler),('model', model)])\n",
    "    pipe.fit(X_train[:int(len(X_train)*pod)],y_train[:int(len(X_train)*pod)])\n",
    "    res = pipe.predict(X_test)\n",
    "    error = mean_squared_error(res,y_test) \n",
    "    for j in range(5):\n",
    "        results3[i][j] = mean_squared_error(y_test[N * j: N * (j + 1)], res[N * j: N * (j + 1)])"
   ]
  },
  {
   "cell_type": "code",
   "execution_count": 90,
   "metadata": {},
   "outputs": [
    {
     "data": {
      "text/plain": [
       "array([[ 39.26496364, 125.25234136,  28.80575555,  32.3160941 ,\n",
       "         31.61399156],\n",
       "       [ 45.71867795,  82.57181656,  29.47177725,  27.00505718,\n",
       "         30.71210084],\n",
       "       [ 23.73976423,  51.12091818,  16.76351469,  10.64888061,\n",
       "         12.67334685],\n",
       "       [ 15.25653084,  51.57973858,  12.16857357,  10.7065328 ,\n",
       "          6.5929573 ],\n",
       "       [  9.90118696,  53.84111241,  11.18194535,   9.95077099,\n",
       "          4.9313148 ],\n",
       "       [ 10.90012465,  32.23885325,   9.8241123 ,   7.94993799,\n",
       "          4.87686346]])"
      ]
     },
     "execution_count": 90,
     "metadata": {},
     "output_type": "execute_result"
    }
   ],
   "source": [
    "results3"
   ]
  },
  {
   "cell_type": "code",
   "execution_count": 91,
   "metadata": {},
   "outputs": [
    {
     "data": {
      "image/png": "[encoded data removed]",
      "text/plain": [
       "<Figure size 432x288 with 1 Axes>"
      ]
     },
     "metadata": {},
     "output_type": "display_data"
    }
   ],
   "source": [
    "results3_mean = np.mean(results3, axis=1)\n",
    "results3_std = np.std(results3, axis=1)\n",
    "fig, ax = plt.subplots()\n",
    "ax.set_ylim(0,60)\n",
    "ax.set_xlabel(\"Процент от полной train выборки\")\n",
    "ax.set_ylabel(\"Среднеквадратичное отклонение\")\n",
    "ax.set_title('Зависимость функции ошибки от размера скрытого слоя')\n",
    "ax.set_xticks(percents_of_data)\n",
    "plt.plot(percents_of_data, results3_mean, 'k-')\n",
    "plt.plot(percents_of_data, results3_mean - results3_std, 'b-')\n",
    "plt.plot(percents_of_data, results3_mean + results3_std, 'b-')\n",
    "plt.fill_between(percents_of_data, results3_mean - results3_std, results3_mean + results3_std)\n",
    "plt.grid()\n",
    "plt.show()"
   ]
  },
  {
   "cell_type": "code",
   "execution_count": null,
   "metadata": {},
   "outputs": [],
   "source": []
  }
 ],
 "metadata": {
  "kernelspec": {
   "display_name": "Python 3",
   "language": "python",
   "name": "python3"
  },
  "language_info": {
   "codemirror_mode": {
    "name": "ipython",
    "version": 3
   },
   "file_extension": ".py",
   "mimetype": "text/x-python",
   "name": "python",
   "nbconvert_exporter": "python",
   "pygments_lexer": "ipython3",
   "version": "3.6.5"
  }
 },
 "nbformat": 4,
 "nbformat_minor": 2
}
