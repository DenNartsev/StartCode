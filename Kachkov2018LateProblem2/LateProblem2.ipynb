{
 "cells": [
  {
   "cell_type": "code",
   "execution_count": 1,
   "metadata": {},
   "outputs": [
    {
     "name": "stderr",
     "output_type": "stream",
     "text": [
      "/home/sergei/anaconda3/lib/python3.6/site-packages/h5py/__init__.py:36: FutureWarning: Conversion of the second argument of issubdtype from `float` to `np.floating` is deprecated. In future, it will be treated as `np.float64 == np.dtype(float).type`.\n",
      "  from ._conv import register_converters as _register_converters\n",
      "Using TensorFlow backend.\n"
     ]
    }
   ],
   "source": [
    "import numpy as np\n",
    "from scipy.io import loadmat\n",
    "from sklearn.linear_model import LinearRegression\n",
    "from sklearn.decomposition import PCA\n",
    "from sklearn.pipeline import Pipeline\n",
    "from sklearn.preprocessing import StandardScaler\n",
    "from sklearn.metrics import mean_squared_error,explained_variance_score\n",
    "from lightgbm import LGBMRegressor\n",
    "from sklearn.ensemble import RandomForestRegressor\n",
    "from sklearn.model_selection import train_test_split\n",
    "from sklearn.neural_network import MLPRegressor\n",
    "from sklearn.datasets import load_boston\n",
    "from keras.wrappers.scikit_learn import KerasRegressor\n",
    "from keras.models import Sequential\n",
    "from keras.layers import Dense,Dropout\n",
    "import keras\n",
    "from mpl_toolkits.mplot3d import Axes3D\n",
    "import matplotlib.pyplot as plt"
   ]
  },
  {
   "cell_type": "code",
   "execution_count": 2,
   "metadata": {},
   "outputs": [],
   "source": [
    "scaler = StandardScaler()\n",
    "forest = RandomForestRegressor(n_estimators=100,n_jobs=-1)\n",
    "linreg = LinearRegression(normalize=True)\n",
    "boosting = LGBMRegressor()\n",
    "pca = PCA(3)"
   ]
  },
  {
   "cell_type": "markdown",
   "metadata": {},
   "source": [
    "## Цель вычислительного эксперимента:\n",
    "Необходимо решить задачу регрессии с использованием моделей: линейная регрессия, линейная регрессия + метод главных компонент, простая нейросеть и критериями качества: квадратичная ошибка, число обусловленности.\n",
    "## Описание выборок:\n",
    "Используется датасет ECoG (electrocorticographic data), уже разбитый на выборки обучение/контроль.\n",
    "## Блок загрузки и предобработки выборок:"
   ]
  },
  {
   "cell_type": "code",
   "execution_count": 45,
   "metadata": {},
   "outputs": [],
   "source": [
    "X_train = loadmat('ECoG_X_train.mat')['X_train']\n",
    "y_train = loadmat('ECoG_Y_train.mat')['Y_train']\n",
    "X_test = loadmat('ECoG_X_test.mat')['X_hold_out']\n",
    "y_test = loadmat('ECoG_Y_test.mat')['Y_hold_out']"
   ]
  },
  {
   "cell_type": "code",
   "execution_count": 46,
   "metadata": {},
   "outputs": [
    {
     "data": {
      "text/plain": [
       "(12801, 32, 27)"
      ]
     },
     "execution_count": 46,
     "metadata": {},
     "output_type": "execute_result"
    }
   ],
   "source": [
    "X_train.shape"
   ]
  },
  {
   "cell_type": "code",
   "execution_count": 47,
   "metadata": {},
   "outputs": [
    {
     "data": {
      "text/plain": [
       "(12801, 3)"
      ]
     },
     "execution_count": 47,
     "metadata": {},
     "output_type": "execute_result"
    }
   ],
   "source": [
    "y_train.shape"
   ]
  },
  {
   "cell_type": "code",
   "execution_count": 48,
   "metadata": {},
   "outputs": [
    {
     "data": {
      "text/plain": [
       "(6087, 32, 27)"
      ]
     },
     "execution_count": 48,
     "metadata": {},
     "output_type": "execute_result"
    }
   ],
   "source": [
    "X_test.shape"
   ]
  },
  {
   "cell_type": "code",
   "execution_count": 49,
   "metadata": {},
   "outputs": [
    {
     "data": {
      "text/plain": [
       "(6087, 3)"
      ]
     },
     "execution_count": 49,
     "metadata": {},
     "output_type": "execute_result"
    }
   ],
   "source": [
    "y_test.shape"
   ]
  },
  {
   "cell_type": "markdown",
   "metadata": {},
   "source": [
    "Объектами X_train, X_test являются матрицы 32x27. Преобразуем их в одномерные векторы:"
   ]
  },
  {
   "cell_type": "code",
   "execution_count": 50,
   "metadata": {},
   "outputs": [],
   "source": [
    "X_train = np.array([i.flatten() for i in X_train])\n",
    "X_test = np.array([i.flatten() for i in X_test])"
   ]
  },
  {
   "cell_type": "markdown",
   "metadata": {},
   "source": [
    "## Анализ пропусков"
   ]
  },
  {
   "cell_type": "code",
   "execution_count": 51,
   "metadata": {},
   "outputs": [
    {
     "data": {
      "text/plain": [
       "False"
      ]
     },
     "execution_count": 51,
     "metadata": {},
     "output_type": "execute_result"
    }
   ],
   "source": [
    "np.isnan(X_train).any()"
   ]
  },
  {
   "cell_type": "code",
   "execution_count": 52,
   "metadata": {},
   "outputs": [
    {
     "data": {
      "text/plain": [
       "False"
      ]
     },
     "execution_count": 52,
     "metadata": {},
     "output_type": "execute_result"
    }
   ],
   "source": [
    "np.isnan(y_train).any()"
   ]
  },
  {
   "cell_type": "markdown",
   "metadata": {},
   "source": [
    "Данная выборка не имеет пропусков."
   ]
  },
  {
   "cell_type": "markdown",
   "metadata": {},
   "source": [
    "## Список моделей\n",
    "Для решения поставленной задачи используются следующие модели:\n",
    "* линейная регрессия\n",
    "* PCA + линейная регрессия\n",
    "* простая нейросеть \n",
    "\n",
    "## Список критериев качетсва:\n",
    "* mean squared error\n",
    "* variance score\n",
    "\n",
    "## Структурные параметры нейронной сети:\n",
    "* число и состав признаков\n",
    "* размерность скрытого пространства\n",
    "* структура сети\n",
    "\n",
    "## Способ разбиения выборки на обучение-контроль:\n",
    "Данные уже разбиты на 2 выборки."
   ]
  },
  {
   "cell_type": "markdown",
   "metadata": {},
   "source": [
    "## Линейная регрессия:"
   ]
  },
  {
   "cell_type": "code",
   "execution_count": 53,
   "metadata": {},
   "outputs": [],
   "source": [
    "model = linreg\n",
    "pipe = Pipeline(steps=[('model', model)])"
   ]
  },
  {
   "cell_type": "code",
   "execution_count": 54,
   "metadata": {},
   "outputs": [
    {
     "data": {
      "text/plain": [
       "Pipeline(memory=None,\n",
       "     steps=[('model', LinearRegression(copy_X=True, fit_intercept=True, n_jobs=1, normalize=True))])"
      ]
     },
     "execution_count": 54,
     "metadata": {},
     "output_type": "execute_result"
    }
   ],
   "source": [
    "pipe.fit(X_train,y_train)"
   ]
  },
  {
   "cell_type": "code",
   "execution_count": 55,
   "metadata": {},
   "outputs": [
    {
     "name": "stdout",
     "output_type": "stream",
     "text": [
      "1786.7787691924393 0.0703714702511374\n"
     ]
    }
   ],
   "source": [
    "res = pipe.predict(X_test)\n",
    "mse = mean_squared_error(res,y_test) \n",
    "varience = explained_variance_score(y_test,res)\n",
    "print(mse,varience)"
   ]
  },
  {
   "cell_type": "markdown",
   "metadata": {},
   "source": [
    "## Линейная регрессия c PCA до 80 компонент"
   ]
  },
  {
   "cell_type": "code",
   "execution_count": 56,
   "metadata": {},
   "outputs": [],
   "source": [
    "model = linreg\n",
    "pca = PCA(n_components=80)\n",
    "pipe = Pipeline(steps=[('pca',pca),('model', model)])"
   ]
  },
  {
   "cell_type": "code",
   "execution_count": 57,
   "metadata": {},
   "outputs": [
    {
     "data": {
      "text/plain": [
       "Pipeline(memory=None,\n",
       "     steps=[('pca', PCA(copy=True, iterated_power='auto', n_components=80, random_state=None,\n",
       "  svd_solver='auto', tol=0.0, whiten=False)), ('model', LinearRegression(copy_X=True, fit_intercept=True, n_jobs=1, normalize=True))])"
      ]
     },
     "execution_count": 57,
     "metadata": {},
     "output_type": "execute_result"
    }
   ],
   "source": [
    "pipe.fit(X_train,y_train)"
   ]
  },
  {
   "cell_type": "code",
   "execution_count": 16,
   "metadata": {},
   "outputs": [
    {
     "name": "stdout",
     "output_type": "stream",
     "text": [
      "1634.9021249309262 0.14720602892118914\n"
     ]
    }
   ],
   "source": [
    "res = pipe.predict(X_test)\n",
    "mse = mean_squared_error(res,y_test) \n",
    "varience = explained_variance_score(y_test,res)\n",
    "print(mse,varience)"
   ]
  },
  {
   "cell_type": "markdown",
   "metadata": {},
   "source": [
    "## Нейронная сеть"
   ]
  },
  {
   "cell_type": "code",
   "execution_count": 17,
   "metadata": {},
   "outputs": [],
   "source": [
    "def big_model():\n",
    "    model = Sequential()\n",
    "    model.add(Dense(512, input_dim=864, kernel_initializer='normal', \n",
    "                    activation='relu',kernel_regularizer=keras.regularizers.l2(0.01)))\n",
    "    model.add(Dense(256, kernel_initializer='normal', activation='relu',\n",
    "                   kernel_regularizer=keras.regularizers.l2(0.01)))\n",
    "    model.add(Dense(3, kernel_initializer='normal'))\n",
    "    # Compile model\n",
    "    model.compile(loss='mean_squared_error', optimizer='rmsprop')\n",
    "    return model"
   ]
  },
  {
   "cell_type": "code",
   "execution_count": 18,
   "metadata": {},
   "outputs": [],
   "source": [
    "neural_net = KerasRegressor(big_model,epochs=100, batch_size=200,verbose=1)\n",
    "model = neural_net\n",
    "pipe = Pipeline(steps=[('scaler',scaler),('model', model)])"
   ]
  },
  {
   "cell_type": "code",
   "execution_count": 19,
   "metadata": {},
   "outputs": [
    {
     "name": "stdout",
     "output_type": "stream",
     "text": [
      "Epoch 1/100\n",
      "12801/12801 [==============================] - 2s 193us/step - loss: 13267.5586\n",
      "Epoch 2/100\n",
      "12801/12801 [==============================] - 2s 183us/step - loss: 4041.5849\n",
      "Epoch 3/100\n",
      "12801/12801 [==============================] - 2s 176us/step - loss: 3281.9153\n",
      "Epoch 4/100\n",
      "12801/12801 [==============================] - 3s 204us/step - loss: 2944.1734\n",
      "Epoch 5/100\n",
      "12801/12801 [==============================] - 2s 147us/step - loss: 2679.5288\n",
      "Epoch 6/100\n",
      "12801/12801 [==============================] - 2s 145us/step - loss: 2532.5210\n",
      "Epoch 7/100\n",
      "12801/12801 [==============================] - 2s 146us/step - loss: 2353.0209\n",
      "Epoch 8/100\n",
      "12801/12801 [==============================] - 2s 145us/step - loss: 2239.8293\n",
      "Epoch 9/100\n",
      "12801/12801 [==============================] - 2s 147us/step - loss: 2128.6700\n",
      "Epoch 10/100\n",
      "12801/12801 [==============================] - 2s 144us/step - loss: 2026.7586\n",
      "Epoch 11/100\n",
      "12801/12801 [==============================] - 2s 145us/step - loss: 1950.8960\n",
      "Epoch 12/100\n",
      "12801/12801 [==============================] - 2s 145us/step - loss: 1858.0886\n",
      "Epoch 13/100\n",
      "12801/12801 [==============================] - 2s 144us/step - loss: 1750.5772\n",
      "Epoch 14/100\n",
      "12801/12801 [==============================] - 2s 147us/step - loss: 1702.2710\n",
      "Epoch 15/100\n",
      "12801/12801 [==============================] - 2s 144us/step - loss: 1625.5653\n",
      "Epoch 16/100\n",
      "12801/12801 [==============================] - 2s 143us/step - loss: 1592.2848\n",
      "Epoch 17/100\n",
      "12801/12801 [==============================] - 2s 145us/step - loss: 1517.8508\n",
      "Epoch 18/100\n",
      "12801/12801 [==============================] - 2s 144us/step - loss: 1476.7963\n",
      "Epoch 19/100\n",
      "12801/12801 [==============================] - 2s 143us/step - loss: 1422.9995\n",
      "Epoch 20/100\n",
      "12801/12801 [==============================] - 2s 145us/step - loss: 1332.1010\n",
      "Epoch 21/100\n",
      "12801/12801 [==============================] - 2s 144us/step - loss: 1321.4406\n",
      "Epoch 22/100\n",
      "12801/12801 [==============================] - 2s 143us/step - loss: 1246.7249\n",
      "Epoch 23/100\n",
      "12801/12801 [==============================] - 2s 145us/step - loss: 1266.0482\n",
      "Epoch 24/100\n",
      "12801/12801 [==============================] - 2s 188us/step - loss: 1176.3272\n",
      "Epoch 25/100\n",
      "12801/12801 [==============================] - 2s 161us/step - loss: 1191.2724\n",
      "Epoch 26/100\n",
      "12801/12801 [==============================] - 2s 184us/step - loss: 1108.2253\n",
      "Epoch 27/100\n",
      "12801/12801 [==============================] - 3s 197us/step - loss: 1128.3905\n",
      "Epoch 28/100\n",
      "12801/12801 [==============================] - 2s 162us/step - loss: 1051.9785\n",
      "Epoch 29/100\n",
      "12801/12801 [==============================] - 2s 174us/step - loss: 1021.6098\n",
      "Epoch 30/100\n",
      "12801/12801 [==============================] - 2s 147us/step - loss: 1007.8347\n",
      "Epoch 31/100\n",
      "12801/12801 [==============================] - 2s 150us/step - loss: 981.3222\n",
      "Epoch 32/100\n",
      "12801/12801 [==============================] - 2s 150us/step - loss: 970.2734\n",
      "Epoch 33/100\n",
      "12801/12801 [==============================] - 2s 152us/step - loss: 949.7893\n",
      "Epoch 34/100\n",
      "12801/12801 [==============================] - 2s 149us/step - loss: 883.8199\n",
      "Epoch 35/100\n",
      "12801/12801 [==============================] - 2s 151us/step - loss: 903.8401\n",
      "Epoch 36/100\n",
      "12801/12801 [==============================] - 2s 156us/step - loss: 875.3422\n",
      "Epoch 37/100\n",
      "12801/12801 [==============================] - 2s 153us/step - loss: 860.0195\n",
      "Epoch 38/100\n",
      "12801/12801 [==============================] - 2s 155us/step - loss: 855.4672\n",
      "Epoch 39/100\n",
      "12801/12801 [==============================] - 2s 155us/step - loss: 819.5874\n",
      "Epoch 40/100\n",
      "12801/12801 [==============================] - 2s 153us/step - loss: 797.7859\n",
      "Epoch 41/100\n",
      "12801/12801 [==============================] - 2s 156us/step - loss: 762.7004\n",
      "Epoch 42/100\n",
      "12801/12801 [==============================] - 2s 155us/step - loss: 768.8011\n",
      "Epoch 43/100\n",
      "12801/12801 [==============================] - 2s 155us/step - loss: 753.5755\n",
      "Epoch 44/100\n",
      "12801/12801 [==============================] - 2s 158us/step - loss: 734.3303\n",
      "Epoch 45/100\n",
      "12801/12801 [==============================] - 2s 157us/step - loss: 732.2281\n",
      "Epoch 46/100\n",
      "12801/12801 [==============================] - 2s 155us/step - loss: 723.8525\n",
      "Epoch 47/100\n",
      "12801/12801 [==============================] - 2s 158us/step - loss: 686.0806\n",
      "Epoch 48/100\n",
      "12801/12801 [==============================] - 2s 158us/step - loss: 688.5797\n",
      "Epoch 49/100\n",
      "12801/12801 [==============================] - 2s 157us/step - loss: 660.4483\n",
      "Epoch 50/100\n",
      "12801/12801 [==============================] - 2s 159us/step - loss: 689.8634\n",
      "Epoch 51/100\n",
      "12801/12801 [==============================] - 2s 157us/step - loss: 634.8942\n",
      "Epoch 52/100\n",
      "12801/12801 [==============================] - 2s 161us/step - loss: 645.3510\n",
      "Epoch 53/100\n",
      "12801/12801 [==============================] - 2s 150us/step - loss: 648.0453\n",
      "Epoch 54/100\n",
      "12801/12801 [==============================] - 2s 144us/step - loss: 627.0199\n",
      "Epoch 55/100\n",
      "12801/12801 [==============================] - 2s 147us/step - loss: 622.9981\n",
      "Epoch 56/100\n",
      "12801/12801 [==============================] - 2s 144us/step - loss: 596.7490\n",
      "Epoch 57/100\n",
      "12801/12801 [==============================] - 2s 144us/step - loss: 608.9322\n",
      "Epoch 58/100\n",
      "12801/12801 [==============================] - 2s 147us/step - loss: 589.3408\n",
      "Epoch 59/100\n",
      "12801/12801 [==============================] - 2s 144us/step - loss: 578.6946\n",
      "Epoch 60/100\n",
      "12801/12801 [==============================] - 2s 147us/step - loss: 566.0502\n",
      "Epoch 61/100\n",
      "12801/12801 [==============================] - 2s 146us/step - loss: 566.6036\n",
      "Epoch 62/100\n",
      "12801/12801 [==============================] - 2s 147us/step - loss: 560.9646\n",
      "Epoch 63/100\n",
      "12801/12801 [==============================] - 2s 147us/step - loss: 547.0933\n",
      "Epoch 64/100\n",
      "12801/12801 [==============================] - 2s 147us/step - loss: 523.1133\n",
      "Epoch 65/100\n",
      "12801/12801 [==============================] - 2s 148us/step - loss: 526.2135\n",
      "Epoch 66/100\n",
      "12801/12801 [==============================] - 2s 146us/step - loss: 513.6883\n",
      "Epoch 67/100\n",
      "12801/12801 [==============================] - 2s 149us/step - loss: 523.9533\n",
      "Epoch 68/100\n",
      "12801/12801 [==============================] - 2s 147us/step - loss: 501.1219\n",
      "Epoch 69/100\n",
      "12801/12801 [==============================] - 2s 148us/step - loss: 511.8628\n",
      "Epoch 70/100\n",
      "12801/12801 [==============================] - 2s 150us/step - loss: 485.2724\n",
      "Epoch 71/100\n",
      "12801/12801 [==============================] - 2s 146us/step - loss: 499.1974\n",
      "Epoch 72/100\n",
      "12801/12801 [==============================] - 2s 147us/step - loss: 490.5441\n",
      "Epoch 73/100\n",
      "12801/12801 [==============================] - 2s 149us/step - loss: 473.8265\n",
      "Epoch 74/100\n",
      "12801/12801 [==============================] - 2s 146us/step - loss: 502.1768\n",
      "Epoch 75/100\n",
      "12801/12801 [==============================] - 2s 146us/step - loss: 479.1425\n",
      "Epoch 76/100\n",
      "12801/12801 [==============================] - 2s 149us/step - loss: 459.6997\n",
      "Epoch 77/100\n",
      "12801/12801 [==============================] - 2s 149us/step - loss: 463.5817\n",
      "Epoch 78/100\n",
      "12801/12801 [==============================] - 2s 150us/step - loss: 472.8954\n",
      "Epoch 79/100\n",
      "12801/12801 [==============================] - 2s 147us/step - loss: 468.4482\n",
      "Epoch 80/100\n",
      "12801/12801 [==============================] - 2s 148us/step - loss: 445.0211\n",
      "Epoch 81/100\n",
      "12801/12801 [==============================] - 2s 151us/step - loss: 448.3301\n",
      "Epoch 82/100\n",
      "12801/12801 [==============================] - 2s 177us/step - loss: 437.1263\n",
      "Epoch 83/100\n",
      "12801/12801 [==============================] - 2s 193us/step - loss: 425.6455\n",
      "Epoch 84/100\n",
      "12801/12801 [==============================] - 2s 176us/step - loss: 432.6792\n",
      "Epoch 85/100\n",
      "12801/12801 [==============================] - 2s 175us/step - loss: 428.0347\n",
      "Epoch 86/100\n",
      "12801/12801 [==============================] - 2s 167us/step - loss: 430.1039\n",
      "Epoch 87/100\n",
      "12801/12801 [==============================] - 2s 163us/step - loss: 415.2484\n",
      "Epoch 88/100\n",
      "12801/12801 [==============================] - 2s 159us/step - loss: 411.5054\n",
      "Epoch 89/100\n",
      "12801/12801 [==============================] - 2s 158us/step - loss: 407.7326\n",
      "Epoch 90/100\n"
     ]
    },
    {
     "name": "stdout",
     "output_type": "stream",
     "text": [
      "12801/12801 [==============================] - 2s 145us/step - loss: 402.9116\n",
      "Epoch 91/100\n",
      "12801/12801 [==============================] - 2s 146us/step - loss: 403.3715\n",
      "Epoch 92/100\n",
      "12801/12801 [==============================] - 2s 142us/step - loss: 408.8777\n",
      "Epoch 93/100\n",
      "12801/12801 [==============================] - 2s 144us/step - loss: 379.6226\n",
      "Epoch 94/100\n",
      "12801/12801 [==============================] - 2s 144us/step - loss: 385.9344\n",
      "Epoch 95/100\n",
      "12801/12801 [==============================] - 2s 143us/step - loss: 386.4764\n",
      "Epoch 96/100\n",
      "12801/12801 [==============================] - 2s 142us/step - loss: 388.6228\n",
      "Epoch 97/100\n",
      "12801/12801 [==============================] - 2s 145us/step - loss: 370.1514\n",
      "Epoch 98/100\n",
      "12801/12801 [==============================] - 2s 142us/step - loss: 384.8814\n",
      "Epoch 99/100\n",
      "12801/12801 [==============================] - 2s 143us/step - loss: 366.2080\n",
      "Epoch 100/100\n",
      "12801/12801 [==============================] - 2s 147us/step - loss: 376.1069\n"
     ]
    },
    {
     "data": {
      "text/plain": [
       "Pipeline(memory=None,\n",
       "     steps=[('scaler', StandardScaler(copy=True, with_mean=True, with_std=True)), ('model', <keras.wrappers.scikit_learn.KerasRegressor object at 0x7f34b991de10>)])"
      ]
     },
     "execution_count": 19,
     "metadata": {},
     "output_type": "execute_result"
    }
   ],
   "source": [
    "pipe.fit(X_train,y_train)"
   ]
  },
  {
   "cell_type": "code",
   "execution_count": 20,
   "metadata": {},
   "outputs": [
    {
     "name": "stdout",
     "output_type": "stream",
     "text": [
      "6087/6087 [==============================] - 0s 51us/step\n",
      "2201.432127414498 -0.23993686219468283\n"
     ]
    }
   ],
   "source": [
    "res = pipe.predict(X_test)\n",
    "mse = mean_squared_error(res,y_test) \n",
    "varience = explained_variance_score(y_test,res)\n",
    "print(mse,varience)"
   ]
  },
  {
   "cell_type": "markdown",
   "metadata": {},
   "source": [
    "## Графики"
   ]
  },
  {
   "cell_type": "markdown",
   "metadata": {},
   "source": [
    "##### Зависимость функции ошибки от количества эпох"
   ]
  },
  {
   "cell_type": "code",
   "execution_count": 59,
   "metadata": {},
   "outputs": [],
   "source": [
    "results = []\n",
    "for n_epoch in [1,5,10,20,50]:\n",
    "    model = KerasRegressor(big_model,epochs=n_epoch, batch_size=100,verbose=0)\n",
    "    pipe = Pipeline(steps=[('scaler',scaler),('model', model)])\n",
    "    pipe.fit(X_train,y_train)\n",
    "    res = pipe.predict(X_test)\n",
    "    error = mean_squared_error(res,y_test) \n",
    "    results.append(error)"
   ]
  },
  {
   "cell_type": "code",
   "execution_count": 60,
   "metadata": {},
   "outputs": [
    {
     "data": {
      "text/plain": [
       "[4630.198038338352,\n",
       " 4201.092629025311,\n",
       " 2747.6852008061674,\n",
       " 3935.4696264252325,\n",
       " 2219.050701555916]"
      ]
     },
     "execution_count": 60,
     "metadata": {},
     "output_type": "execute_result"
    }
   ],
   "source": [
    "results"
   ]
  },
  {
   "cell_type": "code",
   "execution_count": 61,
   "metadata": {},
   "outputs": [
    {
     "data": {
      "image/png": "[encoded data removed]",
      "text/plain": [
       "<Figure size 432x288 with 1 Axes>"
      ]
     },
     "metadata": {},
     "output_type": "display_data"
    }
   ],
   "source": [
    "x_ticks = [1,5,10,20,50]\n",
    "fig, ax = plt.subplots()\n",
    "plt.scatter(x_ticks,results)\n",
    "plt.plot(x_ticks,results)\n",
    "ax.set_yscale('log')\n",
    "ax.set_xscale('log')\n",
    "ax.set_xticks(x_ticks)\n",
    "ax.set_xticklabels(x_ticks)\n",
    "ax.set_title('Зависимость функции ошибки от количества эпох')\n",
    "ax.set_xlabel(\"Количество эпох обучения\")\n",
    "ax.set_ylabel(\"Среднеквадратичное отклонение\")\n",
    "plt.show()"
   ]
  },
  {
   "cell_type": "markdown",
   "metadata": {},
   "source": [
    "##### Зависимость функции ошибки от размера скрытого слоя"
   ]
  },
  {
   "cell_type": "code",
   "execution_count": 63,
   "metadata": {},
   "outputs": [],
   "source": [
    "def variable_model():\n",
    "    model = Sequential()\n",
    "    model.add(Dense(64, input_dim=864, kernel_initializer='normal', activation='relu'))\n",
    "    for i in range(n_l-1):\n",
    "        model.add(Dense(64, kernel_initializer='normal', activation='relu'))\n",
    "    model.add(Dense(3, kernel_initializer='normal'))\n",
    "    # Compile model\n",
    "    model.compile(loss='mean_squared_error', optimizer='rmsprop')\n",
    "    return model\n",
    "results1 = []\n",
    "n_layers = [1,2,3]\n",
    "for n_l in n_layers:\n",
    "    model = KerasRegressor(variable_model,epochs=10, batch_size=100,verbose=0)\n",
    "    pipe = Pipeline(steps=[('scaler',scaler),('model', model)])\n",
    "    pipe.fit(X_train,y_train)\n",
    "    res = pipe.predict(X_test)\n",
    "    error = mean_squared_error(res,y_test) \n",
    "    results1.append(error)    "
   ]
  },
  {
   "cell_type": "code",
   "execution_count": 66,
   "metadata": {},
   "outputs": [
    {
     "data": {
      "image/png": "[encoded data removed]",
      "text/plain": [
       "<Figure size 432x288 with 1 Axes>"
      ]
     },
     "metadata": {},
     "output_type": "display_data"
    }
   ],
   "source": [
    "fig, ax = plt.subplots()\n",
    "ax.set_xlabel(\"Количество скрытых слоев\")\n",
    "ax.set_ylabel(\"Среднеквадратичное отклонение\")\n",
    "ax.set_title('Зависимость функции ошибки от размера скрытого слоя')\n",
    "ax.set_xticks(n_layers)\n",
    "plt.scatter(n_layers,results1)\n",
    "plt.plot(n_layers,results1)\n",
    "plt.show()"
   ]
  },
  {
   "cell_type": "code",
   "execution_count": 65,
   "metadata": {},
   "outputs": [
    {
     "data": {
      "text/plain": [
       "[4434.4494121612, 2883.9089634441157, 3263.127377577308]"
      ]
     },
     "execution_count": 65,
     "metadata": {},
     "output_type": "execute_result"
    }
   ],
   "source": [
    "results1"
   ]
  },
  {
   "cell_type": "markdown",
   "metadata": {},
   "source": [
    "##### Зависимость функции ошибки от размера обучающей выборки"
   ]
  },
  {
   "cell_type": "code",
   "execution_count": 67,
   "metadata": {},
   "outputs": [],
   "source": [
    "percents_of_data = [0.1,0.2,0.3,0.5,0.8,1.0]\n",
    "results3 = []\n",
    "for pod in percents_of_data:\n",
    "    model = KerasRegressor(big_model,epochs=10, batch_size=100,verbose=0)\n",
    "    pipe = Pipeline(steps=[('scaler',scaler),('model', model)])\n",
    "    pipe.fit(X_train[:int(len(X_train)*pod)],y_train[:int(len(X_train)*pod)])\n",
    "    res = pipe.predict(X_test)\n",
    "    error = mean_squared_error(res,y_test) \n",
    "    results3.append(error)"
   ]
  },
  {
   "cell_type": "code",
   "execution_count": 68,
   "metadata": {},
   "outputs": [
    {
     "data": {
      "text/plain": [
       "[9203.117221489736,\n",
       " 3793.6104916949575,\n",
       " 3646.345507714925,\n",
       " 2908.968609685198,\n",
       " 2195.6731824978456,\n",
       " 3373.491829821394]"
      ]
     },
     "execution_count": 68,
     "metadata": {},
     "output_type": "execute_result"
    }
   ],
   "source": [
    "results3"
   ]
  },
  {
   "cell_type": "code",
   "execution_count": 70,
   "metadata": {},
   "outputs": [
    {
     "data": {
      "image/png": "[encoded data removed]",
      "text/plain": [
       "<Figure size 432x288 with 1 Axes>"
      ]
     },
     "metadata": {},
     "output_type": "display_data"
    }
   ],
   "source": [
    "fig, ax = plt.subplots()\n",
    "#ax.set_ylim(0,60)\n",
    "ax.set_xlabel(\"Процент от полной train выборки\")\n",
    "ax.set_ylabel(\"Среднеквадратичное отклонение\")\n",
    "ax.set_title('Зависимость функции ошибки от размера скрытого слоя')\n",
    "ax.set_xticks(percents_of_data)\n",
    "plt.scatter(percents_of_data,results3)\n",
    "plt.plot(percents_of_data,results3)\n",
    "plt.show()"
   ]
  },
  {
   "cell_type": "markdown",
   "metadata": {},
   "source": [
    "## Анализ результатов\n",
    "\n",
    "|                    | linreg  | linreg + PCA | neural_net |\n",
    "|--------------------|---------|--------------|------------|\n",
    "| mean squared error | 1786.77 | 1634.90      | 2201.43    | \n",
    "| variance score     | 0.070   | 0.147        | -0.240     |"
   ]
  },
  {
   "cell_type": "markdown",
   "metadata": {},
   "source": [
    "# Синтетическая выборка\n",
    "В качестве синтетической выборки для задачи регрессии возьмём Boston dataset."
   ]
  },
  {
   "cell_type": "code",
   "execution_count": 22,
   "metadata": {},
   "outputs": [],
   "source": [
    "dataset = load_boston()"
   ]
  },
  {
   "cell_type": "code",
   "execution_count": 23,
   "metadata": {},
   "outputs": [
    {
     "data": {
      "text/plain": [
       "(506, 13)"
      ]
     },
     "execution_count": 23,
     "metadata": {},
     "output_type": "execute_result"
    }
   ],
   "source": [
    "dataset.data.shape"
   ]
  },
  {
   "cell_type": "code",
   "execution_count": 24,
   "metadata": {},
   "outputs": [],
   "source": [
    "y = dataset.target\n",
    "X = dataset.data\n",
    "X_train, X_test, y_train, y_test = train_test_split(X, y, test_size=0.25, random_state=228)"
   ]
  },
  {
   "cell_type": "markdown",
   "metadata": {},
   "source": [
    "## Линейная регрессия"
   ]
  },
  {
   "cell_type": "code",
   "execution_count": 25,
   "metadata": {},
   "outputs": [],
   "source": [
    "model = linreg\n",
    "pipe = Pipeline(steps=[('model', model)])"
   ]
  },
  {
   "cell_type": "code",
   "execution_count": 26,
   "metadata": {},
   "outputs": [
    {
     "data": {
      "text/plain": [
       "Pipeline(memory=None,\n",
       "     steps=[('model', LinearRegression(copy_X=True, fit_intercept=True, n_jobs=1, normalize=True))])"
      ]
     },
     "execution_count": 26,
     "metadata": {},
     "output_type": "execute_result"
    }
   ],
   "source": [
    "pipe.fit(X_train,y_train)"
   ]
  },
  {
   "cell_type": "code",
   "execution_count": 27,
   "metadata": {},
   "outputs": [
    {
     "name": "stdout",
     "output_type": "stream",
     "text": [
      "31.84400099655244 0.7013949934877279\n"
     ]
    }
   ],
   "source": [
    "res = pipe.predict(X_test)\n",
    "mse = mean_squared_error(res,y_test) \n",
    "varience = explained_variance_score(y_test,res)\n",
    "print(mse,varience)"
   ]
  },
  {
   "cell_type": "markdown",
   "metadata": {},
   "source": [
    "## Линейная регрессия c PCA до 8 компонент"
   ]
  },
  {
   "cell_type": "code",
   "execution_count": 28,
   "metadata": {},
   "outputs": [],
   "source": [
    "model = linreg\n",
    "pca = PCA(n_components=8)\n",
    "pipe = Pipeline(steps=[('pca',pca),('model', model)])"
   ]
  },
  {
   "cell_type": "code",
   "execution_count": 29,
   "metadata": {},
   "outputs": [
    {
     "data": {
      "text/plain": [
       "Pipeline(memory=None,\n",
       "     steps=[('pca', PCA(copy=True, iterated_power='auto', n_components=8, random_state=None,\n",
       "  svd_solver='auto', tol=0.0, whiten=False)), ('model', LinearRegression(copy_X=True, fit_intercept=True, n_jobs=1, normalize=True))])"
      ]
     },
     "execution_count": 29,
     "metadata": {},
     "output_type": "execute_result"
    }
   ],
   "source": [
    "pipe.fit(X_train,y_train)"
   ]
  },
  {
   "cell_type": "code",
   "execution_count": 30,
   "metadata": {},
   "outputs": [
    {
     "name": "stdout",
     "output_type": "stream",
     "text": [
      "49.06022977053876 0.5449917208136847\n"
     ]
    }
   ],
   "source": [
    "res = pipe.predict(X_test)\n",
    "mse = mean_squared_error(res,y_test) \n",
    "varience = explained_variance_score(y_test,res)\n",
    "print(mse,varience)"
   ]
  },
  {
   "cell_type": "markdown",
   "metadata": {},
   "source": [
    "## Нейронная сеть"
   ]
  },
  {
   "cell_type": "code",
   "execution_count": 31,
   "metadata": {},
   "outputs": [],
   "source": [
    "def small_model():\n",
    "    model = Sequential()\n",
    "    model.add(Dense(128, input_dim=13, kernel_initializer='normal', activation='relu'))\n",
    "    model.add(Dense(64, kernel_initializer='normal', activation='relu'))\n",
    "    model.add(Dense(1, kernel_initializer='normal'))\n",
    "    # Compile model\n",
    "    model.compile(loss='mean_squared_error', optimizer='rmsprop')\n",
    "    return model"
   ]
  },
  {
   "cell_type": "code",
   "execution_count": 32,
   "metadata": {},
   "outputs": [],
   "source": [
    "neural_net = KerasRegressor(small_model,epochs=200, batch_size=100,verbose=0)\n",
    "model = neural_net\n",
    "pipe = Pipeline(steps=[('scaler',scaler),('model', model)])"
   ]
  },
  {
   "cell_type": "code",
   "execution_count": 33,
   "metadata": {},
   "outputs": [
    {
     "data": {
      "text/plain": [
       "Pipeline(memory=None,\n",
       "     steps=[('scaler', StandardScaler(copy=True, with_mean=True, with_std=True)), ('model', <keras.wrappers.scikit_learn.KerasRegressor object at 0x7f34a2f552b0>)])"
      ]
     },
     "execution_count": 33,
     "metadata": {},
     "output_type": "execute_result"
    }
   ],
   "source": [
    "pipe.fit(X_train,y_train)"
   ]
  },
  {
   "cell_type": "code",
   "execution_count": 34,
   "metadata": {},
   "outputs": [
    {
     "name": "stdout",
     "output_type": "stream",
     "text": [
      "11.487555915710486 0.8959702106841729\n"
     ]
    }
   ],
   "source": [
    "res = pipe.predict(X_test)\n",
    "mse = mean_squared_error(res,y_test) \n",
    "varience = explained_variance_score(y_test,res)\n",
    "print(mse,varience)"
   ]
  },
  {
   "cell_type": "markdown",
   "metadata": {},
   "source": [
    "## Графики"
   ]
  },
  {
   "cell_type": "markdown",
   "metadata": {},
   "source": [
    "##### Зависимость функции ошибки от количества эпох"
   ]
  },
  {
   "cell_type": "code",
   "execution_count": 35,
   "metadata": {},
   "outputs": [],
   "source": [
    "results = []\n",
    "for n_epoch in [1,5,10,20,50,100,200,500]:\n",
    "    model = KerasRegressor(small_model,epochs=n_epoch, batch_size=100,verbose=0)\n",
    "    pipe = Pipeline(steps=[('scaler',scaler),('model', model)])\n",
    "    pipe.fit(X_train,y_train)\n",
    "    res = pipe.predict(X_test)\n",
    "    error = mean_squared_error(res,y_test) \n",
    "    results.append(error)"
   ]
  },
  {
   "cell_type": "code",
   "execution_count": 36,
   "metadata": {},
   "outputs": [
    {
     "data": {
      "text/plain": [
       "[653.4952837205167,\n",
       " 560.2870466981225,\n",
       " 374.655238670085,\n",
       " 78.95173029535201,\n",
       " 20.1937801607061,\n",
       " 13.443411635658446,\n",
       " 11.38688666630073,\n",
       " 9.433251179245094]"
      ]
     },
     "execution_count": 36,
     "metadata": {},
     "output_type": "execute_result"
    }
   ],
   "source": [
    "results"
   ]
  },
  {
   "cell_type": "code",
   "execution_count": 37,
   "metadata": {},
   "outputs": [
    {
     "data": {
      "image/png": "[encoded data removed]",
      "text/plain": [
       "<Figure size 432x288 with 1 Axes>"
      ]
     },
     "metadata": {},
     "output_type": "display_data"
    }
   ],
   "source": [
    "x_ticks = [1,5,10,20,50,100,200,500]\n",
    "fig, ax = plt.subplots()\n",
    "plt.scatter(x_ticks,results)\n",
    "plt.plot(x_ticks,results)\n",
    "ax.set_yscale('log')\n",
    "ax.set_xscale('log')\n",
    "ax.set_xticks(x_ticks)\n",
    "ax.set_xticklabels(x_ticks)\n",
    "ax.set_title('Зависимость функции ошибки от количества эпох')\n",
    "ax.set_xlabel(\"Количество эпох обучения\")\n",
    "ax.set_ylabel(\"Среднеквадратичное отклонение\")\n",
    "plt.show()"
   ]
  },
  {
   "cell_type": "markdown",
   "metadata": {},
   "source": [
    "##### Зависимость функции ошибки от размера скрытого слоя"
   ]
  },
  {
   "cell_type": "code",
   "execution_count": 38,
   "metadata": {},
   "outputs": [],
   "source": [
    "def variable_model():\n",
    "    model = Sequential()\n",
    "    model.add(Dense(64, input_dim=13, kernel_initializer='normal', activation='relu'))\n",
    "    for i in range(n_l-1):\n",
    "        model.add(Dense(64, kernel_initializer='normal', activation='relu'))\n",
    "    model.add(Dense(1, kernel_initializer='normal'))\n",
    "    # Compile model\n",
    "    model.compile(loss='mean_squared_error', optimizer='rmsprop')\n",
    "    return model\n",
    "results1 = []\n",
    "n_layers = [1,2,3,5,10]\n",
    "for n_l in n_layers:\n",
    "    model = KerasRegressor(variable_model,epochs=200, batch_size=100,verbose=0)\n",
    "    pipe = Pipeline(steps=[('scaler',scaler),('model', model)])\n",
    "    pipe.fit(X_train,y_train)\n",
    "    res = pipe.predict(X_test)\n",
    "    error = mean_squared_error(res,y_test) \n",
    "    results1.append(error)    "
   ]
  },
  {
   "cell_type": "code",
   "execution_count": 39,
   "metadata": {},
   "outputs": [
    {
     "data": {
      "image/png": "[encoded data removed]",
      "text/plain": [
       "<Figure size 432x288 with 1 Axes>"
      ]
     },
     "metadata": {},
     "output_type": "display_data"
    }
   ],
   "source": [
    "fig, ax = plt.subplots()\n",
    "ax.set_ylim(0,30)\n",
    "ax.set_xlabel(\"Количество скрытых слоев\")\n",
    "ax.set_ylabel(\"Среднеквадратичное отклонение\")\n",
    "ax.set_title('Зависимость функции ошибки от размера скрытого слоя')\n",
    "ax.set_xticks(n_layers)\n",
    "plt.scatter(n_layers,results1)\n",
    "plt.plot(n_layers,results1)\n",
    "plt.show()"
   ]
  },
  {
   "cell_type": "code",
   "execution_count": 40,
   "metadata": {},
   "outputs": [
    {
     "data": {
      "text/plain": [
       "[19.8219369137061,\n",
       " 11.92726829917833,\n",
       " 11.807926988618771,\n",
       " 11.30515699593905,\n",
       " 20.834598771448352]"
      ]
     },
     "execution_count": 40,
     "metadata": {},
     "output_type": "execute_result"
    }
   ],
   "source": [
    "results1"
   ]
  },
  {
   "cell_type": "markdown",
   "metadata": {},
   "source": [
    "##### Зависимость функции ошибки от размера обучающей выборки"
   ]
  },
  {
   "cell_type": "code",
   "execution_count": 41,
   "metadata": {},
   "outputs": [],
   "source": [
    "percents_of_data = [0.1,0.2,0.3,0.5,0.8,1.0]\n",
    "results3 = []\n",
    "for pod in percents_of_data:\n",
    "    #sample = np.random.choice(np.arange(len(X_train)),size=int(len(X_train)*pod),replace=False)\n",
    "    model = KerasRegressor(small_model,epochs=100, batch_size=100,verbose=0)\n",
    "    pipe = Pipeline(steps=[('scaler',scaler),('model', model)])\n",
    "    pipe.fit(X_train[:int(len(X_train)*pod)],y_train[:int(len(X_train)*pod)])\n",
    "    res = pipe.predict(X_test)\n",
    "    error = mean_squared_error(res,y_test) \n",
    "    results3.append(error)"
   ]
  },
  {
   "cell_type": "code",
   "execution_count": 42,
   "metadata": {},
   "outputs": [
    {
     "data": {
      "text/plain": [
       "[56.26780305575717,\n",
       " 48.00847853404851,\n",
       " 26.1792784524941,\n",
       " 21.29861561770024,\n",
       " 17.990109251874816,\n",
       " 12.748664259380307]"
      ]
     },
     "execution_count": 42,
     "metadata": {},
     "output_type": "execute_result"
    }
   ],
   "source": [
    "results3"
   ]
  },
  {
   "cell_type": "code",
   "execution_count": 43,
   "metadata": {},
   "outputs": [
    {
     "data": {
      "image/png": "[encoded data removed]",
      "text/plain": [
       "<Figure size 432x288 with 1 Axes>"
      ]
     },
     "metadata": {},
     "output_type": "display_data"
    }
   ],
   "source": [
    "fig, ax = plt.subplots()\n",
    "ax.set_ylim(0,60)\n",
    "ax.set_xlabel(\"Процент от полной train выборки\")\n",
    "ax.set_ylabel(\"Среднеквадратичное отклонение\")\n",
    "ax.set_title('Зависимость функции ошибки от размера скрытого слоя')\n",
    "ax.set_xticks(percents_of_data)\n",
    "plt.scatter(percents_of_data,results3)\n",
    "plt.plot(percents_of_data,results3)\n",
    "plt.show()"
   ]
  },
  {
   "cell_type": "code",
   "execution_count": null,
   "metadata": {},
   "outputs": [],
   "source": []
  }
 ],
 "metadata": {
  "kernelspec": {
   "display_name": "Python 3",
   "language": "python",
   "name": "python3"
  },
  "language_info": {
   "codemirror_mode": {
    "name": "ipython",
    "version": 3
   },
   "file_extension": ".py",
   "mimetype": "text/x-python",
   "name": "python",
   "nbconvert_exporter": "python",
   "pygments_lexer": "ipython3",
   "version": "3.6.5"
  }
 },
 "nbformat": 4,
 "nbformat_minor": 2
}
