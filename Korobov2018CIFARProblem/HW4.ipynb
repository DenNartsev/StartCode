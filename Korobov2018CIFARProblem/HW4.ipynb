{
  "nbformat": 4,
  "nbformat_minor": 0,
  "metadata": {
    "colab": {
      "name": "HW4.ipynb",
      "version": "0.3.2",
      "provenance": [],
      "collapsed_sections": []
    },
    "kernelspec": {
      "name": "python3",
      "display_name": "Python 3"
    }
  },
  "cells": [
    {
      "metadata": {
        "id": "Veu18fPZDlRq",
        "colab_type": "code",
        "colab": {}
      },
      "cell_type": "code",
      "source": [
        "import numpy as np\n",
        "import pandas as pd\n",
        "import matplotlib.pyplot as plt\n",
        "import torch\n",
        "import torchvision\n",
        "import torchvision.transforms as transforms\n",
        "from torch.utils.data.sampler import SubsetRandomSampler\n",
        "from tqdm import tqdm\n",
        "import torch.optim as optim\n",
        "import random"
      ],
      "execution_count": 0,
      "outputs": []
    },
    {
      "metadata": {
        "id": "xSXaA7CqEv4C",
        "colab_type": "code",
        "colab": {
          "base_uri": "https://localhost:8080/",
          "height": 52
        },
        "outputId": "aae15c53-6024-4e22-d809-cb97b2b4c3e4"
      },
      "cell_type": "code",
      "source": [
        "class RandomNoise(object):\n",
        "    def __init__(self):\n",
        "      pass\n",
        "    def __call__(self, img):\n",
        "      new_img = img.clone().normal_(0,0.01) + img\n",
        "      return new_img / 1.1 + 0.1\n",
        "          \n",
        "transform = transforms.Compose(\n",
        "    [transforms.ToTensor(),\n",
        "     RandomNoise(),\n",
        "     transforms.Normalize((0.5, 0.5, 0.5), (0.5, 0.5, 0.5))])\n",
        "\n",
        "trainset = torchvision.datasets.CIFAR10(root='./data', train=True,\n",
        "                                        download=True, transform=transform)\n",
        "trainloader = torch.utils.data.DataLoader(trainset, batch_size=4,\n",
        "                                          shuffle=True, num_workers=2)\n",
        "\n",
        "testset = torchvision.datasets.CIFAR10(root='./data', train=False,\n",
        "                                       download=True, transform=transform)\n",
        "testloader = torch.utils.data.DataLoader(testset, batch_size=4,\n",
        "                                         shuffle=False, num_workers=2)\n",
        "\n",
        "classes = ('plane', 'car', 'bird', 'cat',\n",
        "           'deer', 'dog', 'frog', 'horse', 'ship', 'truck')"
      ],
      "execution_count": 75,
      "outputs": [
        {
          "output_type": "stream",
          "text": [
            "Files already downloaded and verified\n",
            "Files already downloaded and verified\n"
          ],
          "name": "stdout"
        }
      ]
    },
    {
      "metadata": {
        "id": "qYMjYPq9FFMV",
        "colab_type": "code",
        "colab": {
          "base_uri": "https://localhost:8080/",
          "height": 619
        },
        "outputId": "4713a5a1-8a66-4bb7-e6fe-f9b30d169ea5"
      },
      "cell_type": "code",
      "source": [
        "def imshow(img):\n",
        "    img = img / 2 + 0.5\n",
        "    npimg = img.numpy()\n",
        "    plt.imshow(np.transpose(npimg, (1, 2, 0)))\n",
        "\n",
        "\n",
        "dataiter = iter(trainloader)\n",
        "images, labels = dataiter.next()\n",
        "\n",
        "imshow(torchvision.utils.make_grid(images))\n",
        "print(' '.join('%5s' % classes[labels[j]] for j in range(4)))"
      ],
      "execution_count": 76,
      "outputs": [
        {
          "output_type": "stream",
          "text": [
            "Exception ignored in: <bound method _DataLoaderIter.__del__ of <torch.utils.data.dataloader._DataLoaderIter object at 0x7f22e08379b0>>\n",
            "Traceback (most recent call last):\n",
            "  File \"/usr/local/lib/python3.6/dist-packages/torch/utils/data/dataloader.py\", line 399, in __del__\n",
            "    self._shutdown_workers()\n",
            "  File \"/usr/local/lib/python3.6/dist-packages/torch/utils/data/dataloader.py\", line 378, in _shutdown_workers\n"
          ],
          "name": "stderr"
        },
        {
          "output_type": "stream",
          "text": [
            "  dog horse   cat   cat\n"
          ],
          "name": "stdout"
        },
        {
          "output_type": "stream",
          "text": [
            "    self.worker_result_queue.get()\n",
            "  File \"/usr/lib/python3.6/multiprocessing/queues.py\", line 337, in get\n",
            "    return _ForkingPickler.loads(res)\n",
            "  File \"/usr/local/lib/python3.6/dist-packages/torch/multiprocessing/reductions.py\", line 151, in rebuild_storage_fd\n",
            "    fd = df.detach()\n",
            "  File \"/usr/lib/python3.6/multiprocessing/resource_sharer.py\", line 57, in detach\n",
            "    with _resource_sharer.get_connection(self._id) as conn:\n",
            "  File \"/usr/lib/python3.6/multiprocessing/resource_sharer.py\", line 87, in get_connection\n",
            "    c = Client(address, authkey=process.current_process().authkey)\n",
            "  File \"/usr/lib/python3.6/multiprocessing/connection.py\", line 493, in Client\n",
            "    answer_challenge(c, authkey)\n",
            "  File \"/usr/lib/python3.6/multiprocessing/connection.py\", line 732, in answer_challenge\n",
            "    message = connection.recv_bytes(256)         # reject large message\n",
            "  File \"/usr/lib/python3.6/multiprocessing/connection.py\", line 216, in recv_bytes\n",
            "    buf = self._recv_bytes(maxlength)\n",
            "  File \"/usr/lib/python3.6/multiprocessing/connection.py\", line 407, in _recv_bytes\n",
            "    buf = self._recv(4)\n",
            "  File \"/usr/lib/python3.6/multiprocessing/connection.py\", line 383, in _recv\n",
            "    raise EOFError\n",
            "EOFError: \n"
          ],
          "name": "stderr"
        },
        {
          "output_type": "display_data",
          "data": {
            "image/png": "[encoded data removed]",
            "text/plain": [
              "<matplotlib.figure.Figure at 0x7f22e1c95160>"
            ]
          },
          "metadata": {
            "tags": []
          }
        }
      ]
    },
    {
      "metadata": {
        "id": "KWNQoc5SFdcw",
        "colab_type": "code",
        "colab": {}
      },
      "cell_type": "code",
      "source": [
        "import torch.nn as nn\n",
        "import torch.nn.functional as F\n",
        "\n",
        "\n",
        "class Net(nn.Module):\n",
        "    def __init__(self):\n",
        "        super(Net, self).__init__()\n",
        "        self.conv1 = nn.Conv2d(3, 6, 5)\n",
        "        self.pool = nn.MaxPool2d(2, 2)\n",
        "        self.conv2 = nn.Conv2d(6, 16, 5)\n",
        "        self.fc1 = nn.Linear(16 * 5 * 5, 120)\n",
        "        self.fc2 = nn.Linear(120, 84)\n",
        "        self.fc3 = nn.Linear(84, 10)\n",
        "\n",
        "    def forward(self, x):\n",
        "        x = self.pool(F.relu(self.conv1(x)))\n",
        "        x = self.pool(F.relu(self.conv2(x)))\n",
        "        x = x.view(-1, 16 * 5 * 5)\n",
        "        x = F.relu(self.fc1(x))\n",
        "        x = F.relu(self.fc2(x))\n",
        "        x = self.fc3(x)\n",
        "        return x\n"
      ],
      "execution_count": 0,
      "outputs": []
    },
    {
      "metadata": {
        "id": "-RK6y29RX9Tg",
        "colab_type": "code",
        "colab": {
          "base_uri": "https://localhost:8080/",
          "height": 2813
        },
        "outputId": "6700af9d-8791-4e1a-8000-38ed2cf5bbd5"
      },
      "cell_type": "code",
      "source": [
        "losses_ratio = []\n",
        "for ratio in tqdm(range(1,6)):\n",
        "  losses_ratio.append(fit_and_get_loss(data_batch_size=ratio))"
      ],
      "execution_count": 77,
      "outputs": [
        {
          "output_type": "stream",
          "text": [
            "\n",
            "\n",
            "\n",
            "  0%|          | 0/5 [00:00<?, ?it/s]\u001b[A\u001b[A\u001b[A"
          ],
          "name": "stderr"
        },
        {
          "output_type": "stream",
          "text": [
            "2.2950554547309876\n",
            "2.2047285825014113\n",
            "2.089631273984909\n",
            "1.9778574670553208\n",
            "1.9402877272367478\n",
            "1.869110813975334\n",
            "1.7862655876874924\n",
            "1.7630506249666213\n",
            "1.74253535759449\n",
            "1.7447371401786804\n",
            "1.7263664184808731\n",
            "1.7060924059152602\n",
            "1.731740307688713\n",
            "1.6920881983041762\n",
            "1.6509051487445832\n",
            "1.6516890524625778\n",
            "1.6489924191236496\n",
            "1.594414025425911\n",
            "1.6126508088111877\n",
            "1.589266388297081\n",
            "1.5433724353313445\n",
            "1.5634877992868423\n",
            "1.581491107225418\n",
            "1.5551853461265563\n",
            "1.5910468331575394\n",
            "1.5690748355388642\n",
            "1.555700558423996\n",
            "1.5499966167211532\n",
            "1.5182914546728135\n",
            "1.5576832659244537\n",
            "1.6038961013555526\n",
            "1.5504291226863862\n",
            "1.5358572402000428\n",
            "1.5158526672124863\n",
            "1.5155945823192596\n",
            "1.4452641446590424\n",
            "1.573174600481987\n",
            "1.5722510257959366\n",
            "1.4898575266599656\n",
            "1.489452426314354\n",
            "1.4667276768684387\n",
            "1.5269341918230057\n",
            "1.4973864687681198\n",
            "1.5046768395900727\n",
            "1.4863769836425782\n",
            "1.5249455853700637\n",
            "1.4455761107206344\n",
            "1.5018356823921204\n",
            "1.4549453094005584\n"
          ],
          "name": "stdout"
        },
        {
          "output_type": "stream",
          "text": [
            "\n",
            "\n",
            "\n",
            " 20%|██        | 1/5 [02:53<11:33, 173.38s/it]\u001b[A\u001b[A\u001b[A"
          ],
          "name": "stderr"
        },
        {
          "output_type": "stream",
          "text": [
            "1.5027992745637895\n",
            "Finished Training\n",
            "2.300524450302124\n",
            "2.194956652522087\n",
            "2.047693638384342\n",
            "1.8780128453969955\n",
            "1.7681478492617606\n",
            "1.7543349456191062\n",
            "1.701951039016247\n",
            "1.6123856564760208\n",
            "1.6324288892149925\n",
            "1.6035447491407395\n",
            "1.5740145760178565\n",
            "1.5523897688984871\n",
            "1.495983314871788\n",
            "1.4951826400756836\n",
            "1.5261653178930283\n",
            "1.4912571580410003\n",
            "1.4855424801707269\n",
            "1.4889923213720322\n",
            "1.4400796852707862\n",
            "1.4733694651722908\n",
            "1.4321620411872864\n",
            "1.4144346556663514\n",
            "1.372022128880024\n",
            "1.4016751222014427\n"
          ],
          "name": "stdout"
        },
        {
          "output_type": "stream",
          "text": [
            "\n",
            "\n",
            "\n",
            " 40%|████      | 2/5 [04:34<07:35, 151.77s/it]\u001b[A\u001b[A\u001b[A"
          ],
          "name": "stderr"
        },
        {
          "output_type": "stream",
          "text": [
            "1.4100747953653336\n",
            "Finished Training\n",
            "2.296596411943436\n",
            "2.1413287044763565\n",
            "1.9735669026970863\n",
            "1.9015545787215233\n",
            "1.76510838881135\n",
            "1.6843670710623264\n",
            "1.6374496783316135\n",
            "1.601687054157257\n",
            "1.5448476336747408\n",
            "1.5531170787960291\n",
            "1.5024195266366005\n",
            "1.4961789598912\n",
            "1.4651343398056924\n",
            "1.421215547144413\n",
            "1.4047156774047762\n",
            "1.410980745896697\n"
          ],
          "name": "stdout"
        },
        {
          "output_type": "stream",
          "text": [
            "\n",
            "\n",
            "\n",
            " 60%|██████    | 3/5 [05:51<04:18, 129.42s/it]\u001b[A\u001b[A\u001b[A"
          ],
          "name": "stderr"
        },
        {
          "output_type": "stream",
          "text": [
            "Finished Training\n",
            "2.292980803012848\n",
            "2.090147451758385\n",
            "1.936912139236927\n",
            "1.8069012140631675\n",
            "1.7032546795606613\n",
            "1.6682279615998268\n",
            "1.6001428979039192\n",
            "1.55676713180542\n",
            "1.5420826501250267\n",
            "1.523411236166954\n",
            "1.4959096051454543\n",
            "1.4622460235953332\n",
            "2.141298819601536\n",
            "1.374832177579403\n",
            "1.3733344793319702\n",
            "1.3341250107586384\n",
            "1.3481973648369312\n",
            "1.3277632187902928\n",
            "1.2913314521312713\n",
            "1.3019926286041736\n",
            "1.2967503729760648\n",
            "1.2861779602468013\n",
            "1.2205133934915067\n",
            "1.258564356446266\n"
          ],
          "name": "stdout"
        },
        {
          "output_type": "stream",
          "text": [
            "\n",
            "\n",
            "\n",
            " 80%|████████  | 4/5 [08:03<02:10, 130.14s/it]\u001b[A\u001b[A\u001b[A"
          ],
          "name": "stderr"
        },
        {
          "output_type": "stream",
          "text": [
            "Finished Training\n",
            "2.294505178451538\n",
            "2.1210327417850494\n",
            "2.0038496849536895\n",
            "1.8980311689376832\n",
            "1.8048528813123703\n",
            "1.6708081532120704\n",
            "1.6538561270833017\n",
            "1.59092197650671\n",
            "1.5313600308597088\n",
            "1.4801382692158223\n",
            "1.4328616885542869\n",
            "1.457524877279997\n",
            "1.437427622884512\n",
            "1.4038083923161029\n",
            "1.4099850917756558\n",
            "1.3850992239415645\n",
            "1.3261539039313792\n",
            "1.325001442193985\n",
            "1.3383652242273092\n"
          ],
          "name": "stdout"
        },
        {
          "output_type": "stream",
          "text": [
            "\n",
            "\n",
            "\n",
            "100%|██████████| 5/5 [09:59<00:00, 125.67s/it]\u001b[A\u001b[A\u001b[A\n",
            "\n",
            "\n",
            "\u001b[A\u001b[A\u001b[A"
          ],
          "name": "stderr"
        },
        {
          "output_type": "stream",
          "text": [
            "1.323410772398114\n",
            "Finished Training\n"
          ],
          "name": "stdout"
        }
      ]
    },
    {
      "metadata": {
        "id": "8zE56rxNtIgM",
        "colab_type": "code",
        "colab": {}
      },
      "cell_type": "code",
      "source": [
        "losses_ratio[3] = losses_ratio[3][:12]"
      ],
      "execution_count": 0,
      "outputs": []
    },
    {
      "metadata": {
        "id": "AtNQ8tXQquB8",
        "colab_type": "code",
        "colab": {
          "base_uri": "https://localhost:8080/",
          "height": 378
        },
        "outputId": "6ec57b02-97e4-4a61-ec3b-5130b0b1290f"
      },
      "cell_type": "code",
      "source": [
        "legend = []\n",
        "for ratio in range(5):\n",
        "  iter_num = np.linspace(1, 50000 / (ratio + 1), len(losses_ratio[ratio]))\n",
        "  plt.plot(iter_num, np.array(losses_ratio[ratio]) / (50000 / (ratio + 1)))\n",
        "  legend.append('Train data of ' + str(int(50000.0 / (ratio + 1))) + ' elements')\n",
        "\n",
        "plt.legend(legend)\n",
        "plt.ylabel('Loss')\n",
        "plt.xlabel('Iter num')\n",
        "plt.show()\n",
        "from google.colab import files\n",
        "plt.savefig('LossHW4.png')\n",
        "files.download('LossHW4.png') "
      ],
      "execution_count": 79,
      "outputs": [
        {
          "output_type": "display_data",
          "data": {
            "image/png": "[encoded data removed]",
            "text/plain": [
              "<matplotlib.figure.Figure at 0x7f22e192d4a8>"
            ]
          },
          "metadata": {
            "tags": []
          }
        },
        {
          "output_type": "display_data",
          "data": {
            "text/plain": [
              "<matplotlib.figure.Figure at 0x7f22e0826240>"
            ]
          },
          "metadata": {
            "tags": []
          }
        }
      ]
    },
    {
      "metadata": {
        "id": "C7vxfo7LFr7t",
        "colab_type": "code",
        "colab": {}
      },
      "cell_type": "code",
      "source": [
        "def fit_and_get_loss(data_batch_size=1):\n",
        "  trainloader = torch.utils.data.DataLoader(trainset, batch_size=data_batch_size,\n",
        "                                          shuffle=True, num_workers=2)\n",
        "\n",
        "  losses = []\n",
        "  net = Net()\n",
        "\n",
        "  criterion = nn.CrossEntropyLoss()\n",
        "  optimizer = optim.SGD(net.parameters(), lr=0.001, momentum=0.9)\n",
        "  loss_val = 0.0\n",
        "  epoch_size = 2\n",
        "  if data_batch_size == 1 or data_batch_size == 2 or data_batch_size == 3:\n",
        "    epoch_size = 1\n",
        "  for epoch in range(epoch_size):\n",
        "\n",
        "      running_loss = 0.0\n",
        "      for i, data in enumerate(trainloader, 0):\n",
        "          inputs, labels = data\n",
        "\n",
        "          optimizer.zero_grad()\n",
        "          outputs = net(inputs)\n",
        "          loss = criterion(outputs, labels)\n",
        "          loss.backward()\n",
        "          optimizer.step()\n",
        "          loss_val += loss.item()\n",
        "          if i % 1000 == 999:\n",
        "            losses.append(loss_val / 1000)\n",
        "            print(loss_val / 1000)\n",
        "            loss_val = 0.0\n",
        "\n",
        "  print('Finished Training')\n",
        "  return losses\n"
      ],
      "execution_count": 0,
      "outputs": []
    },
    {
      "metadata": {
        "id": "xAyc5ajYMl35",
        "colab_type": "code",
        "colab": {
          "base_uri": "https://localhost:8080/",
          "height": 378
        },
        "outputId": "94bdf986-3a32-487e-9a8c-a142d40fda51"
      },
      "cell_type": "code",
      "source": [
        "iter_num = np.linspace(1, 25000, 12)\n",
        "plt.plot(iter_num, losses)\n",
        "plt.ylabel('Loss')\n",
        "plt.xlabel('Iter num')\n",
        "plt.show()\n",
        "from google.colab import files\n",
        "plt.savefig('LossHW4.png')\n",
        "files.download('LossHW4.png') "
      ],
      "execution_count": 24,
      "outputs": [
        {
          "output_type": "display_data",
          "data": {
            "image/png": "[encoded data removed]",
            "text/plain": [
              "<matplotlib.figure.Figure at 0x7f59ae65a438>"
            ]
          },
          "metadata": {
            "tags": []
          }
        },
        {
          "output_type": "display_data",
          "data": {
            "text/plain": [
              "<matplotlib.figure.Figure at 0x7f59af7bcf28>"
            ]
          },
          "metadata": {
            "tags": []
          }
        }
      ]
    },
    {
      "metadata": {
        "id": "ZWfLFXT2GYFO",
        "colab_type": "code",
        "colab": {}
      },
      "cell_type": "code",
      "source": [
        "outputs = net(images)"
      ],
      "execution_count": 0,
      "outputs": []
    },
    {
      "metadata": {
        "id": "SfSRqfH0HLS1",
        "colab_type": "code",
        "colab": {
          "base_uri": "https://localhost:8080/",
          "height": 34
        },
        "outputId": "39825ee9-131a-4573-83bb-0e41a334d587"
      },
      "cell_type": "code",
      "source": [
        "correct = 0\n",
        "total = 0\n",
        "with torch.no_grad():\n",
        "    for data in testloader:\n",
        "        images, labels = data\n",
        "        outputs = net(images)\n",
        "        _, predicted = torch.max(outputs.data, 1)\n",
        "        total += labels.size(0)\n",
        "        correct += (predicted == labels).sum().item()\n",
        "\n",
        "print('Accuracy of the network on the 10000 test images: %d %%' % (\n",
        "    100 * correct / total))"
      ],
      "execution_count": 17,
      "outputs": [
        {
          "output_type": "stream",
          "text": [
            "Accuracy of the network on the 10000 test images: 57 %\n"
          ],
          "name": "stdout"
        }
      ]
    },
    {
      "metadata": {
        "id": "nedZN-kmHPDS",
        "colab_type": "code",
        "colab": {
          "base_uri": "https://localhost:8080/",
          "height": 191
        },
        "outputId": "aa60d609-b240-4446-a49a-59230f711e4b"
      },
      "cell_type": "code",
      "source": [
        "class_correct = list(0. for i in range(10))\n",
        "class_total = list(0. for i in range(10))\n",
        "with torch.no_grad():\n",
        "    for data in testloader:\n",
        "        images, labels = data\n",
        "        outputs = net(images)\n",
        "        _, predicted = torch.max(outputs, 1)\n",
        "        c = (predicted == labels).squeeze()\n",
        "        for i in range(4):\n",
        "            label = labels[i]\n",
        "            class_correct[label] += c[i].item()\n",
        "            class_total[label] += 1\n",
        "\n",
        "\n",
        "for i in range(10):\n",
        "    print('Accuracy of %5s : %2d %%' % (\n",
        "        classes[i], 100 * class_correct[i] / class_total[i]))"
      ],
      "execution_count": 18,
      "outputs": [
        {
          "output_type": "stream",
          "text": [
            "Accuracy of plane : 65 %\n",
            "Accuracy of   car : 53 %\n",
            "Accuracy of  bird : 33 %\n",
            "Accuracy of   cat : 44 %\n",
            "Accuracy of  deer : 47 %\n",
            "Accuracy of   dog : 51 %\n",
            "Accuracy of  frog : 73 %\n",
            "Accuracy of horse : 55 %\n",
            "Accuracy of  ship : 77 %\n",
            "Accuracy of truck : 73 %\n"
          ],
          "name": "stdout"
        }
      ]
    },
    {
      "metadata": {
        "id": "RaVVfb9eHtZW",
        "colab_type": "code",
        "colab": {}
      },
      "cell_type": "code",
      "source": [
        ""
      ],
      "execution_count": 0,
      "outputs": []
    }
  ]
}