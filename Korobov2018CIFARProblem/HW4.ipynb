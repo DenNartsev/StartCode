{
  "nbformat": 4,
  "nbformat_minor": 0,
  "metadata": {
    "colab": {
      "name": "HW4.ipynb",
      "version": "0.3.2",
      "provenance": [],
      "collapsed_sections": []
    },
    "kernelspec": {
      "name": "python3",
      "display_name": "Python 3"
    }
  },
  "cells": [
    {
      "metadata": {
        "id": "Veu18fPZDlRq",
        "colab_type": "code",
        "colab": {}
      },
      "cell_type": "code",
      "source": [
        "import numpy as np\n",
        "import pandas as pd\n",
        "import matplotlib.pyplot as plt\n",
        "import torch\n",
        "import torchvision\n",
        "import torchvision.transforms as transforms\n",
        "from torch.utils.data.sampler import SubsetRandomSampler\n",
        "from tqdm import tqdm\n",
        "import torch.optim as optim\n",
        "import random"
      ],
      "execution_count": 0,
      "outputs": []
    },
    {
      "metadata": {
        "id": "fpUr8-VKmiDd",
        "colab_type": "code",
        "colab": {}
      },
      "cell_type": "code",
      "source": [
        "# http://pytorch.org/\n",
        "from os.path import exists\n",
        "from wheel.pep425tags import get_abbr_impl, get_impl_ver, get_abi_tag\n",
        "platform = '{}{}-{}'.format(get_abbr_impl(), get_impl_ver(), get_abi_tag())\n",
        "cuda_output = !ldconfig -p|grep cudart.so|sed -e 's/.*\\.\\([0-9]*\\)\\.\\([0-9]*\\)$/cu\\1\\2/'\n",
        "accelerator = cuda_output[0] if exists('/dev/nvidia0') else 'cpu'\n",
        "\n",
        "!pip install -q http://download.pytorch.org/whl/{accelerator}/torch-0.4.1-{platform}-linux_x86_64.whl torchvision\n",
        "import torch"
      ],
      "execution_count": 0,
      "outputs": []
    },
    {
      "metadata": {
        "id": "xSXaA7CqEv4C",
        "colab_type": "code",
        "colab": {}
      },
      "cell_type": "code",
      "source": [
        "class RandomNoise(object):\n",
        "    def __init__(self, cov):\n",
        "      self.cov = cov\n",
        "    def __call__(self, img):\n",
        "      new_img = img.clone().normal_(0,self.cov) + img\n",
        "      new_img = new_img + abs(torch.min(new_img))\n",
        "      new_img /= torch.max(new_img)\n",
        "      return new_img\n",
        "    \n",
        "\n",
        "classes = ('plane', 'car', 'bird', 'cat',\n",
        "           'deer', 'dog', 'frog', 'horse', 'ship', 'truck')\n",
        "          \n",
        "def load_dataset(cov):\n",
        "  transform = transforms.Compose(\n",
        "      [transforms.ToTensor(),\n",
        "       RandomNoise(cov),\n",
        "       transforms.Normalize((0.5, 0.5, 0.5), (0.5, 0.5, 0.5))])\n",
        "\n",
        "  trainset = torchvision.datasets.CIFAR10(root='./data', train=True,\n",
        "                                          download=True, transform=transform)\n",
        "  trainloader = torch.utils.data.DataLoader(trainset, batch_size=4,\n",
        "                                            shuffle=True, num_workers=2)\n",
        "\n",
        "  testset = torchvision.datasets.CIFAR10(root='./data', train=False,\n",
        "                                         download=True, transform=transform)\n",
        "  testloader = torch.utils.data.DataLoader(testset, batch_size=4,\n",
        "                                           shuffle=False, num_workers=2)\n",
        "\n",
        "  return trainloader"
      ],
      "execution_count": 0,
      "outputs": []
    },
    {
      "metadata": {
        "id": "qYMjYPq9FFMV",
        "colab_type": "code",
        "colab": {
          "base_uri": "https://localhost:8080/",
          "height": 184
        },
        "outputId": "614aa345-76af-47e5-a6d0-d81b8e921fca"
      },
      "cell_type": "code",
      "source": [
        "def imshow(img):\n",
        "    img = img / 2 + 0.5\n",
        "    npimg = img.numpy()\n",
        "    plt.imshow(np.transpose(npimg, (1, 2, 0)))\n",
        "\n",
        "\n",
        "dataiter = iter(trainloader)\n",
        "images, labels = dataiter.next()\n",
        "\n",
        "imshow(torchvision.utils.make_grid(images))\n",
        "print(' '.join('%5s' % classes[labels[j]] for j in range(4)))"
      ],
      "execution_count": 21,
      "outputs": [
        {
          "output_type": "stream",
          "text": [
            " bird  frog plane  frog\n"
          ],
          "name": "stdout"
        },
        {
          "output_type": "display_data",
          "data": {
            "image/png": "[encoded data removed]",
            "text/plain": [
              "<matplotlib.figure.Figure at 0x7f08e5d103c8>"
            ]
          },
          "metadata": {
            "tags": []
          }
        }
      ]
    },
    {
      "metadata": {
        "id": "KWNQoc5SFdcw",
        "colab_type": "code",
        "colab": {}
      },
      "cell_type": "code",
      "source": [
        "import torch.nn as nn\n",
        "import torch.nn.functional as F\n",
        "\n",
        "\n",
        "class Net(nn.Module):\n",
        "    def __init__(self):\n",
        "        super(Net, self).__init__()\n",
        "        self.conv1 = nn.Conv2d(3, 6, 5)\n",
        "        self.pool = nn.MaxPool2d(2, 2)\n",
        "        self.conv2 = nn.Conv2d(6, 16, 5)\n",
        "        self.fc1 = nn.Linear(16 * 5 * 5, 120)\n",
        "        self.fc2 = nn.Linear(120, 84)\n",
        "        self.fc3 = nn.Linear(84, 10)\n",
        "\n",
        "    def forward(self, x):\n",
        "        x = self.pool(F.relu(self.conv1(x)))\n",
        "        x = self.pool(F.relu(self.conv2(x)))\n",
        "        x = x.view(-1, 16 * 5 * 5)\n",
        "        x = F.relu(self.fc1(x))\n",
        "        x = F.relu(self.fc2(x))\n",
        "        x = self.fc3(x)\n",
        "        return x\n"
      ],
      "execution_count": 0,
      "outputs": []
    },
    {
      "metadata": {
        "id": "-RK6y29RX9Tg",
        "colab_type": "code",
        "colab": {
          "base_uri": "https://localhost:8080/",
          "height": 2466
        },
        "outputId": "b7a5e9cc-9e92-4f19-fe39-9b8a5909aba9"
      },
      "cell_type": "code",
      "source": [
        "losses_ratio = []\n",
        "for ratio in tqdm(range(1,6)):\n",
        "  losses_ratio.append(fit_and_get_loss(data_batch_size=ratio))"
      ],
      "execution_count": 13,
      "outputs": [
        {
          "output_type": "stream",
          "text": [
            "\r  0%|          | 0/5 [00:00<?, ?it/s]"
          ],
          "name": "stderr"
        },
        {
          "output_type": "stream",
          "text": [
            "2.30051140165329\n",
            "2.250916028857231\n",
            "2.0902265955209733\n",
            "1.9561460176706313\n",
            "1.891068111181259\n",
            "1.8923726683855058\n",
            "1.8333095726966857\n",
            "1.7802135455608368\n",
            "1.7930818136930466\n",
            "1.7986476136446\n",
            "1.7631178098917006\n",
            "1.7867793772220613\n",
            "1.7612915773391724\n",
            "1.7234942051172257\n",
            "1.6987607420682906\n",
            "1.7515879765748978\n",
            "1.6398065460920335\n",
            "1.7220987108945847\n",
            "1.7003161869049073\n",
            "1.6057164508104325\n",
            "1.6342225868701934\n",
            "1.672587986588478\n",
            "1.6047206938266754\n",
            "1.6679669332504272\n",
            "1.6345978616476058\n",
            "1.5641853382587434\n",
            "1.652805244922638\n",
            "1.606129150390625\n",
            "1.6254145749807358\n",
            "1.6178701627254486\n",
            "1.5657647079229355\n",
            "1.6252348818778992\n",
            "1.5607752410173417\n",
            "1.5664418247938157\n",
            "1.6105311510562896\n",
            "1.5868591194152832\n",
            "1.5816830031871796\n",
            "1.505407650947571\n",
            "1.6012062388658523\n",
            "1.5932402284145355\n",
            "1.5293751485347749\n",
            "1.5517556140422821\n",
            "1.5546511529684066\n",
            "1.5672282906770707\n",
            "1.551368946313858\n",
            "1.523105772972107\n",
            "1.5507258833646775\n",
            "1.5406912822723389\n",
            "1.5469201500415801\n"
          ],
          "name": "stdout"
        },
        {
          "output_type": "stream",
          "text": [
            "\r 20%|██        | 1/5 [03:25<13:41, 205.34s/it]"
          ],
          "name": "stderr"
        },
        {
          "output_type": "stream",
          "text": [
            "1.52512822329998\n",
            "Finished Training\n",
            "2.302030757188797\n",
            "2.2471528974771497\n",
            "2.0547705804109575\n",
            "2.013128989458084\n",
            "1.9114303202033043\n",
            "1.8688407737016677\n",
            "1.817962965786457\n",
            "1.7491949132084847\n",
            "1.6584722455143928\n",
            "1.7013834985494614\n",
            "1.6480428255200386\n",
            "1.6076597902178764\n",
            "1.620534227490425\n",
            "1.579005354642868\n",
            "1.5694828643798828\n",
            "1.5757450917959213\n",
            "1.5762174180150033\n",
            "1.5154014139175416\n",
            "1.5581327993273735\n",
            "1.5007947522997855\n",
            "1.5280489464402198\n",
            "1.4869787005782127\n",
            "1.4712993152737617\n",
            "1.4937478850483894\n"
          ],
          "name": "stdout"
        },
        {
          "output_type": "stream",
          "text": [
            "\r 40%|████      | 2/5 [05:28<09:01, 180.66s/it]"
          ],
          "name": "stderr"
        },
        {
          "output_type": "stream",
          "text": [
            "1.476686514735222\n",
            "Finished Training\n",
            "2.291325540304184\n",
            "2.1089909563064575\n",
            "1.9524136482477188\n",
            "1.8693931750059127\n",
            "1.7871034759581088\n",
            "1.7306563865542413\n",
            "1.712107804119587\n",
            "1.6561437404453754\n",
            "1.5919134229421616\n",
            "1.570206164419651\n",
            "1.5701119146049023\n",
            "1.5359911727216096\n",
            "1.5257477741241454\n",
            "1.5235638454705476\n",
            "1.497015662714839\n",
            "1.4407066476084291\n"
          ],
          "name": "stdout"
        },
        {
          "output_type": "stream",
          "text": [
            "\r 60%|██████    | 3/5 [07:04<05:10, 155.24s/it]"
          ],
          "name": "stderr"
        },
        {
          "output_type": "stream",
          "text": [
            "Finished Training\n",
            "2.3028412368297575\n",
            "2.267918538928032\n",
            "2.026246155142784\n",
            "1.8987827851176262\n",
            "1.82555044734478\n",
            "1.7189610780477524\n",
            "1.6663318775296212\n",
            "1.6256692811846734\n",
            "1.5960602135062218\n",
            "1.5758472055196762\n",
            "1.5301920128464699\n",
            "1.515196265220642\n",
            "2.250659760951996\n",
            "1.4434682031571866\n",
            "1.458569879949093\n",
            "1.4541338683962821\n",
            "1.4170810535848142\n",
            "1.4409537457227708\n",
            "1.3917455950379372\n",
            "1.3749669165015221\n",
            "1.3791081747114657\n",
            "1.3420847416818142\n",
            "1.3518845028281212\n",
            "1.330680162370205\n"
          ],
          "name": "stdout"
        },
        {
          "output_type": "stream",
          "text": [
            "\r 80%|████████  | 4/5 [09:45<02:37, 157.01s/it]"
          ],
          "name": "stderr"
        },
        {
          "output_type": "stream",
          "text": [
            "Finished Training\n",
            "2.302762463092804\n",
            "2.2843965299129487\n",
            "2.0606370693445206\n",
            "1.8685435898303986\n",
            "1.7900712599754334\n",
            "1.7118051157593728\n",
            "1.6552640001773835\n",
            "1.6428632784187793\n",
            "1.5640939872860908\n",
            "1.5211848326027393\n",
            "1.4926525046229362\n",
            "1.461339324504137\n",
            "1.4486647610664367\n",
            "1.444423512428999\n",
            "1.4322218484133482\n",
            "1.426145279198885\n",
            "1.3942251347601413\n",
            "1.4003769989907742\n",
            "1.3755385862588883\n"
          ],
          "name": "stdout"
        },
        {
          "output_type": "stream",
          "text": [
            "\r100%|██████████| 5/5 [12:07<00:00, 152.37s/it]"
          ],
          "name": "stderr"
        },
        {
          "output_type": "stream",
          "text": [
            "1.3667033888995648\n",
            "Finished Training\n"
          ],
          "name": "stdout"
        },
        {
          "output_type": "stream",
          "text": [
            "\n"
          ],
          "name": "stderr"
        }
      ]
    },
    {
      "metadata": {
        "id": "8zE56rxNtIgM",
        "colab_type": "code",
        "colab": {}
      },
      "cell_type": "code",
      "source": [
        "losses_ratio[3] = losses_ratio[3][:12]"
      ],
      "execution_count": 0,
      "outputs": []
    },
    {
      "metadata": {
        "id": "AtNQ8tXQquB8",
        "colab_type": "code",
        "colab": {
          "base_uri": "https://localhost:8080/",
          "height": 378
        },
        "outputId": "1cf18ccb-39c1-4345-efdc-4b4c0fccf449"
      },
      "cell_type": "code",
      "source": [
        "legend = []\n",
        "for ratio in range(5):\n",
        "  iter_num = np.linspace(1, 50000 / (ratio + 1), len(losses_ratio[ratio]))\n",
        "  plt.plot(iter_num, np.array(losses_ratio[ratio]) / (50000 / (ratio + 1)))\n",
        "  legend.append('Train data of ' + str(int(50000.0 / (ratio + 1))) + ' elements')\n",
        "\n",
        "plt.legend(legend)\n",
        "plt.ylabel('Loss')\n",
        "plt.xlabel('Iter num')\n",
        "plt.show()\n",
        "from google.colab import files\n",
        "plt.savefig('LossHW4.png')\n",
        "files.download('LossHW4.png') "
      ],
      "execution_count": 15,
      "outputs": [
        {
          "output_type": "display_data",
          "data": {
            "image/png": "[encoded data removed]",
            "text/plain": [
              "<matplotlib.figure.Figure at 0x7f08e5c1e4e0>"
            ]
          },
          "metadata": {
            "tags": []
          }
        },
        {
          "output_type": "display_data",
          "data": {
            "text/plain": [
              "<matplotlib.figure.Figure at 0x7f08e9c419e8>"
            ]
          },
          "metadata": {
            "tags": []
          }
        }
      ]
    },
    {
      "metadata": {
        "id": "p3GlD-g4qRFh",
        "colab_type": "code",
        "colab": {
          "base_uri": "https://localhost:8080/",
          "height": 4116
        },
        "outputId": "41f2e9ec-c1ef-415a-c3f4-95f0eeda03ac"
      },
      "cell_type": "code",
      "source": [
        "cov_array = []\n",
        "for cov in tqdm(np.arange(0.01, 0.3, 0.04)):\n",
        "  trainloader = load_dataset(cov)\n",
        "  cov_array.append(fit_and_get_loss(data_batch_size=5, trainloader=trainloader))"
      ],
      "execution_count": 25,
      "outputs": [
        {
          "output_type": "stream",
          "text": [
            "\n",
            "\n",
            "  0%|          | 0/8 [00:00<?, ?it/s]\u001b[A\u001b[A"
          ],
          "name": "stderr"
        },
        {
          "output_type": "stream",
          "text": [
            "Files already downloaded and verified\n",
            "Files already downloaded and verified\n",
            "2.2989665877819063\n",
            "2.1533475670814513\n",
            "1.9095776041150092\n",
            "1.8128980594277382\n",
            "1.7255574846565724\n",
            "1.6777358433604241\n",
            "1.6171390956044198\n",
            "1.5804304308891297\n",
            "1.5390894024670123\n",
            "1.4814898361563682\n",
            "1.4701298096776008\n",
            "1.4337891678214074\n",
            "2.1515013303160666\n",
            "1.3805850877463817\n",
            "1.3797512309253215\n",
            "1.3568122408092023\n",
            "1.3528405658006668\n",
            "1.3336198025345802\n",
            "1.3418920561373233\n",
            "1.3182565169334413\n",
            "1.315590022802353\n",
            "1.29778932762146\n",
            "1.2776114351451398\n",
            "1.2710819554626942\n"
          ],
          "name": "stdout"
        },
        {
          "output_type": "stream",
          "text": [
            "\n",
            "\n",
            " 12%|█▎        | 1/8 [02:39<18:39, 159.86s/it]\u001b[A\u001b[A"
          ],
          "name": "stderr"
        },
        {
          "output_type": "stream",
          "text": [
            "Finished Training\n",
            "Files already downloaded and verified\n",
            "Files already downloaded and verified\n",
            "2.2952491339445116\n",
            "2.164880412220955\n",
            "1.9180764814019202\n",
            "1.7986042721867561\n",
            "1.7159426580071448\n",
            "1.6165967594981194\n",
            "1.6158481924533843\n",
            "1.5892822952866554\n",
            "1.5517633198499678\n",
            "1.5137389073371887\n",
            "1.5014478762745858\n",
            "1.458352899670601\n",
            "2.159299944341183\n",
            "1.425055828988552\n",
            "1.403790437579155\n",
            "1.3672331540286542\n",
            "1.389594036489725\n",
            "1.349135836839676\n",
            "1.3406147815287113\n",
            "1.3368334980010987\n",
            "1.3122737874984742\n",
            "1.2914951469898224\n",
            "1.3138936388194562\n",
            "1.2883866177797318\n"
          ],
          "name": "stdout"
        },
        {
          "output_type": "stream",
          "text": [
            "\n",
            "\n",
            " 25%|██▌       | 2/8 [05:15<15:51, 158.63s/it]\u001b[A\u001b[A"
          ],
          "name": "stderr"
        },
        {
          "output_type": "stream",
          "text": [
            "Finished Training\n",
            "Files already downloaded and verified\n",
            "Files already downloaded and verified\n",
            "2.3014312739372254\n",
            "2.2031775908470155\n",
            "1.9853775300979615\n",
            "1.8389468017220496\n",
            "1.7478429192304612\n",
            "1.69589998370409\n",
            "1.6066874786019325\n",
            "1.583017358958721\n",
            "1.5547939006090163\n",
            "1.5255227806270122\n",
            "1.5096886841654777\n",
            "1.5236459555625916\n",
            "2.157736503660679\n",
            "1.4450517292022704\n",
            "1.4191669609844684\n",
            "1.4068621527850629\n",
            "1.405322352617979\n",
            "1.4016429840028286\n",
            "1.3819414236545562\n",
            "1.3606997395753861\n",
            "1.3719576888382434\n",
            "1.3529646428823472\n",
            "1.3453038693070412\n",
            "1.347374796807766\n"
          ],
          "name": "stdout"
        },
        {
          "output_type": "stream",
          "text": [
            "\n",
            "\n",
            " 38%|███▊      | 3/8 [07:53<13:12, 158.40s/it]\u001b[A\u001b[A"
          ],
          "name": "stderr"
        },
        {
          "output_type": "stream",
          "text": [
            "Finished Training\n",
            "Files already downloaded and verified\n",
            "Files already downloaded and verified\n",
            "2.300528772354126\n",
            "2.167867837548256\n",
            "1.9844434479475022\n",
            "1.890922966003418\n",
            "1.766674002289772\n",
            "1.6854760949611665\n",
            "1.6538075823783875\n",
            "1.5982308773994445\n",
            "1.5735702570676804\n",
            "1.5617081973552704\n",
            "1.5532790253162383\n",
            "1.493360710442066\n",
            "2.242639890551567\n",
            "1.4885173680484294\n",
            "1.4366779625415802\n",
            "1.4477657639980317\n",
            "1.378280502974987\n",
            "1.4145084885954857\n",
            "1.4049705066382885\n",
            "1.401440006941557\n",
            "1.390572269141674\n",
            "1.3765594015717506\n",
            "1.3569603636264802\n",
            "1.3359502094089986\n"
          ],
          "name": "stdout"
        },
        {
          "output_type": "stream",
          "text": [
            "\n",
            "\n",
            " 50%|█████     | 4/8 [10:31<10:32, 158.14s/it]\u001b[A\u001b[A"
          ],
          "name": "stderr"
        },
        {
          "output_type": "stream",
          "text": [
            "Finished Training\n",
            "Files already downloaded and verified\n",
            "Files already downloaded and verified\n",
            "2.3024488360881805\n",
            "2.279885238647461\n",
            "2.061219776511192\n",
            "1.9626166036128998\n",
            "1.8947643011808395\n",
            "1.789029959857464\n",
            "1.7295303084254265\n",
            "1.6736573240160941\n",
            "1.656805366128683\n",
            "1.625864570736885\n",
            "1.592159831881523\n",
            "1.605489791572094\n",
            "2.319575934201479\n",
            "1.546203459918499\n",
            "1.5213515114486218\n",
            "1.505276978880167\n",
            "1.4841641183197498\n",
            "1.461414681017399\n",
            "1.4886964330375194\n",
            "1.4479885703623294\n",
            "1.4837874624729157\n",
            "1.4636886684894561\n",
            "1.466258459031582\n",
            "1.4312871599197388\n"
          ],
          "name": "stdout"
        },
        {
          "output_type": "stream",
          "text": [
            "\n",
            "\n",
            " 62%|██████▎   | 5/8 [13:11<07:56, 158.77s/it]\u001b[A\u001b[A"
          ],
          "name": "stderr"
        },
        {
          "output_type": "stream",
          "text": [
            "Finished Training\n",
            "Files already downloaded and verified\n",
            "Files already downloaded and verified\n",
            "2.3023152270317078\n",
            "2.2999982616901398\n",
            "2.264681179523468\n",
            "2.074173805356026\n",
            "1.9356047619581223\n",
            "1.8732280383110047\n",
            "1.8204103146791457\n",
            "1.763520898461342\n",
            "1.7068849566578865\n",
            "1.6802225950360299\n",
            "1.6506669014692306\n",
            "1.6302638170719146\n",
            "2.381866372704506\n",
            "1.5691668988466263\n",
            "1.5455539226233959\n",
            "1.540219749480486\n",
            "1.5259465098381042\n",
            "1.5174721755385399\n",
            "1.4945472425818442\n",
            "1.4819852311611175\n",
            "1.4573115336894988\n",
            "1.4653564865291118\n",
            "1.4887425914406776\n",
            "1.444331629872322\n"
          ],
          "name": "stdout"
        },
        {
          "output_type": "stream",
          "text": [
            "\n",
            "\n",
            " 75%|███████▌  | 6/8 [15:49<05:17, 158.69s/it]\u001b[A\u001b[A"
          ],
          "name": "stderr"
        },
        {
          "output_type": "stream",
          "text": [
            "Finished Training\n",
            "Files already downloaded and verified\n",
            "Files already downloaded and verified\n",
            "2.3028413062095643\n",
            "2.29371729183197\n",
            "2.2022848550081253\n",
            "2.0713708683252334\n",
            "1.985889288187027\n",
            "1.886372345328331\n",
            "1.8493361030220985\n",
            "1.7700270798802376\n",
            "1.7082732934951783\n",
            "1.7234070370793342\n",
            "1.6706686186790467\n",
            "1.6246185296177864\n",
            "2.4311172428131105\n",
            "1.5962563357949258\n",
            "1.580547334909439\n",
            "1.570915477693081\n",
            "1.579212582796812\n",
            "1.54713755184412\n",
            "1.5495383340716362\n",
            "1.5248004689216614\n",
            "1.5237613179683684\n",
            "1.4902998740077018\n",
            "1.530165965229273\n",
            "1.5033218214511872\n"
          ],
          "name": "stdout"
        },
        {
          "output_type": "stream",
          "text": [
            "\n",
            "\n",
            " 88%|████████▊ | 7/8 [18:30<02:39, 159.44s/it]\u001b[A\u001b[A"
          ],
          "name": "stderr"
        },
        {
          "output_type": "stream",
          "text": [
            "Finished Training\n",
            "Files already downloaded and verified\n",
            "Files already downloaded and verified\n",
            "2.303578816175461\n",
            "2.300172936677933\n",
            "2.2592191206216814\n",
            "2.0816367049217224\n",
            "1.9902166740894318\n",
            "1.9263585742115974\n",
            "1.8713155929446221\n",
            "1.812919122338295\n",
            "1.7618415816426276\n",
            "1.745359001815319\n",
            "1.6789907718896866\n",
            "1.6638083694577217\n",
            "2.4775382576584817\n",
            "1.603322133809328\n",
            "1.610488838970661\n",
            "1.5702214435338975\n",
            "1.5773353504538536\n",
            "1.5715012719035149\n",
            "1.5522997255921365\n",
            "1.546169618934393\n",
            "1.5205889395475387\n",
            "1.5139493857324124\n",
            "1.5089042111039161\n",
            "1.5149928238391877\n"
          ],
          "name": "stdout"
        },
        {
          "output_type": "stream",
          "text": [
            "\n",
            "\n",
            "100%|██████████| 8/8 [21:10<00:00, 159.53s/it]\u001b[A\u001b[A\n",
            "\n",
            "\u001b[A\u001b[A"
          ],
          "name": "stderr"
        },
        {
          "output_type": "stream",
          "text": [
            "Finished Training\n"
          ],
          "name": "stdout"
        }
      ]
    },
    {
      "metadata": {
        "id": "BtYX0O8q7oGu",
        "colab_type": "code",
        "colab": {}
      },
      "cell_type": "code",
      "source": [
        "cov_array1 = cov_array\n",
        "for ar in cov_array:\n",
        "  del ar[12]"
      ],
      "execution_count": 0,
      "outputs": []
    },
    {
      "metadata": {
        "id": "f3c_vdjixjS7",
        "colab_type": "code",
        "colab": {
          "base_uri": "https://localhost:8080/",
          "height": 378
        },
        "outputId": "407e2be3-7e39-47f1-c9bb-b1d2acb22629"
      },
      "cell_type": "code",
      "source": [
        "legend = []\n",
        "for ratio in range(len(cov_array)):\n",
        "  iter_num = np.linspace(1, 12500, len(cov_array[ratio]))\n",
        "  plt.plot(iter_num, np.array(cov_array[ratio]) / 12500)\n",
        "\n",
        "plt.legend(np.arange(0.01, 0.3, 0.04))\n",
        "plt.ylabel('Loss')\n",
        "plt.xlabel('Iter num')\n",
        "plt.show()\n",
        "from google.colab import files\n",
        "plt.savefig('LossNoiseHW4.png')\n",
        "files.download('LossNoiseHW4.png') "
      ],
      "execution_count": 31,
      "outputs": [
        {
          "output_type": "display_data",
          "data": {
            "image/png": "[encoded data removed]",
            "text/plain": [
              "<matplotlib.figure.Figure at 0x7f08e9c77668>"
            ]
          },
          "metadata": {
            "tags": []
          }
        },
        {
          "output_type": "display_data",
          "data": {
            "text/plain": [
              "<matplotlib.figure.Figure at 0x7f08e53ade10>"
            ]
          },
          "metadata": {
            "tags": []
          }
        }
      ]
    },
    {
      "metadata": {
        "id": "C7vxfo7LFr7t",
        "colab_type": "code",
        "colab": {}
      },
      "cell_type": "code",
      "source": [
        "def fit_and_get_loss(data_batch_size=1, cov=0.0, trainloader=trainloader):\n",
        "\n",
        "  losses = []\n",
        "  net = Net()\n",
        "\n",
        "  criterion = nn.CrossEntropyLoss()\n",
        "  optimizer = optim.SGD(net.parameters(), lr=0.001, momentum=0.9)\n",
        "  loss_val = 0.0\n",
        "  epoch_size = 2\n",
        "\n",
        "  for epoch in range(epoch_size):\n",
        "\n",
        "      running_loss = 0.0\n",
        "      for i, data in enumerate(trainloader, 0):\n",
        "          inputs, labels = data\n",
        "\n",
        "          optimizer.zero_grad()\n",
        "          outputs = net(inputs)\n",
        "          loss = criterion(outputs, labels)\n",
        "          loss.backward()\n",
        "          optimizer.step()\n",
        "          loss_val += loss.item()\n",
        "          if i % 1000 == 999:\n",
        "            losses.append(loss_val / 1000)\n",
        "            print(loss_val / 1000)\n",
        "            loss_val = 0.0\n",
        "\n",
        "  print('Finished Training')\n",
        "  return losses\n"
      ],
      "execution_count": 0,
      "outputs": []
    },
    {
      "metadata": {
        "id": "xAyc5ajYMl35",
        "colab_type": "code",
        "colab": {
          "base_uri": "https://localhost:8080/",
          "height": 378
        },
        "outputId": "94bdf986-3a32-487e-9a8c-a142d40fda51"
      },
      "cell_type": "code",
      "source": [
        "iter_num = np.linspace(1, 25000, 12)\n",
        "plt.plot(iter_num, losses)\n",
        "plt.ylabel('Loss')\n",
        "plt.xlabel('Iter num')\n",
        "plt.show()\n",
        "from google.colab import files\n",
        "plt.savefig('LossHW4.png')\n",
        "files.download('LossHW4.png') "
      ],
      "execution_count": 24,
      "outputs": [
        {
          "output_type": "display_data",
          "data": {
            "image/png": "[encoded data removed]",
            "text/plain": [
              "<matplotlib.figure.Figure at 0x7f59ae65a438>"
            ]
          },
          "metadata": {
            "tags": []
          }
        },
        {
          "output_type": "display_data",
          "data": {
            "text/plain": [
              "<matplotlib.figure.Figure at 0x7f59af7bcf28>"
            ]
          },
          "metadata": {
            "tags": []
          }
        }
      ]
    },
    {
      "metadata": {
        "id": "ZWfLFXT2GYFO",
        "colab_type": "code",
        "colab": {}
      },
      "cell_type": "code",
      "source": [
        "outputs = net(images)"
      ],
      "execution_count": 0,
      "outputs": []
    },
    {
      "metadata": {
        "id": "SfSRqfH0HLS1",
        "colab_type": "code",
        "colab": {
          "base_uri": "https://localhost:8080/",
          "height": 34
        },
        "outputId": "39825ee9-131a-4573-83bb-0e41a334d587"
      },
      "cell_type": "code",
      "source": [
        "correct = 0\n",
        "total = 0\n",
        "with torch.no_grad():\n",
        "    for data in testloader:\n",
        "        images, labels = data\n",
        "        outputs = net(images)\n",
        "        _, predicted = torch.max(outputs.data, 1)\n",
        "        total += labels.size(0)\n",
        "        correct += (predicted == labels).sum().item()\n",
        "\n",
        "print('Accuracy of the network on the 10000 test images: %d %%' % (\n",
        "    100 * correct / total))"
      ],
      "execution_count": 17,
      "outputs": [
        {
          "output_type": "stream",
          "text": [
            "Accuracy of the network on the 10000 test images: 57 %\n"
          ],
          "name": "stdout"
        }
      ]
    },
    {
      "metadata": {
        "id": "nedZN-kmHPDS",
        "colab_type": "code",
        "colab": {
          "base_uri": "https://localhost:8080/",
          "height": 191
        },
        "outputId": "aa60d609-b240-4446-a49a-59230f711e4b"
      },
      "cell_type": "code",
      "source": [
        "class_correct = list(0. for i in range(10))\n",
        "class_total = list(0. for i in range(10))\n",
        "with torch.no_grad():\n",
        "    for data in testloader:\n",
        "        images, labels = data\n",
        "        outputs = net(images)\n",
        "        _, predicted = torch.max(outputs, 1)\n",
        "        c = (predicted == labels).squeeze()\n",
        "        for i in range(4):\n",
        "            label = labels[i]\n",
        "            class_correct[label] += c[i].item()\n",
        "            class_total[label] += 1\n",
        "\n",
        "\n",
        "for i in range(10):\n",
        "    print('Accuracy of %5s : %2d %%' % (\n",
        "        classes[i], 100 * class_correct[i] / class_total[i]))"
      ],
      "execution_count": 18,
      "outputs": [
        {
          "output_type": "stream",
          "text": [
            "Accuracy of plane : 65 %\n",
            "Accuracy of   car : 53 %\n",
            "Accuracy of  bird : 33 %\n",
            "Accuracy of   cat : 44 %\n",
            "Accuracy of  deer : 47 %\n",
            "Accuracy of   dog : 51 %\n",
            "Accuracy of  frog : 73 %\n",
            "Accuracy of horse : 55 %\n",
            "Accuracy of  ship : 77 %\n",
            "Accuracy of truck : 73 %\n"
          ],
          "name": "stdout"
        }
      ]
    },
    {
      "metadata": {
        "id": "RaVVfb9eHtZW",
        "colab_type": "code",
        "colab": {}
      },
      "cell_type": "code",
      "source": [
        ""
      ],
      "execution_count": 0,
      "outputs": []
    }
  ]
}