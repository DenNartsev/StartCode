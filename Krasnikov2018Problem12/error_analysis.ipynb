{
 "cells": [
  {
   "cell_type": "markdown",
   "metadata": {},
   "source": [
    "# Задача №12. Анализ ошибок.\n",
    "\n",
    "Сделать анализ ошибки и нарисовать график зависимости значения ошибки и его стандартного отклонения от объема выборки на обучении и контроле."
   ]
  },
  {
   "cell_type": "code",
   "execution_count": 2,
   "metadata": {},
   "outputs": [],
   "source": [
    "%matplotlib inline\n",
    "\n",
    "import requests\n",
    "import io\n",
    "import scipy\n",
    "import matplotlib.pyplot as plt\n",
    "\n",
    "from sklearn.neighbors import KNeighborsClassifier\n",
    "from sklearn.model_selection import train_test_split"
   ]
  },
  {
   "cell_type": "markdown",
   "metadata": {},
   "source": [
    "### Загружаем данные"
   ]
  },
  {
   "cell_type": "code",
   "execution_count": 3,
   "metadata": {},
   "outputs": [],
   "source": [
    "url = 'https://archive.ics.uci.edu/ml/machine-learning-databases/wine/wine.data'\n",
    "data = requests.get(url)\n",
    "assert data.status_code == 200"
   ]
  },
  {
   "cell_type": "markdown",
   "metadata": {},
   "source": [
    "### Конвертируем датасет в обучучающую и тестирующую выборки"
   ]
  },
  {
   "cell_type": "code",
   "execution_count": 7,
   "metadata": {},
   "outputs": [],
   "source": [
    "dataset = scipy.genfromtxt(\n",
    "    io.StringIO(data.text),\n",
    "    delimiter=',',\n",
    "    dtype=[('class', scipy.int8), ('features', scipy.float64, (13,))]\n",
    ")\n",
    "\n",
    "x = [item[1] for item in dataset]\n",
    "y = [item[0] for item in dataset]\n"
   ]
  },
  {
   "cell_type": "markdown",
   "metadata": {},
   "source": [
    "### Учитывая данные д/з №2, выберем число ближайших соседей равным 10. В качестве метрики будем использовать сумму модулей(manhattan)"
   ]
  },
  {
   "cell_type": "code",
   "execution_count": 49,
   "metadata": {},
   "outputs": [],
   "source": [
    "k = 10\n",
    "test_size = range(5, 95, 5)\n",
    "\n",
    "means = {}\n",
    "for size in test_size:\n",
    "    x_train, x_test, y_train, y_test = train_test_split(x, y, test_size=size/100, random_state=42)\n",
    "    classifier = KNeighborsClassifier(n_neighbors=k, metric='manhattan')\n",
    "    classifier.fit(x_train, y_train)\n",
    "    prediction = classifier.predict(x_test)\n",
    "    \n",
    "    error = 1 - scipy.mean(prediction == y_test)\n",
    "    std = scipy.std(prediction == y_test)\n",
    "    means[size/100] = [error, std]"
   ]
  },
  {
   "cell_type": "markdown",
   "metadata": {},
   "source": [
    "### Построение графика"
   ]
  },
  {
   "cell_type": "code",
   "execution_count": 50,
   "metadata": {},
   "outputs": [
    {
     "data": {
      "image/png": "[encoded data removed]",
      "text/plain": [
       "<Figure size 432x288 with 1 Axes>"
      ]
     },
     "metadata": {},
     "output_type": "display_data"
    }
   ],
   "source": [
    "sizes = list(means.keys())\n",
    "errors = []\n",
    "stds = []\n",
    "for item in means.values():\n",
    "    errors.append(item[0])\n",
    "    stds.append(item[1])\n",
    "    \n",
    "fig, ax = plt.subplots()\n",
    "ax.plot(sizes, errors, color=\"blue\", label=\"error\")\n",
    "ax.plot(sizes, stds, color=\"red\", label=\"std\")\n",
    "ax.set_xlabel(\"Size of test sample\")\n",
    "ax.legend()\n",
    "\n",
    "plt.show()\n",
    "fig.savefig('Error_Analysis.png')"
   ]
  },
  {
   "cell_type": "code",
   "execution_count": null,
   "metadata": {},
   "outputs": [],
   "source": []
  }
 ],
 "metadata": {
  "kernelspec": {
   "display_name": "Python 3",
   "language": "python",
   "name": "python3"
  },
  "language_info": {
   "codemirror_mode": {
    "name": "ipython",
    "version": 3
   },
   "file_extension": ".py",
   "mimetype": "text/x-python",
   "name": "python",
   "nbconvert_exporter": "python",
   "pygments_lexer": "ipython3",
   "version": "3.6.5"
  }
 },
 "nbformat": 4,
 "nbformat_minor": 2
}
