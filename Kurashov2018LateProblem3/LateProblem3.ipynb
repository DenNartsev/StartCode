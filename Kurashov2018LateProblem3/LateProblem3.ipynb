{
  "nbformat": 4,
  "nbformat_minor": 0,
  "metadata": {
    "colab": {
      "name": "LateProblem3.ipynb",
      "version": "0.3.2",
      "provenance": []
    },
    "kernelspec": {
      "name": "python3",
      "display_name": "Python 3"
    }
  },
  "cells": [
    {
      "metadata": {
        "id": "udR2W23BEPLG",
        "colab_type": "text"
      },
      "cell_type": "markdown",
      "source": [
        "## Цель вычислительного эксперимента\n",
        "Решить задачу выбора алгоритма оптимизации на наборе данных MNIST с использованием нейронных сетей простой структуры. Выбор произвести между алгоритмами: SGD, Nesterov Momentum, Adam; по значениям скорости сходимости, значения оптимума и вида траектории. В качестве структурного параметра используется количество нейронов"
      ]
    },
    {
      "metadata": {
        "id": "xOKzmertE0p9",
        "colab_type": "text"
      },
      "cell_type": "markdown",
      "source": [
        "##Описание выборки\n",
        "Выборка состоит из 70000 изображений рукописного написания цифр размера 28×28 пикселей."
      ]
    },
    {
      "metadata": {
        "id": "Rwld-h5ZFE6g",
        "colab_type": "text"
      },
      "cell_type": "markdown",
      "source": [
        "##Блок загрузки и предобработки выборки"
      ]
    },
    {
      "metadata": {
        "id": "tHVHDKfoaLXt",
        "colab_type": "text"
      },
      "cell_type": "markdown",
      "source": [
        "Подключение необходимых библиотек"
      ]
    },
    {
      "metadata": {
        "id": "6Bs1WT9VC60x",
        "colab_type": "code",
        "colab": {
          "base_uri": "https://localhost:8080/",
          "height": 35
        },
        "outputId": "86614bb8-a2a4-47a6-f7b4-6b5c272f45ea"
      },
      "cell_type": "code",
      "source": [
        "import pandas as pd\n",
        "import numpy as np\n",
        "import matplotlib.pyplot as plt\n",
        "import seaborn as sns\n",
        "from keras.datasets import mnist\n",
        "from keras.utils import np_utils"
      ],
      "execution_count": 1,
      "outputs": [
        {
          "output_type": "stream",
          "text": [
            "Using TensorFlow backend.\n"
          ],
          "name": "stderr"
        }
      ]
    },
    {
      "metadata": {
        "id": "1x1VYv5h8myw",
        "colab_type": "text"
      },
      "cell_type": "markdown",
      "source": [
        "Загрузка датасета"
      ]
    },
    {
      "metadata": {
        "id": "B6grzzdXD7XD",
        "colab_type": "code",
        "outputId": "9d5c2e82-0f7f-4c96-ae1b-c4096428da9d",
        "colab": {
          "base_uri": "https://localhost:8080/",
          "height": 339
        }
      },
      "cell_type": "code",
      "source": [
        "(X_train, y_train), (X_test, y_test) = mnist.load_data()\n",
        "data = X_train\n",
        "labels = y_train\n",
        "\n",
        "fig = plt.figure(figsize=(8, 6))\n",
        "\n",
        "for i in range(15):\n",
        "    ax = fig.add_subplot(3, 5, i + 1, xticks=[], yticks=[])\n",
        "    ax.imshow(X_train[i])"
      ],
      "execution_count": 2,
      "outputs": [
        {
          "output_type": "display_data",
          "data": {
            "image/png": "[encoded data removed]",
            "text/plain": [
              "<matplotlib.figure.Figure at 0x7fa1f025d630>"
            ]
          },
          "metadata": {
            "tags": []
          }
        }
      ]
    },
    {
      "metadata": {
        "id": "CBkB5mwba89Z",
        "colab_type": "text"
      },
      "cell_type": "markdown",
      "source": [
        "Изображение 28×28 пикселей представляется в виде массива размера 784"
      ]
    },
    {
      "metadata": {
        "id": "zpSwkDntEGnt",
        "colab_type": "code",
        "colab": {
          "base_uri": "https://localhost:8080/",
          "height": 231
        },
        "outputId": "60f9ecf2-1807-4a83-e1a3-77479d4ca80c"
      },
      "cell_type": "code",
      "source": [
        "num_pixels = X_train.shape[1] * X_train.shape[2]\n",
        "data = data.reshape(X_train.shape[0], num_pixels)\n",
        "X_train = X_train.reshape(X_train.shape[0], num_pixels).astype('float32')\n",
        "X_test = X_test.reshape(X_test.shape[0], num_pixels).astype('float32')\n",
        "\n",
        "data = pd.DataFrame(data=data,    # values\n",
        "                    index=np.arange(data.shape[0]),    # 1st column as index\n",
        "                    columns=np.arange(data.shape[1]))  # 1st row as the column names\n",
        "data.head()"
      ],
      "execution_count": 3,
      "outputs": [
        {
          "output_type": "execute_result",
          "data": {
            "text/html": [
              "<div>\n",
              "<style scoped>\n",
              "    .dataframe tbody tr th:only-of-type {\n",
              "        vertical-align: middle;\n",
              "    }\n",
              "\n",
              "    .dataframe tbody tr th {\n",
              "        vertical-align: top;\n",
              "    }\n",
              "\n",
              "    .dataframe thead th {\n",
              "        text-align: right;\n",
              "    }\n",
              "</style>\n",
              "<table border=\"1\" class=\"dataframe\">\n",
              "  <thead>\n",
              "    <tr style=\"text-align: right;\">\n",
              "      <th></th>\n",
              "      <th>0</th>\n",
              "      <th>1</th>\n",
              "      <th>2</th>\n",
              "      <th>3</th>\n",
              "      <th>4</th>\n",
              "      <th>5</th>\n",
              "      <th>6</th>\n",
              "      <th>7</th>\n",
              "      <th>8</th>\n",
              "      <th>9</th>\n",
              "      <th>...</th>\n",
              "      <th>774</th>\n",
              "      <th>775</th>\n",
              "      <th>776</th>\n",
              "      <th>777</th>\n",
              "      <th>778</th>\n",
              "      <th>779</th>\n",
              "      <th>780</th>\n",
              "      <th>781</th>\n",
              "      <th>782</th>\n",
              "      <th>783</th>\n",
              "    </tr>\n",
              "  </thead>\n",
              "  <tbody>\n",
              "    <tr>\n",
              "      <th>0</th>\n",
              "      <td>0</td>\n",
              "      <td>0</td>\n",
              "      <td>0</td>\n",
              "      <td>0</td>\n",
              "      <td>0</td>\n",
              "      <td>0</td>\n",
              "      <td>0</td>\n",
              "      <td>0</td>\n",
              "      <td>0</td>\n",
              "      <td>0</td>\n",
              "      <td>...</td>\n",
              "      <td>0</td>\n",
              "      <td>0</td>\n",
              "      <td>0</td>\n",
              "      <td>0</td>\n",
              "      <td>0</td>\n",
              "      <td>0</td>\n",
              "      <td>0</td>\n",
              "      <td>0</td>\n",
              "      <td>0</td>\n",
              "      <td>0</td>\n",
              "    </tr>\n",
              "    <tr>\n",
              "      <th>1</th>\n",
              "      <td>0</td>\n",
              "      <td>0</td>\n",
              "      <td>0</td>\n",
              "      <td>0</td>\n",
              "      <td>0</td>\n",
              "      <td>0</td>\n",
              "      <td>0</td>\n",
              "      <td>0</td>\n",
              "      <td>0</td>\n",
              "      <td>0</td>\n",
              "      <td>...</td>\n",
              "      <td>0</td>\n",
              "      <td>0</td>\n",
              "      <td>0</td>\n",
              "      <td>0</td>\n",
              "      <td>0</td>\n",
              "      <td>0</td>\n",
              "      <td>0</td>\n",
              "      <td>0</td>\n",
              "      <td>0</td>\n",
              "      <td>0</td>\n",
              "    </tr>\n",
              "    <tr>\n",
              "      <th>2</th>\n",
              "      <td>0</td>\n",
              "      <td>0</td>\n",
              "      <td>0</td>\n",
              "      <td>0</td>\n",
              "      <td>0</td>\n",
              "      <td>0</td>\n",
              "      <td>0</td>\n",
              "      <td>0</td>\n",
              "      <td>0</td>\n",
              "      <td>0</td>\n",
              "      <td>...</td>\n",
              "      <td>0</td>\n",
              "      <td>0</td>\n",
              "      <td>0</td>\n",
              "      <td>0</td>\n",
              "      <td>0</td>\n",
              "      <td>0</td>\n",
              "      <td>0</td>\n",
              "      <td>0</td>\n",
              "      <td>0</td>\n",
              "      <td>0</td>\n",
              "    </tr>\n",
              "    <tr>\n",
              "      <th>3</th>\n",
              "      <td>0</td>\n",
              "      <td>0</td>\n",
              "      <td>0</td>\n",
              "      <td>0</td>\n",
              "      <td>0</td>\n",
              "      <td>0</td>\n",
              "      <td>0</td>\n",
              "      <td>0</td>\n",
              "      <td>0</td>\n",
              "      <td>0</td>\n",
              "      <td>...</td>\n",
              "      <td>0</td>\n",
              "      <td>0</td>\n",
              "      <td>0</td>\n",
              "      <td>0</td>\n",
              "      <td>0</td>\n",
              "      <td>0</td>\n",
              "      <td>0</td>\n",
              "      <td>0</td>\n",
              "      <td>0</td>\n",
              "      <td>0</td>\n",
              "    </tr>\n",
              "    <tr>\n",
              "      <th>4</th>\n",
              "      <td>0</td>\n",
              "      <td>0</td>\n",
              "      <td>0</td>\n",
              "      <td>0</td>\n",
              "      <td>0</td>\n",
              "      <td>0</td>\n",
              "      <td>0</td>\n",
              "      <td>0</td>\n",
              "      <td>0</td>\n",
              "      <td>0</td>\n",
              "      <td>...</td>\n",
              "      <td>0</td>\n",
              "      <td>0</td>\n",
              "      <td>0</td>\n",
              "      <td>0</td>\n",
              "      <td>0</td>\n",
              "      <td>0</td>\n",
              "      <td>0</td>\n",
              "      <td>0</td>\n",
              "      <td>0</td>\n",
              "      <td>0</td>\n",
              "    </tr>\n",
              "  </tbody>\n",
              "</table>\n",
              "<p>5 rows × 784 columns</p>\n",
              "</div>"
            ],
            "text/plain": [
              "   0    1    2    3    4    5    6    7    8    9   ...   774  775  776  777  \\\n",
              "0    0    0    0    0    0    0    0    0    0    0 ...     0    0    0    0   \n",
              "1    0    0    0    0    0    0    0    0    0    0 ...     0    0    0    0   \n",
              "2    0    0    0    0    0    0    0    0    0    0 ...     0    0    0    0   \n",
              "3    0    0    0    0    0    0    0    0    0    0 ...     0    0    0    0   \n",
              "4    0    0    0    0    0    0    0    0    0    0 ...     0    0    0    0   \n",
              "\n",
              "   778  779  780  781  782  783  \n",
              "0    0    0    0    0    0    0  \n",
              "1    0    0    0    0    0    0  \n",
              "2    0    0    0    0    0    0  \n",
              "3    0    0    0    0    0    0  \n",
              "4    0    0    0    0    0    0  \n",
              "\n",
              "[5 rows x 784 columns]"
            ]
          },
          "metadata": {
            "tags": []
          },
          "execution_count": 3
        }
      ]
    },
    {
      "metadata": {
        "id": "13LCxNj2cGIx",
        "colab_type": "text"
      },
      "cell_type": "markdown",
      "source": [
        "Нормализация объектов выборки: из 0-255 в 0-1"
      ]
    },
    {
      "metadata": {
        "id": "ivRw1cmjKrh7",
        "colab_type": "code",
        "colab": {}
      },
      "cell_type": "code",
      "source": [
        "X_train = X_train/255\n",
        "X_test = X_test/255"
      ],
      "execution_count": 0,
      "outputs": []
    },
    {
      "metadata": {
        "id": "ws530Jg8dFy0",
        "colab_type": "text"
      },
      "cell_type": "markdown",
      "source": [
        "Классы (10 цифр) представляются в виде бинарных матриц размера 2×2"
      ]
    },
    {
      "metadata": {
        "id": "6rPOiptbL4aF",
        "colab_type": "code",
        "colab": {}
      },
      "cell_type": "code",
      "source": [
        "y_train = np_utils.to_categorical(y_train)\n",
        "y_test = np_utils.to_categorical(y_test)\n",
        "num_classes = y_test.shape[1]"
      ],
      "execution_count": 0,
      "outputs": []
    },
    {
      "metadata": {
        "id": "pVyVefKJHkbC",
        "colab_type": "text"
      },
      "cell_type": "markdown",
      "source": [
        "##Графики анализа состава выборки"
      ]
    },
    {
      "metadata": {
        "id": "54ZsP8ydHuoO",
        "colab_type": "text"
      },
      "cell_type": "markdown",
      "source": [
        "###Анализ выбросов, гистограмма\n",
        "\n",
        "\n",
        "\n",
        "\n",
        "\n"
      ]
    },
    {
      "metadata": {
        "id": "zqfgA9UFh_nF",
        "colab_type": "code",
        "colab": {
          "base_uri": "https://localhost:8080/",
          "height": 401
        },
        "outputId": "7a83ce5b-c4e4-46ee-d7d8-42063d683bd0"
      },
      "cell_type": "code",
      "source": [
        "sns.countplot(labels)"
      ],
      "execution_count": 9,
      "outputs": [
        {
          "output_type": "stream",
          "text": [
            "/usr/local/lib/python3.6/dist-packages/seaborn/categorical.py:1428: FutureWarning: remove_na is deprecated and is a private function. Do not use.\n",
            "  stat_data = remove_na(group_data)\n"
          ],
          "name": "stderr"
        },
        {
          "output_type": "execute_result",
          "data": {
            "text/plain": [
              "<matplotlib.axes._subplots.AxesSubplot at 0x7fa1b7d68c88>"
            ]
          },
          "metadata": {
            "tags": []
          },
          "execution_count": 9
        },
        {
          "output_type": "display_data",
          "data": {
            "image/png": "[encoded data removed]",
            "text/plain": [
              "<matplotlib.figure.Figure at 0x7fa1bc5f9f28>"
            ]
          },
          "metadata": {
            "tags": []
          }
        }
      ]
    },
    {
      "metadata": {
        "id": "RKO9jyckqpqh",
        "colab_type": "text"
      },
      "cell_type": "markdown",
      "source": [
        "Выбросов не наблюдается"
      ]
    },
    {
      "metadata": {
        "id": "5gHM_cPrICD0",
        "colab_type": "text"
      },
      "cell_type": "markdown",
      "source": [
        "###Анализ пропусков, статистика"
      ]
    },
    {
      "metadata": {
        "id": "ssjPGtXPp1YA",
        "colab_type": "code",
        "colab": {
          "base_uri": "https://localhost:8080/",
          "height": 104
        },
        "outputId": "31bbec7d-1107-466e-fa19-2ded4854a235"
      },
      "cell_type": "code",
      "source": [
        "data.isnull().any().describe()"
      ],
      "execution_count": 7,
      "outputs": [
        {
          "output_type": "execute_result",
          "data": {
            "text/plain": [
              "count       784\n",
              "unique        1\n",
              "top       False\n",
              "freq        784\n",
              "dtype: object"
            ]
          },
          "metadata": {
            "tags": []
          },
          "execution_count": 7
        }
      ]
    },
    {
      "metadata": {
        "id": "MdmPqoKrqWc9",
        "colab_type": "text"
      },
      "cell_type": "markdown",
      "source": [
        "В выборке нет пропусков или испорченных данных"
      ]
    },
    {
      "metadata": {
        "id": "S7Tb0oQIIUVi",
        "colab_type": "text"
      },
      "cell_type": "markdown",
      "source": [
        "###Анализ мультикорелляции признаков, кор. матрица"
      ]
    },
    {
      "metadata": {
        "id": "jM3Ax3XQvjZN",
        "colab_type": "code",
        "colab": {}
      },
      "cell_type": "code",
      "source": [
        "#corr_matrix = data.corr()"
      ],
      "execution_count": 0,
      "outputs": []
    },
    {
      "metadata": {
        "id": "A4ZGSRkUvnNZ",
        "colab_type": "text"
      },
      "cell_type": "markdown",
      "source": [
        "Не удалось получить наглядную матрицу корелляционную матрицу для 784 признаков"
      ]
    },
    {
      "metadata": {
        "id": "AKH1MtbLIcaq",
        "colab_type": "text"
      },
      "cell_type": "markdown",
      "source": [
        "##Список моделей\n",
        "Строится нейронная сеть простой стуктуры"
      ]
    },
    {
      "metadata": {
        "id": "NVC9F-DjIsUU",
        "colab_type": "text"
      },
      "cell_type": "markdown",
      "source": [
        "##Список функций ошибки, критериев качества\n",
        "Критерии качества, используемые в задаче:\n",
        "\n",
        "*   скорость сходимости\n",
        "*   значение оптимума\n",
        "*   вид траектории\n",
        "\n",
        "\n",
        "\n"
      ]
    },
    {
      "metadata": {
        "id": "OP5DRSokI0FM",
        "colab_type": "text"
      },
      "cell_type": "markdown",
      "source": [
        "##Способ разбиения выборки на обучение-контроль\n",
        "Используется разбиение, предлагаемое функцией load_data() модуля mnist библиотеки keras. А именно, 60000  и 10000 объектов на обучение и контроль соответсвенно."
      ]
    },
    {
      "metadata": {
        "id": "dxmn67nJI64t",
        "colab_type": "text"
      },
      "cell_type": "markdown",
      "source": [
        "##Таблица модели/выборки/критерии качества на разбиении со стандартным отклонением"
      ]
    },
    {
      "metadata": {
        "id": "swGINpuqI_FV",
        "colab_type": "text"
      },
      "cell_type": "markdown",
      "source": [
        "##Анализ выбранной модели на разбиении обучение-контроль"
      ]
    },
    {
      "metadata": {
        "id": "mazuDJ829nYB",
        "colab_type": "code",
        "colab": {}
      },
      "cell_type": "code",
      "source": [
        "from keras.models import Sequential\n",
        "from keras.layers import Dense\n",
        "from keras.layers import Dropout"
      ],
      "execution_count": 0,
      "outputs": []
    },
    {
      "metadata": {
        "id": "Jy4PvoW-KCw9",
        "colab_type": "code",
        "colab": {}
      },
      "cell_type": "code",
      "source": [
        "def baseline_model(optimizer='adam'):\n",
        "\t\n",
        "\tmodel = Sequential()\n",
        "\tmodel.add(Dense(num_pixels, input_dim=num_pixels, kernel_initializer='normal', activation='relu'))\n",
        "\tmodel.add(Dense(num_classes, kernel_initializer='normal', activation='softmax'))\n",
        "\t\n",
        "\tmodel.compile(loss='categorical_crossentropy', optimizer=optimizer, metrics=['accuracy'])\n",
        "\treturn model"
      ],
      "execution_count": 0,
      "outputs": []
    },
    {
      "metadata": {
        "id": "ONSJ-ENDKECS",
        "colab_type": "code",
        "colab": {
          "base_uri": "https://localhost:8080/",
          "height": 1161
        },
        "outputId": "cb4abc11-bcf7-4aff-9349-54b1d7e10549"
      },
      "cell_type": "code",
      "source": [
        "optimizers = ['adam', 'SGD', 'nadam']\n",
        "accuracy = []\n",
        "\n",
        "for optimizer in optimizers:\n",
        "    model = baseline_model(optimizer)\n",
        "    model.fit(X_train, y_train, validation_data=(X_test, y_test), epochs=10, batch_size=200, verbose=1)\n",
        "    scores = model.evaluate(X_test, y_test, verbose=0)\n",
        "    accuracy.append(score[1])\n",
        "    print(\"Baseline Error: %.2f%%\" % (100-scores[1]*100))"
      ],
      "execution_count": 89,
      "outputs": [
        {
          "output_type": "stream",
          "text": [
            "Train on 60000 samples, validate on 10000 samples\n",
            "Epoch 1/10\n",
            "60000/60000 [==============================] - 9s 150us/step - loss: 0.2763 - acc: 0.9215 - val_loss: 0.1419 - val_acc: 0.9577\n",
            "Epoch 2/10\n",
            "60000/60000 [==============================] - 8s 136us/step - loss: 0.1103 - acc: 0.9679 - val_loss: 0.1021 - val_acc: 0.9697\n",
            "Epoch 3/10\n",
            "60000/60000 [==============================] - 8s 137us/step - loss: 0.0711 - acc: 0.9790 - val_loss: 0.0756 - val_acc: 0.9777\n",
            "Epoch 4/10\n",
            "60000/60000 [==============================] - 8s 136us/step - loss: 0.0496 - acc: 0.9861 - val_loss: 0.0740 - val_acc: 0.9764\n",
            "Epoch 5/10\n",
            "60000/60000 [==============================] - 8s 136us/step - loss: 0.0354 - acc: 0.9901 - val_loss: 0.0804 - val_acc: 0.9733\n",
            "Epoch 6/10\n",
            "60000/60000 [==============================] - 9s 142us/step - loss: 0.0265 - acc: 0.9931 - val_loss: 0.0606 - val_acc: 0.9813\n",
            "Epoch 7/10\n",
            "60000/60000 [==============================] - 9s 143us/step - loss: 0.0202 - acc: 0.9946 - val_loss: 0.0630 - val_acc: 0.9808\n",
            "Epoch 8/10\n",
            "60000/60000 [==============================] - 8s 137us/step - loss: 0.0145 - acc: 0.9966 - val_loss: 0.0629 - val_acc: 0.9802\n",
            "Epoch 9/10\n",
            "60000/60000 [==============================] - 8s 138us/step - loss: 0.0111 - acc: 0.9975 - val_loss: 0.0668 - val_acc: 0.9799\n",
            "Epoch 10/10\n",
            "60000/60000 [==============================] - 8s 136us/step - loss: 0.0084 - acc: 0.9982 - val_loss: 0.0689 - val_acc: 0.9812\n",
            "Baseline Error: 1.88%\n",
            "Train on 60000 samples, validate on 10000 samples\n",
            "Epoch 1/10\n",
            "60000/60000 [==============================] - 7s 120us/step - loss: 1.2360 - acc: 0.7156 - val_loss: 0.7158 - val_acc: 0.8480\n",
            "Epoch 2/10\n",
            "60000/60000 [==============================] - 6s 105us/step - loss: 0.6120 - acc: 0.8574 - val_loss: 0.5021 - val_acc: 0.8796\n",
            "Epoch 3/10\n",
            "60000/60000 [==============================] - 6s 105us/step - loss: 0.4798 - acc: 0.8788 - val_loss: 0.4225 - val_acc: 0.8933\n",
            "Epoch 4/10\n",
            "60000/60000 [==============================] - 6s 106us/step - loss: 0.4201 - acc: 0.8890 - val_loss: 0.3807 - val_acc: 0.8999\n",
            "Epoch 5/10\n",
            "60000/60000 [==============================] - 6s 105us/step - loss: 0.3845 - acc: 0.8964 - val_loss: 0.3537 - val_acc: 0.9058\n",
            "Epoch 6/10\n",
            "60000/60000 [==============================] - 6s 105us/step - loss: 0.3600 - acc: 0.9021 - val_loss: 0.3344 - val_acc: 0.9103\n",
            "Epoch 7/10\n",
            "60000/60000 [==============================] - 6s 106us/step - loss: 0.3418 - acc: 0.9060 - val_loss: 0.3189 - val_acc: 0.9130\n",
            "Epoch 8/10\n",
            "60000/60000 [==============================] - 6s 104us/step - loss: 0.3271 - acc: 0.9096 - val_loss: 0.3081 - val_acc: 0.9165\n",
            "Epoch 9/10\n",
            "60000/60000 [==============================] - 6s 107us/step - loss: 0.3152 - acc: 0.9132 - val_loss: 0.2967 - val_acc: 0.9188\n",
            "Epoch 10/10\n",
            "60000/60000 [==============================] - 6s 104us/step - loss: 0.3048 - acc: 0.9155 - val_loss: 0.2888 - val_acc: 0.9210\n",
            "Baseline Error: 7.90%\n",
            "Train on 60000 samples, validate on 10000 samples\n",
            "Epoch 1/10\n",
            "60000/60000 [==============================] - 9s 157us/step - loss: 0.2357 - acc: 0.9310 - val_loss: 0.1365 - val_acc: 0.9586\n",
            "Epoch 2/10\n",
            "60000/60000 [==============================] - 8s 139us/step - loss: 0.0848 - acc: 0.9747 - val_loss: 0.0731 - val_acc: 0.9782\n",
            "Epoch 3/10\n",
            "60000/60000 [==============================] - 8s 138us/step - loss: 0.0506 - acc: 0.9848 - val_loss: 0.0738 - val_acc: 0.9775\n",
            "Epoch 4/10\n",
            "60000/60000 [==============================] - 8s 139us/step - loss: 0.0324 - acc: 0.9905 - val_loss: 0.0656 - val_acc: 0.9788\n",
            "Epoch 5/10\n",
            "60000/60000 [==============================] - 8s 138us/step - loss: 0.0222 - acc: 0.9935 - val_loss: 0.0589 - val_acc: 0.9820\n",
            "Epoch 6/10\n",
            "60000/60000 [==============================] - 8s 139us/step - loss: 0.0156 - acc: 0.9957 - val_loss: 0.0648 - val_acc: 0.9797\n",
            "Epoch 7/10\n",
            "60000/60000 [==============================] - 8s 139us/step - loss: 0.0114 - acc: 0.9966 - val_loss: 0.0724 - val_acc: 0.9795\n",
            "Epoch 8/10\n",
            "60000/60000 [==============================] - 8s 140us/step - loss: 0.0104 - acc: 0.9969 - val_loss: 0.0736 - val_acc: 0.9802\n",
            "Epoch 9/10\n",
            "60000/60000 [==============================] - 8s 139us/step - loss: 0.0078 - acc: 0.9980 - val_loss: 0.0741 - val_acc: 0.9788\n",
            "Epoch 10/10\n",
            "60000/60000 [==============================] - 8s 138us/step - loss: 0.0067 - acc: 0.9981 - val_loss: 0.0789 - val_acc: 0.9808\n",
            "Baseline Error: 1.92%\n"
          ],
          "name": "stdout"
        }
      ]
    },
    {
      "metadata": {
        "id": "hftd8SYAJQNz",
        "colab_type": "text"
      },
      "cell_type": "markdown",
      "source": [
        "###График скорости сходимости функции ошибки (зависимости функции ошибки от номера итерации оптимизационного алгоритма) со ст. откл."
      ]
    }
  ]
}