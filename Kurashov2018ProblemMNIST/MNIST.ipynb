{
 "cells": [
  {
   "cell_type": "code",
   "execution_count": 1,
   "metadata": {
    "scrolled": true
   },
   "outputs": [
    {
     "name": "stderr",
     "output_type": "stream",
     "text": [
      "Using TensorFlow backend.\n"
     ]
    }
   ],
   "source": [
    "import keras\n",
    "import numpy as np\n",
    "import matplotlib.pyplot as plt\n",
    "from skimage import transform"
   ]
  },
  {
   "cell_type": "markdown",
   "metadata": {},
   "source": [
    "### Данные:\n",
    "Будем работать с датасетом [FashionMNIST](https://github.com/zalandoresearch/fashion-mnist). "
   ]
  },
  {
   "cell_type": "code",
   "execution_count": 2,
   "metadata": {},
   "outputs": [],
   "source": [
    "from keras.datasets import fashion_mnist\n",
    "\n",
    "(X_train, y_train), (X_test, y_test) = fashion_mnist.load_data()"
   ]
  },
  {
   "cell_type": "code",
   "execution_count": 3,
   "metadata": {},
   "outputs": [
    {
     "data": {
      "text/plain": [
       "<matplotlib.image.AxesImage at 0x7f5635f12b70>"
      ]
     },
     "execution_count": 3,
     "metadata": {},
     "output_type": "execute_result"
    },
    {
     "data": {
      "image/png": "[encoded data removed]",
      "text/plain": [
       "<Figure size 432x288 with 1 Axes>"
      ]
     },
     "metadata": {},
     "output_type": "display_data"
    }
   ],
   "source": [
    "plt.imshow(X_train[1].reshape([28,28]))"
   ]
  },
  {
   "cell_type": "markdown",
   "metadata": {},
   "source": [
    "### Задание:\n",
    "Будем решать задачу классификации на 10 классов. Каждый класс соответствует одному из типов одежды. Исходная размерность признакового пространства: `784`, каждый пиксель является признаком. Будем снижать размерность признакового пространства с помощью метода главных компонент (`PCA`). Ваша задача оценить качество решенения задачи классификации по метрике `accuracy` в зависимости от числа главных компонент. Также оцените дисперсию функции качества в зависимости от числа главных компонент.\n",
    "\n",
    "Нарисуйте график зависимости функции качества и ее дисперсии от числа главных компонент."
   ]
  },
  {
   "cell_type": "code",
   "execution_count": 4,
   "metadata": {},
   "outputs": [],
   "source": [
    "from sklearn.decomposition import PCA\n",
    "from sklearn.linear_model import LogisticRegression\n",
    "from sklearn.metrics import accuracy_score"
   ]
  },
  {
   "cell_type": "code",
   "execution_count": 5,
   "metadata": {},
   "outputs": [
    {
     "data": {
      "text/plain": [
       "0.5814"
      ]
     },
     "execution_count": 5,
     "metadata": {},
     "output_type": "execute_result"
    }
   ],
   "source": [
    "pca = PCA(n_components=3)\n",
    "used_indices = np.random.choice(np.arange(X_train.shape[0]), 10000, replace=False)\n",
    "X_train_lowdim = pca.fit_transform(X_train[used_indices].reshape([-1, 784]))\n",
    "lr = LogisticRegression()\n",
    "lr.fit(X_train_lowdim, y_train[used_indices])\n",
    "accuracy_score(y_test, lr.predict(pca.transform(X_test.reshape([-1, 784]))))"
   ]
  },
  {
   "cell_type": "markdown",
   "metadata": {},
   "source": [
    "Используйте следующую сетку числа главных компонент: `[3, 5, 7, 12, 18, 25, 33, 40, 48, 55]`. Для ускорения сходимости можете семплировать подвыборки из `X_train`. "
   ]
  },
  {
   "cell_type": "markdown",
   "metadata": {},
   "source": [
    "### Решение:\n",
    "\n",
    "Окружаю код из двумя ячейками выше функцией и с помощью неё получаю точки для графика функции качества. Для дисперсии также завожу функцию, чтобы легко получить значения. Содержательная часть решения тривиальна: строю графики по сгенерированным точкам."
   ]
  },
  {
   "cell_type": "code",
   "execution_count": 6,
   "metadata": {},
   "outputs": [],
   "source": [
    "n_comp = np.array([3, 5, 7, 12, 18, 25, 33, 40, 48, 55])"
   ]
  },
  {
   "cell_type": "code",
   "execution_count": 7,
   "metadata": {},
   "outputs": [],
   "source": [
    "def accuracy_value(n_comp):\n",
    "    \"\"\"Returns accuracy value for PCA method\"\"\"\n",
    "    \n",
    "    output = np.empty(n_comp.shape[0])\n",
    "    \n",
    "    for idx in range(n_comp.shape[0]):        \n",
    "        pca = PCA(n_components=n_comp[idx])\n",
    "        used_indices = np.random.choice(np.arange(X_train.shape[0]), 10000, replace=False)\n",
    "        X_train_lowdim = pca.fit_transform(X_train[used_indices].reshape([-1, 784]))\n",
    "        lr = LogisticRegression()\n",
    "        lr.fit(X_train_lowdim, y_train[used_indices])\n",
    "        output[idx] = accuracy_score(y_test, lr.predict(pca.transform(X_test.reshape([-1, 784]))))\n",
    "    \n",
    "    return output"
   ]
  },
  {
   "cell_type": "code",
   "execution_count": 8,
   "metadata": {},
   "outputs": [],
   "source": [
    "# Let me choose number of iteration for std as n_iter\n",
    "n_iter = 5"
   ]
  },
  {
   "cell_type": "code",
   "execution_count": 12,
   "metadata": {},
   "outputs": [],
   "source": [
    "# Compute y_value for accuracy SD\n",
    "def accuracy_std(n_comp, itr=n_iter):\n",
    "    \"\"\"Returns SD for accuracy\n",
    "    Number of iterations is its\n",
    "    \"\"\"\n",
    "    output = np.empty(n_comp.shape[0])\n",
    "    \n",
    "    for idx in range(n_comp.shape[0]):\n",
    "        temp_array = np.empty(itr)\n",
    "        for _ in range(itr):\n",
    "            temp_array[_] = accuracy_value(np.array([n_comp[idx]]))\n",
    "        output[idx] = np.std(temp_array)\n",
    "        \n",
    "    return output"
   ]
  },
  {
   "cell_type": "code",
   "execution_count": null,
   "metadata": {},
   "outputs": [],
   "source": [
    "# These two functions too long to compute, so I had to save samples of their outputs\n",
    "\n",
    "#accuracy_values = accuracy_value(n_comp)\n",
    "#accuracy_std_array = accuracy_std(n_comp)"
   ]
  },
  {
   "cell_type": "code",
   "execution_count": 21,
   "metadata": {
    "scrolled": true
   },
   "outputs": [
    {
     "data": {
      "image/png": "[encoded data removed]",
      "text/plain": [
       "<Figure size 432x288 with 2 Axes>"
      ]
     },
     "metadata": {},
     "output_type": "display_data"
    }
   ],
   "source": [
    "# In The Ideal World there shouldn't be samples\n",
    "\n",
    "sample_array = np.array([0.5796, 0.6762, 0.6932, 0.746 , 0.7774, 0.7904, 0.8041, 0.809 , 0.8161, 0.8202])\n",
    "sample_std = np.array([0.00349743, 0.00174057, 0.00183586, 0.00230946, 0.00158669,\n",
    "                       0.00217127, 0.00351795, 0.00172673, 0.00089084, 0.00127216])\n",
    "\n",
    "plt.figure(1)\n",
    "\n",
    "plt.subplot(211)\n",
    "plt.plot(n_comp, sample_array, 'r')\n",
    "plt.xlabel(r\"$n_{comp}$\")\n",
    "plt.ylabel(r\"$Accuracy$\")\n",
    "\n",
    "\n",
    "plt.subplot(212)\n",
    "plt.plot(n_comp, sample_std)\n",
    "plt.xlabel(r\"$n_{comp}$\")\n",
    "plt.ylabel(r\"$\\sigma$\")\n",
    "\n",
    "plt.show()"
   ]
  },
  {
   "cell_type": "markdown",
   "metadata": {},
   "source": [
    "### Вывод:\n",
    "\n",
    "Получена зависимость функции качества от числа главных компонент в методе PCA. График дисперсии получился менее содержательным ввиду ограниченности вычислительной мощности и неоптимизированной функции accuracy_value."
   ]
  }
 ],
 "metadata": {
  "kernelspec": {
   "display_name": "Python 3",
   "language": "python",
   "name": "python3"
  },
  "language_info": {
   "codemirror_mode": {
    "name": "ipython",
    "version": 3
   },
   "file_extension": ".py",
   "mimetype": "text/x-python",
   "name": "python",
   "nbconvert_exporter": "python",
   "pygments_lexer": "ipython3",
   "version": "3.6.5"
  }
 },
 "nbformat": 4,
 "nbformat_minor": 2
}
