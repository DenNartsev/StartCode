{
  "nbformat": 4,
  "nbformat_minor": 0,
  "metadata": {
    "colab": {
      "name": "MNIST_dev_analysis.ipynb",
      "version": "0.3.2",
      "provenance": [],
      "collapsed_sections": []
    },
    "kernelspec": {
      "display_name": "Python 3",
      "language": "python",
      "name": "python3"
    }
  },
  "cells": [
    {
      "metadata": {
        "id": "L535OQfiXUcy",
        "colab_type": "text"
      },
      "cell_type": "markdown",
      "source": [
        "# Пробный анализ ошибки в задаче MNIST\n",
        "Рассчитано среднее значение ошибки и стандартное отклонение на обучении и контроле."
      ]
    },
    {
      "metadata": {
        "id": "LZQOJN_RXUc0",
        "colab_type": "code",
        "colab": {}
      },
      "cell_type": "code",
      "source": [
        "import keras\n",
        "import numpy as np\n",
        "import matplotlib.pyplot as plt\n",
        "from skimage import transform"
      ],
      "execution_count": 0,
      "outputs": []
    },
    {
      "metadata": {
        "id": "kj26wthWXUc6",
        "colab_type": "code",
        "colab": {
          "base_uri": "https://localhost:8080/",
          "height": 365
        },
        "outputId": "3ce53d88-8ec4-4d33-ccba-363d1cd45171"
      },
      "cell_type": "code",
      "source": [
        "from keras.datasets import fashion_mnist\n",
        "\n",
        "(X_train, y_train), (X_test, y_test) = fashion_mnist.load_data()\n",
        "\n",
        "# Check successful loading\n",
        "plt.imshow(X_train[7])"
      ],
      "execution_count": 111,
      "outputs": [
        {
          "output_type": "execute_result",
          "data": {
            "text/plain": [
              "<matplotlib.image.AxesImage at 0x7fef89167438>"
            ]
          },
          "metadata": {
            "tags": []
          },
          "execution_count": 111
        },
        {
          "output_type": "display_data",
          "data": {
            "image/png": "[encoded data removed]",
            "text/plain": [
              "<matplotlib.figure.Figure at 0x7fef891ad6a0>"
            ]
          },
          "metadata": {
            "tags": []
          }
        }
      ]
    },
    {
      "metadata": {
        "id": "9EEOav2-XUc-",
        "colab_type": "code",
        "colab": {}
      },
      "cell_type": "code",
      "source": [
        "from sklearn.linear_model import LogisticRegression\n",
        "from sklearn.metrics import accuracy_score\n",
        "from sklearn.decomposition import PCA"
      ],
      "execution_count": 0,
      "outputs": []
    },
    {
      "metadata": {
        "id": "dZn1Y8pAXUdB",
        "colab_type": "code",
        "colab": {}
      },
      "cell_type": "code",
      "source": [
        "# Samples quantity\n",
        "n_samples = 1000\n",
        "\n",
        "# Components amount\n",
        "n_comp = np.array([3, 5, 7, 12, 18, 25, 33, 40, 48, 55])\n",
        "\n",
        "# Number of iterations for measuring average and std\n",
        "iter_count = 8"
      ],
      "execution_count": 0,
      "outputs": []
    },
    {
      "metadata": {
        "id": "IIpzrPwZXUdD",
        "colab_type": "code",
        "colab": {}
      },
      "cell_type": "code",
      "source": [
        "def get_rest_indices(ind, size):\n",
        "    \"\"\"\n",
        "    Returns indices in range of 'size' besides 'ind'\n",
        "    \"\"\"\n",
        "    temp_arr = np.zeros(size, dtype=\"int32\")\n",
        "    temp_arr[ind] = ind\n",
        "    new_ind = np.arange(size) - temp_arr\n",
        "    \n",
        "    return new_ind"
      ],
      "execution_count": 0,
      "outputs": []
    },
    {
      "metadata": {
        "id": "573JldZyXUdI",
        "colab_type": "code",
        "colab": {
          "base_uri": "https://localhost:8080/",
          "height": 191
        },
        "outputId": "f7c291d2-96fe-4fa1-cb39-975e590ceb7b"
      },
      "cell_type": "code",
      "source": [
        "lr = LogisticRegression()\n",
        "\n",
        "# Data containers for future graphics drawing\n",
        "train_temp_dict = {}\n",
        "control_temp_dict = {}\n",
        "\n",
        "for amount in n_comp:\n",
        "    pca = PCA(n_components=amount)\n",
        "    \n",
        "    # Temporary arrays for mean and std measuring\n",
        "    current_accuracy_train = np.zeros(iter_count)\n",
        "    current_accuracy_control = np.zeros(iter_count)\n",
        "    \n",
        "    print(f\"Computing for {amount} components...\", end='')\n",
        "    \n",
        "    for idx in range(iter_count):\n",
        "        # Divide sample on train and control randomly without replacing\n",
        "        used_indices_train = np.random.choice(np.arange(X_train.shape[0]),\n",
        "                                              n_samples, replace=False)\n",
        "        rest_indices = get_rest_indices(used_indices_train, X_train.shape[0])\n",
        "        used_indices_control = np.random.choice(np.arange(X_train.shape[0])[rest_indices],\n",
        "                                                n_samples, replace=False)\n",
        "        \n",
        "        # Applying PCA decomposition\n",
        "        X_train_chosen = pca.fit_transform(X_train[used_indices_train].reshape([-1, 784]))\n",
        "        X_control_chosen = pca.transform(X_train[used_indices_control].reshape([-1, 784]))\n",
        "        \n",
        "        lr.fit(X_train_chosen, y_train[used_indices_train])\n",
        "        \n",
        "        current_accuracy_train[idx] = accuracy_score(y_train[used_indices_train],\n",
        "                                                     lr.predict(X_train_chosen))\n",
        "        current_accuracy_control[idx] = accuracy_score(y_train[used_indices_control],\n",
        "                                                       lr.predict(X_control_chosen))\n",
        "    print(\"Done\")\n",
        "    \n",
        "    train_temp_dict[amount] = [current_accuracy_train.mean(),\n",
        "                               current_accuracy_train.std()]\n",
        "    control_temp_dict[amount] = [current_accuracy_control.mean(),\n",
        "                                 current_accuracy_control.std()]"
      ],
      "execution_count": 110,
      "outputs": [
        {
          "output_type": "stream",
          "text": [
            "Computing for 3 components...Done\n",
            "Computing for 5 components...Done\n",
            "Computing for 7 components...Done\n",
            "Computing for 12 components...Done\n",
            "Computing for 18 components...Done\n",
            "Computing for 25 components...Done\n",
            "Computing for 33 components...Done\n",
            "Computing for 40 components...Done\n",
            "Computing for 48 components...Done\n",
            "Computing for 55 components...Done\n"
          ],
          "name": "stdout"
        }
      ]
    },
    {
      "metadata": {
        "id": "c81-l9he0Hq6",
        "colab_type": "text"
      },
      "cell_type": "markdown",
      "source": [
        "Комментарий: больше нет проблемы с длительностью вычислений, как в ДЗ №2 $-$ помог colab"
      ]
    },
    {
      "metadata": {
        "id": "0CW42mV0maT5",
        "colab_type": "code",
        "colab": {
          "base_uri": "https://localhost:8080/",
          "height": 398
        },
        "outputId": "bd23eab0-fdf2-4150-90f2-10ae632a6f0d"
      },
      "cell_type": "code",
      "source": [
        "fig, ax = plt.subplots(1)\n",
        "\n",
        "train_array = np.array([mean for mean in train_temp_dict.values()])\n",
        "mu_train = train_array[:, 0]\n",
        "sigma_train = train_array[:, 1]\n",
        "\n",
        "control_array = np.array([mean for mean in control_temp_dict.values()])\n",
        "mu_control = control_array[:, 0]\n",
        "sigma_control = control_array[:, 1]\n",
        "\n",
        "ax.plot(n_comp, mu_train, 'b', label='mean train accuracy')\n",
        "ax.plot(n_comp, mu_control, 'g', label='mean control accuracy')\n",
        "ax.fill_between(n_comp, mu_train+sigma_train, mu_train-sigma_train,\n",
        "               facecolor='blue', alpha=0.5)\n",
        "ax.fill_between(n_comp, mu_control+sigma_control, mu_control-sigma_control,\n",
        "               facecolor='green', alpha=0.5)\n",
        "ax.set_title(r\"Deviation analisys graph\")\n",
        "ax.set_xlabel(r\"$n_{comp}$\")\n",
        "ax.set_ylim(top=1)\n",
        "ax.legend(loc='upper left')"
      ],
      "execution_count": 114,
      "outputs": [
        {
          "output_type": "execute_result",
          "data": {
            "text/plain": [
              "<matplotlib.legend.Legend at 0x7fef89036438>"
            ]
          },
          "metadata": {
            "tags": []
          },
          "execution_count": 114
        },
        {
          "output_type": "display_data",
          "data": {
            "image/png": "[encoded data removed]",
            "text/plain": [
              "<matplotlib.figure.Figure at 0x7fef890decc0>"
            ]
          },
          "metadata": {
            "tags": []
          }
        }
      ]
    },
    {
      "metadata": {
        "id": "j7ZXZlukyrw3",
        "colab_type": "text"
      },
      "cell_type": "markdown",
      "source": [
        "Комментарий: данное решение также является улучшенной версией ДЗ №2"
      ]
    }
  ]
}