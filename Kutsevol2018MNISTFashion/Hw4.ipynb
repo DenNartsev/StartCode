{
  "nbformat": 4,
  "nbformat_minor": 0,
  "metadata": {
    "colab": {
      "name": "Hw4.ipynb",
      "version": "0.3.2",
      "provenance": []
    },
    "kernelspec": {
      "name": "python3",
      "display_name": "Python 3"
    },
    "accelerator": "GPU"
  },
  "cells": [
    {
      "metadata": {
        "id": "kX7TS9d9zW1Q",
        "colab_type": "code",
        "colab": {
          "base_uri": "https://localhost:8080/",
          "height": 34
        },
        "outputId": "af8c07bb-f2c0-43f5-da21-41ab8c020aa5"
      },
      "cell_type": "code",
      "source": [
        "from __future__ import print_function\n",
        "\n",
        "import numpy as np\n",
        "\n",
        "from keras.callbacks import EarlyStopping\n",
        "from keras.datasets import cifar10\n",
        "from keras.models import Sequential\n",
        "from keras.layers.core import Dense, Dropout, Flatten\n",
        "from keras.layers.convolutional import Conv2D\n",
        "from keras.optimizers import Adam\n",
        "from keras.layers.pooling import MaxPooling2D\n",
        "from keras.utils import to_categorical\n",
        "import tensorflow as tf\n",
        "from tqdm import tqdm\n",
        "import matplotlib.pyplot as plt\n",
        "\n",
        "tf.test.gpu_device_name()"
      ],
      "execution_count": 18,
      "outputs": [
        {
          "output_type": "execute_result",
          "data": {
            "text/plain": [
              "'/device:GPU:0'"
            ]
          },
          "metadata": {
            "tags": []
          },
          "execution_count": 18
        }
      ]
    },
    {
      "metadata": {
        "id": "5oGsmEMxoaeJ",
        "colab_type": "code",
        "colab": {}
      },
      "cell_type": "code",
      "source": [
        "(x_train, y_train), (x_test, y_test) = tf.keras.datasets.fashion_mnist.load_data()\n",
        "x_train = x_train.astype('float32') / 255\n",
        "x_test = x_test.astype('float32') / 255\n"
      ],
      "execution_count": 0,
      "outputs": []
    },
    {
      "metadata": {
        "id": "6UCmMW3ymyfl",
        "colab_type": "code",
        "colab": {
          "base_uri": "https://localhost:8080/",
          "height": 86
        },
        "outputId": "96d29286-79e6-4472-c3f1-2dce1e15f572"
      },
      "cell_type": "code",
      "source": [
        "(x_train, x_valid) = x_train[5000:], x_train[:5000] \n",
        "(y_train, y_valid) = y_train[5000:], y_train[:5000]\n",
        "\n",
        "w, h = 28, 28\n",
        "x_train = x_train.reshape(x_train.shape[0], w, h, 1)\n",
        "x_valid = x_valid.reshape(x_valid.shape[0], w, h, 1)\n",
        "x_test = x_test.reshape(x_test.shape[0], w, h, 1)\n",
        "\n",
        "y_train = tf.keras.utils.to_categorical(y_train, 10)\n",
        "y_valid = tf.keras.utils.to_categorical(y_valid, 10)\n",
        "y_test = tf.keras.utils.to_categorical(y_test, 10)\n",
        "\n",
        "print(\"x_train shape:\", x_train.shape, \"y_train shape:\", y_train.shape)\n",
        "\n",
        "print(x_train.shape[0], 'train set')\n",
        "print(x_valid.shape[0], 'validation set')\n",
        "print(x_test.shape[0], 'test set')"
      ],
      "execution_count": 4,
      "outputs": [
        {
          "output_type": "stream",
          "text": [
            "x_train shape: (55000, 28, 28, 1) y_train shape: (55000, 10)\n",
            "55000 train set\n",
            "5000 validation set\n",
            "10000 test set\n"
          ],
          "name": "stdout"
        }
      ]
    },
    {
      "metadata": {
        "id": "mHEc-fgkp5bI",
        "colab_type": "code",
        "colab": {}
      },
      "cell_type": "code",
      "source": [
        "def create_model():\n",
        "    model = Sequential()\n",
        "\n",
        "    model.add(Conv2D(filters=64, kernel_size=2, padding='same', activation='relu', input_shape=(28,28,1))) \n",
        "    model.add(MaxPooling2D(pool_size=2))\n",
        "    model.add(Dropout(0.3))\n",
        "\n",
        "    model.add(Conv2D(filters=32, kernel_size=2, padding='same', activation='relu'))\n",
        "    model.add(MaxPooling2D(pool_size=2))\n",
        "    model.add(Dropout(0.3))\n",
        "\n",
        "    model.add(Flatten())\n",
        "    model.add(Dense(256, activation='relu'))\n",
        "    model.add(Dropout(0.5))\n",
        "    model.add(Dense(10, activation='softmax'))\n",
        "    return model"
      ],
      "execution_count": 0,
      "outputs": []
    },
    {
      "metadata": {
        "id": "HLwVILvkqC2p",
        "colab_type": "code",
        "colab": {}
      },
      "cell_type": "code",
      "source": [
        "def fit_model(X):\n",
        "    model = create_model()\n",
        "    model.compile(loss='categorical_crossentropy',\n",
        "                  optimizer=Adam(lr=0.0001, decay=1e-6),\n",
        "                  metrics=['accuracy'])\n",
        "\n",
        "    history = model.fit(X,\n",
        "                       y_train,\n",
        "                       batch_size=64,\n",
        "                       epochs=10,\n",
        "                       validation_data=(x_valid, y_valid))\n",
        "    return history"
      ],
      "execution_count": 0,
      "outputs": []
    },
    {
      "metadata": {
        "id": "U62PPGiTpF3e",
        "colab_type": "code",
        "colab": {}
      },
      "cell_type": "code",
      "source": [
        "def add_noise(X, cov):\n",
        "  for i, img in enumerate(X):\n",
        "    X[i] = np.clip(img + np.random.normal(0.0, cov, img.shape), 0, 1.0)"
      ],
      "execution_count": 0,
      "outputs": []
    },
    {
      "metadata": {
        "id": "lvoogniqpej3",
        "colab_type": "code",
        "colab": {
          "base_uri": "https://localhost:8080/",
          "height": 1997
        },
        "outputId": "8cac8cb8-c8c7-42e6-b977-0e19e0ae846a"
      },
      "cell_type": "code",
      "source": [
        "history = []\n",
        "for cov in tqdm(np.arange(0.01, 0.7, 0.2)):\n",
        "  X = np.copy(x_train)\n",
        "  add_noise(X, cov)\n",
        "  history.append(fit_model(X))"
      ],
      "execution_count": 24,
      "outputs": [
        {
          "output_type": "stream",
          "text": [
            "\n",
            "\n",
            "\n",
            "\n",
            "\n",
            "  0%|          | 0/4 [00:00<?, ?it/s]\u001b[A\u001b[A\u001b[A\u001b[A\u001b[A"
          ],
          "name": "stderr"
        },
        {
          "output_type": "stream",
          "text": [
            "Train on 55000 samples, validate on 5000 samples\n",
            "Epoch 1/10\n",
            "55000/55000 [==============================] - 13s 228us/step - loss: 1.0561 - acc: 0.6161 - val_loss: 0.6128 - val_acc: 0.7848\n",
            "Epoch 2/10\n",
            "55000/55000 [==============================] - 11s 204us/step - loss: 0.6596 - acc: 0.7544 - val_loss: 0.5044 - val_acc: 0.8262\n",
            "Epoch 3/10\n",
            "55000/55000 [==============================] - 11s 201us/step - loss: 0.5810 - acc: 0.7856 - val_loss: 0.4598 - val_acc: 0.8432\n",
            "Epoch 4/10\n",
            "55000/55000 [==============================] - 11s 201us/step - loss: 0.5421 - acc: 0.8002 - val_loss: 0.4332 - val_acc: 0.8486\n",
            "Epoch 5/10\n",
            "55000/55000 [==============================] - 11s 199us/step - loss: 0.5117 - acc: 0.8119 - val_loss: 0.4151 - val_acc: 0.8576\n",
            "Epoch 6/10\n",
            "55000/55000 [==============================] - 11s 198us/step - loss: 0.4902 - acc: 0.8215 - val_loss: 0.3990 - val_acc: 0.8632\n",
            "Epoch 7/10\n",
            "55000/55000 [==============================] - 11s 197us/step - loss: 0.4745 - acc: 0.8271 - val_loss: 0.3900 - val_acc: 0.8606\n",
            "Epoch 8/10\n",
            "55000/55000 [==============================] - 11s 196us/step - loss: 0.4584 - acc: 0.8311 - val_loss: 0.3764 - val_acc: 0.8668\n",
            "Epoch 9/10\n",
            "55000/55000 [==============================] - 11s 197us/step - loss: 0.4459 - acc: 0.8362 - val_loss: 0.3699 - val_acc: 0.8678\n",
            "Epoch 10/10\n",
            "55000/55000 [==============================] - 11s 196us/step - loss: 0.4374 - acc: 0.8395 - val_loss: 0.3580 - val_acc: 0.8710\n"
          ],
          "name": "stdout"
        },
        {
          "output_type": "stream",
          "text": [
            "\n",
            "\n",
            "\n",
            "\n",
            "\n",
            " 25%|██▌       | 1/4 [01:54<05:43, 114.65s/it]\u001b[A\u001b[A\u001b[A\u001b[A\u001b[A"
          ],
          "name": "stderr"
        },
        {
          "output_type": "stream",
          "text": [
            "Train on 55000 samples, validate on 5000 samples\n",
            "Epoch 1/10\n",
            "55000/55000 [==============================] - 12s 219us/step - loss: 1.1824 - acc: 0.5659 - val_loss: 0.7250 - val_acc: 0.7290\n",
            "Epoch 2/10\n",
            "55000/55000 [==============================] - 11s 198us/step - loss: 0.7501 - acc: 0.7210 - val_loss: 0.5946 - val_acc: 0.7860\n",
            "Epoch 3/10\n",
            "55000/55000 [==============================] - 11s 198us/step - loss: 0.6720 - acc: 0.7494 - val_loss: 0.5370 - val_acc: 0.8050\n",
            "Epoch 4/10\n",
            "55000/55000 [==============================] - 11s 200us/step - loss: 0.6221 - acc: 0.7663 - val_loss: 0.4945 - val_acc: 0.8286\n",
            "Epoch 5/10\n",
            "55000/55000 [==============================] - 11s 199us/step - loss: 0.5896 - acc: 0.7782 - val_loss: 0.4683 - val_acc: 0.8368\n",
            "Epoch 6/10\n",
            "55000/55000 [==============================] - 11s 198us/step - loss: 0.5642 - acc: 0.7892 - val_loss: 0.4537 - val_acc: 0.8394\n",
            "Epoch 7/10\n",
            "55000/55000 [==============================] - 11s 198us/step - loss: 0.5467 - acc: 0.7957 - val_loss: 0.4355 - val_acc: 0.8496\n",
            "Epoch 8/10\n",
            "55000/55000 [==============================] - 11s 197us/step - loss: 0.5316 - acc: 0.8030 - val_loss: 0.4264 - val_acc: 0.8504\n",
            "Epoch 9/10\n",
            "55000/55000 [==============================] - 11s 197us/step - loss: 0.5164 - acc: 0.8082 - val_loss: 0.4153 - val_acc: 0.8534\n",
            "Epoch 10/10\n",
            "55000/55000 [==============================] - 11s 198us/step - loss: 0.5066 - acc: 0.8114 - val_loss: 0.4093 - val_acc: 0.8532\n"
          ],
          "name": "stdout"
        },
        {
          "output_type": "stream",
          "text": [
            "\n",
            "\n",
            "\n",
            "\n",
            "\n",
            " 50%|█████     | 2/4 [03:48<03:48, 114.33s/it]\u001b[A\u001b[A\u001b[A\u001b[A\u001b[A"
          ],
          "name": "stderr"
        },
        {
          "output_type": "stream",
          "text": [
            "Train on 55000 samples, validate on 5000 samples\n",
            "Epoch 1/10\n",
            "55000/55000 [==============================] - 12s 220us/step - loss: 1.3192 - acc: 0.5153 - val_loss: 0.7767 - val_acc: 0.7142\n",
            "Epoch 2/10\n",
            "55000/55000 [==============================] - 11s 202us/step - loss: 0.8428 - acc: 0.6850 - val_loss: 0.6659 - val_acc: 0.7490\n",
            "Epoch 3/10\n",
            "55000/55000 [==============================] - 11s 202us/step - loss: 0.7697 - acc: 0.7088 - val_loss: 0.6214 - val_acc: 0.7676\n",
            "Epoch 4/10\n",
            "55000/55000 [==============================] - 11s 202us/step - loss: 0.7307 - acc: 0.7223 - val_loss: 0.5830 - val_acc: 0.7870\n",
            "Epoch 5/10\n",
            "55000/55000 [==============================] - 11s 201us/step - loss: 0.7030 - acc: 0.7348 - val_loss: 0.5642 - val_acc: 0.7924\n",
            "Epoch 6/10\n",
            "55000/55000 [==============================] - 11s 200us/step - loss: 0.6797 - acc: 0.7405 - val_loss: 0.5425 - val_acc: 0.8044\n",
            "Epoch 7/10\n",
            "55000/55000 [==============================] - 11s 200us/step - loss: 0.6642 - acc: 0.7473 - val_loss: 0.5275 - val_acc: 0.8118\n",
            "Epoch 8/10\n",
            "55000/55000 [==============================] - 11s 204us/step - loss: 0.6483 - acc: 0.7531 - val_loss: 0.5133 - val_acc: 0.8138\n",
            "Epoch 9/10\n",
            "55000/55000 [==============================] - 11s 204us/step - loss: 0.6362 - acc: 0.7573 - val_loss: 0.5123 - val_acc: 0.8150\n",
            "Epoch 10/10\n",
            "55000/55000 [==============================] - 11s 199us/step - loss: 0.6280 - acc: 0.7600 - val_loss: 0.5007 - val_acc: 0.8222\n"
          ],
          "name": "stdout"
        },
        {
          "output_type": "stream",
          "text": [
            "\n",
            "\n",
            "\n",
            "\n",
            "\n",
            " 75%|███████▌  | 3/4 [05:43<01:54, 114.70s/it]\u001b[A\u001b[A\u001b[A\u001b[A\u001b[A"
          ],
          "name": "stderr"
        },
        {
          "output_type": "stream",
          "text": [
            "Train on 55000 samples, validate on 5000 samples\n",
            "Epoch 1/10\n",
            "55000/55000 [==============================] - 12s 225us/step - loss: 1.4955 - acc: 0.4506 - val_loss: 0.8590 - val_acc: 0.6736\n",
            "Epoch 2/10\n",
            "55000/55000 [==============================] - 11s 202us/step - loss: 0.9492 - acc: 0.6454 - val_loss: 0.7488 - val_acc: 0.7216\n",
            "Epoch 3/10\n",
            "55000/55000 [==============================] - 11s 199us/step - loss: 0.8776 - acc: 0.6689 - val_loss: 0.7122 - val_acc: 0.7268\n",
            "Epoch 4/10\n",
            "55000/55000 [==============================] - 11s 198us/step - loss: 0.8332 - acc: 0.6860 - val_loss: 0.6776 - val_acc: 0.7426\n",
            "Epoch 5/10\n",
            "55000/55000 [==============================] - 11s 198us/step - loss: 0.8020 - acc: 0.6950 - val_loss: 0.6482 - val_acc: 0.7512\n",
            "Epoch 6/10\n",
            "55000/55000 [==============================] - 11s 197us/step - loss: 0.7826 - acc: 0.7021 - val_loss: 0.6389 - val_acc: 0.7610\n",
            "Epoch 7/10\n",
            "55000/55000 [==============================] - 11s 198us/step - loss: 0.7649 - acc: 0.7088 - val_loss: 0.6174 - val_acc: 0.7818\n",
            "Epoch 8/10\n",
            "55000/55000 [==============================] - 11s 198us/step - loss: 0.7497 - acc: 0.7138 - val_loss: 0.6082 - val_acc: 0.7760\n",
            "Epoch 9/10\n",
            "55000/55000 [==============================] - 11s 198us/step - loss: 0.7345 - acc: 0.7207 - val_loss: 0.5989 - val_acc: 0.7796\n",
            "Epoch 10/10\n",
            "55000/55000 [==============================] - 11s 200us/step - loss: 0.7249 - acc: 0.7230 - val_loss: 0.5956 - val_acc: 0.7852\n"
          ],
          "name": "stdout"
        },
        {
          "output_type": "stream",
          "text": [
            "\n",
            "\n",
            "\n",
            "\n",
            "\n",
            "100%|██████████| 4/4 [07:38<00:00, 114.60s/it]\u001b[A\u001b[A\u001b[A\u001b[A\u001b[A\n",
            "\n",
            "\n",
            "\n",
            "\n",
            "\u001b[A\u001b[A\u001b[A\u001b[A\u001b[A"
          ],
          "name": "stderr"
        }
      ]
    },
    {
      "metadata": {
        "id": "r3-LE3msnZNB",
        "colab_type": "code",
        "colab": {}
      },
      "cell_type": "code",
      "source": [
        "data = []\n",
        "for h in history:\n",
        "  data.append(h.history['val_loss'])\n"
      ],
      "execution_count": 0,
      "outputs": []
    },
    {
      "metadata": {
        "id": "DAcIZAISXYqz",
        "colab_type": "code",
        "colab": {
          "base_uri": "https://localhost:8080/",
          "height": 361
        },
        "outputId": "e20bb725-aa17-4448-9e9d-51bf9f265d43"
      },
      "cell_type": "code",
      "source": [
        "epoch = np.arange(1, 11, 1)\n",
        "for d in data:\n",
        "  plt.plot(epoch, d)\n",
        "\n",
        "plt.ylabel('Loss')\n",
        "plt.xlabel('Epoch')\n",
        "plt.legend(['sigma 0.01', 'sigma 0.21', 'sigma 0.41', 'sigma 0.61'])\n",
        "plt.show()"
      ],
      "execution_count": 30,
      "outputs": [
        {
          "output_type": "display_data",
          "data": {
            "image/png": "[encoded data removed]",
            "text/plain": [
              "<matplotlib.figure.Figure at 0x7f45f7633ba8>"
            ]
          },
          "metadata": {
            "tags": []
          }
        }
      ]
    },
    {
      "metadata": {
        "id": "xinNLFADXo9k",
        "colab_type": "code",
        "colab": {}
      },
      "cell_type": "code",
      "source": [
        ""
      ],
      "execution_count": 0,
      "outputs": []
    }
  ]
}