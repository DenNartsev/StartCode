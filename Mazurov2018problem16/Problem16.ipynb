{
 "cells": [
  {
   "cell_type": "markdown",
   "metadata": {},
   "source": [
    "Problem 16: По описанию условий посева предсказать прорастут семена растений или нет. Провести бинарную классификацию семян с помощью метода Парзеновского окна. Построить график зависимости ошибки на контроле от ширины окна. Подобрать оптимальную ширину окна."
   ]
  },
  {
   "cell_type": "code",
   "execution_count": null,
   "metadata": {
    "collapsed": true
   },
   "outputs": [],
   "source": [
    "Сп"
   ]
  },
  {
   "cell_type": "code",
   "execution_count": null,
   "metadata": {
    "collapsed": true
   },
   "outputs": [],
   "source": [
    "#импортируем нужные модули\n",
    "import numpy as np\n",
    "import pandas as pd\n",
    "import matplotlib.pyplot as plt\n",
    "from sklearn import cross_validation\n",
    "from sklearn import neighbors\n",
    "from sklearn import metrics"
   ]
  },
  {
   "cell_type": "code",
   "execution_count": 30,
   "metadata": {
    "scrolled": true
   },
   "outputs": [
    {
     "data": {
      "text/html": [
       "<div>\n",
       "<style>\n",
       "    .dataframe thead tr:only-child th {\n",
       "        text-align: right;\n",
       "    }\n",
       "\n",
       "    .dataframe thead th {\n",
       "        text-align: left;\n",
       "    }\n",
       "\n",
       "    .dataframe tbody tr th {\n",
       "        vertical-align: top;\n",
       "    }\n",
       "</style>\n",
       "<table border=\"1\" class=\"dataframe\">\n",
       "  <thead>\n",
       "    <tr style=\"text-align: right;\">\n",
       "      <th></th>\n",
       "      <th>Season</th>\n",
       "      <th>Age</th>\n",
       "      <th>Diseases</th>\n",
       "      <th>Traumas</th>\n",
       "      <th>Surguries</th>\n",
       "      <th>Fevers</th>\n",
       "      <th>Alcohol_Consumption</th>\n",
       "      <th>Smoking</th>\n",
       "      <th>Sitting_time</th>\n",
       "      <th>Output</th>\n",
       "    </tr>\n",
       "  </thead>\n",
       "  <tbody>\n",
       "    <tr>\n",
       "      <th>0</th>\n",
       "      <td>-0.33</td>\n",
       "      <td>0.69</td>\n",
       "      <td>0</td>\n",
       "      <td>1</td>\n",
       "      <td>1</td>\n",
       "      <td>0</td>\n",
       "      <td>0.8</td>\n",
       "      <td>0</td>\n",
       "      <td>0.88</td>\n",
       "      <td>N</td>\n",
       "    </tr>\n",
       "    <tr>\n",
       "      <th>1</th>\n",
       "      <td>-0.33</td>\n",
       "      <td>0.94</td>\n",
       "      <td>1</td>\n",
       "      <td>0</td>\n",
       "      <td>1</td>\n",
       "      <td>0</td>\n",
       "      <td>0.8</td>\n",
       "      <td>1</td>\n",
       "      <td>0.31</td>\n",
       "      <td>O</td>\n",
       "    </tr>\n",
       "    <tr>\n",
       "      <th>2</th>\n",
       "      <td>-0.33</td>\n",
       "      <td>0.50</td>\n",
       "      <td>1</td>\n",
       "      <td>0</td>\n",
       "      <td>0</td>\n",
       "      <td>0</td>\n",
       "      <td>1.0</td>\n",
       "      <td>-1</td>\n",
       "      <td>0.50</td>\n",
       "      <td>N</td>\n",
       "    </tr>\n",
       "    <tr>\n",
       "      <th>3</th>\n",
       "      <td>-0.33</td>\n",
       "      <td>0.75</td>\n",
       "      <td>0</td>\n",
       "      <td>1</td>\n",
       "      <td>1</td>\n",
       "      <td>0</td>\n",
       "      <td>1.0</td>\n",
       "      <td>-1</td>\n",
       "      <td>0.38</td>\n",
       "      <td>N</td>\n",
       "    </tr>\n",
       "    <tr>\n",
       "      <th>4</th>\n",
       "      <td>-0.33</td>\n",
       "      <td>0.67</td>\n",
       "      <td>1</td>\n",
       "      <td>1</td>\n",
       "      <td>0</td>\n",
       "      <td>0</td>\n",
       "      <td>0.8</td>\n",
       "      <td>-1</td>\n",
       "      <td>0.50</td>\n",
       "      <td>O</td>\n",
       "    </tr>\n",
       "  </tbody>\n",
       "</table>\n",
       "</div>"
      ],
      "text/plain": [
       "   Season   Age  Diseases  Traumas  Surguries  Fevers  Alcohol_Consumption  \\\n",
       "0   -0.33  0.69         0        1          1       0                  0.8   \n",
       "1   -0.33  0.94         1        0          1       0                  0.8   \n",
       "2   -0.33  0.50         1        0          0       0                  1.0   \n",
       "3   -0.33  0.75         0        1          1       0                  1.0   \n",
       "4   -0.33  0.67         1        1          0       0                  0.8   \n",
       "\n",
       "   Smoking  Sitting_time Output  \n",
       "0        0          0.88      N  \n",
       "1        1          0.31      O  \n",
       "2       -1          0.50      N  \n",
       "3       -1          0.38      N  \n",
       "4       -1          0.50      O  "
      ]
     },
     "execution_count": 30,
     "metadata": {},
     "output_type": "execute_result"
    }
   ],
   "source": [
    "#Обрабатываем данные, создаем переменную с тренировочными данными: входы и цели\n",
    "upper_row = ['Season','Age','Diseases','Traumas','Surguries','Fevers','Alcohol_Consumption','Smoking','Sitting_time','Output']\n",
    "dataframe  = pd.read_csv('fertility_Diagnosis.txt',names = upper_row ,sep = ',');\n",
    "Targets = dataframe['Output']\n",
    "Inputs = dataframe[['Season','Age','Diseases','Traumas','Surguries','Fevers','Alcohol_Consumption','Smoking','Sitting_time']]\n",
    "dataframe.head()"
   ]
  },
  {
   "cell_type": "code",
   "execution_count": 52,
   "metadata": {
    "collapsed": true,
    "scrolled": true
   },
   "outputs": [],
   "source": [
    "#проводим перемешивание данных для тренировки классификатора и проверки работы\n",
    "Inputs_train, Inputs_test, Targets_train, Targets_test = cross_validation.train_test_split(dataframe.loc[:, dataframe.columns != 'Output'], dataframe['Output'], test_size=0.2)"
   ]
  },
  {
   "cell_type": "code",
   "execution_count": 53,
   "metadata": {},
   "outputs": [],
   "source": [
    "#экспериментально определяем, что для большинства выборок радиус классификатора менее 2.0 не находит \n",
    "#для некоторых элементов соседей, соответственно, обрывая работу алгоритма. Экспериментально пробуя изменять \n",
    "#шаг радиуса, понимаем, что точность алгоритма меняется при шаге ~0.1 наглядно\n",
    "accuracy_arr = []\n",
    "a = np.linspace(2.0,3.5,10)\n",
    "for i in a:\n",
    "    neighbor = neighbors.RadiusNeighborsClassifier(radius = int(i),weights = 'distance',metric= 'manhattan')\n",
    "    neighbor.fit(Inputs_train,Targets_train)\n",
    "    predictions = neighbor.predict(Inputs_test)\n",
    "    accuracy = metrics.accuracy_score(Targets_test, predictions)\n",
    "    accuracy_arr.append(accuracy)\n",
    "    "
   ]
  },
  {
   "cell_type": "code",
   "execution_count": 54,
   "metadata": {},
   "outputs": [
    {
     "data": {
      "text/plain": [
       "[0.80000000000000004,\n",
       " 0.80000000000000004,\n",
       " 0.80000000000000004,\n",
       " 0.80000000000000004,\n",
       " 0.80000000000000004,\n",
       " 0.80000000000000004,\n",
       " 0.90000000000000002,\n",
       " 0.90000000000000002,\n",
       " 0.90000000000000002,\n",
       " 0.90000000000000002]"
      ]
     },
     "execution_count": 54,
     "metadata": {},
     "output_type": "execute_result"
    }
   ],
   "source": [
    "accuracy_arr"
   ]
  },
  {
   "cell_type": "code",
   "execution_count": 65,
   "metadata": {},
   "outputs": [
    {
     "data": {
      "image/png": "[encoded data removed]",
      "text/plain": [
       "<matplotlib.figure.Figure at 0x234d67ace80>"
      ]
     },
     "metadata": {},
     "output_type": "display_data"
    }
   ],
   "source": [
    "x = np.linspace(2,3.5,10)\n",
    "plt.figure(figsize=(10, 8))\n",
    "plt.plot(x, accuracy_arr, color='r')\n",
    "plt.show()"
   ]
  },
  {
   "cell_type": "markdown",
   "metadata": {},
   "source": [
    "# Оптимальный радиус окна Парзена - 2.9 "
   ]
  },
  {
   "cell_type": "code",
   "execution_count": 63,
   "metadata": {},
   "outputs": [
    {
     "data": {
      "text/plain": [
       "[0.80000000000000004,\n",
       " 0.90000000000000002,\n",
       " 0.80000000000000004,\n",
       " 0.80000000000000004,\n",
       " 0.80000000000000004]"
      ]
     },
     "execution_count": 63,
     "metadata": {},
     "output_type": "execute_result"
    }
   ],
   "source": [
    "#для примера покажем аналогичную работу классификатора ближайших соседей для этих же данных\n",
    "accuracy_arr_2 = []\n",
    "\n",
    "for k in range(1,6):\n",
    "    neighbor = neighbors.KNeighborsClassifier(n_neighbors = k)\n",
    "    neighbor.fit(Inputs_train,Targets_train)\n",
    "    predictions = neighbor.predict(Inputs_test)\n",
    "    accuracy = metrics.accuracy_score(Targets_test, predictions)\n",
    "    accuracy_arr_2.append(accuracy)\n",
    "accuracy_arr_2"
   ]
  },
  {
   "cell_type": "code",
   "execution_count": 64,
   "metadata": {},
   "outputs": [
    {
     "data": {
      "image/png": "[encoded data removed]",
      "text/plain": [
       "<matplotlib.figure.Figure at 0x234d681cac8>"
      ]
     },
     "metadata": {},
     "output_type": "display_data"
    }
   ],
   "source": [
    "x = np.linspace(1,6,5)\n",
    "plt.figure(figsize=(10, 8))\n",
    "plt.plot(x, accuracy_arr_2, color='r')\n",
    "plt.show()"
   ]
  },
  {
   "cell_type": "code",
   "execution_count": null,
   "metadata": {
    "collapsed": true
   },
   "outputs": [],
   "source": []
  }
 ],
 "metadata": {
  "kernelspec": {
   "display_name": "Python 3",
   "language": "python",
   "name": "python3"
  },
  "language_info": {
   "codemirror_mode": {
    "name": "ipython",
    "version": 3
   },
   "file_extension": ".py",
   "mimetype": "text/x-python",
   "name": "python",
   "nbconvert_exporter": "python",
   "pygments_lexer": "ipython3",
   "version": "3.6.1"
  }
 },
 "nbformat": 4,
 "nbformat_minor": 2
}
