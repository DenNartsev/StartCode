{
 "cells": [
  {
   "cell_type": "code",
   "execution_count": 1,
   "metadata": {},
   "outputs": [],
   "source": [
    "import pandas as pd\n",
    "import random\n",
    "import seaborn as sns\n",
    "import numpy as np\n",
    "import matplotlib.pyplot as plt\n",
    "from sklearn.model_selection import train_test_split\n",
    "from sklearn.model_selection import StratifiedKFold, cross_val_score, GridSearchCV, train_test_split\n",
    "from sklearn.linear_model import LogisticRegression, LogisticRegressionCV\n",
    "from sklearn import metrics\n",
    "from sklearn.preprocessing import normalize\n",
    "from pybrain.datasets import ClassificationDataSet\n",
    "from pybrain.tools.shortcuts import buildNetwork\n",
    "from pybrain.supervised.trainers import BackpropTrainer\n",
    "from pybrain.structure.modules import SoftmaxLayer\n",
    "from pybrain.utilities import percentError\n",
    "import xgboost as xgb\n",
    "%matplotlib inline"
   ]
  },
  {
   "cell_type": "markdown",
   "metadata": {},
   "source": [
    "## Цель вычислительного эксперимента"
   ]
  },
  {
   "cell_type": "markdown",
   "metadata": {},
   "source": [
    "Необходимо решить задачу классификации"
   ]
  },
  {
   "cell_type": "markdown",
   "metadata": {},
   "source": [
    "## Описание выборки"
   ]
  },
  {
   "cell_type": "markdown",
   "metadata": {},
   "source": [
    "В выборке представлены медицинские описания онкобольных с заболеванием рака груди, также указано, произошел ли рецидив заболевания. \n",
    "\n",
    "Число объектов в выборке: 286.\n",
    "\n",
    "Число признаков: 9 признаков + признак класса.\n",
    "\n",
    "Информация о признаках:\n",
    "1. Class: no-recurrence-events, recurrence-events\n",
    "2. age: 10-19, 20-29, 30-39, 40-49, 50-59, 60-69, 70-79, 80-89, 90-99.\n",
    "3. menopause: lt40, ge40, premeno.\n",
    "4. tumor-size: 0-4, 5-9, 10-14, 15-19, 20-24, 25-29, 30-34, 35-39, 40-44, 45-49, 50-54, 55-59.\n",
    "5. inv-nodes: 0-2, 3-5, 6-8, 9-11, 12-14, 15-17, 18-20, 21-23, 24-26, 27-29, 30-32, 33-35, 36-39.\n",
    "6. node-caps: yes, no.\n",
    "7. deg-malig: 1, 2, 3.\n",
    "8. breast: left, right.\n",
    "9. breast-quad: left-up, left-low, right-up,\tright-low, central.\n",
    "10. irradiat:\tyes, no.\n",
    "\n",
    "Распределение по классам (имеем дело с несбалансированной выборкой):\n",
    "1. no-recurrence-events: 201 объект\n",
    "2. recurrence-events: 85 объект\n",
    "\n",
    "Если значение признака неизвестно, в выборке указан на его месте символ \"?\"."
   ]
  },
  {
   "cell_type": "markdown",
   "metadata": {},
   "source": [
    "## Загрузка и предобработка выборки"
   ]
  },
  {
   "cell_type": "code",
   "execution_count": 2,
   "metadata": {},
   "outputs": [],
   "source": [
    "data = pd.read_csv(\"https://archive.ics.uci.edu/ml/machine-learning-databases/breast-cancer/breast-cancer.data\", header=None)"
   ]
  },
  {
   "cell_type": "code",
   "execution_count": 3,
   "metadata": {},
   "outputs": [
    {
     "data": {
      "text/html": [
       "<div>\n",
       "<style scoped>\n",
       "    .dataframe tbody tr th:only-of-type {\n",
       "        vertical-align: middle;\n",
       "    }\n",
       "\n",
       "    .dataframe tbody tr th {\n",
       "        vertical-align: top;\n",
       "    }\n",
       "\n",
       "    .dataframe thead th {\n",
       "        text-align: right;\n",
       "    }\n",
       "</style>\n",
       "<table border=\"1\" class=\"dataframe\">\n",
       "  <thead>\n",
       "    <tr style=\"text-align: right;\">\n",
       "      <th></th>\n",
       "      <th>0</th>\n",
       "      <th>1</th>\n",
       "      <th>2</th>\n",
       "      <th>3</th>\n",
       "      <th>4</th>\n",
       "      <th>5</th>\n",
       "      <th>6</th>\n",
       "      <th>7</th>\n",
       "      <th>8</th>\n",
       "      <th>9</th>\n",
       "    </tr>\n",
       "  </thead>\n",
       "  <tbody>\n",
       "    <tr>\n",
       "      <th>0</th>\n",
       "      <td>no-recurrence-events</td>\n",
       "      <td>30-39</td>\n",
       "      <td>premeno</td>\n",
       "      <td>30-34</td>\n",
       "      <td>0-2</td>\n",
       "      <td>no</td>\n",
       "      <td>3</td>\n",
       "      <td>left</td>\n",
       "      <td>left_low</td>\n",
       "      <td>no</td>\n",
       "    </tr>\n",
       "    <tr>\n",
       "      <th>1</th>\n",
       "      <td>no-recurrence-events</td>\n",
       "      <td>40-49</td>\n",
       "      <td>premeno</td>\n",
       "      <td>20-24</td>\n",
       "      <td>0-2</td>\n",
       "      <td>no</td>\n",
       "      <td>2</td>\n",
       "      <td>right</td>\n",
       "      <td>right_up</td>\n",
       "      <td>no</td>\n",
       "    </tr>\n",
       "    <tr>\n",
       "      <th>2</th>\n",
       "      <td>no-recurrence-events</td>\n",
       "      <td>40-49</td>\n",
       "      <td>premeno</td>\n",
       "      <td>20-24</td>\n",
       "      <td>0-2</td>\n",
       "      <td>no</td>\n",
       "      <td>2</td>\n",
       "      <td>left</td>\n",
       "      <td>left_low</td>\n",
       "      <td>no</td>\n",
       "    </tr>\n",
       "    <tr>\n",
       "      <th>3</th>\n",
       "      <td>no-recurrence-events</td>\n",
       "      <td>60-69</td>\n",
       "      <td>ge40</td>\n",
       "      <td>15-19</td>\n",
       "      <td>0-2</td>\n",
       "      <td>no</td>\n",
       "      <td>2</td>\n",
       "      <td>right</td>\n",
       "      <td>left_up</td>\n",
       "      <td>no</td>\n",
       "    </tr>\n",
       "    <tr>\n",
       "      <th>4</th>\n",
       "      <td>no-recurrence-events</td>\n",
       "      <td>40-49</td>\n",
       "      <td>premeno</td>\n",
       "      <td>0-4</td>\n",
       "      <td>0-2</td>\n",
       "      <td>no</td>\n",
       "      <td>2</td>\n",
       "      <td>right</td>\n",
       "      <td>right_low</td>\n",
       "      <td>no</td>\n",
       "    </tr>\n",
       "  </tbody>\n",
       "</table>\n",
       "</div>"
      ],
      "text/plain": [
       "                      0      1        2      3    4   5  6      7          8  \\\n",
       "0  no-recurrence-events  30-39  premeno  30-34  0-2  no  3   left   left_low   \n",
       "1  no-recurrence-events  40-49  premeno  20-24  0-2  no  2  right   right_up   \n",
       "2  no-recurrence-events  40-49  premeno  20-24  0-2  no  2   left   left_low   \n",
       "3  no-recurrence-events  60-69     ge40  15-19  0-2  no  2  right    left_up   \n",
       "4  no-recurrence-events  40-49  premeno    0-4  0-2  no  2  right  right_low   \n",
       "\n",
       "    9  \n",
       "0  no  \n",
       "1  no  \n",
       "2  no  \n",
       "3  no  \n",
       "4  no  "
      ]
     },
     "execution_count": 3,
     "metadata": {},
     "output_type": "execute_result"
    }
   ],
   "source": [
    "data.head()"
   ]
  },
  {
   "cell_type": "code",
   "execution_count": 4,
   "metadata": {},
   "outputs": [
    {
     "name": "stdout",
     "output_type": "stream",
     "text": [
      "<class 'pandas.core.frame.DataFrame'>\n",
      "RangeIndex: 286 entries, 0 to 285\n",
      "Data columns (total 10 columns):\n",
      "0    286 non-null object\n",
      "1    286 non-null object\n",
      "2    286 non-null object\n",
      "3    286 non-null object\n",
      "4    286 non-null object\n",
      "5    286 non-null object\n",
      "6    286 non-null int64\n",
      "7    286 non-null object\n",
      "8    286 non-null object\n",
      "9    286 non-null object\n",
      "dtypes: int64(1), object(9)\n",
      "memory usage: 22.4+ KB\n"
     ]
    }
   ],
   "source": [
    "data.info()"
   ]
  },
  {
   "cell_type": "code",
   "execution_count": 5,
   "metadata": {},
   "outputs": [],
   "source": [
    "data = data.replace('?', np.nan)\n",
    "data = data.replace('5-9', '05-09')\n",
    "data = data.replace('3-5', '03-05')\n",
    "data = data.replace('0-4', '0-04')\n",
    "data = data.replace('0-2', '0-02')\n",
    "data = data.replace('6-8', '06-08')\n",
    "data = data.replace('9-11', '09-11')\n",
    "data = data.replace('no-recurrence-events', 0)\n",
    "data = data.replace('recurrence-events', 1)"
   ]
  },
  {
   "cell_type": "code",
   "execution_count": 6,
   "metadata": {},
   "outputs": [
    {
     "data": {
      "text/plain": [
       "True"
      ]
     },
     "execution_count": 6,
     "metadata": {},
     "output_type": "execute_result"
    }
   ],
   "source": [
    "pd.isnull(data.values).any()"
   ]
  },
  {
   "cell_type": "code",
   "execution_count": 7,
   "metadata": {},
   "outputs": [
    {
     "data": {
      "text/plain": [
       "(286, 10)"
      ]
     },
     "execution_count": 7,
     "metadata": {},
     "output_type": "execute_result"
    }
   ],
   "source": [
    "data.shape"
   ]
  },
  {
   "cell_type": "code",
   "execution_count": 8,
   "metadata": {},
   "outputs": [],
   "source": [
    "data.dropna(inplace=True)"
   ]
  },
  {
   "cell_type": "code",
   "execution_count": 9,
   "metadata": {},
   "outputs": [
    {
     "data": {
      "text/plain": [
       "(277, 10)"
      ]
     },
     "execution_count": 9,
     "metadata": {},
     "output_type": "execute_result"
    }
   ],
   "source": [
    "data.shape"
   ]
  },
  {
   "cell_type": "markdown",
   "metadata": {},
   "source": [
    "Т.к. с неопределенными значениями в выборке всего 9 объектов (что меньше 4% выборки), можем просто исключить их из нее."
   ]
  },
  {
   "cell_type": "code",
   "execution_count": 10,
   "metadata": {},
   "outputs": [],
   "source": [
    "data.columns = ['class', 'age', 'menopause', 'tumor-size', 'inv-nodes', 'node-caps', 'deg-malig', 'breast', 'breast-quad', 'irradiat']"
   ]
  },
  {
   "cell_type": "code",
   "execution_count": 11,
   "metadata": {},
   "outputs": [
    {
     "data": {
      "text/html": [
       "<div>\n",
       "<style scoped>\n",
       "    .dataframe tbody tr th:only-of-type {\n",
       "        vertical-align: middle;\n",
       "    }\n",
       "\n",
       "    .dataframe tbody tr th {\n",
       "        vertical-align: top;\n",
       "    }\n",
       "\n",
       "    .dataframe thead th {\n",
       "        text-align: right;\n",
       "    }\n",
       "</style>\n",
       "<table border=\"1\" class=\"dataframe\">\n",
       "  <thead>\n",
       "    <tr style=\"text-align: right;\">\n",
       "      <th></th>\n",
       "      <th>class</th>\n",
       "      <th>age</th>\n",
       "      <th>menopause</th>\n",
       "      <th>tumor-size</th>\n",
       "      <th>inv-nodes</th>\n",
       "      <th>node-caps</th>\n",
       "      <th>deg-malig</th>\n",
       "      <th>breast</th>\n",
       "      <th>breast-quad</th>\n",
       "      <th>irradiat</th>\n",
       "    </tr>\n",
       "  </thead>\n",
       "  <tbody>\n",
       "    <tr>\n",
       "      <th>0</th>\n",
       "      <td>0</td>\n",
       "      <td>30-39</td>\n",
       "      <td>premeno</td>\n",
       "      <td>30-34</td>\n",
       "      <td>0-02</td>\n",
       "      <td>no</td>\n",
       "      <td>3</td>\n",
       "      <td>left</td>\n",
       "      <td>left_low</td>\n",
       "      <td>no</td>\n",
       "    </tr>\n",
       "    <tr>\n",
       "      <th>1</th>\n",
       "      <td>0</td>\n",
       "      <td>40-49</td>\n",
       "      <td>premeno</td>\n",
       "      <td>20-24</td>\n",
       "      <td>0-02</td>\n",
       "      <td>no</td>\n",
       "      <td>2</td>\n",
       "      <td>right</td>\n",
       "      <td>right_up</td>\n",
       "      <td>no</td>\n",
       "    </tr>\n",
       "    <tr>\n",
       "      <th>2</th>\n",
       "      <td>0</td>\n",
       "      <td>40-49</td>\n",
       "      <td>premeno</td>\n",
       "      <td>20-24</td>\n",
       "      <td>0-02</td>\n",
       "      <td>no</td>\n",
       "      <td>2</td>\n",
       "      <td>left</td>\n",
       "      <td>left_low</td>\n",
       "      <td>no</td>\n",
       "    </tr>\n",
       "    <tr>\n",
       "      <th>3</th>\n",
       "      <td>0</td>\n",
       "      <td>60-69</td>\n",
       "      <td>ge40</td>\n",
       "      <td>15-19</td>\n",
       "      <td>0-02</td>\n",
       "      <td>no</td>\n",
       "      <td>2</td>\n",
       "      <td>right</td>\n",
       "      <td>left_up</td>\n",
       "      <td>no</td>\n",
       "    </tr>\n",
       "    <tr>\n",
       "      <th>4</th>\n",
       "      <td>0</td>\n",
       "      <td>40-49</td>\n",
       "      <td>premeno</td>\n",
       "      <td>0-04</td>\n",
       "      <td>0-02</td>\n",
       "      <td>no</td>\n",
       "      <td>2</td>\n",
       "      <td>right</td>\n",
       "      <td>right_low</td>\n",
       "      <td>no</td>\n",
       "    </tr>\n",
       "  </tbody>\n",
       "</table>\n",
       "</div>"
      ],
      "text/plain": [
       "   class    age menopause tumor-size inv-nodes node-caps  deg-malig breast  \\\n",
       "0      0  30-39   premeno      30-34      0-02        no          3   left   \n",
       "1      0  40-49   premeno      20-24      0-02        no          2  right   \n",
       "2      0  40-49   premeno      20-24      0-02        no          2   left   \n",
       "3      0  60-69      ge40      15-19      0-02        no          2  right   \n",
       "4      0  40-49   premeno       0-04      0-02        no          2  right   \n",
       "\n",
       "  breast-quad irradiat  \n",
       "0    left_low       no  \n",
       "1    right_up       no  \n",
       "2    left_low       no  \n",
       "3     left_up       no  \n",
       "4   right_low       no  "
      ]
     },
     "execution_count": 11,
     "metadata": {},
     "output_type": "execute_result"
    }
   ],
   "source": [
    "data.head()"
   ]
  },
  {
   "cell_type": "code",
   "execution_count": 12,
   "metadata": {},
   "outputs": [],
   "source": [
    "y = data[['class']]"
   ]
  },
  {
   "cell_type": "code",
   "execution_count": 13,
   "metadata": {},
   "outputs": [
    {
     "data": {
      "text/html": [
       "<div>\n",
       "<style scoped>\n",
       "    .dataframe tbody tr th:only-of-type {\n",
       "        vertical-align: middle;\n",
       "    }\n",
       "\n",
       "    .dataframe tbody tr th {\n",
       "        vertical-align: top;\n",
       "    }\n",
       "\n",
       "    .dataframe thead th {\n",
       "        text-align: right;\n",
       "    }\n",
       "</style>\n",
       "<table border=\"1\" class=\"dataframe\">\n",
       "  <thead>\n",
       "    <tr style=\"text-align: right;\">\n",
       "      <th></th>\n",
       "      <th>class</th>\n",
       "    </tr>\n",
       "  </thead>\n",
       "  <tbody>\n",
       "    <tr>\n",
       "      <th>0</th>\n",
       "      <td>0</td>\n",
       "    </tr>\n",
       "    <tr>\n",
       "      <th>1</th>\n",
       "      <td>0</td>\n",
       "    </tr>\n",
       "    <tr>\n",
       "      <th>2</th>\n",
       "      <td>0</td>\n",
       "    </tr>\n",
       "    <tr>\n",
       "      <th>3</th>\n",
       "      <td>0</td>\n",
       "    </tr>\n",
       "    <tr>\n",
       "      <th>4</th>\n",
       "      <td>0</td>\n",
       "    </tr>\n",
       "  </tbody>\n",
       "</table>\n",
       "</div>"
      ],
      "text/plain": [
       "   class\n",
       "0      0\n",
       "1      0\n",
       "2      0\n",
       "3      0\n",
       "4      0"
      ]
     },
     "execution_count": 13,
     "metadata": {},
     "output_type": "execute_result"
    }
   ],
   "source": [
    "y.head()"
   ]
  },
  {
   "cell_type": "code",
   "execution_count": 14,
   "metadata": {},
   "outputs": [],
   "source": [
    "X = data.drop(['class'], axis=1)"
   ]
  },
  {
   "cell_type": "code",
   "execution_count": 15,
   "metadata": {},
   "outputs": [
    {
     "data": {
      "text/html": [
       "<div>\n",
       "<style scoped>\n",
       "    .dataframe tbody tr th:only-of-type {\n",
       "        vertical-align: middle;\n",
       "    }\n",
       "\n",
       "    .dataframe tbody tr th {\n",
       "        vertical-align: top;\n",
       "    }\n",
       "\n",
       "    .dataframe thead th {\n",
       "        text-align: right;\n",
       "    }\n",
       "</style>\n",
       "<table border=\"1\" class=\"dataframe\">\n",
       "  <thead>\n",
       "    <tr style=\"text-align: right;\">\n",
       "      <th></th>\n",
       "      <th>age</th>\n",
       "      <th>menopause</th>\n",
       "      <th>tumor-size</th>\n",
       "      <th>inv-nodes</th>\n",
       "      <th>node-caps</th>\n",
       "      <th>deg-malig</th>\n",
       "      <th>breast</th>\n",
       "      <th>breast-quad</th>\n",
       "      <th>irradiat</th>\n",
       "    </tr>\n",
       "  </thead>\n",
       "  <tbody>\n",
       "    <tr>\n",
       "      <th>0</th>\n",
       "      <td>30-39</td>\n",
       "      <td>premeno</td>\n",
       "      <td>30-34</td>\n",
       "      <td>0-02</td>\n",
       "      <td>no</td>\n",
       "      <td>3</td>\n",
       "      <td>left</td>\n",
       "      <td>left_low</td>\n",
       "      <td>no</td>\n",
       "    </tr>\n",
       "    <tr>\n",
       "      <th>1</th>\n",
       "      <td>40-49</td>\n",
       "      <td>premeno</td>\n",
       "      <td>20-24</td>\n",
       "      <td>0-02</td>\n",
       "      <td>no</td>\n",
       "      <td>2</td>\n",
       "      <td>right</td>\n",
       "      <td>right_up</td>\n",
       "      <td>no</td>\n",
       "    </tr>\n",
       "    <tr>\n",
       "      <th>2</th>\n",
       "      <td>40-49</td>\n",
       "      <td>premeno</td>\n",
       "      <td>20-24</td>\n",
       "      <td>0-02</td>\n",
       "      <td>no</td>\n",
       "      <td>2</td>\n",
       "      <td>left</td>\n",
       "      <td>left_low</td>\n",
       "      <td>no</td>\n",
       "    </tr>\n",
       "    <tr>\n",
       "      <th>3</th>\n",
       "      <td>60-69</td>\n",
       "      <td>ge40</td>\n",
       "      <td>15-19</td>\n",
       "      <td>0-02</td>\n",
       "      <td>no</td>\n",
       "      <td>2</td>\n",
       "      <td>right</td>\n",
       "      <td>left_up</td>\n",
       "      <td>no</td>\n",
       "    </tr>\n",
       "    <tr>\n",
       "      <th>4</th>\n",
       "      <td>40-49</td>\n",
       "      <td>premeno</td>\n",
       "      <td>0-04</td>\n",
       "      <td>0-02</td>\n",
       "      <td>no</td>\n",
       "      <td>2</td>\n",
       "      <td>right</td>\n",
       "      <td>right_low</td>\n",
       "      <td>no</td>\n",
       "    </tr>\n",
       "  </tbody>\n",
       "</table>\n",
       "</div>"
      ],
      "text/plain": [
       "     age menopause tumor-size inv-nodes node-caps  deg-malig breast  \\\n",
       "0  30-39   premeno      30-34      0-02        no          3   left   \n",
       "1  40-49   premeno      20-24      0-02        no          2  right   \n",
       "2  40-49   premeno      20-24      0-02        no          2   left   \n",
       "3  60-69      ge40      15-19      0-02        no          2  right   \n",
       "4  40-49   premeno       0-04      0-02        no          2  right   \n",
       "\n",
       "  breast-quad irradiat  \n",
       "0    left_low       no  \n",
       "1    right_up       no  \n",
       "2    left_low       no  \n",
       "3     left_up       no  \n",
       "4   right_low       no  "
      ]
     },
     "execution_count": 15,
     "metadata": {},
     "output_type": "execute_result"
    }
   ],
   "source": [
    "X.head()"
   ]
  },
  {
   "cell_type": "markdown",
   "metadata": {},
   "source": [
    "### Анализ состава выборки"
   ]
  },
  {
   "cell_type": "markdown",
   "metadata": {},
   "source": [
    "В представленной выборке пока все признаки являются номинальными (неизвестно, можно ли сравнивать значения одного признака друг с другом). Для выделения порядковых признаков построим гистограммы."
   ]
  },
  {
   "cell_type": "code",
   "execution_count": 16,
   "metadata": {},
   "outputs": [
    {
     "data": {
      "text/plain": [
       "(196, 10)"
      ]
     },
     "execution_count": 16,
     "metadata": {},
     "output_type": "execute_result"
    }
   ],
   "source": [
    "less = data[data['class'] == 1]\n",
    "more = data[data['class'] == 0]\n",
    "more.shape"
   ]
  },
  {
   "cell_type": "code",
   "execution_count": 17,
   "metadata": {},
   "outputs": [
    {
     "data": {
      "image/png": "[encoded data removed]",
      "text/plain": [
       "<matplotlib.figure.Figure at 0x1dca26304e0>"
      ]
     },
     "metadata": {},
     "output_type": "display_data"
    },
    {
     "data": {
      "image/png": "[encoded data removed]",
      "text/plain": [
       "<matplotlib.figure.Figure at 0x1dca26dd550>"
      ]
     },
     "metadata": {},
     "output_type": "display_data"
    },
    {
     "data": {
      "image/png": "[encoded data removed]",
      "text/plain": [
       "<matplotlib.figure.Figure at 0x1dca29d04a8>"
      ]
     },
     "metadata": {},
     "output_type": "display_data"
    },
    {
     "data": {
      "image/png": "[encoded data removed]",
      "text/plain": [
       "<matplotlib.figure.Figure at 0x1dca2a75d30>"
      ]
     },
     "metadata": {},
     "output_type": "display_data"
    },
    {
     "data": {
      "image/png": "[encoded data removed]",
      "text/plain": [
       "<matplotlib.figure.Figure at 0x1dca2aebf28>"
      ]
     },
     "metadata": {},
     "output_type": "display_data"
    },
    {
     "data": {
      "image/png": "[encoded data removed]",
      "text/plain": [
       "<matplotlib.figure.Figure at 0x1dca2aeb5f8>"
      ]
     },
     "metadata": {},
     "output_type": "display_data"
    },
    {
     "data": {
      "image/png": "[encoded data removed]",
      "text/plain": [
       "<matplotlib.figure.Figure at 0x1dca25deef0>"
      ]
     },
     "metadata": {},
     "output_type": "display_data"
    },
    {
     "data": {
      "image/png": "[encoded data removed]",
      "text/plain": [
       "<matplotlib.figure.Figure at 0x1dca26bc278>"
      ]
     },
     "metadata": {},
     "output_type": "display_data"
    },
    {
     "data": {
      "image/png": "[encoded data removed]",
      "text/plain": [
       "<matplotlib.figure.Figure at 0x1dca26dd1d0>"
      ]
     },
     "metadata": {},
     "output_type": "display_data"
    }
   ],
   "source": [
    "for i in less.columns[1:]:\n",
    "    plt.hist(less[i])\n",
    "    plt.xlabel(i)\n",
    "    plt.show()"
   ]
  },
  {
   "cell_type": "code",
   "execution_count": 18,
   "metadata": {},
   "outputs": [
    {
     "data": {
      "image/png": "[encoded data removed]",
      "text/plain": [
       "<matplotlib.figure.Figure at 0x1dca29e17b8>"
      ]
     },
     "metadata": {},
     "output_type": "display_data"
    },
    {
     "data": {
      "image/png": "[encoded data removed]",
      "text/plain": [
       "<matplotlib.figure.Figure at 0x1dca2bc7dd8>"
      ]
     },
     "metadata": {},
     "output_type": "display_data"
    },
    {
     "data": {
      "image/png": "[encoded data removed]",
      "text/plain": [
       "<matplotlib.figure.Figure at 0x1dca2c2ae80>"
      ]
     },
     "metadata": {},
     "output_type": "display_data"
    },
    {
     "data": {
      "image/png": "[encoded data removed]",
      "text/plain": [
       "<matplotlib.figure.Figure at 0x1dca2c8fcf8>"
      ]
     },
     "metadata": {},
     "output_type": "display_data"
    },
    {
     "data": {
      "image/png": "[encoded data removed]",
      "text/plain": [
       "<matplotlib.figure.Figure at 0x1dca2d21f28>"
      ]
     },
     "metadata": {},
     "output_type": "display_data"
    },
    {
     "data": {
      "image/png": "[encoded data removed]",
      "text/plain": [
       "<matplotlib.figure.Figure at 0x1dca2d80f60>"
      ]
     },
     "metadata": {},
     "output_type": "display_data"
    },
    {
     "data": {
      "image/png": "[encoded data removed]",
      "text/plain": [
       "<matplotlib.figure.Figure at 0x1dca2bbd5c0>"
      ]
     },
     "metadata": {},
     "output_type": "display_data"
    },
    {
     "data": {
      "image/png": "[encoded data removed]",
      "text/plain": [
       "<matplotlib.figure.Figure at 0x1dca2dfbef0>"
      ]
     },
     "metadata": {},
     "output_type": "display_data"
    },
    {
     "data": {
      "image/png": "[encoded data removed]",
      "text/plain": [
       "<matplotlib.figure.Figure at 0x1dca2e905f8>"
      ]
     },
     "metadata": {},
     "output_type": "display_data"
    }
   ],
   "source": [
    "for i in more.columns[1:]:\n",
    "    plt.hist(more[i])\n",
    "    plt.xlabel(i)\n",
    "    plt.show()"
   ]
  },
  {
   "cell_type": "markdown",
   "metadata": {},
   "source": [
    "Из гистограмм можно сделать вывод, что признак breast не влияет на распределение внутри классов, поэтому можем его удалить"
   ]
  },
  {
   "cell_type": "code",
   "execution_count": 19,
   "metadata": {},
   "outputs": [],
   "source": [
    "X.drop(['breast'], axis=1, inplace=True)"
   ]
  },
  {
   "cell_type": "code",
   "execution_count": 20,
   "metadata": {},
   "outputs": [
    {
     "data": {
      "text/html": [
       "<div>\n",
       "<style scoped>\n",
       "    .dataframe tbody tr th:only-of-type {\n",
       "        vertical-align: middle;\n",
       "    }\n",
       "\n",
       "    .dataframe tbody tr th {\n",
       "        vertical-align: top;\n",
       "    }\n",
       "\n",
       "    .dataframe thead th {\n",
       "        text-align: right;\n",
       "    }\n",
       "</style>\n",
       "<table border=\"1\" class=\"dataframe\">\n",
       "  <thead>\n",
       "    <tr style=\"text-align: right;\">\n",
       "      <th></th>\n",
       "      <th>age</th>\n",
       "      <th>menopause</th>\n",
       "      <th>tumor-size</th>\n",
       "      <th>inv-nodes</th>\n",
       "      <th>node-caps</th>\n",
       "      <th>deg-malig</th>\n",
       "      <th>breast-quad</th>\n",
       "      <th>irradiat</th>\n",
       "    </tr>\n",
       "  </thead>\n",
       "  <tbody>\n",
       "    <tr>\n",
       "      <th>0</th>\n",
       "      <td>30-39</td>\n",
       "      <td>premeno</td>\n",
       "      <td>30-34</td>\n",
       "      <td>0-02</td>\n",
       "      <td>no</td>\n",
       "      <td>3</td>\n",
       "      <td>left_low</td>\n",
       "      <td>no</td>\n",
       "    </tr>\n",
       "    <tr>\n",
       "      <th>1</th>\n",
       "      <td>40-49</td>\n",
       "      <td>premeno</td>\n",
       "      <td>20-24</td>\n",
       "      <td>0-02</td>\n",
       "      <td>no</td>\n",
       "      <td>2</td>\n",
       "      <td>right_up</td>\n",
       "      <td>no</td>\n",
       "    </tr>\n",
       "    <tr>\n",
       "      <th>2</th>\n",
       "      <td>40-49</td>\n",
       "      <td>premeno</td>\n",
       "      <td>20-24</td>\n",
       "      <td>0-02</td>\n",
       "      <td>no</td>\n",
       "      <td>2</td>\n",
       "      <td>left_low</td>\n",
       "      <td>no</td>\n",
       "    </tr>\n",
       "    <tr>\n",
       "      <th>3</th>\n",
       "      <td>60-69</td>\n",
       "      <td>ge40</td>\n",
       "      <td>15-19</td>\n",
       "      <td>0-02</td>\n",
       "      <td>no</td>\n",
       "      <td>2</td>\n",
       "      <td>left_up</td>\n",
       "      <td>no</td>\n",
       "    </tr>\n",
       "    <tr>\n",
       "      <th>4</th>\n",
       "      <td>40-49</td>\n",
       "      <td>premeno</td>\n",
       "      <td>0-04</td>\n",
       "      <td>0-02</td>\n",
       "      <td>no</td>\n",
       "      <td>2</td>\n",
       "      <td>right_low</td>\n",
       "      <td>no</td>\n",
       "    </tr>\n",
       "  </tbody>\n",
       "</table>\n",
       "</div>"
      ],
      "text/plain": [
       "     age menopause tumor-size inv-nodes node-caps  deg-malig breast-quad  \\\n",
       "0  30-39   premeno      30-34      0-02        no          3    left_low   \n",
       "1  40-49   premeno      20-24      0-02        no          2    right_up   \n",
       "2  40-49   premeno      20-24      0-02        no          2    left_low   \n",
       "3  60-69      ge40      15-19      0-02        no          2     left_up   \n",
       "4  40-49   premeno       0-04      0-02        no          2   right_low   \n",
       "\n",
       "  irradiat  \n",
       "0       no  \n",
       "1       no  \n",
       "2       no  \n",
       "3       no  \n",
       "4       no  "
      ]
     },
     "execution_count": 20,
     "metadata": {},
     "output_type": "execute_result"
    }
   ],
   "source": [
    "X.head()"
   ]
  },
  {
   "cell_type": "markdown",
   "metadata": {},
   "source": [
    "Поменяем категориальные признаки на индикаторы"
   ]
  },
  {
   "cell_type": "code",
   "execution_count": 21,
   "metadata": {},
   "outputs": [],
   "source": [
    "X = pd.get_dummies(X)"
   ]
  },
  {
   "cell_type": "code",
   "execution_count": 22,
   "metadata": {},
   "outputs": [
    {
     "data": {
      "text/html": [
       "<div>\n",
       "<style scoped>\n",
       "    .dataframe tbody tr th:only-of-type {\n",
       "        vertical-align: middle;\n",
       "    }\n",
       "\n",
       "    .dataframe tbody tr th {\n",
       "        vertical-align: top;\n",
       "    }\n",
       "\n",
       "    .dataframe thead th {\n",
       "        text-align: right;\n",
       "    }\n",
       "</style>\n",
       "<table border=\"1\" class=\"dataframe\">\n",
       "  <thead>\n",
       "    <tr style=\"text-align: right;\">\n",
       "      <th></th>\n",
       "      <th>deg-malig</th>\n",
       "      <th>age_20-29</th>\n",
       "      <th>age_30-39</th>\n",
       "      <th>age_40-49</th>\n",
       "      <th>age_50-59</th>\n",
       "      <th>age_60-69</th>\n",
       "      <th>age_70-79</th>\n",
       "      <th>menopause_ge40</th>\n",
       "      <th>menopause_lt40</th>\n",
       "      <th>menopause_premeno</th>\n",
       "      <th>...</th>\n",
       "      <th>inv-nodes_24-26</th>\n",
       "      <th>node-caps_no</th>\n",
       "      <th>node-caps_yes</th>\n",
       "      <th>breast-quad_central</th>\n",
       "      <th>breast-quad_left_low</th>\n",
       "      <th>breast-quad_left_up</th>\n",
       "      <th>breast-quad_right_low</th>\n",
       "      <th>breast-quad_right_up</th>\n",
       "      <th>irradiat_no</th>\n",
       "      <th>irradiat_yes</th>\n",
       "    </tr>\n",
       "  </thead>\n",
       "  <tbody>\n",
       "    <tr>\n",
       "      <th>0</th>\n",
       "      <td>3</td>\n",
       "      <td>0</td>\n",
       "      <td>1</td>\n",
       "      <td>0</td>\n",
       "      <td>0</td>\n",
       "      <td>0</td>\n",
       "      <td>0</td>\n",
       "      <td>0</td>\n",
       "      <td>0</td>\n",
       "      <td>1</td>\n",
       "      <td>...</td>\n",
       "      <td>0</td>\n",
       "      <td>1</td>\n",
       "      <td>0</td>\n",
       "      <td>0</td>\n",
       "      <td>1</td>\n",
       "      <td>0</td>\n",
       "      <td>0</td>\n",
       "      <td>0</td>\n",
       "      <td>1</td>\n",
       "      <td>0</td>\n",
       "    </tr>\n",
       "    <tr>\n",
       "      <th>1</th>\n",
       "      <td>2</td>\n",
       "      <td>0</td>\n",
       "      <td>0</td>\n",
       "      <td>1</td>\n",
       "      <td>0</td>\n",
       "      <td>0</td>\n",
       "      <td>0</td>\n",
       "      <td>0</td>\n",
       "      <td>0</td>\n",
       "      <td>1</td>\n",
       "      <td>...</td>\n",
       "      <td>0</td>\n",
       "      <td>1</td>\n",
       "      <td>0</td>\n",
       "      <td>0</td>\n",
       "      <td>0</td>\n",
       "      <td>0</td>\n",
       "      <td>0</td>\n",
       "      <td>1</td>\n",
       "      <td>1</td>\n",
       "      <td>0</td>\n",
       "    </tr>\n",
       "    <tr>\n",
       "      <th>2</th>\n",
       "      <td>2</td>\n",
       "      <td>0</td>\n",
       "      <td>0</td>\n",
       "      <td>1</td>\n",
       "      <td>0</td>\n",
       "      <td>0</td>\n",
       "      <td>0</td>\n",
       "      <td>0</td>\n",
       "      <td>0</td>\n",
       "      <td>1</td>\n",
       "      <td>...</td>\n",
       "      <td>0</td>\n",
       "      <td>1</td>\n",
       "      <td>0</td>\n",
       "      <td>0</td>\n",
       "      <td>1</td>\n",
       "      <td>0</td>\n",
       "      <td>0</td>\n",
       "      <td>0</td>\n",
       "      <td>1</td>\n",
       "      <td>0</td>\n",
       "    </tr>\n",
       "    <tr>\n",
       "      <th>3</th>\n",
       "      <td>2</td>\n",
       "      <td>0</td>\n",
       "      <td>0</td>\n",
       "      <td>0</td>\n",
       "      <td>0</td>\n",
       "      <td>1</td>\n",
       "      <td>0</td>\n",
       "      <td>1</td>\n",
       "      <td>0</td>\n",
       "      <td>0</td>\n",
       "      <td>...</td>\n",
       "      <td>0</td>\n",
       "      <td>1</td>\n",
       "      <td>0</td>\n",
       "      <td>0</td>\n",
       "      <td>0</td>\n",
       "      <td>1</td>\n",
       "      <td>0</td>\n",
       "      <td>0</td>\n",
       "      <td>1</td>\n",
       "      <td>0</td>\n",
       "    </tr>\n",
       "    <tr>\n",
       "      <th>4</th>\n",
       "      <td>2</td>\n",
       "      <td>0</td>\n",
       "      <td>0</td>\n",
       "      <td>1</td>\n",
       "      <td>0</td>\n",
       "      <td>0</td>\n",
       "      <td>0</td>\n",
       "      <td>0</td>\n",
       "      <td>0</td>\n",
       "      <td>1</td>\n",
       "      <td>...</td>\n",
       "      <td>0</td>\n",
       "      <td>1</td>\n",
       "      <td>0</td>\n",
       "      <td>0</td>\n",
       "      <td>0</td>\n",
       "      <td>0</td>\n",
       "      <td>1</td>\n",
       "      <td>0</td>\n",
       "      <td>1</td>\n",
       "      <td>0</td>\n",
       "    </tr>\n",
       "  </tbody>\n",
       "</table>\n",
       "<p>5 rows × 37 columns</p>\n",
       "</div>"
      ],
      "text/plain": [
       "   deg-malig  age_20-29  age_30-39  age_40-49  age_50-59  age_60-69  \\\n",
       "0          3          0          1          0          0          0   \n",
       "1          2          0          0          1          0          0   \n",
       "2          2          0          0          1          0          0   \n",
       "3          2          0          0          0          0          1   \n",
       "4          2          0          0          1          0          0   \n",
       "\n",
       "   age_70-79  menopause_ge40  menopause_lt40  menopause_premeno      ...       \\\n",
       "0          0               0               0                  1      ...        \n",
       "1          0               0               0                  1      ...        \n",
       "2          0               0               0                  1      ...        \n",
       "3          0               1               0                  0      ...        \n",
       "4          0               0               0                  1      ...        \n",
       "\n",
       "   inv-nodes_24-26  node-caps_no  node-caps_yes  breast-quad_central  \\\n",
       "0                0             1              0                    0   \n",
       "1                0             1              0                    0   \n",
       "2                0             1              0                    0   \n",
       "3                0             1              0                    0   \n",
       "4                0             1              0                    0   \n",
       "\n",
       "   breast-quad_left_low  breast-quad_left_up  breast-quad_right_low  \\\n",
       "0                     1                    0                      0   \n",
       "1                     0                    0                      0   \n",
       "2                     1                    0                      0   \n",
       "3                     0                    1                      0   \n",
       "4                     0                    0                      1   \n",
       "\n",
       "   breast-quad_right_up  irradiat_no  irradiat_yes  \n",
       "0                     0            1             0  \n",
       "1                     1            1             0  \n",
       "2                     0            1             0  \n",
       "3                     0            1             0  \n",
       "4                     0            1             0  \n",
       "\n",
       "[5 rows x 37 columns]"
      ]
     },
     "execution_count": 22,
     "metadata": {},
     "output_type": "execute_result"
    }
   ],
   "source": [
    "X.head()"
   ]
  },
  {
   "cell_type": "code",
   "execution_count": 23,
   "metadata": {},
   "outputs": [],
   "source": [
    "X.drop(['node-caps_no', 'irradiat_no'], axis=1, inplace=True)"
   ]
  },
  {
   "cell_type": "code",
   "execution_count": 24,
   "metadata": {},
   "outputs": [
    {
     "data": {
      "text/html": [
       "<div>\n",
       "<style scoped>\n",
       "    .dataframe tbody tr th:only-of-type {\n",
       "        vertical-align: middle;\n",
       "    }\n",
       "\n",
       "    .dataframe tbody tr th {\n",
       "        vertical-align: top;\n",
       "    }\n",
       "\n",
       "    .dataframe thead th {\n",
       "        text-align: right;\n",
       "    }\n",
       "</style>\n",
       "<table border=\"1\" class=\"dataframe\">\n",
       "  <thead>\n",
       "    <tr style=\"text-align: right;\">\n",
       "      <th></th>\n",
       "      <th>deg-malig</th>\n",
       "      <th>age_20-29</th>\n",
       "      <th>age_30-39</th>\n",
       "      <th>age_40-49</th>\n",
       "      <th>age_50-59</th>\n",
       "      <th>age_60-69</th>\n",
       "      <th>age_70-79</th>\n",
       "      <th>menopause_ge40</th>\n",
       "      <th>menopause_lt40</th>\n",
       "      <th>menopause_premeno</th>\n",
       "      <th>...</th>\n",
       "      <th>inv-nodes_12-14</th>\n",
       "      <th>inv-nodes_15-17</th>\n",
       "      <th>inv-nodes_24-26</th>\n",
       "      <th>node-caps_yes</th>\n",
       "      <th>breast-quad_central</th>\n",
       "      <th>breast-quad_left_low</th>\n",
       "      <th>breast-quad_left_up</th>\n",
       "      <th>breast-quad_right_low</th>\n",
       "      <th>breast-quad_right_up</th>\n",
       "      <th>irradiat_yes</th>\n",
       "    </tr>\n",
       "  </thead>\n",
       "  <tbody>\n",
       "    <tr>\n",
       "      <th>0</th>\n",
       "      <td>3</td>\n",
       "      <td>0</td>\n",
       "      <td>1</td>\n",
       "      <td>0</td>\n",
       "      <td>0</td>\n",
       "      <td>0</td>\n",
       "      <td>0</td>\n",
       "      <td>0</td>\n",
       "      <td>0</td>\n",
       "      <td>1</td>\n",
       "      <td>...</td>\n",
       "      <td>0</td>\n",
       "      <td>0</td>\n",
       "      <td>0</td>\n",
       "      <td>0</td>\n",
       "      <td>0</td>\n",
       "      <td>1</td>\n",
       "      <td>0</td>\n",
       "      <td>0</td>\n",
       "      <td>0</td>\n",
       "      <td>0</td>\n",
       "    </tr>\n",
       "    <tr>\n",
       "      <th>1</th>\n",
       "      <td>2</td>\n",
       "      <td>0</td>\n",
       "      <td>0</td>\n",
       "      <td>1</td>\n",
       "      <td>0</td>\n",
       "      <td>0</td>\n",
       "      <td>0</td>\n",
       "      <td>0</td>\n",
       "      <td>0</td>\n",
       "      <td>1</td>\n",
       "      <td>...</td>\n",
       "      <td>0</td>\n",
       "      <td>0</td>\n",
       "      <td>0</td>\n",
       "      <td>0</td>\n",
       "      <td>0</td>\n",
       "      <td>0</td>\n",
       "      <td>0</td>\n",
       "      <td>0</td>\n",
       "      <td>1</td>\n",
       "      <td>0</td>\n",
       "    </tr>\n",
       "    <tr>\n",
       "      <th>2</th>\n",
       "      <td>2</td>\n",
       "      <td>0</td>\n",
       "      <td>0</td>\n",
       "      <td>1</td>\n",
       "      <td>0</td>\n",
       "      <td>0</td>\n",
       "      <td>0</td>\n",
       "      <td>0</td>\n",
       "      <td>0</td>\n",
       "      <td>1</td>\n",
       "      <td>...</td>\n",
       "      <td>0</td>\n",
       "      <td>0</td>\n",
       "      <td>0</td>\n",
       "      <td>0</td>\n",
       "      <td>0</td>\n",
       "      <td>1</td>\n",
       "      <td>0</td>\n",
       "      <td>0</td>\n",
       "      <td>0</td>\n",
       "      <td>0</td>\n",
       "    </tr>\n",
       "    <tr>\n",
       "      <th>3</th>\n",
       "      <td>2</td>\n",
       "      <td>0</td>\n",
       "      <td>0</td>\n",
       "      <td>0</td>\n",
       "      <td>0</td>\n",
       "      <td>1</td>\n",
       "      <td>0</td>\n",
       "      <td>1</td>\n",
       "      <td>0</td>\n",
       "      <td>0</td>\n",
       "      <td>...</td>\n",
       "      <td>0</td>\n",
       "      <td>0</td>\n",
       "      <td>0</td>\n",
       "      <td>0</td>\n",
       "      <td>0</td>\n",
       "      <td>0</td>\n",
       "      <td>1</td>\n",
       "      <td>0</td>\n",
       "      <td>0</td>\n",
       "      <td>0</td>\n",
       "    </tr>\n",
       "    <tr>\n",
       "      <th>4</th>\n",
       "      <td>2</td>\n",
       "      <td>0</td>\n",
       "      <td>0</td>\n",
       "      <td>1</td>\n",
       "      <td>0</td>\n",
       "      <td>0</td>\n",
       "      <td>0</td>\n",
       "      <td>0</td>\n",
       "      <td>0</td>\n",
       "      <td>1</td>\n",
       "      <td>...</td>\n",
       "      <td>0</td>\n",
       "      <td>0</td>\n",
       "      <td>0</td>\n",
       "      <td>0</td>\n",
       "      <td>0</td>\n",
       "      <td>0</td>\n",
       "      <td>0</td>\n",
       "      <td>1</td>\n",
       "      <td>0</td>\n",
       "      <td>0</td>\n",
       "    </tr>\n",
       "  </tbody>\n",
       "</table>\n",
       "<p>5 rows × 35 columns</p>\n",
       "</div>"
      ],
      "text/plain": [
       "   deg-malig  age_20-29  age_30-39  age_40-49  age_50-59  age_60-69  \\\n",
       "0          3          0          1          0          0          0   \n",
       "1          2          0          0          1          0          0   \n",
       "2          2          0          0          1          0          0   \n",
       "3          2          0          0          0          0          1   \n",
       "4          2          0          0          1          0          0   \n",
       "\n",
       "   age_70-79  menopause_ge40  menopause_lt40  menopause_premeno      ...       \\\n",
       "0          0               0               0                  1      ...        \n",
       "1          0               0               0                  1      ...        \n",
       "2          0               0               0                  1      ...        \n",
       "3          0               1               0                  0      ...        \n",
       "4          0               0               0                  1      ...        \n",
       "\n",
       "   inv-nodes_12-14  inv-nodes_15-17  inv-nodes_24-26  node-caps_yes  \\\n",
       "0                0                0                0              0   \n",
       "1                0                0                0              0   \n",
       "2                0                0                0              0   \n",
       "3                0                0                0              0   \n",
       "4                0                0                0              0   \n",
       "\n",
       "   breast-quad_central  breast-quad_left_low  breast-quad_left_up  \\\n",
       "0                    0                     1                    0   \n",
       "1                    0                     0                    0   \n",
       "2                    0                     1                    0   \n",
       "3                    0                     0                    1   \n",
       "4                    0                     0                    0   \n",
       "\n",
       "   breast-quad_right_low  breast-quad_right_up  irradiat_yes  \n",
       "0                      0                     0             0  \n",
       "1                      0                     1             0  \n",
       "2                      0                     0             0  \n",
       "3                      0                     0             0  \n",
       "4                      1                     0             0  \n",
       "\n",
       "[5 rows x 35 columns]"
      ]
     },
     "execution_count": 24,
     "metadata": {},
     "output_type": "execute_result"
    }
   ],
   "source": [
    "X.head()"
   ]
  },
  {
   "cell_type": "code",
   "execution_count": 25,
   "metadata": {},
   "outputs": [
    {
     "data": {
      "text/html": [
       "<div>\n",
       "<style scoped>\n",
       "    .dataframe tbody tr th:only-of-type {\n",
       "        vertical-align: middle;\n",
       "    }\n",
       "\n",
       "    .dataframe tbody tr th {\n",
       "        vertical-align: top;\n",
       "    }\n",
       "\n",
       "    .dataframe thead th {\n",
       "        text-align: right;\n",
       "    }\n",
       "</style>\n",
       "<table border=\"1\" class=\"dataframe\">\n",
       "  <thead>\n",
       "    <tr style=\"text-align: right;\">\n",
       "      <th></th>\n",
       "      <th>deg-malig</th>\n",
       "      <th>age_20-29</th>\n",
       "      <th>age_30-39</th>\n",
       "      <th>age_40-49</th>\n",
       "      <th>age_50-59</th>\n",
       "      <th>age_60-69</th>\n",
       "      <th>age_70-79</th>\n",
       "      <th>menopause_ge40</th>\n",
       "      <th>menopause_lt40</th>\n",
       "      <th>menopause_premeno</th>\n",
       "      <th>...</th>\n",
       "      <th>inv-nodes_12-14</th>\n",
       "      <th>inv-nodes_15-17</th>\n",
       "      <th>inv-nodes_24-26</th>\n",
       "      <th>node-caps_yes</th>\n",
       "      <th>breast-quad_central</th>\n",
       "      <th>breast-quad_left_low</th>\n",
       "      <th>breast-quad_left_up</th>\n",
       "      <th>breast-quad_right_low</th>\n",
       "      <th>breast-quad_right_up</th>\n",
       "      <th>irradiat_yes</th>\n",
       "    </tr>\n",
       "  </thead>\n",
       "  <tbody>\n",
       "    <tr>\n",
       "      <th>deg-malig</th>\n",
       "      <td>1.000000</td>\n",
       "      <td>-0.004772</td>\n",
       "      <td>0.043031</td>\n",
       "      <td>0.009116</td>\n",
       "      <td>0.007845</td>\n",
       "      <td>-0.027036</td>\n",
       "      <td>-0.085174</td>\n",
       "      <td>0.048813</td>\n",
       "      <td>-0.010748</td>\n",
       "      <td>-0.045776</td>\n",
       "      <td>...</td>\n",
       "      <td>0.135305</td>\n",
       "      <td>0.158373</td>\n",
       "      <td>0.077835</td>\n",
       "      <td>0.330181</td>\n",
       "      <td>-0.078855</td>\n",
       "      <td>-0.001251</td>\n",
       "      <td>0.058286</td>\n",
       "      <td>-0.041809</td>\n",
       "      <td>0.016729</td>\n",
       "      <td>0.230821</td>\n",
       "    </tr>\n",
       "    <tr>\n",
       "      <th>age_20-29</th>\n",
       "      <td>-0.004772</td>\n",
       "      <td>1.000000</td>\n",
       "      <td>-0.023264</td>\n",
       "      <td>-0.041415</td>\n",
       "      <td>-0.042103</td>\n",
       "      <td>-0.029961</td>\n",
       "      <td>-0.008161</td>\n",
       "      <td>-0.053794</td>\n",
       "      <td>-0.008161</td>\n",
       "      <td>0.055790</td>\n",
       "      <td>...</td>\n",
       "      <td>-0.006298</td>\n",
       "      <td>-0.008956</td>\n",
       "      <td>-0.003623</td>\n",
       "      <td>-0.030300</td>\n",
       "      <td>-0.017240</td>\n",
       "      <td>-0.047391</td>\n",
       "      <td>-0.043140</td>\n",
       "      <td>-0.018113</td>\n",
       "      <td>0.163675</td>\n",
       "      <td>-0.032324</td>\n",
       "    </tr>\n",
       "    <tr>\n",
       "      <th>age_30-39</th>\n",
       "      <td>0.043031</td>\n",
       "      <td>-0.023264</td>\n",
       "      <td>1.000000</td>\n",
       "      <td>-0.265925</td>\n",
       "      <td>-0.270338</td>\n",
       "      <td>-0.192375</td>\n",
       "      <td>-0.052401</td>\n",
       "      <td>-0.345410</td>\n",
       "      <td>0.028239</td>\n",
       "      <td>0.336690</td>\n",
       "      <td>...</td>\n",
       "      <td>-0.040442</td>\n",
       "      <td>-0.057509</td>\n",
       "      <td>-0.023264</td>\n",
       "      <td>0.019301</td>\n",
       "      <td>0.092100</td>\n",
       "      <td>0.004944</td>\n",
       "      <td>-0.050260</td>\n",
       "      <td>0.039329</td>\n",
       "      <td>-0.042713</td>\n",
       "      <td>0.050027</td>\n",
       "    </tr>\n",
       "    <tr>\n",
       "      <th>age_40-49</th>\n",
       "      <td>0.009116</td>\n",
       "      <td>-0.041415</td>\n",
       "      <td>-0.265925</td>\n",
       "      <td>1.000000</td>\n",
       "      <td>-0.481261</td>\n",
       "      <td>-0.342469</td>\n",
       "      <td>-0.093286</td>\n",
       "      <td>-0.474871</td>\n",
       "      <td>-0.093286</td>\n",
       "      <td>0.498160</td>\n",
       "      <td>...</td>\n",
       "      <td>0.152079</td>\n",
       "      <td>0.056941</td>\n",
       "      <td>-0.041415</td>\n",
       "      <td>0.000139</td>\n",
       "      <td>-0.109444</td>\n",
       "      <td>-0.016825</td>\n",
       "      <td>0.013027</td>\n",
       "      <td>0.073128</td>\n",
       "      <td>0.033342</td>\n",
       "      <td>0.094212</td>\n",
       "    </tr>\n",
       "    <tr>\n",
       "      <th>age_50-59</th>\n",
       "      <td>0.007845</td>\n",
       "      <td>-0.042103</td>\n",
       "      <td>-0.270338</td>\n",
       "      <td>-0.481261</td>\n",
       "      <td>1.000000</td>\n",
       "      <td>-0.348152</td>\n",
       "      <td>-0.094834</td>\n",
       "      <td>0.241209</td>\n",
       "      <td>0.020634</td>\n",
       "      <td>-0.245895</td>\n",
       "      <td>...</td>\n",
       "      <td>-0.073190</td>\n",
       "      <td>0.054326</td>\n",
       "      <td>-0.042103</td>\n",
       "      <td>0.049816</td>\n",
       "      <td>0.031974</td>\n",
       "      <td>0.018612</td>\n",
       "      <td>-0.014300</td>\n",
       "      <td>-0.043343</td>\n",
       "      <td>0.003769</td>\n",
       "      <td>-0.135879</td>\n",
       "    </tr>\n",
       "    <tr>\n",
       "      <th>age_60-69</th>\n",
       "      <td>-0.027036</td>\n",
       "      <td>-0.029961</td>\n",
       "      <td>-0.192375</td>\n",
       "      <td>-0.342469</td>\n",
       "      <td>-0.348152</td>\n",
       "      <td>1.000000</td>\n",
       "      <td>-0.067485</td>\n",
       "      <td>0.520517</td>\n",
       "      <td>0.068466</td>\n",
       "      <td>-0.537023</td>\n",
       "      <td>...</td>\n",
       "      <td>-0.052082</td>\n",
       "      <td>-0.074062</td>\n",
       "      <td>0.120932</td>\n",
       "      <td>-0.047752</td>\n",
       "      <td>-0.005801</td>\n",
       "      <td>0.036365</td>\n",
       "      <td>0.044643</td>\n",
       "      <td>-0.084184</td>\n",
       "      <td>-0.043367</td>\n",
       "      <td>0.036684</td>\n",
       "    </tr>\n",
       "    <tr>\n",
       "      <th>age_70-79</th>\n",
       "      <td>-0.085174</td>\n",
       "      <td>-0.008161</td>\n",
       "      <td>-0.052401</td>\n",
       "      <td>-0.093286</td>\n",
       "      <td>-0.094834</td>\n",
       "      <td>-0.067485</td>\n",
       "      <td>1.000000</td>\n",
       "      <td>0.151708</td>\n",
       "      <td>-0.018382</td>\n",
       "      <td>-0.146281</td>\n",
       "      <td>...</td>\n",
       "      <td>-0.014187</td>\n",
       "      <td>-0.020174</td>\n",
       "      <td>-0.008161</td>\n",
       "      <td>-0.068249</td>\n",
       "      <td>0.063611</td>\n",
       "      <td>-0.106747</td>\n",
       "      <td>0.017367</td>\n",
       "      <td>0.057473</td>\n",
       "      <td>0.033845</td>\n",
       "      <td>-0.072808</td>\n",
       "    </tr>\n",
       "    <tr>\n",
       "      <th>menopause_ge40</th>\n",
       "      <td>0.048813</td>\n",
       "      <td>-0.053794</td>\n",
       "      <td>-0.345410</td>\n",
       "      <td>-0.474871</td>\n",
       "      <td>0.241209</td>\n",
       "      <td>0.520517</td>\n",
       "      <td>0.151708</td>\n",
       "      <td>1.000000</td>\n",
       "      <td>-0.121169</td>\n",
       "      <td>-0.964229</td>\n",
       "      <td>...</td>\n",
       "      <td>-0.023315</td>\n",
       "      <td>0.016758</td>\n",
       "      <td>0.067352</td>\n",
       "      <td>-0.015675</td>\n",
       "      <td>0.073430</td>\n",
       "      <td>-0.015975</td>\n",
       "      <td>0.050025</td>\n",
       "      <td>-0.058273</td>\n",
       "      <td>-0.059514</td>\n",
       "      <td>-0.061548</td>\n",
       "    </tr>\n",
       "    <tr>\n",
       "      <th>menopause_lt40</th>\n",
       "      <td>-0.010748</td>\n",
       "      <td>-0.008161</td>\n",
       "      <td>0.028239</td>\n",
       "      <td>-0.093286</td>\n",
       "      <td>0.020634</td>\n",
       "      <td>0.068466</td>\n",
       "      <td>-0.018382</td>\n",
       "      <td>-0.121169</td>\n",
       "      <td>1.000000</td>\n",
       "      <td>-0.146281</td>\n",
       "      <td>...</td>\n",
       "      <td>-0.014187</td>\n",
       "      <td>-0.020174</td>\n",
       "      <td>-0.008161</td>\n",
       "      <td>-0.068249</td>\n",
       "      <td>-0.038832</td>\n",
       "      <td>0.004834</td>\n",
       "      <td>0.017367</td>\n",
       "      <td>-0.040799</td>\n",
       "      <td>0.033845</td>\n",
       "      <td>-0.072808</td>\n",
       "    </tr>\n",
       "    <tr>\n",
       "      <th>menopause_premeno</th>\n",
       "      <td>-0.045776</td>\n",
       "      <td>0.055790</td>\n",
       "      <td>0.336690</td>\n",
       "      <td>0.498160</td>\n",
       "      <td>-0.245895</td>\n",
       "      <td>-0.537023</td>\n",
       "      <td>-0.146281</td>\n",
       "      <td>-0.964229</td>\n",
       "      <td>-0.146281</td>\n",
       "      <td>1.000000</td>\n",
       "      <td>...</td>\n",
       "      <td>0.027024</td>\n",
       "      <td>-0.011313</td>\n",
       "      <td>-0.064943</td>\n",
       "      <td>0.033847</td>\n",
       "      <td>-0.062810</td>\n",
       "      <td>0.014629</td>\n",
       "      <td>-0.054492</td>\n",
       "      <td>0.068969</td>\n",
       "      <td>0.050273</td>\n",
       "      <td>0.080780</td>\n",
       "    </tr>\n",
       "    <tr>\n",
       "      <th>tumor-size_0-04</th>\n",
       "      <td>-0.072837</td>\n",
       "      <td>-0.010380</td>\n",
       "      <td>0.061560</td>\n",
       "      <td>-0.026331</td>\n",
       "      <td>0.017066</td>\n",
       "      <td>-0.085837</td>\n",
       "      <td>0.138534</td>\n",
       "      <td>0.019422</td>\n",
       "      <td>-0.023381</td>\n",
       "      <td>-0.013112</td>\n",
       "      <td>...</td>\n",
       "      <td>-0.018045</td>\n",
       "      <td>-0.025660</td>\n",
       "      <td>-0.010380</td>\n",
       "      <td>-0.086809</td>\n",
       "      <td>0.357800</td>\n",
       "      <td>-0.091425</td>\n",
       "      <td>-0.123597</td>\n",
       "      <td>0.104352</td>\n",
       "      <td>-0.063421</td>\n",
       "      <td>-0.092607</td>\n",
       "    </tr>\n",
       "    <tr>\n",
       "      <th>tumor-size_05-09</th>\n",
       "      <td>-0.092655</td>\n",
       "      <td>-0.007286</td>\n",
       "      <td>0.043210</td>\n",
       "      <td>-0.018482</td>\n",
       "      <td>-0.020236</td>\n",
       "      <td>0.015610</td>\n",
       "      <td>-0.016412</td>\n",
       "      <td>0.013632</td>\n",
       "      <td>-0.016412</td>\n",
       "      <td>-0.009203</td>\n",
       "      <td>...</td>\n",
       "      <td>-0.012666</td>\n",
       "      <td>-0.018011</td>\n",
       "      <td>-0.007286</td>\n",
       "      <td>-0.060932</td>\n",
       "      <td>0.079656</td>\n",
       "      <td>-0.033041</td>\n",
       "      <td>-0.086754</td>\n",
       "      <td>0.073245</td>\n",
       "      <td>0.048900</td>\n",
       "      <td>0.007601</td>\n",
       "    </tr>\n",
       "    <tr>\n",
       "      <th>tumor-size_10-14</th>\n",
       "      <td>-0.223812</td>\n",
       "      <td>-0.020185</td>\n",
       "      <td>-0.058374</td>\n",
       "      <td>-0.025554</td>\n",
       "      <td>-0.005063</td>\n",
       "      <td>0.073267</td>\n",
       "      <td>0.044491</td>\n",
       "      <td>0.013662</td>\n",
       "      <td>0.044491</td>\n",
       "      <td>-0.025496</td>\n",
       "      <td>...</td>\n",
       "      <td>-0.035088</td>\n",
       "      <td>-0.049897</td>\n",
       "      <td>-0.020185</td>\n",
       "      <td>-0.138982</td>\n",
       "      <td>-0.050799</td>\n",
       "      <td>0.031668</td>\n",
       "      <td>0.063188</td>\n",
       "      <td>-0.014102</td>\n",
       "      <td>-0.086352</td>\n",
       "      <td>-0.093876</td>\n",
       "    </tr>\n",
       "    <tr>\n",
       "      <th>tumor-size_15-19</th>\n",
       "      <td>-0.059472</td>\n",
       "      <td>-0.020583</td>\n",
       "      <td>0.043169</td>\n",
       "      <td>-0.109027</td>\n",
       "      <td>0.011873</td>\n",
       "      <td>0.095828</td>\n",
       "      <td>-0.046363</td>\n",
       "      <td>0.026645</td>\n",
       "      <td>0.130776</td>\n",
       "      <td>-0.061477</td>\n",
       "      <td>...</td>\n",
       "      <td>0.078143</td>\n",
       "      <td>0.030120</td>\n",
       "      <td>-0.020583</td>\n",
       "      <td>-0.054693</td>\n",
       "      <td>0.035702</td>\n",
       "      <td>0.070417</td>\n",
       "      <td>-0.045852</td>\n",
       "      <td>0.025301</td>\n",
       "      <td>-0.089358</td>\n",
       "      <td>-0.042180</td>\n",
       "    </tr>\n",
       "    <tr>\n",
       "      <th>tumor-size_20-24</th>\n",
       "      <td>0.029157</td>\n",
       "      <td>-0.027558</td>\n",
       "      <td>-0.006758</td>\n",
       "      <td>0.113924</td>\n",
       "      <td>-0.076539</td>\n",
       "      <td>-0.036599</td>\n",
       "      <td>0.009570</td>\n",
       "      <td>0.032364</td>\n",
       "      <td>-0.062073</td>\n",
       "      <td>-0.015678</td>\n",
       "      <td>...</td>\n",
       "      <td>-0.047906</td>\n",
       "      <td>-0.068123</td>\n",
       "      <td>0.131475</td>\n",
       "      <td>-0.016719</td>\n",
       "      <td>0.013009</td>\n",
       "      <td>-0.007226</td>\n",
       "      <td>0.054615</td>\n",
       "      <td>-0.034068</td>\n",
       "      <td>-0.050596</td>\n",
       "      <td>-0.039902</td>\n",
       "    </tr>\n",
       "    <tr>\n",
       "      <th>tumor-size_25-29</th>\n",
       "      <td>0.064607</td>\n",
       "      <td>-0.028594</td>\n",
       "      <td>-0.017400</td>\n",
       "      <td>0.012242</td>\n",
       "      <td>0.084196</td>\n",
       "      <td>-0.073000</td>\n",
       "      <td>-0.064407</td>\n",
       "      <td>-0.105848</td>\n",
       "      <td>-0.064407</td>\n",
       "      <td>0.122686</td>\n",
       "      <td>...</td>\n",
       "      <td>0.040285</td>\n",
       "      <td>-0.006699</td>\n",
       "      <td>-0.028594</td>\n",
       "      <td>-0.007201</td>\n",
       "      <td>-0.065678</td>\n",
       "      <td>0.028435</td>\n",
       "      <td>-0.025709</td>\n",
       "      <td>0.093349</td>\n",
       "      <td>-0.030933</td>\n",
       "      <td>0.057764</td>\n",
       "    </tr>\n",
       "    <tr>\n",
       "      <th>tumor-size_30-34</th>\n",
       "      <td>0.082203</td>\n",
       "      <td>-0.030639</td>\n",
       "      <td>-0.010834</td>\n",
       "      <td>0.032240</td>\n",
       "      <td>-0.032810</td>\n",
       "      <td>0.037660</td>\n",
       "      <td>-0.069012</td>\n",
       "      <td>-0.005580</td>\n",
       "      <td>0.065138</td>\n",
       "      <td>-0.011833</td>\n",
       "      <td>...</td>\n",
       "      <td>0.033016</td>\n",
       "      <td>-0.014395</td>\n",
       "      <td>-0.030639</td>\n",
       "      <td>0.099537</td>\n",
       "      <td>-0.010840</td>\n",
       "      <td>-0.088416</td>\n",
       "      <td>0.012392</td>\n",
       "      <td>0.008646</td>\n",
       "      <td>0.116037</td>\n",
       "      <td>0.026607</td>\n",
       "    </tr>\n",
       "    <tr>\n",
       "      <th>tumor-size_35-39</th>\n",
       "      <td>0.135298</td>\n",
       "      <td>0.221809</td>\n",
       "      <td>0.022541</td>\n",
       "      <td>0.027384</td>\n",
       "      <td>0.023054</td>\n",
       "      <td>-0.099270</td>\n",
       "      <td>-0.036793</td>\n",
       "      <td>-0.070049</td>\n",
       "      <td>-0.036793</td>\n",
       "      <td>0.079635</td>\n",
       "      <td>...</td>\n",
       "      <td>-0.028396</td>\n",
       "      <td>0.155850</td>\n",
       "      <td>-0.016335</td>\n",
       "      <td>0.112339</td>\n",
       "      <td>-0.077724</td>\n",
       "      <td>0.050816</td>\n",
       "      <td>-0.013503</td>\n",
       "      <td>-0.081661</td>\n",
       "      <td>0.076561</td>\n",
       "      <td>-0.008660</td>\n",
       "    </tr>\n",
       "    <tr>\n",
       "      <th>tumor-size_40-44</th>\n",
       "      <td>0.031684</td>\n",
       "      <td>-0.017680</td>\n",
       "      <td>0.045295</td>\n",
       "      <td>-0.059142</td>\n",
       "      <td>0.021961</td>\n",
       "      <td>-0.045793</td>\n",
       "      <td>0.160743</td>\n",
       "      <td>0.086822</td>\n",
       "      <td>-0.039824</td>\n",
       "      <td>-0.075891</td>\n",
       "      <td>...</td>\n",
       "      <td>-0.030735</td>\n",
       "      <td>0.048009</td>\n",
       "      <td>-0.017680</td>\n",
       "      <td>0.051606</td>\n",
       "      <td>-0.084126</td>\n",
       "      <td>0.015966</td>\n",
       "      <td>0.043263</td>\n",
       "      <td>-0.088387</td>\n",
       "      <td>0.056837</td>\n",
       "      <td>0.066492</td>\n",
       "    </tr>\n",
       "    <tr>\n",
       "      <th>tumor-size_45-49</th>\n",
       "      <td>-0.008295</td>\n",
       "      <td>-0.006298</td>\n",
       "      <td>-0.040442</td>\n",
       "      <td>0.002696</td>\n",
       "      <td>-0.073190</td>\n",
       "      <td>0.122788</td>\n",
       "      <td>-0.014187</td>\n",
       "      <td>0.046884</td>\n",
       "      <td>-0.014187</td>\n",
       "      <td>-0.042935</td>\n",
       "      <td>...</td>\n",
       "      <td>-0.010949</td>\n",
       "      <td>-0.015570</td>\n",
       "      <td>-0.006298</td>\n",
       "      <td>0.034174</td>\n",
       "      <td>0.101800</td>\n",
       "      <td>-0.010622</td>\n",
       "      <td>-0.074994</td>\n",
       "      <td>-0.031487</td>\n",
       "      <td>0.069188</td>\n",
       "      <td>0.111172</td>\n",
       "    </tr>\n",
       "    <tr>\n",
       "      <th>tumor-size_50-54</th>\n",
       "      <td>-0.013670</td>\n",
       "      <td>-0.010380</td>\n",
       "      <td>-0.066652</td>\n",
       "      <td>-0.026331</td>\n",
       "      <td>0.017066</td>\n",
       "      <td>0.076278</td>\n",
       "      <td>-0.023381</td>\n",
       "      <td>0.019422</td>\n",
       "      <td>-0.023381</td>\n",
       "      <td>-0.013112</td>\n",
       "      <td>...</td>\n",
       "      <td>-0.018045</td>\n",
       "      <td>-0.025660</td>\n",
       "      <td>-0.010380</td>\n",
       "      <td>0.020540</td>\n",
       "      <td>-0.049392</td>\n",
       "      <td>-0.002722</td>\n",
       "      <td>0.058511</td>\n",
       "      <td>-0.051894</td>\n",
       "      <td>0.003123</td>\n",
       "      <td>0.062547</td>\n",
       "    </tr>\n",
       "    <tr>\n",
       "      <th>inv-nodes_0-02</th>\n",
       "      <td>-0.346184</td>\n",
       "      <td>0.034334</td>\n",
       "      <td>-0.078889</td>\n",
       "      <td>-0.002724</td>\n",
       "      <td>-0.011799</td>\n",
       "      <td>0.052608</td>\n",
       "      <td>0.077336</td>\n",
       "      <td>0.003291</td>\n",
       "      <td>0.077336</td>\n",
       "      <td>-0.023932</td>\n",
       "      <td>...</td>\n",
       "      <td>-0.183444</td>\n",
       "      <td>-0.260861</td>\n",
       "      <td>-0.105527</td>\n",
       "      <td>-0.694527</td>\n",
       "      <td>0.068299</td>\n",
       "      <td>-0.034143</td>\n",
       "      <td>0.019059</td>\n",
       "      <td>-0.010755</td>\n",
       "      <td>-0.023277</td>\n",
       "      <td>-0.357819</td>\n",
       "    </tr>\n",
       "    <tr>\n",
       "      <th>inv-nodes_03-05</th>\n",
       "      <td>0.151528</td>\n",
       "      <td>-0.022516</td>\n",
       "      <td>0.051733</td>\n",
       "      <td>-0.021773</td>\n",
       "      <td>0.019449</td>\n",
       "      <td>-0.020709</td>\n",
       "      <td>-0.050715</td>\n",
       "      <td>-0.024301</td>\n",
       "      <td>-0.050715</td>\n",
       "      <td>0.037760</td>\n",
       "      <td>...</td>\n",
       "      <td>-0.039140</td>\n",
       "      <td>-0.055658</td>\n",
       "      <td>-0.022516</td>\n",
       "      <td>0.332183</td>\n",
       "      <td>-0.024008</td>\n",
       "      <td>0.067661</td>\n",
       "      <td>-0.012498</td>\n",
       "      <td>-0.112560</td>\n",
       "      <td>0.032245</td>\n",
       "      <td>0.195056</td>\n",
       "    </tr>\n",
       "    <tr>\n",
       "      <th>inv-nodes_06-08</th>\n",
       "      <td>0.186153</td>\n",
       "      <td>-0.015392</td>\n",
       "      <td>0.080096</td>\n",
       "      <td>-0.079305</td>\n",
       "      <td>0.013296</td>\n",
       "      <td>0.023549</td>\n",
       "      <td>-0.034669</td>\n",
       "      <td>0.074207</td>\n",
       "      <td>-0.034669</td>\n",
       "      <td>-0.064696</td>\n",
       "      <td>...</td>\n",
       "      <td>-0.026756</td>\n",
       "      <td>-0.038048</td>\n",
       "      <td>-0.015392</td>\n",
       "      <td>0.395615</td>\n",
       "      <td>-0.016412</td>\n",
       "      <td>0.015306</td>\n",
       "      <td>-0.056195</td>\n",
       "      <td>0.086589</td>\n",
       "      <td>-0.001173</td>\n",
       "      <td>0.187471</td>\n",
       "    </tr>\n",
       "    <tr>\n",
       "      <th>inv-nodes_09-11</th>\n",
       "      <td>0.081938</td>\n",
       "      <td>-0.009692</td>\n",
       "      <td>0.074579</td>\n",
       "      <td>0.036988</td>\n",
       "      <td>-0.014675</td>\n",
       "      <td>-0.080144</td>\n",
       "      <td>-0.021831</td>\n",
       "      <td>-0.097604</td>\n",
       "      <td>-0.021831</td>\n",
       "      <td>0.103101</td>\n",
       "      <td>...</td>\n",
       "      <td>-0.016848</td>\n",
       "      <td>-0.023958</td>\n",
       "      <td>-0.009692</td>\n",
       "      <td>0.262593</td>\n",
       "      <td>-0.046117</td>\n",
       "      <td>-0.079446</td>\n",
       "      <td>0.078921</td>\n",
       "      <td>0.034910</td>\n",
       "      <td>0.011792</td>\n",
       "      <td>0.134281</td>\n",
       "    </tr>\n",
       "    <tr>\n",
       "      <th>inv-nodes_12-14</th>\n",
       "      <td>0.135305</td>\n",
       "      <td>-0.006298</td>\n",
       "      <td>-0.040442</td>\n",
       "      <td>0.152079</td>\n",
       "      <td>-0.073190</td>\n",
       "      <td>-0.052082</td>\n",
       "      <td>-0.014187</td>\n",
       "      <td>-0.023315</td>\n",
       "      <td>-0.014187</td>\n",
       "      <td>0.027024</td>\n",
       "      <td>...</td>\n",
       "      <td>1.000000</td>\n",
       "      <td>-0.015570</td>\n",
       "      <td>-0.006298</td>\n",
       "      <td>0.121021</td>\n",
       "      <td>-0.029969</td>\n",
       "      <td>-0.082383</td>\n",
       "      <td>-0.001330</td>\n",
       "      <td>0.221322</td>\n",
       "      <td>-0.038481</td>\n",
       "      <td>0.194854</td>\n",
       "    </tr>\n",
       "    <tr>\n",
       "      <th>inv-nodes_15-17</th>\n",
       "      <td>0.158373</td>\n",
       "      <td>-0.008956</td>\n",
       "      <td>-0.057509</td>\n",
       "      <td>0.056941</td>\n",
       "      <td>0.054326</td>\n",
       "      <td>-0.074062</td>\n",
       "      <td>-0.020174</td>\n",
       "      <td>0.016758</td>\n",
       "      <td>-0.020174</td>\n",
       "      <td>-0.011313</td>\n",
       "      <td>...</td>\n",
       "      <td>-0.015570</td>\n",
       "      <td>1.000000</td>\n",
       "      <td>-0.008956</td>\n",
       "      <td>0.233843</td>\n",
       "      <td>-0.042617</td>\n",
       "      <td>0.035919</td>\n",
       "      <td>-0.001891</td>\n",
       "      <td>-0.044775</td>\n",
       "      <td>0.021833</td>\n",
       "      <td>-0.020406</td>\n",
       "    </tr>\n",
       "    <tr>\n",
       "      <th>inv-nodes_24-26</th>\n",
       "      <td>0.077835</td>\n",
       "      <td>-0.003623</td>\n",
       "      <td>-0.023264</td>\n",
       "      <td>-0.041415</td>\n",
       "      <td>-0.042103</td>\n",
       "      <td>0.120932</td>\n",
       "      <td>-0.008161</td>\n",
       "      <td>0.067352</td>\n",
       "      <td>-0.008161</td>\n",
       "      <td>-0.064943</td>\n",
       "      <td>...</td>\n",
       "      <td>-0.006298</td>\n",
       "      <td>-0.008956</td>\n",
       "      <td>1.000000</td>\n",
       "      <td>0.119577</td>\n",
       "      <td>-0.017240</td>\n",
       "      <td>0.076452</td>\n",
       "      <td>-0.043140</td>\n",
       "      <td>-0.018113</td>\n",
       "      <td>-0.022136</td>\n",
       "      <td>0.112091</td>\n",
       "    </tr>\n",
       "    <tr>\n",
       "      <th>node-caps_yes</th>\n",
       "      <td>0.330181</td>\n",
       "      <td>-0.030300</td>\n",
       "      <td>0.019301</td>\n",
       "      <td>0.000139</td>\n",
       "      <td>0.049816</td>\n",
       "      <td>-0.047752</td>\n",
       "      <td>-0.068249</td>\n",
       "      <td>-0.015675</td>\n",
       "      <td>-0.068249</td>\n",
       "      <td>0.033847</td>\n",
       "      <td>...</td>\n",
       "      <td>0.121021</td>\n",
       "      <td>0.233843</td>\n",
       "      <td>0.119577</td>\n",
       "      <td>1.000000</td>\n",
       "      <td>-0.042296</td>\n",
       "      <td>-0.007945</td>\n",
       "      <td>-0.019053</td>\n",
       "      <td>0.011408</td>\n",
       "      <td>0.064613</td>\n",
       "      <td>0.333537</td>\n",
       "    </tr>\n",
       "    <tr>\n",
       "      <th>breast-quad_central</th>\n",
       "      <td>-0.078855</td>\n",
       "      <td>-0.017240</td>\n",
       "      <td>0.092100</td>\n",
       "      <td>-0.109444</td>\n",
       "      <td>0.031974</td>\n",
       "      <td>-0.005801</td>\n",
       "      <td>0.063611</td>\n",
       "      <td>0.073430</td>\n",
       "      <td>-0.038832</td>\n",
       "      <td>-0.062810</td>\n",
       "      <td>...</td>\n",
       "      <td>-0.029969</td>\n",
       "      <td>-0.042617</td>\n",
       "      <td>-0.017240</td>\n",
       "      <td>-0.042296</td>\n",
       "      <td>1.000000</td>\n",
       "      <td>-0.225499</td>\n",
       "      <td>-0.205271</td>\n",
       "      <td>-0.086186</td>\n",
       "      <td>-0.105330</td>\n",
       "      <td>-0.088360</td>\n",
       "    </tr>\n",
       "    <tr>\n",
       "      <th>breast-quad_left_low</th>\n",
       "      <td>-0.001251</td>\n",
       "      <td>-0.047391</td>\n",
       "      <td>0.004944</td>\n",
       "      <td>-0.016825</td>\n",
       "      <td>0.018612</td>\n",
       "      <td>0.036365</td>\n",
       "      <td>-0.106747</td>\n",
       "      <td>-0.015975</td>\n",
       "      <td>0.004834</td>\n",
       "      <td>0.014629</td>\n",
       "      <td>...</td>\n",
       "      <td>-0.082383</td>\n",
       "      <td>0.035919</td>\n",
       "      <td>0.076452</td>\n",
       "      <td>-0.007945</td>\n",
       "      <td>-0.225499</td>\n",
       "      <td>1.000000</td>\n",
       "      <td>-0.564278</td>\n",
       "      <td>-0.236920</td>\n",
       "      <td>-0.289546</td>\n",
       "      <td>0.022710</td>\n",
       "    </tr>\n",
       "    <tr>\n",
       "      <th>breast-quad_left_up</th>\n",
       "      <td>0.058286</td>\n",
       "      <td>-0.043140</td>\n",
       "      <td>-0.050260</td>\n",
       "      <td>0.013027</td>\n",
       "      <td>-0.014300</td>\n",
       "      <td>0.044643</td>\n",
       "      <td>0.017367</td>\n",
       "      <td>0.050025</td>\n",
       "      <td>0.017367</td>\n",
       "      <td>-0.054492</td>\n",
       "      <td>...</td>\n",
       "      <td>-0.001330</td>\n",
       "      <td>-0.001891</td>\n",
       "      <td>-0.043140</td>\n",
       "      <td>-0.019053</td>\n",
       "      <td>-0.205271</td>\n",
       "      <td>-0.564278</td>\n",
       "      <td>1.000000</td>\n",
       "      <td>-0.215668</td>\n",
       "      <td>-0.263573</td>\n",
       "      <td>0.035859</td>\n",
       "    </tr>\n",
       "    <tr>\n",
       "      <th>breast-quad_right_low</th>\n",
       "      <td>-0.041809</td>\n",
       "      <td>-0.018113</td>\n",
       "      <td>0.039329</td>\n",
       "      <td>0.073128</td>\n",
       "      <td>-0.043343</td>\n",
       "      <td>-0.084184</td>\n",
       "      <td>0.057473</td>\n",
       "      <td>-0.058273</td>\n",
       "      <td>-0.040799</td>\n",
       "      <td>0.068969</td>\n",
       "      <td>...</td>\n",
       "      <td>0.221322</td>\n",
       "      <td>-0.044775</td>\n",
       "      <td>-0.018113</td>\n",
       "      <td>0.011408</td>\n",
       "      <td>-0.086186</td>\n",
       "      <td>-0.236920</td>\n",
       "      <td>-0.215668</td>\n",
       "      <td>1.000000</td>\n",
       "      <td>-0.110665</td>\n",
       "      <td>0.026743</td>\n",
       "    </tr>\n",
       "    <tr>\n",
       "      <th>breast-quad_right_up</th>\n",
       "      <td>0.016729</td>\n",
       "      <td>0.163675</td>\n",
       "      <td>-0.042713</td>\n",
       "      <td>0.033342</td>\n",
       "      <td>0.003769</td>\n",
       "      <td>-0.043367</td>\n",
       "      <td>0.033845</td>\n",
       "      <td>-0.059514</td>\n",
       "      <td>0.033845</td>\n",
       "      <td>0.050273</td>\n",
       "      <td>...</td>\n",
       "      <td>-0.038481</td>\n",
       "      <td>0.021833</td>\n",
       "      <td>-0.022136</td>\n",
       "      <td>0.064613</td>\n",
       "      <td>-0.105330</td>\n",
       "      <td>-0.289546</td>\n",
       "      <td>-0.263573</td>\n",
       "      <td>-0.110665</td>\n",
       "      <td>1.000000</td>\n",
       "      <td>-0.037065</td>\n",
       "    </tr>\n",
       "    <tr>\n",
       "      <th>irradiat_yes</th>\n",
       "      <td>0.230821</td>\n",
       "      <td>-0.032324</td>\n",
       "      <td>0.050027</td>\n",
       "      <td>0.094212</td>\n",
       "      <td>-0.135879</td>\n",
       "      <td>0.036684</td>\n",
       "      <td>-0.072808</td>\n",
       "      <td>-0.061548</td>\n",
       "      <td>-0.072808</td>\n",
       "      <td>0.080780</td>\n",
       "      <td>...</td>\n",
       "      <td>0.194854</td>\n",
       "      <td>-0.020406</td>\n",
       "      <td>0.112091</td>\n",
       "      <td>0.333537</td>\n",
       "      <td>-0.088360</td>\n",
       "      <td>0.022710</td>\n",
       "      <td>0.035859</td>\n",
       "      <td>0.026743</td>\n",
       "      <td>-0.037065</td>\n",
       "      <td>1.000000</td>\n",
       "    </tr>\n",
       "  </tbody>\n",
       "</table>\n",
       "<p>35 rows × 35 columns</p>\n",
       "</div>"
      ],
      "text/plain": [
       "                       deg-malig  age_20-29  age_30-39  age_40-49  age_50-59  \\\n",
       "deg-malig               1.000000  -0.004772   0.043031   0.009116   0.007845   \n",
       "age_20-29              -0.004772   1.000000  -0.023264  -0.041415  -0.042103   \n",
       "age_30-39               0.043031  -0.023264   1.000000  -0.265925  -0.270338   \n",
       "age_40-49               0.009116  -0.041415  -0.265925   1.000000  -0.481261   \n",
       "age_50-59               0.007845  -0.042103  -0.270338  -0.481261   1.000000   \n",
       "age_60-69              -0.027036  -0.029961  -0.192375  -0.342469  -0.348152   \n",
       "age_70-79              -0.085174  -0.008161  -0.052401  -0.093286  -0.094834   \n",
       "menopause_ge40          0.048813  -0.053794  -0.345410  -0.474871   0.241209   \n",
       "menopause_lt40         -0.010748  -0.008161   0.028239  -0.093286   0.020634   \n",
       "menopause_premeno      -0.045776   0.055790   0.336690   0.498160  -0.245895   \n",
       "tumor-size_0-04        -0.072837  -0.010380   0.061560  -0.026331   0.017066   \n",
       "tumor-size_05-09       -0.092655  -0.007286   0.043210  -0.018482  -0.020236   \n",
       "tumor-size_10-14       -0.223812  -0.020185  -0.058374  -0.025554  -0.005063   \n",
       "tumor-size_15-19       -0.059472  -0.020583   0.043169  -0.109027   0.011873   \n",
       "tumor-size_20-24        0.029157  -0.027558  -0.006758   0.113924  -0.076539   \n",
       "tumor-size_25-29        0.064607  -0.028594  -0.017400   0.012242   0.084196   \n",
       "tumor-size_30-34        0.082203  -0.030639  -0.010834   0.032240  -0.032810   \n",
       "tumor-size_35-39        0.135298   0.221809   0.022541   0.027384   0.023054   \n",
       "tumor-size_40-44        0.031684  -0.017680   0.045295  -0.059142   0.021961   \n",
       "tumor-size_45-49       -0.008295  -0.006298  -0.040442   0.002696  -0.073190   \n",
       "tumor-size_50-54       -0.013670  -0.010380  -0.066652  -0.026331   0.017066   \n",
       "inv-nodes_0-02         -0.346184   0.034334  -0.078889  -0.002724  -0.011799   \n",
       "inv-nodes_03-05         0.151528  -0.022516   0.051733  -0.021773   0.019449   \n",
       "inv-nodes_06-08         0.186153  -0.015392   0.080096  -0.079305   0.013296   \n",
       "inv-nodes_09-11         0.081938  -0.009692   0.074579   0.036988  -0.014675   \n",
       "inv-nodes_12-14         0.135305  -0.006298  -0.040442   0.152079  -0.073190   \n",
       "inv-nodes_15-17         0.158373  -0.008956  -0.057509   0.056941   0.054326   \n",
       "inv-nodes_24-26         0.077835  -0.003623  -0.023264  -0.041415  -0.042103   \n",
       "node-caps_yes           0.330181  -0.030300   0.019301   0.000139   0.049816   \n",
       "breast-quad_central    -0.078855  -0.017240   0.092100  -0.109444   0.031974   \n",
       "breast-quad_left_low   -0.001251  -0.047391   0.004944  -0.016825   0.018612   \n",
       "breast-quad_left_up     0.058286  -0.043140  -0.050260   0.013027  -0.014300   \n",
       "breast-quad_right_low  -0.041809  -0.018113   0.039329   0.073128  -0.043343   \n",
       "breast-quad_right_up    0.016729   0.163675  -0.042713   0.033342   0.003769   \n",
       "irradiat_yes            0.230821  -0.032324   0.050027   0.094212  -0.135879   \n",
       "\n",
       "                       age_60-69  age_70-79  menopause_ge40  menopause_lt40  \\\n",
       "deg-malig              -0.027036  -0.085174        0.048813       -0.010748   \n",
       "age_20-29              -0.029961  -0.008161       -0.053794       -0.008161   \n",
       "age_30-39              -0.192375  -0.052401       -0.345410        0.028239   \n",
       "age_40-49              -0.342469  -0.093286       -0.474871       -0.093286   \n",
       "age_50-59              -0.348152  -0.094834        0.241209        0.020634   \n",
       "age_60-69               1.000000  -0.067485        0.520517        0.068466   \n",
       "age_70-79              -0.067485   1.000000        0.151708       -0.018382   \n",
       "menopause_ge40          0.520517   0.151708        1.000000       -0.121169   \n",
       "menopause_lt40          0.068466  -0.018382       -0.121169        1.000000   \n",
       "menopause_premeno      -0.537023  -0.146281       -0.964229       -0.146281   \n",
       "tumor-size_0-04        -0.085837   0.138534        0.019422       -0.023381   \n",
       "tumor-size_05-09        0.015610  -0.016412        0.013632       -0.016412   \n",
       "tumor-size_10-14        0.073267   0.044491        0.013662        0.044491   \n",
       "tumor-size_15-19        0.095828  -0.046363        0.026645        0.130776   \n",
       "tumor-size_20-24       -0.036599   0.009570        0.032364       -0.062073   \n",
       "tumor-size_25-29       -0.073000  -0.064407       -0.105848       -0.064407   \n",
       "tumor-size_30-34        0.037660  -0.069012       -0.005580        0.065138   \n",
       "tumor-size_35-39       -0.099270  -0.036793       -0.070049       -0.036793   \n",
       "tumor-size_40-44       -0.045793   0.160743        0.086822       -0.039824   \n",
       "tumor-size_45-49        0.122788  -0.014187        0.046884       -0.014187   \n",
       "tumor-size_50-54        0.076278  -0.023381        0.019422       -0.023381   \n",
       "inv-nodes_0-02          0.052608   0.077336        0.003291        0.077336   \n",
       "inv-nodes_03-05        -0.020709  -0.050715       -0.024301       -0.050715   \n",
       "inv-nodes_06-08         0.023549  -0.034669        0.074207       -0.034669   \n",
       "inv-nodes_09-11        -0.080144  -0.021831       -0.097604       -0.021831   \n",
       "inv-nodes_12-14        -0.052082  -0.014187       -0.023315       -0.014187   \n",
       "inv-nodes_15-17        -0.074062  -0.020174        0.016758       -0.020174   \n",
       "inv-nodes_24-26         0.120932  -0.008161        0.067352       -0.008161   \n",
       "node-caps_yes          -0.047752  -0.068249       -0.015675       -0.068249   \n",
       "breast-quad_central    -0.005801   0.063611        0.073430       -0.038832   \n",
       "breast-quad_left_low    0.036365  -0.106747       -0.015975        0.004834   \n",
       "breast-quad_left_up     0.044643   0.017367        0.050025        0.017367   \n",
       "breast-quad_right_low  -0.084184   0.057473       -0.058273       -0.040799   \n",
       "breast-quad_right_up   -0.043367   0.033845       -0.059514        0.033845   \n",
       "irradiat_yes            0.036684  -0.072808       -0.061548       -0.072808   \n",
       "\n",
       "                       menopause_premeno      ...       inv-nodes_12-14  \\\n",
       "deg-malig                      -0.045776      ...              0.135305   \n",
       "age_20-29                       0.055790      ...             -0.006298   \n",
       "age_30-39                       0.336690      ...             -0.040442   \n",
       "age_40-49                       0.498160      ...              0.152079   \n",
       "age_50-59                      -0.245895      ...             -0.073190   \n",
       "age_60-69                      -0.537023      ...             -0.052082   \n",
       "age_70-79                      -0.146281      ...             -0.014187   \n",
       "menopause_ge40                 -0.964229      ...             -0.023315   \n",
       "menopause_lt40                 -0.146281      ...             -0.014187   \n",
       "menopause_premeno               1.000000      ...              0.027024   \n",
       "tumor-size_0-04                -0.013112      ...             -0.018045   \n",
       "tumor-size_05-09               -0.009203      ...             -0.012666   \n",
       "tumor-size_10-14               -0.025496      ...             -0.035088   \n",
       "tumor-size_15-19               -0.061477      ...              0.078143   \n",
       "tumor-size_20-24               -0.015678      ...             -0.047906   \n",
       "tumor-size_25-29                0.122686      ...              0.040285   \n",
       "tumor-size_30-34               -0.011833      ...              0.033016   \n",
       "tumor-size_35-39                0.079635      ...             -0.028396   \n",
       "tumor-size_40-44               -0.075891      ...             -0.030735   \n",
       "tumor-size_45-49               -0.042935      ...             -0.010949   \n",
       "tumor-size_50-54               -0.013112      ...             -0.018045   \n",
       "inv-nodes_0-02                 -0.023932      ...             -0.183444   \n",
       "inv-nodes_03-05                 0.037760      ...             -0.039140   \n",
       "inv-nodes_06-08                -0.064696      ...             -0.026756   \n",
       "inv-nodes_09-11                 0.103101      ...             -0.016848   \n",
       "inv-nodes_12-14                 0.027024      ...              1.000000   \n",
       "inv-nodes_15-17                -0.011313      ...             -0.015570   \n",
       "inv-nodes_24-26                -0.064943      ...             -0.006298   \n",
       "node-caps_yes                   0.033847      ...              0.121021   \n",
       "breast-quad_central            -0.062810      ...             -0.029969   \n",
       "breast-quad_left_low            0.014629      ...             -0.082383   \n",
       "breast-quad_left_up            -0.054492      ...             -0.001330   \n",
       "breast-quad_right_low           0.068969      ...              0.221322   \n",
       "breast-quad_right_up            0.050273      ...             -0.038481   \n",
       "irradiat_yes                    0.080780      ...              0.194854   \n",
       "\n",
       "                       inv-nodes_15-17  inv-nodes_24-26  node-caps_yes  \\\n",
       "deg-malig                     0.158373         0.077835       0.330181   \n",
       "age_20-29                    -0.008956        -0.003623      -0.030300   \n",
       "age_30-39                    -0.057509        -0.023264       0.019301   \n",
       "age_40-49                     0.056941        -0.041415       0.000139   \n",
       "age_50-59                     0.054326        -0.042103       0.049816   \n",
       "age_60-69                    -0.074062         0.120932      -0.047752   \n",
       "age_70-79                    -0.020174        -0.008161      -0.068249   \n",
       "menopause_ge40                0.016758         0.067352      -0.015675   \n",
       "menopause_lt40               -0.020174        -0.008161      -0.068249   \n",
       "menopause_premeno            -0.011313        -0.064943       0.033847   \n",
       "tumor-size_0-04              -0.025660        -0.010380      -0.086809   \n",
       "tumor-size_05-09             -0.018011        -0.007286      -0.060932   \n",
       "tumor-size_10-14             -0.049897        -0.020185      -0.138982   \n",
       "tumor-size_15-19              0.030120        -0.020583      -0.054693   \n",
       "tumor-size_20-24             -0.068123         0.131475      -0.016719   \n",
       "tumor-size_25-29             -0.006699        -0.028594      -0.007201   \n",
       "tumor-size_30-34             -0.014395        -0.030639       0.099537   \n",
       "tumor-size_35-39              0.155850        -0.016335       0.112339   \n",
       "tumor-size_40-44              0.048009        -0.017680       0.051606   \n",
       "tumor-size_45-49             -0.015570        -0.006298       0.034174   \n",
       "tumor-size_50-54             -0.025660        -0.010380       0.020540   \n",
       "inv-nodes_0-02               -0.260861        -0.105527      -0.694527   \n",
       "inv-nodes_03-05              -0.055658        -0.022516       0.332183   \n",
       "inv-nodes_06-08              -0.038048        -0.015392       0.395615   \n",
       "inv-nodes_09-11              -0.023958        -0.009692       0.262593   \n",
       "inv-nodes_12-14              -0.015570        -0.006298       0.121021   \n",
       "inv-nodes_15-17               1.000000        -0.008956       0.233843   \n",
       "inv-nodes_24-26              -0.008956         1.000000       0.119577   \n",
       "node-caps_yes                 0.233843         0.119577       1.000000   \n",
       "breast-quad_central          -0.042617        -0.017240      -0.042296   \n",
       "breast-quad_left_low          0.035919         0.076452      -0.007945   \n",
       "breast-quad_left_up          -0.001891        -0.043140      -0.019053   \n",
       "breast-quad_right_low        -0.044775        -0.018113       0.011408   \n",
       "breast-quad_right_up          0.021833        -0.022136       0.064613   \n",
       "irradiat_yes                 -0.020406         0.112091       0.333537   \n",
       "\n",
       "                       breast-quad_central  breast-quad_left_low  \\\n",
       "deg-malig                        -0.078855             -0.001251   \n",
       "age_20-29                        -0.017240             -0.047391   \n",
       "age_30-39                         0.092100              0.004944   \n",
       "age_40-49                        -0.109444             -0.016825   \n",
       "age_50-59                         0.031974              0.018612   \n",
       "age_60-69                        -0.005801              0.036365   \n",
       "age_70-79                         0.063611             -0.106747   \n",
       "menopause_ge40                    0.073430             -0.015975   \n",
       "menopause_lt40                   -0.038832              0.004834   \n",
       "menopause_premeno                -0.062810              0.014629   \n",
       "tumor-size_0-04                   0.357800             -0.091425   \n",
       "tumor-size_05-09                  0.079656             -0.033041   \n",
       "tumor-size_10-14                 -0.050799              0.031668   \n",
       "tumor-size_15-19                  0.035702              0.070417   \n",
       "tumor-size_20-24                  0.013009             -0.007226   \n",
       "tumor-size_25-29                 -0.065678              0.028435   \n",
       "tumor-size_30-34                 -0.010840             -0.088416   \n",
       "tumor-size_35-39                 -0.077724              0.050816   \n",
       "tumor-size_40-44                 -0.084126              0.015966   \n",
       "tumor-size_45-49                  0.101800             -0.010622   \n",
       "tumor-size_50-54                 -0.049392             -0.002722   \n",
       "inv-nodes_0-02                    0.068299             -0.034143   \n",
       "inv-nodes_03-05                  -0.024008              0.067661   \n",
       "inv-nodes_06-08                  -0.016412              0.015306   \n",
       "inv-nodes_09-11                  -0.046117             -0.079446   \n",
       "inv-nodes_12-14                  -0.029969             -0.082383   \n",
       "inv-nodes_15-17                  -0.042617              0.035919   \n",
       "inv-nodes_24-26                  -0.017240              0.076452   \n",
       "node-caps_yes                    -0.042296             -0.007945   \n",
       "breast-quad_central               1.000000             -0.225499   \n",
       "breast-quad_left_low             -0.225499              1.000000   \n",
       "breast-quad_left_up              -0.205271             -0.564278   \n",
       "breast-quad_right_low            -0.086186             -0.236920   \n",
       "breast-quad_right_up             -0.105330             -0.289546   \n",
       "irradiat_yes                     -0.088360              0.022710   \n",
       "\n",
       "                       breast-quad_left_up  breast-quad_right_low  \\\n",
       "deg-malig                         0.058286              -0.041809   \n",
       "age_20-29                        -0.043140              -0.018113   \n",
       "age_30-39                        -0.050260               0.039329   \n",
       "age_40-49                         0.013027               0.073128   \n",
       "age_50-59                        -0.014300              -0.043343   \n",
       "age_60-69                         0.044643              -0.084184   \n",
       "age_70-79                         0.017367               0.057473   \n",
       "menopause_ge40                    0.050025              -0.058273   \n",
       "menopause_lt40                    0.017367              -0.040799   \n",
       "menopause_premeno                -0.054492               0.068969   \n",
       "tumor-size_0-04                  -0.123597               0.104352   \n",
       "tumor-size_05-09                 -0.086754               0.073245   \n",
       "tumor-size_10-14                  0.063188              -0.014102   \n",
       "tumor-size_15-19                 -0.045852               0.025301   \n",
       "tumor-size_20-24                  0.054615              -0.034068   \n",
       "tumor-size_25-29                 -0.025709               0.093349   \n",
       "tumor-size_30-34                  0.012392               0.008646   \n",
       "tumor-size_35-39                 -0.013503              -0.081661   \n",
       "tumor-size_40-44                  0.043263              -0.088387   \n",
       "tumor-size_45-49                 -0.074994              -0.031487   \n",
       "tumor-size_50-54                  0.058511              -0.051894   \n",
       "inv-nodes_0-02                    0.019059              -0.010755   \n",
       "inv-nodes_03-05                  -0.012498              -0.112560   \n",
       "inv-nodes_06-08                  -0.056195               0.086589   \n",
       "inv-nodes_09-11                   0.078921               0.034910   \n",
       "inv-nodes_12-14                  -0.001330               0.221322   \n",
       "inv-nodes_15-17                  -0.001891              -0.044775   \n",
       "inv-nodes_24-26                  -0.043140              -0.018113   \n",
       "node-caps_yes                    -0.019053               0.011408   \n",
       "breast-quad_central              -0.205271              -0.086186   \n",
       "breast-quad_left_low             -0.564278              -0.236920   \n",
       "breast-quad_left_up               1.000000              -0.215668   \n",
       "breast-quad_right_low            -0.215668               1.000000   \n",
       "breast-quad_right_up             -0.263573              -0.110665   \n",
       "irradiat_yes                      0.035859               0.026743   \n",
       "\n",
       "                       breast-quad_right_up  irradiat_yes  \n",
       "deg-malig                          0.016729      0.230821  \n",
       "age_20-29                          0.163675     -0.032324  \n",
       "age_30-39                         -0.042713      0.050027  \n",
       "age_40-49                          0.033342      0.094212  \n",
       "age_50-59                          0.003769     -0.135879  \n",
       "age_60-69                         -0.043367      0.036684  \n",
       "age_70-79                          0.033845     -0.072808  \n",
       "menopause_ge40                    -0.059514     -0.061548  \n",
       "menopause_lt40                     0.033845     -0.072808  \n",
       "menopause_premeno                  0.050273      0.080780  \n",
       "tumor-size_0-04                   -0.063421     -0.092607  \n",
       "tumor-size_05-09                   0.048900      0.007601  \n",
       "tumor-size_10-14                  -0.086352     -0.093876  \n",
       "tumor-size_15-19                  -0.089358     -0.042180  \n",
       "tumor-size_20-24                  -0.050596     -0.039902  \n",
       "tumor-size_25-29                  -0.030933      0.057764  \n",
       "tumor-size_30-34                   0.116037      0.026607  \n",
       "tumor-size_35-39                   0.076561     -0.008660  \n",
       "tumor-size_40-44                   0.056837      0.066492  \n",
       "tumor-size_45-49                   0.069188      0.111172  \n",
       "tumor-size_50-54                   0.003123      0.062547  \n",
       "inv-nodes_0-02                    -0.023277     -0.357819  \n",
       "inv-nodes_03-05                    0.032245      0.195056  \n",
       "inv-nodes_06-08                   -0.001173      0.187471  \n",
       "inv-nodes_09-11                    0.011792      0.134281  \n",
       "inv-nodes_12-14                   -0.038481      0.194854  \n",
       "inv-nodes_15-17                    0.021833     -0.020406  \n",
       "inv-nodes_24-26                   -0.022136      0.112091  \n",
       "node-caps_yes                      0.064613      0.333537  \n",
       "breast-quad_central               -0.105330     -0.088360  \n",
       "breast-quad_left_low              -0.289546      0.022710  \n",
       "breast-quad_left_up               -0.263573      0.035859  \n",
       "breast-quad_right_low             -0.110665      0.026743  \n",
       "breast-quad_right_up               1.000000     -0.037065  \n",
       "irradiat_yes                      -0.037065      1.000000  \n",
       "\n",
       "[35 rows x 35 columns]"
      ]
     },
     "execution_count": 25,
     "metadata": {},
     "output_type": "execute_result"
    }
   ],
   "source": [
    "X.corr()"
   ]
  },
  {
   "cell_type": "markdown",
   "metadata": {},
   "source": [
    "Как видим, признаки слабо коррелируют друг с другом."
   ]
  },
  {
   "cell_type": "markdown",
   "metadata": {},
   "source": [
    "## Список моделей"
   ]
  },
  {
   "cell_type": "markdown",
   "metadata": {},
   "source": [
    "В данном задании для решения поставленной задачи будут использоваться следующие модели:\n",
    "1. Логистическая регрессия\n",
    "2. Нейронная сеть\n",
    "3. Градиентный бустинг"
   ]
  },
  {
   "cell_type": "markdown",
   "metadata": {},
   "source": [
    "## Критерии качества"
   ]
  },
  {
   "cell_type": "markdown",
   "metadata": {},
   "source": [
    "В качестве критериев качества рассматриваются:\n",
    "1. Точность\n",
    "2. ROC AUC\n",
    "3. PR кривая"
   ]
  },
  {
   "cell_type": "markdown",
   "metadata": {},
   "source": [
    "## Разбиение выборки на обучение и контроль"
   ]
  },
  {
   "cell_type": "markdown",
   "metadata": {},
   "source": [
    "Возьмем одну треть выборки под контроль, остальное для обучения, также обеспечим, чтобы в обучающей и контрольной выборках было одинаковое соотношение классов"
   ]
  },
  {
   "cell_type": "code",
   "execution_count": 26,
   "metadata": {},
   "outputs": [],
   "source": [
    "X_train, X_test, y_train, y_test = train_test_split(X, y, shuffle= True, test_size=0.33, random_state=42, stratify=y)"
   ]
  },
  {
   "cell_type": "markdown",
   "metadata": {},
   "source": [
    "## Обучение моделей и их анализ"
   ]
  },
  {
   "cell_type": "markdown",
   "metadata": {},
   "source": [
    "### Логистическая регрессия"
   ]
  },
  {
   "cell_type": "code",
   "execution_count": 27,
   "metadata": {},
   "outputs": [],
   "source": [
    "classifier = LogisticRegression(class_weight='balanced')\n",
    "cv = StratifiedKFold(n_splits=5, shuffle=True, random_state=42)"
   ]
  },
  {
   "cell_type": "code",
   "execution_count": 28,
   "metadata": {},
   "outputs": [],
   "source": [
    "parameters_grid = {\n",
    "    'C' : [0.001, 0.01, 0.1, 1, 10, 100, 1000],\n",
    "}"
   ]
  },
  {
   "cell_type": "code",
   "execution_count": 29,
   "metadata": {},
   "outputs": [],
   "source": [
    "grid_cv = GridSearchCV(classifier, parameters_grid, scoring='accuracy', cv=cv)"
   ]
  },
  {
   "cell_type": "code",
   "execution_count": 30,
   "metadata": {},
   "outputs": [
    {
     "data": {
      "text/plain": [
       "GridSearchCV(cv=StratifiedKFold(n_splits=5, random_state=42, shuffle=True),\n",
       "       error_score='raise',\n",
       "       estimator=LogisticRegression(C=1.0, class_weight='balanced', dual=False,\n",
       "          fit_intercept=True, intercept_scaling=1, max_iter=100,\n",
       "          multi_class='ovr', n_jobs=1, penalty='l2', random_state=None,\n",
       "          solver='liblinear', tol=0.0001, verbose=0, warm_start=False),\n",
       "       fit_params=None, iid=True, n_jobs=1,\n",
       "       param_grid={'C': [0.001, 0.01, 0.1, 1, 10, 100, 1000]},\n",
       "       pre_dispatch='2*n_jobs', refit=True, return_train_score='warn',\n",
       "       scoring='accuracy', verbose=0)"
      ]
     },
     "execution_count": 30,
     "metadata": {},
     "output_type": "execute_result"
    }
   ],
   "source": [
    "grid_cv.fit(X_train, np.ravel(y_train))"
   ]
  },
  {
   "cell_type": "code",
   "execution_count": 31,
   "metadata": {},
   "outputs": [
    {
     "data": {
      "text/plain": [
       "{'C': 0.1}"
      ]
     },
     "execution_count": 31,
     "metadata": {},
     "output_type": "execute_result"
    }
   ],
   "source": [
    "grid_cv.best_params_"
   ]
  },
  {
   "cell_type": "code",
   "execution_count": 32,
   "metadata": {},
   "outputs": [],
   "source": [
    "y_predicted = grid_cv.predict(X_test)"
   ]
  },
  {
   "cell_type": "code",
   "execution_count": 33,
   "metadata": {},
   "outputs": [
    {
     "data": {
      "text/plain": [
       "LogisticRegression(C=0.1, class_weight='balanced', dual=False,\n",
       "          fit_intercept=True, intercept_scaling=1, max_iter=100,\n",
       "          multi_class='ovr', n_jobs=1, penalty='l2', random_state=None,\n",
       "          solver='liblinear', tol=0.0001, verbose=0, warm_start=False)"
      ]
     },
     "execution_count": 33,
     "metadata": {},
     "output_type": "execute_result"
    }
   ],
   "source": [
    "best_classifier = LogisticRegression(class_weight='balanced', C=0.1)\n",
    "best_classifier.fit(X_train, np.ravel(y_train))"
   ]
  },
  {
   "cell_type": "code",
   "execution_count": 34,
   "metadata": {},
   "outputs": [],
   "source": [
    "y_prob = best_classifier.predict_proba(X_test)"
   ]
  },
  {
   "cell_type": "code",
   "execution_count": 35,
   "metadata": {},
   "outputs": [
    {
     "data": {
      "text/plain": [
       "0.6847826086956522"
      ]
     },
     "execution_count": 35,
     "metadata": {},
     "output_type": "execute_result"
    }
   ],
   "source": [
    "metrics.accuracy_score(np.ravel(y_test), y_predicted)"
   ]
  },
  {
   "cell_type": "code",
   "execution_count": 36,
   "metadata": {},
   "outputs": [
    {
     "data": {
      "text/plain": [
       "0.6686609686609687"
      ]
     },
     "execution_count": 36,
     "metadata": {},
     "output_type": "execute_result"
    }
   ],
   "source": [
    "metrics.roc_auc_score(np.ravel(y_test), y_predicted)"
   ]
  },
  {
   "cell_type": "code",
   "execution_count": 37,
   "metadata": {},
   "outputs": [],
   "source": [
    "fpr, tpr, _ = metrics.roc_curve(np.ravel(y_test), y_prob[:, 1])"
   ]
  },
  {
   "cell_type": "code",
   "execution_count": 38,
   "metadata": {},
   "outputs": [
    {
     "data": {
      "text/plain": [
       "Text(0,0.5,'True positive rate')"
      ]
     },
     "execution_count": 38,
     "metadata": {},
     "output_type": "execute_result"
    },
    {
     "data": {
      "image/png": "[encoded data removed]",
      "text/plain": [
       "<matplotlib.figure.Figure at 0x1dca2e40ef0>"
      ]
     },
     "metadata": {},
     "output_type": "display_data"
    }
   ],
   "source": [
    "plt.title(\"ROC-кривая\")\n",
    "plt.plot(fpr, tpr)\n",
    "plt.grid()\n",
    "plt.xlabel('False positive rate')\n",
    "plt.ylabel('True positive rate')"
   ]
  },
  {
   "cell_type": "code",
   "execution_count": 39,
   "metadata": {},
   "outputs": [],
   "source": [
    "precision, recall, _ = metrics.precision_recall_curve(np.ravel(y_test), y_prob[:, 1])"
   ]
  },
  {
   "cell_type": "code",
   "execution_count": 40,
   "metadata": {},
   "outputs": [
    {
     "data": {
      "text/plain": [
       "Text(0,0.5,'Precision')"
      ]
     },
     "execution_count": 40,
     "metadata": {},
     "output_type": "execute_result"
    },
    {
     "data": {
      "image/png": "[encoded data removed]",
      "text/plain": [
       "<matplotlib.figure.Figure at 0x1dca2dfbd30>"
      ]
     },
     "metadata": {},
     "output_type": "display_data"
    }
   ],
   "source": [
    "plt.title(\"PR-кривая\")\n",
    "plt.plot(recall, precision)\n",
    "plt.grid()\n",
    "plt.xlabel('Recall')\n",
    "plt.ylabel('Precision')"
   ]
  },
  {
   "cell_type": "code",
   "execution_count": 41,
   "metadata": {},
   "outputs": [],
   "source": [
    "acc = np.zeros(7)\n",
    "for i, c in enumerate([0.001, 0.01, 0.1, 1, 10, 100, 1000]):\n",
    "    temp_classifier = LogisticRegression(class_weight='balanced', C=c)\n",
    "    temp_classifier.fit(X_train, np.ravel(y_train))\n",
    "    y_predicted = temp_classifier.predict(X_test)\n",
    "    acc[i] = metrics.accuracy_score(np.ravel(y_test), y_predicted)"
   ]
  },
  {
   "cell_type": "code",
   "execution_count": 42,
   "metadata": {},
   "outputs": [
    {
     "data": {
      "image/png": "[encoded data removed]",
      "text/plain": [
       "<matplotlib.figure.Figure at 0x1dca2a281d0>"
      ]
     },
     "metadata": {},
     "output_type": "display_data"
    }
   ],
   "source": [
    "plt.title(\"График зависимости accuracy от параметра $C$ логистической регрессии\")\n",
    "plt.plot([0.001, 0.01, 0.1, 1, 10, 100, 1000], acc)\n",
    "plt.grid()\n",
    "plt.xscale(\"log\")\n",
    "plt.xlabel(\"C\")\n",
    "plt.ylabel(\"accuracy\")\n",
    "plt.show()"
   ]
  },
  {
   "cell_type": "code",
   "execution_count": 43,
   "metadata": {},
   "outputs": [
    {
     "data": {
      "text/plain": [
       "185"
      ]
     },
     "execution_count": 43,
     "metadata": {},
     "output_type": "execute_result"
    }
   ],
   "source": [
    "y_train.size"
   ]
  },
  {
   "cell_type": "code",
   "execution_count": 46,
   "metadata": {},
   "outputs": [],
   "source": [
    "temp_classifier = LogisticRegression(class_weight='balanced', C=0.1)\n",
    "acc = np.zeros((y_train.size - 50, 7))\n",
    "k = y_test.size // 7 + (y_test.size % 7 > 0)\n",
    "for i in range(y_train.size - 50):\n",
    "    temp_classifier.fit(X_train[:50 + i], np.ravel(y_train)[:50 + i])\n",
    "    y_predicted = temp_classifier.predict(X_test)\n",
    "    for j in range(7):\n",
    "        acc[i][j] = metrics.accuracy_score((np.ravel(y_test))[k * j: k * (j + 1)], y_predicted[k * j: k * (j + 1)])"
   ]
  },
  {
   "cell_type": "code",
   "execution_count": 48,
   "metadata": {},
   "outputs": [
    {
     "data": {
      "image/png": "[encoded data removed]",
      "text/plain": [
       "<matplotlib.figure.Figure at 0x1dca2b73438>"
      ]
     },
     "metadata": {},
     "output_type": "display_data"
    }
   ],
   "source": [
    "acc_mean = np.mean(acc, axis=1)\n",
    "acc_std = np.std(acc, axis=1)\n",
    "plt.title(\"График зависимости accuracy от размера обучающей выборки\")\n",
    "plt.plot(range(50, y_train.size), acc_mean, 'k-')\n",
    "plt.plot(range(50, y_train.size), acc_mean - acc_std, 'b-')\n",
    "plt.plot(range(50, y_train.size), acc_mean + acc_std, 'b-')\n",
    "plt.fill_between(range(50, y_train.size), acc_mean - acc_std, acc_mean + acc_std)\n",
    "plt.grid()\n",
    "plt.xlabel(\"Размер обучающей выборки\")\n",
    "plt.ylabel(\"accuracy\")\n",
    "plt.show()"
   ]
  },
  {
   "cell_type": "code",
   "execution_count": 49,
   "metadata": {},
   "outputs": [],
   "source": [
    "acc = np.zeros(1000)\n",
    "for i in range(1000):\n",
    "    temp_classifier = LogisticRegression(class_weight='balanced', C=0.001, max_iter=i)\n",
    "    temp_classifier.fit(X_train, np.ravel(y_train))\n",
    "    y_predicted = temp_classifier.predict(X_test)\n",
    "    acc[i] = metrics.accuracy_score(np.ravel(y_test), y_predicted)"
   ]
  },
  {
   "cell_type": "code",
   "execution_count": 50,
   "metadata": {},
   "outputs": [
    {
     "data": {
      "image/png": "[encoded data removed]",
      "text/plain": [
       "<matplotlib.figure.Figure at 0x1dca2b71940>"
      ]
     },
     "metadata": {},
     "output_type": "display_data"
    }
   ],
   "source": [
    "plt.title(\"График зависимости accuracy от числа итераций оптимизационного процесса\")\n",
    "plt.plot(range(1000), acc)\n",
    "plt.grid()\n",
    "plt.xlabel(\"Число итераций\")\n",
    "plt.ylabel(\"accuracy\")\n",
    "plt.show()"
   ]
  },
  {
   "cell_type": "code",
   "execution_count": 51,
   "metadata": {},
   "outputs": [
    {
     "data": {
      "image/png": "[encoded data removed]",
      "text/plain": [
       "<matplotlib.figure.Figure at 0x1dca2aa9630>"
      ]
     },
     "metadata": {},
     "output_type": "display_data"
    }
   ],
   "source": [
    "plt.title(\"График зависимости accuracy от числа итераций оптимизационного процесса\")\n",
    "plt.plot(range(1, 11), acc[:10])\n",
    "plt.grid()\n",
    "plt.xlabel(\"Число итераций\")\n",
    "plt.ylabel(\"accuracy\")\n",
    "plt.show()"
   ]
  },
  {
   "cell_type": "markdown",
   "metadata": {},
   "source": [
    "### Нейронная сеть"
   ]
  },
  {
   "cell_type": "code",
   "execution_count": 52,
   "metadata": {},
   "outputs": [],
   "source": [
    "ds_train = ClassificationDataSet(np.shape(X)[1], nb_classes=len(np.unique(y_train)))\n",
    "ds_train.setField('input', X_train)\n",
    "ds_train.setField('target', y_train)\n",
    "ds_train._convertToOneOfMany()\n",
    "ds_test = ClassificationDataSet(np.shape(X)[1], nb_classes=len(np.unique(y_train)))\n",
    "ds_test.setField('input', X_test)\n",
    "ds_test.setField('target', y_test)\n",
    "ds_test._convertToOneOfMany()"
   ]
  },
  {
   "cell_type": "code",
   "execution_count": 53,
   "metadata": {},
   "outputs": [],
   "source": [
    "np.random.seed(42)\n",
    "\n",
    "net = buildNetwork(ds_train.indim, 100, ds_train.outdim, outclass=SoftmaxLayer)\n",
    "\n",
    "init_params = np.random.random((len(net.params)))\n",
    "net._setParameters(init_params)"
   ]
  },
  {
   "cell_type": "code",
   "execution_count": 54,
   "metadata": {},
   "outputs": [],
   "source": [
    "random.seed(42)\n",
    "trainer = BackpropTrainer(net, dataset=ds_train)\n",
    "err_train, err_val = trainer.trainUntilConvergence(maxEpochs=45)"
   ]
  },
  {
   "cell_type": "code",
   "execution_count": 55,
   "metadata": {},
   "outputs": [
    {
     "data": {
      "image/png": "[encoded data removed]",
      "text/plain": [
       "<matplotlib.figure.Figure at 0x1dca2b59a58>"
      ]
     },
     "metadata": {},
     "output_type": "display_data"
    }
   ],
   "source": [
    "plt.title(\"Скорость сходимости функции ошибки\")\n",
    "plt.grid()\n",
    "line_train = plt.plot(err_train, 'b', err_val, 'r') # Построение графика\n",
    "xlab = plt.xlabel('Iterations')\n",
    "ylab = plt.ylabel('Error')"
   ]
  },
  {
   "cell_type": "code",
   "execution_count": 56,
   "metadata": {},
   "outputs": [
    {
     "name": "stdout",
     "output_type": "stream",
     "text": [
      "Error on train:  20.0 %\n",
      "Error on test:  29.347826086956523 %\n"
     ]
    }
   ],
   "source": [
    "res_train = net.activateOnDataset(ds_train).argmax(axis=1)\n",
    "print('Error on train: ', percentError(res_train, ds_train['target'].argmax(axis=1)), '%')\n",
    "res_test = net.activateOnDataset(ds_test).argmax(axis=1)\n",
    "print('Error on test: ', percentError(res_test, ds_test['target'].argmax(axis=1)), '%')"
   ]
  },
  {
   "cell_type": "code",
   "execution_count": 57,
   "metadata": {},
   "outputs": [
    {
     "data": {
      "text/plain": [
       "0.7065217391304348"
      ]
     },
     "execution_count": 57,
     "metadata": {},
     "output_type": "execute_result"
    }
   ],
   "source": [
    "metrics.accuracy_score(y_test, res_test)"
   ]
  },
  {
   "cell_type": "code",
   "execution_count": 58,
   "metadata": {},
   "outputs": [
    {
     "data": {
      "image/png": "[encoded data removed]",
      "text/plain": [
       "<matplotlib.figure.Figure at 0x1dca2ea41d0>"
      ]
     },
     "metadata": {},
     "output_type": "display_data"
    }
   ],
   "source": [
    "random.seed(42)\n",
    "np.random.seed(42)\n",
    "\n",
    "def plot_classification_error(hidden_neurons_num, res_train_vec, res_test_vec):\n",
    "    plt.figure()\n",
    "    plt.title('Зависимость ошибки от числа нейронов в скрытом слое')\n",
    "    plt.grid()\n",
    "    plt.plot(hidden_neurons_num, res_train_vec, label='Ошибка на обучающей выборке')\n",
    "    plt.plot(hidden_neurons_num, res_test_vec, '-r', label='Ошибка на тестовой выборке')\n",
    "    plt.legend()\n",
    "    plt.xlabel('Число нейронов в скрытом слое')\n",
    "    plt.ylabel('Число неверно классифицированных объектов, %')\n",
    "\n",
    "hidden_neurons_num = [50, 100, 200, 500, 700, 1000]\n",
    "res_train_vec = list()\n",
    "res_test_vec = list()\n",
    "\n",
    "for nnum in hidden_neurons_num:\n",
    "    net = buildNetwork(ds_train.indim, nnum, ds_train.outdim, outclass=SoftmaxLayer)\n",
    "    init_params = np.random.random((len(net.params)))\n",
    "    net._setParameters(init_params)\n",
    "    trainer = BackpropTrainer(net, dataset=ds_train)\n",
    "    err_train, err_val = trainer.trainUntilConvergence(maxEpochs=100)\n",
    "    res_train = net.activateOnDataset(ds_train).argmax(axis=1)\n",
    "    res_test = net.activateOnDataset(ds_test).argmax(axis=1)\n",
    "    res_train_vec.append(percentError(res_train, ds_train['target'].argmax(axis=1)))\n",
    "    res_test_vec.append(percentError(res_test, ds_test['target'].argmax(axis=1)))\n",
    "    \n",
    "plot_classification_error(hidden_neurons_num, res_train_vec, res_test_vec) "
   ]
  },
  {
   "cell_type": "markdown",
   "metadata": {},
   "source": [
    "Построим график зависимости ошибки от числа объектов в обучающей выборке"
   ]
  },
  {
   "cell_type": "markdown",
   "metadata": {},
   "source": [
    "Делаем вывод, что оптимальное число нейронов — 700."
   ]
  },
  {
   "cell_type": "code",
   "execution_count": 59,
   "metadata": {},
   "outputs": [],
   "source": [
    "random.seed(42)\n",
    "np.random.seed(42)\n",
    "\n",
    "tr_sizes = [50, 75, 100, 125, 150, 175]\n",
    "res_test_vec = np.zeros((6, 7))\n",
    "\n",
    "for i, tr in enumerate(tr_sizes):\n",
    "    ds_train = ClassificationDataSet(tr, nb_classes=len(np.unique(y_train)))\n",
    "    ds_train.setField('input', X_train[:tr])\n",
    "    ds_train.setField('target', y_train[:tr])\n",
    "    ds_train._convertToOneOfMany( )\n",
    "    net = buildNetwork(ds_train.indim, 700, ds_train.outdim, outclass=SoftmaxLayer)\n",
    "    init_params = np.random.random((len(net.params)))\n",
    "    net._setParameters(init_params)\n",
    "    trainer = BackpropTrainer(net, dataset=ds_train)\n",
    "    err_train, err_val = trainer.trainUntilConvergence(maxEpochs=100)\n",
    "    for j in range(7):\n",
    "        ds_test = ClassificationDataSet(np.shape(X[k * j: k * (j + 1)])[1], nb_classes=len(np.unique(y_train)))\n",
    "        ds_test.setField('input', X_test[k * j: k * (j + 1)])\n",
    "        ds_test.setField('target', y_test[k * j: k * (j + 1)])\n",
    "        ds_test._convertToOneOfMany()\n",
    "        res_test = net.activateOnDataset(ds_test).argmax(axis=1)\n",
    "        res_test_vec[i][j] = percentError(res_test, ds_test['target'].argmax(axis=1))"
   ]
  },
  {
   "cell_type": "code",
   "execution_count": 60,
   "metadata": {},
   "outputs": [
    {
     "data": {
      "image/png": "[encoded data removed]",
      "text/plain": [
       "<matplotlib.figure.Figure at 0x1dca2d29828>"
      ]
     },
     "metadata": {},
     "output_type": "display_data"
    }
   ],
   "source": [
    "res_test_mean = np.mean(res_test_vec, axis = 1)\n",
    "res_test_std = np.std(res_test_vec, axis = 1)\n",
    "plt.title('Зависимость ошибки от числа объектов в обучающей выборке')\n",
    "plt.errorbar(tr_sizes, res_test_mean, res_test_std, linestyle=' ', marker='^', capsize=5, label='Ошибка на тестовой выборке')\n",
    "plt.grid()\n",
    "plt.xlabel('Число объектов в обучающей выборке')\n",
    "plt.ylabel('Число неверно классифицированных объектов, %')\n",
    "plt.show()"
   ]
  },
  {
   "cell_type": "markdown",
   "metadata": {},
   "source": [
    "### Градиентный бустинг"
   ]
  },
  {
   "cell_type": "code",
   "execution_count": 61,
   "metadata": {},
   "outputs": [],
   "source": [
    "xg = xgb.XGBClassifier()"
   ]
  },
  {
   "cell_type": "code",
   "execution_count": 62,
   "metadata": {},
   "outputs": [],
   "source": [
    "X_train, X_test, y_train, y_test = train_test_split(X, y, shuffle= True, test_size=0.33, random_state=42, stratify=y)"
   ]
  },
  {
   "cell_type": "code",
   "execution_count": 63,
   "metadata": {},
   "outputs": [],
   "source": [
    "parameters_grid = {\n",
    "    'learning_rate' : [0.1, 0.15, 0.2, 0.3, 0.4, 0.5, 0.6, 0.7],\n",
    "    'max_depth' : [3, 4, 5, 7, 9, 11],\n",
    "    'n_estimators' : [5, 7, 10, 13, 15, 17, 20, 25, 30, 35, 40, 45, 50, 55, 60]\n",
    "}"
   ]
  },
  {
   "cell_type": "code",
   "execution_count": 64,
   "metadata": {},
   "outputs": [
    {
     "name": "stdout",
     "output_type": "stream",
     "text": [
      "best_score 0.7183070483070484\n",
      "best_params {'learning_rate': 0.5, 'max_depth': 4, 'n_estimators': 10}\n"
     ]
    }
   ],
   "source": [
    "grid_cv = GridSearchCV(xg, parameters_grid, scoring='roc_auc', cv=cv, n_jobs=-1)\n",
    "grid_cv.fit(X_train, np.ravel(y_train))\n",
    "print('best_score', grid_cv.best_score_)\n",
    "print('best_params', grid_cv.best_params_)"
   ]
  },
  {
   "cell_type": "code",
   "execution_count": 67,
   "metadata": {},
   "outputs": [
    {
     "data": {
      "text/plain": [
       "XGBClassifier(base_score=0.5, booster='gbtree', colsample_bylevel=1,\n",
       "       colsample_bytree=1, gamma=0, learning_rate=0.5, max_delta_step=0,\n",
       "       max_depth=4, min_child_weight=1, missing=None, n_estimators=10,\n",
       "       n_jobs=1, nthread=None, objective='binary:logistic', random_state=0,\n",
       "       reg_alpha=0, reg_lambda=1, scale_pos_weight=1, seed=None,\n",
       "       silent=True, subsample=1)"
      ]
     },
     "execution_count": 67,
     "metadata": {},
     "output_type": "execute_result"
    }
   ],
   "source": [
    "best_classifier = xgb.XGBClassifier(learning_rate=0.5, max_depth=4, n_estimators=10)\n",
    "best_classifier.fit(X_train, np.ravel(y_train))"
   ]
  },
  {
   "cell_type": "code",
   "execution_count": 68,
   "metadata": {},
   "outputs": [
    {
     "name": "stderr",
     "output_type": "stream",
     "text": [
      "E:\\Anaconda3\\lib\\site-packages\\sklearn\\preprocessing\\label.py:151: DeprecationWarning: The truth value of an empty array is ambiguous. Returning False, but in future this will result in an error. Use `array.size > 0` to check that an array is not empty.\n",
      "  if diff:\n"
     ]
    }
   ],
   "source": [
    "y_predicted = grid_cv.predict(X_test)\n",
    "y_prob = best_classifier.predict_proba(X_test)"
   ]
  },
  {
   "cell_type": "code",
   "execution_count": 69,
   "metadata": {},
   "outputs": [
    {
     "data": {
      "text/plain": [
       "0.75"
      ]
     },
     "execution_count": 69,
     "metadata": {},
     "output_type": "execute_result"
    }
   ],
   "source": [
    "metrics.accuracy_score(np.ravel(y_test), y_predicted)"
   ]
  },
  {
   "cell_type": "code",
   "execution_count": 70,
   "metadata": {},
   "outputs": [
    {
     "data": {
      "text/plain": [
       "0.639031339031339"
      ]
     },
     "execution_count": 70,
     "metadata": {},
     "output_type": "execute_result"
    }
   ],
   "source": [
    "metrics.roc_auc_score(np.ravel(y_test), y_predicted)"
   ]
  },
  {
   "cell_type": "code",
   "execution_count": 71,
   "metadata": {},
   "outputs": [],
   "source": [
    "fpr, tpr, _ = metrics.roc_curve(np.ravel(y_test), y_prob[:, 1])"
   ]
  },
  {
   "cell_type": "code",
   "execution_count": 72,
   "metadata": {},
   "outputs": [
    {
     "data": {
      "text/plain": [
       "Text(0,0.5,'True positive rate')"
      ]
     },
     "execution_count": 72,
     "metadata": {},
     "output_type": "execute_result"
    },
    {
     "data": {
      "image/png": "[encoded data removed]",
      "text/plain": [
       "<matplotlib.figure.Figure at 0x1dca2e81eb8>"
      ]
     },
     "metadata": {},
     "output_type": "display_data"
    }
   ],
   "source": [
    "plt.title(\"ROC-кривая\")\n",
    "plt.plot(fpr, tpr)\n",
    "plt.grid()\n",
    "plt.xlabel('False positive rate')\n",
    "plt.ylabel('True positive rate')"
   ]
  },
  {
   "cell_type": "code",
   "execution_count": 73,
   "metadata": {},
   "outputs": [],
   "source": [
    "precision, recall, _ = metrics.precision_recall_curve(np.ravel(y_test), y_prob[:, 1])"
   ]
  },
  {
   "cell_type": "code",
   "execution_count": 74,
   "metadata": {},
   "outputs": [
    {
     "data": {
      "text/plain": [
       "Text(0,0.5,'Precision')"
      ]
     },
     "execution_count": 74,
     "metadata": {},
     "output_type": "execute_result"
    },
    {
     "data": {
      "image/png": "[encoded data removed]",
      "text/plain": [
       "<matplotlib.figure.Figure at 0x1dca2e81d30>"
      ]
     },
     "metadata": {},
     "output_type": "display_data"
    }
   ],
   "source": [
    "plt.title(\"PR-кривая\")\n",
    "plt.plot(recall, precision)\n",
    "plt.grid()\n",
    "plt.xlabel('Recall')\n",
    "plt.ylabel('Precision')"
   ]
  },
  {
   "cell_type": "code",
   "execution_count": 75,
   "metadata": {},
   "outputs": [
    {
     "name": "stderr",
     "output_type": "stream",
     "text": [
      "E:\\Anaconda3\\lib\\site-packages\\sklearn\\preprocessing\\label.py:151: DeprecationWarning: The truth value of an empty array is ambiguous. Returning False, but in future this will result in an error. Use `array.size > 0` to check that an array is not empty.\n",
      "  if diff:\n",
      "E:\\Anaconda3\\lib\\site-packages\\sklearn\\preprocessing\\label.py:151: DeprecationWarning: The truth value of an empty array is ambiguous. Returning False, but in future this will result in an error. Use `array.size > 0` to check that an array is not empty.\n",
      "  if diff:\n",
      "E:\\Anaconda3\\lib\\site-packages\\sklearn\\preprocessing\\label.py:151: DeprecationWarning: The truth value of an empty array is ambiguous. Returning False, but in future this will result in an error. Use `array.size > 0` to check that an array is not empty.\n",
      "  if diff:\n",
      "E:\\Anaconda3\\lib\\site-packages\\sklearn\\preprocessing\\label.py:151: DeprecationWarning: The truth value of an empty array is ambiguous. Returning False, but in future this will result in an error. Use `array.size > 0` to check that an array is not empty.\n",
      "  if diff:\n",
      "E:\\Anaconda3\\lib\\site-packages\\sklearn\\preprocessing\\label.py:151: DeprecationWarning: The truth value of an empty array is ambiguous. Returning False, but in future this will result in an error. Use `array.size > 0` to check that an array is not empty.\n",
      "  if diff:\n",
      "E:\\Anaconda3\\lib\\site-packages\\sklearn\\preprocessing\\label.py:151: DeprecationWarning: The truth value of an empty array is ambiguous. Returning False, but in future this will result in an error. Use `array.size > 0` to check that an array is not empty.\n",
      "  if diff:\n"
     ]
    }
   ],
   "source": [
    "acc = np.zeros(6)\n",
    "for i, learn in enumerate([0.1, 0.3, 0.4, 0.5, 0.6, 0.7]):\n",
    "    temp_classifier = xgb.XGBClassifier(learning_rate=learn, max_depth=4, n_estimators=10)\n",
    "    temp_classifier.fit(X_train, np.ravel(y_train))\n",
    "    y_predicted = temp_classifier.predict(X_test)\n",
    "    acc[i] = metrics.accuracy_score(np.ravel(y_test), y_predicted)"
   ]
  },
  {
   "cell_type": "code",
   "execution_count": 76,
   "metadata": {},
   "outputs": [
    {
     "data": {
      "image/png": "[encoded data removed]",
      "text/plain": [
       "<matplotlib.figure.Figure at 0x1dca2ab09e8>"
      ]
     },
     "metadata": {},
     "output_type": "display_data"
    }
   ],
   "source": [
    "plt.title(\"График зависимости accuracy от параметра learning_rate градиентного бустинга\")\n",
    "plt.plot([0.1, 0.3, 0.4, 0.5, 0.6, 0.7], acc)\n",
    "plt.grid()\n",
    "plt.xlabel(\"learning_rate\")\n",
    "plt.ylabel(\"accuracy\")\n",
    "plt.show()"
   ]
  },
  {
   "cell_type": "code",
   "execution_count": 77,
   "metadata": {},
   "outputs": [
    {
     "name": "stderr",
     "output_type": "stream",
     "text": [
      "E:\\Anaconda3\\lib\\site-packages\\sklearn\\preprocessing\\label.py:151: DeprecationWarning: The truth value of an empty array is ambiguous. Returning False, but in future this will result in an error. Use `array.size > 0` to check that an array is not empty.\n",
      "  if diff:\n",
      "E:\\Anaconda3\\lib\\site-packages\\sklearn\\preprocessing\\label.py:151: DeprecationWarning: The truth value of an empty array is ambiguous. Returning False, but in future this will result in an error. Use `array.size > 0` to check that an array is not empty.\n",
      "  if diff:\n",
      "E:\\Anaconda3\\lib\\site-packages\\sklearn\\preprocessing\\label.py:151: DeprecationWarning: The truth value of an empty array is ambiguous. Returning False, but in future this will result in an error. Use `array.size > 0` to check that an array is not empty.\n",
      "  if diff:\n",
      "E:\\Anaconda3\\lib\\site-packages\\sklearn\\preprocessing\\label.py:151: DeprecationWarning: The truth value of an empty array is ambiguous. Returning False, but in future this will result in an error. Use `array.size > 0` to check that an array is not empty.\n",
      "  if diff:\n",
      "E:\\Anaconda3\\lib\\site-packages\\sklearn\\preprocessing\\label.py:151: DeprecationWarning: The truth value of an empty array is ambiguous. Returning False, but in future this will result in an error. Use `array.size > 0` to check that an array is not empty.\n",
      "  if diff:\n",
      "E:\\Anaconda3\\lib\\site-packages\\sklearn\\preprocessing\\label.py:151: DeprecationWarning: The truth value of an empty array is ambiguous. Returning False, but in future this will result in an error. Use `array.size > 0` to check that an array is not empty.\n",
      "  if diff:\n"
     ]
    }
   ],
   "source": [
    "acc = np.zeros(6)\n",
    "for i, depth in enumerate([3, 4, 5, 6, 7, 9]):\n",
    "    temp_classifier = xgb.XGBClassifier(learning_rate=0.5, max_depth=depth, n_estimators=10)\n",
    "    temp_classifier.fit(X_train, np.ravel(y_train))\n",
    "    y_predicted = temp_classifier.predict(X_test)\n",
    "    acc[i] = metrics.accuracy_score(np.ravel(y_test), y_predicted)"
   ]
  },
  {
   "cell_type": "code",
   "execution_count": 78,
   "metadata": {},
   "outputs": [
    {
     "data": {
      "image/png": "[encoded data removed]",
      "text/plain": [
       "<matplotlib.figure.Figure at 0x1dca2b73828>"
      ]
     },
     "metadata": {},
     "output_type": "display_data"
    }
   ],
   "source": [
    "plt.title(\"График зависимости accuracy от параметра max_depth градиентного бустинга\")\n",
    "plt.plot([3, 4, 5, 6, 7, 9], acc)\n",
    "plt.grid()\n",
    "plt.xlabel(\"max_depth\")\n",
    "plt.ylabel(\"accuracy\")\n",
    "plt.show()"
   ]
  },
  {
   "cell_type": "code",
   "execution_count": 79,
   "metadata": {},
   "outputs": [
    {
     "name": "stderr",
     "output_type": "stream",
     "text": [
      "E:\\Anaconda3\\lib\\site-packages\\sklearn\\preprocessing\\label.py:151: DeprecationWarning: The truth value of an empty array is ambiguous. Returning False, but in future this will result in an error. Use `array.size > 0` to check that an array is not empty.\n",
      "  if diff:\n",
      "E:\\Anaconda3\\lib\\site-packages\\sklearn\\preprocessing\\label.py:151: DeprecationWarning: The truth value of an empty array is ambiguous. Returning False, but in future this will result in an error. Use `array.size > 0` to check that an array is not empty.\n",
      "  if diff:\n",
      "E:\\Anaconda3\\lib\\site-packages\\sklearn\\preprocessing\\label.py:151: DeprecationWarning: The truth value of an empty array is ambiguous. Returning False, but in future this will result in an error. Use `array.size > 0` to check that an array is not empty.\n",
      "  if diff:\n",
      "E:\\Anaconda3\\lib\\site-packages\\sklearn\\preprocessing\\label.py:151: DeprecationWarning: The truth value of an empty array is ambiguous. Returning False, but in future this will result in an error. Use `array.size > 0` to check that an array is not empty.\n",
      "  if diff:\n",
      "E:\\Anaconda3\\lib\\site-packages\\sklearn\\preprocessing\\label.py:151: DeprecationWarning: The truth value of an empty array is ambiguous. Returning False, but in future this will result in an error. Use `array.size > 0` to check that an array is not empty.\n",
      "  if diff:\n",
      "E:\\Anaconda3\\lib\\site-packages\\sklearn\\preprocessing\\label.py:151: DeprecationWarning: The truth value of an empty array is ambiguous. Returning False, but in future this will result in an error. Use `array.size > 0` to check that an array is not empty.\n",
      "  if diff:\n",
      "E:\\Anaconda3\\lib\\site-packages\\sklearn\\preprocessing\\label.py:151: DeprecationWarning: The truth value of an empty array is ambiguous. Returning False, but in future this will result in an error. Use `array.size > 0` to check that an array is not empty.\n",
      "  if diff:\n",
      "E:\\Anaconda3\\lib\\site-packages\\sklearn\\preprocessing\\label.py:151: DeprecationWarning: The truth value of an empty array is ambiguous. Returning False, but in future this will result in an error. Use `array.size > 0` to check that an array is not empty.\n",
      "  if diff:\n"
     ]
    }
   ],
   "source": [
    "acc = np.zeros(8)\n",
    "for i, est in enumerate([5, 10, 15, 20, 25, 30, 35, 40]):\n",
    "    temp_classifier = xgb.XGBClassifier(learning_rate=0.5, max_depth=4, n_estimators=est)\n",
    "    temp_classifier.fit(X_train, np.ravel(y_train))\n",
    "    y_predicted = temp_classifier.predict(X_test)\n",
    "    acc[i] = metrics.accuracy_score(np.ravel(y_test), y_predicted)"
   ]
  },
  {
   "cell_type": "code",
   "execution_count": 80,
   "metadata": {},
   "outputs": [
    {
     "data": {
      "image/png": "[encoded data removed]",
      "text/plain": [
       "<matplotlib.figure.Figure at 0x1dca2e655f8>"
      ]
     },
     "metadata": {},
     "output_type": "display_data"
    }
   ],
   "source": [
    "plt.title(\"График зависимости accuracy от параметра n_estimators градиентного бустинга\")\n",
    "plt.plot([5, 10, 15, 20, 25, 30, 35, 40], acc)\n",
    "plt.grid()\n",
    "plt.xlabel(\"n_estimators\")\n",
    "plt.ylabel(\"accuracy\")\n",
    "plt.show()"
   ]
  },
  {
   "cell_type": "code",
   "execution_count": 82,
   "metadata": {},
   "outputs": [
    {
     "name": "stderr",
     "output_type": "stream",
     "text": [
      "E:\\Anaconda3\\lib\\site-packages\\sklearn\\preprocessing\\label.py:151: DeprecationWarning: The truth value of an empty array is ambiguous. Returning False, but in future this will result in an error. Use `array.size > 0` to check that an array is not empty.\n",
      "  if diff:\n",
      "E:\\Anaconda3\\lib\\site-packages\\sklearn\\preprocessing\\label.py:151: DeprecationWarning: The truth value of an empty array is ambiguous. Returning False, but in future this will result in an error. Use `array.size > 0` to check that an array is not empty.\n",
      "  if diff:\n",
      "E:\\Anaconda3\\lib\\site-packages\\sklearn\\preprocessing\\label.py:151: DeprecationWarning: The truth value of an empty array is ambiguous. Returning False, but in future this will result in an error. Use `array.size > 0` to check that an array is not empty.\n",
      "  if diff:\n",
      "E:\\Anaconda3\\lib\\site-packages\\sklearn\\preprocessing\\label.py:151: DeprecationWarning: The truth value of an empty array is ambiguous. Returning False, but in future this will result in an error. Use `array.size > 0` to check that an array is not empty.\n",
      "  if diff:\n",
      "E:\\Anaconda3\\lib\\site-packages\\sklearn\\preprocessing\\label.py:151: DeprecationWarning: The truth value of an empty array is ambiguous. Returning False, but in future this will result in an error. Use `array.size > 0` to check that an array is not empty.\n",
      "  if diff:\n",
      "E:\\Anaconda3\\lib\\site-packages\\sklearn\\preprocessing\\label.py:151: DeprecationWarning: The truth value of an empty array is ambiguous. Returning False, but in future this will result in an error. Use `array.size > 0` to check that an array is not empty.\n",
      "  if diff:\n",
      "E:\\Anaconda3\\lib\\site-packages\\sklearn\\preprocessing\\label.py:151: DeprecationWarning: The truth value of an empty array is ambiguous. Returning False, but in future this will result in an error. Use `array.size > 0` to check that an array is not empty.\n",
      "  if diff:\n",
      "E:\\Anaconda3\\lib\\site-packages\\sklearn\\preprocessing\\label.py:151: DeprecationWarning: The truth value of an empty array is ambiguous. Returning False, but in future this will result in an error. Use `array.size > 0` to check that an array is not empty.\n",
      "  if diff:\n",
      "E:\\Anaconda3\\lib\\site-packages\\sklearn\\preprocessing\\label.py:151: DeprecationWarning: The truth value of an empty array is ambiguous. Returning False, but in future this will result in an error. Use `array.size > 0` to check that an array is not empty.\n",
      "  if diff:\n",
      "E:\\Anaconda3\\lib\\site-packages\\sklearn\\preprocessing\\label.py:151: DeprecationWarning: The truth value of an empty array is ambiguous. Returning False, but in future this will result in an error. Use `array.size > 0` to check that an array is not empty.\n",
      "  if diff:\n",
      "E:\\Anaconda3\\lib\\site-packages\\sklearn\\preprocessing\\label.py:151: DeprecationWarning: The truth value of an empty array is ambiguous. Returning False, but in future this will result in an error. Use `array.size > 0` to check that an array is not empty.\n",
      "  if diff:\n",
      "E:\\Anaconda3\\lib\\site-packages\\sklearn\\preprocessing\\label.py:151: DeprecationWarning: The truth value of an empty array is ambiguous. Returning False, but in future this will result in an error. Use `array.size > 0` to check that an array is not empty.\n",
      "  if diff:\n",
      "E:\\Anaconda3\\lib\\site-packages\\sklearn\\preprocessing\\label.py:151: DeprecationWarning: The truth value of an empty array is ambiguous. Returning False, but in future this will result in an error. Use `array.size > 0` to check that an array is not empty.\n",
      "  if diff:\n",
      "E:\\Anaconda3\\lib\\site-packages\\sklearn\\preprocessing\\label.py:151: DeprecationWarning: The truth value of an empty array is ambiguous. Returning False, but in future this will result in an error. Use `array.size > 0` to check that an array is not empty.\n",
      "  if diff:\n",
      "E:\\Anaconda3\\lib\\site-packages\\sklearn\\preprocessing\\label.py:151: DeprecationWarning: The truth value of an empty array is ambiguous. Returning False, but in future this will result in an error. Use `array.size > 0` to check that an array is not empty.\n",
      "  if diff:\n",
      "E:\\Anaconda3\\lib\\site-packages\\sklearn\\preprocessing\\label.py:151: DeprecationWarning: The truth value of an empty array is ambiguous. Returning False, but in future this will result in an error. Use `array.size > 0` to check that an array is not empty.\n",
      "  if diff:\n",
      "E:\\Anaconda3\\lib\\site-packages\\sklearn\\preprocessing\\label.py:151: DeprecationWarning: The truth value of an empty array is ambiguous. Returning False, but in future this will result in an error. Use `array.size > 0` to check that an array is not empty.\n",
      "  if diff:\n",
      "E:\\Anaconda3\\lib\\site-packages\\sklearn\\preprocessing\\label.py:151: DeprecationWarning: The truth value of an empty array is ambiguous. Returning False, but in future this will result in an error. Use `array.size > 0` to check that an array is not empty.\n",
      "  if diff:\n",
      "E:\\Anaconda3\\lib\\site-packages\\sklearn\\preprocessing\\label.py:151: DeprecationWarning: The truth value of an empty array is ambiguous. Returning False, but in future this will result in an error. Use `array.size > 0` to check that an array is not empty.\n",
      "  if diff:\n",
      "E:\\Anaconda3\\lib\\site-packages\\sklearn\\preprocessing\\label.py:151: DeprecationWarning: The truth value of an empty array is ambiguous. Returning False, but in future this will result in an error. Use `array.size > 0` to check that an array is not empty.\n",
      "  if diff:\n",
      "E:\\Anaconda3\\lib\\site-packages\\sklearn\\preprocessing\\label.py:151: DeprecationWarning: The truth value of an empty array is ambiguous. Returning False, but in future this will result in an error. Use `array.size > 0` to check that an array is not empty.\n",
      "  if diff:\n",
      "E:\\Anaconda3\\lib\\site-packages\\sklearn\\preprocessing\\label.py:151: DeprecationWarning: The truth value of an empty array is ambiguous. Returning False, but in future this will result in an error. Use `array.size > 0` to check that an array is not empty.\n",
      "  if diff:\n",
      "E:\\Anaconda3\\lib\\site-packages\\sklearn\\preprocessing\\label.py:151: DeprecationWarning: The truth value of an empty array is ambiguous. Returning False, but in future this will result in an error. Use `array.size > 0` to check that an array is not empty.\n",
      "  if diff:\n",
      "E:\\Anaconda3\\lib\\site-packages\\sklearn\\preprocessing\\label.py:151: DeprecationWarning: The truth value of an empty array is ambiguous. Returning False, but in future this will result in an error. Use `array.size > 0` to check that an array is not empty.\n",
      "  if diff:\n",
      "E:\\Anaconda3\\lib\\site-packages\\sklearn\\preprocessing\\label.py:151: DeprecationWarning: The truth value of an empty array is ambiguous. Returning False, but in future this will result in an error. Use `array.size > 0` to check that an array is not empty.\n",
      "  if diff:\n",
      "E:\\Anaconda3\\lib\\site-packages\\sklearn\\preprocessing\\label.py:151: DeprecationWarning: The truth value of an empty array is ambiguous. Returning False, but in future this will result in an error. Use `array.size > 0` to check that an array is not empty.\n",
      "  if diff:\n",
      "E:\\Anaconda3\\lib\\site-packages\\sklearn\\preprocessing\\label.py:151: DeprecationWarning: The truth value of an empty array is ambiguous. Returning False, but in future this will result in an error. Use `array.size > 0` to check that an array is not empty.\n",
      "  if diff:\n",
      "E:\\Anaconda3\\lib\\site-packages\\sklearn\\preprocessing\\label.py:151: DeprecationWarning: The truth value of an empty array is ambiguous. Returning False, but in future this will result in an error. Use `array.size > 0` to check that an array is not empty.\n",
      "  if diff:\n",
      "E:\\Anaconda3\\lib\\site-packages\\sklearn\\preprocessing\\label.py:151: DeprecationWarning: The truth value of an empty array is ambiguous. Returning False, but in future this will result in an error. Use `array.size > 0` to check that an array is not empty.\n",
      "  if diff:\n",
      "E:\\Anaconda3\\lib\\site-packages\\sklearn\\preprocessing\\label.py:151: DeprecationWarning: The truth value of an empty array is ambiguous. Returning False, but in future this will result in an error. Use `array.size > 0` to check that an array is not empty.\n",
      "  if diff:\n",
      "E:\\Anaconda3\\lib\\site-packages\\sklearn\\preprocessing\\label.py:151: DeprecationWarning: The truth value of an empty array is ambiguous. Returning False, but in future this will result in an error. Use `array.size > 0` to check that an array is not empty.\n",
      "  if diff:\n",
      "E:\\Anaconda3\\lib\\site-packages\\sklearn\\preprocessing\\label.py:151: DeprecationWarning: The truth value of an empty array is ambiguous. Returning False, but in future this will result in an error. Use `array.size > 0` to check that an array is not empty.\n",
      "  if diff:\n",
      "E:\\Anaconda3\\lib\\site-packages\\sklearn\\preprocessing\\label.py:151: DeprecationWarning: The truth value of an empty array is ambiguous. Returning False, but in future this will result in an error. Use `array.size > 0` to check that an array is not empty.\n",
      "  if diff:\n",
      "E:\\Anaconda3\\lib\\site-packages\\sklearn\\preprocessing\\label.py:151: DeprecationWarning: The truth value of an empty array is ambiguous. Returning False, but in future this will result in an error. Use `array.size > 0` to check that an array is not empty.\n",
      "  if diff:\n",
      "E:\\Anaconda3\\lib\\site-packages\\sklearn\\preprocessing\\label.py:151: DeprecationWarning: The truth value of an empty array is ambiguous. Returning False, but in future this will result in an error. Use `array.size > 0` to check that an array is not empty.\n",
      "  if diff:\n"
     ]
    },
    {
     "name": "stderr",
     "output_type": "stream",
     "text": [
      "E:\\Anaconda3\\lib\\site-packages\\sklearn\\preprocessing\\label.py:151: DeprecationWarning: The truth value of an empty array is ambiguous. Returning False, but in future this will result in an error. Use `array.size > 0` to check that an array is not empty.\n",
      "  if diff:\n",
      "E:\\Anaconda3\\lib\\site-packages\\sklearn\\preprocessing\\label.py:151: DeprecationWarning: The truth value of an empty array is ambiguous. Returning False, but in future this will result in an error. Use `array.size > 0` to check that an array is not empty.\n",
      "  if diff:\n",
      "E:\\Anaconda3\\lib\\site-packages\\sklearn\\preprocessing\\label.py:151: DeprecationWarning: The truth value of an empty array is ambiguous. Returning False, but in future this will result in an error. Use `array.size > 0` to check that an array is not empty.\n",
      "  if diff:\n",
      "E:\\Anaconda3\\lib\\site-packages\\sklearn\\preprocessing\\label.py:151: DeprecationWarning: The truth value of an empty array is ambiguous. Returning False, but in future this will result in an error. Use `array.size > 0` to check that an array is not empty.\n",
      "  if diff:\n",
      "E:\\Anaconda3\\lib\\site-packages\\sklearn\\preprocessing\\label.py:151: DeprecationWarning: The truth value of an empty array is ambiguous. Returning False, but in future this will result in an error. Use `array.size > 0` to check that an array is not empty.\n",
      "  if diff:\n",
      "E:\\Anaconda3\\lib\\site-packages\\sklearn\\preprocessing\\label.py:151: DeprecationWarning: The truth value of an empty array is ambiguous. Returning False, but in future this will result in an error. Use `array.size > 0` to check that an array is not empty.\n",
      "  if diff:\n",
      "E:\\Anaconda3\\lib\\site-packages\\sklearn\\preprocessing\\label.py:151: DeprecationWarning: The truth value of an empty array is ambiguous. Returning False, but in future this will result in an error. Use `array.size > 0` to check that an array is not empty.\n",
      "  if diff:\n",
      "E:\\Anaconda3\\lib\\site-packages\\sklearn\\preprocessing\\label.py:151: DeprecationWarning: The truth value of an empty array is ambiguous. Returning False, but in future this will result in an error. Use `array.size > 0` to check that an array is not empty.\n",
      "  if diff:\n",
      "E:\\Anaconda3\\lib\\site-packages\\sklearn\\preprocessing\\label.py:151: DeprecationWarning: The truth value of an empty array is ambiguous. Returning False, but in future this will result in an error. Use `array.size > 0` to check that an array is not empty.\n",
      "  if diff:\n",
      "E:\\Anaconda3\\lib\\site-packages\\sklearn\\preprocessing\\label.py:151: DeprecationWarning: The truth value of an empty array is ambiguous. Returning False, but in future this will result in an error. Use `array.size > 0` to check that an array is not empty.\n",
      "  if diff:\n",
      "E:\\Anaconda3\\lib\\site-packages\\sklearn\\preprocessing\\label.py:151: DeprecationWarning: The truth value of an empty array is ambiguous. Returning False, but in future this will result in an error. Use `array.size > 0` to check that an array is not empty.\n",
      "  if diff:\n",
      "E:\\Anaconda3\\lib\\site-packages\\sklearn\\preprocessing\\label.py:151: DeprecationWarning: The truth value of an empty array is ambiguous. Returning False, but in future this will result in an error. Use `array.size > 0` to check that an array is not empty.\n",
      "  if diff:\n",
      "E:\\Anaconda3\\lib\\site-packages\\sklearn\\preprocessing\\label.py:151: DeprecationWarning: The truth value of an empty array is ambiguous. Returning False, but in future this will result in an error. Use `array.size > 0` to check that an array is not empty.\n",
      "  if diff:\n",
      "E:\\Anaconda3\\lib\\site-packages\\sklearn\\preprocessing\\label.py:151: DeprecationWarning: The truth value of an empty array is ambiguous. Returning False, but in future this will result in an error. Use `array.size > 0` to check that an array is not empty.\n",
      "  if diff:\n",
      "E:\\Anaconda3\\lib\\site-packages\\sklearn\\preprocessing\\label.py:151: DeprecationWarning: The truth value of an empty array is ambiguous. Returning False, but in future this will result in an error. Use `array.size > 0` to check that an array is not empty.\n",
      "  if diff:\n",
      "E:\\Anaconda3\\lib\\site-packages\\sklearn\\preprocessing\\label.py:151: DeprecationWarning: The truth value of an empty array is ambiguous. Returning False, but in future this will result in an error. Use `array.size > 0` to check that an array is not empty.\n",
      "  if diff:\n",
      "E:\\Anaconda3\\lib\\site-packages\\sklearn\\preprocessing\\label.py:151: DeprecationWarning: The truth value of an empty array is ambiguous. Returning False, but in future this will result in an error. Use `array.size > 0` to check that an array is not empty.\n",
      "  if diff:\n",
      "E:\\Anaconda3\\lib\\site-packages\\sklearn\\preprocessing\\label.py:151: DeprecationWarning: The truth value of an empty array is ambiguous. Returning False, but in future this will result in an error. Use `array.size > 0` to check that an array is not empty.\n",
      "  if diff:\n",
      "E:\\Anaconda3\\lib\\site-packages\\sklearn\\preprocessing\\label.py:151: DeprecationWarning: The truth value of an empty array is ambiguous. Returning False, but in future this will result in an error. Use `array.size > 0` to check that an array is not empty.\n",
      "  if diff:\n",
      "E:\\Anaconda3\\lib\\site-packages\\sklearn\\preprocessing\\label.py:151: DeprecationWarning: The truth value of an empty array is ambiguous. Returning False, but in future this will result in an error. Use `array.size > 0` to check that an array is not empty.\n",
      "  if diff:\n",
      "E:\\Anaconda3\\lib\\site-packages\\sklearn\\preprocessing\\label.py:151: DeprecationWarning: The truth value of an empty array is ambiguous. Returning False, but in future this will result in an error. Use `array.size > 0` to check that an array is not empty.\n",
      "  if diff:\n",
      "E:\\Anaconda3\\lib\\site-packages\\sklearn\\preprocessing\\label.py:151: DeprecationWarning: The truth value of an empty array is ambiguous. Returning False, but in future this will result in an error. Use `array.size > 0` to check that an array is not empty.\n",
      "  if diff:\n",
      "E:\\Anaconda3\\lib\\site-packages\\sklearn\\preprocessing\\label.py:151: DeprecationWarning: The truth value of an empty array is ambiguous. Returning False, but in future this will result in an error. Use `array.size > 0` to check that an array is not empty.\n",
      "  if diff:\n",
      "E:\\Anaconda3\\lib\\site-packages\\sklearn\\preprocessing\\label.py:151: DeprecationWarning: The truth value of an empty array is ambiguous. Returning False, but in future this will result in an error. Use `array.size > 0` to check that an array is not empty.\n",
      "  if diff:\n",
      "E:\\Anaconda3\\lib\\site-packages\\sklearn\\preprocessing\\label.py:151: DeprecationWarning: The truth value of an empty array is ambiguous. Returning False, but in future this will result in an error. Use `array.size > 0` to check that an array is not empty.\n",
      "  if diff:\n",
      "E:\\Anaconda3\\lib\\site-packages\\sklearn\\preprocessing\\label.py:151: DeprecationWarning: The truth value of an empty array is ambiguous. Returning False, but in future this will result in an error. Use `array.size > 0` to check that an array is not empty.\n",
      "  if diff:\n",
      "E:\\Anaconda3\\lib\\site-packages\\sklearn\\preprocessing\\label.py:151: DeprecationWarning: The truth value of an empty array is ambiguous. Returning False, but in future this will result in an error. Use `array.size > 0` to check that an array is not empty.\n",
      "  if diff:\n",
      "E:\\Anaconda3\\lib\\site-packages\\sklearn\\preprocessing\\label.py:151: DeprecationWarning: The truth value of an empty array is ambiguous. Returning False, but in future this will result in an error. Use `array.size > 0` to check that an array is not empty.\n",
      "  if diff:\n",
      "E:\\Anaconda3\\lib\\site-packages\\sklearn\\preprocessing\\label.py:151: DeprecationWarning: The truth value of an empty array is ambiguous. Returning False, but in future this will result in an error. Use `array.size > 0` to check that an array is not empty.\n",
      "  if diff:\n",
      "E:\\Anaconda3\\lib\\site-packages\\sklearn\\preprocessing\\label.py:151: DeprecationWarning: The truth value of an empty array is ambiguous. Returning False, but in future this will result in an error. Use `array.size > 0` to check that an array is not empty.\n",
      "  if diff:\n",
      "E:\\Anaconda3\\lib\\site-packages\\sklearn\\preprocessing\\label.py:151: DeprecationWarning: The truth value of an empty array is ambiguous. Returning False, but in future this will result in an error. Use `array.size > 0` to check that an array is not empty.\n",
      "  if diff:\n",
      "E:\\Anaconda3\\lib\\site-packages\\sklearn\\preprocessing\\label.py:151: DeprecationWarning: The truth value of an empty array is ambiguous. Returning False, but in future this will result in an error. Use `array.size > 0` to check that an array is not empty.\n",
      "  if diff:\n",
      "E:\\Anaconda3\\lib\\site-packages\\sklearn\\preprocessing\\label.py:151: DeprecationWarning: The truth value of an empty array is ambiguous. Returning False, but in future this will result in an error. Use `array.size > 0` to check that an array is not empty.\n",
      "  if diff:\n"
     ]
    },
    {
     "name": "stderr",
     "output_type": "stream",
     "text": [
      "E:\\Anaconda3\\lib\\site-packages\\sklearn\\preprocessing\\label.py:151: DeprecationWarning: The truth value of an empty array is ambiguous. Returning False, but in future this will result in an error. Use `array.size > 0` to check that an array is not empty.\n",
      "  if diff:\n",
      "E:\\Anaconda3\\lib\\site-packages\\sklearn\\preprocessing\\label.py:151: DeprecationWarning: The truth value of an empty array is ambiguous. Returning False, but in future this will result in an error. Use `array.size > 0` to check that an array is not empty.\n",
      "  if diff:\n",
      "E:\\Anaconda3\\lib\\site-packages\\sklearn\\preprocessing\\label.py:151: DeprecationWarning: The truth value of an empty array is ambiguous. Returning False, but in future this will result in an error. Use `array.size > 0` to check that an array is not empty.\n",
      "  if diff:\n",
      "E:\\Anaconda3\\lib\\site-packages\\sklearn\\preprocessing\\label.py:151: DeprecationWarning: The truth value of an empty array is ambiguous. Returning False, but in future this will result in an error. Use `array.size > 0` to check that an array is not empty.\n",
      "  if diff:\n",
      "E:\\Anaconda3\\lib\\site-packages\\sklearn\\preprocessing\\label.py:151: DeprecationWarning: The truth value of an empty array is ambiguous. Returning False, but in future this will result in an error. Use `array.size > 0` to check that an array is not empty.\n",
      "  if diff:\n",
      "E:\\Anaconda3\\lib\\site-packages\\sklearn\\preprocessing\\label.py:151: DeprecationWarning: The truth value of an empty array is ambiguous. Returning False, but in future this will result in an error. Use `array.size > 0` to check that an array is not empty.\n",
      "  if diff:\n",
      "E:\\Anaconda3\\lib\\site-packages\\sklearn\\preprocessing\\label.py:151: DeprecationWarning: The truth value of an empty array is ambiguous. Returning False, but in future this will result in an error. Use `array.size > 0` to check that an array is not empty.\n",
      "  if diff:\n",
      "E:\\Anaconda3\\lib\\site-packages\\sklearn\\preprocessing\\label.py:151: DeprecationWarning: The truth value of an empty array is ambiguous. Returning False, but in future this will result in an error. Use `array.size > 0` to check that an array is not empty.\n",
      "  if diff:\n",
      "E:\\Anaconda3\\lib\\site-packages\\sklearn\\preprocessing\\label.py:151: DeprecationWarning: The truth value of an empty array is ambiguous. Returning False, but in future this will result in an error. Use `array.size > 0` to check that an array is not empty.\n",
      "  if diff:\n",
      "E:\\Anaconda3\\lib\\site-packages\\sklearn\\preprocessing\\label.py:151: DeprecationWarning: The truth value of an empty array is ambiguous. Returning False, but in future this will result in an error. Use `array.size > 0` to check that an array is not empty.\n",
      "  if diff:\n",
      "E:\\Anaconda3\\lib\\site-packages\\sklearn\\preprocessing\\label.py:151: DeprecationWarning: The truth value of an empty array is ambiguous. Returning False, but in future this will result in an error. Use `array.size > 0` to check that an array is not empty.\n",
      "  if diff:\n",
      "E:\\Anaconda3\\lib\\site-packages\\sklearn\\preprocessing\\label.py:151: DeprecationWarning: The truth value of an empty array is ambiguous. Returning False, but in future this will result in an error. Use `array.size > 0` to check that an array is not empty.\n",
      "  if diff:\n",
      "E:\\Anaconda3\\lib\\site-packages\\sklearn\\preprocessing\\label.py:151: DeprecationWarning: The truth value of an empty array is ambiguous. Returning False, but in future this will result in an error. Use `array.size > 0` to check that an array is not empty.\n",
      "  if diff:\n",
      "E:\\Anaconda3\\lib\\site-packages\\sklearn\\preprocessing\\label.py:151: DeprecationWarning: The truth value of an empty array is ambiguous. Returning False, but in future this will result in an error. Use `array.size > 0` to check that an array is not empty.\n",
      "  if diff:\n",
      "E:\\Anaconda3\\lib\\site-packages\\sklearn\\preprocessing\\label.py:151: DeprecationWarning: The truth value of an empty array is ambiguous. Returning False, but in future this will result in an error. Use `array.size > 0` to check that an array is not empty.\n",
      "  if diff:\n",
      "E:\\Anaconda3\\lib\\site-packages\\sklearn\\preprocessing\\label.py:151: DeprecationWarning: The truth value of an empty array is ambiguous. Returning False, but in future this will result in an error. Use `array.size > 0` to check that an array is not empty.\n",
      "  if diff:\n",
      "E:\\Anaconda3\\lib\\site-packages\\sklearn\\preprocessing\\label.py:151: DeprecationWarning: The truth value of an empty array is ambiguous. Returning False, but in future this will result in an error. Use `array.size > 0` to check that an array is not empty.\n",
      "  if diff:\n",
      "E:\\Anaconda3\\lib\\site-packages\\sklearn\\preprocessing\\label.py:151: DeprecationWarning: The truth value of an empty array is ambiguous. Returning False, but in future this will result in an error. Use `array.size > 0` to check that an array is not empty.\n",
      "  if diff:\n",
      "E:\\Anaconda3\\lib\\site-packages\\sklearn\\preprocessing\\label.py:151: DeprecationWarning: The truth value of an empty array is ambiguous. Returning False, but in future this will result in an error. Use `array.size > 0` to check that an array is not empty.\n",
      "  if diff:\n",
      "E:\\Anaconda3\\lib\\site-packages\\sklearn\\preprocessing\\label.py:151: DeprecationWarning: The truth value of an empty array is ambiguous. Returning False, but in future this will result in an error. Use `array.size > 0` to check that an array is not empty.\n",
      "  if diff:\n",
      "E:\\Anaconda3\\lib\\site-packages\\sklearn\\preprocessing\\label.py:151: DeprecationWarning: The truth value of an empty array is ambiguous. Returning False, but in future this will result in an error. Use `array.size > 0` to check that an array is not empty.\n",
      "  if diff:\n",
      "E:\\Anaconda3\\lib\\site-packages\\sklearn\\preprocessing\\label.py:151: DeprecationWarning: The truth value of an empty array is ambiguous. Returning False, but in future this will result in an error. Use `array.size > 0` to check that an array is not empty.\n",
      "  if diff:\n",
      "E:\\Anaconda3\\lib\\site-packages\\sklearn\\preprocessing\\label.py:151: DeprecationWarning: The truth value of an empty array is ambiguous. Returning False, but in future this will result in an error. Use `array.size > 0` to check that an array is not empty.\n",
      "  if diff:\n",
      "E:\\Anaconda3\\lib\\site-packages\\sklearn\\preprocessing\\label.py:151: DeprecationWarning: The truth value of an empty array is ambiguous. Returning False, but in future this will result in an error. Use `array.size > 0` to check that an array is not empty.\n",
      "  if diff:\n",
      "E:\\Anaconda3\\lib\\site-packages\\sklearn\\preprocessing\\label.py:151: DeprecationWarning: The truth value of an empty array is ambiguous. Returning False, but in future this will result in an error. Use `array.size > 0` to check that an array is not empty.\n",
      "  if diff:\n",
      "E:\\Anaconda3\\lib\\site-packages\\sklearn\\preprocessing\\label.py:151: DeprecationWarning: The truth value of an empty array is ambiguous. Returning False, but in future this will result in an error. Use `array.size > 0` to check that an array is not empty.\n",
      "  if diff:\n",
      "E:\\Anaconda3\\lib\\site-packages\\sklearn\\preprocessing\\label.py:151: DeprecationWarning: The truth value of an empty array is ambiguous. Returning False, but in future this will result in an error. Use `array.size > 0` to check that an array is not empty.\n",
      "  if diff:\n",
      "E:\\Anaconda3\\lib\\site-packages\\sklearn\\preprocessing\\label.py:151: DeprecationWarning: The truth value of an empty array is ambiguous. Returning False, but in future this will result in an error. Use `array.size > 0` to check that an array is not empty.\n",
      "  if diff:\n",
      "E:\\Anaconda3\\lib\\site-packages\\sklearn\\preprocessing\\label.py:151: DeprecationWarning: The truth value of an empty array is ambiguous. Returning False, but in future this will result in an error. Use `array.size > 0` to check that an array is not empty.\n",
      "  if diff:\n",
      "E:\\Anaconda3\\lib\\site-packages\\sklearn\\preprocessing\\label.py:151: DeprecationWarning: The truth value of an empty array is ambiguous. Returning False, but in future this will result in an error. Use `array.size > 0` to check that an array is not empty.\n",
      "  if diff:\n",
      "E:\\Anaconda3\\lib\\site-packages\\sklearn\\preprocessing\\label.py:151: DeprecationWarning: The truth value of an empty array is ambiguous. Returning False, but in future this will result in an error. Use `array.size > 0` to check that an array is not empty.\n",
      "  if diff:\n",
      "E:\\Anaconda3\\lib\\site-packages\\sklearn\\preprocessing\\label.py:151: DeprecationWarning: The truth value of an empty array is ambiguous. Returning False, but in future this will result in an error. Use `array.size > 0` to check that an array is not empty.\n",
      "  if diff:\n",
      "E:\\Anaconda3\\lib\\site-packages\\sklearn\\preprocessing\\label.py:151: DeprecationWarning: The truth value of an empty array is ambiguous. Returning False, but in future this will result in an error. Use `array.size > 0` to check that an array is not empty.\n",
      "  if diff:\n",
      "E:\\Anaconda3\\lib\\site-packages\\sklearn\\preprocessing\\label.py:151: DeprecationWarning: The truth value of an empty array is ambiguous. Returning False, but in future this will result in an error. Use `array.size > 0` to check that an array is not empty.\n",
      "  if diff:\n"
     ]
    },
    {
     "name": "stderr",
     "output_type": "stream",
     "text": [
      "E:\\Anaconda3\\lib\\site-packages\\sklearn\\preprocessing\\label.py:151: DeprecationWarning: The truth value of an empty array is ambiguous. Returning False, but in future this will result in an error. Use `array.size > 0` to check that an array is not empty.\n",
      "  if diff:\n",
      "E:\\Anaconda3\\lib\\site-packages\\sklearn\\preprocessing\\label.py:151: DeprecationWarning: The truth value of an empty array is ambiguous. Returning False, but in future this will result in an error. Use `array.size > 0` to check that an array is not empty.\n",
      "  if diff:\n",
      "E:\\Anaconda3\\lib\\site-packages\\sklearn\\preprocessing\\label.py:151: DeprecationWarning: The truth value of an empty array is ambiguous. Returning False, but in future this will result in an error. Use `array.size > 0` to check that an array is not empty.\n",
      "  if diff:\n",
      "E:\\Anaconda3\\lib\\site-packages\\sklearn\\preprocessing\\label.py:151: DeprecationWarning: The truth value of an empty array is ambiguous. Returning False, but in future this will result in an error. Use `array.size > 0` to check that an array is not empty.\n",
      "  if diff:\n",
      "E:\\Anaconda3\\lib\\site-packages\\sklearn\\preprocessing\\label.py:151: DeprecationWarning: The truth value of an empty array is ambiguous. Returning False, but in future this will result in an error. Use `array.size > 0` to check that an array is not empty.\n",
      "  if diff:\n",
      "E:\\Anaconda3\\lib\\site-packages\\sklearn\\preprocessing\\label.py:151: DeprecationWarning: The truth value of an empty array is ambiguous. Returning False, but in future this will result in an error. Use `array.size > 0` to check that an array is not empty.\n",
      "  if diff:\n",
      "E:\\Anaconda3\\lib\\site-packages\\sklearn\\preprocessing\\label.py:151: DeprecationWarning: The truth value of an empty array is ambiguous. Returning False, but in future this will result in an error. Use `array.size > 0` to check that an array is not empty.\n",
      "  if diff:\n",
      "E:\\Anaconda3\\lib\\site-packages\\sklearn\\preprocessing\\label.py:151: DeprecationWarning: The truth value of an empty array is ambiguous. Returning False, but in future this will result in an error. Use `array.size > 0` to check that an array is not empty.\n",
      "  if diff:\n",
      "E:\\Anaconda3\\lib\\site-packages\\sklearn\\preprocessing\\label.py:151: DeprecationWarning: The truth value of an empty array is ambiguous. Returning False, but in future this will result in an error. Use `array.size > 0` to check that an array is not empty.\n",
      "  if diff:\n",
      "E:\\Anaconda3\\lib\\site-packages\\sklearn\\preprocessing\\label.py:151: DeprecationWarning: The truth value of an empty array is ambiguous. Returning False, but in future this will result in an error. Use `array.size > 0` to check that an array is not empty.\n",
      "  if diff:\n",
      "E:\\Anaconda3\\lib\\site-packages\\sklearn\\preprocessing\\label.py:151: DeprecationWarning: The truth value of an empty array is ambiguous. Returning False, but in future this will result in an error. Use `array.size > 0` to check that an array is not empty.\n",
      "  if diff:\n",
      "E:\\Anaconda3\\lib\\site-packages\\sklearn\\preprocessing\\label.py:151: DeprecationWarning: The truth value of an empty array is ambiguous. Returning False, but in future this will result in an error. Use `array.size > 0` to check that an array is not empty.\n",
      "  if diff:\n",
      "E:\\Anaconda3\\lib\\site-packages\\sklearn\\preprocessing\\label.py:151: DeprecationWarning: The truth value of an empty array is ambiguous. Returning False, but in future this will result in an error. Use `array.size > 0` to check that an array is not empty.\n",
      "  if diff:\n",
      "E:\\Anaconda3\\lib\\site-packages\\sklearn\\preprocessing\\label.py:151: DeprecationWarning: The truth value of an empty array is ambiguous. Returning False, but in future this will result in an error. Use `array.size > 0` to check that an array is not empty.\n",
      "  if diff:\n",
      "E:\\Anaconda3\\lib\\site-packages\\sklearn\\preprocessing\\label.py:151: DeprecationWarning: The truth value of an empty array is ambiguous. Returning False, but in future this will result in an error. Use `array.size > 0` to check that an array is not empty.\n",
      "  if diff:\n",
      "E:\\Anaconda3\\lib\\site-packages\\sklearn\\preprocessing\\label.py:151: DeprecationWarning: The truth value of an empty array is ambiguous. Returning False, but in future this will result in an error. Use `array.size > 0` to check that an array is not empty.\n",
      "  if diff:\n",
      "E:\\Anaconda3\\lib\\site-packages\\sklearn\\preprocessing\\label.py:151: DeprecationWarning: The truth value of an empty array is ambiguous. Returning False, but in future this will result in an error. Use `array.size > 0` to check that an array is not empty.\n",
      "  if diff:\n",
      "E:\\Anaconda3\\lib\\site-packages\\sklearn\\preprocessing\\label.py:151: DeprecationWarning: The truth value of an empty array is ambiguous. Returning False, but in future this will result in an error. Use `array.size > 0` to check that an array is not empty.\n",
      "  if diff:\n",
      "E:\\Anaconda3\\lib\\site-packages\\sklearn\\preprocessing\\label.py:151: DeprecationWarning: The truth value of an empty array is ambiguous. Returning False, but in future this will result in an error. Use `array.size > 0` to check that an array is not empty.\n",
      "  if diff:\n",
      "E:\\Anaconda3\\lib\\site-packages\\sklearn\\preprocessing\\label.py:151: DeprecationWarning: The truth value of an empty array is ambiguous. Returning False, but in future this will result in an error. Use `array.size > 0` to check that an array is not empty.\n",
      "  if diff:\n",
      "E:\\Anaconda3\\lib\\site-packages\\sklearn\\preprocessing\\label.py:151: DeprecationWarning: The truth value of an empty array is ambiguous. Returning False, but in future this will result in an error. Use `array.size > 0` to check that an array is not empty.\n",
      "  if diff:\n",
      "E:\\Anaconda3\\lib\\site-packages\\sklearn\\preprocessing\\label.py:151: DeprecationWarning: The truth value of an empty array is ambiguous. Returning False, but in future this will result in an error. Use `array.size > 0` to check that an array is not empty.\n",
      "  if diff:\n",
      "E:\\Anaconda3\\lib\\site-packages\\sklearn\\preprocessing\\label.py:151: DeprecationWarning: The truth value of an empty array is ambiguous. Returning False, but in future this will result in an error. Use `array.size > 0` to check that an array is not empty.\n",
      "  if diff:\n",
      "E:\\Anaconda3\\lib\\site-packages\\sklearn\\preprocessing\\label.py:151: DeprecationWarning: The truth value of an empty array is ambiguous. Returning False, but in future this will result in an error. Use `array.size > 0` to check that an array is not empty.\n",
      "  if diff:\n",
      "E:\\Anaconda3\\lib\\site-packages\\sklearn\\preprocessing\\label.py:151: DeprecationWarning: The truth value of an empty array is ambiguous. Returning False, but in future this will result in an error. Use `array.size > 0` to check that an array is not empty.\n",
      "  if diff:\n",
      "E:\\Anaconda3\\lib\\site-packages\\sklearn\\preprocessing\\label.py:151: DeprecationWarning: The truth value of an empty array is ambiguous. Returning False, but in future this will result in an error. Use `array.size > 0` to check that an array is not empty.\n",
      "  if diff:\n",
      "E:\\Anaconda3\\lib\\site-packages\\sklearn\\preprocessing\\label.py:151: DeprecationWarning: The truth value of an empty array is ambiguous. Returning False, but in future this will result in an error. Use `array.size > 0` to check that an array is not empty.\n",
      "  if diff:\n",
      "E:\\Anaconda3\\lib\\site-packages\\sklearn\\preprocessing\\label.py:151: DeprecationWarning: The truth value of an empty array is ambiguous. Returning False, but in future this will result in an error. Use `array.size > 0` to check that an array is not empty.\n",
      "  if diff:\n",
      "E:\\Anaconda3\\lib\\site-packages\\sklearn\\preprocessing\\label.py:151: DeprecationWarning: The truth value of an empty array is ambiguous. Returning False, but in future this will result in an error. Use `array.size > 0` to check that an array is not empty.\n",
      "  if diff:\n",
      "E:\\Anaconda3\\lib\\site-packages\\sklearn\\preprocessing\\label.py:151: DeprecationWarning: The truth value of an empty array is ambiguous. Returning False, but in future this will result in an error. Use `array.size > 0` to check that an array is not empty.\n",
      "  if diff:\n",
      "E:\\Anaconda3\\lib\\site-packages\\sklearn\\preprocessing\\label.py:151: DeprecationWarning: The truth value of an empty array is ambiguous. Returning False, but in future this will result in an error. Use `array.size > 0` to check that an array is not empty.\n",
      "  if diff:\n",
      "E:\\Anaconda3\\lib\\site-packages\\sklearn\\preprocessing\\label.py:151: DeprecationWarning: The truth value of an empty array is ambiguous. Returning False, but in future this will result in an error. Use `array.size > 0` to check that an array is not empty.\n",
      "  if diff:\n",
      "E:\\Anaconda3\\lib\\site-packages\\sklearn\\preprocessing\\label.py:151: DeprecationWarning: The truth value of an empty array is ambiguous. Returning False, but in future this will result in an error. Use `array.size > 0` to check that an array is not empty.\n",
      "  if diff:\n"
     ]
    }
   ],
   "source": [
    "temp_classifier = xgb.XGBClassifier(learning_rate=0.3, max_depth=5, n_estimators=30)\n",
    "acc = np.zeros((y_train.size - 50, 7))\n",
    "k = y_test.size // 7 + (y_test.size % 7 > 0)\n",
    "for i in range(y_train.size - 50):\n",
    "    temp_classifier.fit(X_train[:50 + i], np.ravel(y_train)[:50 + i])\n",
    "    y_predicted = temp_classifier.predict(X_test)\n",
    "    for j in range(7):\n",
    "        acc[i][j] = metrics.accuracy_score((np.ravel(y_test))[k * j: k * (j + 1)], y_predicted[k * j: k * (j + 1)])"
   ]
  },
  {
   "cell_type": "code",
   "execution_count": 83,
   "metadata": {},
   "outputs": [
    {
     "data": {
      "image/png": "[encoded data removed]",
      "text/plain": [
       "<matplotlib.figure.Figure at 0x1dca2bccd30>"
      ]
     },
     "metadata": {},
     "output_type": "display_data"
    }
   ],
   "source": [
    "acc_mean = np.mean(acc, axis=1)\n",
    "acc_std = np.std(acc, axis=1)\n",
    "plt.title(\"График зависимости accuracy от размера обучающей выборки\")\n",
    "plt.plot(range(50, y_train.size), acc_mean, 'k-')\n",
    "plt.plot(range(50, y_train.size), acc_mean - acc_std, 'b-')\n",
    "plt.plot(range(50, y_train.size), acc_mean + acc_std, 'b-')\n",
    "plt.fill_between(range(50, y_train.size), acc_mean - acc_std, acc_mean + acc_std)\n",
    "plt.grid()\n",
    "plt.xlabel(\"Размер обучающей выборки\")\n",
    "plt.ylabel(\"accuracy\")\n",
    "plt.show()"
   ]
  }
 ],
 "metadata": {
  "kernelspec": {
   "display_name": "Python 3",
   "language": "python",
   "name": "python3"
  },
  "language_info": {
   "codemirror_mode": {
    "name": "ipython",
    "version": 3
   },
   "file_extension": ".py",
   "mimetype": "text/x-python",
   "name": "python",
   "nbconvert_exporter": "python",
   "pygments_lexer": "ipython3",
   "version": "3.6.4"
  }
 },
 "nbformat": 4,
 "nbformat_minor": 2
}
