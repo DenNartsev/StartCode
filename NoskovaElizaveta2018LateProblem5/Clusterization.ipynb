{
 "cells": [
  {
   "cell_type": "markdown",
   "metadata": {
    "colab_type": "text",
    "id": "altJYU0bAd8s"
   },
   "source": [
    "# LOAD DATASET"
   ]
  },
  {
   "cell_type": "code",
   "execution_count": 1,
   "metadata": {
    "colab": {
     "base_uri": "https://localhost:8080/",
     "height": 208
    },
    "colab_type": "code",
    "id": "X6afS_dOwNhd",
    "outputId": "62c030a3-cfcb-41d8-c20b-5354e40c4bb1"
   },
   "outputs": [
    {
     "name": "stdout",
     "output_type": "stream",
     "text": [
      "--2018-12-30 15:11:50--  https://raw.githubusercontent.com/first20hours/google-10000-english/master/20k.txt\n",
      "Resolving raw.githubusercontent.com (raw.githubusercontent.com)... 151.101.112.133\n",
      "Connecting to raw.githubusercontent.com (raw.githubusercontent.com)|151.101.112.133|:443... connected.\n",
      "HTTP request sent, awaiting response... 200 OK\n",
      "Length: 155418 (152K) [text/plain]\n",
      "Saving to: ‘20k.txt’\n",
      "\n",
      "20k.txt             100%[===================>] 151,78K   804KB/s    in 0,2s    \n",
      "\n",
      "2018-12-30 15:11:51 (804 KB/s) - ‘20k.txt’ saved [155418/155418]\n",
      "\n"
     ]
    }
   ],
   "source": [
    "!wget https://raw.githubusercontent.com/first20hours/google-10000-english/master/20k.txt"
   ]
  },
  {
   "cell_type": "code",
   "execution_count": 3,
   "metadata": {
    "colab": {
     "base_uri": "https://localhost:8080/",
     "height": 208
    },
    "colab_type": "code",
    "id": "hf7hkVZ_uCFk",
    "outputId": "021efafa-ecf4-411e-f6fb-56e1fcf24840"
   },
   "outputs": [
    {
     "name": "stdout",
     "output_type": "stream",
     "text": [
      "--2018-12-31 04:31:37--  https://s3-us-west-1.amazonaws.com/fasttext-vectors/wiki.en.vec\n",
      "Resolving s3-us-west-1.amazonaws.com (s3-us-west-1.amazonaws.com)... 52.219.20.45\n",
      "Connecting to s3-us-west-1.amazonaws.com (s3-us-west-1.amazonaws.com)|52.219.20.45|:443... connected.\n",
      "HTTP request sent, awaiting response... 200 OK\n",
      "Length: 6597238061 (6,1G) [binary/octet-stream]\n",
      "Saving to: ‘wiki.en.vec.1’\n",
      "\n",
      "wiki.en.vec.1       100%[===================>]   6,14G  5,61MB/s    in 14m 42s \n",
      "\n",
      "2018-12-31 04:46:21 (7,13 MB/s) - ‘wiki.en.vec.1’ saved [6597238061/6597238061]\n",
      "\n"
     ]
    }
   ],
   "source": [
    "!wget https://s3-us-west-1.amazonaws.com/fasttext-vectors/wiki.en.vec"
   ]
  },
  {
   "cell_type": "markdown",
   "metadata": {
    "colab_type": "text",
    "id": "bgKPX0gSAlSx"
   },
   "source": [
    "# PREPARE DATASET"
   ]
  },
  {
   "cell_type": "code",
   "execution_count": 1,
   "metadata": {
    "colab": {},
    "colab_type": "code",
    "id": "ADbG0MIluWWp"
   },
   "outputs": [],
   "source": [
    "# UTILS #\n",
    "import pandas as pd\n",
    "import numpy as np\n",
    "from matplotlib import pyplot as plt\n",
    "from tqdm import tqdm\n",
    "import matplotlib.cm as cm\n",
    "#from yellowbrick.cluster import SilhouetteVisualizer\n",
    "\n",
    "# TEXT LIBS #\n",
    "import gensim\n",
    "\n",
    "# ML LIBS #\n",
    "from sklearn.cluster import KMeans\n",
    "from sklearn.metrics import silhouette_samples, silhouette_score\n",
    "from sklearn.metrics.pairwise import cosine_similarity, euclidean_distances"
   ]
  },
  {
   "cell_type": "code",
   "execution_count": 2,
   "metadata": {
    "colab": {},
    "colab_type": "code",
    "id": "TptxwDMC18Ca"
   },
   "outputs": [],
   "source": [
    "google_words = []\n",
    "with open('20k.txt', 'r') as f:\n",
    "    google_words = [w[:-1] for w in f]"
   ]
  },
  {
   "cell_type": "code",
   "execution_count": null,
   "metadata": {
    "colab": {},
    "colab_type": "code",
    "id": "-dJRPZtm2d_M"
   },
   "outputs": [],
   "source": [
    "model = gensim.models.KeyedVectors.load_word2vec_format('wiki.en.vec.1', binary=False)"
   ]
  },
  {
   "cell_type": "markdown",
   "metadata": {
    "colab_type": "text",
    "id": "NtKqVGDVG-zo"
   },
   "source": [
    "fasttext с mipt-telecom качалась неприлично долго, поэтому я использовала google colab, на котором ограничена память. Что бы уложиться пришлось качать только .vec без ngram и выкинуть из выборки некоторые слова. Благо их не много..."
   ]
  },
  {
   "cell_type": "code",
   "execution_count": 6,
   "metadata": {
    "colab": {
     "base_uri": "https://localhost:8080/",
     "height": 1337
    },
    "colab_type": "code",
    "id": "nAec07UyFAFd",
    "outputId": "fb11c903-d79f-4203-e606-ea3ad1ec2026"
   },
   "outputs": [
    {
     "name": "stdout",
     "output_type": "stream",
     "text": [
      "Unknown word sexcam\n",
      "Unknown word milfhunter\n",
      "Unknown word postposted\n",
      "Unknown word starsmerchant\n",
      "Unknown word ampland\n",
      "Unknown word thumbzilla\n",
      "Unknown word livesex\n",
      "Unknown word worldsex\n",
      "Unknown word msgstr\n",
      "Unknown word sublimedirectory\n",
      "Unknown word viewpicture\n",
      "Unknown word acdbentity\n",
      "Unknown word zshops\n",
      "Unknown word listprice\n",
      "Unknown word knowledgestorm\n",
      "Unknown word vsnet\n",
      "Unknown word feof\n",
      "Unknown word bufing\n",
      "Unknown word voyuer\n",
      "Unknown word beastality\n",
      "Unknown word tittens\n",
      "Unknown word storesshop\n",
      "Unknown word blogthis\n",
      "Unknown word libdevel\n",
      "Unknown word spermshack\n",
      "Unknown word xlibs\n",
      "Unknown word milfseeker\n",
      "Unknown word pricetool\n",
      "Unknown word acdbline\n",
      "Unknown word trustpass\n",
      "Unknown word debuginfo\n",
      "Unknown word telefonsex\n",
      "Unknown word madthumbs\n",
      "Unknown word kudoz\n",
      "Unknown word phonephone\n",
      "Unknown word zoofilia\n",
      "Unknown word zerodegrees\n",
      "Unknown word secsg\n",
      "Unknown word condosaver\n",
      "Unknown word classicvacations\n",
      "Unknown word tiava\n",
      "Unknown word insest\n",
      "Unknown word searchsearch\n",
      "Unknown word ripencc\n",
      "Unknown word docume\n",
      "Unknown word pinkworld\n",
      "Unknown word conftest\n",
      "Unknown word registerregister\n",
      "Unknown word printprinter\n",
      "Unknown word savesave\n",
      "Unknown word animalsex\n",
      "Unknown word cvsroot\n",
      "Unknown word messageslog\n",
      "Unknown word inlog\n",
      "Unknown word profileprofile\n",
      "Unknown word thiscategory\n",
      "Unknown word faqfaq\n",
      "Unknown word usergroupsusergroups\n",
      "Unknown word phantomnode\n",
      "Unknown word ionamin\n",
      "Unknown word mcsg\n",
      "Unknown word bontril\n",
      "Unknown word libstdc\n",
      "Unknown word bbbonline\n",
      "Unknown word fomit\n",
      "Unknown word typekey\n",
      "Unknown word vgroup\n",
      "Unknown word oldmedline\n",
      "Unknown word sleazydream\n",
      "Unknown word asnblock\n",
      "Unknown word memberlistmemberlist\n",
      "Unknown word vdata\n",
      "Unknown word commentsblog\n",
      "Unknown word prolyte\n",
      "Unknown word ivtools\n",
      "Unknown word bizjournalshire\n"
     ]
    }
   ],
   "source": [
    "X = []\n",
    "for w in google_words:\n",
    "    try:\n",
    "        X.append(model[w])\n",
    "    except KeyError:\n",
    "        print('Unknown word ' + w)\n",
    "X = np.array(X)\n",
    "np.savetxt(\"drive/My Drive/model.csv\", X, delimiter=\",\")"
   ]
  },
  {
   "cell_type": "markdown",
   "metadata": {},
   "source": [
    "В дальнейшем будем пользоваться сохраненными векторами, что бы не хдать каждый раз когда загрузится модель"
   ]
  },
  {
   "cell_type": "code",
   "execution_count": 4,
   "metadata": {},
   "outputs": [],
   "source": [
    "X = np.genfromtxt(\"model.csv\", delimiter=',')"
   ]
  },
  {
   "cell_type": "markdown",
   "metadata": {
    "colab_type": "text",
    "id": "idFbqvcSG4f5"
   },
   "source": [
    "# DATASET ANALYSIS"
   ]
  },
  {
   "cell_type": "markdown",
   "metadata": {
    "colab_type": "text",
    "id": "DTs520pqQ0d0"
   },
   "source": [
    "Посмотрим на гистограммы слов по признакам. Особо ничего интересного сказать нельзя. Получилось нормальное распределение вокруг 0, как и предполагалось в FastText. Выбросы отсутствуют."
   ]
  },
  {
   "cell_type": "code",
   "execution_count": 5,
   "metadata": {
    "colab": {
     "base_uri": "https://localhost:8080/",
     "height": 107717
    },
    "colab_type": "code",
    "id": "JRXmzUZdHmzw",
    "outputId": "429f7bea-10be-43b0-8054-e1f2de9774cf"
   },
   "outputs": [
    {
     "data": {
      "image/png": "[encoded data removed]",
      "text/plain": [
       "<Figure size 432x288 with 1 Axes>"
      ]
     },
     "metadata": {},
     "output_type": "display_data"
    },
    {
     "data": {
      "image/png": "[encoded data removed]",
      "text/plain": [
       "<Figure size 432x288 with 1 Axes>"
      ]
     },
     "metadata": {},
     "output_type": "display_data"
    },
    {
     "data": {
      "image/png": "[encoded data removed]",
      "text/plain": [
       "<Figure size 432x288 with 1 Axes>"
      ]
     },
     "metadata": {},
     "output_type": "display_data"
    }
   ],
   "source": [
    "for i in range(3):\n",
    "    plt.hist(X[:, i], bins=100)\n",
    "    plt.title(\"feature {}\".format(i))\n",
    "    plt.xlabel(\"feature value\")\n",
    "    plt.ylabel(\"num of samples\")\n",
    "    plt.show()"
   ]
  },
  {
   "cell_type": "markdown",
   "metadata": {
    "colab_type": "text",
    "id": "gfrkpOw3Ydmn"
   },
   "source": [
    "# MODEL"
   ]
  },
  {
   "cell_type": "markdown",
   "metadata": {
    "colab_type": "text",
    "id": "AoL4Dj67Yj7C"
   },
   "source": [
    "Будем использовать K-means и попробуем искать наилучшее количество кластеров по различным метрикам: евклидово расстояние и косинусная мера (внутрикластерное расстояние и межкластерное расстояние). Итого 4 метрики. За расстояние между кластерами принято расстояние между центрами кластеров, что немного лукавство, ну да ладно... Нам хотелось бы минимизировать внутрикластерное расстояние и косинусную похожесть между кластерами, а максимизировать межкластерное евклидово расстояние и внутрикластерную косинусную схожесть. В идеале нам хотелось бы что бы (межкластерное расстояние - внутрикластерное) / max(внутрикластерное, межкластерное) -> 1. Приложены графики:"
   ]
  },
  {
   "cell_type": "code",
   "execution_count": 47,
   "metadata": {
    "colab": {},
    "colab_type": "code",
    "id": "hKh15cXlrbQ2"
   },
   "outputs": [],
   "source": [
    "def int_metr(X, Y, n_clusters):\n",
    "    clust = [[] for _ in range(n_clusters)]\n",
    "    for i in range(len(X)):\n",
    "        clust[Y[i]].append(X[i])\n",
    "    \n",
    "    eu_avg = 0\n",
    "    cos_average = []\n",
    "    for i in range(n_clusters):\n",
    "        cs = cosine_similarity(clust[i])\n",
    "        cs_avg = 0\n",
    "        for k in range(len(cs)):\n",
    "            for j in range(k+1, len(cs)):\n",
    "                cs_avg += cs[k][j]\n",
    "        if len(clust[i]) == 1:\n",
    "            cos_average.append(cs[0][0])\n",
    "        else:\n",
    "            cos_average.append(cs_avg / (((len(clust[i])**2) - len(clust[i])) / 2))\n",
    "        max_row = 0\n",
    "        cs = euclidean_distances(clust[i])\n",
    "        for k in range(len(cs) // 2):\n",
    "            max_row = max(max_row, max(cs[k]))\n",
    "        eu_avg += max_row\n",
    "    \n",
    "    return np.array(cos_average).mean(), eu_avg / n_clusters\n",
    "\n",
    "def ext_metr(centers):\n",
    "    cosine = cosine_similarity(centers)\n",
    "    cs = []\n",
    "    for i in range(len(cosine)):\n",
    "        for j in range(i+1, len(cosine)):\n",
    "            cs.append(cosine[i][j])\n",
    "    cosine = np.array(cs).mean()\n",
    "    distances = euclidean_distances(centers)\n",
    "    cs = []\n",
    "    for i in range(len(distances)):\n",
    "        for j in range(i+1, len(distances)):\n",
    "            cs.append(distances[i][j])\n",
    "    dist = np.array(cs).mean()\n",
    "    return cosine, dist"
   ]
  },
  {
   "cell_type": "code",
   "execution_count": 49,
   "metadata": {
    "colab": {},
    "colab_type": "code",
    "id": "G-uPV73C4Z4M"
   },
   "outputs": [
    {
     "name": "stdout",
     "output_type": "stream",
     "text": [
      "For n_clusters = 1000 \n",
      "average between clusters cosine similarity is 0.28508220882638224 \n",
      "average between clusters euclidean distance is 4.43051855378622 \n",
      "average among clusters cosine similarity is 0.5220442426059242 \n",
      "average among clusters euclidean distance is 5.716753060475638\n",
      "For n_clusters = 1200 \n",
      "average between clusters cosine similarity is 0.27376919765463764 \n",
      "average between clusters euclidean distance is 4.582534779463035 \n",
      "average among clusters cosine similarity is 0.5429387840096667 \n",
      "average among clusters euclidean distance is 5.5076374023608\n",
      "For n_clusters = 1400 \n",
      "average between clusters cosine similarity is 0.2592292657407178 \n",
      "average between clusters euclidean distance is 4.807426887297778 \n",
      "average among clusters cosine similarity is 0.5681579826334481 \n",
      "average among clusters euclidean distance is 5.239628506558609\n",
      "For n_clusters = 1600 \n",
      "average between clusters cosine similarity is 0.2530602724078216 \n",
      "average between clusters euclidean distance is 4.853522267647604 \n",
      "average among clusters cosine similarity is 0.5809587608920418 \n",
      "average among clusters euclidean distance is 5.0868180532553415\n",
      "For n_clusters = 1800 \n",
      "average between clusters cosine similarity is 0.24390760533307987 \n",
      "average between clusters euclidean distance is 4.979173488205444 \n",
      "average among clusters cosine similarity is 0.5975848209961699 \n",
      "average among clusters euclidean distance is 4.880299352001343\n",
      "For n_clusters = 2000 \n",
      "average between clusters cosine similarity is 0.2386734841886413 \n",
      "average between clusters euclidean distance is 5.060428426197632 \n",
      "average among clusters cosine similarity is 0.6102819991878232 \n",
      "average among clusters euclidean distance is 4.707763812093987\n",
      "For n_clusters = 2200 \n",
      "average between clusters cosine similarity is 0.22917542667833155 \n",
      "average between clusters euclidean distance is 5.189386435724067 \n",
      "average among clusters cosine similarity is 0.6302335833904884 \n",
      "average among clusters euclidean distance is 4.487932915839568\n",
      "For n_clusters = 2400 \n",
      "average between clusters cosine similarity is 0.22509795612846123 \n",
      "average between clusters euclidean distance is 5.244145178934603 \n",
      "average among clusters cosine similarity is 0.6395771580303115 \n",
      "average among clusters euclidean distance is 4.359222170762623\n",
      "For n_clusters = 2600 \n",
      "average between clusters cosine similarity is 0.21972627243942988 \n",
      "average between clusters euclidean distance is 5.335489908829679 \n",
      "average among clusters cosine similarity is 0.65531054599174 \n",
      "average among clusters euclidean distance is 4.177078982242871\n",
      "For n_clusters = 2800 \n",
      "average between clusters cosine similarity is 0.21512432986971536 \n",
      "average between clusters euclidean distance is 5.397892031404066 \n",
      "average among clusters cosine similarity is 0.6676556697475778 \n",
      "average among clusters euclidean distance is 4.021572218300688\n",
      "For n_clusters = 3000 \n",
      "average between clusters cosine similarity is 0.2087341120145789 \n",
      "average between clusters euclidean distance is 5.516606990054527 \n",
      "average among clusters cosine similarity is 0.6889583036285245 \n",
      "average among clusters euclidean distance is 3.791477197967287\n",
      "For n_clusters = 3200 \n",
      "average between clusters cosine similarity is 0.20819996447471692 \n",
      "average between clusters euclidean distance is 5.498206365401357 \n",
      "average among clusters cosine similarity is 0.687114284607629 \n",
      "average among clusters euclidean distance is 3.7889662460942226\n",
      "For n_clusters = 3400 \n",
      "average between clusters cosine similarity is 0.20408083258839363 \n",
      "average between clusters euclidean distance is 5.553735849766324 \n",
      "average among clusters cosine similarity is 0.7000600627809165 \n",
      "average among clusters euclidean distance is 3.6392750655921366\n",
      "For n_clusters = 3600 \n",
      "average between clusters cosine similarity is 0.2013905742825641 \n",
      "average between clusters euclidean distance is 5.595029446761155 \n",
      "average among clusters cosine similarity is 0.708951049378337 \n",
      "average among clusters euclidean distance is 3.527827379071479\n",
      "For n_clusters = 3800 \n",
      "average between clusters cosine similarity is 0.1985564771245103 \n",
      "average between clusters euclidean distance is 5.63571478605656 \n",
      "average among clusters cosine similarity is 0.7207984404764073 \n",
      "average among clusters euclidean distance is 3.390508661239286\n"
     ]
    }
   ],
   "source": [
    "range_n_clusters = np.arange(1000, 4000, 200)\n",
    "'''\n",
    "ic = []\n",
    "ie = []\n",
    "ec = []\n",
    "ee = []\n",
    "'''\n",
    "for n_clusters in range_n_clusters:\n",
    "    clusterer = KMeans(n_clusters=n_clusters, random_state=10)\n",
    "    cluster_labels = clusterer.fit_predict(X)\n",
    "    avg_internal_cosine, avg_internal_eucl = int_metr(X, cluster_labels, n_clusters)\n",
    "    avg_external_cosine, avg_external_eucl = ext_metr(clusterer.cluster_centers_)\n",
    "    ic.append(avg_internal_cosine)\n",
    "    ie.append(avg_internal_eucl)\n",
    "    ec.append(avg_external_cosine)\n",
    "    ee.append(avg_external_eucl)\n",
    "\n",
    "    print(\"For n_clusters =\", n_clusters,\n",
    "        \"\\naverage between clusters cosine similarity is\", avg_external_cosine, \n",
    "        \"\\naverage between clusters euclidean distance is\", avg_external_eucl,\n",
    "        \"\\naverage among clusters cosine similarity is\", avg_internal_cosine, \n",
    "        \"\\naverage among clusters euclidean distance is\", avg_internal_eucl)"
   ]
  },
  {
   "cell_type": "markdown",
   "metadata": {},
   "source": [
    "Посмотрим на графики. Косинусная схожесть увеличивается с возрастанием количества кластеров. Значит, что векторы в одном кластере в среднем становятся сонаправлеными и более кучно расположенными т.к. евклидово расстояние уменьшается. В то же время евклидово расстояние между кластерами увеличивается и косинусная похожесть между кластерами уменьшается. Последний график показывает зависимость метрики silhoutte от количества кластеров. Нам хочется что бы это значение приближалось к 1."
   ]
  },
  {
   "cell_type": "code",
   "execution_count": 50,
   "metadata": {
    "colab": {},
    "colab_type": "code",
    "id": "RO4nAXVEbQta"
   },
   "outputs": [
    {
     "data": {
      "image/png": "[encoded data removed]",
      "text/plain": [
       "<Figure size 432x288 with 1 Axes>"
      ]
     },
     "metadata": {},
     "output_type": "display_data"
    },
    {
     "data": {
      "image/png": "[encoded data removed]",
      "text/plain": [
       "<Figure size 432x288 with 1 Axes>"
      ]
     },
     "metadata": {},
     "output_type": "display_data"
    },
    {
     "data": {
      "image/png": "[encoded data removed]",
      "text/plain": [
       "<Figure size 432x288 with 1 Axes>"
      ]
     },
     "metadata": {},
     "output_type": "display_data"
    },
    {
     "data": {
      "image/png": "[encoded data removed]",
      "text/plain": [
       "<Figure size 432x288 with 1 Axes>"
      ]
     },
     "metadata": {},
     "output_type": "display_data"
    },
    {
     "data": {
      "image/png": "[encoded data removed]",
      "text/plain": [
       "<Figure size 432x288 with 1 Axes>"
      ]
     },
     "metadata": {},
     "output_type": "display_data"
    }
   ],
   "source": [
    "range_n_clusters = np.arange(1000, 4000, 200)\n",
    "plt.plot(range_n_clusters, ic)\n",
    "plt.xlabel(\"n clusters\")\n",
    "plt.ylabel(\"inner cluster cosine similarity\")\n",
    "plt.show()\n",
    "plt.plot(range_n_clusters, ie)\n",
    "plt.xlabel(\"n clusters\")\n",
    "plt.ylabel(\"inner cluster euclidean distance\")\n",
    "plt.show()\n",
    "plt.plot(range_n_clusters, ec)\n",
    "plt.xlabel(\"n clusters\")\n",
    "plt.ylabel(\"outer cluster cosine similarity\")\n",
    "plt.show()\n",
    "plt.plot(range_n_clusters, ee)\n",
    "plt.xlabel(\"n clusters\")\n",
    "plt.ylabel(\"outer cluster euclidean distance\")\n",
    "plt.show()\n",
    "silhouette = []\n",
    "for i in range(len(ie)):\n",
    "    silhouette.append((ee[i] - ie[i]) / max(ee[i], ie[i]))\n",
    "plt.plot(range_n_clusters, silhouette)\n",
    "plt.xlabel(\"n clusters\")\n",
    "plt.ylabel(\"silhouette metric\")\n",
    "plt.show()"
   ]
  },
  {
   "cell_type": "markdown",
   "metadata": {},
   "source": [
    "Посмотрим наконец, какие слова вошли в один кластер. Видно, что в некоторых класстерах вместе оказались взаимозаменяемые  слова (по крайней мере кажется fasttext задумывался так, что взаимозаменяемое будет лежать рядом): lenght, distance, rush; historical, cultural, historic. Но вообще выглядит, что 4000 кластеров маловато и надо считать дальше, но слишком медленно, на моей машине выходит. Принцип понятен :) С Новым Годом!"
   ]
  },
  {
   "cell_type": "code",
   "execution_count": null,
   "metadata": {},
   "outputs": [],
   "source": [
    "clusterer = KMeans(n_clusters=4000, random_state=10)\n",
    "Y = clusterer.fit_predict(X)\n",
    "clust = [[] for _ in range(4000)]\n",
    "for i in range(len(X)):\n",
    "    clust[Y[i]].append(google_words[i])"
   ]
  },
  {
   "cell_type": "code",
   "execution_count": 59,
   "metadata": {},
   "outputs": [
    {
     "name": "stdout",
     "output_type": "stream",
     "text": [
      "2971 ['historical', 'cultural', 'historic', 'adapt']\n",
      "830 ['peak', 'advent']\n",
      "3034 ['cisco', 'wrought', 'phenotype']\n",
      "2917 ['proceeds', 'willis', 'sts', 'carmel', 'listeners', 'nineteenth', 'buster', 'waking', 'approving']\n",
      "3708 ['ordinary', 'np', 'frost', 'instrumentation', 'sac', 'precedent']\n",
      "3125 ['entertaining']\n",
      "1026 ['puerto', 'woods', 'subchapter']\n",
      "3104 ['rom', 'wasted']\n",
      "3857 ['auditing', 'sigh']\n",
      "2802 ['rhetoric']\n"
     ]
    }
   ],
   "source": [
    "from random import random\n",
    "\n",
    "for _ in range(10):\n",
    "    c = int(random() * 4000)\n",
    "    print(c, clust[c])"
   ]
  },
  {
   "cell_type": "markdown",
   "metadata": {},
   "source": [
    "Эксперимент заключался в разделении заданной выборки слов на кластеры по взаимозаменяемости(в одном кластере взаимозаменяемые слова). В результате, как мы видим, действительно получились кластеры слов, но разделение ещё далеко от совершенства. Для более точного результата необходимо использовать большее количество кластеров, но это заняло бы слишком много времени."
   ]
  },
  {
   "cell_type": "code",
   "execution_count": null,
   "metadata": {},
   "outputs": [],
   "source": []
  }
 ],
 "metadata": {
  "colab": {
   "name": "Untitled1.ipynb",
   "provenance": [],
   "version": "0.3.2"
  },
  "kernelspec": {
   "display_name": "Python 3",
   "language": "python",
   "name": "python3"
  },
  "language_info": {
   "codemirror_mode": {
    "name": "ipython",
    "version": 3
   },
   "file_extension": ".py",
   "mimetype": "text/x-python",
   "name": "python",
   "nbconvert_exporter": "python",
   "pygments_lexer": "ipython3",
   "version": "3.5.2"
  }
 },
 "nbformat": 4,
 "nbformat_minor": 1
}
