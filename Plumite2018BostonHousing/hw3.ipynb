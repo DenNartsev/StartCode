{
 "cells": [
  {
   "cell_type": "code",
   "execution_count": 41,
   "metadata": {},
   "outputs": [
    {
     "name": "stdout",
     "output_type": "stream",
     "text": [
      "[6.309669626792253, 6.42156790966272, 6.89483122518508, 6.896956775463558, 7.109606260110503, 7.181456737284289, 7.149671286060332, 7.76288921747663, 7.820687604222023, 7.789354366840021, 7.78959189425292]\n"
     ]
    },
    {
     "data": {
      "image/png": "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\n",
      "text/plain": [
       "<matplotlib.figure.Figure at 0x3ac3121160>"
      ]
     },
     "metadata": {},
     "output_type": "display_data"
    }
   ],
   "source": [
    "%matplotlib inline\n",
    "\n",
    "import numpy as np\n",
    "import pandas as pd\n",
    "import matplotlib.pyplot as plt\n",
    "import sklearn\n",
    "\n",
    "#from matplotlib import rcParams\n",
    "\n",
    "from sklearn.datasets import load_boston\n",
    "boston = load_boston()\n",
    "\n",
    "bos = pd.DataFrame(boston.data)\n",
    "bos['PRICE'] = boston.target\n",
    "\n",
    "to_drop = ['PRICE']\n",
    "error = []\n",
    "stderr = []\n",
    "\n",
    "for i in range(1,12):\n",
    "    to_drop.append(i)\n",
    "    X = bos.drop(to_drop, axis = 1)\n",
    "    Y = bos['PRICE']\n",
    "\n",
    "    from sklearn import model_selection\n",
    "\n",
    "    X_train, X_test, Y_train, Y_test = sklearn.model_selection.train_test_split(X,Y, test_size = 0.33, random_state = 7)\n",
    "\n",
    "    from sklearn.linear_model import LinearRegression\n",
    "\n",
    "    lm = LinearRegression()\n",
    "    lm.fit(X_train, Y_train)\n",
    "\n",
    "    Y_pred = lm.predict(X_test)\n",
    "\n",
    "    mse = sklearn.metrics.mean_squared_error(Y_test, Y_pred)\n",
    "    error.append(mse)\n",
    "    var = np.array(Y_pred, Y_test)\n",
    "    stderr.append(np.std(var))\n",
    "\n",
    "to_drop.remove('PRICE')\n",
    "error.reverse()\n",
    "stderr.reverse()\n",
    "\n",
    "plt.scatter(to_drop, error)\n",
    "plt.xlabel(\"Number of features\")\n",
    "plt.ylabel(\"MSE\")\n",
    "plt.errorbar(to_drop, error, yerr = stderr)\n",
   ]
  },
  {
   "cell_type": "code",
   "execution_count": null,
   "metadata": {},
   "outputs": [],
   "source": []
  }
 ],
 "metadata": {
  "kernelspec": {
   "display_name": "Python 3",
   "language": "python",
   "name": "python3"
  },
  "language_info": {
   "codemirror_mode": {
    "name": "ipython",
    "version": 3
   },
   "file_extension": ".py",
   "mimetype": "text/x-python",
   "name": "python",
   "nbconvert_exporter": "python",
   "pygments_lexer": "ipython3",
   "version": "3.6.4"
  }
 },
 "nbformat": 4,
 "nbformat_minor": 2
}
