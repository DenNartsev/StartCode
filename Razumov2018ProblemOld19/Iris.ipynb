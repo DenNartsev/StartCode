{
 "cells": [
  {
   "cell_type": "markdown",
   "metadata": {},
   "source": [
    "# Классификация ирисов "
   ]
  },
  {
   "cell_type": "code",
   "execution_count": 1,
   "metadata": {},
   "outputs": [],
   "source": [
    "import numpy as np\n",
    "import pandas as pd\n",
    "import scipy as sp\n",
    "from scipy import optimize\n",
    "import random as rd\n",
    "import requests\n",
    "import io"
   ]
  },
  {
   "cell_type": "code",
   "execution_count": 2,
   "metadata": {},
   "outputs": [],
   "source": [
    "data_url = 'http://archive.ics.uci.edu/ml/machine-learning-databases/iris/iris.data'\n",
    "raw_dataset = requests.get(data_url)\n",
    "assert raw_dataset.status_code == 200"
   ]
  },
  {
   "cell_type": "code",
   "execution_count": 3,
   "metadata": {},
   "outputs": [],
   "source": [
    "frame = pd.read_csv(io.StringIO(raw_dataset.text),header = None, quotechar=',', skipinitialspace=True)"
   ]
  },
  {
   "cell_type": "code",
   "execution_count": 4,
   "metadata": {},
   "outputs": [],
   "source": [
    "dat_mat = np.zeros((150,4))\n",
    "for i in range(4):\n",
    "    dat_mat[:,i] = frame[i] \n",
    "dat_mat = dat_mat.T"
   ]
  },
  {
   "cell_type": "code",
   "execution_count": 5,
   "metadata": {},
   "outputs": [],
   "source": [
    "dat_mat_train = np.zeros((4,75))\n",
    "dat_mat_test = np.zeros((4,75))\n",
    "for i in range(75):\n",
    "    dat_mat_train[:,i] = dat_mat[:,i * 2]\n",
    "    dat_mat_test[:,i] = dat_mat[:,1 + i * 2]\n"
   ]
  },
  {
   "cell_type": "code",
   "execution_count": 6,
   "metadata": {},
   "outputs": [],
   "source": [
    "solution = np.zeros((3, 75))\n",
    "solution[0,:25] = 1\n",
    "solution[1,25:50] = 1\n",
    "solution[2,50:75] = 1\n",
    "#TODO: Сделать чуть более общим"
   ]
  },
  {
   "cell_type": "code",
   "execution_count": 7,
   "metadata": {},
   "outputs": [],
   "source": [
    "NUM_INPUT = 4\n",
    "NUM_HIDDEN = 11\n",
    "NUM_OUTPUT = 3"
   ]
  },
  {
   "cell_type": "code",
   "execution_count": 8,
   "metadata": {},
   "outputs": [],
   "source": [
    "def logreg(x):\n",
    "    return 1./(1.+np.exp(-x))"
   ]
  },
  {
   "cell_type": "code",
   "execution_count": 9,
   "metadata": {},
   "outputs": [],
   "source": [
    "def network(wghs, dat):\n",
    "    dat = dat.reshape((4, 75))\n",
    "    wgs_mat_size_1 = NUM_INPUT * NUM_HIDDEN\n",
    "    wgs_mat_size_2 = NUM_HIDDEN * NUM_OUTPUT\n",
    "    wgs_1 = wghs[:wgs_mat_size_1].reshape((NUM_HIDDEN, 4))\n",
    "    wgs_2 = wghs[wgs_mat_size_1:wgs_mat_size_1 + wgs_mat_size_2].reshape((3, NUM_HIDDEN))\n",
    "    z = logreg(np.dot(wgs_1, dat))\n",
    "    z = logreg(np.dot(wgs_2, z))\n",
    "    return z"
   ]
  },
  {
   "cell_type": "code",
   "execution_count": 10,
   "metadata": {},
   "outputs": [],
   "source": [
    "def loss(wgs, data):\n",
    "    z = network(wgs, data)\n",
    "    _sum = 0\n",
    "    for i in range(75):\n",
    "        sq = np.linalg.norm(z[:,i] - solution[:,i])\n",
    "        _sum += sq ** 2\n",
    "    return _sum*(1./75.)    "
   ]
  },
  {
   "cell_type": "code",
   "execution_count": 193,
   "metadata": {},
   "outputs": [
    {
     "name": "stdout",
     "output_type": "stream",
     "text": [
      "0.026666804755331622\n",
      "0.0271012330671861\n"
     ]
    }
   ],
   "source": [
    "wgs_size = (NUM_INPUT + NUM_OUTPUT) * NUM_HIDDEN\n",
    "wgs_0 = np.random.sample(wgs_size)\n",
    "while True:\n",
    "    if optimize.minimize(loss, wgs_0, dat_mat_train).fun < 1 and optimize.minimize(loss, wgs_0, dat_mat_train).success:\n",
    "        wgs_1 = optimize.minimize(loss, wgs_0, dat_mat_train).x\n",
    "        # print(optimize.minimize(loss, wgs_0, dat_mat_train))\n",
    "        break\n",
    "print loss(wgs_1, dat_mat_train)\n",
    "print loss(wgs_1, dat_mat_test)        "
   ]
  },
  {
   "cell_type": "code",
   "execution_count": 117,
   "metadata": {},
   "outputs": [],
   "source": [
    "std_1 = []\n",
    "std_2 = []"
   ]
  },
  {
   "cell_type": "code",
   "execution_count": 194,
   "metadata": {},
   "outputs": [],
   "source": [
    "std_1.append(loss(wgs_1, dat_mat_train))\n",
    "std_2.append(loss(wgs_1, dat_mat_test))"
   ]
  },
  {
   "cell_type": "code",
   "execution_count": 35,
   "metadata": {},
   "outputs": [],
   "source": [
    "import matplotlib.pyplot as plt"
   ]
  },
  {
   "cell_type": "markdown",
   "metadata": {},
   "source": [
    "## Построим график зависимости "
   ]
  },
  {
   "cell_type": "code",
   "execution_count": 197,
   "metadata": {},
   "outputs": [
    {
     "data": {
      "image/png": "[encoded data removed]",
      "text/plain": [
       "<Figure size 432x288 with 1 Axes>"
      ]
     },
     "metadata": {},
     "output_type": "display_data"
    }
   ],
   "source": [
    "x = np.linspace(1,11,11)\n",
    "\n",
    "plt.plot(x, std_2, label = '2')\n",
    "plt.plot(x, std_1, label = '1')\n",
    "\n",
    "plt.legend(loc='best')\n",
    "plt.xlabel('Num of hidden neuros')\n",
    "plt.ylabel('MSqare')\n",
    "plt.grid()\n",
    "plt.savefig('graph.pdf')"
   ]
  },
  {
   "cell_type": "code",
   "execution_count": 109,
   "metadata": {},
   "outputs": [],
   "source": [
    "noise = np.random.normal(0,0.2,300).reshape(4, 75)\n",
    "noised = dat_mat_test + noise"
   ]
  },
  {
   "cell_type": "markdown",
   "metadata": {},
   "source": [
    "## Построим график зависимости ошибки от числа итераций (ещё с различными шумами)"
   ]
  },
  {
   "cell_type": "code",
   "execution_count": 111,
   "metadata": {},
   "outputs": [
    {
     "name": "stdout",
     "output_type": "stream",
     "text": [
      "(0, 1.0970016638417774)\n",
      "(1, 0.6807433229591069)\n",
      "(2, 0.6662221383362853)\n",
      "(3, 0.607422944890558)\n",
      "(4, 0.47261517828784344)\n",
      "(5, 0.3983870697131834)\n",
      "(6, 0.3718110131704542)\n",
      "(7, 0.36202835084569773)\n",
      "(8, 0.35571670240707154)\n",
      "(9, 0.3514369716754536)\n",
      "(10, 0.3485465747789447)\n",
      "(11, 0.346084760560503)\n",
      "(12, 0.34451797500728987)\n",
      "(13, 0.34311148384331874)\n",
      "(14, 0.3418973869088448)\n",
      "(15, 0.34021372933351707)\n",
      "(16, 0.33901356807314315)\n",
      "(17, 0.33751877753373327)\n",
      "(18, 0.33198901817283333)\n",
      "(19, 0.3415469484074212)\n",
      "(20, 0.2877709344191906)\n",
      "(21, 0.2602308186507635)\n",
      "(22, 0.23999584047627873)\n",
      "(23, 0.21548388602651364)\n",
      "(24, 0.17680914200219564)\n",
      "(25, 0.17916742246694536)\n",
      "(26, 0.17678935217639122)\n",
      "(27, 0.17979683217036152)\n",
      "(28, 0.17807060246051123)\n",
      "(29, 0.17913592635062903)\n",
      "(30, 0.1814962093965763)\n",
      "(31, 0.18497653070232126)\n",
      "(32, 0.18371677912972684)\n",
      "(33, 0.1832764529215023)\n",
      "(34, 0.1864985846435732)\n",
      "(35, 0.18679468471787997)\n",
      "(36, 0.1873208947277861)\n",
      "(37, 0.18961489735792636)\n",
      "(38, 0.1914555068830541)\n",
      "(39, 0.19380121309953427)\n",
      "(40, 0.19636957873785413)\n",
      "(41, 0.19532475602990082)\n",
      "(42, 0.19723863291546914)\n",
      "(43, 0.19846198994113287)\n",
      "(44, 0.20154514668445017)\n",
      "(45, 0.19974642404364654)\n",
      "(46, 0.20144194198222934)\n",
      "(47, 0.2014969972461664)\n",
      "(48, 0.20325658401412058)\n",
      "(49, 0.20400977874843895)\n"
     ]
    }
   ],
   "source": [
    "# MSquare_deviations_test = []\n",
    "# MSquare_deviations_test_noise_1 = []\n",
    "# MSquare_deviations_test_noise_2 = []\n",
    "# MSquare_deviations_test_noise_3 = []\n",
    "# MSquare_deviations_test_noise_4 = []\n",
    "# MSquare_deviations_test_noise_5 = []\n",
    "# MSquare_deviations_test_noise_6 = []\n",
    "MSquare_deviations_test_noise_7 = []\n",
    "wgs_size = (NUM_INPUT + NUM_OUTPUT) * NUM_HIDDEN\n",
    "wgs_0 = np.random.sample(wgs_size)\n",
    "for i in range(50):\n",
    "    param_dict = {'maxiter':5}\n",
    "    res = optimize.minimize(loss, wgs_0, dat_mat_train, options = param_dict)\n",
    "    MSquare_deviations_test_noise_7.append(loss(res.x, noised))\n",
    "    wgs_0 = res.x\n",
    "    print(i, loss(res.x, noised))\n",
    "    "
   ]
  },
  {
   "cell_type": "code",
   "execution_count": 114,
   "metadata": {},
   "outputs": [
    {
     "data": {
      "image/png": "[encoded data removed]",
      "text/plain": [
       "<Figure size 432x288 with 1 Axes>"
      ]
     },
     "metadata": {},
     "output_type": "display_data"
    }
   ],
   "source": [
    "x = np.linspace(1,250,50)\n",
    "plt.plot(x, MSquare_deviations_test, label = \"clear\")\n",
    "plt.plot(x, MSquare_deviations_test_noise_1, label = \"noise = 0.02\")\n",
    "plt.plot(x, MSquare_deviations_test_noise_2, label = \"noise = 0.03\")\n",
    "plt.plot(x, MSquare_deviations_test_noise_3, label = \"noise = 0.04\")\n",
    "plt.plot(x, MSquare_deviations_test_noise_4, label = \"noise = 0.06\")\n",
    "plt.plot(x, MSquare_deviations_test_noise_5, label = \"noise = 0.08\")\n",
    "plt.plot(x, MSquare_deviations_test_noise_6, label = \"noise = 0.12\")\n",
    "plt.plot(x, MSquare_deviations_test_noise_7, label = \"noise = 0.2\")\n",
    "\n",
    "plt.legend(loc='best')\n",
    "plt.xlabel('Num of iterations')\n",
    "plt.ylabel('MSqare')\n",
    "plt.grid()\n",
    "plt.savefig('graph_iter.png')"
   ]
  }
 ],
 "metadata": {
  "kernelspec": {
   "display_name": "Python 2",
   "language": "python",
   "name": "python2"
  },
  "language_info": {
   "codemirror_mode": {
    "name": "ipython",
    "version": 2
   },
   "file_extension": ".py",
   "mimetype": "text/x-python",
   "name": "python",
   "nbconvert_exporter": "python",
   "pygments_lexer": "ipython2",
   "version": "2.7.15"
  }
 },
 "nbformat": 4,
 "nbformat_minor": 2
}
