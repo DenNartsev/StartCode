import numpy as np
import pandas as pd
from sklearn.neighbors import KNeighborsClassifier
from sklearn.cross_validation import KFold
from sklearn.cross_validation import *
from sklearn.preprocessing import *
from sklearn import metrics
 
data = pd.read_csv('wine.data', header=None)
X = pd.read_csv('wine.data', header=None, usecols=list(xrange(1,14)))
y = pd.read_csv('wine.data', header=None, usecols=[0]).values.reshape(len(X),)
 
kf = KFold(n=len(X), n_folds=5, shuffle=True, random_state=42)
 
kMeans = list()
for k in range(1, 51):
    kn = KNeighborsClassifier(n_neighbors=k)
    kn.fit(X, y);
    array = cross_val_score(estimator=kn, X=X, y=y, cv=kf, scoring='accuracy')
    m = array.mean()
    kMeans.append(m)   
 
m = max(kMeans)
indices = [i for i, j in enumerate(kMeans) if j == m]
 
print indices[0]+1
print np.round(m,decimals=2)
 
X_scale = scale(X)
 
kMeans = list()
for k in range(1, 51):
    kn = KNeighborsClassifier(n_neighbors=k)
    array = cross_val_score(estimator=kn, X=X_scale, y=y, cv=kf, scoring='accuracy')
    m = array.mean()
    kMeans.append(m)   
 
m = max(kMeans)
indices = [i for i, j in enumerate(kMeans) if j == m]
 
print indices[0]+1
print np.round(m,decimals=2)
