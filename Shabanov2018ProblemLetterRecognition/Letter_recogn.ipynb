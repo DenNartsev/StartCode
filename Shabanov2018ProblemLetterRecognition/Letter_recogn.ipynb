{
 "cells": [
  {
   "cell_type": "markdown",
   "metadata": {},
   "source": [
    "## Data prepare"
   ]
  },
  {
   "cell_type": "code",
   "execution_count": 1,
   "metadata": {
    "ExecuteTime": {
     "end_time": "2018-05-12T19:55:45.474374Z",
     "start_time": "2018-05-12T19:55:44.728995Z"
    },
    "collapsed": true
   },
   "outputs": [],
   "source": [
    "import os.path as osp\n",
    "import numpy as np\n",
    "from tqdm import tqdm_notebook, tqdm\n",
    "import matplotlib as mpl\n",
    "import matplotlib.pyplot as plt\n",
    "import random\n",
    "%matplotlib inline\n",
    "import skimage"
   ]
  },
  {
   "cell_type": "code",
   "execution_count": 2,
   "metadata": {
    "ExecuteTime": {
     "end_time": "2018-05-12T19:55:45.511150Z",
     "start_time": "2018-05-12T19:55:45.475946Z"
    },
    "collapsed": true
   },
   "outputs": [],
   "source": [
    "def numpy_read(filename):\n",
    "    if filename is None:\n",
    "        return None\n",
    "\n",
    "    filedir, basename = osp.split(filename)\n",
    "    basename, _ext = osp.splitext(basename)\n",
    "\n",
    "    parts = basename.split('_')\n",
    "    assert(len(parts) >= 3)\n",
    "    dtype, shape = parts[-2], parts[-1]\n",
    "    dtype = np.dtype(dtype)\n",
    "    shape = tuple(map(int, shape.split('x')))\n",
    "    return np.memmap(\n",
    "        filename,\n",
    "        mode='readonly',\n",
    "        shape=shape,\n",
    "        dtype=dtype)\n"
   ]
  },
  {
   "cell_type": "code",
   "execution_count": 3,
   "metadata": {
    "ExecuteTime": {
     "end_time": "2018-05-12T19:55:45.553138Z",
     "start_time": "2018-05-12T19:55:45.513291Z"
    },
    "scrolled": true
   },
   "outputs": [
    {
     "name": "stdout",
     "output_type": "stream",
     "text": [
      "[ 1943.  1943.  1943.  1943.  1943.  1943.  1943.  1943.  1943.  1943.\n",
      "  1943.  1943.  1943.  1943.  1943.  1943.  1943.  1943.  1943.  1943.\n",
      "  1943.  1943.  1943.  1943.     0.     0.     0.     0.     0.     0.\n",
      "     0.     0.     0.     0.     0.]\n"
     ]
    }
   ],
   "source": [
    "letters_inp = numpy_read('letters_inp_float32_46632x16x16x1.raw')\n",
    "letters_out = numpy_read('letters_out_float32_46632x35.raw')\n",
    "print(letters_out.sum(axis=0))"
   ]
  },
  {
   "cell_type": "code",
   "execution_count": 4,
   "metadata": {
    "ExecuteTime": {
     "end_time": "2018-05-12T19:55:45.719739Z",
     "start_time": "2018-05-12T19:55:45.554447Z"
    },
    "collapsed": true
   },
   "outputs": [],
   "source": [
    "letters_inp = np.array(letters_inp)\n",
    "letters_out = np.array(letters_out)"
   ]
  },
  {
   "cell_type": "code",
   "execution_count": 5,
   "metadata": {
    "ExecuteTime": {
     "end_time": "2018-05-12T19:55:45.752325Z",
     "start_time": "2018-05-12T19:55:45.721322Z"
    },
    "collapsed": true
   },
   "outputs": [],
   "source": [
    "def big_figure(imgs, hc, wc, shift=2):\n",
    "    assert(len(imgs) == hc*wc)\n",
    "    \n",
    "    # or vice versa\n",
    "    h = len(imgs[0])\n",
    "    w = len(imgs[0][0])\n",
    "    \n",
    "    \n",
    "    H = hc * h + shift * (hc - 1)\n",
    "    W = wc * w + shift * (wc - 1)\n",
    "    \n",
    "    pic = np.ndarray([H, W]) * 0.  \n",
    "    for i in range(hc):\n",
    "        for j in range(wc):\n",
    "            sx = (h + shift) * i\n",
    "            sy = (w + shift) * j\n",
    "            pic[sx: sx + h, sy: sy + w] = imgs[i*wc + j][:,:,0]\n",
    "            \n",
    "    return pic\n",
    "\n",
    "def to_index(one_hot):\n",
    "    return sum(i*x for (i,x) in enumerate(one_hot))\n",
    "\n",
    "def to_one_hot(index):\n",
    "    out = np.zeros([len(letters_out[0])])\n",
    "    out[int(index)] = 1\n",
    "    return out"
   ]
  },
  {
   "cell_type": "markdown",
   "metadata": {},
   "source": [
    "### Lets make some noise"
   ]
  },
  {
   "cell_type": "code",
   "execution_count": 6,
   "metadata": {
    "ExecuteTime": {
     "end_time": "2018-05-12T19:55:46.847298Z",
     "start_time": "2018-05-12T19:55:45.753947Z"
    },
    "collapsed": true
   },
   "outputs": [],
   "source": [
    "import imgaug as ia\n",
    "from imgaug import augmenters as iaa\n",
    "from imgaug import parameters as iap"
   ]
  },
  {
   "cell_type": "code",
   "execution_count": 7,
   "metadata": {
    "ExecuteTime": {
     "end_time": "2018-05-12T19:55:46.862772Z",
     "start_time": "2018-05-12T19:55:46.849031Z"
    },
    "collapsed": true
   },
   "outputs": [],
   "source": [
    "def show_pict( by_val_aug, by_val, num_example, num_elements_of_exm):\n",
    "    pics = []\n",
    "    for ind in (range(num_example)):\n",
    "        if (by_val != False):\n",
    "            pics += [by_val_aug[ind][i] if i !=0 else by_val[ind][1] for i in range(num_elements_of_exm)]\n",
    "        else:\n",
    "            pics += [by_val_aug[ind][i] for i in range(num_elements_of_exm)]\n",
    "\n",
    "    pic = big_figure(pics, num_example, num_elements_of_exm)\n",
    "    plt.figure(figsize=(8,8))\n",
    "    plt.imshow(pic, cmap='gray')\n",
    "    plt.show()"
   ]
  },
  {
   "cell_type": "code",
   "execution_count": 8,
   "metadata": {
    "ExecuteTime": {
     "end_time": "2018-05-12T19:55:46.876801Z",
     "start_time": "2018-05-12T19:55:46.864567Z"
    },
    "collapsed": true
   },
   "outputs": [],
   "source": [
    "blur_mean = 0.4\n",
    "blur_dev = 0.2\n",
    "blur_min = 0.1\n",
    "blur_max = 0.5\n",
    "\n",
    "scale_mean = 1\n",
    "scale_dev = 0.2\n",
    "scale_min = 0.8\n",
    "scale_max = 1.2\n",
    "\n",
    "rotate_mean = 0\n",
    "rotate_dev = 5\n",
    "rotate_min = -10\n",
    "rotate_max = 10\n",
    "\n",
    "gamma_mean = 1\n",
    "gamma_dev = 0.2\n",
    "gamma_min = 0.8\n",
    "gamma_max = 1.25\n",
    "\n",
    "num_drops = 3"
   ]
  },
  {
   "cell_type": "code",
   "execution_count": 9,
   "metadata": {
    "ExecuteTime": {
     "end_time": "2018-05-12T19:55:46.885463Z",
     "start_time": "2018-05-12T19:55:46.878339Z"
    },
    "collapsed": true
   },
   "outputs": [],
   "source": [
    "seq = iaa.Sequential([\n",
    "    \n",
    "    iaa.GaussianBlur(sigma = iap.Clip(iap.Normal(blur_mean, blur_dev),blur_min,blur_max)),\n",
    "    \n",
    "    iaa.Affine(\n",
    "        scale={\"x\": iap.Clip(iap.Normal(scale_mean, scale_dev),scale_min,scale_max), \n",
    "               \"y\": iap.Clip(iap.Normal(scale_mean, scale_dev),scale_min,scale_max)},\n",
    "        \n",
    "        rotate=iap.Clip(iap.Normal(rotate_mean, rotate_dev),rotate_min,rotate_max))\n",
    "    ], \n",
    "    random_order=True) # apply augmenters in random order"
   ]
  },
  {
   "cell_type": "code",
   "execution_count": 10,
   "metadata": {
    "ExecuteTime": {
     "end_time": "2018-05-12T19:55:46.895224Z",
     "start_time": "2018-05-12T19:55:46.886973Z"
    },
    "collapsed": true
   },
   "outputs": [],
   "source": [
    "def gamm_corr(imges, mean=gamma_mean, dev=gamma_dev, min_val=gamma_min, max_val=gamma_max):\n",
    "    res_images = []\n",
    "    for img in imges:\n",
    "        gamma = np.random.normal(mean, dev)\n",
    "        if gamma<min_val:\n",
    "            gamma=min_val\n",
    "        if gamma>max_val:\n",
    "            gamma=max_val\n",
    "        res_images.append(skimage.exposure.adjust_gamma(img, gamma=gamma))\n",
    "    return np.array(res_images)"
   ]
  },
  {
   "cell_type": "code",
   "execution_count": 11,
   "metadata": {
    "ExecuteTime": {
     "end_time": "2018-05-12T19:55:46.910394Z",
     "start_time": "2018-05-12T19:55:46.896714Z"
    },
    "collapsed": true
   },
   "outputs": [],
   "source": [
    "def drop_img(images, num_drop):\n",
    "    drop_shape_list = [(5,5), (4,5), (5,4)]\n",
    "    \n",
    "    res_images = []\n",
    "    for img_ in images:\n",
    "        img = img_.copy()\n",
    "        for i in range(num_drop):\n",
    "            drop_shape = random.choice(drop_shape_list)\n",
    "            rand_h = random.choice(range(0, img.shape[0] - drop_shape[0]))\n",
    "            rand_w = random.choice(range(0, img.shape[1] - drop_shape[1]))\n",
    "            img[rand_h:rand_h+drop_shape[0], rand_w:rand_w+drop_shape[1]] = random.randint(10, 200)/255\n",
    "        res_images.append(img)\n",
    "    return np.array(res_images)"
   ]
  },
  {
   "cell_type": "code",
   "execution_count": 12,
   "metadata": {
    "ExecuteTime": {
     "end_time": "2018-05-12T19:55:46.930471Z",
     "start_time": "2018-05-12T19:55:46.911785Z"
    },
    "collapsed": true
   },
   "outputs": [],
   "source": [
    "def batch_gen(X,y, batch_size, min_num_in_group, max_num_in_group):\n",
    "    imges_index = list(range(len(X)))\n",
    "    while True:\n",
    "        \n",
    "        num_in_group = random.randint(min_num_in_group, max_num_in_group)\n",
    "        if batch_size>len(imges_index):\n",
    "            imges_index = list(range(X.shape[0]))\n",
    "            yield np.array([False]), np.array([False]), np.array([False])\n",
    "            \n",
    "        rand_indexes = random.sample(imges_index, batch_size)\n",
    "        for k in rand_indexes:\n",
    "            imges_index.remove(k)\n",
    "        \n",
    "        res_group = []\n",
    "        for k in range(num_in_group):\n",
    "            res_group.append(drop_img(gamm_corr(seq.augment_images(X[rand_indexes])), num_drop=num_drops))\n",
    "        res_group = np.stack(res_group,axis=1)\n",
    "        yield np.array(res_group), y[rand_indexes], X[rand_indexes]"
   ]
  },
  {
   "cell_type": "code",
   "execution_count": 13,
   "metadata": {
    "ExecuteTime": {
     "end_time": "2018-05-12T19:55:47.271570Z",
     "start_time": "2018-05-12T19:55:46.932125Z"
    }
   },
   "outputs": [
    {
     "data": {
      "image/png": "[encoded data removed]",
      "text/plain": [
       "<matplotlib.figure.Figure at 0x10662ba90>"
      ]
     },
     "metadata": {},
     "output_type": "display_data"
    }
   ],
   "source": [
    "%matplotlib inline\n",
    "num_example = 8\n",
    "max_elements = 10\n",
    "empty = np.zeros([16,16,1])\n",
    "pics = []\n",
    "gen = batch_gen(letters_inp,letters_out, 1, max_elements-1,max_elements-1)\n",
    "# xx, yy, orig = next(gen)\n",
    "\n",
    "for ind in (range(num_example)):\n",
    "    imgs,yy,orig = next(gen)\n",
    "    #print(imgs.shape)\n",
    "    pics += [orig[0]]+ list(imgs[0]) + [empty] * (max_elements - len(imgs[0])-1) \n",
    "\n",
    "plt.figure(figsize=(8,8))\n",
    "pic = big_figure(pics, num_example, max_elements)\n",
    "plt.imshow(pic, cmap='gray')\n",
    "plt.show()"
   ]
  },
  {
   "cell_type": "markdown",
   "metadata": {},
   "source": [
    "## Experements with model"
   ]
  },
  {
   "cell_type": "code",
   "execution_count": 14,
   "metadata": {
    "ExecuteTime": {
     "end_time": "2018-05-12T19:55:49.606990Z",
     "start_time": "2018-05-12T19:55:47.273539Z"
    },
    "scrolled": true
   },
   "outputs": [
    {
     "name": "stderr",
     "output_type": "stream",
     "text": [
      "Using TensorFlow backend.\n"
     ]
    }
   ],
   "source": [
    "import pandas as pd\n",
    "import matplotlib.pylab as plt\n",
    "\n",
    "from keras.models import Sequential\n",
    "from keras.layers.core import Activation, Flatten\n",
    "from keras.models import Sequential\n",
    "from keras.layers import Dense, Dropout, Flatten\n",
    "from keras.layers import Conv2D, MaxPooling2D, LSTM\n",
    "from keras.callbacks import ModelCheckpoint, ReduceLROnPlateau, CSVLogger\n",
    "from keras.layers.wrappers import Bidirectional\n",
    "from keras import regularizers\n",
    "from keras.layers.normalization import BatchNormalization\n",
    "from keras.layers.advanced_activations import *\n",
    "from keras.optimizers import RMSprop, Adam, SGD, Nadam\n",
    "from keras.initializers import *\n",
    "from keras.layers.embeddings import Embedding\n",
    "from sklearn.metrics import accuracy_score\n",
    "import keras\n",
    "import keras.backend as K\n",
    "from keras import metrics\n",
    "from sklearn.model_selection import train_test_split\n",
    "from keras.models import load_model\n",
    "from sklearn.model_selection import cross_val_score"
   ]
  },
  {
   "cell_type": "markdown",
   "metadata": {},
   "source": [
    "### Trainingn on single images"
   ]
  },
  {
   "cell_type": "markdown",
   "metadata": {},
   "source": [
    "#### Trainingn on single images"
   ]
  },
  {
   "cell_type": "code",
   "execution_count": 15,
   "metadata": {
    "ExecuteTime": {
     "end_time": "2018-05-12T19:55:49.616802Z",
     "start_time": "2018-05-12T19:55:49.608971Z"
    },
    "collapsed": true
   },
   "outputs": [],
   "source": [
    "def gen_for_test(X, Y, batch_size = 50):\n",
    "    gen_test = batch_gen(X,Y, batch_size, 10, 10)\n",
    "    while True:\n",
    "        xx, yy, __ = next(gen_test)\n",
    "        yy = np.repeat(yy,repeats=xx.shape[1], axis=0)\n",
    "        xx = xx.reshape(xx.shape[0]*xx.shape[1], 16,16,1)\n",
    "        yield xx, yy"
   ]
  },
  {
   "cell_type": "code",
   "execution_count": 16,
   "metadata": {
    "ExecuteTime": {
     "end_time": "2018-05-12T19:56:09.017924Z",
     "start_time": "2018-05-12T19:55:49.618440Z"
    },
    "collapsed": true
   },
   "outputs": [],
   "source": [
    "# учитываем, что всего 24 класса\n",
    "X_tr, X_te, Y_tr, Y_te = train_test_split(letters_inp,\n",
    "                                          np.apply_along_axis(lambda x: x[:24],axis=1,arr=letters_out), \n",
    "                                          test_size=0.7,\n",
    "                                          stratify = np.apply_along_axis(lambda x: x[:24],axis=1,arr=letters_out),\n",
    "                                          random_state=42)"
   ]
  },
  {
   "cell_type": "code",
   "execution_count": 17,
   "metadata": {
    "ExecuteTime": {
     "end_time": "2018-05-12T19:56:09.046177Z",
     "start_time": "2018-05-12T19:56:09.019533Z"
    },
    "collapsed": true
   },
   "outputs": [],
   "source": [
    "X_tr_add, X_all_test, Y_tr_add, Y_all_test = train_test_split(X_te,\n",
    "                                                              Y_te, \n",
    "                                                              test_size=0.5,\n",
    "                                                              stratify = np.argmax(Y_te, axis=1),\n",
    "                                                              random_state=42)"
   ]
  },
  {
   "cell_type": "code",
   "execution_count": 18,
   "metadata": {
    "ExecuteTime": {
     "end_time": "2018-05-12T19:56:09.111394Z",
     "start_time": "2018-05-12T19:56:09.048640Z"
    }
   },
   "outputs": [
    {
     "data": {
      "application/vnd.jupyter.widget-view+json": {
       "model_id": "40d87adee1414db580a99060634e16bc"
      }
     },
     "metadata": {},
     "output_type": "display_data"
    },
    {
     "name": "stdout",
     "output_type": "stream",
     "text": [
      "\n"
     ]
    }
   ],
   "source": [
    "dataset_10 = []\n",
    "target_10 = []\n",
    "for i in tqdm_notebook(range(24)):\n",
    "    dataset_10.append(X_tr[np.where(np.argmax(Y_tr,axis=1) == i)[0][:10]])\n",
    "    target_10.append(Y_tr[np.where(np.argmax(Y_tr,axis=1) == i)[0][:10]])\n",
    "dataset_10 = np.array(dataset_10)\n",
    "target_10 = np.array(target_10)\n",
    "\n",
    "dataset_10 = dataset_10.reshape(240, 16, 16, 1)\n",
    "target_10 = target_10.reshape(240,24)\n",
    "\n",
    "dataset_10, _, target_10, _ = train_test_split(dataset_10,\n",
    "                                          target_10, \n",
    "                                          test_size=0.,\n",
    "                                          random_state=42)"
   ]
  },
  {
   "cell_type": "code",
   "execution_count": 19,
   "metadata": {
    "ExecuteTime": {
     "end_time": "2018-05-12T19:56:09.117736Z",
     "start_time": "2018-05-12T19:56:09.113208Z"
    }
   },
   "outputs": [
    {
     "data": {
      "text/plain": [
       "(240, 16, 16, 1)"
      ]
     },
     "execution_count": 19,
     "metadata": {},
     "output_type": "execute_result"
    }
   ],
   "source": [
    "dataset_10.shape"
   ]
  },
  {
   "cell_type": "code",
   "execution_count": 20,
   "metadata": {
    "ExecuteTime": {
     "end_time": "2018-05-12T19:56:09.358117Z",
     "start_time": "2018-05-12T19:56:09.119268Z"
    }
   },
   "outputs": [
    {
     "data": {
      "text/plain": [
       "(array([ 10.,  10.,  10.,  10.,  10.,  10.,  10.,  10.,  10.,  10.,  10.,\n",
       "         10.,  10.,  10.,  10.,  10.,  10.,  10.,  10.,  10.,  10.,  10.,\n",
       "         10.,  10.]),\n",
       " array([  0.        ,   0.95833333,   1.91666667,   2.875     ,\n",
       "          3.83333333,   4.79166667,   5.75      ,   6.70833333,\n",
       "          7.66666667,   8.625     ,   9.58333333,  10.54166667,\n",
       "         11.5       ,  12.45833333,  13.41666667,  14.375     ,\n",
       "         15.33333333,  16.29166667,  17.25      ,  18.20833333,\n",
       "         19.16666667,  20.125     ,  21.08333333,  22.04166667,  23.        ]),\n",
       " <a list of 24 Patch objects>)"
      ]
     },
     "execution_count": 20,
     "metadata": {},
     "output_type": "execute_result"
    },
    {
     "data": {
      "image/png": "[encoded data removed]",
      "text/plain": [
       "<matplotlib.figure.Figure at 0x11965b438>"
      ]
     },
     "metadata": {},
     "output_type": "display_data"
    }
   ],
   "source": [
    "# распределение по классам\n",
    "plt.hist(np.argmax(target_10, axis=1), bins=24)"
   ]
  },
  {
   "cell_type": "code",
   "execution_count": 21,
   "metadata": {
    "ExecuteTime": {
     "end_time": "2018-05-12T19:56:11.267612Z",
     "start_time": "2018-05-12T19:56:09.359708Z"
    }
   },
   "outputs": [
    {
     "name": "stdout",
     "output_type": "stream",
     "text": [
      "(10000, 16, 16, 1)\n"
     ]
    }
   ],
   "source": [
    "gen_val = gen_for_test(X_all_test, Y_all_test, batch_size = 1000)\n",
    "X_val, Y_val = next(gen_val)\n",
    "print(X_val.shape)"
   ]
  },
  {
   "cell_type": "code",
   "execution_count": 22,
   "metadata": {
    "ExecuteTime": {
     "end_time": "2018-05-12T19:56:11.273705Z",
     "start_time": "2018-05-12T19:56:11.269249Z"
    },
    "collapsed": true
   },
   "outputs": [],
   "source": [
    "batch_size = 64\n",
    "group_size_min = 10\n",
    "group_size_max = 10\n",
    "num_classes = 24 # Y_tr.shape[1]\n",
    "epochs = 20\n",
    "img_rows, img_cols = 16, 16\n",
    "input_shape = (img_rows, img_cols, 1)"
   ]
  },
  {
   "cell_type": "code",
   "execution_count": 23,
   "metadata": {
    "ExecuteTime": {
     "end_time": "2018-05-12T19:56:11.405069Z",
     "start_time": "2018-05-12T19:56:11.275664Z"
    },
    "collapsed": true
   },
   "outputs": [],
   "source": [
    "model = Sequential()\n",
    "model.add(Conv2D(32, kernel_size=(3, 3),\n",
    "                 activation='relu',\n",
    "                 input_shape=input_shape))\n",
    "model.add(Conv2D(32, (1, 1), activation='relu'))\n",
    "model.add(Conv2D(32, (3, 3), activation='relu'))\n",
    "model.add(Conv2D(16, (1, 1), activation='relu'))\n",
    "model.add(Conv2D(16, (1, 1), activation='relu'))\n",
    "model.add(MaxPooling2D(pool_size=(2, 2)))\n",
    "#model.add(Dropout(0.25))\n",
    "model.add(Flatten())\n",
    "model.add(Dense(128, activation='relu', name='additional_out'))\n",
    "#model.add(Dropout(0.5))\n",
    "model.add(Dense(num_classes, activation='softmax'))\n",
    "\n",
    "filepath=\"./weights/Best_CNN_with_noise.hdf5\"\n",
    "checkpoint = ModelCheckpoint(filepath, monitor='val_acc', verbose=1, save_best_only=True, mode='max')\n",
    "hist = keras.callbacks.History()\n",
    "\n",
    "model.compile(loss=keras.losses.categorical_crossentropy,\n",
    "              optimizer=keras.optimizers.Adadelta(),\n",
    "              metrics=['accuracy'])"
   ]
  },
  {
   "cell_type": "code",
   "execution_count": 24,
   "metadata": {
    "ExecuteTime": {
     "end_time": "2018-05-12T19:56:12.169009Z",
     "start_time": "2018-05-12T19:56:11.406618Z"
    },
    "collapsed": true
   },
   "outputs": [],
   "source": [
    "X_train = []\n",
    "Y_train = []\n",
    "gen_train = batch_gen(dataset_10,target_10, 5, group_size_min, group_size_max)\n",
    "\n",
    "xx, yy,__ = next(gen_train)\n",
    "X_train = xx.reshape(xx.shape[0]*xx.shape[1], 16,16,1)\n",
    "Y_train = np.repeat(yy, repeats=xx.shape[1], axis=0)\n",
    "\n",
    "while xx.any() != False:\n",
    "    xx, yy,__ = next(gen_train)\n",
    "    if (xx.any() == False):\n",
    "        break\n",
    "    X_train = np.vstack((X_train, xx.reshape(xx.shape[0]*xx.shape[1], 16,16,1)))\n",
    "    Y_train = np.vstack((Y_train, np.repeat(yy,repeats=xx.shape[1], axis=0)))"
   ]
  },
  {
   "cell_type": "code",
   "execution_count": 25,
   "metadata": {
    "ExecuteTime": {
     "end_time": "2018-05-12T19:56:12.174582Z",
     "start_time": "2018-05-12T19:56:12.170651Z"
    }
   },
   "outputs": [
    {
     "data": {
      "text/plain": [
       "(2400, 16, 16, 1)"
      ]
     },
     "execution_count": 25,
     "metadata": {},
     "output_type": "execute_result"
    }
   ],
   "source": [
    "X_train.shape"
   ]
  },
  {
   "cell_type": "code",
   "execution_count": 26,
   "metadata": {
    "ExecuteTime": {
     "end_time": "2018-05-12T19:56:12.179808Z",
     "start_time": "2018-05-12T19:56:12.176124Z"
    }
   },
   "outputs": [
    {
     "data": {
      "text/plain": [
       "(2400, 24)"
      ]
     },
     "execution_count": 26,
     "metadata": {},
     "output_type": "execute_result"
    }
   ],
   "source": [
    "Y_train.shape"
   ]
  },
  {
   "cell_type": "code",
   "execution_count": 27,
   "metadata": {
    "ExecuteTime": {
     "end_time": "2018-05-12T19:56:12.196454Z",
     "start_time": "2018-05-12T19:56:12.181371Z"
    },
    "collapsed": true
   },
   "outputs": [
    {
     "name": "stdout",
     "output_type": "stream",
     "text": [
      "Class  0 100\n",
      "Class  1 100\n",
      "Class  2 100\n",
      "Class  3 100\n",
      "Class  4 100\n",
      "Class  5 100\n",
      "Class  6 100\n",
      "Class  7 100\n",
      "Class  8 100\n",
      "Class  9 100\n",
      "Class  10 100\n",
      "Class  11 100\n",
      "Class  12 100\n",
      "Class  13 100\n",
      "Class  14 100\n",
      "Class  15 100\n",
      "Class  16 100\n",
      "Class  17 100\n",
      "Class  18 100\n",
      "Class  19 100\n",
      "Class  20 100\n",
      "Class  21 100\n",
      "Class  22 100\n",
      "Class  23 100\n"
     ]
    }
   ],
   "source": [
    "for i in np.unique(np.argmax(Y_train, axis=1)):\n",
    "    print (\"Class \", i, (np.argmax(Y_train, axis=1) == i).sum())"
   ]
  },
  {
   "cell_type": "code",
   "execution_count": 28,
   "metadata": {
    "ExecuteTime": {
     "end_time": "2018-05-12T19:57:01.673923Z",
     "start_time": "2018-05-12T19:56:12.197992Z"
    },
    "scrolled": true
   },
   "outputs": [
    {
     "name": "stdout",
     "output_type": "stream",
     "text": [
      "Train on 2400 samples, validate on 10000 samples\n",
      "Epoch 1/20\n",
      "2368/2400 [============================>.] - ETA: 0s - loss: 3.1629 - acc: 0.0570Epoch 00001: val_acc improved from -inf to 0.12990, saving model to ./weights/Best_CNN_with_noise.hdf5\n",
      "2400/2400 [==============================] - 3s 1ms/step - loss: 3.1620 - acc: 0.0596 - val_loss: 3.0809 - val_acc: 0.1299\n",
      "Epoch 2/20\n",
      "2368/2400 [============================>.] - ETA: 0s - loss: 2.6169 - acc: 0.2302Epoch 00002: val_acc improved from 0.12990 to 0.28770, saving model to ./weights/Best_CNN_with_noise.hdf5\n",
      "2400/2400 [==============================] - 2s 973us/step - loss: 2.6074 - acc: 0.2317 - val_loss: 2.4814 - val_acc: 0.2877\n",
      "Epoch 3/20\n",
      "2368/2400 [============================>.] - ETA: 0s - loss: 1.9188 - acc: 0.4413Epoch 00003: val_acc improved from 0.28770 to 0.39810, saving model to ./weights/Best_CNN_with_noise.hdf5\n",
      "2400/2400 [==============================] - 2s 940us/step - loss: 1.9097 - acc: 0.4446 - val_loss: 2.0747 - val_acc: 0.3981\n",
      "Epoch 4/20\n",
      "2368/2400 [============================>.] - ETA: 0s - loss: 1.4783 - acc: 0.5566Epoch 00004: val_acc improved from 0.39810 to 0.47330, saving model to ./weights/Best_CNN_with_noise.hdf5\n",
      "2400/2400 [==============================] - 3s 1ms/step - loss: 1.4740 - acc: 0.5571 - val_loss: 1.6925 - val_acc: 0.4733\n",
      "Epoch 5/20\n",
      "2368/2400 [============================>.] - ETA: 0s - loss: 1.1908 - acc: 0.6242Epoch 00005: val_acc improved from 0.47330 to 0.52630, saving model to ./weights/Best_CNN_with_noise.hdf5\n",
      "2400/2400 [==============================] - 3s 1ms/step - loss: 1.1868 - acc: 0.6258 - val_loss: 1.6154 - val_acc: 0.5263\n",
      "Epoch 6/20\n",
      "2368/2400 [============================>.] - ETA: 0s - loss: 0.9631 - acc: 0.7027Epoch 00006: val_acc improved from 0.52630 to 0.58450, saving model to ./weights/Best_CNN_with_noise.hdf5\n",
      "2400/2400 [==============================] - 3s 1ms/step - loss: 0.9583 - acc: 0.7046 - val_loss: 1.4311 - val_acc: 0.5845\n",
      "Epoch 7/20\n",
      "2368/2400 [============================>.] - ETA: 0s - loss: 0.7580 - acc: 0.7551Epoch 00007: val_acc improved from 0.58450 to 0.66510, saving model to ./weights/Best_CNN_with_noise.hdf5\n",
      "2400/2400 [==============================] - 3s 1ms/step - loss: 0.7521 - acc: 0.7575 - val_loss: 1.1027 - val_acc: 0.6651\n",
      "Epoch 8/20\n",
      "2368/2400 [============================>.] - ETA: 0s - loss: 0.6152 - acc: 0.7998Epoch 00008: val_acc improved from 0.66510 to 0.66800, saving model to ./weights/Best_CNN_with_noise.hdf5\n",
      "2400/2400 [==============================] - 2s 996us/step - loss: 0.6175 - acc: 0.7992 - val_loss: 1.0865 - val_acc: 0.6680\n",
      "Epoch 9/20\n",
      "2368/2400 [============================>.] - ETA: 0s - loss: 0.5197 - acc: 0.8349Epoch 00009: val_acc improved from 0.66800 to 0.67470, saving model to ./weights/Best_CNN_with_noise.hdf5\n",
      "2400/2400 [==============================] - 2s 989us/step - loss: 0.5218 - acc: 0.8346 - val_loss: 1.0545 - val_acc: 0.6747\n",
      "Epoch 10/20\n",
      "2368/2400 [============================>.] - ETA: 0s - loss: 0.4137 - acc: 0.8560Epoch 00010: val_acc did not improve\n",
      "2400/2400 [==============================] - 3s 1ms/step - loss: 0.4167 - acc: 0.8558 - val_loss: 1.1913 - val_acc: 0.6636\n",
      "Epoch 11/20\n",
      "2368/2400 [============================>.] - ETA: 0s - loss: 0.3286 - acc: 0.8910Epoch 00011: val_acc improved from 0.67470 to 0.69430, saving model to ./weights/Best_CNN_with_noise.hdf5\n",
      "2400/2400 [==============================] - 3s 1ms/step - loss: 0.3256 - acc: 0.8925 - val_loss: 1.1995 - val_acc: 0.6943\n",
      "Epoch 12/20\n",
      "2368/2400 [============================>.] - ETA: 0s - loss: 0.2838 - acc: 0.9088Epoch 00012: val_acc improved from 0.69430 to 0.70940, saving model to ./weights/Best_CNN_with_noise.hdf5\n",
      "2400/2400 [==============================] - 3s 1ms/step - loss: 0.2836 - acc: 0.9087 - val_loss: 1.0987 - val_acc: 0.7094\n",
      "Epoch 13/20\n",
      "2368/2400 [============================>.] - ETA: 0s - loss: 0.2373 - acc: 0.9219Epoch 00013: val_acc did not improve\n",
      "2400/2400 [==============================] - 2s 999us/step - loss: 0.2366 - acc: 0.9217 - val_loss: 1.2450 - val_acc: 0.7009\n",
      "Epoch 14/20\n",
      "2368/2400 [============================>.] - ETA: 0s - loss: 0.1776 - acc: 0.9447Epoch 00014: val_acc improved from 0.70940 to 0.71870, saving model to ./weights/Best_CNN_with_noise.hdf5\n",
      "2400/2400 [==============================] - 3s 1ms/step - loss: 0.1776 - acc: 0.9446 - val_loss: 1.1866 - val_acc: 0.7187\n",
      "Epoch 15/20\n",
      "2304/2400 [===========================>..] - ETA: 0s - loss: 0.1391 - acc: 0.9575Epoch 00015: val_acc did not improve\n",
      "2400/2400 [==============================] - 3s 1ms/step - loss: 0.1386 - acc: 0.9579 - val_loss: 1.3241 - val_acc: 0.7045\n",
      "Epoch 16/20\n",
      "2368/2400 [============================>.] - ETA: 0s - loss: 0.1226 - acc: 0.9611Epoch 00016: val_acc did not improve\n",
      "2400/2400 [==============================] - 2s 971us/step - loss: 0.1219 - acc: 0.9617 - val_loss: 1.3382 - val_acc: 0.7104\n",
      "Epoch 17/20\n",
      "2368/2400 [============================>.] - ETA: 0s - loss: 0.0900 - acc: 0.9768Epoch 00017: val_acc did not improve\n",
      "2400/2400 [==============================] - 2s 975us/step - loss: 0.0902 - acc: 0.9767 - val_loss: 1.4009 - val_acc: 0.7127\n",
      "Epoch 18/20\n",
      "2368/2400 [============================>.] - ETA: 0s - loss: 0.0667 - acc: 0.9856Epoch 00018: val_acc did not improve\n",
      "2400/2400 [==============================] - 2s 988us/step - loss: 0.0661 - acc: 0.9858 - val_loss: 1.3912 - val_acc: 0.7182\n",
      "Epoch 19/20\n",
      "2368/2400 [============================>.] - ETA: 0s - loss: 0.0553 - acc: 0.9865Epoch 00019: val_acc did not improve\n",
      "2400/2400 [==============================] - 2s 1ms/step - loss: 0.0550 - acc: 0.9867 - val_loss: 1.5045 - val_acc: 0.7183\n",
      "Epoch 20/20\n",
      "2368/2400 [============================>.] - ETA: 0s - loss: 0.0447 - acc: 0.9924Epoch 00020: val_acc did not improve\n",
      "2400/2400 [==============================] - 2s 1ms/step - loss: 0.0442 - acc: 0.9925 - val_loss: 1.5795 - val_acc: 0.7177\n"
     ]
    }
   ],
   "source": [
    "history = model.fit(X_train, Y_train,\n",
    "          batch_size=batch_size,\n",
    "          epochs=epochs,\n",
    "          validation_data = (X_val, Y_val),\n",
    "          callbacks = [checkpoint])"
   ]
  },
  {
   "cell_type": "code",
   "execution_count": 29,
   "metadata": {
    "ExecuteTime": {
     "end_time": "2018-05-12T19:57:01.678918Z",
     "start_time": "2018-05-12T19:57:01.675651Z"
    },
    "collapsed": true
   },
   "outputs": [],
   "source": [
    "#model.load_weights(filepath)"
   ]
  },
  {
   "cell_type": "code",
   "execution_count": 30,
   "metadata": {
    "ExecuteTime": {
     "end_time": "2018-05-12T19:57:01.889616Z",
     "start_time": "2018-05-12T19:57:01.681075Z"
    }
   },
   "outputs": [
    {
     "data": {
      "image/png": "[encoded data removed]",
      "text/plain": [
       "<matplotlib.figure.Figure at 0x125169a20>"
      ]
     },
     "metadata": {},
     "output_type": "display_data"
    }
   ],
   "source": [
    "plt.plot(history.history['acc'])\n",
    "plt.plot(history.history['val_acc'])\n",
    "plt.title('model accuracy')\n",
    "plt.ylabel('accuracy')\n",
    "plt.xlabel('epoch')\n",
    "plt.legend(['train', 'test'], loc='upper left')\n",
    "plt.show()\n",
    "# summarize history for loss\n",
    "# plt.plot(history.history['loss'])\n",
    "# plt.plot(history.history['val_loss'])\n",
    "# plt.title('model loss')\n",
    "# plt.ylabel('loss')\n",
    "# plt.xlabel('epoch')\n",
    "# plt.legend(['train', 'test'], loc='upper left')\n",
    "# plt.show()"
   ]
  },
  {
   "cell_type": "markdown",
   "metadata": {
    "ExecuteTime": {
     "end_time": "2018-04-29T14:40:24.628376Z",
     "start_time": "2018-04-29T14:40:24.625873Z"
    }
   },
   "source": [
    "#### Testing on single images"
   ]
  },
  {
   "cell_type": "code",
   "execution_count": 31,
   "metadata": {
    "ExecuteTime": {
     "end_time": "2018-05-12T19:57:01.894185Z",
     "start_time": "2018-05-12T19:57:01.891414Z"
    },
    "collapsed": true
   },
   "outputs": [],
   "source": [
    "gen_test = gen_for_test(X_all_test, Y_all_test)"
   ]
  },
  {
   "cell_type": "code",
   "execution_count": 32,
   "metadata": {
    "ExecuteTime": {
     "end_time": "2018-05-12T19:57:42.461116Z",
     "start_time": "2018-05-12T19:57:01.895819Z"
    },
    "collapsed": true,
    "scrolled": true
   },
   "outputs": [],
   "source": [
    "score = model.evaluate_generator(gen_test, steps=int((X_all_test.shape[0])/50)-1)"
   ]
  },
  {
   "cell_type": "code",
   "execution_count": 33,
   "metadata": {
    "ExecuteTime": {
     "end_time": "2018-05-12T19:57:42.466344Z",
     "start_time": "2018-05-12T19:57:42.462728Z"
    }
   },
   "outputs": [
    {
     "name": "stdout",
     "output_type": "stream",
     "text": [
      "Accuracy score:  0.721944615107\n"
     ]
    }
   ],
   "source": [
    "print(\"Accuracy score: \", score[1])"
   ]
  },
  {
   "cell_type": "markdown",
   "metadata": {},
   "source": [
    "#### Testing Answer Averaging"
   ]
  },
  {
   "cell_type": "code",
   "execution_count": 34,
   "metadata": {
    "ExecuteTime": {
     "end_time": "2018-05-12T19:57:42.481333Z",
     "start_time": "2018-05-12T19:57:42.467844Z"
    },
    "collapsed": true
   },
   "outputs": [],
   "source": [
    "def test_predict( X, Y, num_in_group, model = model):\n",
    "    Y_pred = []\n",
    "    Y_true = []\n",
    "    gen_train = batch_gen(X,Y, 50, num_in_group, num_in_group)\n",
    "\n",
    "    xx, yy,__ = next(gen_train)\n",
    "    \n",
    "    while xx.any() != False:\n",
    "        for i in range(xx.shape[0]):\n",
    "            Y_true.append(yy[i])\n",
    "            Y_pred.append(model.predict(xx[i]).mean(axis=0))\n",
    "            \n",
    "        xx, yy,__ = next(gen_train)\n",
    "        \n",
    "    return np.array(Y_true), np.array(Y_pred)"
   ]
  },
  {
   "cell_type": "code",
   "execution_count": 35,
   "metadata": {
    "ExecuteTime": {
     "end_time": "2018-05-12T19:58:43.080176Z",
     "start_time": "2018-05-12T19:57:42.482935Z"
    },
    "collapsed": true
   },
   "outputs": [],
   "source": [
    "y_true, y_pred = test_predict(X_all_test, Y_all_test, 10, model)"
   ]
  },
  {
   "cell_type": "code",
   "execution_count": 36,
   "metadata": {
    "ExecuteTime": {
     "end_time": "2018-05-12T19:58:43.084616Z",
     "start_time": "2018-05-12T19:58:43.081881Z"
    },
    "collapsed": true
   },
   "outputs": [],
   "source": [
    "elements_in_group = list(range(0,21,3))"
   ]
  },
  {
   "cell_type": "code",
   "execution_count": 37,
   "metadata": {
    "ExecuteTime": {
     "end_time": "2018-05-12T20:05:02.991424Z",
     "start_time": "2018-05-12T19:58:43.086411Z"
    }
   },
   "outputs": [
    {
     "data": {
      "application/vnd.jupyter.widget-view+json": {
       "model_id": "658cea61ddc74221aea4c87527cfebb9"
      }
     },
     "metadata": {},
     "output_type": "display_data"
    },
    {
     "name": "stdout",
     "output_type": "stream",
     "text": [
      "\n"
     ]
    }
   ],
   "source": [
    "elements_in_group = list(range(0,21,3))\n",
    "elements_in_group[0] = 1\n",
    "results = []\n",
    "for i in tqdm_notebook(elements_in_group):\n",
    "    y_true, y_pred = test_predict(X_all_test, Y_all_test, i, model)\n",
    "    results.append(accuracy_score([np.argmax(x) for x in y_true], [np.argmax(x) for x in y_pred]))\n",
    "results = np.array(results)"
   ]
  },
  {
   "cell_type": "code",
   "execution_count": 38,
   "metadata": {
    "ExecuteTime": {
     "end_time": "2018-05-12T20:05:02.997688Z",
     "start_time": "2018-05-12T20:05:02.993175Z"
    }
   },
   "outputs": [
    {
     "data": {
      "text/plain": [
       "(16300, 24)"
      ]
     },
     "execution_count": 38,
     "metadata": {},
     "output_type": "execute_result"
    }
   ],
   "source": [
    "y_true.shape"
   ]
  },
  {
   "cell_type": "code",
   "execution_count": 39,
   "metadata": {
    "ExecuteTime": {
     "end_time": "2018-05-12T20:05:03.003205Z",
     "start_time": "2018-05-12T20:05:02.999178Z"
    }
   },
   "outputs": [
    {
     "data": {
      "text/plain": [
       "array([ 0.71920245,  0.85773006,  0.90785276,  0.92245399,  0.92907975,\n",
       "        0.93208589,  0.93564417])"
      ]
     },
     "execution_count": 39,
     "metadata": {},
     "output_type": "execute_result"
    }
   ],
   "source": [
    "results"
   ]
  },
  {
   "cell_type": "code",
   "execution_count": 40,
   "metadata": {
    "ExecuteTime": {
     "end_time": "2018-05-12T20:05:03.008449Z",
     "start_time": "2018-05-12T20:05:03.004561Z"
    }
   },
   "outputs": [
    {
     "data": {
      "text/plain": [
       "[1, 3, 6, 9, 12, 15, 18]"
      ]
     },
     "execution_count": 40,
     "metadata": {},
     "output_type": "execute_result"
    }
   ],
   "source": [
    "elements_in_group"
   ]
  },
  {
   "cell_type": "code",
   "execution_count": 41,
   "metadata": {
    "ExecuteTime": {
     "end_time": "2018-05-12T20:05:03.192912Z",
     "start_time": "2018-05-12T20:05:03.009907Z"
    },
    "scrolled": true
   },
   "outputs": [
    {
     "data": {
      "text/plain": [
       "<matplotlib.text.Text at 0x11a510908>"
      ]
     },
     "execution_count": 41,
     "metadata": {},
     "output_type": "execute_result"
    },
    {
     "data": {
      "image/png": "[encoded data removed]",
      "text/plain": [
       "<matplotlib.figure.Figure at 0x11a4b46a0>"
      ]
     },
     "metadata": {},
     "output_type": "display_data"
    }
   ],
   "source": [
    "plt.plot(elements_in_group, results)\n",
    "plt.xticks(elements_in_group, elements_in_group)\n",
    "# plt.yticks(results, results)\n",
    "plt.title(\"Dependance between accuracy and num elements in group\")\n",
    "plt.ylabel('Accuracy')\n",
    "plt.xlabel('Num in group')"
   ]
  },
  {
   "cell_type": "code",
   "execution_count": 42,
   "metadata": {
    "ExecuteTime": {
     "end_time": "2018-05-12T20:05:03.198109Z",
     "start_time": "2018-05-12T20:05:03.194560Z"
    },
    "collapsed": true
   },
   "outputs": [],
   "source": [
    "np.save('results',results)"
   ]
  },
  {
   "cell_type": "markdown",
   "metadata": {
    "collapsed": true
   },
   "source": [
    "### Training additional model"
   ]
  },
  {
   "cell_type": "markdown",
   "metadata": {},
   "source": [
    "#### Generatge dataset for additional model"
   ]
  },
  {
   "cell_type": "code",
   "execution_count": 43,
   "metadata": {
    "ExecuteTime": {
     "end_time": "2018-05-12T20:05:03.202418Z",
     "start_time": "2018-05-12T20:05:03.199721Z"
    },
    "collapsed": true
   },
   "outputs": [],
   "source": [
    "from keras.models import Model"
   ]
  },
  {
   "cell_type": "code",
   "execution_count": 44,
   "metadata": {
    "ExecuteTime": {
     "end_time": "2018-05-12T20:05:03.208091Z",
     "start_time": "2018-05-12T20:05:03.204027Z"
    },
    "collapsed": true
   },
   "outputs": [],
   "source": [
    "layer_name = 'additional_out'\n",
    "intermediate_layer_model = Model(inputs=model.input,\n",
    "                                 outputs=model.get_layer(layer_name).output)\n",
    "#intermediate_output = intermediate_layer_model.predict(data)"
   ]
  },
  {
   "cell_type": "code",
   "execution_count": 45,
   "metadata": {
    "ExecuteTime": {
     "end_time": "2018-05-12T20:05:03.215321Z",
     "start_time": "2018-05-12T20:05:03.209739Z"
    },
    "collapsed": true
   },
   "outputs": [],
   "source": [
    "def get_features(array):\n",
    "    features = []\n",
    "    features.append(array.min())\n",
    "    features.append(array.max())\n",
    "    features.append(array.std())\n",
    "    features.append(array.mean())\n",
    "    return np.array(features)"
   ]
  },
  {
   "cell_type": "code",
   "execution_count": 46,
   "metadata": {
    "ExecuteTime": {
     "end_time": "2018-05-12T20:05:03.230556Z",
     "start_time": "2018-05-12T20:05:03.216735Z"
    },
    "collapsed": true
   },
   "outputs": [],
   "source": [
    "def get_add_dataset(X, Y, model, num_in_group = 5):\n",
    "    X_add = []\n",
    "    Y_add = []\n",
    "    gen_train = batch_gen(X,Y, 50, num_in_group, num_in_group)\n",
    "\n",
    "\n",
    "    xx, yy,__ = next(gen_train)\n",
    "    while xx.any() != False:\n",
    "        for i in range(xx.shape[0]):\n",
    "            Y_add.append(yy[i])\n",
    "            featured = np.array([get_features(x) for x in model.predict(xx[i]).T]).flatten()\n",
    "            X_add.append(featured)\n",
    "\n",
    "        xx, yy,__ = next(gen_train)\n",
    "    return np.array(X_add), np.array(Y_add)"
   ]
  },
  {
   "cell_type": "code",
   "execution_count": 47,
   "metadata": {
    "ExecuteTime": {
     "end_time": "2018-05-12T20:07:10.291279Z",
     "start_time": "2018-05-12T20:05:03.232212Z"
    },
    "collapsed": true
   },
   "outputs": [],
   "source": [
    "X_add, Y_add = get_add_dataset(X_tr_add, Y_tr_add, intermediate_layer_model)"
   ]
  },
  {
   "cell_type": "code",
   "execution_count": 48,
   "metadata": {
    "ExecuteTime": {
     "end_time": "2018-05-12T20:07:10.296553Z",
     "start_time": "2018-05-12T20:07:10.292930Z"
    }
   },
   "outputs": [
    {
     "data": {
      "text/plain": [
       "(16300, 512)"
      ]
     },
     "execution_count": 48,
     "metadata": {},
     "output_type": "execute_result"
    }
   ],
   "source": [
    "X_add.shape"
   ]
  },
  {
   "cell_type": "code",
   "execution_count": 49,
   "metadata": {
    "ExecuteTime": {
     "end_time": "2018-05-12T20:07:10.302044Z",
     "start_time": "2018-05-12T20:07:10.298232Z"
    }
   },
   "outputs": [
    {
     "data": {
      "text/plain": [
       "(16300, 24)"
      ]
     },
     "execution_count": 49,
     "metadata": {},
     "output_type": "execute_result"
    }
   ],
   "source": [
    "Y_add.shape"
   ]
  },
  {
   "cell_type": "markdown",
   "metadata": {},
   "source": [
    "#### Extra models training"
   ]
  },
  {
   "cell_type": "code",
   "execution_count": 50,
   "metadata": {
    "ExecuteTime": {
     "end_time": "2018-05-12T20:07:10.367947Z",
     "start_time": "2018-05-12T20:07:10.303403Z"
    },
    "collapsed": true
   },
   "outputs": [],
   "source": [
    "extra_model = Sequential()\n",
    "extra_model.add(Dense(128, input_shape=(X_add.shape[1],)))\n",
    "extra_model.add(Dropout(0.2))\n",
    "extra_model.add(Dense(256))\n",
    "extra_model.add(Dropout(0.3))\n",
    "#model.add(Dropout(0.25))\n",
    "#model.add(Dropout(0.5))\n",
    "extra_model.add(Dense(num_classes, activation='softmax'))\n",
    "\n",
    "hist = keras.callbacks.History()\n",
    "\n",
    "extra_model.compile(loss=keras.losses.categorical_crossentropy,\n",
    "              optimizer=keras.optimizers.Adadelta(),\n",
    "              metrics=['accuracy'])"
   ]
  },
  {
   "cell_type": "code",
   "execution_count": 51,
   "metadata": {
    "ExecuteTime": {
     "end_time": "2018-05-12T20:08:44.627130Z",
     "start_time": "2018-05-12T20:07:10.370922Z"
    },
    "scrolled": true
   },
   "outputs": [
    {
     "name": "stdout",
     "output_type": "stream",
     "text": [
      "Epoch 1/100\n",
      "16300/16300 [==============================] - 1s 61us/step - loss: 1.6879 - acc: 0.7087\n",
      "Epoch 2/100\n",
      "16300/16300 [==============================] - 1s 53us/step - loss: 0.4839 - acc: 0.8782\n",
      "Epoch 3/100\n",
      "16300/16300 [==============================] - 1s 53us/step - loss: 0.3725 - acc: 0.9068\n",
      "Epoch 4/100\n",
      "16300/16300 [==============================] - 1s 53us/step - loss: 0.3315 - acc: 0.9153\n",
      "Epoch 5/100\n",
      "16300/16300 [==============================] - 1s 54us/step - loss: 0.3000 - acc: 0.9257\n",
      "Epoch 6/100\n",
      "16300/16300 [==============================] - 1s 54us/step - loss: 0.2681 - acc: 0.9326\n",
      "Epoch 7/100\n",
      "16300/16300 [==============================] - 1s 54us/step - loss: 0.2359 - acc: 0.9349\n",
      "Epoch 8/100\n",
      "16300/16300 [==============================] - 1s 55us/step - loss: 0.2318 - acc: 0.9413\n",
      "Epoch 9/100\n",
      "16300/16300 [==============================] - 1s 55us/step - loss: 0.2216 - acc: 0.9410\n",
      "Epoch 10/100\n",
      "16300/16300 [==============================] - 1s 60us/step - loss: 0.2137 - acc: 0.9424\n",
      "Epoch 11/100\n",
      "16300/16300 [==============================] - 1s 60us/step - loss: 0.1979 - acc: 0.9461\n",
      "Epoch 12/100\n",
      "16300/16300 [==============================] - 1s 55us/step - loss: 0.1757 - acc: 0.9515\n",
      "Epoch 13/100\n",
      "16300/16300 [==============================] - 1s 56us/step - loss: 0.1836 - acc: 0.9503\n",
      "Epoch 14/100\n",
      "16300/16300 [==============================] - 1s 56us/step - loss: 0.1746 - acc: 0.9525\n",
      "Epoch 15/100\n",
      "16300/16300 [==============================] - 1s 61us/step - loss: 0.1765 - acc: 0.9518\n",
      "Epoch 16/100\n",
      "16300/16300 [==============================] - 1s 57us/step - loss: 0.1537 - acc: 0.9583\n",
      "Epoch 17/100\n",
      "16300/16300 [==============================] - 1s 57us/step - loss: 0.1544 - acc: 0.9584\n",
      "Epoch 18/100\n",
      "16300/16300 [==============================] - 1s 57us/step - loss: 0.1541 - acc: 0.9567\n",
      "Epoch 19/100\n",
      "16300/16300 [==============================] - 1s 57us/step - loss: 0.1483 - acc: 0.9577\n",
      "Epoch 20/100\n",
      "16300/16300 [==============================] - 1s 57us/step - loss: 0.1463 - acc: 0.9589\n",
      "Epoch 21/100\n",
      "16300/16300 [==============================] - 1s 62us/step - loss: 0.1432 - acc: 0.9584\n",
      "Epoch 22/100\n",
      "16300/16300 [==============================] - 1s 57us/step - loss: 0.1332 - acc: 0.9604\n",
      "Epoch 23/100\n",
      "16300/16300 [==============================] - 1s 58us/step - loss: 0.1252 - acc: 0.9642\n",
      "Epoch 24/100\n",
      "16300/16300 [==============================] - 1s 59us/step - loss: 0.1298 - acc: 0.9629\n",
      "Epoch 25/100\n",
      "16300/16300 [==============================] - 1s 58us/step - loss: 0.1305 - acc: 0.9624\n",
      "Epoch 26/100\n",
      "16300/16300 [==============================] - 1s 58us/step - loss: 0.1254 - acc: 0.9638\n",
      "Epoch 27/100\n",
      "16300/16300 [==============================] - 1s 58us/step - loss: 0.1182 - acc: 0.9651\n",
      "Epoch 28/100\n",
      "16300/16300 [==============================] - 1s 57us/step - loss: 0.1207 - acc: 0.9671\n",
      "Epoch 29/100\n",
      "16300/16300 [==============================] - 1s 58us/step - loss: 0.1176 - acc: 0.9663\n",
      "Epoch 30/100\n",
      "16300/16300 [==============================] - 1s 59us/step - loss: 0.1095 - acc: 0.9676\n",
      "Epoch 31/100\n",
      "16300/16300 [==============================] - 1s 62us/step - loss: 0.0997 - acc: 0.9700\n",
      "Epoch 32/100\n",
      "16300/16300 [==============================] - 1s 57us/step - loss: 0.1110 - acc: 0.9660\n",
      "Epoch 33/100\n",
      "16300/16300 [==============================] - 1s 58us/step - loss: 0.1083 - acc: 0.9688\n",
      "Epoch 34/100\n",
      "16300/16300 [==============================] - 1s 57us/step - loss: 0.0972 - acc: 0.9694\n",
      "Epoch 35/100\n",
      "16300/16300 [==============================] - 1s 62us/step - loss: 0.1047 - acc: 0.9685\n",
      "Epoch 36/100\n",
      "16300/16300 [==============================] - 1s 61us/step - loss: 0.1003 - acc: 0.9695\n",
      "Epoch 37/100\n",
      "16300/16300 [==============================] - 1s 82us/step - loss: 0.0937 - acc: 0.9723\n",
      "Epoch 38/100\n",
      "16300/16300 [==============================] - 1s 66us/step - loss: 0.0955 - acc: 0.9712\n",
      "Epoch 39/100\n",
      "16300/16300 [==============================] - 1s 70us/step - loss: 0.0959 - acc: 0.9728\n",
      "Epoch 40/100\n",
      "16300/16300 [==============================] - 1s 70us/step - loss: 0.0967 - acc: 0.9718\n",
      "Epoch 41/100\n",
      "16300/16300 [==============================] - 1s 69us/step - loss: 0.0884 - acc: 0.9716\n",
      "Epoch 42/100\n",
      "16300/16300 [==============================] - 1s 62us/step - loss: 0.0868 - acc: 0.9725\n",
      "Epoch 43/100\n",
      "16300/16300 [==============================] - 1s 61us/step - loss: 0.0880 - acc: 0.9729\n",
      "Epoch 44/100\n",
      "16300/16300 [==============================] - 1s 58us/step - loss: 0.0862 - acc: 0.9730\n",
      "Epoch 45/100\n",
      "16300/16300 [==============================] - 1s 58us/step - loss: 0.0866 - acc: 0.9734\n",
      "Epoch 46/100\n",
      "16300/16300 [==============================] - 1s 58us/step - loss: 0.0874 - acc: 0.9739\n",
      "Epoch 47/100\n",
      "16300/16300 [==============================] - 1s 58us/step - loss: 0.0819 - acc: 0.9745\n",
      "Epoch 48/100\n",
      "16300/16300 [==============================] - 1s 58us/step - loss: 0.0750 - acc: 0.9767\n",
      "Epoch 49/100\n",
      "16300/16300 [==============================] - 1s 57us/step - loss: 0.0843 - acc: 0.9736\n",
      "Epoch 50/100\n",
      "16300/16300 [==============================] - 1s 57us/step - loss: 0.0783 - acc: 0.9746\n",
      "Epoch 51/100\n",
      "16300/16300 [==============================] - 1s 57us/step - loss: 0.0856 - acc: 0.9742\n",
      "Epoch 52/100\n",
      "16300/16300 [==============================] - 1s 57us/step - loss: 0.0754 - acc: 0.9770\n",
      "Epoch 53/100\n",
      "16300/16300 [==============================] - 1s 57us/step - loss: 0.0749 - acc: 0.9762\n",
      "Epoch 54/100\n",
      "16300/16300 [==============================] - 1s 57us/step - loss: 0.0727 - acc: 0.9778\n",
      "Epoch 55/100\n",
      "16300/16300 [==============================] - 1s 57us/step - loss: 0.0711 - acc: 0.9775\n",
      "Epoch 56/100\n",
      "16300/16300 [==============================] - 1s 58us/step - loss: 0.0793 - acc: 0.9769\n",
      "Epoch 57/100\n",
      "16300/16300 [==============================] - 1s 57us/step - loss: 0.0681 - acc: 0.9801\n",
      "Epoch 58/100\n",
      "16300/16300 [==============================] - 1s 57us/step - loss: 0.0702 - acc: 0.9774\n",
      "Epoch 59/100\n",
      "16300/16300 [==============================] - 1s 64us/step - loss: 0.0705 - acc: 0.9775\n",
      "Epoch 60/100\n",
      "16300/16300 [==============================] - 1s 57us/step - loss: 0.0672 - acc: 0.9789\n",
      "Epoch 61/100\n",
      "16300/16300 [==============================] - 1s 56us/step - loss: 0.0676 - acc: 0.9801\n",
      "Epoch 62/100\n",
      "16300/16300 [==============================] - 1s 56us/step - loss: 0.0620 - acc: 0.9798\n",
      "Epoch 63/100\n",
      "16300/16300 [==============================] - 1s 56us/step - loss: 0.0669 - acc: 0.9779\n",
      "Epoch 64/100\n",
      "16300/16300 [==============================] - 1s 56us/step - loss: 0.0642 - acc: 0.9802\n",
      "Epoch 65/100\n",
      "16300/16300 [==============================] - 1s 57us/step - loss: 0.0631 - acc: 0.9809\n",
      "Epoch 66/100\n",
      "16300/16300 [==============================] - 1s 57us/step - loss: 0.0651 - acc: 0.9791\n",
      "Epoch 67/100\n",
      "16300/16300 [==============================] - 1s 59us/step - loss: 0.0630 - acc: 0.9804\n",
      "Epoch 68/100\n",
      "16300/16300 [==============================] - 1s 59us/step - loss: 0.0654 - acc: 0.9790\n",
      "Epoch 69/100\n",
      "16300/16300 [==============================] - 1s 57us/step - loss: 0.0614 - acc: 0.9809\n",
      "Epoch 70/100\n",
      "16300/16300 [==============================] - 1s 57us/step - loss: 0.0557 - acc: 0.9812\n",
      "Epoch 71/100\n",
      "16300/16300 [==============================] - 1s 57us/step - loss: 0.0577 - acc: 0.9819\n",
      "Epoch 72/100\n",
      "16300/16300 [==============================] - 1s 58us/step - loss: 0.0575 - acc: 0.9820\n",
      "Epoch 73/100\n",
      "16300/16300 [==============================] - 1s 57us/step - loss: 0.0625 - acc: 0.9796\n",
      "Epoch 74/100\n",
      "16300/16300 [==============================] - 1s 55us/step - loss: 0.0539 - acc: 0.9824\n",
      "Epoch 75/100\n",
      "16300/16300 [==============================] - 1s 56us/step - loss: 0.0525 - acc: 0.9829\n",
      "Epoch 76/100\n",
      "16300/16300 [==============================] - 1s 57us/step - loss: 0.0634 - acc: 0.9794\n",
      "Epoch 77/100\n",
      "16300/16300 [==============================] - 1s 57us/step - loss: 0.0556 - acc: 0.9817\n",
      "Epoch 78/100\n",
      "16300/16300 [==============================] - 1s 57us/step - loss: 0.0575 - acc: 0.9815\n",
      "Epoch 79/100\n",
      "16300/16300 [==============================] - 1s 56us/step - loss: 0.0521 - acc: 0.9833\n",
      "Epoch 80/100\n",
      "16300/16300 [==============================] - 1s 55us/step - loss: 0.0599 - acc: 0.9799\n",
      "Epoch 81/100\n",
      "16300/16300 [==============================] - 1s 55us/step - loss: 0.0541 - acc: 0.9817\n",
      "Epoch 82/100\n",
      "16300/16300 [==============================] - 1s 55us/step - loss: 0.0492 - acc: 0.9848\n",
      "Epoch 83/100\n",
      "16300/16300 [==============================] - 1s 55us/step - loss: 0.0559 - acc: 0.9822\n",
      "Epoch 84/100\n",
      "16300/16300 [==============================] - 1s 55us/step - loss: 0.0550 - acc: 0.9829\n",
      "Epoch 85/100\n",
      "16300/16300 [==============================] - 1s 56us/step - loss: 0.0516 - acc: 0.9830\n",
      "Epoch 86/100\n",
      "16300/16300 [==============================] - 1s 55us/step - loss: 0.0514 - acc: 0.9842\n",
      "Epoch 87/100\n",
      "16300/16300 [==============================] - 1s 55us/step - loss: 0.0475 - acc: 0.9851\n",
      "Epoch 88/100\n",
      "16300/16300 [==============================] - 1s 55us/step - loss: 0.0559 - acc: 0.9821\n",
      "Epoch 89/100\n",
      "16300/16300 [==============================] - 1s 56us/step - loss: 0.0510 - acc: 0.9834\n",
      "Epoch 90/100\n",
      "16300/16300 [==============================] - 1s 56us/step - loss: 0.0461 - acc: 0.9848\n",
      "Epoch 91/100\n",
      "16300/16300 [==============================] - 1s 55us/step - loss: 0.0511 - acc: 0.9834\n",
      "Epoch 92/100\n",
      "16300/16300 [==============================] - 1s 54us/step - loss: 0.0530 - acc: 0.9840\n",
      "Epoch 93/100\n",
      "16300/16300 [==============================] - 1s 55us/step - loss: 0.0487 - acc: 0.9840\n",
      "Epoch 94/100\n",
      "16300/16300 [==============================] - 1s 55us/step - loss: 0.0497 - acc: 0.9833\n",
      "Epoch 95/100\n",
      "16300/16300 [==============================] - 1s 55us/step - loss: 0.0442 - acc: 0.9861\n",
      "Epoch 96/100\n",
      "16300/16300 [==============================] - 1s 55us/step - loss: 0.0455 - acc: 0.9854\n",
      "Epoch 97/100\n",
      "16300/16300 [==============================] - 1s 53us/step - loss: 0.0496 - acc: 0.9832\n",
      "Epoch 98/100\n",
      "16300/16300 [==============================] - 1s 53us/step - loss: 0.0461 - acc: 0.9846\n",
      "Epoch 99/100\n",
      "16300/16300 [==============================] - 1s 54us/step - loss: 0.0482 - acc: 0.9846\n",
      "Epoch 100/100\n",
      "16300/16300 [==============================] - 1s 55us/step - loss: 0.0464 - acc: 0.9847\n"
     ]
    }
   ],
   "source": [
    "history = extra_model.fit(X_add, Y_add, \n",
    "                    batch_size=64,\n",
    "                    epochs=100)"
   ]
  },
  {
   "cell_type": "code",
   "execution_count": 52,
   "metadata": {
    "ExecuteTime": {
     "end_time": "2018-05-12T20:08:44.813164Z",
     "start_time": "2018-05-12T20:08:44.628787Z"
    },
    "scrolled": true
   },
   "outputs": [
    {
     "data": {
      "image/png": "[encoded data removed]",
      "text/plain": [
       "<matplotlib.figure.Figure at 0x123b78860>"
      ]
     },
     "metadata": {},
     "output_type": "display_data"
    }
   ],
   "source": [
    "plt.plot(history.history['acc'])\n",
    "# plt.plot(history.history['val_acc'])\n",
    "plt.title('model accuracy')\n",
    "plt.ylabel('accuracy')\n",
    "plt.xlabel('epoch')\n",
    "# plt.legend(['train', 'test'], loc='upper left')\n",
    "plt.show()\n",
    "# summarize history for loss\n",
    "# plt.plot(history.history['loss'])\n",
    "# plt.plot(history.history['val_loss'])\n",
    "# plt.title('model loss')\n",
    "# plt.ylabel('loss')\n",
    "# plt.xlabel('epoch')\n",
    "# plt.legend(['train', 'test'], loc='upper left')\n",
    "# plt.show()"
   ]
  },
  {
   "cell_type": "code",
   "execution_count": 53,
   "metadata": {
    "ExecuteTime": {
     "end_time": "2018-05-12T20:09:29.611689Z",
     "start_time": "2018-05-12T20:08:44.815318Z"
    }
   },
   "outputs": [
    {
     "data": {
      "text/plain": [
       "LGBMClassifier(boosting_type='gbdt', class_weight=None, colsample_bytree=1.0,\n",
       "        learning_rate=0.1, max_depth=-1, min_child_samples=20,\n",
       "        min_child_weight=0.001, min_split_gain=0.0, n_estimators=100,\n",
       "        n_jobs=-1, num_leaves=31, objective=None, random_state=None,\n",
       "        reg_alpha=0.0, reg_lambda=0.0, silent=True, subsample=1.0,\n",
       "        subsample_for_bin=200000, subsample_freq=1)"
      ]
     },
     "execution_count": 53,
     "metadata": {},
     "output_type": "execute_result"
    }
   ],
   "source": [
    "#import xgboost\n",
    "import lightgbm\n",
    "\n",
    "lgb = lightgbm.LGBMClassifier()\n",
    "lgb.fit(X_add, np.argmax(Y_add, axis=1))"
   ]
  },
  {
   "cell_type": "code",
   "execution_count": 54,
   "metadata": {
    "ExecuteTime": {
     "end_time": "2018-05-12T20:10:35.853309Z",
     "start_time": "2018-05-12T20:09:29.613940Z"
    },
    "scrolled": true
   },
   "outputs": [
    {
     "data": {
      "text/plain": [
       "array([ 0.95057034,  0.94697435])"
      ]
     },
     "execution_count": 54,
     "metadata": {},
     "output_type": "execute_result"
    }
   ],
   "source": [
    "cross_val_score(lgb, X_add, np.argmax(Y_add, axis=1), cv=2)"
   ]
  },
  {
   "cell_type": "markdown",
   "metadata": {},
   "source": [
    "### Testing CNN + additional model"
   ]
  },
  {
   "cell_type": "code",
   "execution_count": 55,
   "metadata": {
    "ExecuteTime": {
     "end_time": "2018-05-12T20:10:35.861729Z",
     "start_time": "2018-05-12T20:10:35.855608Z"
    },
    "collapsed": true
   },
   "outputs": [],
   "source": [
    "def print_score(name_additional, elements_in_group,results):\n",
    "    print(\"Additional model - \", name_additional)\n",
    "    for i,j in zip(elements_in_group, results):\n",
    "        print(\"     Num elements in group: {}, score: {:.3f}\".format(i, j))"
   ]
  },
  {
   "cell_type": "code",
   "execution_count": 56,
   "metadata": {
    "ExecuteTime": {
     "end_time": "2018-05-12T20:10:35.897547Z",
     "start_time": "2018-05-12T20:10:35.864751Z"
    },
    "collapsed": true
   },
   "outputs": [],
   "source": [
    "def all_test_pred( X, Y, num_in_group, model, extra_model = extra_model):\n",
    "    Y_pred = []\n",
    "    Y_true = []\n",
    "    gen_train = batch_gen(X,Y, 50, num_in_group, num_in_group)\n",
    "\n",
    "    xx, yy,__ = next(gen_train)\n",
    "    \n",
    "    while xx.any() != False:\n",
    "        for i in range(xx.shape[0]):\n",
    "            Y_true.append(yy[i])\n",
    "            #Y_pred.append(model.predict(xx[i]).mean(axis=0))\n",
    "            featured_x = np.array([get_features(x) for x in model.predict(xx[i]).T]).flatten()\n",
    "            Y_pred.append(extra_model.predict(featured_x.reshape(1, featured_x.shape[0])))\n",
    "            \n",
    "        xx, yy,__ = next(gen_train)\n",
    "        \n",
    "    return np.array(Y_true), np.array(Y_pred)"
   ]
  },
  {
   "cell_type": "code",
   "execution_count": 57,
   "metadata": {
    "ExecuteTime": {
     "end_time": "2018-05-12T20:10:36.150273Z",
     "start_time": "2018-05-12T20:10:35.899952Z"
    }
   },
   "outputs": [
    {
     "data": {
      "text/plain": [
       "(array([ 204.,  207.,  209.,  199.,  207.,  222.,  217.,  212.,  203.,\n",
       "         210.,  200.,  212.,  221.,  204.,  226.,  218.,  203.,  201.,\n",
       "         211.,  215.,  208.,  194.,  188.,  209.]),\n",
       " array([  0.        ,   0.95833333,   1.91666667,   2.875     ,\n",
       "          3.83333333,   4.79166667,   5.75      ,   6.70833333,\n",
       "          7.66666667,   8.625     ,   9.58333333,  10.54166667,\n",
       "         11.5       ,  12.45833333,  13.41666667,  14.375     ,\n",
       "         15.33333333,  16.29166667,  17.25      ,  18.20833333,\n",
       "         19.16666667,  20.125     ,  21.08333333,  22.04166667,  23.        ]),\n",
       " <a list of 24 Patch objects>)"
      ]
     },
     "execution_count": 57,
     "metadata": {},
     "output_type": "execute_result"
    },
    {
     "data": {
      "image/png": "[encoded data removed]",
      "text/plain": [
       "<matplotlib.figure.Figure at 0x124d077f0>"
      ]
     },
     "metadata": {},
     "output_type": "display_data"
    }
   ],
   "source": [
    "plt.hist(np.argmax(Y_all_test[:5000],axis=1), bins=24)"
   ]
  },
  {
   "cell_type": "code",
   "execution_count": 58,
   "metadata": {
    "ExecuteTime": {
     "end_time": "2018-05-12T20:16:17.761537Z",
     "start_time": "2018-05-12T20:10:36.152097Z"
    }
   },
   "outputs": [
    {
     "data": {
      "application/vnd.jupyter.widget-view+json": {
       "model_id": "2501c36d1105425082c0b7fcb3d84b75"
      }
     },
     "metadata": {},
     "output_type": "display_data"
    },
    {
     "name": "stdout",
     "output_type": "stream",
     "text": [
      "\n"
     ]
    }
   ],
   "source": [
    "elements_in_group_all = list(range(0,21,3))\n",
    "elements_in_group_all[0] = 1\n",
    "results_all = []\n",
    "for i in tqdm_notebook(elements_in_group_all):\n",
    "    y_true, y_pred = all_test_pred(X_all_test[:5000], Y_all_test[:5000], num_in_group=i,model = intermediate_layer_model, extra_model=extra_model)\n",
    "    results_all.append(accuracy_score([np.argmax(x) for x in y_true], [np.argmax(x) for x in y_pred]))\n",
    "results_all = np.array(results_all)\n",
    "#y_pred_dense = y_pred.copy()"
   ]
  },
  {
   "cell_type": "code",
   "execution_count": 59,
   "metadata": {
    "ExecuteTime": {
     "end_time": "2018-05-12T20:25:42.311193Z",
     "start_time": "2018-05-12T20:16:17.763033Z"
    }
   },
   "outputs": [
    {
     "data": {
      "application/vnd.jupyter.widget-view+json": {
       "model_id": "cdd4ef574e8f44cead933d2d0bb62e46"
      }
     },
     "metadata": {},
     "output_type": "display_data"
    },
    {
     "name": "stdout",
     "output_type": "stream",
     "text": [
      "\n"
     ]
    }
   ],
   "source": [
    "elements_in_group_xgb = list(range(0,21,3))\n",
    "elements_in_group_xgb[0] = 1\n",
    "results_xgb = []\n",
    "for i in tqdm_notebook(elements_in_group_xgb):\n",
    "    y_true, y_pred = all_test_pred(X_all_test[:5000], Y_all_test[:5000], num_in_group=i,model = intermediate_layer_model, extra_model=lgb)\n",
    "    results_xgb.append(accuracy_score([np.argmax(x) for x in y_true], y_pred))\n",
    "results_xgb = np.array(results_xgb)\n",
    "#y_pred_lgb = y_pred.copy()"
   ]
  },
  {
   "cell_type": "code",
   "execution_count": 60,
   "metadata": {
    "ExecuteTime": {
     "end_time": "2018-05-12T20:25:42.551142Z",
     "start_time": "2018-05-12T20:25:42.313306Z"
    }
   },
   "outputs": [
    {
     "name": "stdout",
     "output_type": "stream",
     "text": [
      "NN\n",
      "Extra model trained on the groups of 5\n"
     ]
    },
    {
     "data": {
      "image/png": "[encoded data removed]",
      "text/plain": [
       "<matplotlib.figure.Figure at 0x125658e80>"
      ]
     },
     "metadata": {},
     "output_type": "display_data"
    }
   ],
   "source": [
    "plt.plot(elements_in_group_all, results_all)\n",
    "plt.xticks(elements_in_group_all, elements_in_group_all)\n",
    "# plt.yticks(results, results)\n",
    "plt.title(\"Dependance between accuracy and num elements in group\")\n",
    "plt.ylabel('Accuracy')\n",
    "plt.xlabel('Num in group')\n",
    "print(\"NN\")\n",
    "print(\"Extra model trained on the groups of 5\")"
   ]
  },
  {
   "cell_type": "code",
   "execution_count": 61,
   "metadata": {
    "ExecuteTime": {
     "end_time": "2018-05-12T20:25:42.735544Z",
     "start_time": "2018-05-12T20:25:42.554007Z"
    }
   },
   "outputs": [
    {
     "name": "stdout",
     "output_type": "stream",
     "text": [
      "XGB\n",
      "Extra model trained on the groups of 5\n"
     ]
    },
    {
     "data": {
      "image/png": "[encoded data removed]",
      "text/plain": [
       "<matplotlib.figure.Figure at 0x123c44c50>"
      ]
     },
     "metadata": {},
     "output_type": "display_data"
    }
   ],
   "source": [
    "plt.plot(elements_in_group_xgb, results_xgb)\n",
    "plt.xticks(elements_in_group_xgb, elements_in_group_xgb)\n",
    "# plt.yticks(results, results)\n",
    "plt.title(\"Dependance between accuracy and num elements in group\")\n",
    "plt.ylabel('Accuracy')\n",
    "plt.xlabel('Num in group')\n",
    "print(\"XGB\")\n",
    "print(\"Extra model trained on the groups of 5\")"
   ]
  },
  {
   "cell_type": "code",
   "execution_count": 62,
   "metadata": {
    "ExecuteTime": {
     "end_time": "2018-05-12T20:25:42.745994Z",
     "start_time": "2018-05-12T20:25:42.737662Z"
    }
   },
   "outputs": [
    {
     "name": "stdout",
     "output_type": "stream",
     "text": [
      "Additional model -  lgb\n",
      "     Num elements in group: 1, score: 0.710\n",
      "     Num elements in group: 3, score: 0.935\n",
      "     Num elements in group: 6, score: 0.971\n",
      "     Num elements in group: 9, score: 0.976\n",
      "     Num elements in group: 12, score: 0.979\n",
      "     Num elements in group: 15, score: 0.979\n",
      "     Num elements in group: 18, score: 0.980\n",
      "Additional model -  Dense\n",
      "     Num elements in group: 1, score: 0.713\n",
      "     Num elements in group: 3, score: 0.937\n",
      "     Num elements in group: 6, score: 0.974\n",
      "     Num elements in group: 9, score: 0.976\n",
      "     Num elements in group: 12, score: 0.977\n",
      "     Num elements in group: 15, score: 0.980\n",
      "     Num elements in group: 18, score: 0.981\n",
      "Additional model -  Mean\n",
      "     Num elements in group: 1, score: 0.719\n",
      "     Num elements in group: 3, score: 0.858\n",
      "     Num elements in group: 6, score: 0.908\n",
      "     Num elements in group: 9, score: 0.922\n",
      "     Num elements in group: 12, score: 0.929\n",
      "     Num elements in group: 15, score: 0.932\n",
      "     Num elements in group: 18, score: 0.936\n"
     ]
    }
   ],
   "source": [
    "print_score('lgb', elements_in_group_xgb, results_xgb)\n",
    "print_score('Dense', elements_in_group_all, results_all)\n",
    "print_score('Mean', elements_in_group, results)"
   ]
  },
  {
   "cell_type": "code",
   "execution_count": 63,
   "metadata": {
    "ExecuteTime": {
     "end_time": "2018-05-12T20:25:42.752272Z",
     "start_time": "2018-05-12T20:25:42.747605Z"
    }
   },
   "outputs": [
    {
     "data": {
      "text/plain": [
       "array([ 0.71920245,  0.85773006,  0.90785276,  0.92245399,  0.92907975,\n",
       "        0.93208589,  0.93564417])"
      ]
     },
     "execution_count": 63,
     "metadata": {},
     "output_type": "execute_result"
    }
   ],
   "source": [
    "results"
   ]
  },
  {
   "cell_type": "code",
   "execution_count": 64,
   "metadata": {
    "ExecuteTime": {
     "end_time": "2018-05-12T20:25:42.757928Z",
     "start_time": "2018-05-12T20:25:42.753768Z"
    }
   },
   "outputs": [
    {
     "data": {
      "text/plain": [
       "array([ 0.7128,  0.9372,  0.974 ,  0.976 ,  0.9772,  0.9802,  0.9806])"
      ]
     },
     "execution_count": 64,
     "metadata": {},
     "output_type": "execute_result"
    }
   ],
   "source": [
    "results_all"
   ]
  },
  {
   "cell_type": "code",
   "execution_count": 65,
   "metadata": {
    "ExecuteTime": {
     "end_time": "2018-05-12T20:25:42.763185Z",
     "start_time": "2018-05-12T20:25:42.759360Z"
    }
   },
   "outputs": [
    {
     "data": {
      "text/plain": [
       "array([ 0.7096,  0.935 ,  0.9712,  0.9756,  0.979 ,  0.9792,  0.9802])"
      ]
     },
     "execution_count": 65,
     "metadata": {},
     "output_type": "execute_result"
    }
   ],
   "source": [
    "results_xgb"
   ]
  },
  {
   "cell_type": "code",
   "execution_count": 66,
   "metadata": {
    "ExecuteTime": {
     "end_time": "2018-05-12T20:25:42.768589Z",
     "start_time": "2018-05-12T20:25:42.764609Z"
    }
   },
   "outputs": [
    {
     "data": {
      "text/plain": [
       "[1, 3, 6, 9, 12, 15, 18]"
      ]
     },
     "execution_count": 66,
     "metadata": {},
     "output_type": "execute_result"
    }
   ],
   "source": [
    "elements_in_group"
   ]
  },
  {
   "cell_type": "code",
   "execution_count": 74,
   "metadata": {
    "ExecuteTime": {
     "end_time": "2018-05-12T22:33:10.846818Z",
     "start_time": "2018-05-12T22:33:10.839611Z"
    }
   },
   "outputs": [
    {
     "name": "stdout",
     "output_type": "stream",
     "text": [
      "Additional model -  Dense\n",
      "     Num elements in group: 1, score: 0.712\n",
      "     Num elements in group: 3, score: 0.883\n",
      "     Num elements in group: 6, score: 0.940\n",
      "     Num elements in group: 9, score: 0.953\n",
      "     Num elements in group: 12, score: 0.958\n",
      "     Num elements in group: 15, score: 0.958\n",
      "     Num elements in group: 18, score: 0.959\n",
      "Additional model -  Mean\n",
      "     Num elements in group: 1, score: 0.719\n",
      "     Num elements in group: 3, score: 0.858\n",
      "     Num elements in group: 6, score: 0.908\n",
      "     Num elements in group: 9, score: 0.922\n",
      "     Num elements in group: 12, score: 0.929\n",
      "     Num elements in group: 15, score: 0.932\n",
      "     Num elements in group: 18, score: 0.936\n"
     ]
    }
   ],
   "source": [
    "# old results\n",
    "#print_score('lgb', elements_in_group_xgb, results_xgb)\n",
    "print_score('Dense', elements_in_group_all, np.load('results_all.npy'))\n",
    "print_score('Mean', elements_in_group, results)"
   ]
  },
  {
   "cell_type": "markdown",
   "metadata": {},
   "source": [
    "------"
   ]
  },
  {
   "cell_type": "markdown",
   "metadata": {},
   "source": [
    "### Result analysis"
   ]
  },
  {
   "cell_type": "code",
   "execution_count": 68,
   "metadata": {
    "ExecuteTime": {
     "end_time": "2018-05-12T20:25:42.795192Z",
     "start_time": "2018-05-12T20:25:42.779246Z"
    }
   },
   "outputs": [
    {
     "name": "stdout",
     "output_type": "stream",
     "text": [
      "Class  0 204\n",
      "Class  1 207\n",
      "Class  2 209\n",
      "Class  3 199\n",
      "Class  4 207\n",
      "Class  5 222\n",
      "Class  6 217\n",
      "Class  7 212\n",
      "Class  8 203\n",
      "Class  9 210\n",
      "Class  10 200\n",
      "Class  11 212\n",
      "Class  12 221\n",
      "Class  13 204\n",
      "Class  14 226\n",
      "Class  15 218\n",
      "Class  16 203\n",
      "Class  17 201\n",
      "Class  18 211\n",
      "Class  19 215\n",
      "Class  20 208\n",
      "Class  21 194\n",
      "Class  22 188\n",
      "Class  23 209\n"
     ]
    }
   ],
   "source": [
    "for i in np.unique(np.argmax(y_true, axis=1)):\n",
    "    print (\"Class \", i, (np.argmax(y_true, axis=1) == i).sum())"
   ]
  },
  {
   "cell_type": "code",
   "execution_count": 69,
   "metadata": {
    "ExecuteTime": {
     "end_time": "2018-05-12T20:25:43.053977Z",
     "start_time": "2018-05-12T20:25:42.796641Z"
    },
    "scrolled": false
   },
   "outputs": [
    {
     "data": {
      "text/plain": [
       "(array([ 204.,  207.,  209.,  199.,  207.,  222.,  217.,  212.,  203.,\n",
       "         210.,  200.,  212.,  221.,  204.,  226.,  218.,  203.,  201.,\n",
       "         211.,  215.,  208.,  194.,  188.,  209.]),\n",
       " array([  0.        ,   0.95833333,   1.91666667,   2.875     ,\n",
       "          3.83333333,   4.79166667,   5.75      ,   6.70833333,\n",
       "          7.66666667,   8.625     ,   9.58333333,  10.54166667,\n",
       "         11.5       ,  12.45833333,  13.41666667,  14.375     ,\n",
       "         15.33333333,  16.29166667,  17.25      ,  18.20833333,\n",
       "         19.16666667,  20.125     ,  21.08333333,  22.04166667,  23.        ]),\n",
       " <a list of 24 Patch objects>)"
      ]
     },
     "execution_count": 69,
     "metadata": {},
     "output_type": "execute_result"
    },
    {
     "data": {
      "image/png": "[encoded data removed]",
      "text/plain": [
       "<matplotlib.figure.Figure at 0x12520fb38>"
      ]
     },
     "metadata": {},
     "output_type": "display_data"
    }
   ],
   "source": [
    "plt.hist(np.argmax(y_true, axis=1), bins=24)"
   ]
  },
  {
   "cell_type": "code",
   "execution_count": 70,
   "metadata": {
    "ExecuteTime": {
     "end_time": "2018-05-12T20:59:45.979696Z",
     "start_time": "2018-05-12T20:25:43.055716Z"
    },
    "scrolled": false
   },
   "outputs": [
    {
     "name": "stdout",
     "output_type": "stream",
     "text": [
      "3\n"
     ]
    },
    {
     "data": {
      "image/png": "[encoded data removed]",
      "text/plain": [
       "<matplotlib.figure.Figure at 0x124574ac8>"
      ]
     },
     "metadata": {},
     "output_type": "display_data"
    },
    {
     "name": "stdout",
     "output_type": "stream",
     "text": [
      "5\n"
     ]
    },
    {
     "data": {
      "image/png": "[encoded data removed]",
      "text/plain": [
       "<matplotlib.figure.Figure at 0x125669940>"
      ]
     },
     "metadata": {},
     "output_type": "display_data"
    },
    {
     "name": "stdout",
     "output_type": "stream",
     "text": [
      "6\n"
     ]
    },
    {
     "data": {
      "image/png": "[encoded data removed]",
      "text/plain": [
       "<matplotlib.figure.Figure at 0x124c4cf98>"
      ]
     },
     "metadata": {},
     "output_type": "display_data"
    }
   ],
   "source": [
    "num_in_group = 10\n",
    "gen_train = batch_gen(X_te,Y_te, 50, num_in_group, num_in_group)\n",
    "where_wrong_index = []\n",
    "\n",
    "xx, yy,__ = next(gen_train)\n",
    "num_showed = 0\n",
    "num_showed_max = 10\n",
    "\n",
    "while xx.any() != False:\n",
    "    where_wrong_index = []\n",
    "    for i in range(xx.shape[0]):\n",
    "        Y_true = np.argmax(yy[i])\n",
    "        Y_pred = np.argmax(model.predict(xx[i]).mean(axis=0))\n",
    "        if Y_true != Y_pred:\n",
    "            where_wrong_index.append(i)\n",
    "#         print(\"\\tPreds\", Y_true, Y_pred)\n",
    "    \n",
    "    if num_showed > num_showed_max:\n",
    "        break\n",
    "    print(len(where_wrong_index))\n",
    "    if len(where_wrong_index) == 0:\n",
    "        continue\n",
    "        \n",
    "    num_example = len(where_wrong_index)\n",
    "    num_showed += num_example\n",
    "    empty = np.zeros([16,16,1])\n",
    "    pics = []\n",
    "    for ind in where_wrong_index:\n",
    "        imgs = xx[ind]\n",
    "        pics += list(imgs) + [empty] * (num_in_group - len(imgs)) \n",
    "        \n",
    "    plt.figure(figsize=(8,8))\n",
    "    pic = big_figure(pics, len(where_wrong_index), num_in_group)\n",
    "    plt.imshow(pic, cmap='gray')\n",
    "    plt.show()\n",
    "    \n",
    "    xx, yy,__ = next(gen_train)"
   ]
  },
  {
   "cell_type": "markdown",
   "metadata": {
    "ExecuteTime": {
     "end_time": "2018-04-29T15:20:02.461922Z",
     "start_time": "2018-04-29T15:20:02.458275Z"
    }
   },
   "source": [
    "-------"
   ]
  },
  {
   "cell_type": "code",
   "execution_count": 71,
   "metadata": {
    "ExecuteTime": {
     "end_time": "2018-05-12T20:59:45.986071Z",
     "start_time": "2018-05-12T20:59:45.981235Z"
    },
    "collapsed": true
   },
   "outputs": [],
   "source": [
    "# sore_on_val = []\n",
    "# sore_on_train = []\n",
    "# for ep in range(epochs):\n",
    "#     print('Epoch #', ep)\n",
    "#     gen = batch_gen(dataset_10,target_10, 1, group_size_min, group_size_max)\n",
    "#     for batching in range(0, dataset_10.shape[0]-batch_size, batch_size):\n",
    "#         #print('\\tBatch #', batching/batch_size+1)\n",
    "#         for i in range(batch_size):\n",
    "#             X, Y, origin = next(gen)\n",
    "#             model.train_on_batch(X[0], np.repeat(Y,repeats=X.shape[1], axis=0))\n",
    "#     sore_on_val.append(model.evaluate(X_te[:8000], Y_te[:8000], verbose=0))\n",
    "#     sore_on_train.append(model.evaluate(dataset_10, target_10, verbose=0))\n",
    "#     print('    Train: Loss: {0:1.3f}, acc:{1:1.3f}'.format(sore_on_train[-1][0], sore_on_train[-1][1]))\n",
    "#     print('    Validation: Loss: {0:1.3f}, acc:{1:1.3f}'.format(sore_on_val[-1][0], sore_on_val[-1][1]))\n",
    "\n",
    "# sore_on_train = np.array(sore_on_train)\n",
    "# sore_on_val = np.array(sore_on_val)"
   ]
  },
  {
   "cell_type": "markdown",
   "metadata": {},
   "source": [
    "30 на класс"
   ]
  },
  {
   "cell_type": "code",
   "execution_count": 72,
   "metadata": {
    "ExecuteTime": {
     "end_time": "2018-05-12T20:59:46.024731Z",
     "start_time": "2018-05-12T20:59:45.987810Z"
    },
    "collapsed": true
   },
   "outputs": [],
   "source": [
    "# plt.plot(list(range(epochs)),sore_on_val[:,1])\n",
    "# plt.plot(list(range(epochs)),sore_on_train[:,1])\n",
    "\n",
    "# plt.title('model accuracy')\n",
    "# plt.ylabel('accuracy')\n",
    "# plt.xlabel('epoch')\n",
    "# plt.xticks(list(range(epochs)), list(range(epochs)))\n",
    "# plt.legend(['test','train'], loc='upper left')\n",
    "# print ('Score on test: acc ', model.evaluate(X_te, Y_te, verbose=0)[1])\n",
    "# plt.show()"
   ]
  },
  {
   "cell_type": "markdown",
   "metadata": {},
   "source": [
    "------"
   ]
  },
  {
   "cell_type": "markdown",
   "metadata": {},
   "source": [
    "* Validation\n",
    "* Play with deskriptors ( different number of them )\n",
    "* make something new"
   ]
  }
 ],
 "metadata": {
  "kernelspec": {
   "display_name": "Python (open_cv)",
   "language": "python",
   "name": "open_cv"
  },
  "language_info": {
   "codemirror_mode": {
    "name": "ipython",
    "version": 3
   },
   "file_extension": ".py",
   "mimetype": "text/x-python",
   "name": "python",
   "nbconvert_exporter": "python",
   "pygments_lexer": "ipython3",
   "version": "3.5.4"
  },
  "toc": {
   "nav_menu": {},
   "number_sections": true,
   "sideBar": true,
   "skip_h1_title": false,
   "title_cell": "Table of Contents",
   "title_sidebar": "Contents",
   "toc_cell": false,
   "toc_position": {
    "height": "calc(100% - 180px)",
    "left": "10px",
    "top": "150px",
    "width": "176px"
   },
   "toc_section_display": true,
   "toc_window_display": true
  },
  "varInspector": {
   "cols": {
    "lenName": 16,
    "lenType": 16,
    "lenVar": 40
   },
   "kernels_config": {
    "python": {
     "delete_cmd_postfix": "",
     "delete_cmd_prefix": "del ",
     "library": "var_list.py",
     "varRefreshCmd": "print(var_dic_list())"
    },
    "r": {
     "delete_cmd_postfix": ") ",
     "delete_cmd_prefix": "rm(",
     "library": "var_list.r",
     "varRefreshCmd": "cat(var_dic_list()) "
    }
   },
   "position": {
    "height": "201px",
    "left": "1070px",
    "right": "13px",
    "top": "120px",
    "width": "357px"
   },
   "types_to_exclude": [
    "module",
    "function",
    "builtin_function_or_method",
    "instance",
    "_Feature"
   ],
   "window_display": false
  }
 },
 "nbformat": 4,
 "nbformat_minor": 2
}
