{
 "cells": [
  {
   "cell_type": "code",
   "execution_count": 2,
   "metadata": {},
   "outputs": [
    {
     "name": "stderr",
     "output_type": "stream",
     "text": [
      "Using TensorFlow backend.\n"
     ]
    }
   ],
   "source": [
    "import keras\n",
    "import numpy as np\n",
    "import matplotlib.pyplot as plt\n",
    "from skimage import transform"
   ]
  },
  {
   "cell_type": "markdown",
   "metadata": {},
   "source": [
    "### Данные:\n",
    "Будем работать с датасетом [FashionMNIST](https://github.com/zalandoresearch/fashion-mnist). "
   ]
  },
  {
   "cell_type": "code",
   "execution_count": 3,
   "metadata": {},
   "outputs": [],
   "source": [
    "from keras.datasets import fashion_mnist\n",
    "\n",
    "(X_train, y_train), (X_test, y_test) = fashion_mnist.load_data()"
   ]
  },
  {
   "cell_type": "code",
   "execution_count": 4,
   "metadata": {},
   "outputs": [
    {
     "data": {
      "text/plain": [
       "<matplotlib.image.AxesImage at 0x7fa7615540f0>"
      ]
     },
     "execution_count": 4,
     "metadata": {},
     "output_type": "execute_result"
    },
    {
     "data": {
      "image/png": "[encoded data removed]",
      "text/plain": [
       "<Figure size 432x288 with 1 Axes>"
      ]
     },
     "metadata": {
      "needs_background": "light"
     },
     "output_type": "display_data"
    }
   ],
   "source": [
    "plt.imshow(X_train[3].reshape([28,28]))"
   ]
  },
  {
   "cell_type": "markdown",
   "metadata": {},
   "source": [
    "### Задание:\n",
    "Будем решать задачу классификации на 10 классов. Каждый класс соответствует одному из типов одежды. Исходная размерность признакового пространства: `784`, каждый пиксель является признаком. Будем снижать размерность признакового пространства с помощью метода главных компонент (`PCA`). Ваша задача оценить качество решенения задачи классификации по метрике `accuracy` в зависимости от числа главных компонент. Также оцените дисперсию функции качества в зависимости от числа главных компонент.\n",
    "\n",
    "Нарисуйте график зависимости функции качества и ее дисперсии от числа главных компонент."
   ]
  },
  {
   "cell_type": "code",
   "execution_count": 5,
   "metadata": {},
   "outputs": [],
   "source": [
    "from sklearn.decomposition import PCA\n",
    "from sklearn.linear_model import LogisticRegression\n",
    "from sklearn.metrics import accuracy_score"
   ]
  },
  {
   "cell_type": "code",
   "execution_count": 6,
   "metadata": {},
   "outputs": [
    {
     "data": {
      "text/plain": [
       "0.5803"
      ]
     },
     "execution_count": 6,
     "metadata": {},
     "output_type": "execute_result"
    }
   ],
   "source": [
    "pca = PCA(n_components=3)\n",
    "used_indices = np.random.choice(np.arange(X_train.shape[0]), 10000, replace=False)\n",
    "X_train_lowdim = pca.fit_transform(X_train[used_indices].reshape([-1, 784]))\n",
    "lr = LogisticRegression()\n",
    "lr.fit(X_train_lowdim, y_train[used_indices])\n",
    "accuracy_score(y_test, lr.predict(pca.transform(X_test.reshape([-1, 784]))))"
   ]
  },
  {
   "cell_type": "markdown",
   "metadata": {},
   "source": [
    "Используйте следующую сетку числа главных компонент: `[3, 5, 7, 12, 18, 25, 33, 40, 48, 55]`. Для ускорения сходимости можете семплировать подвыборки из `X_train`. "
   ]
  },
  {
   "cell_type": "code",
   "execution_count": 7,
   "metadata": {},
   "outputs": [],
   "source": [
    "pca = PCA(n_components=3)"
   ]
  },
  {
   "cell_type": "code",
   "execution_count": 8,
   "metadata": {},
   "outputs": [],
   "source": [
    "main_components = [3, 5, 7, 12, 18, 25, 33, 40, 48, 55]"
   ]
  },
  {
   "cell_type": "code",
   "execution_count": 57,
   "metadata": {},
   "outputs": [],
   "source": [
    "def dimension(N):\n",
    "    pca = PCA(n_components=N)\n",
    "    used_indices = np.random.choice(np.arange(X_train.shape[0]), 10000, replace=False)\n",
    "    X_train_lowdim = pca.fit_transform(X_train[used_indices].reshape([-1, 784]))\n",
    "    lr = LogisticRegression()\n",
    "    lr.fit(X_train_lowdim, y_train[used_indices])\n",
    "    return lr.predict(pca.transform(X_test.reshape([-1, 784])))\n",
    "\n",
    "def accuracy(component):\n",
    "    accuracy_list = []\n",
    "    for i in range(10):\n",
    "        accuracy_list.append(accuracy_score(y_test, dimension(component)))\n",
    "        \n",
    "    return np.mean(accuracy_list)\n",
    "\n"
   ]
  },
  {
   "cell_type": "code",
   "execution_count": 58,
   "metadata": {},
   "outputs": [
    {
     "name": "stdout",
     "output_type": "stream",
     "text": [
      "[0.57732, 0.6744299999999999, 0.69299, 0.7449600000000001, 0.77714, 0.79221, 0.79945, 0.80794, 0.8150700000000001, 0.8179399999999999]\n"
     ]
    }
   ],
   "source": [
    "results = []\n",
    "for i in main_components:\n",
    "    results.append(accuracy(i))\n",
    "\n",
    "print(results)"
   ]
  },
  {
   "cell_type": "code",
   "execution_count": 59,
   "metadata": {},
   "outputs": [
    {
     "data": {
      "image/png": "[encoded data removed]",
      "text/plain": [
       "<Figure size 432x288 with 1 Axes>"
      ]
     },
     "metadata": {
      "needs_background": "light"
     },
     "output_type": "display_data"
    }
   ],
   "source": [
    "flg = plt.figure()\n",
    "x = main_components\n",
    "y = results\n",
    "plt.plot(x,y)\n",
    "plt.title(\"Dependence accuracy on components\")\n",
    "plt.xlabel(\"Number of components\")\n",
    "plt.ylabel(\"Accuracy\")\n",
    "plt.grid(True)"
   ]
  },
  {
   "cell_type": "code",
   "execution_count": 60,
   "metadata": {},
   "outputs": [],
   "source": [
    "def dispersion(component):\n",
    "    dispersion_list = []\n",
    "    for i in range(10):\n",
    "        dispersion_list.append(accuracy_score(y_test, dimension(component)))\n",
    "        \n",
    "    return np.var(dispersion_list)"
   ]
  },
  {
   "cell_type": "code",
   "execution_count": 61,
   "metadata": {},
   "outputs": [
    {
     "name": "stdout",
     "output_type": "stream",
     "text": [
      "[0.5773699999999999, 0.67549, 0.6918, 0.74505, 0.7770300000000001, 0.7926, 0.7995399999999999, 0.80756, 0.8155699999999999, 0.8161400000000001]\n"
     ]
    }
   ],
   "source": [
    "variancy = []\n",
    "for i in main_components:\n",
    "    variancy.append(accuracy(i))\n",
    "\n",
    "print(variancy)"
   ]
  },
  {
   "cell_type": "code",
   "execution_count": null,
   "metadata": {},
   "outputs": [],
   "source": [
    "flg = plt.figure()\n",
    "x = main_components\n",
    "y = variancy\n",
    "plt.plot(x,y)\n",
    "plt.title(\"Dependence dispersion on components\")\n",
    "plt.xlabel(\"Number of components\")\n",
    "plt.ylabel(\"Dispersion\")\n",
    "plt.grid(True)"
   ]
  },
  {
   "cell_type": "code",
   "execution_count": 10,
   "metadata": {},
   "outputs": [],
   "source": [
    "number_of_components = 40\n",
    "sets = np.arange(1000, 10500, 500)"
   ]
  },
  {
   "cell_type": "code",
   "execution_count": 12,
   "metadata": {},
   "outputs": [],
   "source": [
    "acc = []\n",
    "var = []\n",
    "for set_size in sets:\n",
    "    arr_var = []\n",
    "    for _ in range(4):\n",
    "        pca = PCA(n_components=number_of_components)\n",
    "        used_indices = np.random.choice(np.arange(X_train.shape[0]), set_size, replace=False)\n",
    "        X_train_lowdim = pca.fit_transform(X_train[used_indices].reshape([-1, 784]))\n",
    "        lr = LogisticRegression()\n",
    "        lr.fit(X_train_lowdim, y_train[used_indices])\n",
    "        y_pred = lr.predict(pca.transform(X_test.reshape([-1, 784])))\n",
    "        arr_var.append(accuracy_score(y_test, y_pred))\n",
    "    \n",
    "    acc.append(np.mean(arr_var))\n",
    "    var.append(np.var(arr_var))"
   ]
  },
  {
   "cell_type": "code",
   "execution_count": 13,
   "metadata": {},
   "outputs": [
    {
     "name": "stdout",
     "output_type": "stream",
     "text": [
      "[0.7825, 0.789825, 0.7923, 0.7948000000000001, 0.79835, 0.8039499999999999, 0.8026249999999999, 0.8019, 0.8047, 0.80505, 0.8062250000000001, 0.8061750000000001, 0.806025, 0.80635, 0.807075, 0.8078000000000001, 0.808, 0.807775, 0.8074749999999999]\n"
     ]
    }
   ],
   "source": [
    "print(acc)"
   ]
  },
  {
   "cell_type": "code",
   "execution_count": 14,
   "metadata": {},
   "outputs": [
    {
     "data": {
      "image/png": "[encoded data removed]",
      "text/plain": [
       "<Figure size 432x288 with 1 Axes>"
      ]
     },
     "metadata": {
      "needs_background": "light"
     },
     "output_type": "display_data"
    }
   ],
   "source": [
    "flg = plt.figure()\n",
    "x = sets\n",
    "y = acc\n",
    "plt.plot(x,y)\n",
    "plt.title(\"Dependence accuracy on number of sets\")\n",
    "plt.xlabel(\"Number of sets\")\n",
    "plt.ylabel(\"Accuracy\")\n",
    "plt.grid(True)"
   ]
  }
 ],
 "metadata": {
  "kernelspec": {
   "display_name": "Python 3",
   "language": "python",
   "name": "python3"
  },
  "language_info": {
   "codemirror_mode": {
    "name": "ipython",
    "version": 3
   },
   "file_extension": ".py",
   "mimetype": "text/x-python",
   "name": "python",
   "nbconvert_exporter": "python",
   "pygments_lexer": "ipython3",
   "version": "3.6.5"
  }
 },
 "nbformat": 4,
 "nbformat_minor": 2
}
