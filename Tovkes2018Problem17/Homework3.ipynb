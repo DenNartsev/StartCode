{
 "cells": [
  {
   "cell_type": "code",
   "execution_count": 39,
   "metadata": {},
   "outputs": [],
   "source": [
    "#необходимые модули\n",
    "import pandas as pd\n",
    "import numpy as np\n",
    "from sklearn.neighbors import KNeighborsClassifier\n",
    "from sklearn.tree import DecisionTreeClassifier\n",
    "from sklearn.model_selection import train_test_split\n",
    "from sklearn.metrics import accuracy_score\n",
    "from sklearn.preprocessing import StandardScaler, Normalizer\n",
    "import matplotlib.pyplot as plt"
   ]
  },
  {
   "cell_type": "code",
   "execution_count": 2,
   "metadata": {},
   "outputs": [
    {
     "data": {
      "text/html": [
       "<div>\n",
       "<style scoped>\n",
       "    .dataframe tbody tr th:only-of-type {\n",
       "        vertical-align: middle;\n",
       "    }\n",
       "\n",
       "    .dataframe tbody tr th {\n",
       "        vertical-align: top;\n",
       "    }\n",
       "\n",
       "    .dataframe thead th {\n",
       "        text-align: right;\n",
       "    }\n",
       "</style>\n",
       "<table border=\"1\" class=\"dataframe\">\n",
       "  <thead>\n",
       "    <tr style=\"text-align: right;\">\n",
       "      <th></th>\n",
       "      <th>1</th>\n",
       "      <th>2</th>\n",
       "      <th>3</th>\n",
       "      <th>4</th>\n",
       "      <th>5</th>\n",
       "      <th>6</th>\n",
       "      <th>7</th>\n",
       "      <th>8</th>\n",
       "      <th>9</th>\n",
       "      <th>10</th>\n",
       "    </tr>\n",
       "    <tr>\n",
       "      <th>0</th>\n",
       "      <th></th>\n",
       "      <th></th>\n",
       "      <th></th>\n",
       "      <th></th>\n",
       "      <th></th>\n",
       "      <th></th>\n",
       "      <th></th>\n",
       "      <th></th>\n",
       "      <th></th>\n",
       "      <th></th>\n",
       "    </tr>\n",
       "  </thead>\n",
       "  <tbody>\n",
       "    <tr>\n",
       "      <th>1</th>\n",
       "      <td>1.52101</td>\n",
       "      <td>13.64</td>\n",
       "      <td>4.49</td>\n",
       "      <td>1.10</td>\n",
       "      <td>71.78</td>\n",
       "      <td>0.06</td>\n",
       "      <td>8.75</td>\n",
       "      <td>0.0</td>\n",
       "      <td>0.0</td>\n",
       "      <td>1</td>\n",
       "    </tr>\n",
       "    <tr>\n",
       "      <th>2</th>\n",
       "      <td>1.51761</td>\n",
       "      <td>13.89</td>\n",
       "      <td>3.60</td>\n",
       "      <td>1.36</td>\n",
       "      <td>72.73</td>\n",
       "      <td>0.48</td>\n",
       "      <td>7.83</td>\n",
       "      <td>0.0</td>\n",
       "      <td>0.0</td>\n",
       "      <td>1</td>\n",
       "    </tr>\n",
       "    <tr>\n",
       "      <th>3</th>\n",
       "      <td>1.51618</td>\n",
       "      <td>13.53</td>\n",
       "      <td>3.55</td>\n",
       "      <td>1.54</td>\n",
       "      <td>72.99</td>\n",
       "      <td>0.39</td>\n",
       "      <td>7.78</td>\n",
       "      <td>0.0</td>\n",
       "      <td>0.0</td>\n",
       "      <td>1</td>\n",
       "    </tr>\n",
       "    <tr>\n",
       "      <th>4</th>\n",
       "      <td>1.51766</td>\n",
       "      <td>13.21</td>\n",
       "      <td>3.69</td>\n",
       "      <td>1.29</td>\n",
       "      <td>72.61</td>\n",
       "      <td>0.57</td>\n",
       "      <td>8.22</td>\n",
       "      <td>0.0</td>\n",
       "      <td>0.0</td>\n",
       "      <td>1</td>\n",
       "    </tr>\n",
       "    <tr>\n",
       "      <th>5</th>\n",
       "      <td>1.51742</td>\n",
       "      <td>13.27</td>\n",
       "      <td>3.62</td>\n",
       "      <td>1.24</td>\n",
       "      <td>73.08</td>\n",
       "      <td>0.55</td>\n",
       "      <td>8.07</td>\n",
       "      <td>0.0</td>\n",
       "      <td>0.0</td>\n",
       "      <td>1</td>\n",
       "    </tr>\n",
       "  </tbody>\n",
       "</table>\n",
       "</div>"
      ],
      "text/plain": [
       "        1      2     3     4      5     6     7    8    9   10\n",
       "0                                                             \n",
       "1  1.52101  13.64  4.49  1.10  71.78  0.06  8.75  0.0  0.0   1\n",
       "2  1.51761  13.89  3.60  1.36  72.73  0.48  7.83  0.0  0.0   1\n",
       "3  1.51618  13.53  3.55  1.54  72.99  0.39  7.78  0.0  0.0   1\n",
       "4  1.51766  13.21  3.69  1.29  72.61  0.57  8.22  0.0  0.0   1\n",
       "5  1.51742  13.27  3.62  1.24  73.08  0.55  8.07  0.0  0.0   1"
      ]
     },
     "execution_count": 2,
     "metadata": {},
     "output_type": "execute_result"
    }
   ],
   "source": [
    "#читаю данные\n",
    "data = pd.read_csv(\"glass.data\", header=None, index_col=0)\n",
    "data.head()"
   ]
  },
  {
   "cell_type": "code",
   "execution_count": 3,
   "metadata": {
    "code_folding": []
   },
   "outputs": [],
   "source": [
    "#разбиваю на тест и трайн\n",
    "X, y = data.values[:, :-1], data.values[:, -1]\n",
    "X_train, X_test, y_train, y_test = train_test_split(X, y, test_size=0.2, random_state=17)"
   ]
  },
  {
   "cell_type": "code",
   "execution_count": 4,
   "metadata": {},
   "outputs": [
    {
     "data": {
      "text/plain": [
       "KNeighborsClassifier(algorithm='auto', leaf_size=30, metric='minkowski',\n",
       "           metric_params=None, n_jobs=1, n_neighbors=3, p=2,\n",
       "           weights='uniform')"
      ]
     },
     "execution_count": 4,
     "metadata": {},
     "output_type": "execute_result"
    }
   ],
   "source": [
    "# обучение модели k ближайших соседей\n",
    "model_nbrs = KNeighborsClassifier(n_neighbors=3)\n",
    "model_nbrs.fit(X_train, y_train)"
   ]
  },
  {
   "cell_type": "code",
   "execution_count": 5,
   "metadata": {},
   "outputs": [
    {
     "name": "stdout",
     "output_type": "stream",
     "text": [
      "accuracy: 0.6744186046511628\n"
     ]
    }
   ],
   "source": [
    "# оценка качества модели: accuracy - доля правильных ответов\n",
    "y_pred = model_nbrs.predict(X_test)\n",
    "\n",
    "print (\"accuracy:\", accuracy_score(y_test, y_pred))"
   ]
  },
  {
   "cell_type": "code",
   "execution_count": 6,
   "metadata": {},
   "outputs": [
    {
     "data": {
      "text/plain": [
       "DecisionTreeClassifier(class_weight=None, criterion='gini', max_depth=7,\n",
       "            max_features=None, max_leaf_nodes=None,\n",
       "            min_impurity_decrease=0.0, min_impurity_split=None,\n",
       "            min_samples_leaf=1, min_samples_split=2,\n",
       "            min_weight_fraction_leaf=0.0, presort=False, random_state=17,\n",
       "            splitter='best')"
      ]
     },
     "execution_count": 6,
     "metadata": {},
     "output_type": "execute_result"
    }
   ],
   "source": [
    "# обучение модели решающего дерева\n",
    "model_tree = DecisionTreeClassifier(max_depth=7, random_state=17)\n",
    "model_tree.fit(X_train, y_train)"
   ]
  },
  {
   "cell_type": "code",
   "execution_count": 7,
   "metadata": {},
   "outputs": [
    {
     "name": "stdout",
     "output_type": "stream",
     "text": [
      "accuracy: 0.7209302325581395\n"
     ]
    }
   ],
   "source": [
    "# оценка качества\n",
    "y_pred = model_tree.predict(X_test)\n",
    "\n",
    "print (\"accuracy:\", accuracy_score(y_test, y_pred))"
   ]
  },
  {
   "cell_type": "code",
   "execution_count": 8,
   "metadata": {},
   "outputs": [],
   "source": [
    "# нормализация данных\n",
    "scaler = StandardScaler()\n",
    "X_train_scaled = scaler.fit_transform(X_train)\n",
    "X_test_scaled = scaler.transform(X_test)"
   ]
  },
  {
   "cell_type": "code",
   "execution_count": 9,
   "metadata": {},
   "outputs": [
    {
     "name": "stdout",
     "output_type": "stream",
     "text": [
      "accuracy: 0.813953488372093\n"
     ]
    }
   ],
   "source": [
    "model_nbrs = KNeighborsClassifier(n_neighbors=3)\n",
    "model_nbrs.fit(X_train_scaled, y_train)\n",
    "\n",
    "y_pred = model_nbrs.predict(X_test_scaled)\n",
    "\n",
    "print (\"accuracy:\", accuracy_score(y_test, y_pred))"
   ]
  },
  {
   "cell_type": "code",
   "execution_count": 10,
   "metadata": {},
   "outputs": [
    {
     "name": "stdout",
     "output_type": "stream",
     "text": [
      "accuracy: 0.7209302325581395\n"
     ]
    }
   ],
   "source": [
    "model_tree = DecisionTreeClassifier(max_depth=7, random_state=17)\n",
    "model_tree.fit(X_train_scaled, y_train)\n",
    "\n",
    "y_pred = model_tree.predict(X_test_scaled)\n",
    "print (\"accuracy:\", accuracy_score(y_test, y_pred))"
   ]
  },
  {
   "cell_type": "code",
   "execution_count": 54,
   "metadata": {},
   "outputs": [],
   "source": [
    "def evaluate (X_train, y_train, X_test, y_test, N, model, scaler):\n",
    "    train_acc = []\n",
    "    test_acc = []\n",
    "    for i in range(10):\n",
    "        ids = np.random.choice(range(0, 9), N, replace=False)\n",
    "        X_train_scaled = scaler.fit_transform(X_train[:, ids])\n",
    "        X_test_scaled = scaler.transform(X_test[:, ids])\n",
    "        model_nbrs = KNeighborsClassifier(n_neighbors=3)\n",
    "        model_nbrs.fit(X_train_scaled, y_train)\n",
    "        y_pred_train = model_nbrs.predict(X_train_scaled)\n",
    "        y_pred = model_nbrs.predict(X_test_scaled)\n",
    "        train_acc.append(accuracy_score(y_train, y_pred_train))\n",
    "        test_acc.append(accuracy_score(y_test, y_pred))\n",
    "    \n",
    "    print (\"train accuracy:\", np.mean(train_acc))\n",
    "    print (\"test accuracy:\", np.mean(test_acc))  \n",
    "    return np.mean(train_acc), np.mean(test_acc), np.std(train_acc), np.std(test_acc)"
   ]
  },
  {
   "cell_type": "code",
   "execution_count": 57,
   "metadata": {},
   "outputs": [
    {
     "name": "stdout",
     "output_type": "stream",
     "text": [
      "train accuracy: 0.5730994152046784\n",
      "test accuracy: 0.4046511627906977\n",
      "train accuracy: 0.6736842105263158\n",
      "test accuracy: 0.48604651162790696\n",
      "train accuracy: 0.764327485380117\n",
      "test accuracy: 0.6465116279069768\n",
      "train accuracy: 0.8011695906432749\n",
      "test accuracy: 0.7209302325581396\n",
      "train accuracy: 0.7842105263157895\n",
      "test accuracy: 0.7023255813953488\n",
      "train accuracy: 0.8005847953216374\n",
      "test accuracy: 0.7511627906976743\n",
      "train accuracy: 0.8175438596491228\n",
      "test accuracy: 0.7511627906976743\n",
      "train accuracy: 0.8035087719298245\n",
      "test accuracy: 0.7883720930232558\n",
      "train accuracy: 0.8245614035087719\n",
      "test accuracy: 0.813953488372093\n"
     ]
    }
   ],
   "source": [
    "scaler = StandardScaler()\n",
    "model_nbrs = KNeighborsClassifier(n_neighbors=3)\n",
    "train_scores=[]\n",
    "test_scores=[]\n",
    "train_stds=[]\n",
    "test_stds=[]\n",
    "for i in range(1, 10):\n",
    "    train_acc,test_acc, train_std, test_std = evaluate(X_train, y_train, X_test, y_test, i,model_nbrs, scaler)\n",
    "    train_scores.append(train_acc)\n",
    "    test_scores.append(test_acc)\n",
    "    train_stds.append(train_std)\n",
    "    test_stds.append(test_std)"
   ]
  },
  {
   "cell_type": "code",
   "execution_count": 61,
   "metadata": {},
   "outputs": [
    {
     "data": {
      "image/png": "[encoded data removed]",
      "text/plain": [
       "<Figure size 720x576 with 1 Axes>"
      ]
     },
     "metadata": {},
     "output_type": "display_data"
    }
   ],
   "source": [
    "plt.figure(figsize=(10,8))\n",
    "plt.errorbar(range(1, 10), np.array(train_scores), yerr=np.array(train_stds), label='train')\n",
    "plt.fill_between(range(1, 10),\n",
    "                 np.array(train_scores) + np.array(train_stds), \n",
    "                 np.array(train_scores) - np.array(train_stds),\n",
    "                 alpha=0.1)\n",
    "plt.errorbar(range(1, 10), np.array(test_scores), yerr=np.array(test_stds), label='train')\n",
    "plt.fill_between(range(1, 10),\n",
    "                 np.array(test_scores) + np.array(test_stds), \n",
    "                 np.array(test_scores) - np.array(test_stds),\n",
    "                 alpha=0.1)\n",
    "plt.xlabel('num features')\n",
    "plt.ylabel('accuracy')\n",
    "plt.legend()\n",
    "plt.show()"
   ]
  },
  {
   "cell_type": "code",
   "execution_count": null,
   "metadata": {},
   "outputs": [],
   "source": []
  }
 ],
 "metadata": {
  "kernelspec": {
   "display_name": "Python 3",
   "language": "python",
   "name": "python3"
  },
  "language_info": {
   "codemirror_mode": {
    "name": "ipython",
    "version": 3
   },
   "file_extension": ".py",
   "mimetype": "text/x-python",
   "name": "python",
   "nbconvert_exporter": "python",
   "pygments_lexer": "ipython3",
   "version": "3.5.2"
  },
  "toc": {
   "base_numbering": 1,
   "nav_menu": {},
   "number_sections": true,
   "sideBar": true,
   "skip_h1_title": false,
   "title_cell": "Table of Contents",
   "title_sidebar": "Contents",
   "toc_cell": false,
   "toc_position": {},
   "toc_section_display": true,
   "toc_window_display": false
  }
 },
 "nbformat": 4,
 "nbformat_minor": 2
}
