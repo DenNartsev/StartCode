{
 "cells": [
  {
   "cell_type": "markdown",
   "metadata": {},
   "source": [
    "# Homework #1"
   ]
  },
  {
   "cell_type": "markdown",
   "metadata": {},
   "source": [
    "Задача:\n",
    "- Реализовать слои Sigmoid, Dense, Softmax, LogLoss с использование тензоров pytorch\n",
    "- Реализовать двухслойную нейронную сеть для распознования цифр MNIST\n",
    "- Обучить сеть. Обученная модель должна побить baseline на kaggle.\n",
    "- Слои и сеть должна иметь возможность работать на GPU и CPU\n",
    "- Сравнить скорости обучения. \n",
    "\n",
    "Отчет в этом ноутбуке должен содержать весь необходимый код воспроизведения полученных результатов."
   ]
  },
  {
   "cell_type": "code",
   "execution_count": 55,
   "metadata": {},
   "outputs": [],
   "source": [
    "import torch\n",
    "import numpy as np\n",
    "from sklearn.model_selection import train_test_split\n",
    "from torch import FloatTensor\n",
    "from torch import cuda\n",
    "import matplotlib.pylab as plt\n",
    "import time\n",
    "import math\n",
    "import random\n",
    "import pickle\n",
    "from tqdm import *\n",
    "random.seed(100)"
   ]
  },
  {
   "cell_type": "code",
   "execution_count": 2,
   "metadata": {},
   "outputs": [],
   "source": [
    "class Sigmoid:\n",
    "    def forward(self, x):\n",
    "        self.sigm = torch.sigmoid(x)\n",
    "        return self.sigm\n",
    "        \n",
    "    def backward(self, dz, lr = 0.001):\n",
    "        return dz * torch.mul((1 - self.sigm),self.sigm)"
   ]
  },
  {
   "cell_type": "code",
   "execution_count": 3,
   "metadata": {},
   "outputs": [],
   "source": [
    "class Dense:\n",
    "    def __init__(self, in_size, out_size):\n",
    "        self.W = torch.randn(out_size, in_size)\n",
    "        self.b = torch.randn(out_size)\n",
    "    \n",
    "    def forward(self, x):\n",
    "        self.x = x\n",
    "        return torch.mv(self.W, x) + self.b\n",
    "    \n",
    "    def backward(self, dz, lr = 0.001):\n",
    "        local_derivative = self.W\n",
    "        \n",
    "        db = dz * lr\n",
    "        self.b = self.b - db\n",
    "        \n",
    "        dW = torch.ger(dz, self.x) * lr\n",
    "        self.W = self.W - dW\n",
    "        return torch.mv(local_derivative.t(), dz)\n",
    "    \n",
    "    def cuda(self):\n",
    "        self.W.cuda()\n",
    "        self.b.cuda()\n",
    "        "
   ]
  },
  {
   "cell_type": "code",
   "execution_count": 4,
   "metadata": {},
   "outputs": [],
   "source": [
    "class Softmax:\n",
    "    def forward(self, x):\n",
    "        exps = torch.exp(x)\n",
    "        self.softmax = exps / torch.sum(exps) \n",
    "        return self.softmax\n",
    "    \n",
    "    def backward(self, dz, lr = 0.001):\n",
    "        local_derivative = torch.diag(self.softmax) - torch.ger(self.softmax, self.softmax)\n",
    "        return torch.mv(local_derivative, dz)\n"
   ]
  },
  {
   "cell_type": "code",
   "execution_count": 5,
   "metadata": {},
   "outputs": [],
   "source": [
    "class ReLu:\n",
    "    \n",
    "    def forward(self, x):\n",
    "        self.x = x\n",
    "        return torch.max(torch.zeros(x.size()[0]), x)\n",
    "    \n",
    "    def backward(self, dz, lr=0.1):\n",
    "        dz[self.x < 0] = 0\n",
    "        return dz"
   ]
  },
  {
   "cell_type": "code",
   "execution_count": 6,
   "metadata": {},
   "outputs": [],
   "source": [
    "class CrossEntropy:\n",
    "    \n",
    "    def forward(self, y_true, y_hat):\n",
    "        self.y_true = y_true\n",
    "        self.y_hat = y_hat\n",
    "        return -torch.sum(y_true * np.log(y_hat))\n",
    "    \n",
    "    def backward(self, dz, lr=0.001):\n",
    "        return dz * -1. * self.y_true / self.y_hat"
   ]
  },
  {
   "cell_type": "code",
   "execution_count": 7,
   "metadata": {},
   "outputs": [],
   "source": [
    "class MSQE:\n",
    "    \n",
    "    def forward(self, y_true, y_hat):\n",
    "        self.y_true = y_true\n",
    "        self.y_hat = y_hat\n",
    "        return torch.sum(torch.pow(y_true - y_hat, 2))\n",
    "    \n",
    "    def backward(self, dz, lr=0.001):\n",
    "        return - 2 * (self.y_true - self.y_hat)"
   ]
  },
  {
   "cell_type": "code",
   "execution_count": 8,
   "metadata": {},
   "outputs": [],
   "source": [
    "class Net:\n",
    "    \n",
    "    def __init__(self):\n",
    "        self.layers = []\n",
    "        self.layers.append(Dense(784, 100))\n",
    "        self.layers.append(Sigmoid())\n",
    "        self.layers.append(Dense(100, 10))\n",
    "        self.layers.append(Softmax())\n",
    "        \n",
    "    def forward(self, x):\n",
    "        net = x\n",
    "        for i in range(len(self.layers)):\n",
    "            net = self.layers[i].forward(net)\n",
    "        return net\n",
    "    \n",
    "    def backward(self, dz, lr):\n",
    "        \n",
    "        for i in range(len(self.layers)):\n",
    "            dz = self.layers[-(i + 1)].backward(dz, lr)\n",
    "        return dz\n",
    "    \n",
    "    def cuda(self):\n",
    "        for layer in self.layers:\n",
    "            if type(layer) == Dense:\n",
    "                layer.cuda()"
   ]
  },
  {
   "cell_type": "markdown",
   "metadata": {},
   "source": [
    "# Загружаем датасет и приводим его в удобный вид"
   ]
  },
  {
   "cell_type": "code",
   "execution_count": 9,
   "metadata": {},
   "outputs": [
    {
     "name": "stdout",
     "output_type": "stream",
     "text": [
      "70000\n"
     ]
    }
   ],
   "source": [
    "from sklearn.datasets import fetch_mldata\n",
    "mnist = fetch_mldata('MNIST original', data_home='./')\n",
    "data = mnist['data']\n",
    "target = mnist['target']\n",
    "print(data.shape[0])"
   ]
  },
  {
   "cell_type": "code",
   "execution_count": 44,
   "metadata": {},
   "outputs": [],
   "source": [
    "X = []\n",
    "for i in range(data.shape[0]):\n",
    "    X.append(torch.FloatTensor(data[i]) / 255)\n",
    "\n",
    "Y = []\n",
    "eye = torch.eye(10)\n",
    "for i in range(data.shape[0]):\n",
    "    Y.append(eye[int(target[i])])\n",
    "    \n",
    "X_train, X_test, Y_train, Y_test = train_test_split(X, Y, test_size=0.1, stratify=target, shuffle=True)"
   ]
  },
  {
   "cell_type": "markdown",
   "metadata": {},
   "source": [
    "# Немного функций для дебага"
   ]
  },
  {
   "cell_type": "code",
   "execution_count": 45,
   "metadata": {},
   "outputs": [],
   "source": [
    "def max_index(vec):\n",
    "    size = len(vec)\n",
    "\n",
    "    max_value = -1\n",
    "    max_index = -1\n",
    "    for i in range(size):\n",
    "        if list(vec)[i] > max_value:\n",
    "            max_value = vec[i]\n",
    "            max_index = i\n",
    "\n",
    "    return max_index\n",
    "\n",
    "def prediction_accuracy(net, test_data=X_test, test_target=Y_test, count = -1):\n",
    "    if count < 0:\n",
    "        count = len(test_data)\n",
    "        \n",
    "    acc = 0\n",
    "    for i in range(count):\n",
    "        if max_index(net.forward(test_data[i])) == max_index(test_target[i]):\n",
    "            acc+=1\n",
    "        \n",
    "    return acc / count\n",
    "    "
   ]
  },
  {
   "cell_type": "markdown",
   "metadata": {},
   "source": [
    "# Обучаем сеть на CPU"
   ]
  },
  {
   "cell_type": "code",
   "execution_count": 58,
   "metadata": {},
   "outputs": [
    {
     "name": "stderr",
     "output_type": "stream",
     "text": [
      "  1%|          | 688/63000 [00:00<00:18, 3431.73it/s]"
     ]
    },
    {
     "name": "stdout",
     "output_type": "stream",
     "text": [
      "точность до обучения 0.10142857142857142\n"
     ]
    },
    {
     "name": "stderr",
     "output_type": "stream",
     "text": [
      "100%|██████████| 63000/63000 [00:19<00:00, 3299.29it/s]\n"
     ]
    },
    {
     "name": "stdout",
     "output_type": "stream",
     "text": [
      "точность после обучения 0.934\n"
     ]
    },
    {
     "data": {
      "image/png": "[encoded data removed]",
      "text/plain": [
       "<Figure size 432x288 with 1 Axes>"
      ]
     },
     "metadata": {},
     "output_type": "display_data"
    }
   ],
   "source": [
    "def train(net, loss, lr, epoch_size, noise_scale=0.1):\n",
    "    L_iter = []\n",
    "        \n",
    "    L_acc = 0\n",
    "    iter_in_epoch = 0\n",
    "    lr_dec = 0.095 * epoch_size / len(X_train)\n",
    "    for i in tqdm(range(len(X_train))):\n",
    "        y_h = net.forward(X_train[i]  + (torch.FloatTensor(784).random_(0,100)*0.01 * noise_scale))\n",
    "        L_acc += loss.forward(Y_train[i], y_h)\n",
    "        dz = loss.backward(1, lr)\n",
    "        net.backward(dz, lr)\n",
    "        iter_in_epoch += 1\n",
    "        if iter_in_epoch == epoch_size:\n",
    "            lr -= lr_dec\n",
    "            L_iter.append(L_acc)\n",
    "            iter_in_epoch = 0\n",
    "            L_acc = 0\n",
    "        \n",
    "    return(L_iter)\n",
    "    \n",
    "net = Net()\n",
    "\n",
    "print('точность до обучения', prediction_accuracy(net))\n",
    "\n",
    "loss = CrossEntropy()\n",
    "L_iter = train(net, loss, 0.1, 100, 0)\n",
    "plt.plot(L_iter)\n",
    "\n",
    "print('точность после обучения', prediction_accuracy(net))"
   ]
  },
  {
   "cell_type": "markdown",
   "metadata": {},
   "source": [
    "# Наблюдаем результат работы"
   ]
  },
  {
   "cell_type": "code",
   "execution_count": 78,
   "metadata": {},
   "outputs": [
    {
     "name": "stdout",
     "output_type": "stream",
     "text": [
      "предсказание 1\n",
      "вероятность предсказания 0.9955238699913025\n",
      "на самом деле 1\n"
     ]
    },
    {
     "data": {
      "image/png": "[encoded data removed]",
      "text/plain": [
       "<Figure size 432x288 with 1 Axes>"
      ]
     },
     "metadata": {},
     "output_type": "display_data"
    }
   ],
   "source": [
    "r = random.randint(0, len(X_test))\n",
    "\n",
    "print('предсказание',max_index(net.forward(X_test[r])))\n",
    "print('вероятность предсказания', torch.sum(net.forward(X_test[r]) * Y_test[r]))\n",
    "print('на самом деле', max_index(Y_test[r]))\n",
    "I = X_test[r].numpy()\n",
    "I = I.reshape((28, 28))\n",
    "plt.imshow(I, cmap='gray');"
   ]
  },
  {
   "cell_type": "code",
   "execution_count": 24,
   "metadata": {},
   "outputs": [],
   "source": [
    "with open('./mnist_test.pkl', 'rb') as f:\n",
    "    mnist_sub = pickle.load(f)\n",
    "    \n",
    "data_sub = mnist_sub['data']\n",
    "\n",
    "X_sub = []\n",
    "for i in range(data_sub.shape[0]):\n",
    "    X_sub.append(torch.FloatTensor(data_sub[i])/ 255)\n",
    "    \n",
    "submition = []\n",
    "for i in range(len(X_sub)):\n",
    "    submition.append(list(net.forward(X_sub[i])))\n",
    "    \n",
    "with open('./submision.csv', 'wt') as f:\n",
    "    f.write('id,p0,p1,p2,p3,p4,p5,p6,p7,p8,p9\\n')\n",
    "    for i in range(len(submition)):\n",
    "        f.write(','.join([str(i)] + list(map(str, submition[i]))) + '\\n')"
   ]
  },
  {
   "cell_type": "code",
   "execution_count": 248,
   "metadata": {},
   "outputs": [
    {
     "name": "stdout",
     "output_type": "stream",
     "text": [
      "10500\n"
     ]
    }
   ],
   "source": []
  },
  {
   "cell_type": "code",
   "execution_count": null,
   "metadata": {},
   "outputs": [],
   "source": []
  },
  {
   "cell_type": "code",
   "execution_count": null,
   "metadata": {},
   "outputs": [],
   "source": []
  }
 ],
 "metadata": {
  "kernelspec": {
   "display_name": "Python 3",
   "language": "python",
   "name": "python3"
  },
  "language_info": {
   "codemirror_mode": {
    "name": "ipython",
    "version": 3
   },
   "file_extension": ".py",
   "mimetype": "text/x-python",
   "name": "python",
   "nbconvert_exporter": "python",
   "pygments_lexer": "ipython3",
   "version": "3.6.4"
  }
 },
 "nbformat": 4,
 "nbformat_minor": 2
}
