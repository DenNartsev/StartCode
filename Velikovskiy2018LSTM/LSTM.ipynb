{
 "cells": [
  {
   "cell_type": "code",
   "execution_count": 1,
   "metadata": {},
   "outputs": [],
   "source": [
    "import torch\n",
    "import torch.nn as nn\n",
    "from torch.autograd import Variable\n",
    "from torch.optim import SGD \n",
    "import numpy as np\n",
    "import matplotlib.pylab as plt\n",
    "\n",
    "%matplotlib inline\n"
   ]
  },
  {
   "cell_type": "code",
   "execution_count": 2,
   "metadata": {},
   "outputs": [],
   "source": [
    "sentence = 'Lorem ipsum dolor sit amet, consectetur adipiscing elit, sed do eiusmod tempor incididunt ut labore et dolore magna aliqua. Ut enim ad minim veniam, quis nostrud exercitation ullamco laboris nisi ut aliquip ex ea commodo consequat. Duis aute irure dolor in reprehenderit in voluptate velit esse cillum dolore eu fugiat nulla pariatur. Excepteur sint occaecat cupidatat non proident, sunt in culpa qui officia deserunt mollit anim id est laborum.'"
   ]
  },
  {
   "cell_type": "code",
   "execution_count": 3,
   "metadata": {},
   "outputs": [],
   "source": [
    "class WordDataSet:\n",
    "    \n",
    "    def __init__(self, sentence):\n",
    "        self.words2idx = {}\n",
    "        self.indexs  = []\n",
    "        for word in sentence.split(' '): \n",
    "            if word not in self.words2idx:\n",
    "                self.words2idx[word] = len(self.words2idx)\n",
    "                \n",
    "            self.indexs.append(self.words2idx[word])\n",
    "            \n",
    "        self.vec_size = len(self.words2idx)\n",
    "        self.seq_len  = len(sentence.split(' '))\n",
    "        \n",
    "    def get_one_hot(self, idx):\n",
    "        x = torch.zeros(self.vec_size)\n",
    "        x[idx] = 1\n",
    "        return x\n",
    "    \n",
    "    def __iter__(self):\n",
    "        return zip(self.indexs[:-1], self.indexs[1:])\n",
    "    \n",
    "    def __len__(self):\n",
    "        return self.seq_len\n",
    "    \n",
    "    def size(self):\n",
    "        return len(self.words2idx)\n",
    "    \n",
    "    def get_char_by_id(self, id):\n",
    "        for word, i in self.words2idx.items():\n",
    "            if id == i: return word\n",
    "        return None"
   ]
  },
  {
   "cell_type": "code",
   "execution_count": 4,
   "metadata": {},
   "outputs": [],
   "source": [
    "class VanillaRNN(nn.Module):\n",
    "    \n",
    "    def __init__(self, in_size=5, h_size=2, c_size=2, out_size=5):\n",
    "        super(VanillaRNN, self).__init__()\n",
    "        self.x2hidden    = nn.Linear(in_features=in_size, out_features=hidden_size)\n",
    "        self.hidden      = nn.Linear(in_features=hidden_size, out_features=hidden_size)\n",
    "        self.activation  = nn.Tanh()\n",
    "        self.outweight   = nn.Linear(in_features=hidden_size, out_features=out_size)\n",
    "    \n",
    "    def forward(self, x, prev_hidden):\n",
    "        hidden = self.x2hidden(x) + self.hidden(prev_hidden)\n",
    "        output = self.outweight(hidden)\n",
    "        return output, hidden"
   ]
  },
  {
   "cell_type": "code",
   "execution_count": 5,
   "metadata": {},
   "outputs": [],
   "source": [
    "class LSTM(nn.Module):\n",
    "    \n",
    "    def __init__(self, size=5, h_size=5):\n",
    "        super(LSTM, self).__init__()\n",
    "        self.W_f = nn.Linear(in_features = size+h_size, out_features = h_size)\n",
    "        self.W_i = nn.Linear(in_features = size+h_size, out_features = h_size)\n",
    "        self.W_g = nn.Linear(in_features = size+h_size, out_features = h_size)\n",
    "        self.W_o = nn.Linear(in_features = size+h_size, out_features = h_size)\n",
    "        \n",
    "        self.S_f = nn.Sigmoid()\n",
    "        self.S_i = nn.Tanh()\n",
    "        self.T_g = nn.Sigmoid()\n",
    "        self.S_o = nn.Sigmoid()\n",
    "        \n",
    "        self.T_c = nn.Tanh()\n",
    "        \n",
    "        self.output = nn.Linear(in_features = h_size, out_features = size)\n",
    "        \n",
    "    def forward(self, x, prev_h, prev_c):\n",
    "        stack = torch.cat((x, prev_h), 1)\n",
    "        \n",
    "        f = self.S_f(self.W_f(stack))\n",
    "        i = self.S_i(self.W_i(stack))\n",
    "        g = self.T_g(self.W_g(stack))\n",
    "        o = self.S_o(self.W_o(stack))\n",
    "        \n",
    "        c = f*prev_c + i*g\n",
    "        h = o*self.T_c(prev_c)\n",
    "        \n",
    "        output = self.output(h)\n",
    "        \n",
    "        return output, h, c\n",
    "        "
   ]
  },
  {
   "cell_type": "code",
   "execution_count": 6,
   "metadata": {},
   "outputs": [],
   "source": [
    "ds = WordDataSet(sentence=sentence)\n",
    "lstm = LSTM(ds.size(),5)\n",
    "criterion = nn.CrossEntropyLoss()\n",
    "e_cnt     = 1000\n",
    "optim     = SGD(lstm.parameters(), lr = 0.05)\n",
    "\n",
    "lr_lambda = lambda epoch : 0.99**(epoch/10)\n",
    "scheduler = torch.optim.lr_scheduler.LambdaLR(optimizer=optim, lr_lambda=lr_lambda)"
   ]
  },
  {
   "cell_type": "markdown",
   "metadata": {},
   "source": [
    "# Обучение"
   ]
  },
  {
   "cell_type": "code",
   "execution_count": 7,
   "metadata": {
    "scrolled": false
   },
   "outputs": [
    {
     "name": "stdout",
     "output_type": "stream",
     "text": [
      "286.0835266113281\n",
      "276.5696105957031\n",
      "257.2555847167969\n",
      "210.14503479003906\n",
      "149.62301635742188\n",
      "115.86869049072266\n",
      "91.32355499267578\n",
      "77.24639129638672\n",
      "67.78730773925781\n",
      "59.48353576660156\n",
      "53.86800765991211\n",
      "48.780250549316406\n",
      "45.63456344604492\n",
      "41.672706604003906\n",
      "38.97775650024414\n",
      "36.38735580444336\n",
      "34.295166015625\n",
      "32.41567611694336\n",
      "30.733882904052734\n",
      "29.14373207092285\n",
      "27.692644119262695\n",
      "26.43338394165039\n",
      "25.40239715576172\n",
      "24.276599884033203\n",
      "23.25018310546875\n",
      "22.361509323120117\n",
      "21.656862258911133\n",
      "20.880945205688477\n",
      "20.193389892578125\n",
      "19.586135864257812\n",
      "19.029150009155273\n",
      "18.515949249267578\n",
      "18.04141616821289\n",
      "17.600807189941406\n",
      "17.189987182617188\n",
      "16.805889129638672\n",
      "16.446002960205078\n",
      "16.108152389526367\n",
      "15.790385246276855\n",
      "15.49095630645752\n"
     ]
    }
   ],
   "source": [
    "losses = []\n",
    "for epoch in range(e_cnt):\n",
    "    scheduler.step()\n",
    "    h = Variable( torch.zeros(5) ).unsqueeze(0)\n",
    "    c = Variable( torch.zeros(5) ).unsqueeze(0)\n",
    "    loss = 0\n",
    "    optim.zero_grad()\n",
    "    for sample, next_sample in ds:\n",
    "        x = Variable(  ds.get_one_hot(sample) ).unsqueeze(0)\n",
    "        target =  Variable(torch.LongTensor([next_sample]) )\n",
    "\n",
    "        y, h, c = lstm(x, h, c)\n",
    "        \n",
    "        loss += criterion(y, target)\n",
    "     \n",
    "    if epoch % 25 == 0:\n",
    "        print (loss.data[0])\n",
    "        \n",
    "    loss.backward()\n",
    "    losses.append(loss.data[0])\n",
    "    optim.step()"
   ]
  },
  {
   "cell_type": "code",
   "execution_count": 22,
   "metadata": {},
   "outputs": [
    {
     "data": {
      "image/png": "[encoded data removed]",
      "text/plain": [
       "<Figure size 1440x720 with 1 Axes>"
      ]
     },
     "metadata": {},
     "output_type": "display_data"
    }
   ],
   "source": [
    "fig = plt.figure(figsize=(20,10))\n",
    "\n",
    "ax = fig.gca()\n",
    "ax.set_xticks(np.arange(0, 1100, 100))\n",
    "ax.set_yticks(np.arange(0, 5, 0.25))\n",
    "plt.plot(np.array(losses)/ds.size())\n",
    "plt.grid()\n",
    "\n",
    "plt.xlabel(\"Epoch number\")\n",
    "plt.ylabel(\"Cross Entropy Loss\")\n",
    "\n",
    "plt.savefig(\"Cross_Entropy_Loss.png\")"
   ]
  },
  {
   "cell_type": "markdown",
   "metadata": {},
   "source": [
    "# Тестирование"
   ]
  },
  {
   "cell_type": "code",
   "execution_count": 185,
   "metadata": {},
   "outputs": [
    {
     "name": "stdout",
     "output_type": "stream",
     "text": [
      "Prediction:  Lorem ipsum dolor sit amet, consectetur adipiscing elit, sed do eiusmod tempor incididunt ut labore et dolore magna aliqua. Ut enim ad minim veniam, quis nostrud exercitation ullamco laboris nisi ut aliquip ex ea commodo consequat. Duis aute irure dolor in reprehenderit in voluptate velit esse cillum dolore eu fugiat nulla pariatur. Excepteur sint occaecat cupidatat non proident, sunt in culpa qui officia deserunt mollit anim id est laborum. \n"
     ]
    },
    {
     "name": "stderr",
     "output_type": "stream",
     "text": [
      "/usr/local/miniconda3/lib/python3.6/site-packages/ipykernel_launcher.py:10: UserWarning: Implicit dimension choice for softmax has been deprecated. Change the call to include dim=X as an argument.\n",
      "  # Remove the CWD from sys.path while we load stuff.\n"
     ]
    }
   ],
   "source": [
    "lstm.eval()\n",
    "h = Variable( torch.zeros(5) ).unsqueeze(0)\n",
    "c = Variable( torch.zeros(5) ).unsqueeze(0)\n",
    "id = 0\n",
    "softmax = nn.Softmax()\n",
    "predsentence = ds.get_char_by_id(id) + ' '\n",
    "for w in range(len(ds)-1):\n",
    "    x = Variable(ds.get_one_hot(id)).unsqueeze(0)\n",
    "    y, h, c = lstm(x, h, c)\n",
    "    y = softmax(y)\n",
    "    m, id = torch.max(y, 1)\n",
    "    id = id.data[0]\n",
    "    predsentence += ds.get_char_by_id(id) + ' '\n",
    "print ('Prediction: ' , predsentence)"
   ]
  },
  {
   "cell_type": "code",
   "execution_count": null,
   "metadata": {},
   "outputs": [],
   "source": []
  }
 ],
 "metadata": {
  "anaconda-cloud": {},
  "kernelspec": {
   "display_name": "Python 3",
   "language": "python",
   "name": "python3"
  },
  "language_info": {
   "codemirror_mode": {
    "name": "ipython",
    "version": 3
   },
   "file_extension": ".py",
   "mimetype": "text/x-python",
   "name": "python",
   "nbconvert_exporter": "python",
   "pygments_lexer": "ipython3",
   "version": "3.6.4"
  }
 },
 "nbformat": 4,
 "nbformat_minor": 2
}
