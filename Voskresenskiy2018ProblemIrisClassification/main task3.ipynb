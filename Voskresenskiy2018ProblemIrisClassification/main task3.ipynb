{
 "cells": [
  {
   "cell_type": "code",
   "execution_count": 1,
   "metadata": {},
   "outputs": [
    {
     "name": "stderr",
     "output_type": "stream",
     "text": [
      "/home/stepan/anaconda3/lib/python3.6/site-packages/h5py/__init__.py:36: FutureWarning: Conversion of the second argument of issubdtype from `float` to `np.floating` is deprecated. In future, it will be treated as `np.float64 == np.dtype(float).type`.\n",
      "  from ._conv import register_converters as _register_converters\n",
      "Using TensorFlow backend.\n"
     ]
    }
   ],
   "source": [
    "import numpy\n",
    "import pandas\n",
    "from keras.models import Sequential\n",
    "from keras.layers import Dense\n",
    "from keras.wrappers.scikit_learn import KerasClassifier\n",
    "from keras.utils import np_utils\n",
    "from sklearn.model_selection import cross_val_score, cross_validate\n",
    "from sklearn.model_selection import KFold\n",
    "from sklearn.preprocessing import LabelEncoder\n",
    "from sklearn.pipeline import Pipeline"
   ]
  },
  {
   "cell_type": "markdown",
   "metadata": {},
   "source": [
    "### Данные:\n",
    "Будем работать с датасетом [The Iris Dataset](http://scikit-learn.org/stable/auto_examples/datasets/plot_iris_dataset.html)."
   ]
  },
  {
   "cell_type": "code",
   "execution_count": 2,
   "metadata": {},
   "outputs": [],
   "source": [
    "from sklearn.datasets import load_iris"
   ]
  },
  {
   "cell_type": "code",
   "execution_count": 3,
   "metadata": {},
   "outputs": [],
   "source": [
    "data = load_iris()"
   ]
  },
  {
   "cell_type": "code",
   "execution_count": 4,
   "metadata": {},
   "outputs": [],
   "source": [
    "X, y = data['data'], data['target']"
   ]
  },
  {
   "cell_type": "code",
   "execution_count": 5,
   "metadata": {},
   "outputs": [],
   "source": [
    "# encode class values as integers\n",
    "encoder = LabelEncoder()\n",
    "encoder.fit(y)\n",
    "encoded_y = encoder.transform(y)\n",
    "# convert integers to dummy variables (i.e. one hot encoded)\n",
    "dummy_y = np_utils.to_categorical(encoded_y)"
   ]
  },
  {
   "cell_type": "markdown",
   "metadata": {},
   "source": [
    "### Задание:\n",
    "Будем решать задачу классификации на 3 класса. В качестве модели используется нейронная сеть с одним скрытым слоем. Ваша задача оценить качество решенения задачи классификации по метрике `accuracy` в зависимости от числа нейронов скрытого слоя. Также оцените дисперсию функции качества в зависимости от числа главных компонент.\n",
    "\n",
    "Нарисуйте график зависимости функции качества и ее дисперсии от числа нейронов скрытого слоя."
   ]
  },
  {
   "cell_type": "code",
   "execution_count": 6,
   "metadata": {},
   "outputs": [],
   "source": [
    "def baseline_model(neurons_number):\n",
    "    \"\"\"\n",
    "    creating model of neural network with input layer (4 input neurons), \n",
    "    hidden layer with neurons_number number of neurons and output layer of 3 neurons\n",
    "    \n",
    "    Parameters\n",
    "    ----------\n",
    "    neurons_number : int\n",
    "        number of neurons in the hidden layer\n",
    "    \"\"\"\n",
    "    # create model\n",
    "    model = Sequential()\n",
    "    model.add(Dense(neurons_number, input_dim=4, activation='relu'))\n",
    "    model.add(Dense(3, activation='softmax'))\n",
    "    # Compile model\n",
    "    model.compile(loss='categorical_crossentropy', optimizer='adam', metrics=['accuracy'])\n",
    "    return model"
   ]
  },
  {
   "cell_type": "code",
   "execution_count": 7,
   "metadata": {},
   "outputs": [],
   "source": [
    "#splitting data for cross validation\n",
    "kfold = KFold(n_splits=10, shuffle=True, random_state=42)"
   ]
  },
  {
   "cell_type": "code",
   "execution_count": 13,
   "metadata": {},
   "outputs": [
    {
     "name": "stdout",
     "output_type": "stream",
     "text": [
      "[ 10  20  30  40  50  80 100 120 150 200 250 300]\n",
      "10\n",
      "20\n",
      "30\n",
      "40\n",
      "50\n",
      "80\n",
      "100\n",
      "120\n",
      "150\n",
      "200\n",
      "250\n",
      "300\n"
     ]
    }
   ],
   "source": [
    "#calculating accuracy score and standard deviation score for number of neurons in the hidden layer from 2 to 19\n",
    "import numpy as np\n",
    "#accuracy score for each number of neurons is stored in accuracy\n",
    "accuracy = np.array([])\n",
    "#standard deviation score for each number of neurons is stored in std\n",
    "std = np.array([])\n",
    "error = np.array([])\n",
    "error_std = np.array([])\n",
    "#number_of_neurons = np.arange(2, 5, 1)\n",
    "number_of_epochs = np.array([10, 20, 30, 40, 50, 80, 100, 120, 150, 200, 250, 300])\n",
    "print(number_of_epochs)\n",
    "for i in number_of_epochs:\n",
    "    print(i)\n",
    "    estimator = KerasClassifier(build_fn=baseline_model, neurons_number=6, epochs=int(i), batch_size=5, verbose=0)\n",
    "    results = cross_val_score(estimator, X, dummy_y, cv=kfold)\n",
    "    error = np.append(error, (1 - results).mean() * 100)\n",
    "    error_std = np.append(error_std, (1 - results).std() * 100)\n",
    "    #accuracy = np.append(accuracy, results.mean() * 100)\n",
    "    #std = np.append(std, results.std() * 100)"
   ]
  },
  {
   "cell_type": "code",
   "execution_count": 14,
   "metadata": {},
   "outputs": [],
   "source": [
    "#saving error and error std \n",
    "import pickle \n",
    "data = error, error_std\n",
    "with open('irisclassification_error.pickle', 'wb') as f:\n",
    "    pickle.dump(data, f)\n",
    "\n",
    "with open('irisclassification_error.pickle', 'rb') as f:\n",
    "    error, error_std = pickle.load(f)"
   ]
  },
  {
   "cell_type": "code",
   "execution_count": 18,
   "metadata": {},
   "outputs": [
    {
     "data": {
      "image/png": "[encoded data removed]",
      "text/plain": [
       "<matplotlib.figure.Figure at 0x7f2cf0bbfcc0>"
      ]
     },
     "metadata": {},
     "output_type": "display_data"
    }
   ],
   "source": [
    "#configuring plot\n",
    "from matplotlib import pylab as plt\n",
    "plt.rcParams['font.family'] = 'serif'\n",
    "plt.rcParams['font.serif'] = 'FreeSerif'\n",
    "plt.rcParams['lines.linewidth'] = 2\n",
    "plt.rcParams['lines.markersize'] = 12\n",
    "plt.rcParams['xtick.labelsize'] = 24\n",
    "plt.rcParams['ytick.labelsize'] = 24\n",
    "plt.rcParams['legend.fontsize'] = 24\n",
    "plt.rcParams['axes.titlesize'] = 36\n",
    "plt.rcParams['axes.labelsize'] = 24\n",
    "#plotting a graph of the dependence of the error score on the number of epochs in the iteration procedure\n",
    "plt.plot(number_of_epochs, error, lw=1, c='b')\n",
    "plt.scatter(number_of_epochs, error, s=10, c='r')\n",
    "#plt.yticks(np.arange(85, 100, step=5))\n",
    "#plt.xticks(np.arange(2, 20, step=2))\n",
    "plt.grid()\n",
    "plt.ylabel('error score, %')\n",
    "plt.xlabel('number of epochs in iteration procedure')\n",
    "plt.savefig('error.png', bbox_inches='tight', dpi=600) \n",
    "plt.show()"
   ]
  },
  {
   "cell_type": "code",
   "execution_count": 19,
   "metadata": {},
   "outputs": [
    {
     "data": {
      "image/png": "[encoded data removed]",
      "text/plain": [
       "<matplotlib.figure.Figure at 0x7f2cf0bb4e48>"
      ]
     },
     "metadata": {},
     "output_type": "display_data"
    }
   ],
   "source": [
    "#plotting a graph of the dependence of the error score on the number of epochs in the iteration procedure\n",
    "plt.plot(number_of_epochs, error_std, lw=1, c='b')\n",
    "plt.scatter(number_of_epochs, error_std, s=7, c='r')\n",
    "#plt.yticks(np.arange(0, 25, step=5))\n",
    "#plt.xticks(np.arange(2, 20, step=2))\n",
    "plt.grid()\n",
    "plt.ylabel('error standard deviation score, %')\n",
    "plt.xlabel('number of epochs in iteration procedure')\n",
    "plt.savefig('error_std.png', bbox_inches='tight', dpi=600) \n",
    "plt.show()"
   ]
  },
  {
   "cell_type": "code",
   "execution_count": null,
   "metadata": {},
   "outputs": [],
   "source": []
  },
  {
   "cell_type": "code",
   "execution_count": null,
   "metadata": {},
   "outputs": [],
   "source": []
  }
 ],
 "metadata": {
  "kernelspec": {
   "display_name": "Python 3",
   "language": "python",
   "name": "python3"
  },
  "language_info": {
   "codemirror_mode": {
    "name": "ipython",
    "version": 3
   },
   "file_extension": ".py",
   "mimetype": "text/x-python",
   "name": "python",
   "nbconvert_exporter": "python",
   "pygments_lexer": "ipython3",
   "version": "3.6.4"
  }
 },
 "nbformat": 4,
 "nbformat_minor": 2
}
