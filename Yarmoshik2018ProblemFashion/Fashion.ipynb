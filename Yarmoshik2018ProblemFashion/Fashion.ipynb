{
 "cells": [
  {
   "cell_type": "code",
   "execution_count": 1,
   "metadata": {},
   "outputs": [
    {
     "name": "stderr",
     "output_type": "stream",
     "text": [
      "/usr/local/lib/python3.6/site-packages/h5py/__init__.py:36: FutureWarning: Conversion of the second argument of issubdtype from `float` to `np.floating` is deprecated. In future, it will be treated as `np.float64 == np.dtype(float).type`.\n",
      "  from ._conv import register_converters as _register_converters\n",
      "Using TensorFlow backend.\n"
     ]
    }
   ],
   "source": [
    "import keras\n",
    "import numpy as np\n",
    "import matplotlib.pyplot as plt\n",
    "from skimage import transform\n",
    "from sklearn.metrics import accuracy_score\n",
    "from keras import backend as K"
   ]
  },
  {
   "cell_type": "markdown",
   "metadata": {},
   "source": [
    "### Данные:\n",
    "Будем работать с датасетом [FashionMNIST](https://github.com/zalandoresearch/fashion-mnist). "
   ]
  },
  {
   "cell_type": "code",
   "execution_count": 207,
   "metadata": {},
   "outputs": [],
   "source": [
    "from keras.datasets import fashion_mnist\n",
    "\n",
    "(X_train, y_train), (X_test, y_test) = fashion_mnist.load_data()\n",
    "del y_train, y_test"
   ]
  },
  {
   "cell_type": "code",
   "execution_count": 156,
   "metadata": {},
   "outputs": [
    {
     "data": {
      "text/plain": [
       "<matplotlib.image.AxesImage at 0x7f7b9633c8d0>"
      ]
     },
     "execution_count": 156,
     "metadata": {},
     "output_type": "execute_result"
    },
    {
     "data": {
      "image/png": "[encoded data removed]",
      "text/plain": [
       "<Figure size 432x288 with 1 Axes>"
      ]
     },
     "metadata": {},
     "output_type": "display_data"
    }
   ],
   "source": [
    "plt.imshow(X_train[9].reshape([28,28]))"
   ]
  },
  {
   "cell_type": "code",
   "execution_count": 251,
   "metadata": {},
   "outputs": [
    {
     "data": {
      "text/plain": [
       "<matplotlib.image.AxesImage at 0x7f7b4f710c88>"
      ]
     },
     "execution_count": 251,
     "metadata": {},
     "output_type": "execute_result"
    },
    {
     "data": {
      "image/png": "[encoded data removed]",
      "text/plain": [
       "<Figure size 432x288 with 1 Axes>"
      ]
     },
     "metadata": {},
     "output_type": "display_data"
    }
   ],
   "source": [
    "plt.imshow(transform.rotate(X_train[9].reshape([28,28]), 45))"
   ]
  },
  {
   "cell_type": "markdown",
   "metadata": {},
   "source": [
    "### Задание.\n",
    "Ваша задача - определить, при каком минимальном угле поворота нейронная сеть фиксированной архитектуры перестает различать обычное и повертнутое изображение. Говоря формально, решаем задачу классификации, исходные изображения принадлежат классу `0`, повернутые - классу `1`. Оцените точность классификации по метрике `accuracy` и ее дисперсию в зависимости от угла поворота изображения и отобразите данную зависимость на графике.\n",
    "\n",
    "Функция `rotate_dataset` поворачивает поданный датасет на заданный угол. Функция `reset_weights` сбрасывает параметры модели.\n",
    "\n",
    "*Обращаем ваше внимание, что для качественной оценки данных зависимостей эксперименты для каждого размера выборки стоит повторять многократно на различных случайных подвыборках.*"
   ]
  },
  {
   "cell_type": "code",
   "execution_count": 5,
   "metadata": {},
   "outputs": [],
   "source": [
    "base_indices = np.random.choice(np.arange(X_train.shape[0]), size=500, replace=False)"
   ]
  },
  {
   "cell_type": "markdown",
   "metadata": {},
   "source": [
    "# Важно!\n",
    "В коде примера base_dataset - матрицы целых числел от 0 до 255\n",
    "\n",
    "transform.rotate возвращает матрицу вещественных чисел от 0 до 1\n",
    "\n",
    "imshow рисует их одинаково, но нейросеть без труда различает матрцы, ненулевые элементы которых в среднем различаются на 3 порядка, поэтому в исходном датасете нужно перейти к представлению изображений в вещественных числах"
   ]
  },
  {
   "cell_type": "code",
   "execution_count": 172,
   "metadata": {},
   "outputs": [],
   "source": [
    "#base_dataset = X_train[base_indices].reshape([-1, 28,28]) - wrong!\n",
    "base_dataset = X_train[base_indices].reshape([-1, 28,28]) / 255"
   ]
  },
  {
   "cell_type": "code",
   "execution_count": 173,
   "metadata": {},
   "outputs": [],
   "source": [
    "def rotate_dataset(dataset, angle):\n",
    "    return np.array(list(map(lambda x: transform.rotate(x, angle), dataset)))"
   ]
  },
  {
   "cell_type": "code",
   "execution_count": 174,
   "metadata": {},
   "outputs": [],
   "source": [
    "def get_X_and_y(base_dataset, angle):\n",
    "    rotated_datased = rotate_dataset(base_dataset, angle)\n",
    "    whole_dataset = np.vstack((base_dataset, rotated_datased)).reshape(-1, 784)\n",
    "    shuffled_indices = np.arange(len(whole_dataset))\n",
    "    np.random.shuffle(shuffled_indices)\n",
    "    \n",
    "    _labels = np.zeros(2*base_dataset.shape[0], dtype=bool)\n",
    "    _labels[base_dataset.shape[0]:] = True\n",
    "    _labels = _labels[:, None]\n",
    "    \n",
    "    whole_labels = np.array(np.hstack((_labels, ~_labels)), dtype=int)\n",
    "    \n",
    "    whole_dataset = whole_dataset[shuffled_indices]\n",
    "    whole_labels = whole_labels[shuffled_indices]\n",
    "    \n",
    "    return whole_dataset, whole_labels\n"
   ]
  },
  {
   "cell_type": "code",
   "execution_count": 178,
   "metadata": {},
   "outputs": [],
   "source": [
    "def reset_weights(model):\n",
    "    session = K.get_session()\n",
    "    for layer in model.layers: \n",
    "        if hasattr(layer, 'kernel_initializer'):\n",
    "            layer.kernel.initializer.run(session=session)\n",
    "    return"
   ]
  },
  {
   "cell_type": "code",
   "execution_count": null,
   "metadata": {},
   "outputs": [],
   "source": [
    "batch_size = 128\n",
    "n_epochs = 40\n",
    "\n",
    "def create_nn():\n",
    "    \n",
    "    model = keras.models.Sequential()\n",
    "    model.add(keras.layers.InputLayer([784]))\n",
    "    model.add(keras.layers.Dense(64))\n",
    "    model.add(keras.layers.Activation('relu'))\n",
    "    model.add(keras.layers.Dropout(0.5))\n",
    "    model.add(keras.layers.Dense(2))\n",
    "    model.add(keras.layers.Activation('softmax'))\n",
    "    model.compile('adam', 'categorical_crossentropy', metrics=['accuracy'])\n",
    "    \n",
    "    return model"
   ]
  },
  {
   "cell_type": "code",
   "execution_count": 244,
   "metadata": {},
   "outputs": [],
   "source": [
    "X_test_whole, y_test_whole = get_X_and_y(X_test[np.random.choice(10000, 1000)], angle)\n",
    "def train_and_estimate_accuracy(angle, debug=False):\n",
    "    model = create_nn()\n",
    "    X, y = get_X_and_y(base_dataset, angle)\n",
    "    model.fit(X, y,\n",
    "              batch_size=batch_size,\n",
    "              epochs=n_epochs,\n",
    "              verbose=0)\n",
    "    \n",
    "    #print(\"X shape: \", X.shape)\n",
    "\n",
    "    #y_test_predicted_whole = model.predict_classes(X_test_whole)\n",
    "    \n",
    "    whole_score = accuracy_score(y_test_whole[:, 1], model.predict_classes(X_test_whole) )\n",
    "    ##train_score = accuracy_score(y[:, 1], model.predict_classes(X.reshape([-1, 784])))\n",
    "    if debug:\n",
    "        print (whole_score, train_score)\n",
    "        return (model, X, y)\n",
    "    else:\n",
    "        return whole_score"
   ]
  },
  {
   "cell_type": "markdown",
   "metadata": {},
   "source": [
    "Построим график зависимости accuracy от угла поворота изображений.\n",
    "При повороте на 0 и 360 градусов, как и ожидалось, accuracy около 0.5, \n",
    "кроме этого плохо классифицируятся изображения, повёрнутные на 180 и (почему-то) на $\\approx$ 75 градусов"
   ]
  },
  {
   "cell_type": "code",
   "execution_count": 223,
   "metadata": {},
   "outputs": [
    {
     "name": "stdout",
     "output_type": "stream",
     "text": [
      "CPU times: user 4min 1s, sys: 4.1 s, total: 4min 5s\n",
      "Wall time: 3min 26s\n"
     ]
    },
    {
     "data": {
      "image/png": "[encoded data removed]",
      "text/plain": [
       "<Figure size 432x288 with 1 Axes>"
      ]
     },
     "metadata": {},
     "output_type": "display_data"
    }
   ],
   "source": [
    "%%time\n",
    "angles = np.linspace(0, 360, 30)\n",
    "acc_wide_range = [train_and_estimate_accuracy(angle) for angle in angles]\n",
    "plt.plot(angles, acc_wide_range)"
   ]
  },
  {
   "cell_type": "markdown",
   "metadata": {},
   "source": [
    "Построим более подробный график области около 0 градусов"
   ]
  },
  {
   "cell_type": "code",
   "execution_count": 265,
   "metadata": {},
   "outputs": [
    {
     "name": "stdout",
     "output_type": "stream",
     "text": [
      "CPU times: user 15min 15s, sys: 7.65 s, total: 15min 22s\n",
      "Wall time: 14min 22s\n"
     ]
    }
   ],
   "source": [
    "%%time\n",
    "angles = np.linspace(0, 20, 10)\n",
    "n_repetitions = 5\n",
    "results = [[train_and_estimate_accuracy(angle) for _ in range(n_repetitions)] for angle in angles]"
   ]
  },
  {
   "cell_type": "code",
   "execution_count": 280,
   "metadata": {},
   "outputs": [],
   "source": [
    "acc_around_zero = np.mean(results, axis=1)\n",
    "std = np.std(results, axis=1)"
   ]
  },
  {
   "cell_type": "code",
   "execution_count": 317,
   "metadata": {},
   "outputs": [
    {
     "data": {
      "text/plain": [
       "Text(0,0.5,'Accuracy')"
      ]
     },
     "execution_count": 317,
     "metadata": {},
     "output_type": "execute_result"
    },
    {
     "data": {
      "image/png": "[encoded data removed]",
      "text/plain": [
       "<Figure size 1000x600 with 1 Axes>"
      ]
     },
     "metadata": {},
     "output_type": "display_data"
    }
   ],
   "source": [
    "plt.figure(figsize = (10,6))\n",
    "plt.plot(angles, acc_around_zero, linewidth=2)\n",
    "plt.errorbar(angles, acc_around_zero, std, fmt='none', color=\"red\", elinewidth=1, uplims=True, lolims=True)\n",
    "plt.xlabel(\"Rotate angle\", {\"fontsize\":\"x-large\"})\n",
    "plt.ylabel(\"Accuracy\", {\"fontsize\":\"x-large\"})"
   ]
  },
  {
   "cell_type": "markdown",
   "metadata": {},
   "source": [
    "Резкое уменьшение accuracy начинается при уменьшении угла поворота примерно до 5 градусов,\n",
    "при примерно 2 градусах модель становится непригодной для распознавания"
   ]
  },
  {
   "cell_type": "code",
   "execution_count": null,
   "metadata": {},
   "outputs": [],
   "source": []
  }
 ],
 "metadata": {
  "kernelspec": {
   "display_name": "Python 3",
   "language": "python",
   "name": "python3"
  },
  "language_info": {
   "codemirror_mode": {
    "name": "ipython",
    "version": 3
   },
   "file_extension": ".py",
   "mimetype": "text/x-python",
   "name": "python",
   "nbconvert_exporter": "python",
   "pygments_lexer": "ipython3",
   "version": "3.6.4"
  }
 },
 "nbformat": 4,
 "nbformat_minor": 2
}
